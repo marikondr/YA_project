{
 "cells": [
  {
   "cell_type": "markdown",
   "metadata": {},
   "source": [
    "# Выбор локации для скважины"
   ]
  },
  {
   "cell_type": "markdown",
   "metadata": {},
   "source": [
    "Допустим, вы работаете в добывающей компании «ГлавРосГосНефть». Нужно решить, где бурить новую скважину.\n",
    "\n",
    "Вам предоставлены пробы нефти в трёх регионах: в каждом 10 000 месторождений, где измерили качество нефти и объём её запасов. Постройте модель машинного обучения, которая поможет определить регион, где добыча принесёт наибольшую прибыль. Проанализируйте возможную прибыль и риски техникой *Bootstrap.*\n",
    "\n",
    "Шаги для выбора локации:\n",
    "\n",
    "- В избранном регионе ищут месторождения, для каждого определяют значения признаков;\n",
    "- Строят модель и оценивают объём запасов;\n",
    "- Выбирают месторождения с самым высокими оценками значений. Количество месторождений зависит от бюджета компании и стоимости разработки одной скважины;\n",
    "- Прибыль равна суммарной прибыли отобранных месторождений."
   ]
  },
  {
   "cell_type": "markdown",
   "metadata": {},
   "source": [
    "## Загрузка и подготовка данных"
   ]
  },
  {
   "cell_type": "markdown",
   "metadata": {},
   "source": [
    "Импорт необходимых библиотек."
   ]
  },
  {
   "cell_type": "code",
   "execution_count": 1,
   "metadata": {},
   "outputs": [],
   "source": [
    "import matplotlib.pyplot as plt\n",
    "import numpy as np\n",
    "import pandas as pd\n",
    "from sklearn.model_selection import train_test_split\n",
    "from sklearn.linear_model import LinearRegression\n",
    "from sklearn.metrics import mean_squared_error\n",
    "from sklearn.preprocessing import StandardScaler\n",
    "import warnings\n",
    "warnings.filterwarnings('ignore')"
   ]
  },
  {
   "cell_type": "markdown",
   "metadata": {},
   "source": [
    "Вывод таблиц на экран для ознакомления. "
   ]
  },
  {
   "cell_type": "markdown",
   "metadata": {},
   "source": [
    "### 1 регион"
   ]
  },
  {
   "cell_type": "code",
   "execution_count": 2,
   "metadata": {},
   "outputs": [
    {
     "data": {
      "text/html": [
       "<div>\n",
       "<style scoped>\n",
       "    .dataframe tbody tr th:only-of-type {\n",
       "        vertical-align: middle;\n",
       "    }\n",
       "\n",
       "    .dataframe tbody tr th {\n",
       "        vertical-align: top;\n",
       "    }\n",
       "\n",
       "    .dataframe thead th {\n",
       "        text-align: right;\n",
       "    }\n",
       "</style>\n",
       "<table border=\"1\" class=\"dataframe\">\n",
       "  <thead>\n",
       "    <tr style=\"text-align: right;\">\n",
       "      <th></th>\n",
       "      <th>id</th>\n",
       "      <th>f0</th>\n",
       "      <th>f1</th>\n",
       "      <th>f2</th>\n",
       "      <th>product</th>\n",
       "    </tr>\n",
       "  </thead>\n",
       "  <tbody>\n",
       "    <tr>\n",
       "      <th>0</th>\n",
       "      <td>txEyH</td>\n",
       "      <td>0.705745</td>\n",
       "      <td>-0.497823</td>\n",
       "      <td>1.221170</td>\n",
       "      <td>105.280062</td>\n",
       "    </tr>\n",
       "    <tr>\n",
       "      <th>1</th>\n",
       "      <td>2acmU</td>\n",
       "      <td>1.334711</td>\n",
       "      <td>-0.340164</td>\n",
       "      <td>4.365080</td>\n",
       "      <td>73.037750</td>\n",
       "    </tr>\n",
       "    <tr>\n",
       "      <th>2</th>\n",
       "      <td>409Wp</td>\n",
       "      <td>1.022732</td>\n",
       "      <td>0.151990</td>\n",
       "      <td>1.419926</td>\n",
       "      <td>85.265647</td>\n",
       "    </tr>\n",
       "    <tr>\n",
       "      <th>3</th>\n",
       "      <td>iJLyR</td>\n",
       "      <td>-0.032172</td>\n",
       "      <td>0.139033</td>\n",
       "      <td>2.978566</td>\n",
       "      <td>168.620776</td>\n",
       "    </tr>\n",
       "    <tr>\n",
       "      <th>4</th>\n",
       "      <td>Xdl7t</td>\n",
       "      <td>1.988431</td>\n",
       "      <td>0.155413</td>\n",
       "      <td>4.751769</td>\n",
       "      <td>154.036647</td>\n",
       "    </tr>\n",
       "    <tr>\n",
       "      <th>5</th>\n",
       "      <td>wX4Hy</td>\n",
       "      <td>0.969570</td>\n",
       "      <td>0.489775</td>\n",
       "      <td>-0.735383</td>\n",
       "      <td>64.741541</td>\n",
       "    </tr>\n",
       "    <tr>\n",
       "      <th>6</th>\n",
       "      <td>tL6pL</td>\n",
       "      <td>0.645075</td>\n",
       "      <td>0.530656</td>\n",
       "      <td>1.780266</td>\n",
       "      <td>49.055285</td>\n",
       "    </tr>\n",
       "    <tr>\n",
       "      <th>7</th>\n",
       "      <td>BYPU6</td>\n",
       "      <td>-0.400648</td>\n",
       "      <td>0.808337</td>\n",
       "      <td>-5.624670</td>\n",
       "      <td>72.943292</td>\n",
       "    </tr>\n",
       "    <tr>\n",
       "      <th>8</th>\n",
       "      <td>j9Oui</td>\n",
       "      <td>0.643105</td>\n",
       "      <td>-0.551583</td>\n",
       "      <td>2.372141</td>\n",
       "      <td>113.356160</td>\n",
       "    </tr>\n",
       "    <tr>\n",
       "      <th>9</th>\n",
       "      <td>OLuZU</td>\n",
       "      <td>2.173381</td>\n",
       "      <td>0.563698</td>\n",
       "      <td>9.441852</td>\n",
       "      <td>127.910945</td>\n",
       "    </tr>\n",
       "  </tbody>\n",
       "</table>\n",
       "</div>"
      ],
      "text/plain": [
       "      id        f0        f1        f2     product\n",
       "0  txEyH  0.705745 -0.497823  1.221170  105.280062\n",
       "1  2acmU  1.334711 -0.340164  4.365080   73.037750\n",
       "2  409Wp  1.022732  0.151990  1.419926   85.265647\n",
       "3  iJLyR -0.032172  0.139033  2.978566  168.620776\n",
       "4  Xdl7t  1.988431  0.155413  4.751769  154.036647\n",
       "5  wX4Hy  0.969570  0.489775 -0.735383   64.741541\n",
       "6  tL6pL  0.645075  0.530656  1.780266   49.055285\n",
       "7  BYPU6 -0.400648  0.808337 -5.624670   72.943292\n",
       "8  j9Oui  0.643105 -0.551583  2.372141  113.356160\n",
       "9  OLuZU  2.173381  0.563698  9.441852  127.910945"
      ]
     },
     "metadata": {},
     "output_type": "display_data"
    },
    {
     "name": "stdout",
     "output_type": "stream",
     "text": [
      "<class 'pandas.core.frame.DataFrame'>\n",
      "RangeIndex: 100000 entries, 0 to 99999\n",
      "Data columns (total 5 columns):\n",
      " #   Column   Non-Null Count   Dtype  \n",
      "---  ------   --------------   -----  \n",
      " 0   id       100000 non-null  object \n",
      " 1   f0       100000 non-null  float64\n",
      " 2   f1       100000 non-null  float64\n",
      " 3   f2       100000 non-null  float64\n",
      " 4   product  100000 non-null  float64\n",
      "dtypes: float64(4), object(1)\n",
      "memory usage: 3.8+ MB\n"
     ]
    },
    {
     "data": {
      "text/plain": [
       "None"
      ]
     },
     "metadata": {},
     "output_type": "display_data"
    }
   ],
   "source": [
    "try:  \n",
    "    data_0 = pd.read_csv('C:/geo_data_0.csv')\n",
    "except OSError as e:\n",
    "    data_0 = pd.read_csv('/datasets/geo_data_0.csv')\n",
    "display(data_0.head(10))\n",
    "display(data_0.info())"
   ]
  },
  {
   "cell_type": "markdown",
   "metadata": {},
   "source": [
    "### 2 регион"
   ]
  },
  {
   "cell_type": "code",
   "execution_count": 3,
   "metadata": {},
   "outputs": [
    {
     "data": {
      "text/html": [
       "<div>\n",
       "<style scoped>\n",
       "    .dataframe tbody tr th:only-of-type {\n",
       "        vertical-align: middle;\n",
       "    }\n",
       "\n",
       "    .dataframe tbody tr th {\n",
       "        vertical-align: top;\n",
       "    }\n",
       "\n",
       "    .dataframe thead th {\n",
       "        text-align: right;\n",
       "    }\n",
       "</style>\n",
       "<table border=\"1\" class=\"dataframe\">\n",
       "  <thead>\n",
       "    <tr style=\"text-align: right;\">\n",
       "      <th></th>\n",
       "      <th>id</th>\n",
       "      <th>f0</th>\n",
       "      <th>f1</th>\n",
       "      <th>f2</th>\n",
       "      <th>product</th>\n",
       "    </tr>\n",
       "  </thead>\n",
       "  <tbody>\n",
       "    <tr>\n",
       "      <th>0</th>\n",
       "      <td>kBEdx</td>\n",
       "      <td>-15.001348</td>\n",
       "      <td>-8.276000</td>\n",
       "      <td>-0.005876</td>\n",
       "      <td>3.179103</td>\n",
       "    </tr>\n",
       "    <tr>\n",
       "      <th>1</th>\n",
       "      <td>62mP7</td>\n",
       "      <td>14.272088</td>\n",
       "      <td>-3.475083</td>\n",
       "      <td>0.999183</td>\n",
       "      <td>26.953261</td>\n",
       "    </tr>\n",
       "    <tr>\n",
       "      <th>2</th>\n",
       "      <td>vyE1P</td>\n",
       "      <td>6.263187</td>\n",
       "      <td>-5.948386</td>\n",
       "      <td>5.001160</td>\n",
       "      <td>134.766305</td>\n",
       "    </tr>\n",
       "    <tr>\n",
       "      <th>3</th>\n",
       "      <td>KcrkZ</td>\n",
       "      <td>-13.081196</td>\n",
       "      <td>-11.506057</td>\n",
       "      <td>4.999415</td>\n",
       "      <td>137.945408</td>\n",
       "    </tr>\n",
       "    <tr>\n",
       "      <th>4</th>\n",
       "      <td>AHL4O</td>\n",
       "      <td>12.702195</td>\n",
       "      <td>-8.147433</td>\n",
       "      <td>5.004363</td>\n",
       "      <td>134.766305</td>\n",
       "    </tr>\n",
       "    <tr>\n",
       "      <th>5</th>\n",
       "      <td>HHckp</td>\n",
       "      <td>-3.327590</td>\n",
       "      <td>-2.205276</td>\n",
       "      <td>3.003647</td>\n",
       "      <td>84.038886</td>\n",
       "    </tr>\n",
       "    <tr>\n",
       "      <th>6</th>\n",
       "      <td>h5Ujo</td>\n",
       "      <td>-11.142655</td>\n",
       "      <td>-10.133399</td>\n",
       "      <td>4.002382</td>\n",
       "      <td>110.992147</td>\n",
       "    </tr>\n",
       "    <tr>\n",
       "      <th>7</th>\n",
       "      <td>muH9x</td>\n",
       "      <td>4.234715</td>\n",
       "      <td>-0.001354</td>\n",
       "      <td>2.004588</td>\n",
       "      <td>53.906522</td>\n",
       "    </tr>\n",
       "    <tr>\n",
       "      <th>8</th>\n",
       "      <td>YiRkx</td>\n",
       "      <td>13.355129</td>\n",
       "      <td>-0.332068</td>\n",
       "      <td>4.998647</td>\n",
       "      <td>134.766305</td>\n",
       "    </tr>\n",
       "    <tr>\n",
       "      <th>9</th>\n",
       "      <td>jG6Gi</td>\n",
       "      <td>1.069227</td>\n",
       "      <td>-11.025667</td>\n",
       "      <td>4.997844</td>\n",
       "      <td>137.945408</td>\n",
       "    </tr>\n",
       "  </tbody>\n",
       "</table>\n",
       "</div>"
      ],
      "text/plain": [
       "      id         f0         f1        f2     product\n",
       "0  kBEdx -15.001348  -8.276000 -0.005876    3.179103\n",
       "1  62mP7  14.272088  -3.475083  0.999183   26.953261\n",
       "2  vyE1P   6.263187  -5.948386  5.001160  134.766305\n",
       "3  KcrkZ -13.081196 -11.506057  4.999415  137.945408\n",
       "4  AHL4O  12.702195  -8.147433  5.004363  134.766305\n",
       "5  HHckp  -3.327590  -2.205276  3.003647   84.038886\n",
       "6  h5Ujo -11.142655 -10.133399  4.002382  110.992147\n",
       "7  muH9x   4.234715  -0.001354  2.004588   53.906522\n",
       "8  YiRkx  13.355129  -0.332068  4.998647  134.766305\n",
       "9  jG6Gi   1.069227 -11.025667  4.997844  137.945408"
      ]
     },
     "metadata": {},
     "output_type": "display_data"
    },
    {
     "name": "stdout",
     "output_type": "stream",
     "text": [
      "<class 'pandas.core.frame.DataFrame'>\n",
      "RangeIndex: 100000 entries, 0 to 99999\n",
      "Data columns (total 5 columns):\n",
      " #   Column   Non-Null Count   Dtype  \n",
      "---  ------   --------------   -----  \n",
      " 0   id       100000 non-null  object \n",
      " 1   f0       100000 non-null  float64\n",
      " 2   f1       100000 non-null  float64\n",
      " 3   f2       100000 non-null  float64\n",
      " 4   product  100000 non-null  float64\n",
      "dtypes: float64(4), object(1)\n",
      "memory usage: 3.8+ MB\n"
     ]
    },
    {
     "data": {
      "text/plain": [
       "None"
      ]
     },
     "metadata": {},
     "output_type": "display_data"
    }
   ],
   "source": [
    "try:  \n",
    "    data_1 = pd.read_csv('C:/geo_data_1.csv')\n",
    "except OSError as e:\n",
    "    data_1 = pd.read_csv('/datasets/geo_data_1.csv')\n",
    "display(data_1.head(10))\n",
    "display(data_1.info())"
   ]
  },
  {
   "cell_type": "markdown",
   "metadata": {},
   "source": [
    "### 3 регион"
   ]
  },
  {
   "cell_type": "code",
   "execution_count": 4,
   "metadata": {},
   "outputs": [
    {
     "data": {
      "text/html": [
       "<div>\n",
       "<style scoped>\n",
       "    .dataframe tbody tr th:only-of-type {\n",
       "        vertical-align: middle;\n",
       "    }\n",
       "\n",
       "    .dataframe tbody tr th {\n",
       "        vertical-align: top;\n",
       "    }\n",
       "\n",
       "    .dataframe thead th {\n",
       "        text-align: right;\n",
       "    }\n",
       "</style>\n",
       "<table border=\"1\" class=\"dataframe\">\n",
       "  <thead>\n",
       "    <tr style=\"text-align: right;\">\n",
       "      <th></th>\n",
       "      <th>id</th>\n",
       "      <th>f0</th>\n",
       "      <th>f1</th>\n",
       "      <th>f2</th>\n",
       "      <th>product</th>\n",
       "    </tr>\n",
       "  </thead>\n",
       "  <tbody>\n",
       "    <tr>\n",
       "      <th>0</th>\n",
       "      <td>fwXo0</td>\n",
       "      <td>-1.146987</td>\n",
       "      <td>0.963328</td>\n",
       "      <td>-0.828965</td>\n",
       "      <td>27.758673</td>\n",
       "    </tr>\n",
       "    <tr>\n",
       "      <th>1</th>\n",
       "      <td>WJtFt</td>\n",
       "      <td>0.262778</td>\n",
       "      <td>0.269839</td>\n",
       "      <td>-2.530187</td>\n",
       "      <td>56.069697</td>\n",
       "    </tr>\n",
       "    <tr>\n",
       "      <th>2</th>\n",
       "      <td>ovLUW</td>\n",
       "      <td>0.194587</td>\n",
       "      <td>0.289035</td>\n",
       "      <td>-5.586433</td>\n",
       "      <td>62.871910</td>\n",
       "    </tr>\n",
       "    <tr>\n",
       "      <th>3</th>\n",
       "      <td>q6cA6</td>\n",
       "      <td>2.236060</td>\n",
       "      <td>-0.553760</td>\n",
       "      <td>0.930038</td>\n",
       "      <td>114.572842</td>\n",
       "    </tr>\n",
       "    <tr>\n",
       "      <th>4</th>\n",
       "      <td>WPMUX</td>\n",
       "      <td>-0.515993</td>\n",
       "      <td>1.716266</td>\n",
       "      <td>5.899011</td>\n",
       "      <td>149.600746</td>\n",
       "    </tr>\n",
       "    <tr>\n",
       "      <th>5</th>\n",
       "      <td>LzZXx</td>\n",
       "      <td>-0.758092</td>\n",
       "      <td>0.710691</td>\n",
       "      <td>2.585887</td>\n",
       "      <td>90.222465</td>\n",
       "    </tr>\n",
       "    <tr>\n",
       "      <th>6</th>\n",
       "      <td>WBHRv</td>\n",
       "      <td>-0.574891</td>\n",
       "      <td>0.317727</td>\n",
       "      <td>1.773745</td>\n",
       "      <td>45.641478</td>\n",
       "    </tr>\n",
       "    <tr>\n",
       "      <th>7</th>\n",
       "      <td>XO8fn</td>\n",
       "      <td>-1.906649</td>\n",
       "      <td>-2.458350</td>\n",
       "      <td>-0.177097</td>\n",
       "      <td>72.480640</td>\n",
       "    </tr>\n",
       "    <tr>\n",
       "      <th>8</th>\n",
       "      <td>ybmQ5</td>\n",
       "      <td>1.776292</td>\n",
       "      <td>-0.279356</td>\n",
       "      <td>3.004156</td>\n",
       "      <td>106.616832</td>\n",
       "    </tr>\n",
       "    <tr>\n",
       "      <th>9</th>\n",
       "      <td>OilcN</td>\n",
       "      <td>-1.214452</td>\n",
       "      <td>-0.439314</td>\n",
       "      <td>5.922514</td>\n",
       "      <td>52.954532</td>\n",
       "    </tr>\n",
       "  </tbody>\n",
       "</table>\n",
       "</div>"
      ],
      "text/plain": [
       "      id        f0        f1        f2     product\n",
       "0  fwXo0 -1.146987  0.963328 -0.828965   27.758673\n",
       "1  WJtFt  0.262778  0.269839 -2.530187   56.069697\n",
       "2  ovLUW  0.194587  0.289035 -5.586433   62.871910\n",
       "3  q6cA6  2.236060 -0.553760  0.930038  114.572842\n",
       "4  WPMUX -0.515993  1.716266  5.899011  149.600746\n",
       "5  LzZXx -0.758092  0.710691  2.585887   90.222465\n",
       "6  WBHRv -0.574891  0.317727  1.773745   45.641478\n",
       "7  XO8fn -1.906649 -2.458350 -0.177097   72.480640\n",
       "8  ybmQ5  1.776292 -0.279356  3.004156  106.616832\n",
       "9  OilcN -1.214452 -0.439314  5.922514   52.954532"
      ]
     },
     "metadata": {},
     "output_type": "display_data"
    },
    {
     "name": "stdout",
     "output_type": "stream",
     "text": [
      "<class 'pandas.core.frame.DataFrame'>\n",
      "RangeIndex: 100000 entries, 0 to 99999\n",
      "Data columns (total 5 columns):\n",
      " #   Column   Non-Null Count   Dtype  \n",
      "---  ------   --------------   -----  \n",
      " 0   id       100000 non-null  object \n",
      " 1   f0       100000 non-null  float64\n",
      " 2   f1       100000 non-null  float64\n",
      " 3   f2       100000 non-null  float64\n",
      " 4   product  100000 non-null  float64\n",
      "dtypes: float64(4), object(1)\n",
      "memory usage: 3.8+ MB\n"
     ]
    },
    {
     "data": {
      "text/plain": [
       "None"
      ]
     },
     "metadata": {},
     "output_type": "display_data"
    }
   ],
   "source": [
    "try:  \n",
    "    data_2 = pd.read_csv('C:/geo_data_2.csv')\n",
    "except OSError as e:\n",
    "    data_2 = pd.read_csv('/datasets/geo_data_2.csv')\n",
    "display(data_2.head(10))\n",
    "display(data_2.info())"
   ]
  },
  {
   "cell_type": "markdown",
   "metadata": {},
   "source": [
    "Проверка данных на наличие уникальных и некорректных значений."
   ]
  },
  {
   "cell_type": "code",
   "execution_count": 5,
   "metadata": {},
   "outputs": [],
   "source": [
    "def uniq_data(data):\n",
    "    for column in data.columns:\n",
    "        display('Значения столбца', column)\n",
    "        display(data[column].sort_values().unique())"
   ]
  },
  {
   "cell_type": "markdown",
   "metadata": {},
   "source": [
    "**1 регион**"
   ]
  },
  {
   "cell_type": "code",
   "execution_count": 6,
   "metadata": {},
   "outputs": [
    {
     "data": {
      "text/plain": [
       "'Значения столбца'"
      ]
     },
     "metadata": {},
     "output_type": "display_data"
    },
    {
     "data": {
      "text/plain": [
       "'id'"
      ]
     },
     "metadata": {},
     "output_type": "display_data"
    },
    {
     "data": {
      "text/plain": [
       "array(['006OJ', '009eY', '00AfQ', ..., 'zztWK', 'zzyhQ', 'zzzLH'],\n",
       "      dtype=object)"
      ]
     },
     "metadata": {},
     "output_type": "display_data"
    },
    {
     "data": {
      "text/plain": [
       "'Значения столбца'"
      ]
     },
     "metadata": {},
     "output_type": "display_data"
    },
    {
     "data": {
      "text/plain": [
       "'f0'"
      ]
     },
     "metadata": {},
     "output_type": "display_data"
    },
    {
     "data": {
      "text/plain": [
       "array([-1.40860531, -1.35177299, -1.30222711, ...,  2.33375269,\n",
       "        2.33707957,  2.36233081])"
      ]
     },
     "metadata": {},
     "output_type": "display_data"
    },
    {
     "data": {
      "text/plain": [
       "'Значения столбца'"
      ]
     },
     "metadata": {},
     "output_type": "display_data"
    },
    {
     "data": {
      "text/plain": [
       "'f1'"
      ]
     },
     "metadata": {},
     "output_type": "display_data"
    },
    {
     "data": {
      "text/plain": [
       "array([-0.8482185 , -0.84490792, -0.8205609 , ...,  1.33334561,\n",
       "        1.33482762,  1.34376933])"
      ]
     },
     "metadata": {},
     "output_type": "display_data"
    },
    {
     "data": {
      "text/plain": [
       "'Значения столбца'"
      ]
     },
     "metadata": {},
     "output_type": "display_data"
    },
    {
     "data": {
      "text/plain": [
       "'f2'"
      ]
     },
     "metadata": {},
     "output_type": "display_data"
    },
    {
     "data": {
      "text/plain": [
       "array([-12.08832812, -10.13834135, -10.13817115, ...,  15.23032159,\n",
       "        15.42837187,  16.00379001])"
      ]
     },
     "metadata": {},
     "output_type": "display_data"
    },
    {
     "data": {
      "text/plain": [
       "'Значения столбца'"
      ]
     },
     "metadata": {},
     "output_type": "display_data"
    },
    {
     "data": {
      "text/plain": [
       "'product'"
      ]
     },
     "metadata": {},
     "output_type": "display_data"
    },
    {
     "data": {
      "text/plain": [
       "array([0.00000000e+00, 4.02152316e-03, 6.11363631e-03, ...,\n",
       "       1.85355615e+02, 1.85362690e+02, 1.85364347e+02])"
      ]
     },
     "metadata": {},
     "output_type": "display_data"
    }
   ],
   "source": [
    "uniq_data(data_0)"
   ]
  },
  {
   "cell_type": "markdown",
   "metadata": {},
   "source": [
    "Столбец product имеет значение 0. Проверим сколько таких."
   ]
  },
  {
   "cell_type": "code",
   "execution_count": 7,
   "metadata": {},
   "outputs": [
    {
     "data": {
      "text/plain": [
       "1"
      ]
     },
     "execution_count": 7,
     "metadata": {},
     "output_type": "execute_result"
    }
   ],
   "source": [
    "data_0[data_0['product'] == 0]['product'].count()"
   ]
  },
  {
   "cell_type": "markdown",
   "metadata": {},
   "source": [
    "**2 регион**"
   ]
  },
  {
   "cell_type": "code",
   "execution_count": 8,
   "metadata": {},
   "outputs": [
    {
     "data": {
      "text/plain": [
       "'Значения столбца'"
      ]
     },
     "metadata": {},
     "output_type": "display_data"
    },
    {
     "data": {
      "text/plain": [
       "'id'"
      ]
     },
     "metadata": {},
     "output_type": "display_data"
    },
    {
     "data": {
      "text/plain": [
       "array(['0022J', '003Gl', '003Vx', ..., 'zzv4E', 'zzy2c', 'zzzvI'],\n",
       "      dtype=object)"
      ]
     },
     "metadata": {},
     "output_type": "display_data"
    },
    {
     "data": {
      "text/plain": [
       "'Значения столбца'"
      ]
     },
     "metadata": {},
     "output_type": "display_data"
    },
    {
     "data": {
      "text/plain": [
       "'f0'"
      ]
     },
     "metadata": {},
     "output_type": "display_data"
    },
    {
     "data": {
      "text/plain": [
       "array([-31.60957602, -27.82961614, -26.64625507, ...,  28.93082879,\n",
       "        29.25906208,  29.42175461])"
      ]
     },
     "metadata": {},
     "output_type": "display_data"
    },
    {
     "data": {
      "text/plain": [
       "'Значения столбца'"
      ]
     },
     "metadata": {},
     "output_type": "display_data"
    },
    {
     "data": {
      "text/plain": [
       "'f1'"
      ]
     },
     "metadata": {},
     "output_type": "display_data"
    },
    {
     "data": {
      "text/plain": [
       "array([-26.35859801, -25.38962242, -25.2915177 , ...,  16.0268693 ,\n",
       "        16.7371962 ,  18.73406263])"
      ]
     },
     "metadata": {},
     "output_type": "display_data"
    },
    {
     "data": {
      "text/plain": [
       "'Значения столбца'"
      ]
     },
     "metadata": {},
     "output_type": "display_data"
    },
    {
     "data": {
      "text/plain": [
       "'f2'"
      ]
     },
     "metadata": {},
     "output_type": "display_data"
    },
    {
     "data": {
      "text/plain": [
       "array([-0.01814409, -0.01788668, -0.01768626, ...,  5.01750345,\n",
       "        5.01909142,  5.01972056])"
      ]
     },
     "metadata": {},
     "output_type": "display_data"
    },
    {
     "data": {
      "text/plain": [
       "'Значения столбца'"
      ]
     },
     "metadata": {},
     "output_type": "display_data"
    },
    {
     "data": {
      "text/plain": [
       "'product'"
      ]
     },
     "metadata": {},
     "output_type": "display_data"
    },
    {
     "data": {
      "text/plain": [
       "array([  0.        ,   3.17910258,  26.95326103,  30.13236361,\n",
       "        53.90652206,  57.08562465,  80.85978309,  84.03888568,\n",
       "       107.81304413, 110.99214671, 134.76630516, 137.94540774])"
      ]
     },
     "metadata": {},
     "output_type": "display_data"
    }
   ],
   "source": [
    "uniq_data(data_1)"
   ]
  },
  {
   "cell_type": "markdown",
   "metadata": {},
   "source": [
    "Столбец product имеет значение 0. Проверим сколько таких."
   ]
  },
  {
   "cell_type": "code",
   "execution_count": 9,
   "metadata": {},
   "outputs": [
    {
     "data": {
      "text/plain": [
       "8235"
      ]
     },
     "execution_count": 9,
     "metadata": {},
     "output_type": "execute_result"
    }
   ],
   "source": [
    "data_1[data_1['product'] == 0]['product'].count()"
   ]
  },
  {
   "cell_type": "markdown",
   "metadata": {},
   "source": [
    "**3 регион**"
   ]
  },
  {
   "cell_type": "code",
   "execution_count": 10,
   "metadata": {},
   "outputs": [
    {
     "data": {
      "text/plain": [
       "'Значения столбца'"
      ]
     },
     "metadata": {},
     "output_type": "display_data"
    },
    {
     "data": {
      "text/plain": [
       "'id'"
      ]
     },
     "metadata": {},
     "output_type": "display_data"
    },
    {
     "data": {
      "text/plain": [
       "array(['009Gl', '00AuD', '00CaL', ..., 'zzqqy', 'zzsKd', 'zzz9h'],\n",
       "      dtype=object)"
      ]
     },
     "metadata": {},
     "output_type": "display_data"
    },
    {
     "data": {
      "text/plain": [
       "'Значения столбца'"
      ]
     },
     "metadata": {},
     "output_type": "display_data"
    },
    {
     "data": {
      "text/plain": [
       "'f0'"
      ]
     },
     "metadata": {},
     "output_type": "display_data"
    },
    {
     "data": {
      "text/plain": [
       "array([-8.76000362, -7.45058711, -7.18949804, ...,  7.19461485,\n",
       "        7.21552717,  7.23826248])"
      ]
     },
     "metadata": {},
     "output_type": "display_data"
    },
    {
     "data": {
      "text/plain": [
       "'Значения столбца'"
      ]
     },
     "metadata": {},
     "output_type": "display_data"
    },
    {
     "data": {
      "text/plain": [
       "'f1'"
      ]
     },
     "metadata": {},
     "output_type": "display_data"
    },
    {
     "data": {
      "text/plain": [
       "array([-7.08401976, -6.74835677, -6.73299712, ...,  7.10161842,\n",
       "        7.76185714,  7.84480127])"
      ]
     },
     "metadata": {},
     "output_type": "display_data"
    },
    {
     "data": {
      "text/plain": [
       "'Значения столбца'"
      ]
     },
     "metadata": {},
     "output_type": "display_data"
    },
    {
     "data": {
      "text/plain": [
       "'f2'"
      ]
     },
     "metadata": {},
     "output_type": "display_data"
    },
    {
     "data": {
      "text/plain": [
       "array([-11.97033454, -11.61169048, -11.40724351, ...,  16.31301122,\n",
       "        16.35764509,  16.73940206])"
      ]
     },
     "metadata": {},
     "output_type": "display_data"
    },
    {
     "data": {
      "text/plain": [
       "'Значения столбца'"
      ]
     },
     "metadata": {},
     "output_type": "display_data"
    },
    {
     "data": {
      "text/plain": [
       "'product'"
      ]
     },
     "metadata": {},
     "output_type": "display_data"
    },
    {
     "data": {
      "text/plain": [
       "array([0.00000000e+00, 4.60600004e-03, 9.20411196e-03, ...,\n",
       "       1.90011722e+02, 1.90013589e+02, 1.90029838e+02])"
      ]
     },
     "metadata": {},
     "output_type": "display_data"
    }
   ],
   "source": [
    "uniq_data(data_2)"
   ]
  },
  {
   "cell_type": "markdown",
   "metadata": {},
   "source": [
    "Столбец product имеет значение 0. Проверим сколько таких."
   ]
  },
  {
   "cell_type": "code",
   "execution_count": 11,
   "metadata": {},
   "outputs": [
    {
     "data": {
      "text/plain": [
       "1"
      ]
     },
     "execution_count": 11,
     "metadata": {},
     "output_type": "execute_result"
    }
   ],
   "source": [
    "data_2[data_2['product'] == 0]['product'].count()"
   ]
  },
  {
   "cell_type": "markdown",
   "metadata": {},
   "source": [
    "Так как значения столбца id не важны для исследования, удалим его."
   ]
  },
  {
   "cell_type": "code",
   "execution_count": 12,
   "metadata": {},
   "outputs": [],
   "source": [
    "data_0 = data_0.drop(['id'], axis=1)\n",
    "data_1 = data_1.drop(['id'], axis=1)\n",
    "data_2 = data_2.drop(['id'], axis=1)"
   ]
  },
  {
   "cell_type": "markdown",
   "metadata": {},
   "source": [
    "Проверка на анличие и удаление дубликатов."
   ]
  },
  {
   "cell_type": "code",
   "execution_count": 13,
   "metadata": {},
   "outputs": [
    {
     "name": "stdout",
     "output_type": "stream",
     "text": [
      "<class 'pandas.core.frame.DataFrame'>\n",
      "Int64Index: 100000 entries, 0 to 99999\n",
      "Data columns (total 4 columns):\n",
      " #   Column   Non-Null Count   Dtype  \n",
      "---  ------   --------------   -----  \n",
      " 0   f0       100000 non-null  float64\n",
      " 1   f1       100000 non-null  float64\n",
      " 2   f2       100000 non-null  float64\n",
      " 3   product  100000 non-null  float64\n",
      "dtypes: float64(4)\n",
      "memory usage: 3.8 MB\n",
      "<class 'pandas.core.frame.DataFrame'>\n",
      "Int64Index: 100000 entries, 0 to 99999\n",
      "Data columns (total 4 columns):\n",
      " #   Column   Non-Null Count   Dtype  \n",
      "---  ------   --------------   -----  \n",
      " 0   f0       100000 non-null  float64\n",
      " 1   f1       100000 non-null  float64\n",
      " 2   f2       100000 non-null  float64\n",
      " 3   product  100000 non-null  float64\n",
      "dtypes: float64(4)\n",
      "memory usage: 3.8 MB\n",
      "<class 'pandas.core.frame.DataFrame'>\n",
      "Int64Index: 100000 entries, 0 to 99999\n",
      "Data columns (total 4 columns):\n",
      " #   Column   Non-Null Count   Dtype  \n",
      "---  ------   --------------   -----  \n",
      " 0   f0       100000 non-null  float64\n",
      " 1   f1       100000 non-null  float64\n",
      " 2   f2       100000 non-null  float64\n",
      " 3   product  100000 non-null  float64\n",
      "dtypes: float64(4)\n",
      "memory usage: 3.8 MB\n"
     ]
    }
   ],
   "source": [
    "data_0 = data_0.drop_duplicates()\n",
    "data_1 = data_1.drop_duplicates()\n",
    "data_2 = data_2.drop_duplicates()\n",
    "data_0.info()\n",
    "data_1.info()\n",
    "data_2.info()"
   ]
  },
  {
   "cell_type": "markdown",
   "metadata": {},
   "source": [
    "Для визуализации кол-ва продукта в скважинах посмтроим гистограмму."
   ]
  },
  {
   "cell_type": "code",
   "execution_count": 14,
   "metadata": {},
   "outputs": [],
   "source": [
    "def hist(data):\n",
    "    plt.figure(figsize=[15,10])\n",
    "\n",
    "    plt.hist(data, bins=200)\n",
    "\n",
    "    plt.xlim([0,180])\n",
    "    plt.ylim([0,850])\n",
    "\n",
    "    plt.xlabel(\"Объём запасов продукта в скважине, тыс. барелей\")\n",
    "    plt.ylabel(\"Количество скважин, шт\")\n",
    "\n",
    "    plt.title(\"Гистограмма распределения продукта в скважинах\")\n",
    "    plt.show()"
   ]
  },
  {
   "cell_type": "code",
   "execution_count": 15,
   "metadata": {},
   "outputs": [
    {
     "data": {
      "image/png": "[encoded data removed]",
      "text/plain": [
       "<Figure size 1080x720 with 1 Axes>"
      ]
     },
     "metadata": {
      "needs_background": "light"
     },
     "output_type": "display_data"
    }
   ],
   "source": [
    "hist(data_0['product'])"
   ]
  },
  {
   "cell_type": "code",
   "execution_count": 16,
   "metadata": {},
   "outputs": [
    {
     "data": {
      "image/png": "[encoded data removed]",
      "text/plain": [
       "<Figure size 1080x720 with 1 Axes>"
      ]
     },
     "metadata": {
      "needs_background": "light"
     },
     "output_type": "display_data"
    }
   ],
   "source": [
    "hist(data_1['product'])"
   ]
  },
  {
   "cell_type": "code",
   "execution_count": 17,
   "metadata": {},
   "outputs": [
    {
     "data": {
      "image/png": "[encoded data removed]",
      "text/plain": [
       "<Figure size 1080x720 with 1 Axes>"
      ]
     },
     "metadata": {
      "needs_background": "light"
     },
     "output_type": "display_data"
    }
   ],
   "source": [
    "hist(data_2['product'])"
   ]
  },
  {
   "cell_type": "markdown",
   "metadata": {},
   "source": [
    "### Вывод"
   ]
  },
  {
   "cell_type": "markdown",
   "metadata": {},
   "source": [
    "Данные изучены и подготовленны к исследованию.\n",
    "<br>\n",
    "В столбце `product` имеются нули, скорее всего это говорит о об отсутствии продукта в конкретной скважине.\n",
    "<br>\n",
    "Гистограмма данных data_1 говорит о том, что вероятно данные подогнаны искуственно, т.к. в самой таблице имеются повторяющиеся значения и на гистограмме видны вспелски через одинаковые промежутки.\n",
    "<br>\n",
    "Что касается гистограмм data_0 и data_2 они имеют распределение билзкое к нормальному.\n",
    "\n"
   ]
  },
  {
   "cell_type": "markdown",
   "metadata": {},
   "source": [
    "## Обучение и проверка модели"
   ]
  },
  {
   "cell_type": "markdown",
   "metadata": {},
   "source": [
    "###  Модель для первого региона"
   ]
  },
  {
   "cell_type": "markdown",
   "metadata": {},
   "source": [
    "Создание обучающей и валидационной выборки в соотношении 75:25."
   ]
  },
  {
   "cell_type": "code",
   "execution_count": 18,
   "metadata": {},
   "outputs": [
    {
     "name": "stdout",
     "output_type": "stream",
     "text": [
      "Размер обучающей выборки 75000\n",
      "Размер валидационной выборки 25000\n"
     ]
    }
   ],
   "source": [
    "target_data_0 = data_0['product']\n",
    "features_data_0 = data_0.drop('product', axis=1)\n",
    "\n",
    "features_train_data_0, features_valid_data_0, target_train_data_0, target_valid_data_0 = train_test_split(\n",
    "    features_data_0, target_data_0, test_size=0.25, random_state=12345)\n",
    "\n",
    "print('Размер обучающей выборки', features_train_data_0.shape[0])\n",
    "print('Размер валидационной выборки', features_valid_data_0.shape[0])"
   ]
  },
  {
   "cell_type": "markdown",
   "metadata": {},
   "source": [
    "Обучение StandardScaler() на обучающей выборке."
   ]
  },
  {
   "cell_type": "code",
   "execution_count": 19,
   "metadata": {},
   "outputs": [
    {
     "data": {
      "text/html": [
       "<div>\n",
       "<style scoped>\n",
       "    .dataframe tbody tr th:only-of-type {\n",
       "        vertical-align: middle;\n",
       "    }\n",
       "\n",
       "    .dataframe tbody tr th {\n",
       "        vertical-align: top;\n",
       "    }\n",
       "\n",
       "    .dataframe thead th {\n",
       "        text-align: right;\n",
       "    }\n",
       "</style>\n",
       "<table border=\"1\" class=\"dataframe\">\n",
       "  <thead>\n",
       "    <tr style=\"text-align: right;\">\n",
       "      <th></th>\n",
       "      <th>f0</th>\n",
       "      <th>f1</th>\n",
       "      <th>f2</th>\n",
       "    </tr>\n",
       "  </thead>\n",
       "  <tbody>\n",
       "    <tr>\n",
       "      <th>27212</th>\n",
       "      <td>-0.544828</td>\n",
       "      <td>1.390264</td>\n",
       "      <td>-0.094959</td>\n",
       "    </tr>\n",
       "    <tr>\n",
       "      <th>7866</th>\n",
       "      <td>1.455912</td>\n",
       "      <td>-0.480422</td>\n",
       "      <td>1.209567</td>\n",
       "    </tr>\n",
       "    <tr>\n",
       "      <th>62041</th>\n",
       "      <td>0.260460</td>\n",
       "      <td>0.825069</td>\n",
       "      <td>-0.204865</td>\n",
       "    </tr>\n",
       "    <tr>\n",
       "      <th>70185</th>\n",
       "      <td>-1.837105</td>\n",
       "      <td>0.010321</td>\n",
       "      <td>-0.147634</td>\n",
       "    </tr>\n",
       "    <tr>\n",
       "      <th>82230</th>\n",
       "      <td>-1.299243</td>\n",
       "      <td>0.987558</td>\n",
       "      <td>1.273181</td>\n",
       "    </tr>\n",
       "  </tbody>\n",
       "</table>\n",
       "</div>"
      ],
      "text/plain": [
       "             f0        f1        f2\n",
       "27212 -0.544828  1.390264 -0.094959\n",
       "7866   1.455912 -0.480422  1.209567\n",
       "62041  0.260460  0.825069 -0.204865\n",
       "70185 -1.837105  0.010321 -0.147634\n",
       "82230 -1.299243  0.987558  1.273181"
      ]
     },
     "metadata": {},
     "output_type": "display_data"
    }
   ],
   "source": [
    "numeric = ['f0', 'f1', 'f2']\n",
    "\n",
    "scaler = StandardScaler()\n",
    "scaler.fit(features_train_data_0[numeric])\n",
    "features_train_data_0[numeric] = scaler.transform(features_train_data_0[numeric])\n",
    "features_valid_data_0[numeric] = scaler.transform(features_valid_data_0[numeric])\n",
    "\n",
    "display(features_train_data_0.head())"
   ]
  },
  {
   "cell_type": "markdown",
   "metadata": {},
   "source": [
    "Рассчет RMSE модели."
   ]
  },
  {
   "cell_type": "code",
   "execution_count": 20,
   "metadata": {},
   "outputs": [
    {
     "name": "stdout",
     "output_type": "stream",
     "text": [
      "37.5794217150813\n"
     ]
    }
   ],
   "source": [
    "model = LinearRegression()\n",
    "model.fit(features_train_data_0, target_train_data_0)\n",
    "predictions_0 = model.predict(features_valid_data_0)\n",
    "RMSE_0 = mean_squared_error(target_valid_data_0, predictions_0) **0.5  \n",
    "print(RMSE_0)"
   ]
  },
  {
   "cell_type": "markdown",
   "metadata": {},
   "source": [
    "Сохраним предсказания и правильные ответы на валидационной выборке.\n",
    "\n",
    "Вывод на экран среднего запаса предсказанного сырья и RMSE модели."
   ]
  },
  {
   "cell_type": "code",
   "execution_count": 21,
   "metadata": {},
   "outputs": [
    {
     "name": "stdout",
     "output_type": "stream",
     "text": [
      "       real_product  predicted_product\n",
      "71751     10.038645          95.894952\n",
      "80493    114.551489          77.572583\n",
      "2655     132.603635          77.892640\n",
      "53233    169.072125          90.175134\n",
      "91141    122.325180          70.510088\n",
      "RMSE - 37.5794217150813\n",
      "Среднее колмчество сырья по данным - 92.07859674082927\n",
      "Среднее количество сырья по модели - 92.59256778438035\n",
      "Суммарное количество сырья по данным - 2301964.918520732\n",
      "Суммарное количество сырья по модели - 2314814.194609509\n"
     ]
    }
   ],
   "source": [
    "data_0_product = {'real_product' : target_valid_data_0,\n",
    "                 'predicted_product' : predictions_0}\n",
    "\n",
    "product_0 = pd.DataFrame(data_0_product, columns = ['real_product', 'predicted_product'])\n",
    "\n",
    "print(product_0.head())\n",
    "print('RMSE -', RMSE_0)\n",
    "print('Среднее колмчество сырья по данным -', product_0['real_product'].mean())\n",
    "print('Среднее количество сырья по модели -', product_0['predicted_product'].mean())\n",
    "print('Суммарное количество сырья по данным -', product_0['real_product'].sum())\n",
    "print('Суммарное количество сырья по модели -', product_0['predicted_product'].sum())"
   ]
  },
  {
   "cell_type": "markdown",
   "metadata": {},
   "source": [
    "Предсказанные данные значения близки к реальным."
   ]
  },
  {
   "cell_type": "markdown",
   "metadata": {},
   "source": [
    "### Модель для второго региона"
   ]
  },
  {
   "cell_type": "markdown",
   "metadata": {},
   "source": [
    "Создание обучающей и валидационной выборки в соотношении 75:25."
   ]
  },
  {
   "cell_type": "code",
   "execution_count": 22,
   "metadata": {},
   "outputs": [
    {
     "name": "stdout",
     "output_type": "stream",
     "text": [
      "Размер обучающей выборки 75000\n",
      "Размер валидационной выборки 25000\n"
     ]
    }
   ],
   "source": [
    "target_data_1 = data_1['product']\n",
    "features_data_1 = data_1.drop('product', axis=1)\n",
    "\n",
    "features_train_data_1, features_valid_data_1, target_train_data_1, target_valid_data_1 = train_test_split(\n",
    "    features_data_1, target_data_1, test_size=0.25, random_state=12345)\n",
    "\n",
    "print('Размер обучающей выборки', features_train_data_1.shape[0])\n",
    "print('Размер валидационной выборки', features_valid_data_1.shape[0])"
   ]
  },
  {
   "cell_type": "markdown",
   "metadata": {},
   "source": [
    "Обучение StandardScaler() на обучающей выборке."
   ]
  },
  {
   "cell_type": "code",
   "execution_count": 23,
   "metadata": {},
   "outputs": [
    {
     "data": {
      "text/html": [
       "<div>\n",
       "<style scoped>\n",
       "    .dataframe tbody tr th:only-of-type {\n",
       "        vertical-align: middle;\n",
       "    }\n",
       "\n",
       "    .dataframe tbody tr th {\n",
       "        vertical-align: top;\n",
       "    }\n",
       "\n",
       "    .dataframe thead th {\n",
       "        text-align: right;\n",
       "    }\n",
       "</style>\n",
       "<table border=\"1\" class=\"dataframe\">\n",
       "  <thead>\n",
       "    <tr style=\"text-align: right;\">\n",
       "      <th></th>\n",
       "      <th>f0</th>\n",
       "      <th>f1</th>\n",
       "      <th>f2</th>\n",
       "    </tr>\n",
       "  </thead>\n",
       "  <tbody>\n",
       "    <tr>\n",
       "      <th>27212</th>\n",
       "      <td>-0.850855</td>\n",
       "      <td>0.624428</td>\n",
       "      <td>0.296943</td>\n",
       "    </tr>\n",
       "    <tr>\n",
       "      <th>7866</th>\n",
       "      <td>1.971935</td>\n",
       "      <td>1.832275</td>\n",
       "      <td>0.294333</td>\n",
       "    </tr>\n",
       "    <tr>\n",
       "      <th>62041</th>\n",
       "      <td>1.079305</td>\n",
       "      <td>0.170127</td>\n",
       "      <td>-0.296418</td>\n",
       "    </tr>\n",
       "    <tr>\n",
       "      <th>70185</th>\n",
       "      <td>-1.512028</td>\n",
       "      <td>-0.887837</td>\n",
       "      <td>-0.880471</td>\n",
       "    </tr>\n",
       "    <tr>\n",
       "      <th>82230</th>\n",
       "      <td>-1.804775</td>\n",
       "      <td>-0.718311</td>\n",
       "      <td>-0.293255</td>\n",
       "    </tr>\n",
       "  </tbody>\n",
       "</table>\n",
       "</div>"
      ],
      "text/plain": [
       "             f0        f1        f2\n",
       "27212 -0.850855  0.624428  0.296943\n",
       "7866   1.971935  1.832275  0.294333\n",
       "62041  1.079305  0.170127 -0.296418\n",
       "70185 -1.512028 -0.887837 -0.880471\n",
       "82230 -1.804775 -0.718311 -0.293255"
      ]
     },
     "metadata": {},
     "output_type": "display_data"
    }
   ],
   "source": [
    "numeric = ['f0', 'f1', 'f2']\n",
    "\n",
    "scaler = StandardScaler()\n",
    "scaler.fit(features_train_data_1[numeric])\n",
    "features_train_data_1[numeric] = scaler.transform(features_train_data_1[numeric])\n",
    "features_valid_data_1[numeric] = scaler.transform(features_valid_data_1[numeric])\n",
    "\n",
    "display(features_train_data_1.head())"
   ]
  },
  {
   "cell_type": "markdown",
   "metadata": {},
   "source": [
    "Рассчет RMSE модели."
   ]
  },
  {
   "cell_type": "code",
   "execution_count": 25,
   "metadata": {},
   "outputs": [
    {
     "name": "stdout",
     "output_type": "stream",
     "text": [
      "0.893099286775617\n"
     ]
    }
   ],
   "source": [
    "model = LinearRegression()\n",
    "model.fit(features_train_data_1, target_train_data_1)\n",
    "predictions_1 = model.predict(features_valid_data_1)\n",
    "RMSE_1 = mean_squared_error(target_valid_data_1, predictions_1) **0.5  \n",
    "print(RMSE_1)"
   ]
  },
  {
   "cell_type": "markdown",
   "metadata": {},
   "source": [
    "Сохраним предсказания и правильные ответы на валидационной выборке.\n",
    "\n",
    "Вывод на экран среднего запаса предсказанного сырья и RMSE модели."
   ]
  },
  {
   "cell_type": "code",
   "execution_count": 27,
   "metadata": {},
   "outputs": [
    {
     "name": "stdout",
     "output_type": "stream",
     "text": [
      "       real_product  predicted_product\n",
      "71751     80.859783          82.663314\n",
      "80493     53.906522          54.431786\n",
      "2655      30.132364          29.748760\n",
      "53233     53.906522          53.552133\n",
      "91141      0.000000           1.243856\n",
      "RMSE - 0.893099286775617\n",
      "Среднее колмчество сырья по данным - 68.72313602435997\n",
      "Среднее количество сырья по модели - 68.728546895446\n",
      "Суммарное количество сырья по данным - 1718078.4006089992\n",
      "Суммарное количество сырья по модели - 1718213.67238615\n"
     ]
    }
   ],
   "source": [
    "data_1_product = {'real_product' : target_valid_data_1,\n",
    "                 'predicted_product' : predictions_1}\n",
    "\n",
    "product_1 = pd.DataFrame(data_1_product, columns = ['real_product', 'predicted_product'])\n",
    "\n",
    "print(product_1.head())\n",
    "print('RMSE -', RMSE_1)\n",
    "print('Среднее колмчество сырья по данным -', product_1['real_product'].mean())\n",
    "print('Среднее количество сырья по модели -', product_1['predicted_product'].mean())\n",
    "print('Суммарное количество сырья по данным -', product_1['real_product'].sum())\n",
    "print('Суммарное количество сырья по модели -', product_1['predicted_product'].sum())"
   ]
  },
  {
   "cell_type": "markdown",
   "metadata": {},
   "source": [
    "Предсказанные данные значения близки к реальным."
   ]
  },
  {
   "cell_type": "markdown",
   "metadata": {},
   "source": [
    "### Модель для третьего региона"
   ]
  },
  {
   "cell_type": "markdown",
   "metadata": {},
   "source": [
    "Создание обучающей и валидационной выборки в соотношении 75:25."
   ]
  },
  {
   "cell_type": "code",
   "execution_count": 29,
   "metadata": {},
   "outputs": [
    {
     "name": "stdout",
     "output_type": "stream",
     "text": [
      "Размер обучающей выборки 75000\n",
      "Размер валидационной выборки 25000\n"
     ]
    }
   ],
   "source": [
    "target_data_2 = data_2['product']\n",
    "features_data_2 = data_2.drop('product', axis=1)\n",
    "\n",
    "features_train_data_2, features_valid_data_2, target_train_data_2, target_valid_data_2 = train_test_split(\n",
    "    features_data_2, target_data_2, test_size=0.25, random_state=12345)\n",
    "\n",
    "print('Размер обучающей выборки', features_train_data_2.shape[0])\n",
    "print('Размер валидационной выборки', features_valid_data_2.shape[0])"
   ]
  },
  {
   "cell_type": "markdown",
   "metadata": {},
   "source": [
    "Обучение StandardScaler() на обучающей выборке."
   ]
  },
  {
   "cell_type": "code",
   "execution_count": 30,
   "metadata": {},
   "outputs": [
    {
     "data": {
      "text/html": [
       "<div>\n",
       "<style scoped>\n",
       "    .dataframe tbody tr th:only-of-type {\n",
       "        vertical-align: middle;\n",
       "    }\n",
       "\n",
       "    .dataframe tbody tr th {\n",
       "        vertical-align: top;\n",
       "    }\n",
       "\n",
       "    .dataframe thead th {\n",
       "        text-align: right;\n",
       "    }\n",
       "</style>\n",
       "<table border=\"1\" class=\"dataframe\">\n",
       "  <thead>\n",
       "    <tr style=\"text-align: right;\">\n",
       "      <th></th>\n",
       "      <th>f0</th>\n",
       "      <th>f1</th>\n",
       "      <th>f2</th>\n",
       "    </tr>\n",
       "  </thead>\n",
       "  <tbody>\n",
       "    <tr>\n",
       "      <th>27212</th>\n",
       "      <td>-0.526160</td>\n",
       "      <td>0.776329</td>\n",
       "      <td>-0.400793</td>\n",
       "    </tr>\n",
       "    <tr>\n",
       "      <th>7866</th>\n",
       "      <td>-0.889625</td>\n",
       "      <td>-0.404070</td>\n",
       "      <td>-1.222936</td>\n",
       "    </tr>\n",
       "    <tr>\n",
       "      <th>62041</th>\n",
       "      <td>-1.133984</td>\n",
       "      <td>0.208576</td>\n",
       "      <td>0.296765</td>\n",
       "    </tr>\n",
       "    <tr>\n",
       "      <th>70185</th>\n",
       "      <td>1.227045</td>\n",
       "      <td>1.570166</td>\n",
       "      <td>-0.764556</td>\n",
       "    </tr>\n",
       "    <tr>\n",
       "      <th>82230</th>\n",
       "      <td>-0.194289</td>\n",
       "      <td>0.878312</td>\n",
       "      <td>0.840821</td>\n",
       "    </tr>\n",
       "  </tbody>\n",
       "</table>\n",
       "</div>"
      ],
      "text/plain": [
       "             f0        f1        f2\n",
       "27212 -0.526160  0.776329 -0.400793\n",
       "7866  -0.889625 -0.404070 -1.222936\n",
       "62041 -1.133984  0.208576  0.296765\n",
       "70185  1.227045  1.570166 -0.764556\n",
       "82230 -0.194289  0.878312  0.840821"
      ]
     },
     "metadata": {},
     "output_type": "display_data"
    }
   ],
   "source": [
    "numeric = ['f0', 'f1', 'f2']\n",
    "\n",
    "scaler = StandardScaler()\n",
    "scaler.fit(features_train_data_2[numeric])\n",
    "features_train_data_2[numeric] = scaler.transform(features_train_data_2[numeric])\n",
    "features_valid_data_2[numeric] = scaler.transform(features_valid_data_2[numeric])\n",
    "\n",
    "display(features_train_data_2.head())"
   ]
  },
  {
   "cell_type": "markdown",
   "metadata": {},
   "source": [
    "Рассчет RMSE модели."
   ]
  },
  {
   "cell_type": "code",
   "execution_count": 31,
   "metadata": {},
   "outputs": [
    {
     "name": "stdout",
     "output_type": "stream",
     "text": [
      "40.02970873393434\n"
     ]
    }
   ],
   "source": [
    "model = LinearRegression()\n",
    "model.fit(features_train_data_2, target_train_data_2)\n",
    "predictions_2 = model.predict(features_valid_data_2)\n",
    "RMSE_2 = mean_squared_error(target_valid_data_2, predictions_2) **0.5  \n",
    "print(RMSE_2)"
   ]
  },
  {
   "cell_type": "markdown",
   "metadata": {},
   "source": [
    "Сохраним предсказания и правильные ответы на валидационной выборке.\n",
    "\n",
    "Вывод на экран среднего запаса предсказанного сырья и RMSE модели."
   ]
  },
  {
   "cell_type": "code",
   "execution_count": 33,
   "metadata": {},
   "outputs": [
    {
     "name": "stdout",
     "output_type": "stream",
     "text": [
      "       real_product  predicted_product\n",
      "71751     61.212375          93.599633\n",
      "80493     41.850118          75.105159\n",
      "2655      57.776581          90.066809\n",
      "53233    100.053761         105.162375\n",
      "91141    109.897122         115.303310\n",
      "RMSE - 40.02970873393434\n",
      "Среднее колмчество сырья по данным - 94.88423280885438\n",
      "Среднее количество сырья по модели - 94.96504596800489\n",
      "Суммарное количество сырья по данным - 2372105.8202213594\n",
      "Суммарное количество сырья по модели - 2374126.1492001223\n"
     ]
    }
   ],
   "source": [
    "data_2_product = {'real_product' : target_valid_data_2,\n",
    "                  'predicted_product' : predictions_2}\n",
    "\n",
    "product_2 = pd.DataFrame(data_2_product, columns = ['real_product', 'predicted_product'])\n",
    "\n",
    "print(product_2.head())\n",
    "print('RMSE -', RMSE_2)\n",
    "print('Среднее колмчество сырья по данным -', product_2['real_product'].mean())\n",
    "print('Среднее количество сырья по модели -', product_2['predicted_product'].mean())\n",
    "print('Суммарное количество сырья по данным -', product_2['real_product'].sum())\n",
    "print('Суммарное количество сырья по модели -', product_2['predicted_product'].sum())"
   ]
  },
  {
   "cell_type": "markdown",
   "metadata": {},
   "source": [
    "Предсказанные данные значения близки к реальным."
   ]
  },
  {
   "cell_type": "markdown",
   "metadata": {},
   "source": [
    "### Вывод"
   ]
  },
  {
   "cell_type": "markdown",
   "metadata": {},
   "source": [
    "Модели для трех различных регионов предсказали очень близкие к реальным значения:\n",
    "<br>\n",
    "\n",
    "Для первого региона:\n",
    "\n",
    "- Среднее колмчество сырья по данным - 92.07859674082927\n",
    "- Среднее количество сырья по модели - 92.59256778438035\n",
    "- Суммарное количество сырья по данным - 2301964.918520732\n",
    "- Суммарное количество сырья по модели - 2314814.194609509\n",
    "<br>\n",
    "\n",
    "Для второго региона:\n",
    "\n",
    "- Среднее колмчество сырья по данным - 68.72313602435997\n",
    "- Среднее количество сырья по модели - 68.728546895446\n",
    "- Суммарное количество сырья по данным - 1718078.4006089992\n",
    "- Суммарное количество сырья по модели - 1718213.67238615\n",
    "<br>\n",
    "\n",
    "Для третьего региона:\n",
    "\n",
    "- Среднее колмчество сырья по данным - 94.88423280885438\n",
    "- Среднее количество сырья по модели - 94.96504596800489\n",
    "- Суммарное количество сырья по данным - 2372105.8202213594\n",
    "- Суммарное количество сырья по модели - 2374126.1492001223"
   ]
  },
  {
   "cell_type": "markdown",
   "metadata": {},
   "source": [
    "## Подготовка к расчёту прибыли"
   ]
  },
  {
   "cell_type": "markdown",
   "metadata": {},
   "source": [
    "Сохранение в отдельные переменные ключевых значений для расчётов."
   ]
  },
  {
   "cell_type": "code",
   "execution_count": 35,
   "metadata": {},
   "outputs": [],
   "source": [
    "budget = 1e+07\n",
    "all_area = 500\n",
    "best_area = 200\n",
    "price_per_barrel = 450"
   ]
  },
  {
   "cell_type": "markdown",
   "metadata": {},
   "source": [
    "Рассчет безубыточной разработки сырья на 200 скважинах и поиск необходимого для этого среднего кол-ва сырья в скважинах."
   ]
  },
  {
   "cell_type": "code",
   "execution_count": 36,
   "metadata": {},
   "outputs": [
    {
     "name": "stdout",
     "output_type": "stream",
     "text": [
      "Средняя прибыль на лучшем месторождении - 50000.0 тыс.руб.\n",
      "Средний объем нефти на лучшем месторождении - 111.11111111111111 тыс. барелей\n",
      "Средний объем нефти на регион - 22222.222222222223 тыс. барелей\n"
     ]
    }
   ],
   "source": [
    "average_profit = budget / best_area\n",
    "print('Средняя прибыль на лучшем месторождении -', average_profit, 'тыс.руб.')\n",
    "\n",
    "average_barrels = average_profit  / price_per_barrel\n",
    "print('Средний объем нефти на лучшем месторождении -',average_barrels, 'тыс. барелей')\n",
    "\n",
    "average_barrels = budget / price_per_barrel\n",
    "print('Средний объем нефти на регион -',average_barrels, 'тыс. барелей')"
   ]
  },
  {
   "cell_type": "markdown",
   "metadata": {},
   "source": [
    "Проверка какое в среднем количество сырья на скважинах по регионам."
   ]
  },
  {
   "cell_type": "code",
   "execution_count": 37,
   "metadata": {},
   "outputs": [
    {
     "name": "stdout",
     "output_type": "stream",
     "text": [
      "Средний запас сырья на скважину в регионе 1 92.50000000000001 тыс. барелей\n",
      "Средний запас сырья на скважину в регионе 2 68.82500000000002 тыс. барелей\n",
      "Средний запас сырья на скважину в регионе 3 95.00000000000004 тыс. барелей\n"
     ]
    }
   ],
   "source": [
    "print('Средний запас сырья на скважину в регионе 1', data_0['product'].mean(), 'тыс. барелей')\n",
    "print('Средний запас сырья на скважину в регионе 2', data_1['product'].mean(), 'тыс. барелей')\n",
    "print('Средний запас сырья на скважину в регионе 3', data_2['product'].mean(), 'тыс. барелей')"
   ]
  },
  {
   "cell_type": "markdown",
   "metadata": {},
   "source": [
    "Создание функции для расчета прибыли."
   ]
  },
  {
   "cell_type": "code",
   "execution_count": 38,
   "metadata": {},
   "outputs": [],
   "source": [
    "def profit_all(target, probabilities, count):\n",
    "    probs_sorted = probabilities.sort_values(ascending=False)\n",
    "    selected = target[probs_sorted.index][:count]\n",
    "    return price_per_barrel * selected.sum() - budget"
   ]
  },
  {
   "cell_type": "markdown",
   "metadata": {},
   "source": [
    "###  Вывод\n",
    "<br>\n",
    "\n",
    "Получены необходимые данные по безубыточной разработке сырья на 200 лучших скважинах из отобранных 500.\n",
    "\n",
    "- Средняя прибыль на лучшем месторождении - 50000.0 тыс.руб.\n",
    "- Средний объем нефти на лучшем месторождении - 111.11111111111111 тыс. барелей\n",
    "- Средний объем нефти на регион - 22222.222222222223 тыс. барелей\n",
    "<br>\n",
    "\n",
    "В сочетании с со средними запасами сырья на скважину по каждому региону, думаю, что скважины в первом и третьем регионе будут окупаемы.\n"
   ]
  },
  {
   "cell_type": "markdown",
   "metadata": {},
   "source": [
    "## Расчёт прибыли и рисков "
   ]
  },
  {
   "cell_type": "markdown",
   "metadata": {},
   "source": [
    "Применение техники Bootstrap с 1000 выборок, для того чтобы найти распределение прибыли."
   ]
  },
  {
   "cell_type": "code",
   "execution_count": 40,
   "metadata": {},
   "outputs": [],
   "source": [
    "state = np.random.RandomState(12345)\n",
    "def bootstrap(target, probs):\n",
    "    values=[]\n",
    "    lost = 0\n",
    "    for i in range(1000):\n",
    "        target_sample = target.sample(replace=True, random_state=state, n=all_area)\n",
    "        probs_sample = probs[target_sample.index]\n",
    "        profit = profit_all(target, probs_sample, best_area)\n",
    "        if profit < 0:\n",
    "            lost +=1\n",
    "        values.append(profit)\n",
    "    \n",
    "    values = pd.Series(values)\n",
    "    lower = values.quantile(0.025)\n",
    "    upper = values.quantile(0.975)\n",
    "    average = values.mean()\n",
    "    risk = lost / 1000\n",
    "    return average, lower, upper, risk"
   ]
  },
  {
   "cell_type": "markdown",
   "metadata": {},
   "source": [
    "Рассчёт прибыли и рисков по каждому региону."
   ]
  },
  {
   "cell_type": "code",
   "execution_count": 41,
   "metadata": {},
   "outputs": [
    {
     "name": "stdout",
     "output_type": "stream",
     "text": [
      "Данные по первому региону.\n",
      "Средняя прибыль по региону = 396164.98 тыс.руб.\n",
      "95% доверительный интервал от -111215.55 до 909766.94 тыс.руб.\n",
      "Процент риска 6.90%\n"
     ]
    }
   ],
   "source": [
    "average_0, lower_0, upper_0, risk_0 = bootstrap(product_0['real_product'], product_0['predicted_product'])\n",
    "print('Данные по первому региону.')\n",
    "print('Средняя прибыль по региону = {:.2f} тыс.руб.'.format(average_0))\n",
    "print('95% доверительный интервал от {:.2f} до {:.2f} тыс.руб.'.format(lower_0, upper_0))\n",
    "print('Процент риска {:.2%}'.format(risk_0))"
   ]
  },
  {
   "cell_type": "code",
   "execution_count": 42,
   "metadata": {},
   "outputs": [
    {
     "name": "stdout",
     "output_type": "stream",
     "text": [
      "Данные по второму региону.\n",
      "Средняя прибыль по региону = 461155.82 тыс.руб.\n",
      "95% доверительный интервал от 78050.81 до 862952.06 тыс.руб.\n",
      "Процент риска 0.70%\n"
     ]
    }
   ],
   "source": [
    "average_1, lower_1, upper_1, risk_1 = bootstrap(product_1['real_product'], product_1['predicted_product'])\n",
    "print('Данные по второму региону.')\n",
    "print('Средняя прибыль по региону = {:.2f} тыс.руб.'.format(average_1))\n",
    "print('95% доверительный интервал от {:.2f} до {:.2f} тыс.руб.'.format(lower_1, upper_1))\n",
    "print('Процент риска {:.2%}'.format(risk_1))"
   ]
  },
  {
   "cell_type": "code",
   "execution_count": 43,
   "metadata": {},
   "outputs": [
    {
     "name": "stdout",
     "output_type": "stream",
     "text": [
      "Данные по третьему региону.\n",
      "Средняя прибыль по региону = 392950.48 тыс.руб.\n",
      "95% доверительный интервал от -112227.63 до 934562.91 тыс.руб.\n",
      "Процент риска 6.50%\n"
     ]
    }
   ],
   "source": [
    "average_2, lower_2, upper_2, risk_2 = bootstrap(product_2['real_product'], product_2['predicted_product'])\n",
    "print('Данные по третьему региону.')\n",
    "print('Средняя прибыль по региону = {:.2f} тыс.руб.'.format(average_2))\n",
    "print('95% доверительный интервал от {:.2f} до {:.2f} тыс.руб.'.format(lower_2, upper_2))\n",
    "print('Процент риска {:.2%}'.format(risk_2))"
   ]
  },
  {
   "cell_type": "markdown",
   "metadata": {},
   "source": [
    "### Вывод\n",
    "<br>\n",
    "Значения средней прибыли и процент риска по регионам следующие:\n",
    "<br>\n",
    "\n",
    "Данные по первому региону.\n",
    "\n",
    "- Средняя прибыль по региону = 396164.98 тыс.руб.\n",
    "- 95% доверительный интервал от -111215.55 до 909766.94 тыс.руб.\n",
    "- Процент риска 6.90%\n",
    "<br>\n",
    "\n",
    "Данные по второму региону.\n",
    "\n",
    "- Средняя прибыль по региону = 461155.82 тыс.руб.\n",
    "- 95% доверительный интервал от 78050.81 до 862952.06 тыс.руб.\n",
    "- Процент риска 0.70%\n",
    "<br>\n",
    "\n",
    "Данные по третьему региону.\n",
    "\n",
    "- Средняя прибыль по региону = 392950.48 тыс.руб.\n",
    "- 95% доверительный интервал от -112227.63 до 934562.91 тыс.руб.\n",
    "- Процент риска 6.50%"
   ]
  },
  {
   "cell_type": "markdown",
   "metadata": {},
   "source": [
    "# Итоговый вывод"
   ]
  },
  {
   "cell_type": "markdown",
   "metadata": {},
   "source": [
    "В ходе исследования были изучены данные по трем регионам. \n",
    "<br>\n",
    "Построена модель, которая предсказывает кол-во сырья в скважинах.\n",
    "<br>\n",
    "Лучшим регионом для добычи будет являться второй регион.\n",
    "<br>\n",
    "Данные по третьему региону.\n",
    "\n",
    "- Средняя прибыль по региону = 461155.82 тыс.руб.\n",
    "- 95% доверительный интервал от 78050.81 до 862952.06 тыс.руб.\n",
    "- Процент риска 0.70%\n",
    "\n"
   ]
  }
 ],
 "metadata": {
  "ExecuteTimeLog": [
   {
    "duration": 1437,
    "start_time": "2022-04-10T09:49:34.627Z"
   },
   {
    "duration": 256,
    "start_time": "2022-04-10T09:54:18.935Z"
   },
   {
    "duration": 169,
    "start_time": "2022-04-10T09:54:31.243Z"
   },
   {
    "duration": 162,
    "start_time": "2022-04-10T09:54:34.142Z"
   },
   {
    "duration": 150,
    "start_time": "2022-04-10T09:54:36.804Z"
   },
   {
    "duration": 164,
    "start_time": "2022-04-10T09:54:39.605Z"
   },
   {
    "duration": 164,
    "start_time": "2022-04-10T09:54:47.692Z"
   },
   {
    "duration": 173,
    "start_time": "2022-04-10T09:55:14.885Z"
   },
   {
    "duration": 176,
    "start_time": "2022-04-10T09:55:44.825Z"
   },
   {
    "duration": 3,
    "start_time": "2022-04-10T09:57:03.874Z"
   },
   {
    "duration": 171,
    "start_time": "2022-04-10T09:57:31.525Z"
   },
   {
    "duration": 3,
    "start_time": "2022-04-10T10:01:13.556Z"
   },
   {
    "duration": 3,
    "start_time": "2022-04-10T11:02:41.105Z"
   },
   {
    "duration": 9,
    "start_time": "2022-04-10T11:03:16.732Z"
   },
   {
    "duration": 181,
    "start_time": "2022-04-10T11:03:25.248Z"
   },
   {
    "duration": 3,
    "start_time": "2022-04-10T11:07:50.246Z"
   },
   {
    "duration": 195,
    "start_time": "2022-04-10T11:07:52.051Z"
   },
   {
    "duration": 6,
    "start_time": "2022-04-10T11:12:52.891Z"
   },
   {
    "duration": 10,
    "start_time": "2022-04-10T11:13:20.234Z"
   },
   {
    "duration": 233,
    "start_time": "2022-04-10T11:13:27.908Z"
   },
   {
    "duration": 6,
    "start_time": "2022-04-10T11:14:05.653Z"
   },
   {
    "duration": 60,
    "start_time": "2022-04-10T11:14:36.458Z"
   },
   {
    "duration": 218,
    "start_time": "2022-04-10T11:15:10.549Z"
   },
   {
    "duration": 6,
    "start_time": "2022-04-10T11:15:50.942Z"
   },
   {
    "duration": 15,
    "start_time": "2022-04-10T12:10:31.586Z"
   },
   {
    "duration": 104,
    "start_time": "2022-04-10T12:12:39.581Z"
   },
   {
    "duration": 33,
    "start_time": "2022-04-10T12:16:12.833Z"
   },
   {
    "duration": 1457,
    "start_time": "2022-04-10T12:17:11.492Z"
   },
   {
    "duration": 210,
    "start_time": "2022-04-10T12:17:12.951Z"
   },
   {
    "duration": 183,
    "start_time": "2022-04-10T12:17:13.162Z"
   },
   {
    "duration": 188,
    "start_time": "2022-04-10T12:17:13.347Z"
   },
   {
    "duration": 3,
    "start_time": "2022-04-10T12:17:13.537Z"
   },
   {
    "duration": 239,
    "start_time": "2022-04-10T12:17:13.542Z"
   },
   {
    "duration": 32,
    "start_time": "2022-04-10T12:17:13.783Z"
   },
   {
    "duration": 244,
    "start_time": "2022-04-10T12:17:13.817Z"
   },
   {
    "duration": 6,
    "start_time": "2022-04-10T12:17:14.062Z"
   },
   {
    "duration": 264,
    "start_time": "2022-04-10T12:17:14.071Z"
   },
   {
    "duration": 6,
    "start_time": "2022-04-10T12:17:14.336Z"
   },
   {
    "duration": 23,
    "start_time": "2022-04-10T12:17:14.343Z"
   },
   {
    "duration": 125,
    "start_time": "2022-04-10T12:17:14.368Z"
   },
   {
    "duration": 3,
    "start_time": "2022-04-10T12:19:11.775Z"
   },
   {
    "duration": 608,
    "start_time": "2022-04-10T12:19:24.319Z"
   },
   {
    "duration": 5,
    "start_time": "2022-04-10T12:19:40.812Z"
   },
   {
    "duration": 462,
    "start_time": "2022-04-10T12:19:43.031Z"
   },
   {
    "duration": 6,
    "start_time": "2022-04-10T12:19:47.208Z"
   },
   {
    "duration": 545,
    "start_time": "2022-04-10T12:19:49.495Z"
   },
   {
    "duration": 4,
    "start_time": "2022-04-10T12:20:16.040Z"
   },
   {
    "duration": 483,
    "start_time": "2022-04-10T12:20:18.161Z"
   },
   {
    "duration": 470,
    "start_time": "2022-04-10T12:20:27.857Z"
   },
   {
    "duration": 552,
    "start_time": "2022-04-10T12:20:48.610Z"
   },
   {
    "duration": 62,
    "start_time": "2022-04-10T12:35:56.308Z"
   },
   {
    "duration": 14,
    "start_time": "2022-04-10T12:36:45.222Z"
   },
   {
    "duration": 106,
    "start_time": "2022-04-10T12:38:43.505Z"
   },
   {
    "duration": 3,
    "start_time": "2022-04-10T12:39:08.408Z"
   },
   {
    "duration": 23,
    "start_time": "2022-04-10T12:39:11.663Z"
   },
   {
    "duration": 34,
    "start_time": "2022-04-10T12:40:12.675Z"
   },
   {
    "duration": 72,
    "start_time": "2022-04-10T12:40:56.922Z"
   },
   {
    "duration": 12,
    "start_time": "2022-04-10T12:41:16.972Z"
   },
   {
    "duration": 16,
    "start_time": "2022-04-10T12:43:53.614Z"
   },
   {
    "duration": 25,
    "start_time": "2022-04-10T12:44:17.768Z"
   },
   {
    "duration": 99,
    "start_time": "2022-04-10T12:44:36.910Z"
   },
   {
    "duration": 1405,
    "start_time": "2022-04-10T12:45:48.890Z"
   },
   {
    "duration": 176,
    "start_time": "2022-04-10T12:45:50.297Z"
   },
   {
    "duration": 159,
    "start_time": "2022-04-10T12:45:50.475Z"
   },
   {
    "duration": 172,
    "start_time": "2022-04-10T12:45:50.636Z"
   },
   {
    "duration": 3,
    "start_time": "2022-04-10T12:45:50.809Z"
   },
   {
    "duration": 231,
    "start_time": "2022-04-10T12:45:50.814Z"
   },
   {
    "duration": 7,
    "start_time": "2022-04-10T12:45:51.047Z"
   },
   {
    "duration": 256,
    "start_time": "2022-04-10T12:45:51.055Z"
   },
   {
    "duration": 8,
    "start_time": "2022-04-10T12:45:51.313Z"
   },
   {
    "duration": 230,
    "start_time": "2022-04-10T12:45:51.324Z"
   },
   {
    "duration": 6,
    "start_time": "2022-04-10T12:45:51.556Z"
   },
   {
    "duration": 17,
    "start_time": "2022-04-10T12:45:51.563Z"
   },
   {
    "duration": 139,
    "start_time": "2022-04-10T12:45:51.582Z"
   },
   {
    "duration": 4,
    "start_time": "2022-04-10T12:45:51.723Z"
   },
   {
    "duration": 458,
    "start_time": "2022-04-10T12:45:51.728Z"
   },
   {
    "duration": 434,
    "start_time": "2022-04-10T12:45:52.188Z"
   },
   {
    "duration": 524,
    "start_time": "2022-04-10T12:45:52.624Z"
   },
   {
    "duration": 15,
    "start_time": "2022-04-10T12:45:53.150Z"
   },
   {
    "duration": 22,
    "start_time": "2022-04-10T12:45:53.166Z"
   },
   {
    "duration": 37,
    "start_time": "2022-04-10T12:45:53.190Z"
   },
   {
    "duration": 83,
    "start_time": "2022-04-10T12:45:53.229Z"
   },
   {
    "duration": 106,
    "start_time": "2022-04-10T12:45:53.315Z"
   },
   {
    "duration": 21,
    "start_time": "2022-04-10T12:45:53.423Z"
   },
   {
    "duration": 66,
    "start_time": "2022-04-10T12:45:53.446Z"
   },
   {
    "duration": 67,
    "start_time": "2022-04-10T12:46:13.942Z"
   },
   {
    "duration": 62,
    "start_time": "2022-04-10T12:51:10.272Z"
   },
   {
    "duration": 11,
    "start_time": "2022-04-10T12:51:18.856Z"
   },
   {
    "duration": 69,
    "start_time": "2022-04-10T12:58:54.728Z"
   },
   {
    "duration": 17,
    "start_time": "2022-04-10T13:00:23.435Z"
   },
   {
    "duration": 24,
    "start_time": "2022-04-10T13:00:46.992Z"
   },
   {
    "duration": 18,
    "start_time": "2022-04-10T13:01:08.900Z"
   },
   {
    "duration": 97,
    "start_time": "2022-04-10T13:01:25.012Z"
   },
   {
    "duration": 12,
    "start_time": "2022-04-10T13:01:38.862Z"
   },
   {
    "duration": 2,
    "start_time": "2022-04-10T13:02:51.277Z"
   },
   {
    "duration": 3,
    "start_time": "2022-04-10T13:10:44.311Z"
   },
   {
    "duration": 4,
    "start_time": "2022-04-10T13:12:26.992Z"
   },
   {
    "duration": 6,
    "start_time": "2022-04-10T13:13:22.779Z"
   },
   {
    "duration": 3,
    "start_time": "2022-04-10T13:13:56.546Z"
   },
   {
    "duration": 109,
    "start_time": "2022-04-10T13:16:34.749Z"
   },
   {
    "duration": 5,
    "start_time": "2022-04-10T13:17:34.252Z"
   },
   {
    "duration": 914,
    "start_time": "2022-04-10T13:18:07.375Z"
   },
   {
    "duration": 891,
    "start_time": "2022-04-10T13:18:29.073Z"
   },
   {
    "duration": 911,
    "start_time": "2022-04-10T13:18:38.151Z"
   },
   {
    "duration": 133,
    "start_time": "2022-04-10T17:25:51.258Z"
   }
  ],
  "kernelspec": {
   "display_name": "Python 3",
   "language": "python",
   "name": "python3"
  },
  "language_info": {
   "codemirror_mode": {
    "name": "ipython",
    "version": 3
   },
   "file_extension": ".py",
   "mimetype": "text/x-python",
   "name": "python",
   "nbconvert_exporter": "python",
   "pygments_lexer": "ipython3",
   "version": "3.8.8"
  },
  "toc": {
   "base_numbering": 1,
   "nav_menu": {},
   "number_sections": true,
   "sideBar": true,
   "skip_h1_title": true,
   "title_cell": "Table of Contents",
   "title_sidebar": "Contents",
   "toc_cell": false,
   "toc_position": {
    "height": "calc(100% - 180px)",
    "left": "10px",
    "top": "150px",
    "width": "366.391px"
   },
   "toc_section_display": true,
   "toc_window_display": false
  }
 },
 "nbformat": 4,
 "nbformat_minor": 2
}
