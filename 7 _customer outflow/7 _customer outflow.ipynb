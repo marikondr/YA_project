{
 "cells": [
  {
   "cell_type": "markdown",
   "metadata": {
    "toc": true
   },
   "source": [
    "<h1>Содержание<span class=\"tocSkip\"></span></h1>\n",
    "<div class=\"toc\"><ul class=\"toc-item\"><li><ul class=\"toc-item\"><li><span><a href=\"#Общее-впечатление\" data-toc-modified-id=\"Общее-впечатление-0.1\"><span class=\"toc-item-num\">0.1&nbsp;&nbsp;</span><font color=\"orange\">Общее впечатление</font></a></span></li></ul></li><li><span><a href=\"#Изучение-данных\" data-toc-modified-id=\"Изучение-данных-1\"><span class=\"toc-item-num\">1&nbsp;&nbsp;</span>Изучение данных</a></span></li><li><span><a href=\"#Подготовка-данных\" data-toc-modified-id=\"Подготовка-данных-2\"><span class=\"toc-item-num\">2&nbsp;&nbsp;</span>Подготовка данных</a></span></li><li><span><a href=\"#Исследование-задачи\" data-toc-modified-id=\"Исследование-задачи-3\"><span class=\"toc-item-num\">3&nbsp;&nbsp;</span>Исследование задачи</a></span><ul class=\"toc-item\"><li><span><a href=\"#Решающее-древо\" data-toc-modified-id=\"Решающее-древо-3.1\"><span class=\"toc-item-num\">3.1&nbsp;&nbsp;</span>Решающее древо</a></span></li><li><span><a href=\"#Случайный-лес\" data-toc-modified-id=\"Случайный-лес-3.2\"><span class=\"toc-item-num\">3.2&nbsp;&nbsp;</span>Случайный лес</a></span></li><li><span><a href=\"#Логистическая-регрессия\" data-toc-modified-id=\"Логистическая-регрессия-3.3\"><span class=\"toc-item-num\">3.3&nbsp;&nbsp;</span>Логистическая регрессия</a></span></li><li><span><a href=\"#Проверка-адекватности-модели\" data-toc-modified-id=\"Проверка-адекватности-модели-3.4\"><span class=\"toc-item-num\">3.4&nbsp;&nbsp;</span>Проверка адекватности модели</a></span></li><li><span><a href=\"#Расчет-полноты,-точности-и-F-1-меры\" data-toc-modified-id=\"Расчет-полноты,-точности-и-F-1-меры-3.5\"><span class=\"toc-item-num\">3.5&nbsp;&nbsp;</span>Расчет полноты, точности и F-1 меры</a></span></li><li><span><a href=\"#ROC-кривая,-площадь-под-кривой\" data-toc-modified-id=\"ROC-кривая,-площадь-под-кривой-3.6\"><span class=\"toc-item-num\">3.6&nbsp;&nbsp;</span>ROC-кривая, площадь под кривой</a></span></li></ul></li><li><span><a href=\"#Борьба-с-дисбалансом\" data-toc-modified-id=\"Борьба-с-дисбалансом-4\"><span class=\"toc-item-num\">4&nbsp;&nbsp;</span>Борьба с дисбалансом</a></span><ul class=\"toc-item\"><li><span><a href=\"#Взвешивание-классов\" data-toc-modified-id=\"Взвешивание-классов-4.1\"><span class=\"toc-item-num\">4.1&nbsp;&nbsp;</span>Взвешивание классов</a></span></li><li><span><a href=\"#Увеличение-выборки\" data-toc-modified-id=\"Увеличение-выборки-4.2\"><span class=\"toc-item-num\">4.2&nbsp;&nbsp;</span>Увеличение выборки</a></span></li><li><span><a href=\"#Уменьшение-выборки\" data-toc-modified-id=\"Уменьшение-выборки-4.3\"><span class=\"toc-item-num\">4.3&nbsp;&nbsp;</span>Уменьшение выборки</a></span></li><li><span><a href=\"#Вывод\" data-toc-modified-id=\"Вывод-4.4\"><span class=\"toc-item-num\">4.4&nbsp;&nbsp;</span>Вывод</a></span></li></ul></li><li><span><a href=\"#Тестирование-модели\" data-toc-modified-id=\"Тестирование-модели-5\"><span class=\"toc-item-num\">5&nbsp;&nbsp;</span>Тестирование модели</a></span><ul class=\"toc-item\"><li><span><a href=\"#Вывод\" data-toc-modified-id=\"Вывод-5.1\"><span class=\"toc-item-num\">5.1&nbsp;&nbsp;</span>Вывод</a></span></li></ul></li><li><span><a href=\"#Чек-лист-готовности-проекта\" data-toc-modified-id=\"Чек-лист-готовности-проекта-6\"><span class=\"toc-item-num\">6&nbsp;&nbsp;</span>Чек-лист готовности проекта</a></span></li></ul></div>"
   ]
  },
  {
   "cell_type": "markdown",
   "metadata": {},
   "source": [
    "# Отток клиентов"
   ]
  },
  {
   "cell_type": "markdown",
   "metadata": {},
   "source": [
    "Из «Бета-Банка» стали уходить клиенты. Каждый месяц. Немного, но заметно. Банковские маркетологи посчитали: сохранять текущих клиентов дешевле, чем привлекать новых.\n",
    "\n",
    "Нужно спрогнозировать, уйдёт клиент из банка в ближайшее время или нет. Вам предоставлены исторические данные о поведении клиентов и расторжении договоров с банком. \n",
    "\n",
    "Постройте модель с предельно большим значением *F1*-меры. Чтобы сдать проект успешно, нужно довести метрику до 0.59. Проверьте *F1*-меру на тестовой выборке самостоятельно.\n",
    "\n",
    "Дополнительно измеряйте *AUC-ROC*, сравнивайте её значение с *F1*-мерой.\n",
    "\n",
    "Источник данных: [https://www.kaggle.com/barelydedicated/bank-customer-churn-modeling](https://www.kaggle.com/barelydedicated/bank-customer-churn-modeling)"
   ]
  },
  {
   "cell_type": "markdown",
   "metadata": {},
   "source": [
    "# Инструкция по выполнению проекта\n",
    "<br>\n",
    "Загрузите и подготовьте данные. Поясните порядок действий.\n",
    "Исследуйте баланс классов, обучите модель без учёта дисбаланса. Кратко опишите выводы.\n",
    "Улучшите качество модели, учитывая дисбаланс классов. Обучите разные модели и найдите лучшую. Кратко опишите выводы.\n",
    "Проведите финальное тестирование.\n",
    "<br>\n"
   ]
  },
  {
   "cell_type": "markdown",
   "metadata": {},
   "source": [
    "## Изучение данных"
   ]
  },
  {
   "cell_type": "markdown",
   "metadata": {},
   "source": [
    "Импорт необходимых библиотек."
   ]
  },
  {
   "cell_type": "code",
   "execution_count": 4,
   "metadata": {},
   "outputs": [],
   "source": [
    "import pandas as pd\n",
    "from sklearn.model_selection import train_test_split\n",
    "from sklearn.metrics import accuracy_score\n",
    "from sklearn.model_selection import GridSearchCV\n",
    "from sklearn.tree import DecisionTreeClassifier\n",
    "from sklearn.ensemble import RandomForestClassifier\n",
    "from sklearn.linear_model import LogisticRegression\n",
    "from sklearn.metrics import f1_score, precision_score, recall_score, accuracy_score, roc_auc_score, roc_curve\n",
    "from sklearn.utils import shuffle\n",
    "from sklearn.preprocessing import StandardScaler\n",
    "import matplotlib.pyplot as plt\n",
    "import warnings\n",
    "warnings.filterwarnings('ignore')"
   ]
  },
  {
   "cell_type": "markdown",
   "metadata": {},
   "source": [
    "Открытие файла с данными."
   ]
  },
  {
   "cell_type": "code",
   "execution_count": 5,
   "metadata": {},
   "outputs": [
    {
     "data": {
      "text/html": [
       "<div>\n",
       "<style scoped>\n",
       "    .dataframe tbody tr th:only-of-type {\n",
       "        vertical-align: middle;\n",
       "    }\n",
       "\n",
       "    .dataframe tbody tr th {\n",
       "        vertical-align: top;\n",
       "    }\n",
       "\n",
       "    .dataframe thead th {\n",
       "        text-align: right;\n",
       "    }\n",
       "</style>\n",
       "<table border=\"1\" class=\"dataframe\">\n",
       "  <thead>\n",
       "    <tr style=\"text-align: right;\">\n",
       "      <th></th>\n",
       "      <th>RowNumber</th>\n",
       "      <th>CustomerId</th>\n",
       "      <th>Surname</th>\n",
       "      <th>CreditScore</th>\n",
       "      <th>Geography</th>\n",
       "      <th>Gender</th>\n",
       "      <th>Age</th>\n",
       "      <th>Tenure</th>\n",
       "      <th>Balance</th>\n",
       "      <th>NumOfProducts</th>\n",
       "      <th>HasCrCard</th>\n",
       "      <th>IsActiveMember</th>\n",
       "      <th>EstimatedSalary</th>\n",
       "      <th>Exited</th>\n",
       "    </tr>\n",
       "  </thead>\n",
       "  <tbody>\n",
       "    <tr>\n",
       "      <th>0</th>\n",
       "      <td>1</td>\n",
       "      <td>15634602</td>\n",
       "      <td>Hargrave</td>\n",
       "      <td>619</td>\n",
       "      <td>France</td>\n",
       "      <td>Female</td>\n",
       "      <td>42</td>\n",
       "      <td>2.0</td>\n",
       "      <td>0.00</td>\n",
       "      <td>1</td>\n",
       "      <td>1</td>\n",
       "      <td>1</td>\n",
       "      <td>101348.88</td>\n",
       "      <td>1</td>\n",
       "    </tr>\n",
       "    <tr>\n",
       "      <th>1</th>\n",
       "      <td>2</td>\n",
       "      <td>15647311</td>\n",
       "      <td>Hill</td>\n",
       "      <td>608</td>\n",
       "      <td>Spain</td>\n",
       "      <td>Female</td>\n",
       "      <td>41</td>\n",
       "      <td>1.0</td>\n",
       "      <td>83807.86</td>\n",
       "      <td>1</td>\n",
       "      <td>0</td>\n",
       "      <td>1</td>\n",
       "      <td>112542.58</td>\n",
       "      <td>0</td>\n",
       "    </tr>\n",
       "    <tr>\n",
       "      <th>2</th>\n",
       "      <td>3</td>\n",
       "      <td>15619304</td>\n",
       "      <td>Onio</td>\n",
       "      <td>502</td>\n",
       "      <td>France</td>\n",
       "      <td>Female</td>\n",
       "      <td>42</td>\n",
       "      <td>8.0</td>\n",
       "      <td>159660.80</td>\n",
       "      <td>3</td>\n",
       "      <td>1</td>\n",
       "      <td>0</td>\n",
       "      <td>113931.57</td>\n",
       "      <td>1</td>\n",
       "    </tr>\n",
       "    <tr>\n",
       "      <th>3</th>\n",
       "      <td>4</td>\n",
       "      <td>15701354</td>\n",
       "      <td>Boni</td>\n",
       "      <td>699</td>\n",
       "      <td>France</td>\n",
       "      <td>Female</td>\n",
       "      <td>39</td>\n",
       "      <td>1.0</td>\n",
       "      <td>0.00</td>\n",
       "      <td>2</td>\n",
       "      <td>0</td>\n",
       "      <td>0</td>\n",
       "      <td>93826.63</td>\n",
       "      <td>0</td>\n",
       "    </tr>\n",
       "    <tr>\n",
       "      <th>4</th>\n",
       "      <td>5</td>\n",
       "      <td>15737888</td>\n",
       "      <td>Mitchell</td>\n",
       "      <td>850</td>\n",
       "      <td>Spain</td>\n",
       "      <td>Female</td>\n",
       "      <td>43</td>\n",
       "      <td>2.0</td>\n",
       "      <td>125510.82</td>\n",
       "      <td>1</td>\n",
       "      <td>1</td>\n",
       "      <td>1</td>\n",
       "      <td>79084.10</td>\n",
       "      <td>0</td>\n",
       "    </tr>\n",
       "    <tr>\n",
       "      <th>5</th>\n",
       "      <td>6</td>\n",
       "      <td>15574012</td>\n",
       "      <td>Chu</td>\n",
       "      <td>645</td>\n",
       "      <td>Spain</td>\n",
       "      <td>Male</td>\n",
       "      <td>44</td>\n",
       "      <td>8.0</td>\n",
       "      <td>113755.78</td>\n",
       "      <td>2</td>\n",
       "      <td>1</td>\n",
       "      <td>0</td>\n",
       "      <td>149756.71</td>\n",
       "      <td>1</td>\n",
       "    </tr>\n",
       "    <tr>\n",
       "      <th>6</th>\n",
       "      <td>7</td>\n",
       "      <td>15592531</td>\n",
       "      <td>Bartlett</td>\n",
       "      <td>822</td>\n",
       "      <td>France</td>\n",
       "      <td>Male</td>\n",
       "      <td>50</td>\n",
       "      <td>7.0</td>\n",
       "      <td>0.00</td>\n",
       "      <td>2</td>\n",
       "      <td>1</td>\n",
       "      <td>1</td>\n",
       "      <td>10062.80</td>\n",
       "      <td>0</td>\n",
       "    </tr>\n",
       "    <tr>\n",
       "      <th>7</th>\n",
       "      <td>8</td>\n",
       "      <td>15656148</td>\n",
       "      <td>Obinna</td>\n",
       "      <td>376</td>\n",
       "      <td>Germany</td>\n",
       "      <td>Female</td>\n",
       "      <td>29</td>\n",
       "      <td>4.0</td>\n",
       "      <td>115046.74</td>\n",
       "      <td>4</td>\n",
       "      <td>1</td>\n",
       "      <td>0</td>\n",
       "      <td>119346.88</td>\n",
       "      <td>1</td>\n",
       "    </tr>\n",
       "    <tr>\n",
       "      <th>8</th>\n",
       "      <td>9</td>\n",
       "      <td>15792365</td>\n",
       "      <td>He</td>\n",
       "      <td>501</td>\n",
       "      <td>France</td>\n",
       "      <td>Male</td>\n",
       "      <td>44</td>\n",
       "      <td>4.0</td>\n",
       "      <td>142051.07</td>\n",
       "      <td>2</td>\n",
       "      <td>0</td>\n",
       "      <td>1</td>\n",
       "      <td>74940.50</td>\n",
       "      <td>0</td>\n",
       "    </tr>\n",
       "    <tr>\n",
       "      <th>9</th>\n",
       "      <td>10</td>\n",
       "      <td>15592389</td>\n",
       "      <td>H?</td>\n",
       "      <td>684</td>\n",
       "      <td>France</td>\n",
       "      <td>Male</td>\n",
       "      <td>27</td>\n",
       "      <td>2.0</td>\n",
       "      <td>134603.88</td>\n",
       "      <td>1</td>\n",
       "      <td>1</td>\n",
       "      <td>1</td>\n",
       "      <td>71725.73</td>\n",
       "      <td>0</td>\n",
       "    </tr>\n",
       "  </tbody>\n",
       "</table>\n",
       "</div>"
      ],
      "text/plain": [
       "   RowNumber  CustomerId   Surname  CreditScore Geography  Gender  Age  \\\n",
       "0          1    15634602  Hargrave          619    France  Female   42   \n",
       "1          2    15647311      Hill          608     Spain  Female   41   \n",
       "2          3    15619304      Onio          502    France  Female   42   \n",
       "3          4    15701354      Boni          699    France  Female   39   \n",
       "4          5    15737888  Mitchell          850     Spain  Female   43   \n",
       "5          6    15574012       Chu          645     Spain    Male   44   \n",
       "6          7    15592531  Bartlett          822    France    Male   50   \n",
       "7          8    15656148    Obinna          376   Germany  Female   29   \n",
       "8          9    15792365        He          501    France    Male   44   \n",
       "9         10    15592389        H?          684    France    Male   27   \n",
       "\n",
       "   Tenure    Balance  NumOfProducts  HasCrCard  IsActiveMember  \\\n",
       "0     2.0       0.00              1          1               1   \n",
       "1     1.0   83807.86              1          0               1   \n",
       "2     8.0  159660.80              3          1               0   \n",
       "3     1.0       0.00              2          0               0   \n",
       "4     2.0  125510.82              1          1               1   \n",
       "5     8.0  113755.78              2          1               0   \n",
       "6     7.0       0.00              2          1               1   \n",
       "7     4.0  115046.74              4          1               0   \n",
       "8     4.0  142051.07              2          0               1   \n",
       "9     2.0  134603.88              1          1               1   \n",
       "\n",
       "   EstimatedSalary  Exited  \n",
       "0        101348.88       1  \n",
       "1        112542.58       0  \n",
       "2        113931.57       1  \n",
       "3         93826.63       0  \n",
       "4         79084.10       0  \n",
       "5        149756.71       1  \n",
       "6         10062.80       0  \n",
       "7        119346.88       1  \n",
       "8         74940.50       0  \n",
       "9         71725.73       0  "
      ]
     },
     "metadata": {},
     "output_type": "display_data"
    }
   ],
   "source": [
    "try:  \n",
    "    data = pd.read_csv('C:/Churn.csv')\n",
    "except OSError as e:\n",
    "    data = pd.read_csv('/datasets/Churn.csv')\n",
    "display(data.head(10))"
   ]
  },
  {
   "cell_type": "markdown",
   "metadata": {},
   "source": [
    "# Описание данных\n",
    "<br>\n",
    "\n",
    "Данные находятся в файле /datasets/Churn.csv (англ. «отток клиентов»). Скачать датасет\n",
    "<br>\n",
    "\n",
    "**Признаки** \n",
    "\n",
    "- RowNumber — индекс строки в данных\n",
    "- CustomerId — уникальный идентификатор клиента\n",
    "- Surname — фамилия\n",
    "- CreditScore — кредитный рейтинг\n",
    "- Geography — страна проживания\n",
    "- Gender — пол\n",
    "- Age — возраст\n",
    "- Tenure — сколько лет человек является клиентом банка\n",
    "- Balance — баланс на счёте\n",
    "- NumOfProducts — количество продуктов банка, используемых клиентом\n",
    "- HasCrCard — наличие кредитной карты\n",
    "- IsActiveMember — активность клиента\n",
    "- EstimatedSalary — предполагаемая зарплата\n",
    "<br>\n",
    "\n",
    "**Целевой признак**\n",
    "\n",
    "- Exited — факт ухода клиента"
   ]
  },
  {
   "cell_type": "code",
   "execution_count": 6,
   "metadata": {},
   "outputs": [
    {
     "name": "stdout",
     "output_type": "stream",
     "text": [
      "<class 'pandas.core.frame.DataFrame'>\n",
      "RangeIndex: 10000 entries, 0 to 9999\n",
      "Data columns (total 14 columns):\n",
      " #   Column           Non-Null Count  Dtype  \n",
      "---  ------           --------------  -----  \n",
      " 0   RowNumber        10000 non-null  int64  \n",
      " 1   CustomerId       10000 non-null  int64  \n",
      " 2   Surname          10000 non-null  object \n",
      " 3   CreditScore      10000 non-null  int64  \n",
      " 4   Geography        10000 non-null  object \n",
      " 5   Gender           10000 non-null  object \n",
      " 6   Age              10000 non-null  int64  \n",
      " 7   Tenure           9091 non-null   float64\n",
      " 8   Balance          10000 non-null  float64\n",
      " 9   NumOfProducts    10000 non-null  int64  \n",
      " 10  HasCrCard        10000 non-null  int64  \n",
      " 11  IsActiveMember   10000 non-null  int64  \n",
      " 12  EstimatedSalary  10000 non-null  float64\n",
      " 13  Exited           10000 non-null  int64  \n",
      "dtypes: float64(3), int64(8), object(3)\n",
      "memory usage: 1.1+ MB\n"
     ]
    }
   ],
   "source": [
    "data.info()"
   ]
  },
  {
   "cell_type": "markdown",
   "metadata": {},
   "source": [
    "Считаю, что проверять столбцы `RowNumber`(столбец дублирует индекс), `CustomerId`, `Surname` нет смысла, т.к. они не важны для исследования."
   ]
  },
  {
   "cell_type": "code",
   "execution_count": 7,
   "metadata": {},
   "outputs": [
    {
     "data": {
      "text/plain": [
       "array([350, 351, 358, 359, 363, 365, 367, 373, 376, 382, 383, 386, 395,\n",
       "       399, 401, 404, 405, 407, 408, 410, 411, 412, 413, 414, 415, 416,\n",
       "       417, 418, 419, 420, 421, 422, 423, 424, 425, 426, 427, 428, 429,\n",
       "       430, 431, 432, 433, 434, 435, 436, 437, 438, 439, 440, 441, 442,\n",
       "       443, 444, 445, 446, 447, 448, 449, 450, 451, 452, 453, 454, 455,\n",
       "       456, 457, 458, 459, 460, 461, 462, 463, 464, 465, 466, 467, 468,\n",
       "       469, 470, 471, 472, 473, 474, 475, 476, 477, 478, 479, 480, 481,\n",
       "       482, 483, 484, 485, 486, 487, 488, 489, 490, 491, 492, 493, 494,\n",
       "       495, 496, 497, 498, 499, 500, 501, 502, 503, 504, 505, 506, 507,\n",
       "       508, 509, 510, 511, 512, 513, 514, 515, 516, 517, 518, 519, 520,\n",
       "       521, 522, 523, 524, 525, 526, 527, 528, 529, 530, 531, 532, 533,\n",
       "       534, 535, 536, 537, 538, 539, 540, 541, 542, 543, 544, 545, 546,\n",
       "       547, 548, 549, 550, 551, 552, 553, 554, 555, 556, 557, 558, 559,\n",
       "       560, 561, 562, 563, 564, 565, 566, 567, 568, 569, 570, 571, 572,\n",
       "       573, 574, 575, 576, 577, 578, 579, 580, 581, 582, 583, 584, 585,\n",
       "       586, 587, 588, 589, 590, 591, 592, 593, 594, 595, 596, 597, 598,\n",
       "       599, 600, 601, 602, 603, 604, 605, 606, 607, 608, 609, 610, 611,\n",
       "       612, 613, 614, 615, 616, 617, 618, 619, 620, 621, 622, 623, 624,\n",
       "       625, 626, 627, 628, 629, 630, 631, 632, 633, 634, 635, 636, 637,\n",
       "       638, 639, 640, 641, 642, 643, 644, 645, 646, 647, 648, 649, 650,\n",
       "       651, 652, 653, 654, 655, 656, 657, 658, 659, 660, 661, 662, 663,\n",
       "       664, 665, 666, 667, 668, 669, 670, 671, 672, 673, 674, 675, 676,\n",
       "       677, 678, 679, 680, 681, 682, 683, 684, 685, 686, 687, 688, 689,\n",
       "       690, 691, 692, 693, 694, 695, 696, 697, 698, 699, 700, 701, 702,\n",
       "       703, 704, 705, 706, 707, 708, 709, 710, 711, 712, 713, 714, 715,\n",
       "       716, 717, 718, 719, 720, 721, 722, 723, 724, 725, 726, 727, 728,\n",
       "       729, 730, 731, 732, 733, 734, 735, 736, 737, 738, 739, 740, 741,\n",
       "       742, 743, 744, 745, 746, 747, 748, 749, 750, 751, 752, 753, 754,\n",
       "       755, 756, 757, 758, 759, 760, 761, 762, 763, 764, 765, 766, 767,\n",
       "       768, 769, 770, 771, 772, 773, 774, 775, 776, 777, 778, 779, 780,\n",
       "       781, 782, 783, 784, 785, 786, 787, 788, 789, 790, 791, 792, 793,\n",
       "       794, 795, 796, 797, 798, 799, 800, 801, 802, 803, 804, 805, 806,\n",
       "       807, 808, 809, 810, 811, 812, 813, 814, 815, 816, 817, 818, 819,\n",
       "       820, 821, 822, 823, 824, 825, 826, 827, 828, 829, 830, 831, 832,\n",
       "       833, 834, 835, 836, 837, 838, 839, 840, 841, 842, 843, 844, 845,\n",
       "       846, 847, 848, 849, 850])"
      ]
     },
     "execution_count": 7,
     "metadata": {},
     "output_type": "execute_result"
    }
   ],
   "source": [
    "data['CreditScore'].sort_values().unique()"
   ]
  },
  {
   "cell_type": "markdown",
   "metadata": {},
   "source": [
    "Аномальных значений не обнаружено."
   ]
  },
  {
   "cell_type": "code",
   "execution_count": 8,
   "metadata": {},
   "outputs": [
    {
     "data": {
      "text/plain": [
       "array(['France', 'Spain', 'Germany'], dtype=object)"
      ]
     },
     "execution_count": 8,
     "metadata": {},
     "output_type": "execute_result"
    }
   ],
   "source": [
    "data['Geography'].unique()"
   ]
  },
  {
   "cell_type": "code",
   "execution_count": 9,
   "metadata": {},
   "outputs": [
    {
     "data": {
      "text/plain": [
       "array(['Female', 'Male'], dtype=object)"
      ]
     },
     "execution_count": 9,
     "metadata": {},
     "output_type": "execute_result"
    }
   ],
   "source": [
    "data['Gender'].unique()"
   ]
  },
  {
   "cell_type": "code",
   "execution_count": 10,
   "metadata": {},
   "outputs": [
    {
     "data": {
      "text/plain": [
       "array([18, 19, 20, 21, 22, 23, 24, 25, 26, 27, 28, 29, 30, 31, 32, 33, 34,\n",
       "       35, 36, 37, 38, 39, 40, 41, 42, 43, 44, 45, 46, 47, 48, 49, 50, 51,\n",
       "       52, 53, 54, 55, 56, 57, 58, 59, 60, 61, 62, 63, 64, 65, 66, 67, 68,\n",
       "       69, 70, 71, 72, 73, 74, 75, 76, 77, 78, 79, 80, 81, 82, 83, 84, 85,\n",
       "       88, 92])"
      ]
     },
     "execution_count": 10,
     "metadata": {},
     "output_type": "execute_result"
    }
   ],
   "source": [
    "data['Age'].sort_values().unique()"
   ]
  },
  {
   "cell_type": "markdown",
   "metadata": {},
   "source": [
    "Аномальных значений по столбцам не обнаружено."
   ]
  },
  {
   "cell_type": "code",
   "execution_count": 11,
   "metadata": {},
   "outputs": [
    {
     "data": {
      "text/plain": [
       "array([ 0.,  1.,  2.,  3.,  4.,  5.,  6.,  7.,  8.,  9., 10., nan])"
      ]
     },
     "metadata": {},
     "output_type": "display_data"
    },
    {
     "data": {
      "text/plain": [
       "909"
      ]
     },
     "metadata": {},
     "output_type": "display_data"
    }
   ],
   "source": [
    "display(data['Tenure'].sort_values().unique())\n",
    "display(data['Tenure'].isna().sum())"
   ]
  },
  {
   "cell_type": "markdown",
   "metadata": {},
   "source": [
    "В столбце присутсвует 900 NaN."
   ]
  },
  {
   "cell_type": "code",
   "execution_count": 12,
   "metadata": {},
   "outputs": [
    {
     "data": {
      "text/plain": [
       "array([     0.  ,   3768.69,  12459.19, ..., 222267.63, 238387.56,\n",
       "       250898.09])"
      ]
     },
     "execution_count": 12,
     "metadata": {},
     "output_type": "execute_result"
    }
   ],
   "source": [
    "data['Balance'].sort_values().unique()"
   ]
  },
  {
   "cell_type": "markdown",
   "metadata": {},
   "source": [
    "Присутствуют 0."
   ]
  },
  {
   "cell_type": "code",
   "execution_count": 13,
   "metadata": {},
   "outputs": [
    {
     "data": {
      "text/plain": [
       "array([1, 3, 2, 4])"
      ]
     },
     "execution_count": 13,
     "metadata": {},
     "output_type": "execute_result"
    }
   ],
   "source": [
    "data['NumOfProducts'].unique()"
   ]
  },
  {
   "cell_type": "code",
   "execution_count": 14,
   "metadata": {},
   "outputs": [
    {
     "data": {
      "text/plain": [
       "array([1, 0])"
      ]
     },
     "execution_count": 14,
     "metadata": {},
     "output_type": "execute_result"
    }
   ],
   "source": [
    "data['HasCrCard'].unique()"
   ]
  },
  {
   "cell_type": "code",
   "execution_count": 15,
   "metadata": {},
   "outputs": [
    {
     "data": {
      "text/plain": [
       "array([1, 0])"
      ]
     },
     "execution_count": 15,
     "metadata": {},
     "output_type": "execute_result"
    }
   ],
   "source": [
    "data['IsActiveMember'].unique()"
   ]
  },
  {
   "cell_type": "code",
   "execution_count": 16,
   "metadata": {},
   "outputs": [
    {
     "data": {
      "text/plain": [
       "array([1.1580000e+01, 9.0070000e+01, 9.1750000e+01, ..., 1.9995333e+05,\n",
       "       1.9997074e+05, 1.9999248e+05])"
      ]
     },
     "execution_count": 16,
     "metadata": {},
     "output_type": "execute_result"
    }
   ],
   "source": [
    "data['EstimatedSalary'].sort_values().unique()"
   ]
  },
  {
   "cell_type": "code",
   "execution_count": 17,
   "metadata": {},
   "outputs": [
    {
     "data": {
      "text/plain": [
       "array([1, 0])"
      ]
     },
     "execution_count": 17,
     "metadata": {},
     "output_type": "execute_result"
    }
   ],
   "source": [
    "data['Exited'].unique()"
   ]
  },
  {
   "cell_type": "markdown",
   "metadata": {},
   "source": [
    "Аномальных значений по столбцам не обнаружено."
   ]
  },
  {
   "cell_type": "markdown",
   "metadata": {},
   "source": [
    "# Вывод\n",
    "<br>\n",
    "\n",
    "Таблица представляет собой данные о поведении клиентов и расторжении договоров с банком. Считаю, что столбцы не являются важными для исследования : `RowNumber` , `CustomerId`, `Surname`. C первыми двумя всё в норме, в последнем судя по выгруженным первым 10 строкам, содержатся странные символы вместо фамилии \"H?\".\n",
    "<br> \n",
    "\n",
    "Столбцы имеют категориальный признак : `Geography`,`Gender`,`NumOfProducts `,`HasCrCard `,`IsActiveMember`.\n",
    "<br>\n",
    "\n",
    "В остальных столбцах также всё впорядке, кроме столбца `Tenure` в нем содержаться NaN И данные имеют тип float64. Столбцы\n",
    "`Balance` и `EstimatedSalary` имеют тип данным float64, считаю, что его можно привести к типу Integer, т.к. данные столбцы отражают баланс клиента и предполагаемую зарплату, а цифры после запятой не повлияют на исследование.\n",
    "<br>\n",
    "\n",
    "C Целевым признаком столбец `Exited ` также всё в норме. Категориальный признак. \n",
    "<br>\n",
    "\n",
    "Названия столбцов необходимо привести к нижнему \"змеиному\" регистру. "
   ]
  },
  {
   "cell_type": "markdown",
   "metadata": {},
   "source": [
    "## Подготовка данных"
   ]
  },
  {
   "cell_type": "markdown",
   "metadata": {},
   "source": [
    "Удаление ненужных столбцов."
   ]
  },
  {
   "cell_type": "code",
   "execution_count": 18,
   "metadata": {},
   "outputs": [
    {
     "data": {
      "text/html": [
       "<div>\n",
       "<style scoped>\n",
       "    .dataframe tbody tr th:only-of-type {\n",
       "        vertical-align: middle;\n",
       "    }\n",
       "\n",
       "    .dataframe tbody tr th {\n",
       "        vertical-align: top;\n",
       "    }\n",
       "\n",
       "    .dataframe thead th {\n",
       "        text-align: right;\n",
       "    }\n",
       "</style>\n",
       "<table border=\"1\" class=\"dataframe\">\n",
       "  <thead>\n",
       "    <tr style=\"text-align: right;\">\n",
       "      <th></th>\n",
       "      <th>CreditScore</th>\n",
       "      <th>Geography</th>\n",
       "      <th>Gender</th>\n",
       "      <th>Age</th>\n",
       "      <th>Tenure</th>\n",
       "      <th>Balance</th>\n",
       "      <th>NumOfProducts</th>\n",
       "      <th>HasCrCard</th>\n",
       "      <th>IsActiveMember</th>\n",
       "      <th>EstimatedSalary</th>\n",
       "      <th>Exited</th>\n",
       "    </tr>\n",
       "  </thead>\n",
       "  <tbody>\n",
       "    <tr>\n",
       "      <th>0</th>\n",
       "      <td>619</td>\n",
       "      <td>France</td>\n",
       "      <td>Female</td>\n",
       "      <td>42</td>\n",
       "      <td>2.0</td>\n",
       "      <td>0.00</td>\n",
       "      <td>1</td>\n",
       "      <td>1</td>\n",
       "      <td>1</td>\n",
       "      <td>101348.88</td>\n",
       "      <td>1</td>\n",
       "    </tr>\n",
       "    <tr>\n",
       "      <th>1</th>\n",
       "      <td>608</td>\n",
       "      <td>Spain</td>\n",
       "      <td>Female</td>\n",
       "      <td>41</td>\n",
       "      <td>1.0</td>\n",
       "      <td>83807.86</td>\n",
       "      <td>1</td>\n",
       "      <td>0</td>\n",
       "      <td>1</td>\n",
       "      <td>112542.58</td>\n",
       "      <td>0</td>\n",
       "    </tr>\n",
       "    <tr>\n",
       "      <th>2</th>\n",
       "      <td>502</td>\n",
       "      <td>France</td>\n",
       "      <td>Female</td>\n",
       "      <td>42</td>\n",
       "      <td>8.0</td>\n",
       "      <td>159660.80</td>\n",
       "      <td>3</td>\n",
       "      <td>1</td>\n",
       "      <td>0</td>\n",
       "      <td>113931.57</td>\n",
       "      <td>1</td>\n",
       "    </tr>\n",
       "  </tbody>\n",
       "</table>\n",
       "</div>"
      ],
      "text/plain": [
       "   CreditScore Geography  Gender  Age  Tenure    Balance  NumOfProducts  \\\n",
       "0          619    France  Female   42     2.0       0.00              1   \n",
       "1          608     Spain  Female   41     1.0   83807.86              1   \n",
       "2          502    France  Female   42     8.0  159660.80              3   \n",
       "\n",
       "   HasCrCard  IsActiveMember  EstimatedSalary  Exited  \n",
       "0          1               1        101348.88       1  \n",
       "1          0               1        112542.58       0  \n",
       "2          1               0        113931.57       1  "
      ]
     },
     "execution_count": 18,
     "metadata": {},
     "output_type": "execute_result"
    }
   ],
   "source": [
    "data = data.drop(['RowNumber', 'CustomerId', 'Surname'], axis = 1)\n",
    "data.head(3)"
   ]
  },
  {
   "cell_type": "markdown",
   "metadata": {},
   "source": [
    "Переименование столбцов."
   ]
  },
  {
   "cell_type": "code",
   "execution_count": 19,
   "metadata": {},
   "outputs": [
    {
     "data": {
      "text/html": [
       "<div>\n",
       "<style scoped>\n",
       "    .dataframe tbody tr th:only-of-type {\n",
       "        vertical-align: middle;\n",
       "    }\n",
       "\n",
       "    .dataframe tbody tr th {\n",
       "        vertical-align: top;\n",
       "    }\n",
       "\n",
       "    .dataframe thead th {\n",
       "        text-align: right;\n",
       "    }\n",
       "</style>\n",
       "<table border=\"1\" class=\"dataframe\">\n",
       "  <thead>\n",
       "    <tr style=\"text-align: right;\">\n",
       "      <th></th>\n",
       "      <th>credit_score</th>\n",
       "      <th>geography</th>\n",
       "      <th>gender</th>\n",
       "      <th>age</th>\n",
       "      <th>tenure</th>\n",
       "      <th>balance</th>\n",
       "      <th>num_of_products</th>\n",
       "      <th>has_cr_card</th>\n",
       "      <th>is_active_member</th>\n",
       "      <th>estimated_salary</th>\n",
       "      <th>exited</th>\n",
       "    </tr>\n",
       "  </thead>\n",
       "  <tbody>\n",
       "    <tr>\n",
       "      <th>0</th>\n",
       "      <td>619</td>\n",
       "      <td>France</td>\n",
       "      <td>Female</td>\n",
       "      <td>42</td>\n",
       "      <td>2.0</td>\n",
       "      <td>0.00</td>\n",
       "      <td>1</td>\n",
       "      <td>1</td>\n",
       "      <td>1</td>\n",
       "      <td>101348.88</td>\n",
       "      <td>1</td>\n",
       "    </tr>\n",
       "    <tr>\n",
       "      <th>1</th>\n",
       "      <td>608</td>\n",
       "      <td>Spain</td>\n",
       "      <td>Female</td>\n",
       "      <td>41</td>\n",
       "      <td>1.0</td>\n",
       "      <td>83807.86</td>\n",
       "      <td>1</td>\n",
       "      <td>0</td>\n",
       "      <td>1</td>\n",
       "      <td>112542.58</td>\n",
       "      <td>0</td>\n",
       "    </tr>\n",
       "    <tr>\n",
       "      <th>2</th>\n",
       "      <td>502</td>\n",
       "      <td>France</td>\n",
       "      <td>Female</td>\n",
       "      <td>42</td>\n",
       "      <td>8.0</td>\n",
       "      <td>159660.80</td>\n",
       "      <td>3</td>\n",
       "      <td>1</td>\n",
       "      <td>0</td>\n",
       "      <td>113931.57</td>\n",
       "      <td>1</td>\n",
       "    </tr>\n",
       "  </tbody>\n",
       "</table>\n",
       "</div>"
      ],
      "text/plain": [
       "   credit_score geography  gender  age  tenure    balance  num_of_products  \\\n",
       "0           619    France  Female   42     2.0       0.00                1   \n",
       "1           608     Spain  Female   41     1.0   83807.86                1   \n",
       "2           502    France  Female   42     8.0  159660.80                3   \n",
       "\n",
       "   has_cr_card  is_active_member  estimated_salary  exited  \n",
       "0            1                 1         101348.88       1  \n",
       "1            0                 1         112542.58       0  \n",
       "2            1                 0         113931.57       1  "
      ]
     },
     "execution_count": 19,
     "metadata": {},
     "output_type": "execute_result"
    }
   ],
   "source": [
    "data.columns = ['credit_score', 'geography', 'gender', 'age', 'tenure', 'balance', 'num_of_products', 'has_cr_card', 'is_active_member', 'estimated_salary', 'exited']\n",
    "data.head(3)"
   ]
  },
  {
   "cell_type": "markdown",
   "metadata": {},
   "source": [
    "Заполню пропущенные значения медианой, т.к она не чувствительна к выбросам."
   ]
  },
  {
   "cell_type": "code",
   "execution_count": 20,
   "metadata": {},
   "outputs": [
    {
     "data": {
      "text/plain": [
       "0"
      ]
     },
     "execution_count": 20,
     "metadata": {},
     "output_type": "execute_result"
    }
   ],
   "source": [
    "data['tenure'] = data['tenure'].fillna(data['tenure'].median())\n",
    "data['tenure'].isna().sum()"
   ]
  },
  {
   "cell_type": "code",
   "execution_count": 21,
   "metadata": {},
   "outputs": [
    {
     "name": "stdout",
     "output_type": "stream",
     "text": [
      "<class 'pandas.core.frame.DataFrame'>\n",
      "RangeIndex: 10000 entries, 0 to 9999\n",
      "Data columns (total 11 columns):\n",
      " #   Column            Non-Null Count  Dtype \n",
      "---  ------            --------------  ----- \n",
      " 0   credit_score      10000 non-null  int64 \n",
      " 1   geography         10000 non-null  object\n",
      " 2   gender            10000 non-null  object\n",
      " 3   age               10000 non-null  int64 \n",
      " 4   tenure            10000 non-null  int64 \n",
      " 5   balance           10000 non-null  int64 \n",
      " 6   num_of_products   10000 non-null  int64 \n",
      " 7   has_cr_card       10000 non-null  int64 \n",
      " 8   is_active_member  10000 non-null  int64 \n",
      " 9   estimated_salary  10000 non-null  int64 \n",
      " 10  exited            10000 non-null  int64 \n",
      "dtypes: int64(9), object(2)\n",
      "memory usage: 859.5+ KB\n"
     ]
    }
   ],
   "source": [
    "data = data.astype({\"tenure\": \"int64\"})\n",
    "data = data.astype({\"balance\": \"int64\"})\n",
    "data = data.astype({\"estimated_salary\": \"int64\"})\n",
    "data.info()"
   ]
  },
  {
   "cell_type": "markdown",
   "metadata": {},
   "source": [
    "# Вывод\n",
    "<br>\n",
    "\n",
    "Таблица подготовлена к исследованию.\n",
    "- Заменены названия столбцов, удалены три ненужных столбца `RowNumber`, `CustomerId` , `Surname`. \n",
    "- Тип данных в столбцах `tenure`,`balance`, `estimated_salary` заменен на int64. \n",
    "- Также пропущенные значения в столбце `tenure` заменены на медианное значение.\n"
   ]
  },
  {
   "cell_type": "markdown",
   "metadata": {},
   "source": [
    "## Исследование задачи"
   ]
  },
  {
   "cell_type": "markdown",
   "metadata": {},
   "source": [
    "В рамках исследования будут обучены три модели - Решающее древо, Случайный лес, Логистическая регрессия.\n",
    "\n",
    "Прежде всего, чтобы избежать дамми-ловушки будет применена OHE-техника с удалением первого столбца."
   ]
  },
  {
   "cell_type": "code",
   "execution_count": 22,
   "metadata": {},
   "outputs": [
    {
     "name": "stdout",
     "output_type": "stream",
     "text": [
      "<class 'pandas.core.frame.DataFrame'>\n",
      "RangeIndex: 10000 entries, 0 to 9999\n",
      "Data columns (total 12 columns):\n",
      " #   Column             Non-Null Count  Dtype\n",
      "---  ------             --------------  -----\n",
      " 0   credit_score       10000 non-null  int64\n",
      " 1   age                10000 non-null  int64\n",
      " 2   tenure             10000 non-null  int64\n",
      " 3   balance            10000 non-null  int64\n",
      " 4   num_of_products    10000 non-null  int64\n",
      " 5   has_cr_card        10000 non-null  int64\n",
      " 6   is_active_member   10000 non-null  int64\n",
      " 7   estimated_salary   10000 non-null  int64\n",
      " 8   exited             10000 non-null  int64\n",
      " 9   geography_germany  10000 non-null  uint8\n",
      " 10  geography_spain    10000 non-null  uint8\n",
      " 11  gender_male        10000 non-null  uint8\n",
      "dtypes: int64(9), uint8(3)\n",
      "memory usage: 732.5 KB\n"
     ]
    }
   ],
   "source": [
    "data = pd.get_dummies(data, drop_first=True)\n",
    "data.columns = map(str.lower, data.columns)\n",
    "data.info()"
   ]
  },
  {
   "cell_type": "markdown",
   "metadata": {},
   "source": [
    "Разобьем имеющиеся данные на три выборки - обучающую, валидационную и тестовую в соотношении 60/20/20."
   ]
  },
  {
   "cell_type": "code",
   "execution_count": 23,
   "metadata": {},
   "outputs": [
    {
     "name": "stdout",
     "output_type": "stream",
     "text": [
      "Размер обучающей выборки 6000\n",
      "Размер валидационной выборки 2000\n",
      "Размер тестовой выборки 2000\n"
     ]
    }
   ],
   "source": [
    "target = data['exited']\n",
    "features = data.drop('exited', axis=1)\n",
    "\n",
    "#отделим обучающую выборку\n",
    "train_data, other_data = train_test_split(data, test_size=0.40, random_state=12345, stratify = data['exited'])\n",
    "#разделим оставшиеся данные на валидационную и тестовую выборки\n",
    "valid_data, test_data = train_test_split(other_data, test_size=0.50, random_state=12345, stratify = other_data['exited'])\n",
    "\n",
    "print('Размер обучающей выборки', train_data.shape[0])\n",
    "print('Размер валидационной выборки', valid_data.shape[0])\n",
    "print('Размер тестовой выборки', test_data.shape[0])"
   ]
  },
  {
   "cell_type": "markdown",
   "metadata": {},
   "source": [
    "Разделим выборки на features и target. Целовой признак - столбец 'exited'."
   ]
  },
  {
   "cell_type": "code",
   "execution_count": 51,
   "metadata": {},
   "outputs": [],
   "source": [
    "train_features = train_data.drop(['exited'], axis=1)\n",
    "train_target = train_data['exited']\n",
    "valid_features = valid_data.drop(['exited'], axis=1)\n",
    "valid_target = valid_data['exited']\n",
    "test_features = test_data.drop(['exited'], axis=1)\n",
    "test_target = test_data['exited']"
   ]
  },
  {
   "cell_type": "markdown",
   "metadata": {},
   "source": [
    "Произведем масштабирование features выборок."
   ]
  },
  {
   "cell_type": "code",
   "execution_count": 25,
   "metadata": {},
   "outputs": [
    {
     "data": {
      "text/html": [
       "<div>\n",
       "<style scoped>\n",
       "    .dataframe tbody tr th:only-of-type {\n",
       "        vertical-align: middle;\n",
       "    }\n",
       "\n",
       "    .dataframe tbody tr th {\n",
       "        vertical-align: top;\n",
       "    }\n",
       "\n",
       "    .dataframe thead th {\n",
       "        text-align: right;\n",
       "    }\n",
       "</style>\n",
       "<table border=\"1\" class=\"dataframe\">\n",
       "  <thead>\n",
       "    <tr style=\"text-align: right;\">\n",
       "      <th></th>\n",
       "      <th>credit_score</th>\n",
       "      <th>age</th>\n",
       "      <th>tenure</th>\n",
       "      <th>balance</th>\n",
       "      <th>num_of_products</th>\n",
       "      <th>has_cr_card</th>\n",
       "      <th>is_active_member</th>\n",
       "      <th>estimated_salary</th>\n",
       "      <th>geography_germany</th>\n",
       "      <th>geography_spain</th>\n",
       "      <th>gender_male</th>\n",
       "    </tr>\n",
       "  </thead>\n",
       "  <tbody>\n",
       "    <tr>\n",
       "      <th>2837</th>\n",
       "      <td>-1.040434</td>\n",
       "      <td>0.953312</td>\n",
       "      <td>0.360600</td>\n",
       "      <td>0.774662</td>\n",
       "      <td>1</td>\n",
       "      <td>0</td>\n",
       "      <td>1</td>\n",
       "      <td>-0.119108</td>\n",
       "      <td>1</td>\n",
       "      <td>0</td>\n",
       "      <td>0</td>\n",
       "    </tr>\n",
       "    <tr>\n",
       "      <th>9925</th>\n",
       "      <td>0.454006</td>\n",
       "      <td>-0.095244</td>\n",
       "      <td>-0.002786</td>\n",
       "      <td>1.910545</td>\n",
       "      <td>1</td>\n",
       "      <td>1</td>\n",
       "      <td>1</td>\n",
       "      <td>-0.258665</td>\n",
       "      <td>0</td>\n",
       "      <td>0</td>\n",
       "      <td>0</td>\n",
       "    </tr>\n",
       "    <tr>\n",
       "      <th>8746</th>\n",
       "      <td>0.103585</td>\n",
       "      <td>-0.476537</td>\n",
       "      <td>1.087371</td>\n",
       "      <td>0.481604</td>\n",
       "      <td>2</td>\n",
       "      <td>0</td>\n",
       "      <td>1</td>\n",
       "      <td>1.422833</td>\n",
       "      <td>0</td>\n",
       "      <td>0</td>\n",
       "      <td>1</td>\n",
       "    </tr>\n",
       "    <tr>\n",
       "      <th>660</th>\n",
       "      <td>-0.184996</td>\n",
       "      <td>0.190726</td>\n",
       "      <td>-0.002786</td>\n",
       "      <td>0.088438</td>\n",
       "      <td>1</td>\n",
       "      <td>1</td>\n",
       "      <td>1</td>\n",
       "      <td>-1.160422</td>\n",
       "      <td>1</td>\n",
       "      <td>0</td>\n",
       "      <td>0</td>\n",
       "    </tr>\n",
       "    <tr>\n",
       "      <th>3610</th>\n",
       "      <td>-0.720933</td>\n",
       "      <td>1.620574</td>\n",
       "      <td>-1.456328</td>\n",
       "      <td>0.879132</td>\n",
       "      <td>1</td>\n",
       "      <td>1</td>\n",
       "      <td>0</td>\n",
       "      <td>0.113232</td>\n",
       "      <td>0</td>\n",
       "      <td>0</td>\n",
       "      <td>0</td>\n",
       "    </tr>\n",
       "  </tbody>\n",
       "</table>\n",
       "</div>"
      ],
      "text/plain": [
       "      credit_score       age    tenure   balance  num_of_products  \\\n",
       "2837     -1.040434  0.953312  0.360600  0.774662                1   \n",
       "9925      0.454006 -0.095244 -0.002786  1.910545                1   \n",
       "8746      0.103585 -0.476537  1.087371  0.481604                2   \n",
       "660      -0.184996  0.190726 -0.002786  0.088438                1   \n",
       "3610     -0.720933  1.620574 -1.456328  0.879132                1   \n",
       "\n",
       "      has_cr_card  is_active_member  estimated_salary  geography_germany  \\\n",
       "2837            0                 1         -0.119108                  1   \n",
       "9925            1                 1         -0.258665                  0   \n",
       "8746            0                 1          1.422833                  0   \n",
       "660             1                 1         -1.160422                  1   \n",
       "3610            1                 0          0.113232                  0   \n",
       "\n",
       "      geography_spain  gender_male  \n",
       "2837                0            0  \n",
       "9925                0            0  \n",
       "8746                0            1  \n",
       "660                 0            0  \n",
       "3610                0            0  "
      ]
     },
     "metadata": {},
     "output_type": "display_data"
    }
   ],
   "source": [
    "numeric = ['credit_score', 'age', 'tenure', 'balance', 'estimated_salary']\n",
    "\n",
    "scaler = StandardScaler()\n",
    "scaler.fit(train_features[numeric])\n",
    "train_features[numeric] = scaler.transform(train_features[numeric])\n",
    "valid_features[numeric] = scaler.transform(valid_features[numeric])\n",
    "test_features[numeric] = scaler.transform(test_features[numeric])\n",
    "\n",
    "display(train_features.head())"
   ]
  },
  {
   "cell_type": "markdown",
   "metadata": {},
   "source": [
    "### Решающее древо"
   ]
  },
  {
   "cell_type": "markdown",
   "metadata": {},
   "source": [
    "Подберём наиболее подходящие параметры для решающего древа."
   ]
  },
  {
   "cell_type": "code",
   "execution_count": 23,
   "metadata": {},
   "outputs": [
    {
     "name": "stdout",
     "output_type": "stream",
     "text": [
      "CPU times: user 6min 17s, sys: 513 ms, total: 6min 18s\n",
      "Wall time: 6min 24s\n"
     ]
    },
    {
     "data": {
      "text/plain": [
       "{'ccp_alpha': 0.001,\n",
       " 'criterion': 'entropy',\n",
       " 'max_depth': 5,\n",
       " 'max_leaf_nodes': 11}"
      ]
     },
     "execution_count": 23,
     "metadata": {},
     "output_type": "execute_result"
    }
   ],
   "source": [
    "%%time\n",
    "\n",
    "parametrs = {'max_leaf_nodes': list(range(10, 30)),          \n",
    "             'ccp_alpha': [0.1, .01, .001],            \n",
    "             'max_depth': list(range(2, 30)),             \n",
    "             'criterion': ['gini', 'entropy']             \n",
    "            }\n",
    "\n",
    "clf = DecisionTreeClassifier(random_state=12345)\n",
    "\n",
    "grid = GridSearchCV(clf, parametrs, cv=5)\n",
    "\n",
    "grid.fit(train_features, train_target)\n",
    "\n",
    "grid.best_params_"
   ]
  },
  {
   "cell_type": "markdown",
   "metadata": {},
   "source": [
    "Вычисление F-1-меры и ROC-AUC подобранной модели."
   ]
  },
  {
   "cell_type": "code",
   "execution_count": 26,
   "metadata": {},
   "outputs": [
    {
     "name": "stdout",
     "output_type": "stream",
     "text": [
      "F1 решающего древа : 0.5697329376854599\n",
      "AUC-ROC решающего древа : 0.8236664326534634\n"
     ]
    }
   ],
   "source": [
    "model_dtc = DecisionTreeClassifier(random_state=12345, ccp_alpha = 0.001, max_depth=5, criterion = 'entropy', max_leaf_nodes = 11)\n",
    "model_dtc.fit(train_features, train_target)\n",
    "predictions_valid_dtc = model_dtc.predict(valid_features)\n",
    "print('F1 решающего древа : ', end='')\n",
    "print(f1_score(valid_target,  predictions_valid_dtc))\n",
    "probabilities_valid = model_dtc.predict_proba(valid_features)\n",
    "probabilities_one_valid = probabilities_valid[:, 1]\n",
    "fpr, tpr, thresholds = roc_curve(valid_target, probabilities_one_valid)\n",
    "print('AUC-ROC решающего древа : ', end='')\n",
    "print(roc_auc_score(valid_target, probabilities_one_valid))"
   ]
  },
  {
   "cell_type": "markdown",
   "metadata": {},
   "source": [
    "Будем считать полученную модель древа решений наилучшей."
   ]
  },
  {
   "cell_type": "markdown",
   "metadata": {},
   "source": [
    "### Случайный лес"
   ]
  },
  {
   "cell_type": "markdown",
   "metadata": {},
   "source": [
    "Подберём наиболее подходящие параметры для случайного леса."
   ]
  },
  {
   "cell_type": "code",
   "execution_count": null,
   "metadata": {},
   "outputs": [],
   "source": [
    "%%time\n",
    "\n",
    "parametrs = {'n_estimators': range (1, 60),\n",
    "\n",
    "          'max_depth': range (1, 20, 2),\n",
    "          \n",
    "          'criterion': ['gini', 'entropy'],}\n",
    "          \n",
    "clf = RandomForestClassifier(random_state=12345)\n",
    "\n",
    "grid = GridSearchCV(clf, parametrs, cv=5)\n",
    "\n",
    "grid.fit(train_features, train_target)\n",
    "\n",
    "grid.best_params_"
   ]
  },
  {
   "cell_type": "code",
   "execution_count": 27,
   "metadata": {},
   "outputs": [
    {
     "name": "stdout",
     "output_type": "stream",
     "text": [
      "F1 случайного леса : 0.5828220858895705\n",
      "AUC-ROC случайного леса : 0.8707338777219431\n"
     ]
    }
   ],
   "source": [
    "model_rfc = RandomForestClassifier(random_state=12345, n_estimators=47, criterion =  'gini', max_depth = 9)\n",
    "model_rfc.fit(train_features, train_target)\n",
    "predictions_valid_rfc = model_rfc.predict(valid_features)\n",
    "print('F1 случайного леса : ', end='')\n",
    "print(f1_score(valid_target,  predictions_valid_rfc))\n",
    "probabilities_valid = model_rfc.predict_proba(valid_features)\n",
    "probabilities_one_valid = probabilities_valid[:, 1]\n",
    "fpr, tpr, thresholds = roc_curve(valid_target, probabilities_one_valid)\n",
    "print('AUC-ROC случайного леса : ', end='')\n",
    "print(roc_auc_score(valid_target, probabilities_one_valid))"
   ]
  },
  {
   "cell_type": "markdown",
   "metadata": {},
   "source": [
    "Будем считать полученную модель случайного леса наилучшей."
   ]
  },
  {
   "cell_type": "markdown",
   "metadata": {},
   "source": [
    "### Логистическая регрессия"
   ]
  },
  {
   "cell_type": "markdown",
   "metadata": {},
   "source": [
    "Подберём наиболее подходящие параметры для логистической регрессии."
   ]
  },
  {
   "cell_type": "code",
   "execution_count": 28,
   "metadata": {},
   "outputs": [
    {
     "name": "stdout",
     "output_type": "stream",
     "text": [
      "max_iter = 1 : 0.6619710069957632\n",
      "max_iter = 2 : 0.6982784633954084\n",
      "max_iter = 3 : 0.7593281973593458\n",
      "max_iter = 4 : 0.7647320548822544\n",
      "max_iter = 5 : 0.7799459922159817\n",
      "max_iter = 6 : 0.7860518893487044\n",
      "max_iter = 7 : 0.7851081387328801\n",
      "max_iter = 8 : 0.7844322716523795\n",
      "max_iter = 9 : 0.7844861562715538\n",
      "max_iter = 10 : 0.7852913464380727\n",
      "max_iter = 11 : 0.786698504778796\n",
      "max_iter = 12 : 0.787605305941472\n",
      "max_iter = 13 : 0.7876484136368116\n",
      "max_iter = 14 : 0.7876299389102375\n",
      "max_iter = 15 : 0.7873943861464183\n",
      "max_iter = 16 : 0.787596068578185\n",
      "max_iter = 17 : 0.7875914498965415\n",
      "max_iter = 18 : 0.7875822125332546\n",
      "max_iter = 19 : 0.787597608138733\n",
      "13 0.7876484136368116\n"
     ]
    }
   ],
   "source": [
    "best_iter = 0\n",
    "best_roc_auc = 0\n",
    "for max_iter in range(1,20):\n",
    "    model_lr = LogisticRegression(random_state=12345, max_iter=max_iter)\n",
    "    model_lr.fit(train_features, train_target)\n",
    "    probabilities_valid = model_lr.predict_proba(valid_features)\n",
    "    probabilities_one_valid = probabilities_valid[:, 1]\n",
    "    roc_auc = roc_auc_score(valid_target, probabilities_one_valid)\n",
    "    print('max_iter =', max_iter,':', roc_auc)\n",
    "    if roc_auc > best_roc_auc:\n",
    "        best_iter, best_roc_auc = max_iter, roc_auc        \n",
    "print(best_iter, best_roc_auc)"
   ]
  },
  {
   "cell_type": "markdown",
   "metadata": {},
   "source": [
    "Будем считать модель логистической регрессии с гиперпараметром max_iter = 13 наилучшей."
   ]
  },
  {
   "cell_type": "markdown",
   "metadata": {},
   "source": [
    "Проверка точности модели на валидационной выборке."
   ]
  },
  {
   "cell_type": "code",
   "execution_count": 37,
   "metadata": {},
   "outputs": [
    {
     "name": "stdout",
     "output_type": "stream",
     "text": [
      "F1 логистической регрессии : 0.3071297989031079\n",
      "AUC-ROC логистической регрессии : 0.7876484136368116\n"
     ]
    }
   ],
   "source": [
    "model_lr = LogisticRegression(random_state=12345, max_iter=13)\n",
    "model_lr.fit(train_features, train_target)\n",
    "predictions_valid_lr = model_lr.predict(valid_features)\n",
    "print('F1 логистической регрессии : ', end='')\n",
    "print(f1_score(valid_target,  predictions_valid_lr))\n",
    "probabilities_valid = model_lr.predict_proba(valid_features)\n",
    "probabilities_one_valid = probabilities_valid[:, 1]\n",
    "fpr, tpr, thresholds = roc_curve(valid_target, probabilities_one_valid)\n",
    "print('AUC-ROC логистической регрессии : ', end='')\n",
    "print(roc_auc_score(valid_target, probabilities_one_valid))"
   ]
  },
  {
   "cell_type": "markdown",
   "metadata": {},
   "source": [
    "### Проверка адекватности модели"
   ]
  },
  {
   "cell_type": "markdown",
   "metadata": {},
   "source": [
    "Проверка насколько часто в целевом признаке встречается класс «0» или «1»."
   ]
  },
  {
   "cell_type": "code",
   "execution_count": 38,
   "metadata": {},
   "outputs": [
    {
     "name": "stdout",
     "output_type": "stream",
     "text": [
      "0    0.7963\n",
      "1    0.2037\n",
      "Name: exited, dtype: float64\n",
      "AxesSubplot(0.125,0.125;0.775x0.755)\n"
     ]
    },
    {
     "data": {
      "image/png": "[encoded data removed]",
      "text/plain": [
       "<Figure size 432x288 with 1 Axes>"
      ]
     },
     "metadata": {
      "needs_background": "light"
     },
     "output_type": "display_data"
    }
   ],
   "source": [
    "period_class = data['exited'].value_counts(normalize=True)\n",
    "print(period_class)\n",
    "print(period_class.plot(kind='bar'))"
   ]
  },
  {
   "cell_type": "markdown",
   "metadata": {},
   "source": [
    "Соотношение классов 1:4, поэтому они не сбалансированы."
   ]
  },
  {
   "cell_type": "markdown",
   "metadata": {},
   "source": [
    "Создание константной модели, для того, чтобы она прогнозировала любому объекту класс \"0\"."
   ]
  },
  {
   "cell_type": "code",
   "execution_count": 39,
   "metadata": {},
   "outputs": [
    {
     "data": {
      "text/plain": [
       "0.7963"
      ]
     },
     "execution_count": 39,
     "metadata": {},
     "output_type": "execute_result"
    }
   ],
   "source": [
    "target_const = pd.Series([0] * len(target))\n",
    "\n",
    "accuracy_score(target, target_const)"
   ]
  },
  {
   "cell_type": "markdown",
   "metadata": {},
   "source": [
    "Accuracy больше 0.7963 следовательно все модели прошли проверку на адекватность."
   ]
  },
  {
   "cell_type": "markdown",
   "metadata": {},
   "source": [
    "### Расчет полноты, точности и F-1 меры"
   ]
  },
  {
   "cell_type": "code",
   "execution_count": 40,
   "metadata": {},
   "outputs": [
    {
     "name": "stdout",
     "output_type": "stream",
     "text": [
      "Accuracy 0.855\n",
      "Precision 0.7218045112781954\n",
      "Recall 0.47058823529411764\n",
      "F1 0.5697329376854599\n",
      "\n",
      "Accuracy 0.864\n",
      "Precision 0.7786885245901639\n",
      "Recall 0.46568627450980393\n",
      "F1 0.5828220858895705\n",
      "\n",
      "Accuracy 0.8105\n",
      "Precision 0.60431654676259\n",
      "Recall 0.20588235294117646\n",
      "F1 0.3071297989031079\n",
      "\n"
     ]
    }
   ],
   "source": [
    "pred_dict = [predictions_valid_dtc, predictions_valid_rfc, predictions_valid_lr]\n",
    "\n",
    "def my_formula(predict):\n",
    "    for pred in predict:\n",
    "        print('Accuracy', accuracy_score(valid_target, pred))\n",
    "        print('Precision', precision_score(valid_target, pred))\n",
    "        print('Recall', recall_score(valid_target, pred))\n",
    "        print('F1', f1_score(valid_target, pred))\n",
    "        print()\n",
    "    \n",
    "my_formula(pred_dict)"
   ]
  },
  {
   "cell_type": "markdown",
   "metadata": {},
   "source": [
    "Самые худшие 4 метрики получились для логистической регрессии.\n",
    "<br>\n",
    "У модели дерева решений и случайного леса ситуации практически идентичные.\n",
    "<br>\n",
    "\n",
    "Для случайного леса:\n",
    "\n",
    "- Precision = 0.78 что говорит о том, что модель нашла некоторые \"0\", пока искала \"1\".\n",
    "- Recall = 0.47 говорит о том, что модель очень плохо ищет \"1\".\n",
    "- F-1 = 0.58 говорит о том, что гармоническое среднее между точностью и полнотой очень низкое.\n"
   ]
  },
  {
   "cell_type": "markdown",
   "metadata": {},
   "source": [
    "### ROC-кривая, площадь под кривой"
   ]
  },
  {
   "cell_type": "code",
   "execution_count": 41,
   "metadata": {},
   "outputs": [
    {
     "data": {
      "image/png": "[encoded data removed]",
      "text/plain": [
       "<Figure size 864x648 with 1 Axes>"
      ]
     },
     "metadata": {
      "needs_background": "light"
     },
     "output_type": "display_data"
    }
   ],
   "source": [
    "plt.figure(figsize=[12,9])\n",
    "plt.plot([0, 1], [0, 1], linestyle='--', label='RandomModel')\n",
    "\n",
    "\n",
    "model_dtc = DecisionTreeClassifier(random_state=12345, ccp_alpha = 0.001, max_depth=5, criterion = 'entropy', max_leaf_nodes = 11)\n",
    "model_dtc.fit(train_features, train_target)\n",
    "probabilities_valid = model_dtc.predict_proba(valid_features)\n",
    "probabilities_one_valid = probabilities_valid[:, 1]\n",
    "fpr, tpr, thresholds = roc_curve(valid_target, probabilities_one_valid)\n",
    "plt.plot(fpr, tpr, label='Решающее древо')\n",
    "\n",
    "model_rfc = RandomForestClassifier(random_state=12345, n_estimators=47, criterion =  'gini', max_depth = 9)\n",
    "model_rfc.fit(train_features, train_target)\n",
    "probabilities_valid = model_rfc.predict_proba(valid_features)\n",
    "probabilities_one_valid = probabilities_valid[:, 1]\n",
    "fpr, tpr, thresholds = roc_curve(valid_target, probabilities_one_valid)\n",
    "plt.plot(fpr, tpr, label='Случаный лес')\n",
    "\n",
    "model_lr = LogisticRegression(random_state=12345, max_iter=13)\n",
    "model_lr.fit(train_features, train_target)\n",
    "probabilities_valid = model_lr.predict_proba(valid_features)\n",
    "probabilities_one_valid = probabilities_valid[:, 1]\n",
    "fpr, tpr, thresholds = roc_curve(valid_target, probabilities_one_valid)\n",
    "plt.plot(fpr, tpr, label='Логистическая регрессия')\n",
    "\n",
    "plt.xlim([0,1])\n",
    "plt.ylim([0,1])\n",
    "\n",
    "plt.xlabel(\"False Positive Rate\")\n",
    "plt.ylabel(\"True Positive Rate\")\n",
    "\n",
    "plt.legend(loc='lower right', fontsize='x-large')\n",
    "\n",
    "plt.title(\"ROC-кривая\")\n",
    "plt.show()"
   ]
  },
  {
   "cell_type": "markdown",
   "metadata": {},
   "source": [
    "Наилучшие результаты показывает модель случайного леса, на последнем месте модель логистической регрессии."
   ]
  },
  {
   "cell_type": "markdown",
   "metadata": {},
   "source": [
    "#  Вывод"
   ]
  },
  {
   "cell_type": "markdown",
   "metadata": {},
   "source": [
    "Получив значения точности, плотности, F1 меры и AUC-ROC для трех моделей , было установлено следующее:\n",
    "- Наилучшие метрики у модели случайного леса, худшие у модели логистической регрессии.\n",
    "\n",
    "Из-за того что целевой признак не сбалансирован, ни одну модель нельзя назвать корректно обученной."
   ]
  },
  {
   "cell_type": "markdown",
   "metadata": {},
   "source": [
    "## Борьба с дисбалансом"
   ]
  },
  {
   "cell_type": "markdown",
   "metadata": {},
   "source": [
    "Для борьбы с дисбалансом будут применены следующие методы:\n",
    "\n",
    "- взвешивание классов;\n",
    "- увеличение выборки;\n",
    "- уменьшение выборки."
   ]
  },
  {
   "cell_type": "markdown",
   "metadata": {},
   "source": [
    "### Взвешивание классов"
   ]
  },
  {
   "cell_type": "markdown",
   "metadata": {},
   "source": [
    "Придадим объектам редкого класса больший вес и построим ROC-кривую.\n",
    "\n",
    "Определим наилучшую модель решающего дерева."
   ]
  },
  {
   "cell_type": "code",
   "execution_count": 33,
   "metadata": {},
   "outputs": [
    {
     "data": {
      "text/plain": [
       "{'ccp_alpha': 0.01,\n",
       " 'criterion': 'entropy',\n",
       " 'max_depth': 5,\n",
       " 'max_leaf_nodes': 10}"
      ]
     },
     "metadata": {},
     "output_type": "display_data"
    },
    {
     "name": "stdout",
     "output_type": "stream",
     "text": [
      "CPU times: user 4min 32s, sys: 26.5 ms, total: 4min 32s\n",
      "Wall time: 4min 32s\n"
     ]
    }
   ],
   "source": [
    "%%time\n",
    "\n",
    "parametrs = {'max_leaf_nodes': list(range(10, 30)),          \n",
    "             'ccp_alpha': [0.1, .01, .001],            \n",
    "             'max_depth': list(range(2, 30)),             \n",
    "             'criterion': ['gini', 'entropy']             \n",
    "            }\n",
    "\n",
    "clf = DecisionTreeClassifier(random_state=12345, class_weight='balanced')\n",
    "\n",
    "grid = GridSearchCV(clf, parametrs, cv=5)\n",
    "\n",
    "grid.fit(train_features, train_target)\n",
    "\n",
    "grid.best_params_"
   ]
  },
  {
   "cell_type": "markdown",
   "metadata": {},
   "source": [
    "Определим наилучшую модель случайного леса."
   ]
  },
  {
   "cell_type": "code",
   "execution_count": 34,
   "metadata": {},
   "outputs": [
    {
     "name": "stdout",
     "output_type": "stream",
     "text": [
      "CPU times: user 13min 38s, sys: 3 s, total: 13min 41s\n",
      "Wall time: 13min 41s\n"
     ]
    },
    {
     "data": {
      "text/plain": [
       "{'criterion': 'gini', 'max_depth': 19, 'n_estimators': 56}"
      ]
     },
     "execution_count": 34,
     "metadata": {},
     "output_type": "execute_result"
    }
   ],
   "source": [
    "%%time\n",
    "\n",
    "parametrs = {'n_estimators': range (1, 60),\n",
    "\n",
    "          'max_depth': range (1, 20, 2),\n",
    "          \n",
    "          'criterion': ['gini', 'entropy'],}\n",
    "          \n",
    "clf = RandomForestClassifier(random_state=12345, class_weight='balanced')\n",
    "\n",
    "grid = GridSearchCV(clf, parametrs, cv=5)\n",
    "\n",
    "grid.fit(train_features, train_target)\n",
    "\n",
    "grid.best_params_"
   ]
  },
  {
   "cell_type": "markdown",
   "metadata": {},
   "source": [
    "Определим наилучшую модель Логистической регрессии."
   ]
  },
  {
   "cell_type": "code",
   "execution_count": 42,
   "metadata": {},
   "outputs": [
    {
     "name": "stdout",
     "output_type": "stream",
     "text": [
      "max_iter = 1 : 0.7834500320228595\n",
      "max_iter = 2 : 0.7919992117449994\n",
      "max_iter = 3 : 0.7934094492068184\n",
      "max_iter = 4 : 0.796260715341413\n",
      "max_iter = 5 : 0.7952938713173712\n",
      "max_iter = 6 : 0.7930876810523204\n",
      "max_iter = 7 : 0.7936080525174893\n",
      "max_iter = 8 : 0.7940637624396492\n",
      "max_iter = 9 : 0.7945456448911222\n",
      "max_iter = 10 : 0.7945256306040004\n",
      "max_iter = 11 : 0.7942716031136073\n",
      "max_iter = 12 : 0.7938420657207607\n",
      "max_iter = 13 : 0.7938543822051434\n",
      "max_iter = 14 : 0.7937081239530988\n",
      "max_iter = 15 : 0.7937112030741946\n",
      "max_iter = 16 : 0.7936927283476205\n",
      "max_iter = 17 : 0.7937004261503597\n",
      "max_iter = 18 : 0.7937050448320033\n",
      "max_iter = 19 : 0.7936958074687163\n",
      "4 0.796260715341413\n"
     ]
    }
   ],
   "source": [
    "best_iter = 0\n",
    "best_roc_auc = 0\n",
    "for max_iter in range(1,20):\n",
    "    model_lr = LogisticRegression(random_state=12345, max_iter=max_iter, class_weight='balanced')\n",
    "    model_lr.fit(train_features, train_target)\n",
    "    probabilities_valid = model_lr.predict_proba(valid_features)\n",
    "    probabilities_one_valid = probabilities_valid[:, 1]\n",
    "    roc_auc = roc_auc_score(valid_target, probabilities_one_valid)\n",
    "    print('max_iter =', max_iter,':', roc_auc)\n",
    "    if roc_auc > best_roc_auc:\n",
    "        best_iter, best_roc_auc = max_iter, roc_auc        \n",
    "print(best_iter, best_roc_auc)"
   ]
  },
  {
   "cell_type": "markdown",
   "metadata": {},
   "source": [
    "Построение графика по найденным моделям."
   ]
  },
  {
   "cell_type": "code",
   "execution_count": 43,
   "metadata": {},
   "outputs": [
    {
     "name": "stdout",
     "output_type": "stream",
     "text": [
      "Решающее дерево\n",
      "AUC-ROC решающего древа 0.8250127783525472\n",
      "Accuracy 0.7985\n",
      "Precision 0.5045372050816697\n",
      "Recall 0.6813725490196079\n",
      "F1 0.5797705943691346\n",
      "\n",
      "Случайный лес\n",
      "AUC-ROC случайного леса 0.8551743090452261\n",
      "Accuracy 0.8585\n",
      "Precision 0.7431906614785992\n",
      "Recall 0.4681372549019608\n",
      "F1 0.5744360902255639\n",
      "\n",
      "Логистическая регрессия\n",
      "AUC-ROC логистической регрессии 0.796260715341413\n",
      "Accuracy 0.751\n",
      "Precision 0.43243243243243246\n",
      "Recall 0.7058823529411765\n",
      "F1 0.5363128491620112\n"
     ]
    },
    {
     "data": {
      "image/png": "[encoded data removed]",
      "text/plain": [
       "<Figure size 864x648 with 1 Axes>"
      ]
     },
     "metadata": {
      "needs_background": "light"
     },
     "output_type": "display_data"
    }
   ],
   "source": [
    "plt.figure(figsize=[12,9])\n",
    "plt.plot([0, 1], [0, 1], linestyle='--', label='RandomModel')\n",
    "\n",
    "model_dtc = DecisionTreeClassifier(random_state=12345, ccp_alpha = 0.001, max_depth=5, criterion = 'entropy', max_leaf_nodes = 10, class_weight='balanced')\n",
    "model_dtc.fit(train_features, train_target)\n",
    "predictions_valid_dtc = model_dtc.predict(valid_features)\n",
    "probabilities_valid = model_dtc.predict_proba(valid_features)\n",
    "probabilities_one_valid = probabilities_valid[:, 1]\n",
    "fpr, tpr, thresholds = roc_curve(valid_target, probabilities_one_valid)\n",
    "print('Решающее дерево')\n",
    "auc_roc = roc_auc_score(valid_target, probabilities_one_valid)\n",
    "print('AUC-ROC решающего дерева',auc_roc)\n",
    "print('Accuracy', accuracy_score(valid_target, predictions_valid_dtc))\n",
    "print('Precision', precision_score(valid_target, predictions_valid_dtc))\n",
    "print('Recall', recall_score(valid_target, predictions_valid_dtc))\n",
    "print('F1', f1_score(valid_target, predictions_valid_dtc))\n",
    "plt.plot(fpr, tpr, label='Решающее дерево')\n",
    "print()\n",
    "\n",
    "model_rfc = RandomForestClassifier(random_state=12345, n_estimators=56, criterion = 'gini', max_depth = 19, class_weight='balanced')\n",
    "model_rfc.fit(train_features, train_target)\n",
    "predictions_valid_rfc = model_rfc.predict(valid_features)\n",
    "probabilities_valid = model_rfc.predict_proba(valid_features)\n",
    "probabilities_one_valid = probabilities_valid[:, 1]\n",
    "fpr, tpr, thresholds = roc_curve(valid_target, probabilities_one_valid)\n",
    "print('Случайный лес')\n",
    "auc_roc = roc_auc_score(valid_target, probabilities_one_valid)\n",
    "print('AUC-ROC случайного леса',auc_roc)\n",
    "print('Accuracy', accuracy_score(valid_target, predictions_valid_rfc))\n",
    "print('Precision', precision_score(valid_target, predictions_valid_rfc))\n",
    "print('Recall', recall_score(valid_target, predictions_valid_rfc))\n",
    "print('F1', f1_score(valid_target, predictions_valid_rfc))\n",
    "plt.plot(fpr, tpr, label='Случаный лес')\n",
    "print()\n",
    "\n",
    "model_lr = LogisticRegression(random_state=12345, max_iter=4, class_weight='balanced')\n",
    "model_lr.fit(train_features, train_target)\n",
    "predictions_valid_lr = model_lr.predict(valid_features)\n",
    "probabilities_valid = model_lr.predict_proba(valid_features)\n",
    "probabilities_one_valid = probabilities_valid[:, 1]\n",
    "fpr, tpr, thresholds = roc_curve(valid_target, probabilities_one_valid)\n",
    "print('Логистическая регрессия')\n",
    "auc_roc = roc_auc_score(valid_target, probabilities_one_valid)\n",
    "print('AUC-ROC логистической регрессии',auc_roc)\n",
    "print('Accuracy', accuracy_score(valid_target, predictions_valid_lr))\n",
    "print('Precision', precision_score(valid_target, predictions_valid_lr))\n",
    "print('Recall', recall_score(valid_target, predictions_valid_lr))\n",
    "print('F1', f1_score(valid_target, predictions_valid_lr))\n",
    "plt.plot(fpr, tpr, label='Логистическая регрессия')\n",
    "\n",
    "plt.xlim([0,1])\n",
    "plt.ylim([0,1])\n",
    "\n",
    "plt.xlabel(\"False Positive Rate\")\n",
    "plt.ylabel(\"True Positive Rate\")\n",
    "\n",
    "plt.legend(loc='lower right', fontsize='x-large')\n",
    "\n",
    "plt.title(\"ROC-кривая\")\n",
    "plt.show()"
   ]
  },
  {
   "cell_type": "markdown",
   "metadata": {},
   "source": [
    "Взвешивание классов произвело разное влияние на модели:\n",
    "\n",
    "- у решающего дерева увеличилась AUC-ROC, F1 практически не изменилась;\n",
    "- у случайного леса AUC-ROC и F-1-мера незначительно уменьшились;\n",
    "- у логистической регрессии увиличилась AUC-ROC и F-1-мера.\n"
   ]
  },
  {
   "cell_type": "markdown",
   "metadata": {},
   "source": [
    "### Увеличение выборки"
   ]
  },
  {
   "cell_type": "code",
   "execution_count": 44,
   "metadata": {},
   "outputs": [],
   "source": [
    "def upsample(features, target, repeat):\n",
    "    features_zeros = features[target == 0]\n",
    "    features_ones = features[target == 1]\n",
    "    target_zeros = target[target == 0]\n",
    "    target_ones = target[target == 1]\n",
    "\n",
    "    features_upsampled = pd.concat([features_zeros] + [features_ones] * repeat)\n",
    "    target_upsampled = pd.concat([target_zeros] + [target_ones] * repeat)\n",
    "    \n",
    "    features_upsampled, target_upsampled = shuffle(\n",
    "        features_upsampled, target_upsampled, random_state=12345)\n",
    "    \n",
    "    return features_upsampled, target_upsampled\n",
    "\n",
    "features_upsampled, target_upsampled = upsample(train_features, train_target, 4)"
   ]
  },
  {
   "cell_type": "markdown",
   "metadata": {},
   "source": [
    "Определим наилучшую модель решающего древа."
   ]
  },
  {
   "cell_type": "code",
   "execution_count": 35,
   "metadata": {},
   "outputs": [
    {
     "data": {
      "text/plain": [
       "{'ccp_alpha': 0.001, 'criterion': 'gini', 'max_depth': 8, 'max_leaf_nodes': 28}"
      ]
     },
     "metadata": {},
     "output_type": "display_data"
    },
    {
     "name": "stdout",
     "output_type": "stream",
     "text": [
      "CPU times: user 8min 6s, sys: 657 ms, total: 8min 7s\n",
      "Wall time: 8min 12s\n"
     ]
    }
   ],
   "source": [
    "%%time\n",
    "\n",
    "parametrs = {'max_leaf_nodes': list(range(10, 30)),          \n",
    "             'ccp_alpha': [0.1, .01, .001],            \n",
    "             'max_depth': list(range(2, 30)),             \n",
    "             'criterion': ['gini', 'entropy']             \n",
    "            }\n",
    "\n",
    "clf = DecisionTreeClassifier(random_state=12345)\n",
    "\n",
    "grid = GridSearchCV(clf, parametrs, cv=5)\n",
    "\n",
    "grid.fit(features_upsampled, target_upsampled)\n",
    "\n",
    "display(grid.best_params_)"
   ]
  },
  {
   "cell_type": "markdown",
   "metadata": {},
   "source": [
    "Определим наилучшую модель случайного леса."
   ]
  },
  {
   "cell_type": "code",
   "execution_count": 37,
   "metadata": {},
   "outputs": [
    {
     "data": {
      "text/plain": [
       "{'criterion': 'gini', 'max_depth': 19, 'n_estimators': 52}"
      ]
     },
     "metadata": {},
     "output_type": "display_data"
    },
    {
     "name": "stdout",
     "output_type": "stream",
     "text": [
      "CPU times: user 26min 3s, sys: 3.42 s, total: 26min 6s\n",
      "Wall time: 26min 21s\n"
     ]
    }
   ],
   "source": [
    "%%time\n",
    "\n",
    "parametrs = {'n_estimators': range (1, 60),\n",
    "\n",
    "          'max_depth': range (1, 20, 2),\n",
    "          \n",
    "          'criterion': ['gini', 'entropy'],}\n",
    "          \n",
    "clf = RandomForestClassifier(random_state=12345)\n",
    "\n",
    "grid = GridSearchCV(clf, parametrs, cv=5)\n",
    "\n",
    "grid.fit(features_upsampled, target_upsampled)\n",
    "\n",
    "display(grid.best_params_)"
   ]
  },
  {
   "cell_type": "markdown",
   "metadata": {},
   "source": [
    "Определим наилучшую модель Логистической регрессии."
   ]
  },
  {
   "cell_type": "code",
   "execution_count": 45,
   "metadata": {},
   "outputs": [
    {
     "name": "stdout",
     "output_type": "stream",
     "text": [
      "max_iter = 1 : 0.7838087496305054\n",
      "max_iter = 2 : 0.7922532392353926\n",
      "max_iter = 3 : 0.7888461917430288\n",
      "max_iter = 4 : 0.7929783722534238\n",
      "max_iter = 5 : 0.7940206547443096\n",
      "max_iter = 6 : 0.794368595428121\n",
      "max_iter = 7 : 0.7944455734555129\n",
      "max_iter = 8 : 0.794482522908661\n",
      "max_iter = 9 : 0.7948704921667158\n",
      "max_iter = 10 : 0.7942700635530594\n",
      "max_iter = 11 : 0.7942916174007292\n",
      "max_iter = 12 : 0.7941977042073112\n",
      "max_iter = 13 : 0.7936773327421421\n",
      "max_iter = 14 : 0.7937558503300817\n",
      "max_iter = 15 : 0.7937604690117253\n",
      "max_iter = 16 : 0.7937743250566558\n",
      "max_iter = 17 : 0.7937681668144645\n",
      "max_iter = 18 : 0.7937789437382992\n",
      "max_iter = 19 : 0.7937789437382992\n",
      "9 0.7948704921667158\n"
     ]
    }
   ],
   "source": [
    "best_iter = 0\n",
    "best_roc_auc = 0\n",
    "for max_iter in range(1,20):\n",
    "    model_lr = LogisticRegression(random_state=12345, max_iter=max_iter)\n",
    "    model_lr.fit(features_upsampled, target_upsampled)\n",
    "    probabilities_valid = model_lr.predict_proba(valid_features)\n",
    "    probabilities_one_valid = probabilities_valid[:, 1]\n",
    "    roc_auc = roc_auc_score(valid_target, probabilities_one_valid)\n",
    "    print('max_iter =', max_iter,':', roc_auc)\n",
    "    if roc_auc > best_roc_auc:\n",
    "        best_iter, best_roc_auc = max_iter, roc_auc        \n",
    "print(best_iter, best_roc_auc)"
   ]
  },
  {
   "cell_type": "markdown",
   "metadata": {},
   "source": [
    "Построение графика по полученным моделям."
   ]
  },
  {
   "cell_type": "code",
   "execution_count": 46,
   "metadata": {},
   "outputs": [
    {
     "name": "stdout",
     "output_type": "stream",
     "text": [
      "Решающее дерево\n",
      "AUC-ROC решающего древа 0.8450216770125135\n",
      "Accuracy 0.7705\n",
      "Precision 0.46266471449487556\n",
      "Recall 0.7745098039215687\n",
      "F1 0.5792850595783685\n",
      "\n",
      "Случайный лес\n",
      "AUC-ROC случайного леса 0.8591540730613852\n",
      "Accuracy 0.86\n",
      "Precision 0.6871345029239766\n",
      "Recall 0.5759803921568627\n",
      "F1 0.6266666666666666\n",
      "\n",
      "Логистическая регрессия\n",
      "AUC-ROC логистической регрессии 0.7948704921667158\n",
      "Accuracy 0.726\n",
      "Precision 0.40691489361702127\n",
      "Recall 0.75\n",
      "F1 0.5275862068965517\n"
     ]
    },
    {
     "data": {
      "image/png": "[encoded data removed]",
      "text/plain": [
       "<Figure size 864x648 with 1 Axes>"
      ]
     },
     "metadata": {
      "needs_background": "light"
     },
     "output_type": "display_data"
    }
   ],
   "source": [
    "plt.figure(figsize=[12,9])\n",
    "plt.plot([0, 1], [0, 1], linestyle='--', label='RandomModel')\n",
    "\n",
    "model_dtc = DecisionTreeClassifier(random_state=12345, ccp_alpha = 0.001, max_depth=8, criterion = 'gini', max_leaf_nodes = 28)\n",
    "model_dtc.fit(features_upsampled, target_upsampled)\n",
    "predicted_valid = model_dtc.predict(valid_features)\n",
    "probabilities_valid = model_dtc.predict_proba(valid_features)\n",
    "probabilities_one_valid = probabilities_valid[:, 1]\n",
    "fpr, tpr, thresholds = roc_curve(valid_target, probabilities_one_valid)\n",
    "print('Решающее дерево')\n",
    "auc_roc = roc_auc_score(valid_target, probabilities_one_valid)\n",
    "print('AUC-ROC решающего дерева',auc_roc)\n",
    "print('Accuracy', accuracy_score(valid_target, predicted_valid))\n",
    "print('Precision', precision_score(valid_target, predicted_valid))\n",
    "print('Recall', recall_score(valid_target, predicted_valid))\n",
    "print('F1', f1_score(valid_target, predicted_valid))\n",
    "plt.plot(fpr, tpr, label='Решающее дерево')\n",
    "print()\n",
    "\n",
    "model_rfc = RandomForestClassifier(random_state=12345, n_estimators=52, criterion = 'gini', max_depth = 19)\n",
    "model_rfc.fit(features_upsampled, target_upsampled)\n",
    "predicted_valid = model_rfc.predict(valid_features)\n",
    "probabilities_valid = model_rfc.predict_proba(valid_features)\n",
    "probabilities_one_valid = probabilities_valid[:, 1]\n",
    "fpr, tpr, thresholds = roc_curve(valid_target, probabilities_one_valid)\n",
    "print('Случайный лес')\n",
    "auc_roc = roc_auc_score(valid_target, probabilities_one_valid)\n",
    "print('AUC-ROC случайного леса',auc_roc)\n",
    "print('Accuracy', accuracy_score(valid_target, predicted_valid))\n",
    "print('Precision', precision_score(valid_target, predicted_valid))\n",
    "print('Recall', recall_score(valid_target, predicted_valid))\n",
    "print('F1', f1_score(valid_target, predicted_valid))\n",
    "plt.plot(fpr, tpr, label='Случаный лес')\n",
    "print()\n",
    "\n",
    "model_lr = LogisticRegression(random_state=12345, max_iter=9)\n",
    "model_lr.fit(features_upsampled, target_upsampled)\n",
    "predicted_valid = model_lr.predict(valid_features)\n",
    "probabilities_valid = model_lr.predict_proba(valid_features)\n",
    "probabilities_one_valid = probabilities_valid[:, 1]\n",
    "fpr, tpr, thresholds = roc_curve(valid_target, probabilities_one_valid)\n",
    "print('Логистическая регрессия')\n",
    "auc_roc = roc_auc_score(valid_target, probabilities_one_valid)\n",
    "print('AUC-ROC логистической регрессии',auc_roc)\n",
    "print('Accuracy', accuracy_score(valid_target, predicted_valid))\n",
    "print('Precision', precision_score(valid_target, predicted_valid))\n",
    "print('Recall', recall_score(valid_target, predicted_valid))\n",
    "print('F1', f1_score(valid_target, predicted_valid))\n",
    "plt.plot(fpr, tpr, label='Логистическая регрессия')\n",
    "\n",
    "plt.xlim([0,1])\n",
    "plt.ylim([0,1])\n",
    "\n",
    "plt.xlabel(\"False Positive Rate\")\n",
    "plt.ylabel(\"True Positive Rate\")\n",
    "\n",
    "plt.legend(loc='lower right', fontsize='x-large')\n",
    "\n",
    "plt.title(\"ROC-кривая\")\n",
    "plt.show()"
   ]
  },
  {
   "cell_type": "markdown",
   "metadata": {},
   "source": [
    "Увеличение выборки по-разному повлияло на модели:\n",
    "\n",
    "- у решающего древа увеличилась AUC-ROC и F-мера;\n",
    "- у случайного леса упало AUC-ROC  и увеличилась F-мера;\n",
    "- у логистической регресси параметры выросли."
   ]
  },
  {
   "cell_type": "markdown",
   "metadata": {},
   "source": [
    "### Уменьшение выборки"
   ]
  },
  {
   "cell_type": "markdown",
   "metadata": {},
   "source": [
    "Уменьшение количества объектов частого класса и построение ROC-кривой."
   ]
  },
  {
   "cell_type": "code",
   "execution_count": 47,
   "metadata": {},
   "outputs": [],
   "source": [
    "def downsample(features, target, fraction):\n",
    "    features_zeros = features[target == 0]\n",
    "    features_ones = features[target == 1]\n",
    "    target_zeros = target[target == 0]\n",
    "    target_ones = target[target == 1]\n",
    "\n",
    "    features_downsampled = pd.concat(\n",
    "        [features_zeros.sample(frac=fraction, random_state=12345)] + [features_ones])\n",
    "    target_downsampled = pd.concat(\n",
    "        [target_zeros.sample(frac=fraction, random_state=12345)] + [target_ones])\n",
    "    \n",
    "    features_downsampled, target_downsampled = shuffle(\n",
    "        features_downsampled, target_downsampled, random_state=20052020)\n",
    "    \n",
    "    return features_downsampled, target_downsampled\n",
    "\n",
    "features_downsampled, target_downsampled = downsample(train_features, train_target, 0.25)"
   ]
  },
  {
   "cell_type": "markdown",
   "metadata": {},
   "source": [
    "Определение наилучшей модели решающего древа."
   ]
  },
  {
   "cell_type": "code",
   "execution_count": 45,
   "metadata": {},
   "outputs": [
    {
     "data": {
      "text/plain": [
       "{'ccp_alpha': 0.001, 'criterion': 'gini', 'max_depth': 8, 'max_leaf_nodes': 28}"
      ]
     },
     "metadata": {},
     "output_type": "display_data"
    },
    {
     "name": "stdout",
     "output_type": "stream",
     "text": [
      "CPU times: user 3min 26s, sys: 266 ms, total: 3min 26s\n",
      "Wall time: 3min 28s\n"
     ]
    }
   ],
   "source": [
    "%%time\n",
    "\n",
    "parametrs = {'max_leaf_nodes': list(range(10, 30)),          \n",
    "             'ccp_alpha': [0.1, .01, .001],            \n",
    "             'max_depth': list(range(2, 30)),             \n",
    "             'criterion': ['gini', 'entropy']             \n",
    "            }\n",
    "\n",
    "clf = DecisionTreeClassifier(random_state=12345)\n",
    "\n",
    "grid = GridSearchCV(clf, parametrs, cv=5)\n",
    "\n",
    "grid.fit(features_downsampled, target_downsampled)\n",
    "\n",
    "display(grid.best_params_)"
   ]
  },
  {
   "cell_type": "markdown",
   "metadata": {},
   "source": [
    "Определение наилучшей модели случайного леса."
   ]
  },
  {
   "cell_type": "code",
   "execution_count": 46,
   "metadata": {},
   "outputs": [
    {
     "data": {
      "text/plain": [
       "{'criterion': 'entropy', 'max_depth': 9, 'n_estimators': 53}"
      ]
     },
     "metadata": {},
     "output_type": "display_data"
    },
    {
     "name": "stdout",
     "output_type": "stream",
     "text": [
      "CPU times: user 10min 48s, sys: 3.09 s, total: 10min 51s\n",
      "Wall time: 10min 55s\n"
     ]
    }
   ],
   "source": [
    "%%time\n",
    "\n",
    "parametrs = {'n_estimators': range (1, 60),\n",
    "\n",
    "          'max_depth': range (1, 20, 2),\n",
    "          \n",
    "          'criterion': ['gini', 'entropy'],}\n",
    "          \n",
    "clf = RandomForestClassifier(random_state=12345)\n",
    "\n",
    "grid = GridSearchCV(clf, parametrs, cv=5)\n",
    "\n",
    "grid.fit(features_downsampled, target_downsampled)\n",
    "\n",
    "display(grid.best_params_)"
   ]
  },
  {
   "cell_type": "markdown",
   "metadata": {},
   "source": [
    "Определение наилучшей модели логистической регрессии."
   ]
  },
  {
   "cell_type": "code",
   "execution_count": 48,
   "metadata": {},
   "outputs": [
    {
     "name": "stdout",
     "output_type": "stream",
     "text": [
      "max_iter = 1 : 0.7836301606069562\n",
      "max_iter = 2 : 0.7921962754951226\n",
      "max_iter = 3 : 0.7957618977239136\n",
      "max_iter = 4 : 0.7905212336190758\n",
      "max_iter = 5 : 0.7926519854172827\n",
      "max_iter = 6 : 0.7932077667750517\n",
      "max_iter = 7 : 0.7938974899004828\n",
      "max_iter = 8 : 0.7935526283377673\n",
      "max_iter = 9 : 0.7931354074293032\n",
      "max_iter = 10 : 0.7930892206128681\n",
      "max_iter = 11 : 0.7929445019213716\n",
      "max_iter = 12 : 0.792825955759188\n",
      "max_iter = 13 : 0.7924225908956547\n",
      "max_iter = 14 : 0.7925919425559168\n",
      "max_iter = 15 : 0.7926134964035866\n",
      "max_iter = 16 : 0.7926104172824908\n",
      "max_iter = 17 : 0.7926165755246823\n",
      "max_iter = 18 : 0.7926119568430388\n",
      "max_iter = 19 : 0.7926134964035865\n",
      "3 0.7957618977239136\n"
     ]
    }
   ],
   "source": [
    "best_iter = 0\n",
    "best_roc_auc = 0\n",
    "for max_iter in range(1,20):\n",
    "    model_lr = LogisticRegression(random_state=12345, max_iter=max_iter)\n",
    "    model_lr.fit(features_downsampled, target_downsampled)\n",
    "    probabilities_valid = model_lr.predict_proba(valid_features)\n",
    "    probabilities_one_valid = probabilities_valid[:, 1]\n",
    "    roc_auc = roc_auc_score(valid_target, probabilities_one_valid)\n",
    "    print('max_iter =', max_iter,':', roc_auc)\n",
    "    if roc_auc > best_roc_auc:\n",
    "        best_iter, best_roc_auc = max_iter, roc_auc        \n",
    "print(best_iter, best_roc_auc)"
   ]
  },
  {
   "cell_type": "markdown",
   "metadata": {},
   "source": [
    "Построение графика по найденным моделям."
   ]
  },
  {
   "cell_type": "code",
   "execution_count": 50,
   "metadata": {},
   "outputs": [
    {
     "name": "stdout",
     "output_type": "stream",
     "text": [
      "Решающее дерево\n",
      "AUC-ROC решающего древа 0.8485349541826782\n",
      "Accuracy 0.7775\n",
      "Precision 0.4725111441307578\n",
      "Recall 0.7794117647058824\n",
      "F1 0.5883441258094356\n",
      "\n",
      "Случайный лес\n",
      "AUC-ROC случайного леса 0.8687047369198935\n",
      "Accuracy 0.804\n",
      "Precision 0.512539184952978\n",
      "Recall 0.8014705882352942\n",
      "F1 0.6252390057361378\n",
      "\n",
      "Логистическая регрессия\n",
      "AUC-ROC логистической регрессии 0.7957618977239136\n",
      "Accuracy 0.698\n",
      "Precision 0.38388625592417064\n",
      "Recall 0.7941176470588235\n",
      "F1 0.5175718849840256\n"
     ]
    },
    {
     "data": {
      "image/png": "[encoded data removed]",
      "text/plain": [
       "<Figure size 864x648 with 1 Axes>"
      ]
     },
     "metadata": {
      "needs_background": "light"
     },
     "output_type": "display_data"
    }
   ],
   "source": [
    "plt.figure(figsize=[12,9])\n",
    "plt.plot([0, 1], [0, 1], linestyle='--', label='RandomModel')\n",
    "\n",
    "model_dtc = DecisionTreeClassifier(random_state=12345, ccp_alpha = 0.001, max_depth=8, criterion = 'gini', max_leaf_nodes = 28)\n",
    "model_dtc.fit(features_downsampled, target_downsampled)\n",
    "predicted_valid = model_dtc.predict(valid_features)\n",
    "probabilities_valid = model_dtc.predict_proba(valid_features)\n",
    "probabilities_one_valid = probabilities_valid[:, 1]\n",
    "fpr, tpr, thresholds = roc_curve(valid_target, probabilities_one_valid)\n",
    "print('Решающее дерево')\n",
    "auc_roc = roc_auc_score(valid_target, probabilities_one_valid)\n",
    "print('AUC-ROC решающего дерева',auc_roc)\n",
    "print('Accuracy', accuracy_score(valid_target, predicted_valid))\n",
    "print('Precision', precision_score(valid_target, predicted_valid))\n",
    "print('Recall', recall_score(valid_target, predicted_valid))\n",
    "print('F1', f1_score(valid_target, predicted_valid))\n",
    "plt.plot(fpr, tpr, label='Решающее дерево')\n",
    "print()\n",
    "\n",
    "model_rfc = RandomForestClassifier(random_state=12345, n_estimators=53, criterion = 'entropy', max_depth = 9)\n",
    "model_rfc.fit(features_downsampled, target_downsampled)\n",
    "predicted_valid = model_rfc.predict(valid_features)\n",
    "probabilities_valid = model_rfc.predict_proba(valid_features)\n",
    "probabilities_one_valid = probabilities_valid[:, 1]\n",
    "fpr, tpr, thresholds = roc_curve(valid_target, probabilities_one_valid)\n",
    "print('Случайный лес')\n",
    "auc_roc = roc_auc_score(valid_target, probabilities_one_valid)\n",
    "print('AUC-ROC случайного леса',auc_roc)\n",
    "print('Accuracy', accuracy_score(valid_target, predicted_valid))\n",
    "print('Precision', precision_score(valid_target, predicted_valid))\n",
    "print('Recall', recall_score(valid_target, predicted_valid))\n",
    "print('F1', f1_score(valid_target, predicted_valid))\n",
    "plt.plot(fpr, tpr, label='Случаный лес')\n",
    "print()\n",
    "\n",
    "model_lr = LogisticRegression(random_state=12345, max_iter=3)\n",
    "model_lr.fit(features_downsampled, target_downsampled)\n",
    "predicted_valid = model_lr.predict(valid_features)\n",
    "probabilities_valid = model_lr.predict_proba(valid_features)\n",
    "probabilities_one_valid = probabilities_valid[:, 1]\n",
    "fpr, tpr, thresholds = roc_curve(valid_target, probabilities_one_valid)\n",
    "print('Логистическая регрессия')\n",
    "auc_roc = roc_auc_score(valid_target, probabilities_one_valid)\n",
    "print('AUC-ROC логистической регрессии',auc_roc)\n",
    "print('Accuracy', accuracy_score(valid_target, predicted_valid))\n",
    "print('Precision', precision_score(valid_target, predicted_valid))\n",
    "print('Recall', recall_score(valid_target, predicted_valid))\n",
    "print('F1', f1_score(valid_target, predicted_valid))\n",
    "plt.plot(fpr, tpr, label='Логистическая регрессия')\n",
    "\n",
    "plt.xlim([0,1])\n",
    "plt.ylim([0,1])\n",
    "\n",
    "plt.xlabel(\"False Positive Rate\")\n",
    "plt.ylabel(\"True Positive Rate\")\n",
    "\n",
    "plt.legend(loc='lower right', fontsize='x-large')\n",
    "\n",
    "plt.title(\"ROC-кривая\")\n",
    "plt.show()"
   ]
  },
  {
   "cell_type": "markdown",
   "metadata": {},
   "source": [
    "У всех моделей увеличилачь F-1 мера, AUC-ROC и полнота, остальные метрики снизизились."
   ]
  },
  {
   "cell_type": "markdown",
   "metadata": {},
   "source": [
    "### Вывод\n",
    "<br>\n",
    "\n",
    "Проведена борьба с дисбалансом, выявлены следующие наилучшие модели на основе метрики AUC-ROC:\n",
    "\n",
    "- решающее дерево после уменьшения выборки AUC-ROC ~ 0.849;\n",
    "- случайный лес после уменьшения выборки несмотря на незначиельное уменьшение AUC-ROC, F-1 мера стала больше;\n",
    "- логистическая регрессия после взвешивания классов."
   ]
  },
  {
   "cell_type": "markdown",
   "metadata": {},
   "source": [
    "## Тестирование модели"
   ]
  },
  {
   "cell_type": "markdown",
   "metadata": {},
   "source": [
    "Проведение финального тестирования наилучших моделей на тестовой выборке. Для этого потребуется объединить тренировочную и валидационные выборки."
   ]
  },
  {
   "cell_type": "code",
   "execution_count": 55,
   "metadata": {},
   "outputs": [],
   "source": [
    "data_features = pd.concat([train_features, valid_features], ignore_index=True)\n",
    "data_target = pd.concat([train_target, valid_target], ignore_index=True)"
   ]
  },
  {
   "cell_type": "markdown",
   "metadata": {},
   "source": [
    "Т.к. наилучшие модели решающего дерева и случайного леса получены путем уменьшения выборки, то уменьшим количество объектов частого класса для тестовой выборки."
   ]
  },
  {
   "cell_type": "code",
   "execution_count": 58,
   "metadata": {},
   "outputs": [],
   "source": [
    "def downsample(features, target, fraction):\n",
    "    features_zeros = features[target == 0]\n",
    "    features_ones = features[target == 1]\n",
    "    target_zeros = target[target == 0]\n",
    "    target_ones = target[target == 1]\n",
    "\n",
    "    features_downsampled = pd.concat(\n",
    "        [features_zeros.sample(frac=fraction, random_state=12345)] + [features_ones])\n",
    "    target_downsampled = pd.concat(\n",
    "        [target_zeros.sample(frac=fraction, random_state=12345)] + [target_ones])\n",
    "    \n",
    "    features_downsampled, target_downsampled = shuffle(\n",
    "        features_downsampled, target_downsampled, random_state=20052020)\n",
    "    \n",
    "    return features_downsampled, target_downsampled\n",
    "\n",
    "test_features_downsampled, test_target_downsampled = downsample(data_features, data_target, 0.25)"
   ]
  },
  {
   "cell_type": "code",
   "execution_count": 59,
   "metadata": {},
   "outputs": [
    {
     "name": "stdout",
     "output_type": "stream",
     "text": [
      "Решающее дерево\n",
      "AUC-ROC решающего дерева 0.8399331534924754\n",
      "Accuracy 0.758\n",
      "Precision 0.4470426409903714\n",
      "Recall 0.7985257985257985\n",
      "F1 0.5731922398589065\n",
      "\n",
      "Случайный лес\n",
      "AUC-ROC случайного леса 0.8557556015183133\n",
      "Accuracy 0.793\n",
      "Precision 0.4942339373970346\n",
      "Recall 0.7371007371007371\n",
      "F1 0.5917159763313609\n",
      "\n",
      "Логистическая регрессия\n",
      "AUC-ROC логистической регрессии 0.5488277183192438\n",
      "Accuracy 0.4825\n",
      "Precision 0.22884283246977546\n",
      "Recall 0.6511056511056511\n",
      "F1 0.33865814696485624\n"
     ]
    },
    {
     "data": {
      "image/png": "[encoded data removed]",
      "text/plain": [
       "<Figure size 864x648 with 1 Axes>"
      ]
     },
     "metadata": {
      "needs_background": "light"
     },
     "output_type": "display_data"
    }
   ],
   "source": [
    "plt.figure(figsize=[12,9])\n",
    "plt.plot([0, 1], [0, 1], linestyle='--', label='RandomModel')\n",
    "\n",
    "model_dtc = DecisionTreeClassifier(random_state=12345, ccp_alpha = 0.001, max_depth=8, criterion = 'gini', max_leaf_nodes = 28)\n",
    "model_dtc.fit(test_features_downsampled, test_target_downsampled)\n",
    "predictions_valid_dtc = model_dtc.predict(test_features)\n",
    "probabilities_valid = model_dtc.predict_proba(test_features)\n",
    "probabilities_one_valid = probabilities_valid[:, 1]\n",
    "fpr, tpr, thresholds = roc_curve(test_target, probabilities_one_valid)\n",
    "print('Решающее дерево')\n",
    "auc_roc = roc_auc_score(test_target, probabilities_one_valid)\n",
    "print('AUC-ROC решающего дерева',auc_roc)\n",
    "print('Accuracy', accuracy_score(test_target, predictions_valid_dtc))\n",
    "print('Precision', precision_score(test_target, predictions_valid_dtc))\n",
    "print('Recall', recall_score(test_target, predictions_valid_dtc))\n",
    "print('F1', f1_score(test_target, predictions_valid_dtc))\n",
    "plt.plot(fpr, tpr, label='Решающее дерево')\n",
    "print()\n",
    "\n",
    "model_rfc = RandomForestClassifier(random_state=12345, n_estimators=53, criterion = 'entropy', max_depth = 9)\n",
    "model_rfc.fit(test_features_downsampled, test_target_downsampled)\n",
    "predictions_valid_rfc = model_rfc.predict(test_features)\n",
    "probabilities_valid = model_rfc.predict_proba(test_features)\n",
    "probabilities_one_valid = probabilities_valid[:, 1]\n",
    "fpr, tpr, thresholds = roc_curve(test_target, probabilities_one_valid)\n",
    "print('Случайный лес')\n",
    "auc_roc = roc_auc_score(test_target, probabilities_one_valid)\n",
    "print('AUC-ROC случайного леса',auc_roc)\n",
    "print('Accuracy', accuracy_score(test_target, predictions_valid_rfc))\n",
    "print('Precision', precision_score(test_target, predictions_valid_rfc))\n",
    "print('Recall', recall_score(test_target, predictions_valid_rfc))\n",
    "print('F1', f1_score(test_target, predictions_valid_rfc))\n",
    "plt.plot(fpr, tpr, label='Случаный лес')\n",
    "print()\n",
    "\n",
    "model_lr = LogisticRegression(random_state=12345, max_iter=4, class_weight='balanced')\n",
    "model_lr.fit(data_features, data_target)\n",
    "predicted_valid = model_lr.predict(test_features)\n",
    "probabilities_valid = model_lr.predict_proba(test_features)\n",
    "probabilities_one_valid = probabilities_valid[:, 1]\n",
    "fpr, tpr, thresholds = roc_curve(test_target, probabilities_one_valid)\n",
    "print('Логистическая регрессия')\n",
    "auc_roc = roc_auc_score(test_target, probabilities_one_valid)\n",
    "print('AUC-ROC логистической регрессии',auc_roc)\n",
    "print('Accuracy', accuracy_score(test_target, predicted_valid))\n",
    "print('Precision', precision_score(test_target, predicted_valid))\n",
    "print('Recall', recall_score(test_target, predicted_valid))\n",
    "print('F1', f1_score(test_target, predicted_valid))\n",
    "plt.plot(fpr, tpr, label='Логистическая регрессия')\n",
    "\n",
    "plt.xlim([0,1])\n",
    "plt.ylim([0,1])\n",
    "\n",
    "plt.xlabel(\"False Positive Rate\")\n",
    "plt.ylabel(\"True Positive Rate\")\n",
    "\n",
    "plt.legend(loc='lower right', fontsize='x-large')\n",
    "\n",
    "plt.title(\"ROC-кривая\")\n",
    "plt.show()"
   ]
  },
  {
   "cell_type": "markdown",
   "metadata": {},
   "source": [
    "Наилучший результат показала модель случайного леса."
   ]
  },
  {
   "cell_type": "markdown",
   "metadata": {},
   "source": [
    "### Вывод\n",
    "<br>\n",
    "\n",
    "Лучшие модели показали следующие значения AUC-ROC и F-1-меры на тестовой выборке:\n",
    "\n",
    "- решающее древо AUC-ROC = 0.84 и F-1 = 0.57;\n",
    "- случайный лес AUC-ROC = 0.85 и F-1 = 0.59;\n",
    "- логистическая регрессия AUC-ROC = 0.54 и F-1 = 0.33."
   ]
  },
  {
   "cell_type": "markdown",
   "metadata": {},
   "source": [
    "# Общий вывод\n",
    "<br>\n",
    "\n",
    "В ходе исследования я получена модель, предсказывающая отток клиентов банка с показателем AUC-ROC = 0.85 и F-1 меры = 0.59.\n",
    "\n",
    "Данная модель была получена путем применения метода уменьшения выборки."
   ]
  }
 ],
 "metadata": {
  "ExecuteTimeLog": [
   {
    "duration": 1587,
    "start_time": "2022-03-27T18:49:52.899Z"
   },
   {
    "duration": 137,
    "start_time": "2022-03-27T18:52:48.816Z"
   },
   {
    "duration": 118,
    "start_time": "2022-03-27T18:57:26.010Z"
   },
   {
    "duration": 17,
    "start_time": "2022-03-27T19:04:58.779Z"
   },
   {
    "duration": 1581,
    "start_time": "2022-03-29T15:17:27.839Z"
   },
   {
    "duration": 171,
    "start_time": "2022-03-29T15:17:29.423Z"
   },
   {
    "duration": 27,
    "start_time": "2022-03-29T15:17:29.597Z"
   },
   {
    "duration": 7,
    "start_time": "2022-03-29T15:18:07.431Z"
   },
   {
    "duration": 1904,
    "start_time": "2022-03-29T15:19:34.553Z"
   },
   {
    "duration": 7,
    "start_time": "2022-03-29T15:20:08.170Z"
   },
   {
    "duration": 5,
    "start_time": "2022-03-29T15:20:45.282Z"
   },
   {
    "duration": 14,
    "start_time": "2022-03-29T15:20:47.116Z"
   },
   {
    "duration": 141,
    "start_time": "2022-03-29T15:22:48.340Z"
   },
   {
    "duration": 57,
    "start_time": "2022-03-29T15:22:55.502Z"
   },
   {
    "duration": 48,
    "start_time": "2022-03-29T15:23:01.197Z"
   },
   {
    "duration": 23,
    "start_time": "2022-03-29T15:23:25.701Z"
   },
   {
    "duration": 5,
    "start_time": "2022-03-29T15:24:25.173Z"
   },
   {
    "duration": 7,
    "start_time": "2022-03-29T15:24:29.115Z"
   },
   {
    "duration": 6,
    "start_time": "2022-03-29T15:24:59.943Z"
   },
   {
    "duration": 8,
    "start_time": "2022-03-29T15:25:40.135Z"
   },
   {
    "duration": 8,
    "start_time": "2022-03-29T15:30:16.925Z"
   },
   {
    "duration": 7,
    "start_time": "2022-03-29T15:30:32.708Z"
   },
   {
    "duration": 7,
    "start_time": "2022-03-29T15:30:48.836Z"
   },
   {
    "duration": 9,
    "start_time": "2022-03-29T15:31:44.518Z"
   },
   {
    "duration": 210,
    "start_time": "2022-03-29T15:32:01.693Z"
   },
   {
    "duration": 8,
    "start_time": "2022-03-29T15:32:45.830Z"
   },
   {
    "duration": 203,
    "start_time": "2022-03-29T15:33:22.976Z"
   },
   {
    "duration": 7,
    "start_time": "2022-03-29T15:33:58.304Z"
   },
   {
    "duration": 6,
    "start_time": "2022-03-29T15:34:13.473Z"
   },
   {
    "duration": 6,
    "start_time": "2022-03-29T15:34:26.873Z"
   },
   {
    "duration": 7,
    "start_time": "2022-03-29T15:35:02.203Z"
   },
   {
    "duration": 6,
    "start_time": "2022-03-29T15:35:21.226Z"
   },
   {
    "duration": 17,
    "start_time": "2022-03-29T16:07:17.656Z"
   },
   {
    "duration": 16,
    "start_time": "2022-03-29T16:08:23.026Z"
   },
   {
    "duration": 9,
    "start_time": "2022-03-29T16:10:03.977Z"
   },
   {
    "duration": 33,
    "start_time": "2022-03-29T16:20:01.536Z"
   },
   {
    "duration": 23,
    "start_time": "2022-03-29T16:33:53.120Z"
   },
   {
    "duration": 1722,
    "start_time": "2022-03-29T17:21:57.357Z"
   },
   {
    "duration": 145,
    "start_time": "2022-03-29T17:21:59.083Z"
   },
   {
    "duration": 19,
    "start_time": "2022-03-29T17:21:59.230Z"
   },
   {
    "duration": 22,
    "start_time": "2022-03-29T17:21:59.252Z"
   },
   {
    "duration": 8,
    "start_time": "2022-03-29T17:21:59.285Z"
   },
   {
    "duration": 23,
    "start_time": "2022-03-29T17:21:59.296Z"
   },
   {
    "duration": 27,
    "start_time": "2022-03-29T17:21:59.322Z"
   },
   {
    "duration": 10,
    "start_time": "2022-03-29T17:21:59.352Z"
   },
   {
    "duration": 27,
    "start_time": "2022-03-29T17:21:59.365Z"
   },
   {
    "duration": 8,
    "start_time": "2022-03-29T17:21:59.397Z"
   },
   {
    "duration": 17,
    "start_time": "2022-03-29T17:21:59.407Z"
   },
   {
    "duration": 11,
    "start_time": "2022-03-29T17:21:59.427Z"
   },
   {
    "duration": 44,
    "start_time": "2022-03-29T17:21:59.441Z"
   },
   {
    "duration": 7,
    "start_time": "2022-03-29T17:21:59.487Z"
   },
   {
    "duration": 26,
    "start_time": "2022-03-29T17:21:59.496Z"
   },
   {
    "duration": 25,
    "start_time": "2022-03-29T17:21:59.524Z"
   },
   {
    "duration": 33,
    "start_time": "2022-03-29T17:21:59.552Z"
   },
   {
    "duration": 32,
    "start_time": "2022-03-29T17:21:59.587Z"
   },
   {
    "duration": 26,
    "start_time": "2022-03-29T17:21:59.621Z"
   },
   {
    "duration": 308,
    "start_time": "2022-03-29T17:23:50.910Z"
   },
   {
    "duration": 20,
    "start_time": "2022-03-29T17:24:04.566Z"
   },
   {
    "duration": 8,
    "start_time": "2022-03-29T17:26:37.363Z"
   },
   {
    "duration": 1690,
    "start_time": "2022-03-29T17:32:48.382Z"
   },
   {
    "duration": 127,
    "start_time": "2022-03-29T17:32:50.075Z"
   },
   {
    "duration": 22,
    "start_time": "2022-03-29T17:32:50.205Z"
   },
   {
    "duration": 10,
    "start_time": "2022-03-29T17:32:50.231Z"
   },
   {
    "duration": 43,
    "start_time": "2022-03-29T17:32:50.243Z"
   },
   {
    "duration": 11,
    "start_time": "2022-03-29T17:32:50.289Z"
   },
   {
    "duration": 19,
    "start_time": "2022-03-29T17:32:50.303Z"
   },
   {
    "duration": 12,
    "start_time": "2022-03-29T17:32:50.324Z"
   },
   {
    "duration": 8,
    "start_time": "2022-03-29T17:32:50.338Z"
   },
   {
    "duration": 5,
    "start_time": "2022-03-29T17:32:50.384Z"
   },
   {
    "duration": 12,
    "start_time": "2022-03-29T17:32:50.391Z"
   },
   {
    "duration": 12,
    "start_time": "2022-03-29T17:32:50.405Z"
   },
   {
    "duration": 8,
    "start_time": "2022-03-29T17:32:50.419Z"
   },
   {
    "duration": 10,
    "start_time": "2022-03-29T17:32:50.429Z"
   },
   {
    "duration": 55,
    "start_time": "2022-03-29T17:32:50.441Z"
   },
   {
    "duration": 19,
    "start_time": "2022-03-29T17:32:50.498Z"
   },
   {
    "duration": 10,
    "start_time": "2022-03-29T17:32:50.519Z"
   },
   {
    "duration": 58,
    "start_time": "2022-03-29T17:32:50.531Z"
   },
   {
    "duration": 26,
    "start_time": "2022-03-29T17:32:50.591Z"
   },
   {
    "duration": 21,
    "start_time": "2022-03-29T17:32:50.619Z"
   },
   {
    "duration": 9,
    "start_time": "2022-03-29T17:32:50.642Z"
   },
   {
    "duration": 50,
    "start_time": "2022-03-29T17:34:47.991Z"
   },
   {
    "duration": 384072,
    "start_time": "2022-03-29T17:37:12.354Z"
   },
   {
    "duration": 44,
    "start_time": "2022-03-29T17:46:06.049Z"
   },
   {
    "duration": 226,
    "start_time": "2022-03-29T18:32:01.792Z"
   },
   {
    "duration": 1178,
    "start_time": "2022-03-29T18:32:20.362Z"
   },
   {
    "duration": 146,
    "start_time": "2022-03-29T18:32:21.542Z"
   },
   {
    "duration": 10,
    "start_time": "2022-03-29T18:32:21.690Z"
   },
   {
    "duration": 5,
    "start_time": "2022-03-29T18:32:21.702Z"
   },
   {
    "duration": 8,
    "start_time": "2022-03-29T18:32:21.708Z"
   },
   {
    "duration": 10,
    "start_time": "2022-03-29T18:32:21.717Z"
   },
   {
    "duration": 9,
    "start_time": "2022-03-29T18:32:21.728Z"
   },
   {
    "duration": 10,
    "start_time": "2022-03-29T18:32:21.738Z"
   },
   {
    "duration": 5,
    "start_time": "2022-03-29T18:32:21.749Z"
   },
   {
    "duration": 5,
    "start_time": "2022-03-29T18:32:21.781Z"
   },
   {
    "duration": 9,
    "start_time": "2022-03-29T18:32:21.787Z"
   },
   {
    "duration": 15,
    "start_time": "2022-03-29T18:32:21.798Z"
   },
   {
    "duration": 8,
    "start_time": "2022-03-29T18:32:21.814Z"
   },
   {
    "duration": 7,
    "start_time": "2022-03-29T18:32:21.824Z"
   },
   {
    "duration": 15,
    "start_time": "2022-03-29T18:32:21.832Z"
   },
   {
    "duration": 12,
    "start_time": "2022-03-29T18:32:21.849Z"
   },
   {
    "duration": 22,
    "start_time": "2022-03-29T18:32:21.862Z"
   },
   {
    "duration": 18,
    "start_time": "2022-03-29T18:32:21.885Z"
   },
   {
    "duration": 15,
    "start_time": "2022-03-29T18:32:21.904Z"
   },
   {
    "duration": 25,
    "start_time": "2022-03-29T18:32:21.920Z"
   },
   {
    "duration": 5,
    "start_time": "2022-03-29T18:32:21.946Z"
   },
   {
    "duration": 45,
    "start_time": "2022-03-29T18:32:21.952Z"
   },
   {
    "duration": 26,
    "start_time": "2022-03-29T18:32:29.341Z"
   },
   {
    "duration": 749537,
    "start_time": "2022-03-29T18:32:32.906Z"
   },
   {
    "duration": 1528,
    "start_time": "2022-03-30T05:33:48.205Z"
   },
   {
    "duration": 119,
    "start_time": "2022-03-30T05:33:49.736Z"
   },
   {
    "duration": 21,
    "start_time": "2022-03-30T05:33:49.858Z"
   },
   {
    "duration": 10,
    "start_time": "2022-03-30T05:33:49.883Z"
   },
   {
    "duration": 9,
    "start_time": "2022-03-30T05:33:49.895Z"
   },
   {
    "duration": 28,
    "start_time": "2022-03-30T05:33:49.906Z"
   },
   {
    "duration": 26,
    "start_time": "2022-03-30T05:33:49.936Z"
   },
   {
    "duration": 22,
    "start_time": "2022-03-30T05:33:49.965Z"
   },
   {
    "duration": 37,
    "start_time": "2022-03-30T05:33:49.989Z"
   },
   {
    "duration": 27,
    "start_time": "2022-03-30T05:33:50.031Z"
   },
   {
    "duration": 17,
    "start_time": "2022-03-30T05:33:50.061Z"
   },
   {
    "duration": 18,
    "start_time": "2022-03-30T05:33:50.080Z"
   },
   {
    "duration": 14,
    "start_time": "2022-03-30T05:33:50.100Z"
   },
   {
    "duration": 7,
    "start_time": "2022-03-30T05:33:50.116Z"
   },
   {
    "duration": 20,
    "start_time": "2022-03-30T05:33:50.125Z"
   },
   {
    "duration": 48,
    "start_time": "2022-03-30T05:33:50.147Z"
   },
   {
    "duration": 8,
    "start_time": "2022-03-30T05:33:50.197Z"
   },
   {
    "duration": 37,
    "start_time": "2022-03-30T05:33:50.207Z"
   },
   {
    "duration": 54,
    "start_time": "2022-03-30T05:33:50.246Z"
   },
   {
    "duration": 27,
    "start_time": "2022-03-30T05:33:50.304Z"
   },
   {
    "duration": 28,
    "start_time": "2022-03-30T05:33:50.333Z"
   },
   {
    "duration": 66,
    "start_time": "2022-03-30T05:33:50.363Z"
   },
   {
    "duration": 444,
    "start_time": "2022-03-30T05:43:21.643Z"
   },
   {
    "duration": 5178,
    "start_time": "2022-03-30T05:52:11.708Z"
   },
   {
    "duration": 117,
    "start_time": "2022-03-30T05:53:06.863Z"
   },
   {
    "duration": 408,
    "start_time": "2022-03-30T05:53:43.317Z"
   },
   {
    "duration": 338,
    "start_time": "2022-03-30T05:53:52.855Z"
   },
   {
    "duration": 12,
    "start_time": "2022-03-30T07:38:33.914Z"
   },
   {
    "duration": 893,
    "start_time": "2022-03-30T07:38:42.597Z"
   },
   {
    "duration": 190,
    "start_time": "2022-03-30T07:40:45.877Z"
   },
   {
    "duration": 11,
    "start_time": "2022-03-30T07:51:04.412Z"
   },
   {
    "duration": 34,
    "start_time": "2022-03-30T08:26:03.798Z"
   },
   {
    "duration": 41,
    "start_time": "2022-03-30T08:26:25.735Z"
   },
   {
    "duration": 39,
    "start_time": "2022-03-30T08:26:29.935Z"
   },
   {
    "duration": 1154,
    "start_time": "2022-03-30T09:30:50.898Z"
   },
   {
    "duration": 77,
    "start_time": "2022-03-30T09:30:52.054Z"
   },
   {
    "duration": 14,
    "start_time": "2022-03-30T09:30:52.132Z"
   },
   {
    "duration": 6,
    "start_time": "2022-03-30T09:30:52.148Z"
   },
   {
    "duration": 5,
    "start_time": "2022-03-30T09:30:52.156Z"
   },
   {
    "duration": 7,
    "start_time": "2022-03-30T09:30:52.162Z"
   },
   {
    "duration": 7,
    "start_time": "2022-03-30T09:30:52.170Z"
   },
   {
    "duration": 7,
    "start_time": "2022-03-30T09:30:52.210Z"
   },
   {
    "duration": 6,
    "start_time": "2022-03-30T09:30:52.219Z"
   },
   {
    "duration": 4,
    "start_time": "2022-03-30T09:30:52.228Z"
   },
   {
    "duration": 5,
    "start_time": "2022-03-30T09:30:52.234Z"
   },
   {
    "duration": 5,
    "start_time": "2022-03-30T09:30:52.240Z"
   },
   {
    "duration": 8,
    "start_time": "2022-03-30T09:30:52.247Z"
   },
   {
    "duration": 4,
    "start_time": "2022-03-30T09:30:52.256Z"
   },
   {
    "duration": 56,
    "start_time": "2022-03-30T09:30:52.262Z"
   },
   {
    "duration": 11,
    "start_time": "2022-03-30T09:30:52.320Z"
   },
   {
    "duration": 7,
    "start_time": "2022-03-30T09:30:52.333Z"
   },
   {
    "duration": 19,
    "start_time": "2022-03-30T09:30:52.341Z"
   },
   {
    "duration": 15,
    "start_time": "2022-03-30T09:30:52.362Z"
   },
   {
    "duration": 40,
    "start_time": "2022-03-30T09:30:52.379Z"
   },
   {
    "duration": 6,
    "start_time": "2022-03-30T09:30:52.421Z"
   },
   {
    "duration": 31,
    "start_time": "2022-03-30T09:30:52.428Z"
   },
   {
    "duration": 30,
    "start_time": "2022-03-30T09:30:54.995Z"
   },
   {
    "duration": 1144,
    "start_time": "2022-03-30T09:33:40.501Z"
   },
   {
    "duration": 75,
    "start_time": "2022-03-30T09:33:43.364Z"
   },
   {
    "duration": 14,
    "start_time": "2022-03-30T09:33:46.484Z"
   },
   {
    "duration": 6,
    "start_time": "2022-03-30T09:33:48.453Z"
   },
   {
    "duration": 4,
    "start_time": "2022-03-30T09:33:50.846Z"
   },
   {
    "duration": 4,
    "start_time": "2022-03-30T09:33:53.045Z"
   },
   {
    "duration": 6,
    "start_time": "2022-03-30T09:33:54.686Z"
   },
   {
    "duration": 8,
    "start_time": "2022-03-30T09:33:56.492Z"
   },
   {
    "duration": 5,
    "start_time": "2022-03-30T09:33:58.157Z"
   },
   {
    "duration": 5,
    "start_time": "2022-03-30T09:33:59.916Z"
   },
   {
    "duration": 5,
    "start_time": "2022-03-30T09:34:01.917Z"
   },
   {
    "duration": 4,
    "start_time": "2022-03-30T09:34:03.557Z"
   },
   {
    "duration": 7,
    "start_time": "2022-03-30T09:34:05.117Z"
   },
   {
    "duration": 5,
    "start_time": "2022-03-30T09:34:06.741Z"
   },
   {
    "duration": 14,
    "start_time": "2022-03-30T09:34:08.828Z"
   },
   {
    "duration": 12,
    "start_time": "2022-03-30T09:34:10.485Z"
   },
   {
    "duration": 7,
    "start_time": "2022-03-30T09:34:12.540Z"
   },
   {
    "duration": 22,
    "start_time": "2022-03-30T09:34:13.748Z"
   },
   {
    "duration": 17,
    "start_time": "2022-03-30T09:34:21.797Z"
   },
   {
    "duration": 13,
    "start_time": "2022-03-30T09:34:25.351Z"
   },
   {
    "duration": 6,
    "start_time": "2022-03-30T09:34:27.326Z"
   },
   {
    "duration": 32,
    "start_time": "2022-03-30T09:34:30.237Z"
   },
   {
    "duration": 28,
    "start_time": "2022-03-30T09:34:33.302Z"
   },
   {
    "duration": 274,
    "start_time": "2022-03-30T09:34:35.845Z"
   },
   {
    "duration": 4442,
    "start_time": "2022-03-30T09:34:41.170Z"
   },
   {
    "duration": 253,
    "start_time": "2022-03-30T09:34:47.157Z"
   },
   {
    "duration": 552,
    "start_time": "2022-03-30T09:34:49.046Z"
   },
   {
    "duration": 9,
    "start_time": "2022-03-30T09:34:52.997Z"
   },
   {
    "duration": 22,
    "start_time": "2022-03-30T09:34:55.493Z"
   },
   {
    "duration": 120,
    "start_time": "2022-03-30T09:58:14.567Z"
   },
   {
    "duration": 6,
    "start_time": "2022-03-30T09:59:29.087Z"
   },
   {
    "duration": 792,
    "start_time": "2022-03-30T09:59:35.389Z"
   },
   {
    "duration": 272528,
    "start_time": "2022-03-30T10:15:34.402Z"
   },
   {
    "duration": 821281,
    "start_time": "2022-03-30T10:34:20.246Z"
   },
   {
    "duration": 4733,
    "start_time": "2022-03-30T11:02:53.282Z"
   },
   {
    "duration": 2319,
    "start_time": "2022-03-30T15:31:08.160Z"
   },
   {
    "duration": 169,
    "start_time": "2022-03-30T15:31:10.482Z"
   },
   {
    "duration": 19,
    "start_time": "2022-03-30T15:31:10.654Z"
   },
   {
    "duration": 10,
    "start_time": "2022-03-30T15:31:10.677Z"
   },
   {
    "duration": 7,
    "start_time": "2022-03-30T15:31:10.690Z"
   },
   {
    "duration": 45,
    "start_time": "2022-03-30T15:31:10.700Z"
   },
   {
    "duration": 6,
    "start_time": "2022-03-30T15:31:10.747Z"
   },
   {
    "duration": 11,
    "start_time": "2022-03-30T15:31:10.755Z"
   },
   {
    "duration": 8,
    "start_time": "2022-03-30T15:31:10.769Z"
   },
   {
    "duration": 6,
    "start_time": "2022-03-30T15:31:10.780Z"
   },
   {
    "duration": 59,
    "start_time": "2022-03-30T15:31:10.788Z"
   },
   {
    "duration": 6,
    "start_time": "2022-03-30T15:31:10.849Z"
   },
   {
    "duration": 12,
    "start_time": "2022-03-30T15:31:10.857Z"
   },
   {
    "duration": 7,
    "start_time": "2022-03-30T15:31:10.871Z"
   },
   {
    "duration": 67,
    "start_time": "2022-03-30T15:31:10.880Z"
   },
   {
    "duration": 17,
    "start_time": "2022-03-30T15:31:10.950Z"
   },
   {
    "duration": 9,
    "start_time": "2022-03-30T15:31:10.969Z"
   },
   {
    "duration": 67,
    "start_time": "2022-03-30T15:31:10.980Z"
   },
   {
    "duration": 32,
    "start_time": "2022-03-30T15:31:11.050Z"
   },
   {
    "duration": 28,
    "start_time": "2022-03-30T15:31:11.085Z"
   },
   {
    "duration": 37,
    "start_time": "2022-03-30T15:31:11.116Z"
   },
   {
    "duration": 66,
    "start_time": "2022-03-30T15:31:11.156Z"
   },
   {
    "duration": 43,
    "start_time": "2022-03-30T15:31:14.186Z"
   },
   {
    "duration": 420,
    "start_time": "2022-03-30T15:31:17.460Z"
   },
   {
    "duration": 420,
    "start_time": "2022-03-30T15:31:28.129Z"
   },
   {
    "duration": 190,
    "start_time": "2022-03-30T15:31:31.618Z"
   },
   {
    "duration": 12,
    "start_time": "2022-03-30T15:31:36.641Z"
   },
   {
    "duration": 31,
    "start_time": "2022-03-30T15:31:39.649Z"
   },
   {
    "duration": 418,
    "start_time": "2022-03-30T15:36:08.386Z"
   },
   {
    "duration": 1311,
    "start_time": "2022-03-30T15:36:14.432Z"
   },
   {
    "duration": 929,
    "start_time": "2022-03-30T16:07:12.220Z"
   },
   {
    "duration": 1340,
    "start_time": "2022-03-30T16:14:30.012Z"
   },
   {
    "duration": 15,
    "start_time": "2022-03-30T16:22:19.220Z"
   },
   {
    "duration": 212,
    "start_time": "2022-03-30T16:22:47.555Z"
   },
   {
    "duration": 492456,
    "start_time": "2022-03-30T16:23:05.018Z"
   },
   {
    "duration": 280,
    "start_time": "2022-03-30T17:05:28.870Z"
   },
   {
    "duration": 2037,
    "start_time": "2022-03-30T17:05:34.241Z"
   },
   {
    "duration": 5,
    "start_time": "2022-03-30T17:05:47.709Z"
   },
   {
    "duration": 160,
    "start_time": "2022-03-30T17:05:47.717Z"
   },
   {
    "duration": 18,
    "start_time": "2022-03-30T17:05:47.880Z"
   },
   {
    "duration": 33,
    "start_time": "2022-03-30T17:05:47.900Z"
   },
   {
    "duration": 23,
    "start_time": "2022-03-30T17:05:47.936Z"
   },
   {
    "duration": 38,
    "start_time": "2022-03-30T17:05:47.961Z"
   },
   {
    "duration": 71,
    "start_time": "2022-03-30T17:05:48.001Z"
   },
   {
    "duration": 26,
    "start_time": "2022-03-30T17:05:48.074Z"
   },
   {
    "duration": 19,
    "start_time": "2022-03-30T17:05:48.102Z"
   },
   {
    "duration": 25,
    "start_time": "2022-03-30T17:05:48.123Z"
   },
   {
    "duration": 24,
    "start_time": "2022-03-30T17:05:48.152Z"
   },
   {
    "duration": 31,
    "start_time": "2022-03-30T17:05:48.178Z"
   },
   {
    "duration": 38,
    "start_time": "2022-03-30T17:05:48.211Z"
   },
   {
    "duration": 26,
    "start_time": "2022-03-30T17:05:48.251Z"
   },
   {
    "duration": 32,
    "start_time": "2022-03-30T17:05:48.279Z"
   },
   {
    "duration": 37,
    "start_time": "2022-03-30T17:05:48.313Z"
   },
   {
    "duration": 42,
    "start_time": "2022-03-30T17:05:48.352Z"
   },
   {
    "duration": 63,
    "start_time": "2022-03-30T17:05:48.396Z"
   },
   {
    "duration": 26,
    "start_time": "2022-03-30T17:05:48.461Z"
   },
   {
    "duration": 30,
    "start_time": "2022-03-30T17:05:48.489Z"
   },
   {
    "duration": 26,
    "start_time": "2022-03-30T17:05:48.522Z"
   },
   {
    "duration": 66,
    "start_time": "2022-03-30T17:05:48.550Z"
   },
   {
    "duration": 258,
    "start_time": "2022-03-30T17:05:53.890Z"
   },
   {
    "duration": 42,
    "start_time": "2022-03-30T17:06:22.147Z"
   },
   {
    "duration": 368,
    "start_time": "2022-03-30T17:06:24.460Z"
   },
   {
    "duration": 3534,
    "start_time": "2022-03-30T17:06:25.850Z"
   },
   {
    "duration": 314,
    "start_time": "2022-03-30T17:06:29.572Z"
   },
   {
    "duration": 180,
    "start_time": "2022-03-30T17:06:30.963Z"
   },
   {
    "duration": 11,
    "start_time": "2022-03-30T17:06:32.275Z"
   },
   {
    "duration": 30,
    "start_time": "2022-03-30T17:06:34.090Z"
   },
   {
    "duration": 1041,
    "start_time": "2022-03-30T17:06:35.763Z"
   },
   {
    "duration": 3994,
    "start_time": "2022-03-30T17:06:41.890Z"
   },
   {
    "duration": 1275,
    "start_time": "2022-03-30T17:06:45.888Z"
   },
   {
    "duration": 19,
    "start_time": "2022-03-30T17:06:47.170Z"
   },
   {
    "duration": 1581264,
    "start_time": "2022-03-30T17:06:49.573Z"
   },
   {
    "duration": 6932,
    "start_time": "2022-03-30T17:40:44.552Z"
   },
   {
    "duration": 160,
    "start_time": "2022-03-30T17:43:04.028Z"
   },
   {
    "duration": 1322,
    "start_time": "2022-03-30T17:44:37.726Z"
   },
   {
    "duration": 1500,
    "start_time": "2022-03-30T17:45:17.858Z"
   },
   {
    "duration": 1536,
    "start_time": "2022-03-30T17:50:15.846Z"
   },
   {
    "duration": 162,
    "start_time": "2022-03-30T17:59:02.110Z"
   },
   {
    "duration": 23,
    "start_time": "2022-03-30T18:00:15.248Z"
   },
   {
    "duration": 208510,
    "start_time": "2022-03-30T18:01:04.375Z"
   },
   {
    "duration": 655780,
    "start_time": "2022-03-30T18:06:22.614Z"
   },
   {
    "duration": 4412,
    "start_time": "2022-03-30T18:20:56.279Z"
   },
   {
    "duration": 281,
    "start_time": "2022-03-30T18:24:53.352Z"
   },
   {
    "duration": 960,
    "start_time": "2022-03-30T18:25:19.868Z"
   },
   {
    "duration": 979,
    "start_time": "2022-03-30T18:27:38.188Z"
   },
   {
    "duration": 65,
    "start_time": "2022-03-30T18:44:35.313Z"
   },
   {
    "duration": 2331,
    "start_time": "2022-03-30T18:44:43.016Z"
   },
   {
    "duration": 105,
    "start_time": "2022-03-30T18:44:50.082Z"
   },
   {
    "duration": 7,
    "start_time": "2022-03-30T18:45:04.775Z"
   },
   {
    "duration": 101,
    "start_time": "2022-03-30T18:45:04.785Z"
   },
   {
    "duration": 20,
    "start_time": "2022-03-30T18:45:04.890Z"
   },
   {
    "duration": 11,
    "start_time": "2022-03-30T18:45:04.912Z"
   },
   {
    "duration": 43,
    "start_time": "2022-03-30T18:45:04.927Z"
   },
   {
    "duration": 9,
    "start_time": "2022-03-30T18:45:04.973Z"
   },
   {
    "duration": 13,
    "start_time": "2022-03-30T18:45:04.984Z"
   },
   {
    "duration": 11,
    "start_time": "2022-03-30T18:45:05.000Z"
   },
   {
    "duration": 58,
    "start_time": "2022-03-30T18:45:05.013Z"
   },
   {
    "duration": 7,
    "start_time": "2022-03-30T18:45:05.074Z"
   },
   {
    "duration": 7,
    "start_time": "2022-03-30T18:45:05.087Z"
   },
   {
    "duration": 9,
    "start_time": "2022-03-30T18:45:05.097Z"
   },
   {
    "duration": 11,
    "start_time": "2022-03-30T18:45:05.109Z"
   },
   {
    "duration": 6,
    "start_time": "2022-03-30T18:45:05.167Z"
   },
   {
    "duration": 22,
    "start_time": "2022-03-30T18:45:05.176Z"
   },
   {
    "duration": 16,
    "start_time": "2022-03-30T18:45:05.201Z"
   },
   {
    "duration": 9,
    "start_time": "2022-03-30T18:45:05.219Z"
   },
   {
    "duration": 28,
    "start_time": "2022-03-30T18:45:05.267Z"
   },
   {
    "duration": 26,
    "start_time": "2022-03-30T18:45:05.297Z"
   },
   {
    "duration": 49,
    "start_time": "2022-03-30T18:45:05.325Z"
   },
   {
    "duration": 9,
    "start_time": "2022-03-30T18:45:05.377Z"
   },
   {
    "duration": 50,
    "start_time": "2022-03-30T18:45:05.388Z"
   },
   {
    "duration": 41,
    "start_time": "2022-03-30T18:45:09.188Z"
   },
   {
    "duration": 383,
    "start_time": "2022-03-30T18:45:11.678Z"
   },
   {
    "duration": 208,
    "start_time": "2022-03-30T18:45:14.270Z"
   },
   {
    "duration": 185,
    "start_time": "2022-03-30T18:45:16.087Z"
   },
   {
    "duration": 11,
    "start_time": "2022-03-30T18:45:18.030Z"
   },
   {
    "duration": 31,
    "start_time": "2022-03-30T18:45:20.135Z"
   },
   {
    "duration": 132,
    "start_time": "2022-03-30T18:45:23.335Z"
   },
   {
    "duration": 1003,
    "start_time": "2022-03-30T18:45:27.560Z"
   },
   {
    "duration": 8,
    "start_time": "2022-03-30T18:45:39.984Z"
   },
   {
    "duration": 291,
    "start_time": "2022-03-30T18:55:33.854Z"
   },
   {
    "duration": 15,
    "start_time": "2022-03-30T18:56:04.534Z"
   },
   {
    "duration": 332,
    "start_time": "2022-03-30T18:56:40.438Z"
   },
   {
    "duration": 203,
    "start_time": "2022-03-30T18:56:44.109Z"
   },
   {
    "duration": 13,
    "start_time": "2022-03-30T18:56:46.924Z"
   },
   {
    "duration": 30,
    "start_time": "2022-03-30T18:56:49.077Z"
   },
   {
    "duration": 1208,
    "start_time": "2022-03-30T18:56:51.629Z"
   },
   {
    "duration": 5992,
    "start_time": "2022-03-30T18:56:58.484Z"
   },
   {
    "duration": 1189,
    "start_time": "2022-03-30T18:57:37.191Z"
   },
   {
    "duration": 15,
    "start_time": "2022-03-30T18:57:57.669Z"
   },
   {
    "duration": 5083,
    "start_time": "2022-03-30T18:58:01.893Z"
   },
   {
    "duration": 1649,
    "start_time": "2022-03-30T18:58:09.022Z"
   },
   {
    "duration": 16,
    "start_time": "2022-03-30T18:58:13.333Z"
   },
   {
    "duration": 3736,
    "start_time": "2022-03-30T18:58:16.733Z"
   },
   {
    "duration": 8,
    "start_time": "2022-03-30T18:58:23.254Z"
   },
   {
    "duration": 303,
    "start_time": "2022-03-30T18:58:25.879Z"
   },
   {
    "duration": 8,
    "start_time": "2022-03-30T19:07:07.188Z"
   },
   {
    "duration": 293,
    "start_time": "2022-03-30T19:07:12.961Z"
   },
   {
    "duration": 295,
    "start_time": "2022-03-30T19:07:53.401Z"
   },
   {
    "duration": 1223,
    "start_time": "2022-03-30T19:08:10.117Z"
   },
   {
    "duration": 5,
    "start_time": "2022-03-30T19:12:48.041Z"
   },
   {
    "duration": 1321,
    "start_time": "2022-03-30T19:12:49.881Z"
   },
   {
    "duration": 16,
    "start_time": "2022-03-30T19:19:12.854Z"
   },
   {
    "duration": 16,
    "start_time": "2022-03-30T19:20:24.919Z"
   },
   {
    "duration": 1214,
    "start_time": "2022-03-30T19:20:43.239Z"
   }
  ],
  "kernelspec": {
   "display_name": "Python 3",
   "language": "python",
   "name": "python3"
  },
  "language_info": {
   "codemirror_mode": {
    "name": "ipython",
    "version": 3
   },
   "file_extension": ".py",
   "mimetype": "text/x-python",
   "name": "python",
   "nbconvert_exporter": "python",
   "pygments_lexer": "ipython3",
   "version": "3.8.8"
  },
  "toc": {
   "base_numbering": 1,
   "nav_menu": {},
   "number_sections": true,
   "sideBar": true,
   "skip_h1_title": true,
   "title_cell": "Содержание",
   "title_sidebar": "Contents",
   "toc_cell": true,
   "toc_position": {
    "height": "calc(100% - 180px)",
    "left": "10px",
    "top": "150px",
    "width": "366.391px"
   },
   "toc_section_display": true,
   "toc_window_display": false
  }
 },
 "nbformat": 4,
 "nbformat_minor": 2
}
