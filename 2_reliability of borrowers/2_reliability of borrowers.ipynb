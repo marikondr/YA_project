{
 "cells": [
  {
   "cell_type": "markdown",
   "metadata": {},
   "source": [
    "# Исследование надёжности заёмщиков\n",
    "\n",
    "Заказчик — кредитный отдел банка. Нужно разобраться, влияет ли семейное положение и количество детей клиента на факт погашения кредита в срок. Входные данные от банка — статистика о платёжеспособности клиентов.\n",
    "\n",
    "Результаты исследования будут учтены при построении модели **кредитного скоринга** — специальной системы, которая оценивает способность потенциального заёмщика вернуть кредит банку."
   ]
  },
  {
   "cell_type": "markdown",
   "metadata": {},
   "source": [
    "Согласно документации к данным:\n",
    "* `children` — количество детей в семье;\n",
    "* `days_employed` — общий трудовой стаж в днях;\n",
    "* `dob_years` — возраст клиента в годах;\n",
    "*`education` — уровень образования клиента;\n",
    "*`education_id` — идентификатор уровня образования;\n",
    "*`family_status` — семейное положение;\n",
    "*`family_status_id` — идентификатор семейного положения;\n",
    "*`gender` — пол клиента;\n",
    "*`income_type` — тип занятости;\n",
    "*`debt` — имел ли задолженность по возврату кредитов;\n",
    "*`total_income` — ежемесячный доход;\n",
    "*`purpose` — цель получения кредита."
   ]
  },
  {
   "cell_type": "markdown",
   "metadata": {},
   "source": [
    "## Шаг 1. Откройте файл с данными и изучите общую информацию"
   ]
  },
  {
   "cell_type": "code",
   "execution_count": 1,
   "metadata": {},
   "outputs": [
    {
     "data": {
      "text/html": [
       "<div>\n",
       "<style scoped>\n",
       "    .dataframe tbody tr th:only-of-type {\n",
       "        vertical-align: middle;\n",
       "    }\n",
       "\n",
       "    .dataframe tbody tr th {\n",
       "        vertical-align: top;\n",
       "    }\n",
       "\n",
       "    .dataframe thead th {\n",
       "        text-align: right;\n",
       "    }\n",
       "</style>\n",
       "<table border=\"1\" class=\"dataframe\">\n",
       "  <thead>\n",
       "    <tr style=\"text-align: right;\">\n",
       "      <th></th>\n",
       "      <th>children</th>\n",
       "      <th>days_employed</th>\n",
       "      <th>dob_years</th>\n",
       "      <th>education</th>\n",
       "      <th>education_id</th>\n",
       "      <th>family_status</th>\n",
       "      <th>family_status_id</th>\n",
       "      <th>gender</th>\n",
       "      <th>income_type</th>\n",
       "      <th>debt</th>\n",
       "      <th>total_income</th>\n",
       "      <th>purpose</th>\n",
       "    </tr>\n",
       "  </thead>\n",
       "  <tbody>\n",
       "    <tr>\n",
       "      <td>0</td>\n",
       "      <td>1</td>\n",
       "      <td>-8437.673028</td>\n",
       "      <td>42</td>\n",
       "      <td>высшее</td>\n",
       "      <td>0</td>\n",
       "      <td>женат / замужем</td>\n",
       "      <td>0</td>\n",
       "      <td>F</td>\n",
       "      <td>сотрудник</td>\n",
       "      <td>0</td>\n",
       "      <td>253875.639453</td>\n",
       "      <td>покупка жилья</td>\n",
       "    </tr>\n",
       "    <tr>\n",
       "      <td>1</td>\n",
       "      <td>1</td>\n",
       "      <td>-4024.803754</td>\n",
       "      <td>36</td>\n",
       "      <td>среднее</td>\n",
       "      <td>1</td>\n",
       "      <td>женат / замужем</td>\n",
       "      <td>0</td>\n",
       "      <td>F</td>\n",
       "      <td>сотрудник</td>\n",
       "      <td>0</td>\n",
       "      <td>112080.014102</td>\n",
       "      <td>приобретение автомобиля</td>\n",
       "    </tr>\n",
       "    <tr>\n",
       "      <td>2</td>\n",
       "      <td>0</td>\n",
       "      <td>-5623.422610</td>\n",
       "      <td>33</td>\n",
       "      <td>Среднее</td>\n",
       "      <td>1</td>\n",
       "      <td>женат / замужем</td>\n",
       "      <td>0</td>\n",
       "      <td>M</td>\n",
       "      <td>сотрудник</td>\n",
       "      <td>0</td>\n",
       "      <td>145885.952297</td>\n",
       "      <td>покупка жилья</td>\n",
       "    </tr>\n",
       "    <tr>\n",
       "      <td>3</td>\n",
       "      <td>3</td>\n",
       "      <td>-4124.747207</td>\n",
       "      <td>32</td>\n",
       "      <td>среднее</td>\n",
       "      <td>1</td>\n",
       "      <td>женат / замужем</td>\n",
       "      <td>0</td>\n",
       "      <td>M</td>\n",
       "      <td>сотрудник</td>\n",
       "      <td>0</td>\n",
       "      <td>267628.550329</td>\n",
       "      <td>дополнительное образование</td>\n",
       "    </tr>\n",
       "    <tr>\n",
       "      <td>4</td>\n",
       "      <td>0</td>\n",
       "      <td>340266.072047</td>\n",
       "      <td>53</td>\n",
       "      <td>среднее</td>\n",
       "      <td>1</td>\n",
       "      <td>гражданский брак</td>\n",
       "      <td>1</td>\n",
       "      <td>F</td>\n",
       "      <td>пенсионер</td>\n",
       "      <td>0</td>\n",
       "      <td>158616.077870</td>\n",
       "      <td>сыграть свадьбу</td>\n",
       "    </tr>\n",
       "    <tr>\n",
       "      <td>5</td>\n",
       "      <td>0</td>\n",
       "      <td>-926.185831</td>\n",
       "      <td>27</td>\n",
       "      <td>высшее</td>\n",
       "      <td>0</td>\n",
       "      <td>гражданский брак</td>\n",
       "      <td>1</td>\n",
       "      <td>M</td>\n",
       "      <td>компаньон</td>\n",
       "      <td>0</td>\n",
       "      <td>255763.565419</td>\n",
       "      <td>покупка жилья</td>\n",
       "    </tr>\n",
       "    <tr>\n",
       "      <td>6</td>\n",
       "      <td>0</td>\n",
       "      <td>-2879.202052</td>\n",
       "      <td>43</td>\n",
       "      <td>высшее</td>\n",
       "      <td>0</td>\n",
       "      <td>женат / замужем</td>\n",
       "      <td>0</td>\n",
       "      <td>F</td>\n",
       "      <td>компаньон</td>\n",
       "      <td>0</td>\n",
       "      <td>240525.971920</td>\n",
       "      <td>операции с жильем</td>\n",
       "    </tr>\n",
       "    <tr>\n",
       "      <td>7</td>\n",
       "      <td>0</td>\n",
       "      <td>-152.779569</td>\n",
       "      <td>50</td>\n",
       "      <td>СРЕДНЕЕ</td>\n",
       "      <td>1</td>\n",
       "      <td>женат / замужем</td>\n",
       "      <td>0</td>\n",
       "      <td>M</td>\n",
       "      <td>сотрудник</td>\n",
       "      <td>0</td>\n",
       "      <td>135823.934197</td>\n",
       "      <td>образование</td>\n",
       "    </tr>\n",
       "    <tr>\n",
       "      <td>8</td>\n",
       "      <td>2</td>\n",
       "      <td>-6929.865299</td>\n",
       "      <td>35</td>\n",
       "      <td>ВЫСШЕЕ</td>\n",
       "      <td>0</td>\n",
       "      <td>гражданский брак</td>\n",
       "      <td>1</td>\n",
       "      <td>F</td>\n",
       "      <td>сотрудник</td>\n",
       "      <td>0</td>\n",
       "      <td>95856.832424</td>\n",
       "      <td>на проведение свадьбы</td>\n",
       "    </tr>\n",
       "    <tr>\n",
       "      <td>9</td>\n",
       "      <td>0</td>\n",
       "      <td>-2188.756445</td>\n",
       "      <td>41</td>\n",
       "      <td>среднее</td>\n",
       "      <td>1</td>\n",
       "      <td>женат / замужем</td>\n",
       "      <td>0</td>\n",
       "      <td>M</td>\n",
       "      <td>сотрудник</td>\n",
       "      <td>0</td>\n",
       "      <td>144425.938277</td>\n",
       "      <td>покупка жилья для семьи</td>\n",
       "    </tr>\n",
       "  </tbody>\n",
       "</table>\n",
       "</div>"
      ],
      "text/plain": [
       "   children  days_employed  dob_years education  education_id  \\\n",
       "0         1   -8437.673028         42    высшее             0   \n",
       "1         1   -4024.803754         36   среднее             1   \n",
       "2         0   -5623.422610         33   Среднее             1   \n",
       "3         3   -4124.747207         32   среднее             1   \n",
       "4         0  340266.072047         53   среднее             1   \n",
       "5         0    -926.185831         27    высшее             0   \n",
       "6         0   -2879.202052         43    высшее             0   \n",
       "7         0    -152.779569         50   СРЕДНЕЕ             1   \n",
       "8         2   -6929.865299         35    ВЫСШЕЕ             0   \n",
       "9         0   -2188.756445         41   среднее             1   \n",
       "\n",
       "      family_status  family_status_id gender income_type  debt   total_income  \\\n",
       "0   женат / замужем                 0      F   сотрудник     0  253875.639453   \n",
       "1   женат / замужем                 0      F   сотрудник     0  112080.014102   \n",
       "2   женат / замужем                 0      M   сотрудник     0  145885.952297   \n",
       "3   женат / замужем                 0      M   сотрудник     0  267628.550329   \n",
       "4  гражданский брак                 1      F   пенсионер     0  158616.077870   \n",
       "5  гражданский брак                 1      M   компаньон     0  255763.565419   \n",
       "6   женат / замужем                 0      F   компаньон     0  240525.971920   \n",
       "7   женат / замужем                 0      M   сотрудник     0  135823.934197   \n",
       "8  гражданский брак                 1      F   сотрудник     0   95856.832424   \n",
       "9   женат / замужем                 0      M   сотрудник     0  144425.938277   \n",
       "\n",
       "                      purpose  \n",
       "0               покупка жилья  \n",
       "1     приобретение автомобиля  \n",
       "2               покупка жилья  \n",
       "3  дополнительное образование  \n",
       "4             сыграть свадьбу  \n",
       "5               покупка жилья  \n",
       "6           операции с жильем  \n",
       "7                 образование  \n",
       "8       на проведение свадьбы  \n",
       "9     покупка жилья для семьи  "
      ]
     },
     "execution_count": 1,
     "metadata": {},
     "output_type": "execute_result"
    }
   ],
   "source": [
    "import pandas as pd # подключение необходимых библиотек\n",
    "from pymystem3 import Mystem\n",
    "from copy import deepcopy\n",
    "m = Mystem()\n",
    "\n",
    "data = pd.read_csv('/datasets/data.csv') # чтение файла с данными и сохранение в data\n",
    "data.head(10) # получение первых 10 строк таблицы data"
   ]
  },
  {
   "cell_type": "markdown",
   "metadata": {},
   "source": [
    "Получим общую информацию по таблице"
   ]
  },
  {
   "cell_type": "code",
   "execution_count": 2,
   "metadata": {},
   "outputs": [
    {
     "name": "stdout",
     "output_type": "stream",
     "text": [
      "<class 'pandas.core.frame.DataFrame'>\n",
      "RangeIndex: 21525 entries, 0 to 21524\n",
      "Data columns (total 12 columns):\n",
      "children            21525 non-null int64\n",
      "days_employed       19351 non-null float64\n",
      "dob_years           21525 non-null int64\n",
      "education           21525 non-null object\n",
      "education_id        21525 non-null int64\n",
      "family_status       21525 non-null object\n",
      "family_status_id    21525 non-null int64\n",
      "gender              21525 non-null object\n",
      "income_type         21525 non-null object\n",
      "debt                21525 non-null int64\n",
      "total_income        19351 non-null float64\n",
      "purpose             21525 non-null object\n",
      "dtypes: float64(2), int64(5), object(5)\n",
      "memory usage: 2.0+ MB\n"
     ]
    }
   ],
   "source": [
    "data.info() # получение общей информации о данных в таблице data"
   ]
  },
  {
   "cell_type": "markdown",
   "metadata": {},
   "source": [
    "Посчитаем кол-во пропусков и выведем уникальные значения для определения дальнейшних планов по проекту"
   ]
  },
  {
   "cell_type": "code",
   "execution_count": 3,
   "metadata": {
    "scrolled": true
   },
   "outputs": [
    {
     "data": {
      "text/html": [
       "<div>\n",
       "<style scoped>\n",
       "    .dataframe tbody tr th:only-of-type {\n",
       "        vertical-align: middle;\n",
       "    }\n",
       "\n",
       "    .dataframe tbody tr th {\n",
       "        vertical-align: top;\n",
       "    }\n",
       "\n",
       "    .dataframe thead th {\n",
       "        text-align: right;\n",
       "    }\n",
       "</style>\n",
       "<table border=\"1\" class=\"dataframe\">\n",
       "  <thead>\n",
       "    <tr style=\"text-align: right;\">\n",
       "      <th></th>\n",
       "      <th>children</th>\n",
       "      <th>days_employed</th>\n",
       "      <th>dob_years</th>\n",
       "      <th>education</th>\n",
       "      <th>education_id</th>\n",
       "      <th>family_status</th>\n",
       "      <th>family_status_id</th>\n",
       "      <th>gender</th>\n",
       "      <th>income_type</th>\n",
       "      <th>debt</th>\n",
       "      <th>total_income</th>\n",
       "      <th>purpose</th>\n",
       "    </tr>\n",
       "  </thead>\n",
       "  <tbody>\n",
       "    <tr>\n",
       "      <td>12</td>\n",
       "      <td>0</td>\n",
       "      <td>NaN</td>\n",
       "      <td>65</td>\n",
       "      <td>среднее</td>\n",
       "      <td>1</td>\n",
       "      <td>гражданский брак</td>\n",
       "      <td>1</td>\n",
       "      <td>M</td>\n",
       "      <td>пенсионер</td>\n",
       "      <td>0</td>\n",
       "      <td>NaN</td>\n",
       "      <td>сыграть свадьбу</td>\n",
       "    </tr>\n",
       "    <tr>\n",
       "      <td>26</td>\n",
       "      <td>0</td>\n",
       "      <td>NaN</td>\n",
       "      <td>41</td>\n",
       "      <td>среднее</td>\n",
       "      <td>1</td>\n",
       "      <td>женат / замужем</td>\n",
       "      <td>0</td>\n",
       "      <td>M</td>\n",
       "      <td>госслужащий</td>\n",
       "      <td>0</td>\n",
       "      <td>NaN</td>\n",
       "      <td>образование</td>\n",
       "    </tr>\n",
       "    <tr>\n",
       "      <td>29</td>\n",
       "      <td>0</td>\n",
       "      <td>NaN</td>\n",
       "      <td>63</td>\n",
       "      <td>среднее</td>\n",
       "      <td>1</td>\n",
       "      <td>Не женат / не замужем</td>\n",
       "      <td>4</td>\n",
       "      <td>F</td>\n",
       "      <td>пенсионер</td>\n",
       "      <td>0</td>\n",
       "      <td>NaN</td>\n",
       "      <td>строительство жилой недвижимости</td>\n",
       "    </tr>\n",
       "    <tr>\n",
       "      <td>41</td>\n",
       "      <td>0</td>\n",
       "      <td>NaN</td>\n",
       "      <td>50</td>\n",
       "      <td>среднее</td>\n",
       "      <td>1</td>\n",
       "      <td>женат / замужем</td>\n",
       "      <td>0</td>\n",
       "      <td>F</td>\n",
       "      <td>госслужащий</td>\n",
       "      <td>0</td>\n",
       "      <td>NaN</td>\n",
       "      <td>сделка с подержанным автомобилем</td>\n",
       "    </tr>\n",
       "    <tr>\n",
       "      <td>55</td>\n",
       "      <td>0</td>\n",
       "      <td>NaN</td>\n",
       "      <td>54</td>\n",
       "      <td>среднее</td>\n",
       "      <td>1</td>\n",
       "      <td>гражданский брак</td>\n",
       "      <td>1</td>\n",
       "      <td>F</td>\n",
       "      <td>пенсионер</td>\n",
       "      <td>1</td>\n",
       "      <td>NaN</td>\n",
       "      <td>сыграть свадьбу</td>\n",
       "    </tr>\n",
       "  </tbody>\n",
       "</table>\n",
       "</div>"
      ],
      "text/plain": [
       "    children  days_employed  dob_years education  education_id  \\\n",
       "12         0            NaN         65   среднее             1   \n",
       "26         0            NaN         41   среднее             1   \n",
       "29         0            NaN         63   среднее             1   \n",
       "41         0            NaN         50   среднее             1   \n",
       "55         0            NaN         54   среднее             1   \n",
       "\n",
       "            family_status  family_status_id gender  income_type  debt  \\\n",
       "12       гражданский брак                 1      M    пенсионер     0   \n",
       "26        женат / замужем                 0      M  госслужащий     0   \n",
       "29  Не женат / не замужем                 4      F    пенсионер     0   \n",
       "41        женат / замужем                 0      F  госслужащий     0   \n",
       "55       гражданский брак                 1      F    пенсионер     1   \n",
       "\n",
       "    total_income                           purpose  \n",
       "12           NaN                   сыграть свадьбу  \n",
       "26           NaN                       образование  \n",
       "29           NaN  строительство жилой недвижимости  \n",
       "41           NaN  сделка с подержанным автомобилем  \n",
       "55           NaN                   сыграть свадьбу  "
      ]
     },
     "execution_count": 3,
     "metadata": {},
     "output_type": "execute_result"
    }
   ],
   "source": [
    "data[data['days_employed'].isna()].head() # проверка таблицы data на наличие пропусков"
   ]
  },
  {
   "cell_type": "code",
   "execution_count": 4,
   "metadata": {},
   "outputs": [
    {
     "data": {
      "text/plain": [
       "2174"
      ]
     },
     "execution_count": 4,
     "metadata": {},
     "output_type": "execute_result"
    }
   ],
   "source": [
    "len(data[data['days_employed'].isna()]) #подсчёт кол-ва пропусков "
   ]
  },
  {
   "cell_type": "markdown",
   "metadata": {},
   "source": [
    "Получим уникальные значения "
   ]
  },
  {
   "cell_type": "code",
   "execution_count": 5,
   "metadata": {},
   "outputs": [
    {
     "data": {
      "text/plain": [
       "array([-1,  0,  1,  2,  3,  4,  5, 20])"
      ]
     },
     "execution_count": 5,
     "metadata": {},
     "output_type": "execute_result"
    }
   ],
   "source": [
    "data['children'].sort_values().unique() # получение уникальных значений  в столбце \"children\" таблицы data "
   ]
  },
  {
   "cell_type": "code",
   "execution_count": 6,
   "metadata": {},
   "outputs": [
    {
     "data": {
      "text/plain": [
       "47"
      ]
     },
     "execution_count": 6,
     "metadata": {},
     "output_type": "execute_result"
    }
   ],
   "source": [
    "data[data['children'] == -1]['dob_years'].count() # получение информации о кол-ве некорректного значения в столбце \"children\" таблицы data"
   ]
  },
  {
   "cell_type": "code",
   "execution_count": 7,
   "metadata": {},
   "outputs": [
    {
     "data": {
      "text/plain": [
       "array([ 0, 19, 20, 21, 22, 23, 24, 25, 26, 27, 28, 29, 30, 31, 32, 33, 34,\n",
       "       35, 36, 37, 38, 39, 40, 41, 42, 43, 44, 45, 46, 47, 48, 49, 50, 51,\n",
       "       52, 53, 54, 55, 56, 57, 58, 59, 60, 61, 62, 63, 64, 65, 66, 67, 68,\n",
       "       69, 70, 71, 72, 73, 74, 75])"
      ]
     },
     "execution_count": 7,
     "metadata": {},
     "output_type": "execute_result"
    }
   ],
   "source": [
    "data['dob_years'].sort_values().unique() # получение уникальных значений  в столбце \"ob_years\" таблицы data"
   ]
  },
  {
   "cell_type": "code",
   "execution_count": 8,
   "metadata": {},
   "outputs": [
    {
     "data": {
      "text/plain": [
       "101"
      ]
     },
     "execution_count": 8,
     "metadata": {},
     "output_type": "execute_result"
    }
   ],
   "source": [
    "data[data['dob_years'] == 0]['dob_years'].count() # получение информации о кол-ве некорректного значения в столбце \"dob_years\" таблицы data"
   ]
  },
  {
   "cell_type": "code",
   "execution_count": 9,
   "metadata": {
    "scrolled": true
   },
   "outputs": [
    {
     "data": {
      "text/plain": [
       "array(['ВЫСШЕЕ', 'Высшее', 'НАЧАЛЬНОЕ', 'НЕОКОНЧЕННОЕ ВЫСШЕЕ',\n",
       "       'Начальное', 'Неоконченное высшее', 'СРЕДНЕЕ', 'Среднее',\n",
       "       'УЧЕНАЯ СТЕПЕНЬ', 'Ученая степень', 'высшее', 'начальное',\n",
       "       'неоконченное высшее', 'среднее', 'ученая степень'], dtype=object)"
      ]
     },
     "execution_count": 9,
     "metadata": {},
     "output_type": "execute_result"
    }
   ],
   "source": [
    "data['education'].sort_values().unique() # получение уникальных значений  в столбце \"education\" таблицы data"
   ]
  },
  {
   "cell_type": "code",
   "execution_count": 10,
   "metadata": {},
   "outputs": [
    {
     "data": {
      "text/plain": [
       "array([0, 1, 2, 3, 4])"
      ]
     },
     "execution_count": 10,
     "metadata": {},
     "output_type": "execute_result"
    }
   ],
   "source": [
    "data['education_id'].sort_values().unique() # получение уникальных значений  в столбце \"education_id\" таблицы data"
   ]
  },
  {
   "cell_type": "code",
   "execution_count": 11,
   "metadata": {},
   "outputs": [
    {
     "data": {
      "text/plain": [
       "array(['Не женат / не замужем', 'в разводе', 'вдовец / вдова',\n",
       "       'гражданский брак', 'женат / замужем'], dtype=object)"
      ]
     },
     "execution_count": 11,
     "metadata": {},
     "output_type": "execute_result"
    }
   ],
   "source": [
    "data['family_status'].sort_values().unique() # получение уникальных значений  в столбце \"family_status\" таблицы data"
   ]
  },
  {
   "cell_type": "code",
   "execution_count": 12,
   "metadata": {},
   "outputs": [
    {
     "data": {
      "text/plain": [
       "array([0, 1, 2, 3, 4])"
      ]
     },
     "execution_count": 12,
     "metadata": {},
     "output_type": "execute_result"
    }
   ],
   "source": [
    "data['family_status_id'].sort_values().unique() # получение уникальных значений  в столбце \"family_status_id\" таблицы data"
   ]
  },
  {
   "cell_type": "code",
   "execution_count": 13,
   "metadata": {},
   "outputs": [
    {
     "data": {
      "text/plain": [
       "array(['F', 'M', 'XNA'], dtype=object)"
      ]
     },
     "execution_count": 13,
     "metadata": {},
     "output_type": "execute_result"
    }
   ],
   "source": [
    "data['gender'].sort_values().unique() # получение уникальных значений  в столбце \"gender\" таблицы data"
   ]
  },
  {
   "cell_type": "code",
   "execution_count": 14,
   "metadata": {},
   "outputs": [
    {
     "data": {
      "text/plain": [
       "1"
      ]
     },
     "execution_count": 14,
     "metadata": {},
     "output_type": "execute_result"
    }
   ],
   "source": [
    "data[data['gender'] == 'XNA']['dob_years'].count() # получение информации о кол-ве некорректного значения в столбце \"gender\" таблицы data"
   ]
  },
  {
   "cell_type": "code",
   "execution_count": 15,
   "metadata": {},
   "outputs": [
    {
     "data": {
      "text/plain": [
       "array(['безработный', 'в декрете', 'госслужащий', 'компаньон',\n",
       "       'пенсионер', 'предприниматель', 'сотрудник', 'студент'],\n",
       "      dtype=object)"
      ]
     },
     "execution_count": 15,
     "metadata": {},
     "output_type": "execute_result"
    }
   ],
   "source": [
    "data['income_type'].sort_values().unique() # получение уникальных значений  в столбце \"income_type\" таблицы data"
   ]
  },
  {
   "cell_type": "code",
   "execution_count": 16,
   "metadata": {},
   "outputs": [
    {
     "data": {
      "text/plain": [
       "array([0, 1])"
      ]
     },
     "execution_count": 16,
     "metadata": {},
     "output_type": "execute_result"
    }
   ],
   "source": [
    "data['debt'].sort_values().unique() # получение уникальных значений  в столбце \"debt\" таблицы data"
   ]
  },
  {
   "cell_type": "code",
   "execution_count": 17,
   "metadata": {},
   "outputs": [
    {
     "data": {
      "text/plain": [
       "array(['автомобили', 'автомобиль', 'высшее образование',\n",
       "       'дополнительное образование', 'жилье',\n",
       "       'заняться высшим образованием', 'заняться образованием',\n",
       "       'на покупку автомобиля', 'на покупку подержанного автомобиля',\n",
       "       'на покупку своего автомобиля', 'на проведение свадьбы',\n",
       "       'недвижимость', 'образование', 'операции с жильем',\n",
       "       'операции с коммерческой недвижимостью',\n",
       "       'операции с недвижимостью', 'операции со своей недвижимостью',\n",
       "       'покупка жилой недвижимости', 'покупка жилья',\n",
       "       'покупка жилья для сдачи', 'покупка жилья для семьи',\n",
       "       'покупка коммерческой недвижимости', 'покупка недвижимости',\n",
       "       'покупка своего жилья', 'получение высшего образования',\n",
       "       'получение дополнительного образования', 'получение образования',\n",
       "       'приобретение автомобиля', 'профильное образование',\n",
       "       'ремонт жилью', 'свадьба', 'свой автомобиль',\n",
       "       'сделка с автомобилем', 'сделка с подержанным автомобилем',\n",
       "       'строительство жилой недвижимости', 'строительство недвижимости',\n",
       "       'строительство собственной недвижимости', 'сыграть свадьбу'],\n",
       "      dtype=object)"
      ]
     },
     "execution_count": 17,
     "metadata": {},
     "output_type": "execute_result"
    }
   ],
   "source": [
    "data['purpose'].sort_values().unique() # получение уникальных значений  в столбце \"purpose\" таблицы data"
   ]
  },
  {
   "cell_type": "markdown",
   "metadata": {},
   "source": [
    "**Вывод**"
   ]
  },
  {
   "cell_type": "markdown",
   "metadata": {},
   "source": [
    "\n",
    "\n",
    "Изучив таблицу, стоить отметить, что:\n",
    "1. В столбце `children`имеется случайная ошибка в данных (значение \"-1\" веротянее всего имелось в виду \"1\" и 20 - печатная ошибка \"2\");\n",
    "2. В столбце `days_employed` имеется ошибка в данных (у \"Пенсионеров\" завышены значения, вероятно проблема в формате дни/часы, остальные значения с минусом (тире) на мой взгляд ошибка выгрузки и веротяно это положительное значение );\n",
    "3. В столбце `dob_years` встречается 101 пропуск с нулевым значением, на мой взгляд ошибка неслучайная, возраст не заполнен намеренно ;\n",
    "4. В столбце `education` разное написание значений (строчным и прописными буквами, а также все значения введены по разному нет общего критерия выбора), необходимо привести всё к одному регистру и объединить в общую структкуру по критериям;\n",
    "5. Столбец `gender` имеет 1 пропуск \"XNA\";\n",
    "6. В столбце `total_income` как и `days_employed` имеются пропуски NaN в одинх и тех же местах, веротяно это случайная ошибка выгрузки, т.к. без этих данных невозможно получить кредит.\n",
    "6. Столбец `purpose` требует лемматизации (т.к.разнятся формулировки данных).\n",
    "\n",
    "\n",
    "Предварительно можно полагать, что, данных достаточно для проверки гипотез. Но встречаются пропуски в данных.\n",
    "\n",
    "Чтобы двигаться дальше, нужно устранить проблемы в данных."
   ]
  },
  {
   "cell_type": "markdown",
   "metadata": {},
   "source": [
    "## Шаг 2. Предобработка данных"
   ]
  },
  {
   "cell_type": "markdown",
   "metadata": {},
   "source": [
    "### Обработка пропусков"
   ]
  },
  {
   "cell_type": "code",
   "execution_count": 18,
   "metadata": {},
   "outputs": [],
   "source": [
    "data1 = deepcopy(data) #сохранение файла с новым именем для дальнейшней работы"
   ]
  },
  {
   "cell_type": "markdown",
   "metadata": {},
   "source": [
    "**`children`**"
   ]
  },
  {
   "cell_type": "markdown",
   "metadata": {},
   "source": [
    "В столбце `children` явно имеелось в виду, что  \"-1\" это \"1\" и  \"20\" детей тоже опечатка меняю на \"2\". "
   ]
  },
  {
   "cell_type": "code",
   "execution_count": 19,
   "metadata": {},
   "outputs": [
    {
     "data": {
      "text/plain": [
       "0"
      ]
     },
     "execution_count": 19,
     "metadata": {},
     "output_type": "execute_result"
    }
   ],
   "source": [
    "data1['children'] = data1['children'].replace(-1,1) # замена некорректного значения \"-1\" на \"1\"\n",
    "data1[data1['children'] == -1]['dob_years'].count() # проверка на наличие значений \"-1\" после замены\n",
    "data1['children'] = data1['children'].replace(20,2) # замена некорректного значения \"20\" на \"2\"\n",
    "data1[data1['children'] == 20]['dob_years'].count()# проверка на наличие значений \"20\" после замены"
   ]
  },
  {
   "cell_type": "markdown",
   "metadata": {},
   "source": [
    "**`gender`**"
   ]
  },
  {
   "cell_type": "markdown",
   "metadata": {},
   "source": [
    "Сразу же перейду к столбцу `gender`, выгрузим всю строку для изучения информации"
   ]
  },
  {
   "cell_type": "code",
   "execution_count": 20,
   "metadata": {},
   "outputs": [
    {
     "data": {
      "text/html": [
       "<div>\n",
       "<style scoped>\n",
       "    .dataframe tbody tr th:only-of-type {\n",
       "        vertical-align: middle;\n",
       "    }\n",
       "\n",
       "    .dataframe tbody tr th {\n",
       "        vertical-align: top;\n",
       "    }\n",
       "\n",
       "    .dataframe thead th {\n",
       "        text-align: right;\n",
       "    }\n",
       "</style>\n",
       "<table border=\"1\" class=\"dataframe\">\n",
       "  <thead>\n",
       "    <tr style=\"text-align: right;\">\n",
       "      <th></th>\n",
       "      <th>children</th>\n",
       "      <th>days_employed</th>\n",
       "      <th>dob_years</th>\n",
       "      <th>education</th>\n",
       "      <th>education_id</th>\n",
       "      <th>family_status</th>\n",
       "      <th>family_status_id</th>\n",
       "      <th>gender</th>\n",
       "      <th>income_type</th>\n",
       "      <th>debt</th>\n",
       "      <th>total_income</th>\n",
       "      <th>purpose</th>\n",
       "    </tr>\n",
       "  </thead>\n",
       "  <tbody>\n",
       "    <tr>\n",
       "      <td>10701</td>\n",
       "      <td>0</td>\n",
       "      <td>-2358.600502</td>\n",
       "      <td>24</td>\n",
       "      <td>неоконченное высшее</td>\n",
       "      <td>2</td>\n",
       "      <td>гражданский брак</td>\n",
       "      <td>1</td>\n",
       "      <td>XNA</td>\n",
       "      <td>компаньон</td>\n",
       "      <td>0</td>\n",
       "      <td>203905.157261</td>\n",
       "      <td>покупка недвижимости</td>\n",
       "    </tr>\n",
       "  </tbody>\n",
       "</table>\n",
       "</div>"
      ],
      "text/plain": [
       "       children  days_employed  dob_years            education  education_id  \\\n",
       "10701         0   -2358.600502         24  неоконченное высшее             2   \n",
       "\n",
       "          family_status  family_status_id gender income_type  debt  \\\n",
       "10701  гражданский брак                 1    XNA   компаньон     0   \n",
       "\n",
       "        total_income               purpose  \n",
       "10701  203905.157261  покупка недвижимости  "
      ]
     },
     "execution_count": 20,
     "metadata": {},
     "output_type": "execute_result"
    }
   ],
   "source": [
    "data1[data1['gender'] == 'XNA'].head(10) # выгрузка строки со значением 'XNA'"
   ]
  },
  {
   "cell_type": "markdown",
   "metadata": {},
   "source": [
    "Возраст, образование, стаж работы, наличие гражданского брака и цель кредита скорее всего говорит о том, что это мужской пол.\n"
   ]
  },
  {
   "cell_type": "code",
   "execution_count": 21,
   "metadata": {},
   "outputs": [
    {
     "data": {
      "text/plain": [
       "'M'"
      ]
     },
     "execution_count": 21,
     "metadata": {},
     "output_type": "execute_result"
    }
   ],
   "source": [
    "data1.loc[10701, 'gender'] = 'M' # обращение к элемнту по номеру строки и замена на мужской пол\n",
    "\n",
    "data1.loc[10701, 'gender'] # проверка значения после замены"
   ]
  },
  {
   "cell_type": "markdown",
   "metadata": {},
   "source": [
    "**`days_employed`**"
   ]
  },
  {
   "cell_type": "markdown",
   "metadata": {},
   "source": [
    "Приведем значения к корректным.\n",
    "Минусовые значения преобразовываем в положительные, \n",
    "завышенные значения \"пенсионеров\" переведем в дни \n",
    "делением на 24 ч. Т.к. вероятнее всего данные предоставлены в часах."
   ]
  },
  {
   "cell_type": "code",
   "execution_count": 22,
   "metadata": {
    "scrolled": true
   },
   "outputs": [
    {
     "data": {
      "text/html": [
       "<div>\n",
       "<style scoped>\n",
       "    .dataframe tbody tr th:only-of-type {\n",
       "        vertical-align: middle;\n",
       "    }\n",
       "\n",
       "    .dataframe tbody tr th {\n",
       "        vertical-align: top;\n",
       "    }\n",
       "\n",
       "    .dataframe thead th {\n",
       "        text-align: right;\n",
       "    }\n",
       "</style>\n",
       "<table border=\"1\" class=\"dataframe\">\n",
       "  <thead>\n",
       "    <tr style=\"text-align: right;\">\n",
       "      <th></th>\n",
       "      <th>children</th>\n",
       "      <th>days_employed</th>\n",
       "      <th>dob_years</th>\n",
       "      <th>education</th>\n",
       "      <th>education_id</th>\n",
       "      <th>family_status</th>\n",
       "      <th>family_status_id</th>\n",
       "      <th>gender</th>\n",
       "      <th>income_type</th>\n",
       "      <th>debt</th>\n",
       "      <th>total_income</th>\n",
       "      <th>purpose</th>\n",
       "    </tr>\n",
       "  </thead>\n",
       "  <tbody>\n",
       "    <tr>\n",
       "      <td>0</td>\n",
       "      <td>1</td>\n",
       "      <td>8437.673028</td>\n",
       "      <td>42</td>\n",
       "      <td>высшее</td>\n",
       "      <td>0</td>\n",
       "      <td>женат / замужем</td>\n",
       "      <td>0</td>\n",
       "      <td>F</td>\n",
       "      <td>сотрудник</td>\n",
       "      <td>0</td>\n",
       "      <td>253875.639453</td>\n",
       "      <td>покупка жилья</td>\n",
       "    </tr>\n",
       "    <tr>\n",
       "      <td>1</td>\n",
       "      <td>1</td>\n",
       "      <td>4024.803754</td>\n",
       "      <td>36</td>\n",
       "      <td>среднее</td>\n",
       "      <td>1</td>\n",
       "      <td>женат / замужем</td>\n",
       "      <td>0</td>\n",
       "      <td>F</td>\n",
       "      <td>сотрудник</td>\n",
       "      <td>0</td>\n",
       "      <td>112080.014102</td>\n",
       "      <td>приобретение автомобиля</td>\n",
       "    </tr>\n",
       "    <tr>\n",
       "      <td>2</td>\n",
       "      <td>0</td>\n",
       "      <td>5623.422610</td>\n",
       "      <td>33</td>\n",
       "      <td>Среднее</td>\n",
       "      <td>1</td>\n",
       "      <td>женат / замужем</td>\n",
       "      <td>0</td>\n",
       "      <td>M</td>\n",
       "      <td>сотрудник</td>\n",
       "      <td>0</td>\n",
       "      <td>145885.952297</td>\n",
       "      <td>покупка жилья</td>\n",
       "    </tr>\n",
       "    <tr>\n",
       "      <td>3</td>\n",
       "      <td>3</td>\n",
       "      <td>4124.747207</td>\n",
       "      <td>32</td>\n",
       "      <td>среднее</td>\n",
       "      <td>1</td>\n",
       "      <td>женат / замужем</td>\n",
       "      <td>0</td>\n",
       "      <td>M</td>\n",
       "      <td>сотрудник</td>\n",
       "      <td>0</td>\n",
       "      <td>267628.550329</td>\n",
       "      <td>дополнительное образование</td>\n",
       "    </tr>\n",
       "    <tr>\n",
       "      <td>4</td>\n",
       "      <td>0</td>\n",
       "      <td>14177.753002</td>\n",
       "      <td>53</td>\n",
       "      <td>среднее</td>\n",
       "      <td>1</td>\n",
       "      <td>гражданский брак</td>\n",
       "      <td>1</td>\n",
       "      <td>F</td>\n",
       "      <td>пенсионер</td>\n",
       "      <td>0</td>\n",
       "      <td>158616.077870</td>\n",
       "      <td>сыграть свадьбу</td>\n",
       "    </tr>\n",
       "    <tr>\n",
       "      <td>5</td>\n",
       "      <td>0</td>\n",
       "      <td>926.185831</td>\n",
       "      <td>27</td>\n",
       "      <td>высшее</td>\n",
       "      <td>0</td>\n",
       "      <td>гражданский брак</td>\n",
       "      <td>1</td>\n",
       "      <td>M</td>\n",
       "      <td>компаньон</td>\n",
       "      <td>0</td>\n",
       "      <td>255763.565419</td>\n",
       "      <td>покупка жилья</td>\n",
       "    </tr>\n",
       "    <tr>\n",
       "      <td>6</td>\n",
       "      <td>0</td>\n",
       "      <td>2879.202052</td>\n",
       "      <td>43</td>\n",
       "      <td>высшее</td>\n",
       "      <td>0</td>\n",
       "      <td>женат / замужем</td>\n",
       "      <td>0</td>\n",
       "      <td>F</td>\n",
       "      <td>компаньон</td>\n",
       "      <td>0</td>\n",
       "      <td>240525.971920</td>\n",
       "      <td>операции с жильем</td>\n",
       "    </tr>\n",
       "    <tr>\n",
       "      <td>7</td>\n",
       "      <td>0</td>\n",
       "      <td>152.779569</td>\n",
       "      <td>50</td>\n",
       "      <td>СРЕДНЕЕ</td>\n",
       "      <td>1</td>\n",
       "      <td>женат / замужем</td>\n",
       "      <td>0</td>\n",
       "      <td>M</td>\n",
       "      <td>сотрудник</td>\n",
       "      <td>0</td>\n",
       "      <td>135823.934197</td>\n",
       "      <td>образование</td>\n",
       "    </tr>\n",
       "    <tr>\n",
       "      <td>8</td>\n",
       "      <td>2</td>\n",
       "      <td>6929.865299</td>\n",
       "      <td>35</td>\n",
       "      <td>ВЫСШЕЕ</td>\n",
       "      <td>0</td>\n",
       "      <td>гражданский брак</td>\n",
       "      <td>1</td>\n",
       "      <td>F</td>\n",
       "      <td>сотрудник</td>\n",
       "      <td>0</td>\n",
       "      <td>95856.832424</td>\n",
       "      <td>на проведение свадьбы</td>\n",
       "    </tr>\n",
       "    <tr>\n",
       "      <td>9</td>\n",
       "      <td>0</td>\n",
       "      <td>2188.756445</td>\n",
       "      <td>41</td>\n",
       "      <td>среднее</td>\n",
       "      <td>1</td>\n",
       "      <td>женат / замужем</td>\n",
       "      <td>0</td>\n",
       "      <td>M</td>\n",
       "      <td>сотрудник</td>\n",
       "      <td>0</td>\n",
       "      <td>144425.938277</td>\n",
       "      <td>покупка жилья для семьи</td>\n",
       "    </tr>\n",
       "  </tbody>\n",
       "</table>\n",
       "</div>"
      ],
      "text/plain": [
       "   children  days_employed  dob_years education  education_id  \\\n",
       "0         1    8437.673028         42    высшее             0   \n",
       "1         1    4024.803754         36   среднее             1   \n",
       "2         0    5623.422610         33   Среднее             1   \n",
       "3         3    4124.747207         32   среднее             1   \n",
       "4         0   14177.753002         53   среднее             1   \n",
       "5         0     926.185831         27    высшее             0   \n",
       "6         0    2879.202052         43    высшее             0   \n",
       "7         0     152.779569         50   СРЕДНЕЕ             1   \n",
       "8         2    6929.865299         35    ВЫСШЕЕ             0   \n",
       "9         0    2188.756445         41   среднее             1   \n",
       "\n",
       "      family_status  family_status_id gender income_type  debt   total_income  \\\n",
       "0   женат / замужем                 0      F   сотрудник     0  253875.639453   \n",
       "1   женат / замужем                 0      F   сотрудник     0  112080.014102   \n",
       "2   женат / замужем                 0      M   сотрудник     0  145885.952297   \n",
       "3   женат / замужем                 0      M   сотрудник     0  267628.550329   \n",
       "4  гражданский брак                 1      F   пенсионер     0  158616.077870   \n",
       "5  гражданский брак                 1      M   компаньон     0  255763.565419   \n",
       "6   женат / замужем                 0      F   компаньон     0  240525.971920   \n",
       "7   женат / замужем                 0      M   сотрудник     0  135823.934197   \n",
       "8  гражданский брак                 1      F   сотрудник     0   95856.832424   \n",
       "9   женат / замужем                 0      M   сотрудник     0  144425.938277   \n",
       "\n",
       "                      purpose  \n",
       "0               покупка жилья  \n",
       "1     приобретение автомобиля  \n",
       "2               покупка жилья  \n",
       "3  дополнительное образование  \n",
       "4             сыграть свадьбу  \n",
       "5               покупка жилья  \n",
       "6           операции с жильем  \n",
       "7                 образование  \n",
       "8       на проведение свадьбы  \n",
       "9     покупка жилья для семьи  "
      ]
     },
     "execution_count": 22,
     "metadata": {},
     "output_type": "execute_result"
    }
   ],
   "source": [
    "def item_days_employed(row): # создадние функции \n",
    "    if row > 0:\n",
    "        row = row / 24\n",
    "        return row\n",
    "    elif row < 0:\n",
    "        row = row * -1\n",
    "        return row\n",
    "    else:\n",
    "        return row\n",
    "    \n",
    "data1['days_employed'] = data1['days_employed'].apply(item_days_employed) # замена значений на корректные \n",
    "data1.head(10) # вывод первых 10 строк после замены  таблицы data1\n",
    "\n"
   ]
  },
  {
   "cell_type": "markdown",
   "metadata": {},
   "source": [
    "**`days_employed` и `total_income`**"
   ]
  },
  {
   "cell_type": "markdown",
   "metadata": {},
   "source": [
    "Пропущенных значений в этих столбцах около 20 % их необходимо заменить. На основе предоставленных данных считаю, что заполнить их более корректно можно опираясь на данные столбца income_type. \n",
    "Выгрузим уникальные значения столбца `income_type`\n"
   ]
  },
  {
   "cell_type": "code",
   "execution_count": 23,
   "metadata": {},
   "outputs": [
    {
     "data": {
      "text/plain": [
       "array(['пенсионер', 'госслужащий', 'компаньон', 'сотрудник',\n",
       "       'предприниматель'], dtype=object)"
      ]
     },
     "execution_count": 23,
     "metadata": {},
     "output_type": "execute_result"
    }
   ],
   "source": [
    "data1[data1['days_employed'].isna()]['income_type'].unique() # выгрузка уникальных значений столбца ncome_type"
   ]
  },
  {
   "cell_type": "markdown",
   "metadata": {},
   "source": [
    "Проверим максимальное и минимальное значения столбца `days_employed`"
   ]
  },
  {
   "cell_type": "code",
   "execution_count": 24,
   "metadata": {},
   "outputs": [
    {
     "data": {
      "text/plain": [
       "24.14163324048118"
      ]
     },
     "execution_count": 24,
     "metadata": {},
     "output_type": "execute_result"
    }
   ],
   "source": [
    "data1['days_employed'].min()"
   ]
  },
  {
   "cell_type": "code",
   "execution_count": 25,
   "metadata": {},
   "outputs": [
    {
     "data": {
      "text/plain": [
       "18388.949900568383"
      ]
     },
     "execution_count": 25,
     "metadata": {},
     "output_type": "execute_result"
    }
   ],
   "source": [
    "data1['days_employed'].max()"
   ]
  },
  {
   "cell_type": "markdown",
   "metadata": {},
   "source": [
    "Т.к. Минимальное и Максимальное значений столбца `days_employed` сильно различаются, считаю некорретным использование среднего значения для заполнения пропусков. Поэтому воспользуюсь медианой."
   ]
  },
  {
   "cell_type": "markdown",
   "metadata": {},
   "source": [
    "Рассчитаем медиану для столбца `days_employed` по каждому типу занятости для этого создадим функцию"
   ]
  },
  {
   "cell_type": "code",
   "execution_count": 26,
   "metadata": {},
   "outputs": [
    {
     "name": "stdout",
     "output_type": "stream",
     "text": [
      "сотрудник 1574.2028211070851\n",
      "пенсионер 15217.221094405466\n",
      "госслужащий 2689.3683533043886\n",
      "компаньон 1547.3822226779334\n",
      "предприниматель 520.8480834953765\n"
     ]
    }
   ],
   "source": [
    "def mean_and_median(row): \n",
    "    data_median = row.median()\n",
    "    return data_median\n",
    "   \n",
    "# employee - сотрудник\n",
    "# pensioner - пенсионер\n",
    "# state_employee - госслужащий\n",
    "# companion - компаньон\n",
    "# businessman - предприниматель\n",
    "    \n",
    "employee_days = data1['days_employed'][data1['income_type'] == 'сотрудник']    \n",
    "pensioner_days = data1['days_employed'][data1['income_type'] == 'пенсионер']\n",
    "state_employee_days = data1['days_employed'][data1['income_type'] == 'госслужащий']\n",
    "companion_days = data1['days_employed'][data1['income_type'] == 'компаньон']\n",
    "businessman_days = data1['days_employed'][data1['income_type'] == 'предприниматель']\n",
    "print('сотрудник', mean_and_median(employee_days)) # выведем полученные значения по каждому типу\n",
    "print('пенсионер', mean_and_median(pensioner_days))\n",
    "print('госслужащий', mean_and_median(state_employee_days))\n",
    "print('компаньон', mean_and_median(companion_days))\n",
    "print('предприниматель', mean_and_median(businessman_days)) "
   ]
  },
  {
   "cell_type": "markdown",
   "metadata": {},
   "source": [
    "Рассчитаем медиану для столбца `total_income` по каждому типу занятости для этого создадим функцию"
   ]
  },
  {
   "cell_type": "code",
   "execution_count": 27,
   "metadata": {
    "scrolled": true
   },
   "outputs": [
    {
     "name": "stdout",
     "output_type": "stream",
     "text": [
      "сотрудник 142594.39684740017\n",
      "пенсионер 118514.48641164352\n",
      "госслужащий 150447.9352830068\n",
      "компаньон 172357.95096577113\n",
      "предприниматель 499163.1449470857\n"
     ]
    }
   ],
   "source": [
    "def mean_and_median(row):\n",
    "    data_median = row.median()\n",
    "    return data_median\n",
    "   \n",
    "\n",
    "# employee - сотрудник\n",
    "# pensioner - пенсионер\n",
    "# state_employee - госслужащий \n",
    "# companion - компаньон\n",
    "# businessman - предприниматель\n",
    "    \n",
    "employee_income = data1['total_income'][data1['income_type'] == 'сотрудник']    \n",
    "pensioner_income = data1['total_income'][data1['income_type'] == 'пенсионер']\n",
    "state_employee_income = data1['total_income'][data1['income_type'] == 'госслужащий']\n",
    "companion_income = data1['total_income'][data1['income_type'] == 'компаньон']\n",
    "businessman_income = data1['total_income'][data1['income_type'] == 'предприниматель']\n",
    "print('сотрудник', mean_and_median(employee_income))  # выведем полученные значения по каждому типу\n",
    "print('пенсионер', mean_and_median(pensioner_income))\n",
    "print('госслужащий', mean_and_median(state_employee_income))\n",
    "print('компаньон', mean_and_median(companion_income))\n",
    "print('предприниматель', mean_and_median(businessman_income))\n"
   ]
  },
  {
   "cell_type": "markdown",
   "metadata": {},
   "source": [
    "Соберем данные в словарь для упрощения дальнейшего заполнения пропусков в столбцах `days_employed` и `total_income`"
   ]
  },
  {
   "cell_type": "code",
   "execution_count": 28,
   "metadata": {},
   "outputs": [
    {
     "name": "stdout",
     "output_type": "stream",
     "text": [
      "{'сотрудник': [1574.2028211070851, 142594.39684740017], 'пенсионер': [15217.221094405466, 118514.48641164352], 'госслужащий': [2689.3683533043886, 150447.9352830068], 'компаньон': [1547.3822226779334, 172357.95096577113], 'предприниматель': [520.8480834953765, 499163.1449470857]}\n"
     ]
    }
   ],
   "source": [
    "dictionary = {'сотрудник': [mean_and_median(employee_days), mean_and_median(employee_income)],\n",
    "            'пенсионер': [mean_and_median(pensioner_days), mean_and_median(pensioner_income)],\n",
    "             'госслужащий': [mean_and_median(state_employee_days), mean_and_median(state_employee_income)],\n",
    "             'компаньон': [mean_and_median(companion_days), mean_and_median(companion_income)],\n",
    "             'предприниматель': [mean_and_median(businessman_days), mean_and_median(businessman_income)]}\n",
    "                                 \n",
    "                                 \n",
    "print(dictionary)"
   ]
  },
  {
   "cell_type": "markdown",
   "metadata": {},
   "source": [
    "Заменяем пропуски на 0 , а заатем на полученные значения из словаря"
   ]
  },
  {
   "cell_type": "code",
   "execution_count": 29,
   "metadata": {},
   "outputs": [
    {
     "name": "stdout",
     "output_type": "stream",
     "text": [
      "<class 'pandas.core.frame.DataFrame'>\n",
      "RangeIndex: 21525 entries, 0 to 21524\n",
      "Data columns (total 12 columns):\n",
      "children            21525 non-null int64\n",
      "days_employed       21525 non-null float64\n",
      "dob_years           21525 non-null int64\n",
      "education           21525 non-null object\n",
      "education_id        21525 non-null int64\n",
      "family_status       21525 non-null object\n",
      "family_status_id    21525 non-null int64\n",
      "gender              21525 non-null object\n",
      "income_type         21525 non-null object\n",
      "debt                21525 non-null int64\n",
      "total_income        21525 non-null float64\n",
      "purpose             21525 non-null object\n",
      "dtypes: float64(2), int64(5), object(5)\n",
      "memory usage: 2.0+ MB\n",
      "None\n"
     ]
    }
   ],
   "source": [
    "data1['days_employed'] = data1['days_employed'].fillna(0) # замена пропусков на 0\n",
    "data1['total_income'] = data1['total_income'].fillna(0)\n",
    "\n",
    "def days_and_income(row, dictionary): # создание функции для замены 0 на медианы значений по типу\n",
    "    if row[1] == 0:\n",
    "        row[1] = dictionary[row[8]][0]\n",
    "        row[10] = dictionary[row[8]][1]\n",
    "    return row\n",
    "\n",
    "data1 = data1.apply(days_and_income, axis=1, args=[dictionary]) \n",
    "print(data1.info()) # Вывод на экран общей информации по таблице data1 "
   ]
  },
  {
   "cell_type": "markdown",
   "metadata": {},
   "source": [
    "Как видно от пропущенных значений избавились"
   ]
  },
  {
   "cell_type": "markdown",
   "metadata": {},
   "source": [
    "**`dob_years`**"
   ]
  },
  {
   "cell_type": "markdown",
   "metadata": {},
   "source": [
    "Можно было бы заполнить возраст по стажу работу, но они сильно разняться по цифрам, плюс не всегда стаж работы начинается в 18 лет. Т.к. столбец с возрастом имеет нормальное распределение - заменю 0 в `dob_years` на средние значения, к тому же это не важно для нашего исследования и проверки гипотез."
   ]
  },
  {
   "cell_type": "code",
   "execution_count": 30,
   "metadata": {},
   "outputs": [
    {
     "data": {
      "text/plain": [
       "0"
      ]
     },
     "execution_count": 30,
     "metadata": {},
     "output_type": "execute_result"
    }
   ],
   "source": [
    "data1['dob_years'] = data1['dob_years'].replace(0, int(data1['dob_years'][data1['dob_years'] != 0].mean())) \n",
    "data1['dob_years'][data1['dob_years'] == 0].count() # замена 0 на ср.значения и проверка после замены"
   ]
  },
  {
   "cell_type": "markdown",
   "metadata": {},
   "source": [
    "**Вывод**"
   ]
  },
  {
   "cell_type": "markdown",
   "metadata": {},
   "source": [
    "После предобработки данных было исправлено:\n",
    "* `children` — заменены некорректные значения;\n",
    "* `gender` — устранен недочёт\n",
    "* `dob_years` — нулевые значения устранены\n",
    "* `total_income` как и `days_employed` —  замнены NaN на медианные значения.\n",
    "\n",
    "Теперь данные готовы для дальнейшней обработки и исследования. "
   ]
  },
  {
   "cell_type": "markdown",
   "metadata": {},
   "source": [
    "### Замена типа данных"
   ]
  },
  {
   "cell_type": "markdown",
   "metadata": {},
   "source": [
    "Необходимо заменить типа данных в столбцах float на Int в столбцах `total_income` как и `days_employed`.\n",
    "На итоговый результат дробная часть не повлияет."
   ]
  },
  {
   "cell_type": "code",
   "execution_count": 31,
   "metadata": {},
   "outputs": [
    {
     "name": "stdout",
     "output_type": "stream",
     "text": [
      "<class 'pandas.core.frame.DataFrame'>\n",
      "RangeIndex: 21525 entries, 0 to 21524\n",
      "Data columns (total 12 columns):\n",
      "children            21525 non-null int64\n",
      "days_employed       21525 non-null int64\n",
      "dob_years           21525 non-null int64\n",
      "education           21525 non-null object\n",
      "education_id        21525 non-null int64\n",
      "family_status       21525 non-null object\n",
      "family_status_id    21525 non-null int64\n",
      "gender              21525 non-null object\n",
      "income_type         21525 non-null object\n",
      "debt                21525 non-null int64\n",
      "total_income        21525 non-null int64\n",
      "purpose             21525 non-null object\n",
      "dtypes: int64(7), object(5)\n",
      "memory usage: 2.0+ MB\n"
     ]
    }
   ],
   "source": [
    "data1['days_employed'] = data1['days_employed'].astype('int') # замена типа данных int\n",
    "data1['total_income'] = data1['total_income'].astype('int')\n",
    "data1.info() # вывод общей информации для проверки после замены типа данных"
   ]
  },
  {
   "cell_type": "markdown",
   "metadata": {},
   "source": [
    "**Вывод**"
   ]
  },
  {
   "cell_type": "markdown",
   "metadata": {},
   "source": [
    "Тип данных изменен на целые числа int это поможет упростить дальнейшее исследование и избежать ошибок в расчетах."
   ]
  },
  {
   "cell_type": "markdown",
   "metadata": {},
   "source": [
    "### Обработка дубликатов"
   ]
  },
  {
   "cell_type": "markdown",
   "metadata": {},
   "source": [
    "После проверки данных мы выяснили, что у нас имеются как категориальные  так и количественные данные.\n",
    "Начнем с поиска дубликатов в категориальных данных.\n",
    "Из подгурженной выше информации видно, что столбец 'education' нуждается в переводе значений к нижнему регистру."
   ]
  },
  {
   "cell_type": "code",
   "execution_count": 32,
   "metadata": {},
   "outputs": [
    {
     "data": {
      "text/plain": [
       "education\n",
       "высшее                  5260\n",
       "начальное                282\n",
       "неоконченное высшее      744\n",
       "среднее                15233\n",
       "ученая степень             6\n",
       "Name: education, dtype: int64"
      ]
     },
     "execution_count": 32,
     "metadata": {},
     "output_type": "execute_result"
    }
   ],
   "source": [
    "data1['education'] = data1['education'].str.lower() # перевод значений к нижнему регистру\n",
    "data1['education'].unique() # поиск уникальных значений после замены\n",
    "data1.groupby('education')['education'].count() # вывод на экран "
   ]
  },
  {
   "cell_type": "markdown",
   "metadata": {},
   "source": [
    "Далее произведем поиск дубликатов."
   ]
  },
  {
   "cell_type": "code",
   "execution_count": 33,
   "metadata": {},
   "outputs": [
    {
     "data": {
      "text/plain": [
       "71"
      ]
     },
     "execution_count": 33,
     "metadata": {},
     "output_type": "execute_result"
    }
   ],
   "source": [
    "data1.duplicated().sum()"
   ]
  },
  {
   "cell_type": "code",
   "execution_count": 34,
   "metadata": {},
   "outputs": [
    {
     "data": {
      "text/plain": [
       "0"
      ]
     },
     "execution_count": 34,
     "metadata": {},
     "output_type": "execute_result"
    }
   ],
   "source": [
    "data1 = data1.drop_duplicates() # удаление дубликатов\n",
    "data1.duplicated().sum() # проверка на наличие дубликатов после удаления"
   ]
  },
  {
   "cell_type": "markdown",
   "metadata": {},
   "source": [
    "**Вывод**"
   ]
  },
  {
   "cell_type": "markdown",
   "metadata": {},
   "source": [
    "Выявленные дубликаты удалены и не помешают дальнейшему исследованию."
   ]
  },
  {
   "cell_type": "markdown",
   "metadata": {},
   "source": [
    "### Лемматизация"
   ]
  },
  {
   "cell_type": "markdown",
   "metadata": {},
   "source": [
    "Для ответа на один из вопросов нам понадобится выявить основные цели взятия кредита. Используем лемматизацию столбца `purpose`."
   ]
  },
  {
   "cell_type": "code",
   "execution_count": 35,
   "metadata": {},
   "outputs": [
    {
     "data": {
      "text/plain": [
       "свадьба                                   791\n",
       "на проведение свадьбы                     768\n",
       "сыграть свадьбу                           765\n",
       "операции с недвижимостью                  675\n",
       "покупка коммерческой недвижимости         661\n",
       "операции с жильем                         652\n",
       "покупка жилья для сдачи                   651\n",
       "операции с коммерческой недвижимостью     650\n",
       "жилье                                     646\n",
       "покупка жилья                             646\n",
       "покупка жилья для семьи                   638\n",
       "строительство собственной недвижимости    635\n",
       "недвижимость                              633\n",
       "операции со своей недвижимостью           627\n",
       "строительство жилой недвижимости          624\n",
       "покупка недвижимости                      621\n",
       "покупка своего жилья                      620\n",
       "строительство недвижимости                619\n",
       "ремонт жилью                              607\n",
       "покупка жилой недвижимости                606\n",
       "на покупку своего автомобиля              505\n",
       "заняться высшим образованием              496\n",
       "автомобиль                                494\n",
       "сделка с подержанным автомобилем          486\n",
       "на покупку подержанного автомобиля        478\n",
       "автомобили                                478\n",
       "свой автомобиль                           478\n",
       "на покупку автомобиля                     471\n",
       "приобретение автомобиля                   461\n",
       "дополнительное образование                460\n",
       "сделка с автомобилем                      455\n",
       "высшее образование                        452\n",
       "образование                               447\n",
       "получение дополнительного образования     446\n",
       "получение образования                     442\n",
       "профильное образование                    436\n",
       "получение высшего образования             426\n",
       "заняться образованием                     408\n",
       "Name: purpose, dtype: int64"
      ]
     },
     "execution_count": 35,
     "metadata": {},
     "output_type": "execute_result"
    }
   ],
   "source": [
    "data1['purpose'].value_counts() # проверка кол-ва всех значений в данном столбце 'purpose'"
   ]
  },
  {
   "cell_type": "code",
   "execution_count": 36,
   "metadata": {},
   "outputs": [
    {
     "data": {
      "text/plain": [
       "['автомобиль',\n",
       " 'высокий',\n",
       " 'для',\n",
       " 'дополнительный',\n",
       " 'жилой',\n",
       " 'жилье',\n",
       " 'заниматься',\n",
       " 'коммерческий',\n",
       " 'на',\n",
       " 'недвижимость',\n",
       " 'образование',\n",
       " 'операция',\n",
       " 'подержать',\n",
       " 'покупка',\n",
       " 'получение',\n",
       " 'приобретение',\n",
       " 'проведение',\n",
       " 'профильный',\n",
       " 'ремонт',\n",
       " 'с',\n",
       " 'свадьба',\n",
       " 'свой',\n",
       " 'сдача',\n",
       " 'сделка',\n",
       " 'семья',\n",
       " 'со',\n",
       " 'собственный',\n",
       " 'строительство',\n",
       " 'сыграть']"
      ]
     },
     "execution_count": 36,
     "metadata": {},
     "output_type": "execute_result"
    }
   ],
   "source": [
    "purpose_unique = data1['purpose'].unique() # определение уникальных значений в столбце 'purpose'\n",
    "purpose_unique = (\" \".join(purpose_unique)) # объединение значений в список\n",
    "lemmas = m.lemmatize(purpose_unique) # применение метода lemmatize к списку\n",
    "lemmas = \" \".join(set(lemmas)) # объединим леммы в список\n",
    "lemmas = sorted(list(lemmas.split())) # сортировка списка в алфавитном порядке\n",
    "lemmas # вывод на экран "
   ]
  },
  {
   "cell_type": "markdown",
   "metadata": {},
   "source": [
    "**Вывод**"
   ]
  },
  {
   "cell_type": "markdown",
   "metadata": {},
   "source": [
    "Из полученных данных можно определить несколько основных позиций :\n",
    "\n",
    "* `образование` — расходы на получение образования;\n",
    "* `свадьба` — расходы связанные с проведением и организацией свадьбы;\n",
    "* `автомобиль` — расходы на авто, приобретение;\n",
    "* `жилая недвижимость` —  жилая недвижимость, ремонт также можно отнести к жилью.\n",
    "* `коммерческая недвижимость ` -  строительство и сдача недвижимости.\n",
    "\n",
    "Лемматизация поможет категоризовать цель кредита. \n"
   ]
  },
  {
   "cell_type": "markdown",
   "metadata": {},
   "source": [
    "### Категоризация данных"
   ]
  },
  {
   "cell_type": "markdown",
   "metadata": {},
   "source": [
    "Для ответа на вопрос \"Есть ли зависимость между наличием детей и возвратом кредита в срок?\" необходимо категоризовать данные по столбцу `children`. \n",
    "* Разделим на категории по кол-ву детей :\n",
    "* `бездетная семья`- категория лиц не имеющих детей;\n",
    "* `малая семья` - семья с двумя и менее детьми;\n",
    "* `многодетная семья` - семья с тремя и более детьми.\n"
   ]
  },
  {
   "cell_type": "code",
   "execution_count": 37,
   "metadata": {
    "scrolled": true
   },
   "outputs": [
    {
     "data": {
      "text/html": [
       "<div>\n",
       "<style scoped>\n",
       "    .dataframe tbody tr th:only-of-type {\n",
       "        vertical-align: middle;\n",
       "    }\n",
       "\n",
       "    .dataframe tbody tr th {\n",
       "        vertical-align: top;\n",
       "    }\n",
       "\n",
       "    .dataframe thead th {\n",
       "        text-align: right;\n",
       "    }\n",
       "</style>\n",
       "<table border=\"1\" class=\"dataframe\">\n",
       "  <thead>\n",
       "    <tr style=\"text-align: right;\">\n",
       "      <th></th>\n",
       "      <th>children</th>\n",
       "      <th>days_employed</th>\n",
       "      <th>dob_years</th>\n",
       "      <th>education</th>\n",
       "      <th>education_id</th>\n",
       "      <th>family_status</th>\n",
       "      <th>family_status_id</th>\n",
       "      <th>gender</th>\n",
       "      <th>income_type</th>\n",
       "      <th>debt</th>\n",
       "      <th>total_income</th>\n",
       "      <th>purpose</th>\n",
       "      <th>categorise_children</th>\n",
       "    </tr>\n",
       "  </thead>\n",
       "  <tbody>\n",
       "    <tr>\n",
       "      <td>0</td>\n",
       "      <td>1</td>\n",
       "      <td>8437</td>\n",
       "      <td>42</td>\n",
       "      <td>высшее</td>\n",
       "      <td>0</td>\n",
       "      <td>женат / замужем</td>\n",
       "      <td>0</td>\n",
       "      <td>F</td>\n",
       "      <td>сотрудник</td>\n",
       "      <td>0</td>\n",
       "      <td>253875</td>\n",
       "      <td>покупка жилья</td>\n",
       "      <td>малая семья</td>\n",
       "    </tr>\n",
       "    <tr>\n",
       "      <td>1</td>\n",
       "      <td>1</td>\n",
       "      <td>4024</td>\n",
       "      <td>36</td>\n",
       "      <td>среднее</td>\n",
       "      <td>1</td>\n",
       "      <td>женат / замужем</td>\n",
       "      <td>0</td>\n",
       "      <td>F</td>\n",
       "      <td>сотрудник</td>\n",
       "      <td>0</td>\n",
       "      <td>112080</td>\n",
       "      <td>приобретение автомобиля</td>\n",
       "      <td>малая семья</td>\n",
       "    </tr>\n",
       "    <tr>\n",
       "      <td>2</td>\n",
       "      <td>0</td>\n",
       "      <td>5623</td>\n",
       "      <td>33</td>\n",
       "      <td>среднее</td>\n",
       "      <td>1</td>\n",
       "      <td>женат / замужем</td>\n",
       "      <td>0</td>\n",
       "      <td>M</td>\n",
       "      <td>сотрудник</td>\n",
       "      <td>0</td>\n",
       "      <td>145885</td>\n",
       "      <td>покупка жилья</td>\n",
       "      <td>бездетная семья</td>\n",
       "    </tr>\n",
       "    <tr>\n",
       "      <td>3</td>\n",
       "      <td>3</td>\n",
       "      <td>4124</td>\n",
       "      <td>32</td>\n",
       "      <td>среднее</td>\n",
       "      <td>1</td>\n",
       "      <td>женат / замужем</td>\n",
       "      <td>0</td>\n",
       "      <td>M</td>\n",
       "      <td>сотрудник</td>\n",
       "      <td>0</td>\n",
       "      <td>267628</td>\n",
       "      <td>дополнительное образование</td>\n",
       "      <td>многодетная семья</td>\n",
       "    </tr>\n",
       "    <tr>\n",
       "      <td>4</td>\n",
       "      <td>0</td>\n",
       "      <td>14177</td>\n",
       "      <td>53</td>\n",
       "      <td>среднее</td>\n",
       "      <td>1</td>\n",
       "      <td>гражданский брак</td>\n",
       "      <td>1</td>\n",
       "      <td>F</td>\n",
       "      <td>пенсионер</td>\n",
       "      <td>0</td>\n",
       "      <td>158616</td>\n",
       "      <td>сыграть свадьбу</td>\n",
       "      <td>бездетная семья</td>\n",
       "    </tr>\n",
       "    <tr>\n",
       "      <td>5</td>\n",
       "      <td>0</td>\n",
       "      <td>926</td>\n",
       "      <td>27</td>\n",
       "      <td>высшее</td>\n",
       "      <td>0</td>\n",
       "      <td>гражданский брак</td>\n",
       "      <td>1</td>\n",
       "      <td>M</td>\n",
       "      <td>компаньон</td>\n",
       "      <td>0</td>\n",
       "      <td>255763</td>\n",
       "      <td>покупка жилья</td>\n",
       "      <td>бездетная семья</td>\n",
       "    </tr>\n",
       "    <tr>\n",
       "      <td>6</td>\n",
       "      <td>0</td>\n",
       "      <td>2879</td>\n",
       "      <td>43</td>\n",
       "      <td>высшее</td>\n",
       "      <td>0</td>\n",
       "      <td>женат / замужем</td>\n",
       "      <td>0</td>\n",
       "      <td>F</td>\n",
       "      <td>компаньон</td>\n",
       "      <td>0</td>\n",
       "      <td>240525</td>\n",
       "      <td>операции с жильем</td>\n",
       "      <td>бездетная семья</td>\n",
       "    </tr>\n",
       "    <tr>\n",
       "      <td>7</td>\n",
       "      <td>0</td>\n",
       "      <td>152</td>\n",
       "      <td>50</td>\n",
       "      <td>среднее</td>\n",
       "      <td>1</td>\n",
       "      <td>женат / замужем</td>\n",
       "      <td>0</td>\n",
       "      <td>M</td>\n",
       "      <td>сотрудник</td>\n",
       "      <td>0</td>\n",
       "      <td>135823</td>\n",
       "      <td>образование</td>\n",
       "      <td>бездетная семья</td>\n",
       "    </tr>\n",
       "    <tr>\n",
       "      <td>8</td>\n",
       "      <td>2</td>\n",
       "      <td>6929</td>\n",
       "      <td>35</td>\n",
       "      <td>высшее</td>\n",
       "      <td>0</td>\n",
       "      <td>гражданский брак</td>\n",
       "      <td>1</td>\n",
       "      <td>F</td>\n",
       "      <td>сотрудник</td>\n",
       "      <td>0</td>\n",
       "      <td>95856</td>\n",
       "      <td>на проведение свадьбы</td>\n",
       "      <td>малая семья</td>\n",
       "    </tr>\n",
       "    <tr>\n",
       "      <td>9</td>\n",
       "      <td>0</td>\n",
       "      <td>2188</td>\n",
       "      <td>41</td>\n",
       "      <td>среднее</td>\n",
       "      <td>1</td>\n",
       "      <td>женат / замужем</td>\n",
       "      <td>0</td>\n",
       "      <td>M</td>\n",
       "      <td>сотрудник</td>\n",
       "      <td>0</td>\n",
       "      <td>144425</td>\n",
       "      <td>покупка жилья для семьи</td>\n",
       "      <td>бездетная семья</td>\n",
       "    </tr>\n",
       "  </tbody>\n",
       "</table>\n",
       "</div>"
      ],
      "text/plain": [
       "   children  days_employed  dob_years education  education_id  \\\n",
       "0         1           8437         42    высшее             0   \n",
       "1         1           4024         36   среднее             1   \n",
       "2         0           5623         33   среднее             1   \n",
       "3         3           4124         32   среднее             1   \n",
       "4         0          14177         53   среднее             1   \n",
       "5         0            926         27    высшее             0   \n",
       "6         0           2879         43    высшее             0   \n",
       "7         0            152         50   среднее             1   \n",
       "8         2           6929         35    высшее             0   \n",
       "9         0           2188         41   среднее             1   \n",
       "\n",
       "      family_status  family_status_id gender income_type  debt  total_income  \\\n",
       "0   женат / замужем                 0      F   сотрудник     0        253875   \n",
       "1   женат / замужем                 0      F   сотрудник     0        112080   \n",
       "2   женат / замужем                 0      M   сотрудник     0        145885   \n",
       "3   женат / замужем                 0      M   сотрудник     0        267628   \n",
       "4  гражданский брак                 1      F   пенсионер     0        158616   \n",
       "5  гражданский брак                 1      M   компаньон     0        255763   \n",
       "6   женат / замужем                 0      F   компаньон     0        240525   \n",
       "7   женат / замужем                 0      M   сотрудник     0        135823   \n",
       "8  гражданский брак                 1      F   сотрудник     0         95856   \n",
       "9   женат / замужем                 0      M   сотрудник     0        144425   \n",
       "\n",
       "                      purpose categorise_children  \n",
       "0               покупка жилья         малая семья  \n",
       "1     приобретение автомобиля         малая семья  \n",
       "2               покупка жилья     бездетная семья  \n",
       "3  дополнительное образование   многодетная семья  \n",
       "4             сыграть свадьбу     бездетная семья  \n",
       "5               покупка жилья     бездетная семья  \n",
       "6           операции с жильем     бездетная семья  \n",
       "7                 образование     бездетная семья  \n",
       "8       на проведение свадьбы         малая семья  \n",
       "9     покупка жилья для семьи     бездетная семья  "
      ]
     },
     "execution_count": 37,
     "metadata": {},
     "output_type": "execute_result"
    }
   ],
   "source": [
    "def categorise_children(row): # создание функции в зависимости от значения в ячейке передаст определние семьи\n",
    "    if row == 0:\n",
    "        return 'бездетная семья'\n",
    "    elif row < 3:\n",
    "        return 'малая семья'\n",
    "    else:\n",
    "        return 'многодетная семья'\n",
    "    \n",
    "data1['categorise_children'] = data1['children'].apply(categorise_children) # создание нового столбца с полученными значениями\n",
    "data1.head(10) # вывод на экран "
   ]
  },
  {
   "cell_type": "code",
   "execution_count": 38,
   "metadata": {},
   "outputs": [
    {
     "data": {
      "text/plain": [
       "бездетная семья      14091\n",
       "малая семья           6983\n",
       "многодетная семья      380\n",
       "Name: categorise_children, dtype: int64"
      ]
     },
     "execution_count": 38,
     "metadata": {},
     "output_type": "execute_result"
    }
   ],
   "source": [
    "data1['categorise_children'].value_counts() # вывод кол-ва строк по каждому значению"
   ]
  },
  {
   "cell_type": "markdown",
   "metadata": {},
   "source": [
    "Для ответа на вопрос \"Есть зависимость между уровнем дохода и возвратом кредита в срок\" категоризуем данные по столбцу `total_income`.\n"
   ]
  },
  {
   "cell_type": "code",
   "execution_count": 39,
   "metadata": {},
   "outputs": [
    {
     "data": {
      "text/plain": [
       "142594.0"
      ]
     },
     "execution_count": 39,
     "metadata": {},
     "output_type": "execute_result"
    }
   ],
   "source": [
    "data1['total_income'].median() # рассчитаем медиану столбца \"total_income\""
   ]
  },
  {
   "cell_type": "markdown",
   "metadata": {},
   "source": [
    "Исходя из этого определим пределы значений с шагом 50 т.р."
   ]
  },
  {
   "cell_type": "code",
   "execution_count": 40,
   "metadata": {
    "scrolled": true
   },
   "outputs": [
    {
     "data": {
      "text/html": [
       "<div>\n",
       "<style scoped>\n",
       "    .dataframe tbody tr th:only-of-type {\n",
       "        vertical-align: middle;\n",
       "    }\n",
       "\n",
       "    .dataframe tbody tr th {\n",
       "        vertical-align: top;\n",
       "    }\n",
       "\n",
       "    .dataframe thead th {\n",
       "        text-align: right;\n",
       "    }\n",
       "</style>\n",
       "<table border=\"1\" class=\"dataframe\">\n",
       "  <thead>\n",
       "    <tr style=\"text-align: right;\">\n",
       "      <th></th>\n",
       "      <th>children</th>\n",
       "      <th>days_employed</th>\n",
       "      <th>dob_years</th>\n",
       "      <th>education</th>\n",
       "      <th>education_id</th>\n",
       "      <th>family_status</th>\n",
       "      <th>family_status_id</th>\n",
       "      <th>gender</th>\n",
       "      <th>income_type</th>\n",
       "      <th>debt</th>\n",
       "      <th>total_income</th>\n",
       "      <th>purpose</th>\n",
       "      <th>categorise_children</th>\n",
       "      <th>total_inc_categories</th>\n",
       "    </tr>\n",
       "  </thead>\n",
       "  <tbody>\n",
       "    <tr>\n",
       "      <td>0</td>\n",
       "      <td>1</td>\n",
       "      <td>8437</td>\n",
       "      <td>42</td>\n",
       "      <td>высшее</td>\n",
       "      <td>0</td>\n",
       "      <td>женат / замужем</td>\n",
       "      <td>0</td>\n",
       "      <td>F</td>\n",
       "      <td>сотрудник</td>\n",
       "      <td>0</td>\n",
       "      <td>253875</td>\n",
       "      <td>покупка жилья</td>\n",
       "      <td>малая семья</td>\n",
       "      <td>Доход от 250 тысяч</td>\n",
       "    </tr>\n",
       "    <tr>\n",
       "      <td>1</td>\n",
       "      <td>1</td>\n",
       "      <td>4024</td>\n",
       "      <td>36</td>\n",
       "      <td>среднее</td>\n",
       "      <td>1</td>\n",
       "      <td>женат / замужем</td>\n",
       "      <td>0</td>\n",
       "      <td>F</td>\n",
       "      <td>сотрудник</td>\n",
       "      <td>0</td>\n",
       "      <td>112080</td>\n",
       "      <td>приобретение автомобиля</td>\n",
       "      <td>малая семья</td>\n",
       "      <td>Доход от 100 до 150 тысяч</td>\n",
       "    </tr>\n",
       "    <tr>\n",
       "      <td>2</td>\n",
       "      <td>0</td>\n",
       "      <td>5623</td>\n",
       "      <td>33</td>\n",
       "      <td>среднее</td>\n",
       "      <td>1</td>\n",
       "      <td>женат / замужем</td>\n",
       "      <td>0</td>\n",
       "      <td>M</td>\n",
       "      <td>сотрудник</td>\n",
       "      <td>0</td>\n",
       "      <td>145885</td>\n",
       "      <td>покупка жилья</td>\n",
       "      <td>бездетная семья</td>\n",
       "      <td>Доход от 100 до 150 тысяч</td>\n",
       "    </tr>\n",
       "    <tr>\n",
       "      <td>3</td>\n",
       "      <td>3</td>\n",
       "      <td>4124</td>\n",
       "      <td>32</td>\n",
       "      <td>среднее</td>\n",
       "      <td>1</td>\n",
       "      <td>женат / замужем</td>\n",
       "      <td>0</td>\n",
       "      <td>M</td>\n",
       "      <td>сотрудник</td>\n",
       "      <td>0</td>\n",
       "      <td>267628</td>\n",
       "      <td>дополнительное образование</td>\n",
       "      <td>многодетная семья</td>\n",
       "      <td>Доход от 250 тысяч</td>\n",
       "    </tr>\n",
       "    <tr>\n",
       "      <td>4</td>\n",
       "      <td>0</td>\n",
       "      <td>14177</td>\n",
       "      <td>53</td>\n",
       "      <td>среднее</td>\n",
       "      <td>1</td>\n",
       "      <td>гражданский брак</td>\n",
       "      <td>1</td>\n",
       "      <td>F</td>\n",
       "      <td>пенсионер</td>\n",
       "      <td>0</td>\n",
       "      <td>158616</td>\n",
       "      <td>сыграть свадьбу</td>\n",
       "      <td>бездетная семья</td>\n",
       "      <td>Доход от 150 до 200 тысяч</td>\n",
       "    </tr>\n",
       "    <tr>\n",
       "      <td>...</td>\n",
       "      <td>...</td>\n",
       "      <td>...</td>\n",
       "      <td>...</td>\n",
       "      <td>...</td>\n",
       "      <td>...</td>\n",
       "      <td>...</td>\n",
       "      <td>...</td>\n",
       "      <td>...</td>\n",
       "      <td>...</td>\n",
       "      <td>...</td>\n",
       "      <td>...</td>\n",
       "      <td>...</td>\n",
       "      <td>...</td>\n",
       "      <td>...</td>\n",
       "    </tr>\n",
       "    <tr>\n",
       "      <td>21520</td>\n",
       "      <td>1</td>\n",
       "      <td>4529</td>\n",
       "      <td>43</td>\n",
       "      <td>среднее</td>\n",
       "      <td>1</td>\n",
       "      <td>гражданский брак</td>\n",
       "      <td>1</td>\n",
       "      <td>F</td>\n",
       "      <td>компаньон</td>\n",
       "      <td>0</td>\n",
       "      <td>224791</td>\n",
       "      <td>операции с жильем</td>\n",
       "      <td>малая семья</td>\n",
       "      <td>Доход от 200 до 250 тысяч</td>\n",
       "    </tr>\n",
       "    <tr>\n",
       "      <td>21521</td>\n",
       "      <td>0</td>\n",
       "      <td>14330</td>\n",
       "      <td>67</td>\n",
       "      <td>среднее</td>\n",
       "      <td>1</td>\n",
       "      <td>женат / замужем</td>\n",
       "      <td>0</td>\n",
       "      <td>F</td>\n",
       "      <td>пенсионер</td>\n",
       "      <td>0</td>\n",
       "      <td>155999</td>\n",
       "      <td>сделка с автомобилем</td>\n",
       "      <td>бездетная семья</td>\n",
       "      <td>Доход от 150 до 200 тысяч</td>\n",
       "    </tr>\n",
       "    <tr>\n",
       "      <td>21522</td>\n",
       "      <td>1</td>\n",
       "      <td>2113</td>\n",
       "      <td>38</td>\n",
       "      <td>среднее</td>\n",
       "      <td>1</td>\n",
       "      <td>гражданский брак</td>\n",
       "      <td>1</td>\n",
       "      <td>M</td>\n",
       "      <td>сотрудник</td>\n",
       "      <td>1</td>\n",
       "      <td>89672</td>\n",
       "      <td>недвижимость</td>\n",
       "      <td>малая семья</td>\n",
       "      <td>Доход до 100 тысяч</td>\n",
       "    </tr>\n",
       "    <tr>\n",
       "      <td>21523</td>\n",
       "      <td>3</td>\n",
       "      <td>3112</td>\n",
       "      <td>38</td>\n",
       "      <td>среднее</td>\n",
       "      <td>1</td>\n",
       "      <td>женат / замужем</td>\n",
       "      <td>0</td>\n",
       "      <td>M</td>\n",
       "      <td>сотрудник</td>\n",
       "      <td>1</td>\n",
       "      <td>244093</td>\n",
       "      <td>на покупку своего автомобиля</td>\n",
       "      <td>многодетная семья</td>\n",
       "      <td>Доход от 200 до 250 тысяч</td>\n",
       "    </tr>\n",
       "    <tr>\n",
       "      <td>21524</td>\n",
       "      <td>2</td>\n",
       "      <td>1984</td>\n",
       "      <td>40</td>\n",
       "      <td>среднее</td>\n",
       "      <td>1</td>\n",
       "      <td>женат / замужем</td>\n",
       "      <td>0</td>\n",
       "      <td>F</td>\n",
       "      <td>сотрудник</td>\n",
       "      <td>0</td>\n",
       "      <td>82047</td>\n",
       "      <td>на покупку автомобиля</td>\n",
       "      <td>малая семья</td>\n",
       "      <td>Доход до 100 тысяч</td>\n",
       "    </tr>\n",
       "  </tbody>\n",
       "</table>\n",
       "<p>21454 rows × 14 columns</p>\n",
       "</div>"
      ],
      "text/plain": [
       "       children  days_employed  dob_years education  education_id  \\\n",
       "0             1           8437         42    высшее             0   \n",
       "1             1           4024         36   среднее             1   \n",
       "2             0           5623         33   среднее             1   \n",
       "3             3           4124         32   среднее             1   \n",
       "4             0          14177         53   среднее             1   \n",
       "...         ...            ...        ...       ...           ...   \n",
       "21520         1           4529         43   среднее             1   \n",
       "21521         0          14330         67   среднее             1   \n",
       "21522         1           2113         38   среднее             1   \n",
       "21523         3           3112         38   среднее             1   \n",
       "21524         2           1984         40   среднее             1   \n",
       "\n",
       "          family_status  family_status_id gender income_type  debt  \\\n",
       "0       женат / замужем                 0      F   сотрудник     0   \n",
       "1       женат / замужем                 0      F   сотрудник     0   \n",
       "2       женат / замужем                 0      M   сотрудник     0   \n",
       "3       женат / замужем                 0      M   сотрудник     0   \n",
       "4      гражданский брак                 1      F   пенсионер     0   \n",
       "...                 ...               ...    ...         ...   ...   \n",
       "21520  гражданский брак                 1      F   компаньон     0   \n",
       "21521   женат / замужем                 0      F   пенсионер     0   \n",
       "21522  гражданский брак                 1      M   сотрудник     1   \n",
       "21523   женат / замужем                 0      M   сотрудник     1   \n",
       "21524   женат / замужем                 0      F   сотрудник     0   \n",
       "\n",
       "       total_income                       purpose categorise_children  \\\n",
       "0            253875                 покупка жилья         малая семья   \n",
       "1            112080       приобретение автомобиля         малая семья   \n",
       "2            145885                 покупка жилья     бездетная семья   \n",
       "3            267628    дополнительное образование   многодетная семья   \n",
       "4            158616               сыграть свадьбу     бездетная семья   \n",
       "...             ...                           ...                 ...   \n",
       "21520        224791             операции с жильем         малая семья   \n",
       "21521        155999          сделка с автомобилем     бездетная семья   \n",
       "21522         89672                  недвижимость         малая семья   \n",
       "21523        244093  на покупку своего автомобиля   многодетная семья   \n",
       "21524         82047         на покупку автомобиля         малая семья   \n",
       "\n",
       "            total_inc_categories  \n",
       "0             Доход от 250 тысяч  \n",
       "1      Доход от 100 до 150 тысяч  \n",
       "2      Доход от 100 до 150 тысяч  \n",
       "3             Доход от 250 тысяч  \n",
       "4      Доход от 150 до 200 тысяч  \n",
       "...                          ...  \n",
       "21520  Доход от 200 до 250 тысяч  \n",
       "21521  Доход от 150 до 200 тысяч  \n",
       "21522         Доход до 100 тысяч  \n",
       "21523  Доход от 200 до 250 тысяч  \n",
       "21524         Доход до 100 тысяч  \n",
       "\n",
       "[21454 rows x 14 columns]"
      ]
     },
     "metadata": {},
     "output_type": "display_data"
    },
    {
     "data": {
      "text/plain": [
       "Доход от 100 до 150 тысяч    7160\n",
       "Доход от 150 до 200 тысяч    4764\n",
       "Доход до 100 тысяч           4463\n",
       "Доход от 250 тысяч           2813\n",
       "Доход от 200 до 250 тысяч    2254\n",
       "Name: total_inc_categories, dtype: int64"
      ]
     },
     "execution_count": 40,
     "metadata": {},
     "output_type": "execute_result"
    }
   ],
   "source": [
    "def total_inc_categories(row): # создание функции, исходя от значения дохода определит категорию \n",
    "    if row < 100000:\n",
    "        return 'Доход до 100 тысяч'\n",
    "    elif row < 150000:\n",
    "        return 'Доход от 100 до 150 тысяч'\n",
    "    elif row < 200000:\n",
    "        return 'Доход от 150 до 200 тысяч'\n",
    "    elif row < 250000:\n",
    "        return 'Доход от 200 до 250 тысяч'   \n",
    "    else:\n",
    "        return 'Доход от 250 тысяч'\n",
    "    \n",
    "data1['total_inc_categories'] = data1['total_income'].apply(total_inc_categories) # создание нового столбца с занесением новых значений\n",
    "display(data1) # вывод на экран  \n",
    "data1['total_inc_categories'].value_counts() # вывод кол-ва строк по каждому значению"
   ]
  },
  {
   "cell_type": "markdown",
   "metadata": {},
   "source": [
    "Также создадим категоризацию данных для столбца `purpose` т.к. цель кредита важна для исследования."
   ]
  },
  {
   "cell_type": "markdown",
   "metadata": {},
   "source": [
    "Создаздим через словарь категории целей кредита и добавим в таблицу новый столбец. \n"
   ]
  },
  {
   "cell_type": "code",
   "execution_count": 41,
   "metadata": {},
   "outputs": [
    {
     "data": {
      "text/plain": [
       "3    6325\n",
       "4    4486\n",
       "1    4306\n",
       "2    4013\n",
       "0    2324\n",
       "Name: purpose_category, dtype: int64"
      ]
     },
     "execution_count": 41,
     "metadata": {},
     "output_type": "execute_result"
    }
   ],
   "source": [
    "purpose_dictionary = {'свадьба':0, 'автомобиль':1, 'образование':2, 'жилой':3, 'жилье':3, 'собственный':3,  'коммерческий':4, 'недвижимость':4}\n",
    "\n",
    "\n",
    "def set_purpose_category(row, purpose_dictionary): # создание функции, которая вернет категорию целей кредита\n",
    "    lemma = m.lemmatize(row)\n",
    "    for word in lemma:\n",
    "        if word in purpose_dictionary:\n",
    "            return purpose_dictionary[word]\n",
    "        \n",
    "\n",
    "data1['purpose_category'] = data1['purpose'].apply(set_purpose_category, args=[purpose_dictionary]) # создание нового столбца с добавлением полученных значений\n",
    "data1['purpose_category'].value_counts()   # вывод кол-ва строк по каждому значению\n"
   ]
  },
  {
   "cell_type": "code",
   "execution_count": 42,
   "metadata": {},
   "outputs": [
    {
     "data": {
      "text/plain": [
       "жилая недвижимость           6325\n",
       "коммерческая недвижимость    4486\n",
       "автомобиль                   4306\n",
       "образование                  4013\n",
       "свадьба                      2324\n",
       "Name: purpose_category, dtype: int64"
      ]
     },
     "execution_count": 42,
     "metadata": {},
     "output_type": "execute_result"
    }
   ],
   "source": [
    "purpose_dictionary1 = {0: 'свадьба', 1: 'автомобиль', 2: 'образование', 3: 'жилая недвижимость', 4: 'коммерческая недвижимость'}\n",
    "\n",
    "def category_purpose(row):   # создание функции, которая вернет по числу категорию\n",
    "    return purpose_dictionary1[row]\n",
    "\n",
    "data1['purpose_category'] = data1['purpose_category'].apply(category_purpose)\n",
    "data1['purpose_category'].value_counts() # вывод кол-ва строк по каждому значению"
   ]
  },
  {
   "cell_type": "markdown",
   "metadata": {},
   "source": [
    "**Вывод**"
   ]
  },
  {
   "cell_type": "markdown",
   "metadata": {},
   "source": [
    "Произведена категоризация данных для столбца `children`, `purpose`, `total_income`.\n",
    "Теперь данные готовы для проверки гипотез."
   ]
  },
  {
   "cell_type": "markdown",
   "metadata": {},
   "source": [
    "## Шаг 3. Ответьте на вопросы"
   ]
  },
  {
   "cell_type": "markdown",
   "metadata": {},
   "source": [
    "**- Есть ли зависимость между наличием детей и возвратом кредита в срок?**"
   ]
  },
  {
   "cell_type": "code",
   "execution_count": 43,
   "metadata": {},
   "outputs": [
    {
     "data": {
      "text/html": [
       "<div>\n",
       "<style scoped>\n",
       "    .dataframe tbody tr th:only-of-type {\n",
       "        vertical-align: middle;\n",
       "    }\n",
       "\n",
       "    .dataframe tbody tr th {\n",
       "        vertical-align: top;\n",
       "    }\n",
       "\n",
       "    .dataframe thead th {\n",
       "        text-align: right;\n",
       "    }\n",
       "</style>\n",
       "<table border=\"1\" class=\"dataframe\">\n",
       "  <thead>\n",
       "    <tr style=\"text-align: right;\">\n",
       "      <th></th>\n",
       "      <th>Всего</th>\n",
       "      <th>Не выплачено</th>\n",
       "      <th>Выплачено</th>\n",
       "      <th>Процент выплаченных кредитов</th>\n",
       "    </tr>\n",
       "    <tr>\n",
       "      <th>Категория</th>\n",
       "      <th></th>\n",
       "      <th></th>\n",
       "      <th></th>\n",
       "      <th></th>\n",
       "    </tr>\n",
       "  </thead>\n",
       "  <tbody>\n",
       "    <tr>\n",
       "      <td>бездетная семья</td>\n",
       "      <td>14091</td>\n",
       "      <td>1063</td>\n",
       "      <td>13028</td>\n",
       "      <td>92.5%</td>\n",
       "    </tr>\n",
       "    <tr>\n",
       "      <td>многодетная семья</td>\n",
       "      <td>380</td>\n",
       "      <td>31</td>\n",
       "      <td>349</td>\n",
       "      <td>91.8%</td>\n",
       "    </tr>\n",
       "    <tr>\n",
       "      <td>малая семья</td>\n",
       "      <td>6983</td>\n",
       "      <td>647</td>\n",
       "      <td>6336</td>\n",
       "      <td>90.7%</td>\n",
       "    </tr>\n",
       "  </tbody>\n",
       "</table>\n",
       "</div>"
      ],
      "text/plain": [
       "                   Всего  Не выплачено  Выплачено Процент выплаченных кредитов\n",
       "Категория                                                                     \n",
       "бездетная семья    14091          1063      13028                        92.5%\n",
       "многодетная семья    380            31        349                        91.8%\n",
       "малая семья         6983           647       6336                        90.7%"
      ]
     },
     "execution_count": 43,
     "metadata": {},
     "output_type": "execute_result"
    }
   ],
   "source": [
    "data1.rename(columns={'categorise_children': 'Категория'}, inplace=True) # вывод данных в таблицу\n",
    "table_1 = pd.pivot_table(data1, index='Категория', values='debt', aggfunc='count') # создание таблицы\n",
    "table_2 = pd.pivot_table(data1, index='Категория', values='debt', aggfunc='sum') \n",
    "child_dept = table_1\n",
    "child_dept['not_return'] = table_2['debt']\n",
    "child_dept['returned'] = child_dept['debt'] - child_dept['not_return'] # расчёт показателей\n",
    "child_dept['return_percent'] = child_dept['returned'] / child_dept['debt']\n",
    "child_dept['return_percent'] = child_dept['return_percent'].mul(100).round(1).astype(str).add('%')\n",
    "child_dept = child_dept.sort_values(by='return_percent', ascending=False) # сортировка по убыванию\n",
    "child_dept.rename(columns={'debt': 'Всего', 'not_return': 'Не выплачено', 'returned': 'Выплачено', 'return_percent': 'Процент выплаченных кредитов'}, inplace=True) # переименовка столбцов на русский язык\n",
    "child_dept # вывод на экран"
   ]
  },
  {
   "cell_type": "markdown",
   "metadata": {},
   "source": [
    "**Вывод**"
   ]
  },
  {
   "cell_type": "markdown",
   "metadata": {},
   "source": [
    "Исходя из полученных данных, можно сказать о том, что кол-во детей слабо влияет на возвраст кредита в срок.\n",
    "* На первом месте семьи без детей, скорее всего это связано с тем, что у таких семей нет непредвиденных и спонтанных затрат , а также затрат на содержание детей, поэтому таким семьям легче спрогнозировать свои затраты.\n",
    "* На втором месте многодетные семьи,полагаю что такие семьи подходят более ответственно к затрам в семье, плюс субсидий у них больше нежели у малодетных семей - это упрощает выплату кредитов.\n",
    "* На третьем месте малые семьи - это семьи с одним или двумя детьми, скорее всего самый низкий процент выплаченных кредитов говорит о том, что семьи еще не умеют четко прогнозировать свои финанс и часть кредитов берут с переоценкой своих возможностей.Также между содержанием одного и двух детей есть существенная разница в сравнении с многодетными семьями и возможно на момент взятия кредита у таких семей был только один ребенок, а второй появился в последствии. "
   ]
  },
  {
   "cell_type": "markdown",
   "metadata": {},
   "source": [
    "**- Есть ли зависимость между семейным положением и возвратом кредита в срок?**"
   ]
  },
  {
   "cell_type": "code",
   "execution_count": 44,
   "metadata": {},
   "outputs": [
    {
     "data": {
      "text/html": [
       "<div>\n",
       "<style scoped>\n",
       "    .dataframe tbody tr th:only-of-type {\n",
       "        vertical-align: middle;\n",
       "    }\n",
       "\n",
       "    .dataframe tbody tr th {\n",
       "        vertical-align: top;\n",
       "    }\n",
       "\n",
       "    .dataframe thead th {\n",
       "        text-align: right;\n",
       "    }\n",
       "</style>\n",
       "<table border=\"1\" class=\"dataframe\">\n",
       "  <thead>\n",
       "    <tr style=\"text-align: right;\">\n",
       "      <th></th>\n",
       "      <th>Всего</th>\n",
       "      <th>Не выплачено</th>\n",
       "      <th>Выплачено</th>\n",
       "      <th>Процент выплаченных кредитов</th>\n",
       "    </tr>\n",
       "    <tr>\n",
       "      <th>Семейный статус</th>\n",
       "      <th></th>\n",
       "      <th></th>\n",
       "      <th></th>\n",
       "      <th></th>\n",
       "    </tr>\n",
       "  </thead>\n",
       "  <tbody>\n",
       "    <tr>\n",
       "      <td>вдовец / вдова</td>\n",
       "      <td>959</td>\n",
       "      <td>63</td>\n",
       "      <td>896</td>\n",
       "      <td>93.4%</td>\n",
       "    </tr>\n",
       "    <tr>\n",
       "      <td>в разводе</td>\n",
       "      <td>1195</td>\n",
       "      <td>85</td>\n",
       "      <td>1110</td>\n",
       "      <td>92.9%</td>\n",
       "    </tr>\n",
       "    <tr>\n",
       "      <td>женат / замужем</td>\n",
       "      <td>12339</td>\n",
       "      <td>931</td>\n",
       "      <td>11408</td>\n",
       "      <td>92.5%</td>\n",
       "    </tr>\n",
       "    <tr>\n",
       "      <td>гражданский брак</td>\n",
       "      <td>4151</td>\n",
       "      <td>388</td>\n",
       "      <td>3763</td>\n",
       "      <td>90.7%</td>\n",
       "    </tr>\n",
       "    <tr>\n",
       "      <td>Не женат / не замужем</td>\n",
       "      <td>2810</td>\n",
       "      <td>274</td>\n",
       "      <td>2536</td>\n",
       "      <td>90.2%</td>\n",
       "    </tr>\n",
       "  </tbody>\n",
       "</table>\n",
       "</div>"
      ],
      "text/plain": [
       "                       Всего  Не выплачено  Выплачено  \\\n",
       "Семейный статус                                         \n",
       "вдовец / вдова           959            63        896   \n",
       "в разводе               1195            85       1110   \n",
       "женат / замужем        12339           931      11408   \n",
       "гражданский брак        4151           388       3763   \n",
       "Не женат / не замужем   2810           274       2536   \n",
       "\n",
       "                      Процент выплаченных кредитов  \n",
       "Семейный статус                                     \n",
       "вдовец / вдова                               93.4%  \n",
       "в разводе                                    92.9%  \n",
       "женат / замужем                              92.5%  \n",
       "гражданский брак                             90.7%  \n",
       "Не женат / не замужем                        90.2%  "
      ]
     },
     "execution_count": 44,
     "metadata": {},
     "output_type": "execute_result"
    }
   ],
   "source": [
    "data1.rename(columns={'family_status': 'Семейный статус'}, inplace=True) # вывод данных в таблицу\n",
    "table_1 = pd.pivot_table(data1, index='Семейный статус', values='debt', aggfunc='count') # создание таблицы\n",
    "table_2 = pd.pivot_table(data1, index='Семейный статус', values='debt', aggfunc='sum')\n",
    "family_status_dept = table_1\n",
    "family_status_dept['not_return_debt'] = table_2['debt']\n",
    "family_status_dept['returned_debt'] = family_status_dept['debt'] - family_status_dept['not_return_debt']\n",
    "family_status_dept['return_percent'] = family_status_dept['returned_debt'] / family_status_dept['debt']\n",
    "family_status_dept['return_percent'] = family_status_dept['return_percent'].mul(100).round(1).astype(str).add('%')\n",
    "family_status_dept = family_status_dept.sort_values(by='return_percent', ascending=False)  # сортировка по убыванию\n",
    "family_status_dept.rename(columns={'debt': 'Всего', 'not_return_debt': 'Не выплачено', 'returned_debt': 'Выплачено', 'return_percent': 'Процент выплаченных кредитов'}, inplace=True)\n",
    "family_status_dept # вывод на экран"
   ]
  },
  {
   "cell_type": "markdown",
   "metadata": {},
   "source": [
    "**Вывод**"
   ]
  },
  {
   "cell_type": "markdown",
   "metadata": {},
   "source": [
    "Основываясь на полученных данных, можно сказать о том, что у всех категорий процент превышает планку в 90%.\n",
    "* Однако на первом месте те, кто имеют семейный статус \"вдовец / вдова\", скорее всего это связано с тем, что у таких людей большой жизненный опыт и достаточно накополений, а также  они сами несут отвественность за свои финансы.\n",
    "* Далее те, кто в разводе, это также связано с тем, что такие люди сами отвественны за свои финансы и траты.\n",
    "* На третьем месте категория \"женат/замужем\" при взятии кредита имеют понимание, что собираются жить вместе и расширять свою семью, поэтому несут ответственность за погашение кредита в срок.\n",
    "* Самые низкие показатели имеют категории \"гражданский брак\" и \"Не женат / не замужем\" не несут полной ответственности и могут иметь необдуманные траты."
   ]
  },
  {
   "cell_type": "markdown",
   "metadata": {},
   "source": [
    "**- Есть ли зависимость между уровнем дохода и возвратом кредита в срок?**"
   ]
  },
  {
   "cell_type": "code",
   "execution_count": 45,
   "metadata": {},
   "outputs": [
    {
     "data": {
      "text/html": [
       "<div>\n",
       "<style scoped>\n",
       "    .dataframe tbody tr th:only-of-type {\n",
       "        vertical-align: middle;\n",
       "    }\n",
       "\n",
       "    .dataframe tbody tr th {\n",
       "        vertical-align: top;\n",
       "    }\n",
       "\n",
       "    .dataframe thead th {\n",
       "        text-align: right;\n",
       "    }\n",
       "</style>\n",
       "<table border=\"1\" class=\"dataframe\">\n",
       "  <thead>\n",
       "    <tr style=\"text-align: right;\">\n",
       "      <th></th>\n",
       "      <th>Всего</th>\n",
       "      <th>Не выплачено</th>\n",
       "      <th>Выплачено</th>\n",
       "      <th>Процент выплаченных кредитов</th>\n",
       "    </tr>\n",
       "    <tr>\n",
       "      <th>Категория дохода</th>\n",
       "      <th></th>\n",
       "      <th></th>\n",
       "      <th></th>\n",
       "      <th></th>\n",
       "    </tr>\n",
       "  </thead>\n",
       "  <tbody>\n",
       "    <tr>\n",
       "      <td>Доход от 250 тысяч</td>\n",
       "      <td>2813</td>\n",
       "      <td>194</td>\n",
       "      <td>2619</td>\n",
       "      <td>93.1%</td>\n",
       "    </tr>\n",
       "    <tr>\n",
       "      <td>Доход от 200 до 250 тысяч</td>\n",
       "      <td>2254</td>\n",
       "      <td>164</td>\n",
       "      <td>2090</td>\n",
       "      <td>92.7%</td>\n",
       "    </tr>\n",
       "    <tr>\n",
       "      <td>Доход до 100 тысяч</td>\n",
       "      <td>4463</td>\n",
       "      <td>354</td>\n",
       "      <td>4109</td>\n",
       "      <td>92.1%</td>\n",
       "    </tr>\n",
       "    <tr>\n",
       "      <td>Доход от 150 до 200 тысяч</td>\n",
       "      <td>4764</td>\n",
       "      <td>405</td>\n",
       "      <td>4359</td>\n",
       "      <td>91.5%</td>\n",
       "    </tr>\n",
       "    <tr>\n",
       "      <td>Доход от 100 до 150 тысяч</td>\n",
       "      <td>7160</td>\n",
       "      <td>624</td>\n",
       "      <td>6536</td>\n",
       "      <td>91.3%</td>\n",
       "    </tr>\n",
       "  </tbody>\n",
       "</table>\n",
       "</div>"
      ],
      "text/plain": [
       "                           Всего  Не выплачено  Выплачено  \\\n",
       "Категория дохода                                            \n",
       "Доход от 250 тысяч          2813           194       2619   \n",
       "Доход от 200 до 250 тысяч   2254           164       2090   \n",
       "Доход до 100 тысяч          4463           354       4109   \n",
       "Доход от 150 до 200 тысяч   4764           405       4359   \n",
       "Доход от 100 до 150 тысяч   7160           624       6536   \n",
       "\n",
       "                          Процент выплаченных кредитов  \n",
       "Категория дохода                                        \n",
       "Доход от 250 тысяч                               93.1%  \n",
       "Доход от 200 до 250 тысяч                        92.7%  \n",
       "Доход до 100 тысяч                               92.1%  \n",
       "Доход от 150 до 200 тысяч                        91.5%  \n",
       "Доход от 100 до 150 тысяч                        91.3%  "
      ]
     },
     "execution_count": 45,
     "metadata": {},
     "output_type": "execute_result"
    }
   ],
   "source": [
    "data1.rename(columns={'total_inc_categories': 'Категория дохода'}, inplace=True)\n",
    "table_1 = pd.pivot_table(data1, index='Категория дохода', values='debt', aggfunc='count')\n",
    "table_2 = pd.pivot_table(data1, index='Категория дохода', values='debt', aggfunc='sum')\n",
    "total_income_dept = table_1\n",
    "total_income_dept['not_return_debt'] = table_2['debt']\n",
    "total_income_dept['returned_debt'] = total_income_dept['debt'] - total_income_dept['not_return_debt']\n",
    "total_income_dept['return_percent'] = total_income_dept['returned_debt'] / total_income_dept['debt']\n",
    "total_income_dept['return_percent'] = total_income_dept['return_percent'].mul(100).round(1).astype(str).add('%')\n",
    "total_income_dept = total_income_dept.sort_values(by='return_percent', ascending=False) \n",
    "total_income_dept.rename(columns={'debt': 'Всего', 'not_return_debt': 'Не выплачено', 'returned_debt': 'Выплачено', 'return_percent': 'Процент выплаченных кредитов'}, inplace=True)\n",
    "total_income_dept"
   ]
  },
  {
   "cell_type": "markdown",
   "metadata": {},
   "source": [
    "**Вывод**"
   ]
  },
  {
   "cell_type": "markdown",
   "metadata": {},
   "source": [
    "* Самый высокий процент имеет категория \"Доход от 250 тысяч\" это ожидаемо т.к. чем больше заработок тем больше свободын ресурсов на оплату кредита.\n",
    "* За ним расположилась категория Доход от 200 до 250 тысяч по тем же причинам.\n",
    "* Далее \"Доход до 100 тысяч\" веротяно это связано с отвественностью и распределением своего зароботка на все нужды.\n",
    "* Категории \"Доход от 100 до 150 тысяч\" и \"Доход от 150 до 200 тысяч\" имеют приблизительно одинаковую поизицю, веротяно связано с тем, что люди перешли на новый обрах жизни, в котором и расходы больше. Может так быть связано с наличем у такцих лиц нескольких кредитов сразу.\n",
    "\n"
   ]
  },
  {
   "cell_type": "markdown",
   "metadata": {},
   "source": [
    "**- Как разные цели кредита влияют на его возврат в срок?**"
   ]
  },
  {
   "cell_type": "code",
   "execution_count": 46,
   "metadata": {
    "scrolled": true
   },
   "outputs": [
    {
     "data": {
      "text/html": [
       "<div>\n",
       "<style scoped>\n",
       "    .dataframe tbody tr th:only-of-type {\n",
       "        vertical-align: middle;\n",
       "    }\n",
       "\n",
       "    .dataframe tbody tr th {\n",
       "        vertical-align: top;\n",
       "    }\n",
       "\n",
       "    .dataframe thead th {\n",
       "        text-align: right;\n",
       "    }\n",
       "</style>\n",
       "<table border=\"1\" class=\"dataframe\">\n",
       "  <thead>\n",
       "    <tr style=\"text-align: right;\">\n",
       "      <th></th>\n",
       "      <th>Всего</th>\n",
       "      <th>Не выплачено</th>\n",
       "      <th>Выплачено</th>\n",
       "      <th>Процент выплаченных кредитов</th>\n",
       "    </tr>\n",
       "    <tr>\n",
       "      <th>Цель кредита</th>\n",
       "      <th></th>\n",
       "      <th></th>\n",
       "      <th></th>\n",
       "      <th></th>\n",
       "    </tr>\n",
       "  </thead>\n",
       "  <tbody>\n",
       "    <tr>\n",
       "      <td>жилая недвижимость</td>\n",
       "      <td>6325</td>\n",
       "      <td>439</td>\n",
       "      <td>5886</td>\n",
       "      <td>93.1%</td>\n",
       "    </tr>\n",
       "    <tr>\n",
       "      <td>коммерческая недвижимость</td>\n",
       "      <td>4486</td>\n",
       "      <td>343</td>\n",
       "      <td>4143</td>\n",
       "      <td>92.4%</td>\n",
       "    </tr>\n",
       "    <tr>\n",
       "      <td>свадьба</td>\n",
       "      <td>2324</td>\n",
       "      <td>186</td>\n",
       "      <td>2138</td>\n",
       "      <td>92.0%</td>\n",
       "    </tr>\n",
       "    <tr>\n",
       "      <td>образование</td>\n",
       "      <td>4013</td>\n",
       "      <td>370</td>\n",
       "      <td>3643</td>\n",
       "      <td>90.8%</td>\n",
       "    </tr>\n",
       "    <tr>\n",
       "      <td>автомобиль</td>\n",
       "      <td>4306</td>\n",
       "      <td>403</td>\n",
       "      <td>3903</td>\n",
       "      <td>90.6%</td>\n",
       "    </tr>\n",
       "  </tbody>\n",
       "</table>\n",
       "</div>"
      ],
      "text/plain": [
       "                           Всего  Не выплачено  Выплачено  \\\n",
       "Цель кредита                                                \n",
       "жилая недвижимость          6325           439       5886   \n",
       "коммерческая недвижимость   4486           343       4143   \n",
       "свадьба                     2324           186       2138   \n",
       "образование                 4013           370       3643   \n",
       "автомобиль                  4306           403       3903   \n",
       "\n",
       "                          Процент выплаченных кредитов  \n",
       "Цель кредита                                            \n",
       "жилая недвижимость                               93.1%  \n",
       "коммерческая недвижимость                        92.4%  \n",
       "свадьба                                          92.0%  \n",
       "образование                                      90.8%  \n",
       "автомобиль                                       90.6%  "
      ]
     },
     "execution_count": 46,
     "metadata": {},
     "output_type": "execute_result"
    }
   ],
   "source": [
    "data1.rename(columns={'purpose_category': 'Цель кредита'}, inplace=True)\n",
    "table_1 = pd.pivot_table(data1, index='Цель кредита', values='debt', aggfunc='count')\n",
    "table_2 = pd.pivot_table(data1, index='Цель кредита', values='debt', aggfunc='sum')\n",
    "dept_by_purpose = table_1\n",
    "dept_by_purpose['not_return_debt'] = table_2['debt']\n",
    "dept_by_purpose['returned_debt'] = dept_by_purpose['debt'] - dept_by_purpose['not_return_debt']\n",
    "dept_by_purpose['return_percent'] = dept_by_purpose['returned_debt'] / dept_by_purpose['debt']\n",
    "dept_by_purpose['return_percent'] = dept_by_purpose['return_percent'].mul(100).round(1).astype(str).add('%')\n",
    "dept_by_purpose = dept_by_purpose.sort_values(by='return_percent', ascending=False) \n",
    "dept_by_purpose.rename(columns={'debt': 'Всего', 'not_return_debt': 'Не выплачено', 'returned_debt': 'Выплачено', 'return_percent': 'Процент выплаченных кредитов'}, inplace=True)\n",
    "dept_by_purpose"
   ]
  },
  {
   "cell_type": "markdown",
   "metadata": {},
   "source": [
    "**Вывод**"
   ]
  },
  {
   "cell_type": "markdown",
   "metadata": {},
   "source": [
    "* Самый высокий показатель имеет цель - \"жилая недвижимость\" это очевидно, т.к. это играет большую роль в социальной жизни. Приобретая недвижимость в кредит, заемщики учитывают риски и подходят к выбору очень осознанно и отвественно.\n",
    "* \"Коммерческая недвижимость\" как способ зароботка распологается на втором месте, здесь также учитываются многие факторы в том числе и затем полученная прибыль для дальнейшего закрытия кредита.\n",
    "* \"Свадьба\" находится на третьем месте, обычно это не такие большие деньги в кредит как, недвижимость, поэтому здесь и выплатить кредит легче, особенно с учетом прибыли от денежных презентов на мероприятии.\n",
    "* \"Образование\" и \"Автомобиль\" можно объединить по критерию возврата т.к. здесь часто возникают непредвиданные риски.  В \"Образовании\" например - отчисление, потеря мотивации и т.д. В \"Автомобиле\" различные затраты на ремонт, страховку, ДТП и прочее."
   ]
  },
  {
   "cell_type": "markdown",
   "metadata": {},
   "source": [
    "## Шаг 4. Общий вывод"
   ]
  },
  {
   "cell_type": "markdown",
   "metadata": {},
   "source": [
    "После проведения необходимых исследований, в целом ситуацию можно описать как благоприятную.Во всех пункатх исследования возврат кредита имеет показатель более 90 %. \n",
    "* Наличие детей иммет самый маленький разброс по процентам, поэтому здесь заивимость слабо выражена. Но в общем можно сделать вывод, что самый низкий процентов по возврату имеют малые семьи с один и двумя детьми.Поэтому при выдаче кредита этот критерий из 4х исследуемых я бы отнесла на последнюю позицию.\n",
    "* Зависимость между семейным положением и возврата кредита в срок имеет самый большй разброс показателей, поэтому необходимо обращать на него особое внимание при выдаче кредита. В целом три категории имеют самый больший процент выплаченных кредитов вдовец / вдова, в разводе, женат / замужем.\n",
    "* Зависимость от показателя \"уровень дохода\" определяется неоднозначно, с одной стороны те, кто имеет высокий зароботок, с другой те кто имеют средний заработок. Не самый решающий показатель.\n",
    "* Цель кредита имеет второй по величине разброс показателей процента выплаченных кредитов. Здесь на первом месте расположилась недвижимость.\n",
    "\n",
    "* В заключение основываясь на полученных данных идельным кандидатом для выдачи кредита будет человек с высшим образованием, высоким или средним зароботком, без детей, в разводе и целью его кредита будет недвижимость как жилая так и коммерческая.\n",
    "\n",
    "\n"
   ]
  }
 ],
 "metadata": {
  "ExecuteTimeLog": [
   {
    "duration": 707,
    "start_time": "2022-01-15T17:49:15.079Z"
   },
   {
    "duration": 67,
    "start_time": "2022-01-15T17:49:41.596Z"
   },
   {
    "duration": 60,
    "start_time": "2022-01-15T17:49:48.268Z"
   },
   {
    "duration": 55,
    "start_time": "2022-01-15T17:51:22.438Z"
   },
   {
    "duration": 54,
    "start_time": "2022-01-15T17:51:32.838Z"
   },
   {
    "duration": 54,
    "start_time": "2022-01-15T17:52:39.029Z"
   },
   {
    "duration": 55,
    "start_time": "2022-01-15T17:52:57.629Z"
   },
   {
    "duration": 11,
    "start_time": "2022-01-15T17:53:27.125Z"
   },
   {
    "duration": 12,
    "start_time": "2022-01-15T18:28:18.886Z"
   },
   {
    "duration": 165,
    "start_time": "2022-01-15T19:04:34.178Z"
   },
   {
    "duration": 11,
    "start_time": "2022-01-15T19:05:22.243Z"
   },
   {
    "duration": 6,
    "start_time": "2022-01-15T19:05:41.268Z"
   },
   {
    "duration": 7,
    "start_time": "2022-01-15T19:06:27.676Z"
   },
   {
    "duration": 104,
    "start_time": "2022-01-15T19:09:39.080Z"
   },
   {
    "duration": 8,
    "start_time": "2022-01-15T19:09:41.872Z"
   },
   {
    "duration": 472,
    "start_time": "2022-01-15T19:10:30.156Z"
   },
   {
    "duration": 6,
    "start_time": "2022-01-15T19:10:47.096Z"
   },
   {
    "duration": 13,
    "start_time": "2022-01-15T19:15:28.257Z"
   },
   {
    "duration": 6,
    "start_time": "2022-01-15T19:16:33.735Z"
   },
   {
    "duration": 4,
    "start_time": "2022-01-15T20:17:39.687Z"
   },
   {
    "duration": 389,
    "start_time": "2022-01-15T20:17:43.878Z"
   },
   {
    "duration": 4,
    "start_time": "2022-01-15T20:17:46.677Z"
   },
   {
    "duration": 6,
    "start_time": "2022-01-15T20:19:20.135Z"
   },
   {
    "duration": 317,
    "start_time": "2022-01-15T20:19:25.391Z"
   },
   {
    "duration": 5,
    "start_time": "2022-01-15T20:19:28.439Z"
   },
   {
    "duration": 5,
    "start_time": "2022-01-15T20:20:03.361Z"
   },
   {
    "duration": 6,
    "start_time": "2022-01-15T20:20:29.160Z"
   },
   {
    "duration": 4,
    "start_time": "2022-01-15T20:20:41.316Z"
   },
   {
    "duration": 387,
    "start_time": "2022-01-15T21:21:18.517Z"
   },
   {
    "duration": 337,
    "start_time": "2022-01-15T21:21:34.127Z"
   },
   {
    "duration": 115,
    "start_time": "2022-01-15T21:24:34.218Z"
   },
   {
    "duration": 9,
    "start_time": "2022-01-15T21:24:37.641Z"
   },
   {
    "duration": 22,
    "start_time": "2022-01-15T21:29:31.231Z"
   },
   {
    "duration": 23,
    "start_time": "2022-01-15T21:29:40.066Z"
   },
   {
    "duration": 284,
    "start_time": "2022-01-15T21:35:59.626Z"
   },
   {
    "duration": 5,
    "start_time": "2022-01-15T21:36:08.912Z"
   },
   {
    "duration": 345,
    "start_time": "2022-01-15T21:36:25.791Z"
   },
   {
    "duration": 123,
    "start_time": "2022-01-15T21:36:38.007Z"
   },
   {
    "duration": 109,
    "start_time": "2022-01-15T21:36:42.175Z"
   },
   {
    "duration": 318,
    "start_time": "2022-01-15T21:36:50.008Z"
   },
   {
    "duration": 3,
    "start_time": "2022-01-15T21:37:00.910Z"
   },
   {
    "duration": 370,
    "start_time": "2022-01-15T21:37:06.968Z"
   },
   {
    "duration": 6,
    "start_time": "2022-01-15T21:38:03.345Z"
   },
   {
    "duration": 6,
    "start_time": "2022-01-15T21:39:39.779Z"
   },
   {
    "duration": 6,
    "start_time": "2022-01-15T21:39:58.855Z"
   },
   {
    "duration": 6,
    "start_time": "2022-01-15T21:40:45.380Z"
   },
   {
    "duration": 7,
    "start_time": "2022-01-15T21:40:54.583Z"
   },
   {
    "duration": 313,
    "start_time": "2022-01-15T21:42:54.095Z"
   },
   {
    "duration": 325,
    "start_time": "2022-01-15T21:44:15.697Z"
   },
   {
    "duration": 321,
    "start_time": "2022-01-15T21:45:00.042Z"
   },
   {
    "duration": 4,
    "start_time": "2022-01-15T21:45:05.001Z"
   },
   {
    "duration": 344,
    "start_time": "2022-01-15T21:45:13.033Z"
   },
   {
    "duration": 3,
    "start_time": "2022-01-15T21:45:18.720Z"
   },
   {
    "duration": 3,
    "start_time": "2022-01-15T21:48:22.462Z"
   },
   {
    "duration": 5,
    "start_time": "2022-01-15T21:48:26.356Z"
   },
   {
    "duration": 310,
    "start_time": "2022-01-15T21:49:52.711Z"
   },
   {
    "duration": 7,
    "start_time": "2022-01-15T21:50:42.439Z"
   },
   {
    "duration": 309,
    "start_time": "2022-01-15T21:51:37.538Z"
   },
   {
    "duration": 6,
    "start_time": "2022-01-15T21:51:41.025Z"
   },
   {
    "duration": 9,
    "start_time": "2022-01-15T21:51:52.880Z"
   },
   {
    "duration": 7,
    "start_time": "2022-01-15T21:52:01.072Z"
   },
   {
    "duration": 7923,
    "start_time": "2022-01-15T21:52:47.689Z"
   },
   {
    "duration": 792,
    "start_time": "2022-01-15T21:53:13.891Z"
   },
   {
    "duration": 794,
    "start_time": "2022-01-15T21:53:34.222Z"
   },
   {
    "duration": 7892,
    "start_time": "2022-01-15T21:53:36.458Z"
   },
   {
    "duration": 7,
    "start_time": "2022-01-15T21:56:20.448Z"
   },
   {
    "duration": 319,
    "start_time": "2022-01-15T21:58:19.384Z"
   },
   {
    "duration": 5,
    "start_time": "2022-01-15T21:58:26.336Z"
   },
   {
    "duration": 293,
    "start_time": "2022-01-16T12:04:56.093Z"
   },
   {
    "duration": 709,
    "start_time": "2022-01-16T12:05:09.462Z"
   },
   {
    "duration": 7,
    "start_time": "2022-01-16T12:05:15.492Z"
   },
   {
    "duration": 6,
    "start_time": "2022-01-16T12:05:34.075Z"
   },
   {
    "duration": 8,
    "start_time": "2022-01-16T12:05:38.011Z"
   },
   {
    "duration": 6,
    "start_time": "2022-01-16T12:05:39.874Z"
   },
   {
    "duration": 16,
    "start_time": "2022-01-16T12:05:57.051Z"
   },
   {
    "duration": 7,
    "start_time": "2022-01-16T12:06:19.059Z"
   },
   {
    "duration": 17,
    "start_time": "2022-01-16T12:06:32.876Z"
   },
   {
    "duration": 17,
    "start_time": "2022-01-16T12:06:45.643Z"
   },
   {
    "duration": 8,
    "start_time": "2022-01-16T12:06:49.430Z"
   },
   {
    "duration": 16,
    "start_time": "2022-01-16T12:07:05.789Z"
   },
   {
    "duration": 8,
    "start_time": "2022-01-16T12:07:42.973Z"
   },
   {
    "duration": 17,
    "start_time": "2022-01-16T12:08:10.854Z"
   },
   {
    "duration": 7,
    "start_time": "2022-01-16T12:09:01.406Z"
   },
   {
    "duration": 19,
    "start_time": "2022-01-16T12:09:19.983Z"
   },
   {
    "duration": 7,
    "start_time": "2022-01-16T12:12:34.045Z"
   },
   {
    "duration": 4,
    "start_time": "2022-01-16T12:16:08.606Z"
   },
   {
    "duration": 5,
    "start_time": "2022-01-16T12:16:11.462Z"
   },
   {
    "duration": 6,
    "start_time": "2022-01-16T12:16:41.343Z"
   },
   {
    "duration": 9,
    "start_time": "2022-01-16T12:16:56.303Z"
   },
   {
    "duration": 7,
    "start_time": "2022-01-16T12:17:04.184Z"
   },
   {
    "duration": 7,
    "start_time": "2022-01-16T12:18:12.145Z"
   },
   {
    "duration": 25,
    "start_time": "2022-01-16T12:46:54.507Z"
   },
   {
    "duration": 10,
    "start_time": "2022-01-16T13:06:53.579Z"
   },
   {
    "duration": 10,
    "start_time": "2022-01-16T13:07:07.408Z"
   },
   {
    "duration": 14,
    "start_time": "2022-01-16T13:08:24.602Z"
   },
   {
    "duration": 6,
    "start_time": "2022-01-16T13:09:05.690Z"
   },
   {
    "duration": 6,
    "start_time": "2022-01-16T13:09:57.493Z"
   },
   {
    "duration": 7,
    "start_time": "2022-01-16T13:10:02.379Z"
   },
   {
    "duration": 7,
    "start_time": "2022-01-16T13:10:43.392Z"
   },
   {
    "duration": 3,
    "start_time": "2022-01-16T13:21:47.586Z"
   },
   {
    "duration": 13,
    "start_time": "2022-01-16T13:21:55.410Z"
   },
   {
    "duration": 13,
    "start_time": "2022-01-16T13:22:08.794Z"
   },
   {
    "duration": 20,
    "start_time": "2022-01-16T13:22:39.269Z"
   },
   {
    "duration": 602,
    "start_time": "2022-01-16T13:24:55.025Z"
   },
   {
    "duration": 489,
    "start_time": "2022-01-16T13:25:11.829Z"
   },
   {
    "duration": 16,
    "start_time": "2022-01-16T13:29:46.411Z"
   },
   {
    "duration": 21,
    "start_time": "2022-01-16T13:31:11.303Z"
   },
   {
    "duration": 91,
    "start_time": "2022-01-16T13:32:01.712Z"
   },
   {
    "duration": 20,
    "start_time": "2022-01-16T13:32:07.525Z"
   },
   {
    "duration": 322,
    "start_time": "2022-01-16T13:37:32.391Z"
   },
   {
    "duration": 2,
    "start_time": "2022-01-16T13:37:38.698Z"
   },
   {
    "duration": 12,
    "start_time": "2022-01-16T13:37:40.566Z"
   },
   {
    "duration": 20,
    "start_time": "2022-01-16T13:37:49.606Z"
   },
   {
    "duration": 65,
    "start_time": "2022-01-16T13:38:00.464Z"
   },
   {
    "duration": 20,
    "start_time": "2022-01-16T13:38:05.500Z"
   },
   {
    "duration": 2,
    "start_time": "2022-01-16T13:38:18.051Z"
   },
   {
    "duration": 19,
    "start_time": "2022-01-16T13:38:19.876Z"
   },
   {
    "duration": 8,
    "start_time": "2022-01-16T14:05:57.413Z"
   },
   {
    "duration": 13,
    "start_time": "2022-01-16T14:06:10.410Z"
   },
   {
    "duration": 337,
    "start_time": "2022-01-16T14:12:16.070Z"
   },
   {
    "duration": 325,
    "start_time": "2022-01-16T14:12:20.234Z"
   },
   {
    "duration": 258,
    "start_time": "2022-01-16T14:12:49.676Z"
   },
   {
    "duration": 243,
    "start_time": "2022-01-16T14:12:52.754Z"
   },
   {
    "duration": 258,
    "start_time": "2022-01-16T14:13:07.555Z"
   },
   {
    "duration": 260,
    "start_time": "2022-01-16T14:13:17.084Z"
   },
   {
    "duration": 369,
    "start_time": "2022-01-16T14:13:28.476Z"
   },
   {
    "duration": 79,
    "start_time": "2022-01-16T14:13:31.915Z"
   },
   {
    "duration": 81,
    "start_time": "2022-01-16T14:13:38.238Z"
   },
   {
    "duration": 245,
    "start_time": "2022-01-16T14:13:42.178Z"
   },
   {
    "duration": 19,
    "start_time": "2022-01-16T14:14:33.037Z"
   },
   {
    "duration": 9,
    "start_time": "2022-01-16T14:14:48.689Z"
   },
   {
    "duration": 84,
    "start_time": "2022-01-16T14:17:18.444Z"
   },
   {
    "duration": 11,
    "start_time": "2022-01-16T14:19:19.059Z"
   },
   {
    "duration": 8,
    "start_time": "2022-01-16T14:22:44.175Z"
   },
   {
    "duration": 11,
    "start_time": "2022-01-16T14:24:13.472Z"
   },
   {
    "duration": 358,
    "start_time": "2022-01-16T14:25:46.724Z"
   },
   {
    "duration": 374,
    "start_time": "2022-01-16T14:25:56.212Z"
   },
   {
    "duration": 308,
    "start_time": "2022-01-16T14:26:00.281Z"
   },
   {
    "duration": 421,
    "start_time": "2022-01-16T14:26:19.643Z"
   },
   {
    "duration": 250,
    "start_time": "2022-01-16T14:26:47.172Z"
   },
   {
    "duration": 269,
    "start_time": "2022-01-16T14:27:11.835Z"
   },
   {
    "duration": 262,
    "start_time": "2022-01-16T14:27:13.948Z"
   },
   {
    "duration": 255,
    "start_time": "2022-01-16T14:27:16.040Z"
   },
   {
    "duration": 4,
    "start_time": "2022-01-16T14:28:01.349Z"
   },
   {
    "duration": 8,
    "start_time": "2022-01-16T14:28:26.862Z"
   },
   {
    "duration": 6,
    "start_time": "2022-01-16T14:28:39.908Z"
   },
   {
    "duration": 9,
    "start_time": "2022-01-16T14:28:48.061Z"
   },
   {
    "duration": 8,
    "start_time": "2022-01-16T14:29:02.296Z"
   },
   {
    "duration": 7,
    "start_time": "2022-01-16T15:08:37.498Z"
   },
   {
    "duration": 26,
    "start_time": "2022-01-16T15:09:14.922Z"
   },
   {
    "duration": 12,
    "start_time": "2022-01-16T15:09:41.977Z"
   },
   {
    "duration": 8,
    "start_time": "2022-01-16T15:10:10.919Z"
   },
   {
    "duration": 8,
    "start_time": "2022-01-16T15:10:24.757Z"
   },
   {
    "duration": 8,
    "start_time": "2022-01-16T15:11:41.350Z"
   },
   {
    "duration": 4,
    "start_time": "2022-01-16T15:43:13.795Z"
   },
   {
    "duration": 6,
    "start_time": "2022-01-16T15:43:21.561Z"
   },
   {
    "duration": 4,
    "start_time": "2022-01-16T15:43:29.553Z"
   },
   {
    "duration": 7,
    "start_time": "2022-01-16T15:43:42.522Z"
   },
   {
    "duration": 8,
    "start_time": "2022-01-16T15:44:38.298Z"
   },
   {
    "duration": 9,
    "start_time": "2022-01-16T15:44:40.955Z"
   },
   {
    "duration": 8,
    "start_time": "2022-01-16T15:44:44.450Z"
   },
   {
    "duration": 9,
    "start_time": "2022-01-16T15:44:46.676Z"
   },
   {
    "duration": 7,
    "start_time": "2022-01-16T17:13:53.248Z"
   },
   {
    "duration": 7,
    "start_time": "2022-01-16T17:25:16.398Z"
   },
   {
    "duration": 7,
    "start_time": "2022-01-16T17:25:57.854Z"
   },
   {
    "duration": 7,
    "start_time": "2022-01-16T17:26:29.310Z"
   },
   {
    "duration": 7,
    "start_time": "2022-01-16T17:28:11.050Z"
   },
   {
    "duration": 7,
    "start_time": "2022-01-16T17:28:19.360Z"
   },
   {
    "duration": 7,
    "start_time": "2022-01-16T17:29:14.345Z"
   },
   {
    "duration": 8,
    "start_time": "2022-01-16T17:29:29.081Z"
   },
   {
    "duration": 85,
    "start_time": "2022-01-16T17:29:48.801Z"
   },
   {
    "duration": 8,
    "start_time": "2022-01-16T17:30:22.818Z"
   },
   {
    "duration": 9,
    "start_time": "2022-01-16T17:32:09.557Z"
   },
   {
    "duration": 10,
    "start_time": "2022-01-16T17:32:34.783Z"
   },
   {
    "duration": 11,
    "start_time": "2022-01-16T17:32:52.821Z"
   },
   {
    "duration": 19,
    "start_time": "2022-01-16T17:36:32.779Z"
   },
   {
    "duration": 18,
    "start_time": "2022-01-16T17:36:41.401Z"
   },
   {
    "duration": 18,
    "start_time": "2022-01-16T17:38:25.884Z"
   },
   {
    "duration": 8,
    "start_time": "2022-01-16T17:39:13.946Z"
   },
   {
    "duration": 19,
    "start_time": "2022-01-16T17:42:24.009Z"
   },
   {
    "duration": 20,
    "start_time": "2022-01-16T17:50:45.697Z"
   },
   {
    "duration": 19,
    "start_time": "2022-01-16T17:51:11.906Z"
   },
   {
    "duration": 323,
    "start_time": "2022-01-16T17:57:07.825Z"
   },
   {
    "duration": 22,
    "start_time": "2022-01-16T17:57:17.698Z"
   },
   {
    "duration": 5,
    "start_time": "2022-01-16T17:57:32.521Z"
   },
   {
    "duration": 6,
    "start_time": "2022-01-16T17:57:45.516Z"
   },
   {
    "duration": 20,
    "start_time": "2022-01-16T17:58:17.290Z"
   },
   {
    "duration": 6,
    "start_time": "2022-01-16T17:58:23.626Z"
   },
   {
    "duration": 7,
    "start_time": "2022-01-16T17:58:36.536Z"
   },
   {
    "duration": 6,
    "start_time": "2022-01-16T17:58:41.562Z"
   },
   {
    "duration": 18,
    "start_time": "2022-01-16T17:59:08.836Z"
   },
   {
    "duration": 18,
    "start_time": "2022-01-16T17:59:10.818Z"
   },
   {
    "duration": 8,
    "start_time": "2022-01-16T17:59:13.058Z"
   },
   {
    "duration": 19,
    "start_time": "2022-01-16T18:01:44.608Z"
   },
   {
    "duration": 21,
    "start_time": "2022-01-16T18:02:38.226Z"
   },
   {
    "duration": 9,
    "start_time": "2022-01-16T18:06:28.446Z"
   },
   {
    "duration": 9,
    "start_time": "2022-01-16T18:10:18.481Z"
   },
   {
    "duration": 2436,
    "start_time": "2022-01-16T18:30:59.994Z"
   },
   {
    "duration": 14,
    "start_time": "2022-01-16T18:32:52.048Z"
   },
   {
    "duration": 14,
    "start_time": "2022-01-16T18:33:01.476Z"
   },
   {
    "duration": 6,
    "start_time": "2022-01-16T18:35:26.204Z"
   },
   {
    "duration": 7,
    "start_time": "2022-01-16T18:35:55.060Z"
   },
   {
    "duration": 8,
    "start_time": "2022-01-16T18:39:15.888Z"
   },
   {
    "duration": 14,
    "start_time": "2022-01-16T19:13:43.601Z"
   },
   {
    "duration": 83,
    "start_time": "2022-01-16T19:18:33.439Z"
   },
   {
    "duration": 131,
    "start_time": "2022-01-16T19:20:47.513Z"
   },
   {
    "duration": 259,
    "start_time": "2022-01-16T19:20:51.094Z"
   },
   {
    "duration": 10,
    "start_time": "2022-01-16T19:20:56.080Z"
   },
   {
    "duration": 87,
    "start_time": "2022-01-16T19:22:36.074Z"
   },
   {
    "duration": 18,
    "start_time": "2022-01-16T19:22:38.808Z"
   },
   {
    "duration": 381,
    "start_time": "2022-01-17T08:19:15.349Z"
   },
   {
    "duration": 259,
    "start_time": "2022-01-17T08:19:45.263Z"
   },
   {
    "duration": 686,
    "start_time": "2022-01-17T08:19:51.173Z"
   },
   {
    "duration": 12,
    "start_time": "2022-01-17T08:19:56.027Z"
   },
   {
    "duration": 61,
    "start_time": "2022-01-17T08:20:01.055Z"
   },
   {
    "duration": 14,
    "start_time": "2022-01-17T08:20:05.245Z"
   },
   {
    "duration": 6,
    "start_time": "2022-01-17T08:20:08.363Z"
   },
   {
    "duration": 6,
    "start_time": "2022-01-17T08:20:10.534Z"
   },
   {
    "duration": 6,
    "start_time": "2022-01-17T08:20:12.612Z"
   },
   {
    "duration": 7,
    "start_time": "2022-01-17T08:20:14.907Z"
   },
   {
    "duration": 6,
    "start_time": "2022-01-17T08:20:17.138Z"
   },
   {
    "duration": 17,
    "start_time": "2022-01-17T08:20:19.997Z"
   },
   {
    "duration": 6,
    "start_time": "2022-01-17T08:20:22.077Z"
   },
   {
    "duration": 17,
    "start_time": "2022-01-17T08:20:24.164Z"
   },
   {
    "duration": 7,
    "start_time": "2022-01-17T08:20:26.044Z"
   },
   {
    "duration": 18,
    "start_time": "2022-01-17T08:20:28.514Z"
   },
   {
    "duration": 9,
    "start_time": "2022-01-17T08:20:30.603Z"
   },
   {
    "duration": 18,
    "start_time": "2022-01-17T08:20:32.970Z"
   },
   {
    "duration": 15,
    "start_time": "2022-01-17T08:21:00.863Z"
   },
   {
    "duration": 6,
    "start_time": "2022-01-17T08:21:34.861Z"
   },
   {
    "duration": 19,
    "start_time": "2022-01-17T08:21:48.421Z"
   },
   {
    "duration": 3,
    "start_time": "2022-01-17T08:21:52.348Z"
   },
   {
    "duration": 9,
    "start_time": "2022-01-17T08:21:54.031Z"
   },
   {
    "duration": 21,
    "start_time": "2022-01-17T08:21:57.160Z"
   },
   {
    "duration": 8,
    "start_time": "2022-01-17T08:22:01.860Z"
   },
   {
    "duration": 8,
    "start_time": "2022-01-17T08:22:04.229Z"
   },
   {
    "duration": 7,
    "start_time": "2022-01-17T08:22:06.861Z"
   },
   {
    "duration": 8,
    "start_time": "2022-01-17T08:22:09.468Z"
   },
   {
    "duration": 7,
    "start_time": "2022-01-17T08:22:11.925Z"
   },
   {
    "duration": 6,
    "start_time": "2022-01-17T08:22:20.965Z"
   },
   {
    "duration": 19,
    "start_time": "2022-01-17T08:22:24.453Z"
   },
   {
    "duration": 18,
    "start_time": "2022-01-17T08:22:27.213Z"
   },
   {
    "duration": 339,
    "start_time": "2022-01-17T08:22:31.253Z"
   },
   {
    "duration": 8,
    "start_time": "2022-01-17T08:22:39.398Z"
   },
   {
    "duration": 2280,
    "start_time": "2022-01-17T08:22:43.181Z"
   },
   {
    "duration": 6,
    "start_time": "2022-01-17T08:22:48.197Z"
   },
   {
    "duration": 8,
    "start_time": "2022-01-17T08:22:50.676Z"
   },
   {
    "duration": 8,
    "start_time": "2022-01-17T08:22:55.805Z"
   },
   {
    "duration": 15,
    "start_time": "2022-01-17T08:22:59.213Z"
   },
   {
    "duration": 10,
    "start_time": "2022-01-17T08:23:01.917Z"
   },
   {
    "duration": 19,
    "start_time": "2022-01-17T08:23:04.429Z"
   },
   {
    "duration": 28,
    "start_time": "2022-01-17T08:23:07.054Z"
   },
   {
    "duration": 31,
    "start_time": "2022-01-17T08:28:54.724Z"
   },
   {
    "duration": 11,
    "start_time": "2022-01-17T08:30:54.739Z"
   },
   {
    "duration": 73,
    "start_time": "2022-01-17T08:40:44.044Z"
   },
   {
    "duration": 68,
    "start_time": "2022-01-17T08:41:15.592Z"
   },
   {
    "duration": 10,
    "start_time": "2022-01-17T08:41:15.662Z"
   },
   {
    "duration": 62,
    "start_time": "2022-01-17T08:41:15.674Z"
   },
   {
    "duration": 44,
    "start_time": "2022-01-17T08:41:15.738Z"
   },
   {
    "duration": 77,
    "start_time": "2022-01-17T08:41:15.784Z"
   },
   {
    "duration": 99,
    "start_time": "2022-01-17T08:41:15.863Z"
   },
   {
    "duration": 80,
    "start_time": "2022-01-17T08:41:15.964Z"
   },
   {
    "duration": 60,
    "start_time": "2022-01-17T08:41:16.047Z"
   },
   {
    "duration": 77,
    "start_time": "2022-01-17T08:41:16.109Z"
   },
   {
    "duration": 101,
    "start_time": "2022-01-17T08:41:16.188Z"
   },
   {
    "duration": 77,
    "start_time": "2022-01-17T08:41:16.291Z"
   },
   {
    "duration": 57,
    "start_time": "2022-01-17T08:41:16.369Z"
   },
   {
    "duration": 75,
    "start_time": "2022-01-17T08:41:16.428Z"
   },
   {
    "duration": 33,
    "start_time": "2022-01-17T08:41:16.505Z"
   },
   {
    "duration": 41,
    "start_time": "2022-01-17T08:41:16.540Z"
   },
   {
    "duration": 34,
    "start_time": "2022-01-17T08:41:16.584Z"
   },
   {
    "duration": 52,
    "start_time": "2022-01-17T08:41:16.620Z"
   },
   {
    "duration": 54,
    "start_time": "2022-01-17T08:41:16.674Z"
   },
   {
    "duration": 55,
    "start_time": "2022-01-17T08:41:16.731Z"
   },
   {
    "duration": 109,
    "start_time": "2022-01-17T08:41:16.788Z"
   },
   {
    "duration": 816,
    "start_time": "2022-01-17T08:41:16.085Z"
   },
   {
    "duration": 811,
    "start_time": "2022-01-17T08:41:16.091Z"
   },
   {
    "duration": 808,
    "start_time": "2022-01-17T08:41:16.096Z"
   },
   {
    "duration": 805,
    "start_time": "2022-01-17T08:41:16.100Z"
   },
   {
    "duration": 803,
    "start_time": "2022-01-17T08:41:16.104Z"
   },
   {
    "duration": 799,
    "start_time": "2022-01-17T08:41:16.109Z"
   },
   {
    "duration": 786,
    "start_time": "2022-01-17T08:41:16.124Z"
   },
   {
    "duration": 783,
    "start_time": "2022-01-17T08:41:16.128Z"
   },
   {
    "duration": 781,
    "start_time": "2022-01-17T08:41:16.132Z"
   },
   {
    "duration": 777,
    "start_time": "2022-01-17T08:41:16.137Z"
   },
   {
    "duration": 774,
    "start_time": "2022-01-17T08:41:16.142Z"
   },
   {
    "duration": 771,
    "start_time": "2022-01-17T08:41:16.146Z"
   },
   {
    "duration": 769,
    "start_time": "2022-01-17T08:41:16.150Z"
   },
   {
    "duration": 766,
    "start_time": "2022-01-17T08:41:16.154Z"
   },
   {
    "duration": 762,
    "start_time": "2022-01-17T08:41:16.159Z"
   },
   {
    "duration": 758,
    "start_time": "2022-01-17T08:41:16.164Z"
   },
   {
    "duration": 755,
    "start_time": "2022-01-17T08:41:16.169Z"
   },
   {
    "duration": 751,
    "start_time": "2022-01-17T08:41:16.174Z"
   },
   {
    "duration": 748,
    "start_time": "2022-01-17T08:41:16.178Z"
   },
   {
    "duration": 745,
    "start_time": "2022-01-17T08:41:16.182Z"
   },
   {
    "duration": 742,
    "start_time": "2022-01-17T08:41:16.186Z"
   },
   {
    "duration": 738,
    "start_time": "2022-01-17T08:41:16.191Z"
   },
   {
    "duration": 734,
    "start_time": "2022-01-17T08:41:16.196Z"
   },
   {
    "duration": 727,
    "start_time": "2022-01-17T08:41:16.204Z"
   },
   {
    "duration": 650,
    "start_time": "2022-01-17T08:43:53.006Z"
   },
   {
    "duration": 12,
    "start_time": "2022-01-17T08:54:12.420Z"
   },
   {
    "duration": 12,
    "start_time": "2022-01-17T08:54:21.849Z"
   },
   {
    "duration": 11,
    "start_time": "2022-01-17T08:54:33.313Z"
   },
   {
    "duration": 13,
    "start_time": "2022-01-17T09:20:36.226Z"
   },
   {
    "duration": 21,
    "start_time": "2022-01-17T09:20:56.077Z"
   },
   {
    "duration": 6,
    "start_time": "2022-01-17T09:31:39.401Z"
   },
   {
    "duration": 21,
    "start_time": "2022-01-17T09:33:11.979Z"
   },
   {
    "duration": 82,
    "start_time": "2022-01-17T09:33:37.382Z"
   },
   {
    "duration": 11,
    "start_time": "2022-01-17T09:33:37.466Z"
   },
   {
    "duration": 31,
    "start_time": "2022-01-17T09:33:37.479Z"
   },
   {
    "duration": 8,
    "start_time": "2022-01-17T09:33:37.512Z"
   },
   {
    "duration": 13,
    "start_time": "2022-01-17T09:33:37.522Z"
   },
   {
    "duration": 10,
    "start_time": "2022-01-17T09:33:37.536Z"
   },
   {
    "duration": 9,
    "start_time": "2022-01-17T09:33:37.561Z"
   },
   {
    "duration": 9,
    "start_time": "2022-01-17T09:33:37.573Z"
   },
   {
    "duration": 29,
    "start_time": "2022-01-17T09:33:37.584Z"
   },
   {
    "duration": 16,
    "start_time": "2022-01-17T09:33:37.615Z"
   },
   {
    "duration": 32,
    "start_time": "2022-01-17T09:33:37.633Z"
   },
   {
    "duration": 26,
    "start_time": "2022-01-17T09:33:37.667Z"
   },
   {
    "duration": 30,
    "start_time": "2022-01-17T09:33:37.694Z"
   },
   {
    "duration": 38,
    "start_time": "2022-01-17T09:33:37.726Z"
   },
   {
    "duration": 41,
    "start_time": "2022-01-17T09:33:37.766Z"
   },
   {
    "duration": 34,
    "start_time": "2022-01-17T09:33:37.809Z"
   },
   {
    "duration": 42,
    "start_time": "2022-01-17T09:33:37.845Z"
   },
   {
    "duration": 30,
    "start_time": "2022-01-17T09:33:37.889Z"
   },
   {
    "duration": 68,
    "start_time": "2022-01-17T09:33:37.920Z"
   },
   {
    "duration": 149,
    "start_time": "2022-01-17T09:33:37.990Z"
   },
   {
    "duration": 828,
    "start_time": "2022-01-17T09:33:37.315Z"
   },
   {
    "duration": 824,
    "start_time": "2022-01-17T09:33:37.320Z"
   },
   {
    "duration": 793,
    "start_time": "2022-01-17T09:33:37.352Z"
   },
   {
    "duration": 788,
    "start_time": "2022-01-17T09:33:37.359Z"
   },
   {
    "duration": 784,
    "start_time": "2022-01-17T09:33:37.364Z"
   },
   {
    "duration": 781,
    "start_time": "2022-01-17T09:33:37.369Z"
   },
   {
    "duration": 777,
    "start_time": "2022-01-17T09:33:37.375Z"
   },
   {
    "duration": 774,
    "start_time": "2022-01-17T09:33:37.379Z"
   },
   {
    "duration": 770,
    "start_time": "2022-01-17T09:33:37.384Z"
   },
   {
    "duration": 766,
    "start_time": "2022-01-17T09:33:37.389Z"
   },
   {
    "duration": 761,
    "start_time": "2022-01-17T09:33:37.395Z"
   },
   {
    "duration": 757,
    "start_time": "2022-01-17T09:33:37.400Z"
   },
   {
    "duration": 753,
    "start_time": "2022-01-17T09:33:37.405Z"
   },
   {
    "duration": 750,
    "start_time": "2022-01-17T09:33:37.409Z"
   },
   {
    "duration": 745,
    "start_time": "2022-01-17T09:33:37.415Z"
   },
   {
    "duration": 740,
    "start_time": "2022-01-17T09:33:37.421Z"
   },
   {
    "duration": 735,
    "start_time": "2022-01-17T09:33:37.427Z"
   },
   {
    "duration": 732,
    "start_time": "2022-01-17T09:33:37.431Z"
   },
   {
    "duration": 726,
    "start_time": "2022-01-17T09:33:37.437Z"
   },
   {
    "duration": 723,
    "start_time": "2022-01-17T09:33:37.441Z"
   },
   {
    "duration": 720,
    "start_time": "2022-01-17T09:33:37.445Z"
   },
   {
    "duration": 716,
    "start_time": "2022-01-17T09:33:37.450Z"
   },
   {
    "duration": 698,
    "start_time": "2022-01-17T09:33:37.469Z"
   },
   {
    "duration": 693,
    "start_time": "2022-01-17T09:33:37.475Z"
   },
   {
    "duration": 689,
    "start_time": "2022-01-17T09:33:37.480Z"
   },
   {
    "duration": 686,
    "start_time": "2022-01-17T09:33:37.484Z"
   },
   {
    "duration": 682,
    "start_time": "2022-01-17T09:33:37.488Z"
   },
   {
    "duration": 62,
    "start_time": "2022-01-17T09:34:04.971Z"
   },
   {
    "duration": 11,
    "start_time": "2022-01-17T09:34:05.035Z"
   },
   {
    "duration": 21,
    "start_time": "2022-01-17T09:34:05.048Z"
   },
   {
    "duration": 5,
    "start_time": "2022-01-17T09:34:05.071Z"
   },
   {
    "duration": 11,
    "start_time": "2022-01-17T09:34:05.077Z"
   },
   {
    "duration": 6,
    "start_time": "2022-01-17T09:34:05.089Z"
   },
   {
    "duration": 9,
    "start_time": "2022-01-17T09:34:05.096Z"
   },
   {
    "duration": 6,
    "start_time": "2022-01-17T09:34:05.107Z"
   },
   {
    "duration": 51,
    "start_time": "2022-01-17T09:34:05.115Z"
   },
   {
    "duration": 6,
    "start_time": "2022-01-17T09:34:05.168Z"
   },
   {
    "duration": 16,
    "start_time": "2022-01-17T09:34:05.175Z"
   },
   {
    "duration": 8,
    "start_time": "2022-01-17T09:34:05.193Z"
   },
   {
    "duration": 14,
    "start_time": "2022-01-17T09:34:05.203Z"
   },
   {
    "duration": 6,
    "start_time": "2022-01-17T09:34:05.219Z"
   },
   {
    "duration": 48,
    "start_time": "2022-01-17T09:34:05.226Z"
   },
   {
    "duration": 7,
    "start_time": "2022-01-17T09:34:05.275Z"
   },
   {
    "duration": 19,
    "start_time": "2022-01-17T09:34:05.283Z"
   },
   {
    "duration": 2,
    "start_time": "2022-01-17T09:34:05.304Z"
   },
   {
    "duration": 11,
    "start_time": "2022-01-17T09:34:05.308Z"
   },
   {
    "duration": 50,
    "start_time": "2022-01-17T09:34:05.321Z"
   },
   {
    "duration": 7,
    "start_time": "2022-01-17T09:34:05.372Z"
   },
   {
    "duration": 6,
    "start_time": "2022-01-17T09:34:05.381Z"
   },
   {
    "duration": 11,
    "start_time": "2022-01-17T09:34:05.390Z"
   },
   {
    "duration": 11,
    "start_time": "2022-01-17T09:34:05.403Z"
   },
   {
    "duration": 8,
    "start_time": "2022-01-17T09:34:05.416Z"
   },
   {
    "duration": 85,
    "start_time": "2022-01-17T09:34:05.425Z"
   },
   {
    "duration": 611,
    "start_time": "2022-01-17T09:34:04.901Z"
   },
   {
    "duration": 608,
    "start_time": "2022-01-17T09:34:04.905Z"
   },
   {
    "duration": 605,
    "start_time": "2022-01-17T09:34:04.909Z"
   },
   {
    "duration": 603,
    "start_time": "2022-01-17T09:34:04.912Z"
   },
   {
    "duration": 599,
    "start_time": "2022-01-17T09:34:04.917Z"
   },
   {
    "duration": 597,
    "start_time": "2022-01-17T09:34:04.920Z"
   },
   {
    "duration": 594,
    "start_time": "2022-01-17T09:34:04.924Z"
   },
   {
    "duration": 591,
    "start_time": "2022-01-17T09:34:04.928Z"
   },
   {
    "duration": 587,
    "start_time": "2022-01-17T09:34:04.933Z"
   },
   {
    "duration": 584,
    "start_time": "2022-01-17T09:34:04.937Z"
   },
   {
    "duration": 581,
    "start_time": "2022-01-17T09:34:04.941Z"
   },
   {
    "duration": 578,
    "start_time": "2022-01-17T09:34:04.945Z"
   },
   {
    "duration": 552,
    "start_time": "2022-01-17T09:34:04.972Z"
   },
   {
    "duration": 546,
    "start_time": "2022-01-17T09:34:04.979Z"
   },
   {
    "duration": 541,
    "start_time": "2022-01-17T09:34:04.985Z"
   },
   {
    "duration": 538,
    "start_time": "2022-01-17T09:34:04.989Z"
   },
   {
    "duration": 535,
    "start_time": "2022-01-17T09:34:04.993Z"
   },
   {
    "duration": 532,
    "start_time": "2022-01-17T09:34:04.997Z"
   },
   {
    "duration": 528,
    "start_time": "2022-01-17T09:34:05.002Z"
   },
   {
    "duration": 526,
    "start_time": "2022-01-17T09:34:05.005Z"
   },
   {
    "duration": 63,
    "start_time": "2022-01-17T09:35:04.195Z"
   },
   {
    "duration": 11,
    "start_time": "2022-01-17T09:35:04.259Z"
   },
   {
    "duration": 31,
    "start_time": "2022-01-17T09:35:04.272Z"
   },
   {
    "duration": 16,
    "start_time": "2022-01-17T09:35:04.305Z"
   },
   {
    "duration": 26,
    "start_time": "2022-01-17T09:35:04.323Z"
   },
   {
    "duration": 16,
    "start_time": "2022-01-17T09:35:04.350Z"
   },
   {
    "duration": 34,
    "start_time": "2022-01-17T09:35:04.367Z"
   },
   {
    "duration": 18,
    "start_time": "2022-01-17T09:35:04.403Z"
   },
   {
    "duration": 31,
    "start_time": "2022-01-17T09:35:04.423Z"
   },
   {
    "duration": 62,
    "start_time": "2022-01-17T09:35:04.456Z"
   },
   {
    "duration": 15,
    "start_time": "2022-01-17T09:35:04.520Z"
   },
   {
    "duration": 25,
    "start_time": "2022-01-17T09:35:04.537Z"
   },
   {
    "duration": 29,
    "start_time": "2022-01-17T09:35:04.564Z"
   },
   {
    "duration": 10,
    "start_time": "2022-01-17T09:35:04.595Z"
   },
   {
    "duration": 23,
    "start_time": "2022-01-17T09:35:04.607Z"
   },
   {
    "duration": 17,
    "start_time": "2022-01-17T09:35:04.632Z"
   },
   {
    "duration": 42,
    "start_time": "2022-01-17T09:35:04.651Z"
   },
   {
    "duration": 13,
    "start_time": "2022-01-17T09:35:04.695Z"
   },
   {
    "duration": 17,
    "start_time": "2022-01-17T09:35:04.710Z"
   },
   {
    "duration": 34,
    "start_time": "2022-01-17T09:35:04.729Z"
   },
   {
    "duration": 9,
    "start_time": "2022-01-17T09:35:04.765Z"
   },
   {
    "duration": 30,
    "start_time": "2022-01-17T09:35:04.776Z"
   },
   {
    "duration": 10,
    "start_time": "2022-01-17T09:35:04.810Z"
   },
   {
    "duration": 9,
    "start_time": "2022-01-17T09:35:04.823Z"
   },
   {
    "duration": 20,
    "start_time": "2022-01-17T09:35:04.834Z"
   },
   {
    "duration": 14,
    "start_time": "2022-01-17T09:35:04.860Z"
   },
   {
    "duration": 23,
    "start_time": "2022-01-17T09:35:04.876Z"
   },
   {
    "duration": 21,
    "start_time": "2022-01-17T09:35:04.901Z"
   },
   {
    "duration": 10,
    "start_time": "2022-01-17T09:35:04.924Z"
   },
   {
    "duration": 2497,
    "start_time": "2022-01-17T09:35:04.936Z"
   },
   {
    "duration": 6,
    "start_time": "2022-01-17T09:35:07.435Z"
   },
   {
    "duration": 21,
    "start_time": "2022-01-17T09:35:07.443Z"
   },
   {
    "duration": 88,
    "start_time": "2022-01-17T09:35:07.466Z"
   },
   {
    "duration": 898,
    "start_time": "2022-01-17T09:35:06.658Z"
   },
   {
    "duration": 868,
    "start_time": "2022-01-17T09:35:06.689Z"
   },
   {
    "duration": 864,
    "start_time": "2022-01-17T09:35:06.695Z"
   },
   {
    "duration": 852,
    "start_time": "2022-01-17T09:35:06.708Z"
   },
   {
    "duration": 834,
    "start_time": "2022-01-17T09:35:06.727Z"
   },
   {
    "duration": 816,
    "start_time": "2022-01-17T09:35:06.746Z"
   },
   {
    "duration": 783,
    "start_time": "2022-01-17T09:35:06.780Z"
   },
   {
    "duration": 767,
    "start_time": "2022-01-17T09:35:06.797Z"
   },
   {
    "duration": 736,
    "start_time": "2022-01-17T09:35:06.829Z"
   },
   {
    "duration": 720,
    "start_time": "2022-01-17T09:35:06.846Z"
   },
   {
    "duration": 64,
    "start_time": "2022-01-17T09:35:32.134Z"
   },
   {
    "duration": 10,
    "start_time": "2022-01-17T09:35:32.199Z"
   },
   {
    "duration": 16,
    "start_time": "2022-01-17T09:35:32.211Z"
   },
   {
    "duration": 33,
    "start_time": "2022-01-17T09:35:32.229Z"
   },
   {
    "duration": 8,
    "start_time": "2022-01-17T09:35:32.264Z"
   },
   {
    "duration": 7,
    "start_time": "2022-01-17T09:35:32.273Z"
   },
   {
    "duration": 9,
    "start_time": "2022-01-17T09:35:32.282Z"
   },
   {
    "duration": 9,
    "start_time": "2022-01-17T09:35:32.294Z"
   },
   {
    "duration": 58,
    "start_time": "2022-01-17T09:35:32.305Z"
   },
   {
    "duration": 6,
    "start_time": "2022-01-17T09:35:32.365Z"
   },
   {
    "duration": 15,
    "start_time": "2022-01-17T09:35:32.373Z"
   },
   {
    "duration": 6,
    "start_time": "2022-01-17T09:35:32.390Z"
   },
   {
    "duration": 14,
    "start_time": "2022-01-17T09:35:32.398Z"
   },
   {
    "duration": 6,
    "start_time": "2022-01-17T09:35:32.414Z"
   },
   {
    "duration": 16,
    "start_time": "2022-01-17T09:35:32.461Z"
   },
   {
    "duration": 6,
    "start_time": "2022-01-17T09:35:32.479Z"
   },
   {
    "duration": 21,
    "start_time": "2022-01-17T09:35:32.487Z"
   },
   {
    "duration": 3,
    "start_time": "2022-01-17T09:35:32.510Z"
   },
   {
    "duration": 11,
    "start_time": "2022-01-17T09:35:32.515Z"
   },
   {
    "duration": 22,
    "start_time": "2022-01-17T09:35:32.560Z"
   },
   {
    "duration": 8,
    "start_time": "2022-01-17T09:35:32.585Z"
   },
   {
    "duration": 9,
    "start_time": "2022-01-17T09:35:32.594Z"
   },
   {
    "duration": 7,
    "start_time": "2022-01-17T09:35:32.607Z"
   },
   {
    "duration": 47,
    "start_time": "2022-01-17T09:35:32.616Z"
   },
   {
    "duration": 6,
    "start_time": "2022-01-17T09:35:32.665Z"
   },
   {
    "duration": 6,
    "start_time": "2022-01-17T09:35:32.673Z"
   },
   {
    "duration": 19,
    "start_time": "2022-01-17T09:35:32.680Z"
   },
   {
    "duration": 18,
    "start_time": "2022-01-17T09:35:32.701Z"
   },
   {
    "duration": 47,
    "start_time": "2022-01-17T09:35:32.720Z"
   },
   {
    "duration": 2459,
    "start_time": "2022-01-17T09:35:32.769Z"
   },
   {
    "duration": 6,
    "start_time": "2022-01-17T09:35:35.230Z"
   },
   {
    "duration": 9,
    "start_time": "2022-01-17T09:35:35.237Z"
   },
   {
    "duration": 9,
    "start_time": "2022-01-17T09:35:35.261Z"
   },
   {
    "duration": 13,
    "start_time": "2022-01-17T09:35:35.272Z"
   },
   {
    "duration": 11,
    "start_time": "2022-01-17T09:35:35.287Z"
   },
   {
    "duration": 62,
    "start_time": "2022-01-17T09:35:35.300Z"
   },
   {
    "duration": 40,
    "start_time": "2022-01-17T09:35:35.364Z"
   },
   {
    "duration": 38,
    "start_time": "2022-01-17T09:35:35.406Z"
   },
   {
    "duration": 16,
    "start_time": "2022-01-17T09:35:35.462Z"
   },
   {
    "duration": 715,
    "start_time": "2022-01-17T09:35:35.481Z"
   },
   {
    "duration": 33,
    "start_time": "2022-01-17T09:35:36.198Z"
   },
   {
    "duration": 9,
    "start_time": "2022-01-17T09:35:36.233Z"
   },
   {
    "duration": 86,
    "start_time": "2022-01-17T10:00:51.321Z"
   },
   {
    "duration": 12,
    "start_time": "2022-01-17T10:00:51.410Z"
   },
   {
    "duration": 47,
    "start_time": "2022-01-17T10:00:51.425Z"
   },
   {
    "duration": 23,
    "start_time": "2022-01-17T10:00:51.474Z"
   },
   {
    "duration": 30,
    "start_time": "2022-01-17T10:00:51.498Z"
   },
   {
    "duration": 23,
    "start_time": "2022-01-17T10:00:51.530Z"
   },
   {
    "duration": 39,
    "start_time": "2022-01-17T10:00:51.555Z"
   },
   {
    "duration": 36,
    "start_time": "2022-01-17T10:00:51.597Z"
   },
   {
    "duration": 44,
    "start_time": "2022-01-17T10:00:51.636Z"
   },
   {
    "duration": 26,
    "start_time": "2022-01-17T10:00:51.681Z"
   },
   {
    "duration": 44,
    "start_time": "2022-01-17T10:00:51.709Z"
   },
   {
    "duration": 43,
    "start_time": "2022-01-17T10:00:51.755Z"
   },
   {
    "duration": 45,
    "start_time": "2022-01-17T10:00:51.800Z"
   },
   {
    "duration": 40,
    "start_time": "2022-01-17T10:00:51.847Z"
   },
   {
    "duration": 65,
    "start_time": "2022-01-17T10:00:51.889Z"
   },
   {
    "duration": 31,
    "start_time": "2022-01-17T10:00:51.956Z"
   },
   {
    "duration": 70,
    "start_time": "2022-01-17T10:00:51.989Z"
   },
   {
    "duration": 51,
    "start_time": "2022-01-17T10:00:52.061Z"
   },
   {
    "duration": 44,
    "start_time": "2022-01-17T10:00:52.114Z"
   },
   {
    "duration": 57,
    "start_time": "2022-01-17T10:00:52.160Z"
   },
   {
    "duration": 36,
    "start_time": "2022-01-17T10:00:52.219Z"
   },
   {
    "duration": 71,
    "start_time": "2022-01-17T10:00:52.257Z"
   },
   {
    "duration": 48,
    "start_time": "2022-01-17T10:00:52.332Z"
   },
   {
    "duration": 42,
    "start_time": "2022-01-17T10:00:52.382Z"
   },
   {
    "duration": 50,
    "start_time": "2022-01-17T10:00:52.426Z"
   },
   {
    "duration": 44,
    "start_time": "2022-01-17T10:00:52.478Z"
   },
   {
    "duration": 81,
    "start_time": "2022-01-17T10:00:52.524Z"
   },
   {
    "duration": 64,
    "start_time": "2022-01-17T10:00:52.607Z"
   },
   {
    "duration": 60,
    "start_time": "2022-01-17T10:00:52.673Z"
   },
   {
    "duration": 2430,
    "start_time": "2022-01-17T10:00:52.735Z"
   },
   {
    "duration": 7,
    "start_time": "2022-01-17T10:00:55.167Z"
   },
   {
    "duration": 42,
    "start_time": "2022-01-17T10:00:55.175Z"
   },
   {
    "duration": 55,
    "start_time": "2022-01-17T10:00:55.218Z"
   },
   {
    "duration": 59,
    "start_time": "2022-01-17T10:00:55.275Z"
   },
   {
    "duration": 32,
    "start_time": "2022-01-17T10:00:55.335Z"
   },
   {
    "duration": 50,
    "start_time": "2022-01-17T10:00:55.368Z"
   },
   {
    "duration": 61,
    "start_time": "2022-01-17T10:00:55.420Z"
   },
   {
    "duration": 72,
    "start_time": "2022-01-17T10:00:55.482Z"
   },
   {
    "duration": 34,
    "start_time": "2022-01-17T10:00:55.556Z"
   },
   {
    "duration": 739,
    "start_time": "2022-01-17T10:00:55.592Z"
   },
   {
    "duration": 32,
    "start_time": "2022-01-17T10:00:56.333Z"
   },
   {
    "duration": 32,
    "start_time": "2022-01-17T10:00:56.367Z"
   },
   {
    "duration": 6,
    "start_time": "2022-01-17T10:01:29.242Z"
   },
   {
    "duration": 86,
    "start_time": "2022-01-17T10:01:36.754Z"
   },
   {
    "duration": 24,
    "start_time": "2022-01-17T10:01:36.842Z"
   },
   {
    "duration": 15,
    "start_time": "2022-01-17T10:01:36.868Z"
   },
   {
    "duration": 5,
    "start_time": "2022-01-17T10:01:36.885Z"
   },
   {
    "duration": 9,
    "start_time": "2022-01-17T10:01:36.892Z"
   },
   {
    "duration": 5,
    "start_time": "2022-01-17T10:01:36.903Z"
   },
   {
    "duration": 9,
    "start_time": "2022-01-17T10:01:36.910Z"
   },
   {
    "duration": 6,
    "start_time": "2022-01-17T10:01:36.962Z"
   },
   {
    "duration": 19,
    "start_time": "2022-01-17T10:01:36.970Z"
   },
   {
    "duration": 9,
    "start_time": "2022-01-17T10:01:36.990Z"
   },
   {
    "duration": 19,
    "start_time": "2022-01-17T10:01:37.001Z"
   },
   {
    "duration": 19,
    "start_time": "2022-01-17T10:01:37.022Z"
   },
   {
    "duration": 27,
    "start_time": "2022-01-17T10:01:37.044Z"
   },
   {
    "duration": 19,
    "start_time": "2022-01-17T10:01:37.073Z"
   },
   {
    "duration": 26,
    "start_time": "2022-01-17T10:01:37.094Z"
   },
   {
    "duration": 12,
    "start_time": "2022-01-17T10:01:37.122Z"
   },
   {
    "duration": 36,
    "start_time": "2022-01-17T10:01:37.135Z"
   },
   {
    "duration": 13,
    "start_time": "2022-01-17T10:01:37.173Z"
   },
   {
    "duration": 20,
    "start_time": "2022-01-17T10:01:37.188Z"
   },
   {
    "duration": 25,
    "start_time": "2022-01-17T10:01:37.210Z"
   },
   {
    "duration": 13,
    "start_time": "2022-01-17T10:01:37.237Z"
   },
   {
    "duration": 26,
    "start_time": "2022-01-17T10:01:37.251Z"
   },
   {
    "duration": 25,
    "start_time": "2022-01-17T10:01:37.281Z"
   },
   {
    "duration": 24,
    "start_time": "2022-01-17T10:01:37.309Z"
   },
   {
    "duration": 18,
    "start_time": "2022-01-17T10:01:37.336Z"
   },
   {
    "duration": 23,
    "start_time": "2022-01-17T10:01:37.356Z"
   },
   {
    "duration": 29,
    "start_time": "2022-01-17T10:01:37.381Z"
   },
   {
    "duration": 20,
    "start_time": "2022-01-17T10:01:37.412Z"
   },
   {
    "duration": 18,
    "start_time": "2022-01-17T10:01:37.434Z"
   },
   {
    "duration": 2399,
    "start_time": "2022-01-17T10:01:37.454Z"
   },
   {
    "duration": 10,
    "start_time": "2022-01-17T10:01:39.855Z"
   },
   {
    "duration": 8,
    "start_time": "2022-01-17T10:01:39.867Z"
   },
   {
    "duration": 9,
    "start_time": "2022-01-17T10:01:39.876Z"
   },
   {
    "duration": 13,
    "start_time": "2022-01-17T10:01:39.886Z"
   },
   {
    "duration": 7,
    "start_time": "2022-01-17T10:01:39.901Z"
   },
   {
    "duration": 52,
    "start_time": "2022-01-17T10:01:39.910Z"
   },
   {
    "duration": 25,
    "start_time": "2022-01-17T10:01:39.964Z"
   },
   {
    "duration": 32,
    "start_time": "2022-01-17T10:01:39.991Z"
   },
   {
    "duration": 10,
    "start_time": "2022-01-17T10:01:40.024Z"
   },
   {
    "duration": 699,
    "start_time": "2022-01-17T10:01:40.061Z"
   },
   {
    "duration": 25,
    "start_time": "2022-01-17T10:01:40.762Z"
   },
   {
    "duration": 9,
    "start_time": "2022-01-17T10:01:40.789Z"
   },
   {
    "duration": 19,
    "start_time": "2022-01-17T10:06:00.369Z"
   },
   {
    "duration": 7,
    "start_time": "2022-01-17T10:06:31.272Z"
   },
   {
    "duration": 89,
    "start_time": "2022-01-17T10:06:45.617Z"
   },
   {
    "duration": 14,
    "start_time": "2022-01-17T10:06:45.708Z"
   },
   {
    "duration": 45,
    "start_time": "2022-01-17T10:06:45.724Z"
   },
   {
    "duration": 6,
    "start_time": "2022-01-17T10:06:45.772Z"
   },
   {
    "duration": 14,
    "start_time": "2022-01-17T10:06:45.779Z"
   },
   {
    "duration": 7,
    "start_time": "2022-01-17T10:06:45.795Z"
   },
   {
    "duration": 8,
    "start_time": "2022-01-17T10:06:45.804Z"
   },
   {
    "duration": 6,
    "start_time": "2022-01-17T10:06:45.815Z"
   },
   {
    "duration": 51,
    "start_time": "2022-01-17T10:06:45.824Z"
   },
   {
    "duration": 6,
    "start_time": "2022-01-17T10:06:45.877Z"
   },
   {
    "duration": 16,
    "start_time": "2022-01-17T10:06:45.885Z"
   },
   {
    "duration": 7,
    "start_time": "2022-01-17T10:06:45.902Z"
   },
   {
    "duration": 15,
    "start_time": "2022-01-17T10:06:45.911Z"
   },
   {
    "duration": 38,
    "start_time": "2022-01-17T10:06:45.927Z"
   },
   {
    "duration": 16,
    "start_time": "2022-01-17T10:06:45.967Z"
   },
   {
    "duration": 6,
    "start_time": "2022-01-17T10:06:45.985Z"
   },
   {
    "duration": 21,
    "start_time": "2022-01-17T10:06:45.992Z"
   },
   {
    "duration": 5,
    "start_time": "2022-01-17T10:06:46.014Z"
   },
   {
    "duration": 9,
    "start_time": "2022-01-17T10:06:46.021Z"
   },
   {
    "duration": 21,
    "start_time": "2022-01-17T10:06:46.061Z"
   },
   {
    "duration": 9,
    "start_time": "2022-01-17T10:06:46.083Z"
   },
   {
    "duration": 6,
    "start_time": "2022-01-17T10:06:46.094Z"
   },
   {
    "duration": 5,
    "start_time": "2022-01-17T10:06:46.104Z"
   },
   {
    "duration": 7,
    "start_time": "2022-01-17T10:06:46.110Z"
   },
   {
    "duration": 46,
    "start_time": "2022-01-17T10:06:46.118Z"
   },
   {
    "duration": 6,
    "start_time": "2022-01-17T10:06:46.166Z"
   },
   {
    "duration": 19,
    "start_time": "2022-01-17T10:06:46.174Z"
   },
   {
    "duration": 19,
    "start_time": "2022-01-17T10:06:46.195Z"
   },
   {
    "duration": 8,
    "start_time": "2022-01-17T10:06:46.216Z"
   },
   {
    "duration": 2485,
    "start_time": "2022-01-17T10:06:46.260Z"
   },
   {
    "duration": 15,
    "start_time": "2022-01-17T10:06:48.747Z"
   },
   {
    "duration": 13,
    "start_time": "2022-01-17T10:06:48.763Z"
   },
   {
    "duration": 12,
    "start_time": "2022-01-17T10:06:48.777Z"
   },
   {
    "duration": 22,
    "start_time": "2022-01-17T10:06:48.790Z"
   },
   {
    "duration": 12,
    "start_time": "2022-01-17T10:06:48.814Z"
   },
   {
    "duration": 13,
    "start_time": "2022-01-17T10:06:48.828Z"
   },
   {
    "duration": 21,
    "start_time": "2022-01-17T10:06:48.844Z"
   },
   {
    "duration": 18,
    "start_time": "2022-01-17T10:06:48.867Z"
   },
   {
    "duration": 25,
    "start_time": "2022-01-17T10:06:48.887Z"
   },
   {
    "duration": 58,
    "start_time": "2022-01-17T10:06:48.914Z"
   },
   {
    "duration": 11,
    "start_time": "2022-01-17T10:06:48.973Z"
   },
   {
    "duration": 686,
    "start_time": "2022-01-17T10:06:48.986Z"
   },
   {
    "duration": 24,
    "start_time": "2022-01-17T10:06:49.674Z"
   },
   {
    "duration": 8,
    "start_time": "2022-01-17T10:06:49.700Z"
   },
   {
    "duration": 93,
    "start_time": "2022-01-17T10:16:39.593Z"
   },
   {
    "duration": 14,
    "start_time": "2022-01-17T10:16:39.688Z"
   },
   {
    "duration": 15,
    "start_time": "2022-01-17T10:16:39.704Z"
   },
   {
    "duration": 44,
    "start_time": "2022-01-17T10:16:39.721Z"
   },
   {
    "duration": 7,
    "start_time": "2022-01-17T10:16:39.767Z"
   },
   {
    "duration": 7,
    "start_time": "2022-01-17T10:16:39.776Z"
   },
   {
    "duration": 8,
    "start_time": "2022-01-17T10:16:39.784Z"
   },
   {
    "duration": 5,
    "start_time": "2022-01-17T10:16:39.795Z"
   },
   {
    "duration": 16,
    "start_time": "2022-01-17T10:16:39.803Z"
   },
   {
    "duration": 44,
    "start_time": "2022-01-17T10:16:39.821Z"
   },
   {
    "duration": 16,
    "start_time": "2022-01-17T10:16:39.867Z"
   },
   {
    "duration": 6,
    "start_time": "2022-01-17T10:16:39.884Z"
   },
   {
    "duration": 15,
    "start_time": "2022-01-17T10:16:39.892Z"
   },
   {
    "duration": 7,
    "start_time": "2022-01-17T10:16:39.909Z"
   },
   {
    "duration": 54,
    "start_time": "2022-01-17T10:16:39.918Z"
   },
   {
    "duration": 6,
    "start_time": "2022-01-17T10:16:39.974Z"
   },
   {
    "duration": 19,
    "start_time": "2022-01-17T10:16:39.982Z"
   },
   {
    "duration": 4,
    "start_time": "2022-01-17T10:16:40.002Z"
   },
   {
    "duration": 10,
    "start_time": "2022-01-17T10:16:40.008Z"
   },
   {
    "duration": 42,
    "start_time": "2022-01-17T10:16:40.020Z"
   },
   {
    "duration": 79,
    "start_time": "2022-01-17T10:16:40.063Z"
   },
   {
    "duration": 756,
    "start_time": "2022-01-17T10:16:39.389Z"
   },
   {
    "duration": 753,
    "start_time": "2022-01-17T10:16:39.393Z"
   },
   {
    "duration": 749,
    "start_time": "2022-01-17T10:16:39.398Z"
   },
   {
    "duration": 746,
    "start_time": "2022-01-17T10:16:39.402Z"
   },
   {
    "duration": 744,
    "start_time": "2022-01-17T10:16:39.406Z"
   },
   {
    "duration": 742,
    "start_time": "2022-01-17T10:16:39.409Z"
   },
   {
    "duration": 739,
    "start_time": "2022-01-17T10:16:39.413Z"
   },
   {
    "duration": 736,
    "start_time": "2022-01-17T10:16:39.417Z"
   },
   {
    "duration": 733,
    "start_time": "2022-01-17T10:16:39.421Z"
   },
   {
    "duration": 731,
    "start_time": "2022-01-17T10:16:39.424Z"
   },
   {
    "duration": 727,
    "start_time": "2022-01-17T10:16:39.429Z"
   },
   {
    "duration": 725,
    "start_time": "2022-01-17T10:16:39.432Z"
   },
   {
    "duration": 722,
    "start_time": "2022-01-17T10:16:39.436Z"
   },
   {
    "duration": 720,
    "start_time": "2022-01-17T10:16:39.439Z"
   },
   {
    "duration": 717,
    "start_time": "2022-01-17T10:16:39.443Z"
   },
   {
    "duration": 715,
    "start_time": "2022-01-17T10:16:39.446Z"
   },
   {
    "duration": 712,
    "start_time": "2022-01-17T10:16:39.450Z"
   },
   {
    "duration": 709,
    "start_time": "2022-01-17T10:16:39.454Z"
   },
   {
    "duration": 706,
    "start_time": "2022-01-17T10:16:39.458Z"
   },
   {
    "duration": 704,
    "start_time": "2022-01-17T10:16:39.461Z"
   },
   {
    "duration": 702,
    "start_time": "2022-01-17T10:16:39.465Z"
   },
   {
    "duration": 690,
    "start_time": "2022-01-17T10:16:39.478Z"
   },
   {
    "duration": 686,
    "start_time": "2022-01-17T10:16:39.482Z"
   },
   {
    "duration": 62,
    "start_time": "2022-01-17T10:17:15.406Z"
   },
   {
    "duration": 11,
    "start_time": "2022-01-17T10:17:15.470Z"
   },
   {
    "duration": 18,
    "start_time": "2022-01-17T10:17:15.483Z"
   },
   {
    "duration": 5,
    "start_time": "2022-01-17T10:17:15.503Z"
   },
   {
    "duration": 7,
    "start_time": "2022-01-17T10:17:15.510Z"
   },
   {
    "duration": 5,
    "start_time": "2022-01-17T10:17:15.519Z"
   },
   {
    "duration": 7,
    "start_time": "2022-01-17T10:17:15.561Z"
   },
   {
    "duration": 6,
    "start_time": "2022-01-17T10:17:15.571Z"
   },
   {
    "duration": 16,
    "start_time": "2022-01-17T10:17:15.579Z"
   },
   {
    "duration": 6,
    "start_time": "2022-01-17T10:17:15.598Z"
   },
   {
    "duration": 18,
    "start_time": "2022-01-17T10:17:15.606Z"
   },
   {
    "duration": 39,
    "start_time": "2022-01-17T10:17:15.626Z"
   },
   {
    "duration": 30,
    "start_time": "2022-01-17T10:17:15.668Z"
   },
   {
    "duration": 32,
    "start_time": "2022-01-17T10:17:15.699Z"
   },
   {
    "duration": 32,
    "start_time": "2022-01-17T10:17:15.733Z"
   },
   {
    "duration": 29,
    "start_time": "2022-01-17T10:17:15.767Z"
   },
   {
    "duration": 35,
    "start_time": "2022-01-17T10:17:15.798Z"
   },
   {
    "duration": 12,
    "start_time": "2022-01-17T10:17:15.835Z"
   },
   {
    "duration": 38,
    "start_time": "2022-01-17T10:17:15.849Z"
   },
   {
    "duration": 42,
    "start_time": "2022-01-17T10:17:15.889Z"
   },
   {
    "duration": 33,
    "start_time": "2022-01-17T10:17:15.933Z"
   },
   {
    "duration": 29,
    "start_time": "2022-01-17T10:17:15.967Z"
   },
   {
    "duration": 8,
    "start_time": "2022-01-17T10:17:15.999Z"
   },
   {
    "duration": 25,
    "start_time": "2022-01-17T10:17:16.009Z"
   },
   {
    "duration": 6,
    "start_time": "2022-01-17T10:17:16.036Z"
   },
   {
    "duration": 11,
    "start_time": "2022-01-17T10:17:16.044Z"
   },
   {
    "duration": 9,
    "start_time": "2022-01-17T10:17:16.057Z"
   },
   {
    "duration": 6,
    "start_time": "2022-01-17T10:17:16.068Z"
   },
   {
    "duration": 20,
    "start_time": "2022-01-17T10:17:16.075Z"
   },
   {
    "duration": 21,
    "start_time": "2022-01-17T10:17:16.097Z"
   },
   {
    "duration": 46,
    "start_time": "2022-01-17T10:17:16.119Z"
   },
   {
    "duration": 2447,
    "start_time": "2022-01-17T10:17:16.167Z"
   },
   {
    "duration": 6,
    "start_time": "2022-01-17T10:17:18.615Z"
   },
   {
    "duration": 9,
    "start_time": "2022-01-17T10:17:18.623Z"
   },
   {
    "duration": 27,
    "start_time": "2022-01-17T10:17:18.634Z"
   },
   {
    "duration": 12,
    "start_time": "2022-01-17T10:17:18.663Z"
   },
   {
    "duration": 8,
    "start_time": "2022-01-17T10:17:18.677Z"
   },
   {
    "duration": 17,
    "start_time": "2022-01-17T10:17:18.687Z"
   },
   {
    "duration": 25,
    "start_time": "2022-01-17T10:17:18.705Z"
   },
   {
    "duration": 54,
    "start_time": "2022-01-17T10:17:18.731Z"
   },
   {
    "duration": 9,
    "start_time": "2022-01-17T10:17:18.787Z"
   },
   {
    "duration": 706,
    "start_time": "2022-01-17T10:17:18.798Z"
   },
   {
    "duration": 24,
    "start_time": "2022-01-17T10:17:19.506Z"
   },
   {
    "duration": 5,
    "start_time": "2022-01-17T10:17:19.531Z"
   },
   {
    "duration": 6,
    "start_time": "2022-01-17T10:19:10.712Z"
   },
   {
    "duration": 21,
    "start_time": "2022-01-17T10:21:53.630Z"
   },
   {
    "duration": 5,
    "start_time": "2022-01-17T10:22:11.738Z"
   },
   {
    "duration": 8,
    "start_time": "2022-01-17T10:22:14.306Z"
   },
   {
    "duration": 10,
    "start_time": "2022-01-17T10:23:21.419Z"
   },
   {
    "duration": 101,
    "start_time": "2022-01-17T12:03:18.668Z"
   },
   {
    "duration": 13,
    "start_time": "2022-01-17T12:03:18.771Z"
   },
   {
    "duration": 21,
    "start_time": "2022-01-17T12:03:18.786Z"
   },
   {
    "duration": 6,
    "start_time": "2022-01-17T12:03:18.809Z"
   },
   {
    "duration": 45,
    "start_time": "2022-01-17T12:03:18.817Z"
   },
   {
    "duration": 6,
    "start_time": "2022-01-17T12:03:18.865Z"
   },
   {
    "duration": 17,
    "start_time": "2022-01-17T12:03:18.872Z"
   },
   {
    "duration": 18,
    "start_time": "2022-01-17T12:03:18.892Z"
   },
   {
    "duration": 36,
    "start_time": "2022-01-17T12:03:18.912Z"
   },
   {
    "duration": 7,
    "start_time": "2022-01-17T12:03:18.950Z"
   },
   {
    "duration": 24,
    "start_time": "2022-01-17T12:03:18.959Z"
   },
   {
    "duration": 12,
    "start_time": "2022-01-17T12:03:18.985Z"
   },
   {
    "duration": 22,
    "start_time": "2022-01-17T12:03:18.999Z"
   },
   {
    "duration": 14,
    "start_time": "2022-01-17T12:03:19.022Z"
   },
   {
    "duration": 24,
    "start_time": "2022-01-17T12:03:19.038Z"
   },
   {
    "duration": 9,
    "start_time": "2022-01-17T12:03:19.064Z"
   },
   {
    "duration": 25,
    "start_time": "2022-01-17T12:03:19.075Z"
   },
   {
    "duration": 9,
    "start_time": "2022-01-17T12:03:19.102Z"
   },
   {
    "duration": 15,
    "start_time": "2022-01-17T12:03:19.112Z"
   },
   {
    "duration": 32,
    "start_time": "2022-01-17T12:03:19.129Z"
   },
   {
    "duration": 7,
    "start_time": "2022-01-17T12:03:19.162Z"
   },
   {
    "duration": 37,
    "start_time": "2022-01-17T12:03:19.170Z"
   },
   {
    "duration": 8,
    "start_time": "2022-01-17T12:03:19.210Z"
   },
   {
    "duration": 14,
    "start_time": "2022-01-17T12:03:19.220Z"
   },
   {
    "duration": 13,
    "start_time": "2022-01-17T12:03:19.236Z"
   },
   {
    "duration": 19,
    "start_time": "2022-01-17T12:03:19.251Z"
   },
   {
    "duration": 23,
    "start_time": "2022-01-17T12:03:19.272Z"
   },
   {
    "duration": 10,
    "start_time": "2022-01-17T12:03:19.296Z"
   },
   {
    "duration": 21,
    "start_time": "2022-01-17T12:03:19.308Z"
   },
   {
    "duration": 40,
    "start_time": "2022-01-17T12:03:19.331Z"
   },
   {
    "duration": 9,
    "start_time": "2022-01-17T12:03:19.373Z"
   },
   {
    "duration": 2497,
    "start_time": "2022-01-17T12:03:19.384Z"
   },
   {
    "duration": 7,
    "start_time": "2022-01-17T12:03:21.883Z"
   },
   {
    "duration": 9,
    "start_time": "2022-01-17T12:03:21.892Z"
   },
   {
    "duration": 14,
    "start_time": "2022-01-17T12:03:21.903Z"
   },
   {
    "duration": 18,
    "start_time": "2022-01-17T12:03:21.919Z"
   },
   {
    "duration": 9,
    "start_time": "2022-01-17T12:03:21.961Z"
   },
   {
    "duration": 19,
    "start_time": "2022-01-17T12:03:21.972Z"
   },
   {
    "duration": 37,
    "start_time": "2022-01-17T12:03:21.993Z"
   },
   {
    "duration": 47,
    "start_time": "2022-01-17T12:03:22.032Z"
   },
   {
    "duration": 12,
    "start_time": "2022-01-17T12:03:22.081Z"
   },
   {
    "duration": 734,
    "start_time": "2022-01-17T12:03:22.095Z"
   },
   {
    "duration": 38,
    "start_time": "2022-01-17T12:03:22.832Z"
   },
   {
    "duration": 12,
    "start_time": "2022-01-17T12:03:22.872Z"
   },
   {
    "duration": 11,
    "start_time": "2022-01-17T12:03:22.886Z"
   },
   {
    "duration": 5,
    "start_time": "2022-01-17T12:03:22.899Z"
   },
   {
    "duration": 6,
    "start_time": "2022-01-17T12:11:14.206Z"
   },
   {
    "duration": 95,
    "start_time": "2022-01-17T16:25:07.746Z"
   },
   {
    "duration": 27,
    "start_time": "2022-01-17T16:25:07.844Z"
   },
   {
    "duration": 23,
    "start_time": "2022-01-17T16:25:07.874Z"
   },
   {
    "duration": 8,
    "start_time": "2022-01-17T16:25:07.900Z"
   },
   {
    "duration": 8,
    "start_time": "2022-01-17T16:25:07.910Z"
   },
   {
    "duration": 9,
    "start_time": "2022-01-17T16:25:07.962Z"
   },
   {
    "duration": 10,
    "start_time": "2022-01-17T16:25:07.973Z"
   },
   {
    "duration": 7,
    "start_time": "2022-01-17T16:25:07.987Z"
   },
   {
    "duration": 24,
    "start_time": "2022-01-17T16:25:07.996Z"
   },
   {
    "duration": 40,
    "start_time": "2022-01-17T16:25:08.023Z"
   },
   {
    "duration": 22,
    "start_time": "2022-01-17T16:25:08.066Z"
   },
   {
    "duration": 7,
    "start_time": "2022-01-17T16:25:08.090Z"
   },
   {
    "duration": 61,
    "start_time": "2022-01-17T16:25:08.100Z"
   },
   {
    "duration": 8,
    "start_time": "2022-01-17T16:25:08.164Z"
   },
   {
    "duration": 28,
    "start_time": "2022-01-17T16:25:08.174Z"
   },
   {
    "duration": 7,
    "start_time": "2022-01-17T16:25:08.204Z"
   },
   {
    "duration": 57,
    "start_time": "2022-01-17T16:25:08.214Z"
   },
   {
    "duration": 6,
    "start_time": "2022-01-17T16:25:08.273Z"
   },
   {
    "duration": 13,
    "start_time": "2022-01-17T16:25:08.281Z"
   },
   {
    "duration": 14,
    "start_time": "2022-01-17T16:25:08.296Z"
   },
   {
    "duration": 49,
    "start_time": "2022-01-17T16:25:08.313Z"
   },
   {
    "duration": 26,
    "start_time": "2022-01-17T16:25:08.364Z"
   },
   {
    "duration": 12,
    "start_time": "2022-01-17T16:25:08.396Z"
   },
   {
    "duration": 9,
    "start_time": "2022-01-17T16:25:08.411Z"
   },
   {
    "duration": 43,
    "start_time": "2022-01-17T16:25:08.422Z"
   },
   {
    "duration": 9,
    "start_time": "2022-01-17T16:25:08.467Z"
   },
   {
    "duration": 11,
    "start_time": "2022-01-17T16:25:08.478Z"
   },
   {
    "duration": 7,
    "start_time": "2022-01-17T16:25:08.491Z"
   },
   {
    "duration": 69,
    "start_time": "2022-01-17T16:25:08.500Z"
   },
   {
    "duration": 21,
    "start_time": "2022-01-17T16:25:08.572Z"
   },
   {
    "duration": 11,
    "start_time": "2022-01-17T16:25:08.596Z"
   },
   {
    "duration": 2711,
    "start_time": "2022-01-17T16:25:08.609Z"
   },
   {
    "duration": 6,
    "start_time": "2022-01-17T16:25:11.322Z"
   },
   {
    "duration": 23,
    "start_time": "2022-01-17T16:25:11.330Z"
   },
   {
    "duration": 13,
    "start_time": "2022-01-17T16:25:11.355Z"
   },
   {
    "duration": 21,
    "start_time": "2022-01-17T16:25:11.370Z"
   },
   {
    "duration": 12,
    "start_time": "2022-01-17T16:25:11.393Z"
   },
   {
    "duration": 64,
    "start_time": "2022-01-17T16:25:11.407Z"
   },
   {
    "duration": 42,
    "start_time": "2022-01-17T16:25:11.473Z"
   },
   {
    "duration": 68,
    "start_time": "2022-01-17T16:25:11.517Z"
   },
   {
    "duration": 16,
    "start_time": "2022-01-17T16:25:11.588Z"
   },
   {
    "duration": 719,
    "start_time": "2022-01-17T16:25:11.606Z"
   },
   {
    "duration": 35,
    "start_time": "2022-01-17T16:25:12.327Z"
   },
   {
    "duration": 8,
    "start_time": "2022-01-17T16:25:12.363Z"
   },
   {
    "duration": 12,
    "start_time": "2022-01-17T16:25:12.373Z"
   },
   {
    "duration": 5,
    "start_time": "2022-01-17T16:25:12.387Z"
   },
   {
    "duration": 5,
    "start_time": "2022-01-17T16:25:12.394Z"
   },
   {
    "duration": 128,
    "start_time": "2022-01-17T16:26:08.688Z"
   },
   {
    "duration": 18,
    "start_time": "2022-01-17T16:26:08.819Z"
   },
   {
    "duration": 34,
    "start_time": "2022-01-17T16:26:08.840Z"
   },
   {
    "duration": 8,
    "start_time": "2022-01-17T16:26:08.877Z"
   },
   {
    "duration": 8,
    "start_time": "2022-01-17T16:26:08.887Z"
   },
   {
    "duration": 8,
    "start_time": "2022-01-17T16:26:08.897Z"
   },
   {
    "duration": 13,
    "start_time": "2022-01-17T16:26:08.908Z"
   },
   {
    "duration": 43,
    "start_time": "2022-01-17T16:26:08.923Z"
   },
   {
    "duration": 64,
    "start_time": "2022-01-17T16:26:08.971Z"
   },
   {
    "duration": 9,
    "start_time": "2022-01-17T16:26:09.038Z"
   },
   {
    "duration": 21,
    "start_time": "2022-01-17T16:26:09.048Z"
   },
   {
    "duration": 6,
    "start_time": "2022-01-17T16:26:09.071Z"
   },
   {
    "duration": 14,
    "start_time": "2022-01-17T16:26:09.079Z"
   },
   {
    "duration": 14,
    "start_time": "2022-01-17T16:26:09.095Z"
   },
   {
    "duration": 19,
    "start_time": "2022-01-17T16:26:09.111Z"
   },
   {
    "duration": 29,
    "start_time": "2022-01-17T16:26:09.133Z"
   },
   {
    "duration": 31,
    "start_time": "2022-01-17T16:26:09.165Z"
   },
   {
    "duration": 8,
    "start_time": "2022-01-17T16:26:09.198Z"
   },
   {
    "duration": 16,
    "start_time": "2022-01-17T16:26:09.209Z"
   },
   {
    "duration": 48,
    "start_time": "2022-01-17T16:26:09.228Z"
   },
   {
    "duration": 9,
    "start_time": "2022-01-17T16:26:09.278Z"
   },
   {
    "duration": 39,
    "start_time": "2022-01-17T16:26:09.290Z"
   },
   {
    "duration": 34,
    "start_time": "2022-01-17T16:26:09.331Z"
   },
   {
    "duration": 10,
    "start_time": "2022-01-17T16:26:09.367Z"
   },
   {
    "duration": 7,
    "start_time": "2022-01-17T16:26:09.379Z"
   },
   {
    "duration": 9,
    "start_time": "2022-01-17T16:26:09.388Z"
   },
   {
    "duration": 9,
    "start_time": "2022-01-17T16:26:09.402Z"
   },
   {
    "duration": 50,
    "start_time": "2022-01-17T16:26:09.413Z"
   },
   {
    "duration": 20,
    "start_time": "2022-01-17T16:26:09.465Z"
   },
   {
    "duration": 20,
    "start_time": "2022-01-17T16:26:09.487Z"
   },
   {
    "duration": 9,
    "start_time": "2022-01-17T16:26:09.508Z"
   },
   {
    "duration": 2856,
    "start_time": "2022-01-17T16:26:09.519Z"
   },
   {
    "duration": 7,
    "start_time": "2022-01-17T16:26:12.378Z"
   },
   {
    "duration": 9,
    "start_time": "2022-01-17T16:26:12.387Z"
   },
   {
    "duration": 13,
    "start_time": "2022-01-17T16:26:12.398Z"
   },
   {
    "duration": 18,
    "start_time": "2022-01-17T16:26:12.413Z"
   },
   {
    "duration": 9,
    "start_time": "2022-01-17T16:26:12.463Z"
   },
   {
    "duration": 19,
    "start_time": "2022-01-17T16:26:12.474Z"
   },
   {
    "duration": 28,
    "start_time": "2022-01-17T16:26:12.495Z"
   },
   {
    "duration": 54,
    "start_time": "2022-01-17T16:26:12.525Z"
   },
   {
    "duration": 13,
    "start_time": "2022-01-17T16:26:12.581Z"
   },
   {
    "duration": 992,
    "start_time": "2022-01-17T16:26:12.596Z"
   },
   {
    "duration": 25,
    "start_time": "2022-01-17T16:26:13.590Z"
   },
   {
    "duration": 35,
    "start_time": "2022-01-17T16:26:13.617Z"
   },
   {
    "duration": 21,
    "start_time": "2022-01-17T16:26:13.654Z"
   },
   {
    "duration": 20,
    "start_time": "2022-01-17T16:26:13.677Z"
   },
   {
    "duration": 22,
    "start_time": "2022-01-17T16:26:13.699Z"
   },
   {
    "duration": 95,
    "start_time": "2022-01-17T16:26:31.593Z"
   },
   {
    "duration": 13,
    "start_time": "2022-01-17T16:26:31.690Z"
   },
   {
    "duration": 16,
    "start_time": "2022-01-17T16:26:31.706Z"
   },
   {
    "duration": 41,
    "start_time": "2022-01-17T16:26:31.725Z"
   },
   {
    "duration": 14,
    "start_time": "2022-01-17T16:26:31.767Z"
   },
   {
    "duration": 9,
    "start_time": "2022-01-17T16:26:31.783Z"
   },
   {
    "duration": 16,
    "start_time": "2022-01-17T16:26:31.794Z"
   },
   {
    "duration": 7,
    "start_time": "2022-01-17T16:26:31.814Z"
   },
   {
    "duration": 46,
    "start_time": "2022-01-17T16:26:31.823Z"
   },
   {
    "duration": 14,
    "start_time": "2022-01-17T16:26:31.872Z"
   },
   {
    "duration": 20,
    "start_time": "2022-01-17T16:26:31.888Z"
   },
   {
    "duration": 9,
    "start_time": "2022-01-17T16:26:31.910Z"
   },
   {
    "duration": 24,
    "start_time": "2022-01-17T16:26:31.920Z"
   },
   {
    "duration": 15,
    "start_time": "2022-01-17T16:26:31.946Z"
   },
   {
    "duration": 19,
    "start_time": "2022-01-17T16:26:31.963Z"
   },
   {
    "duration": 7,
    "start_time": "2022-01-17T16:26:31.985Z"
   },
   {
    "duration": 19,
    "start_time": "2022-01-17T16:26:31.994Z"
   },
   {
    "duration": 4,
    "start_time": "2022-01-17T16:26:32.015Z"
   },
   {
    "duration": 39,
    "start_time": "2022-01-17T16:26:32.021Z"
   },
   {
    "duration": 15,
    "start_time": "2022-01-17T16:26:32.063Z"
   },
   {
    "duration": 9,
    "start_time": "2022-01-17T16:26:32.080Z"
   },
   {
    "duration": 23,
    "start_time": "2022-01-17T16:26:32.091Z"
   },
   {
    "duration": 7,
    "start_time": "2022-01-17T16:26:32.118Z"
   },
   {
    "duration": 35,
    "start_time": "2022-01-17T16:26:32.128Z"
   },
   {
    "duration": 5,
    "start_time": "2022-01-17T16:26:32.165Z"
   },
   {
    "duration": 10,
    "start_time": "2022-01-17T16:26:32.172Z"
   },
   {
    "duration": 13,
    "start_time": "2022-01-17T16:26:32.183Z"
   },
   {
    "duration": 6,
    "start_time": "2022-01-17T16:26:32.197Z"
   },
   {
    "duration": 68,
    "start_time": "2022-01-17T16:26:32.205Z"
   },
   {
    "duration": 22,
    "start_time": "2022-01-17T16:26:32.275Z"
   },
   {
    "duration": 10,
    "start_time": "2022-01-17T16:26:32.300Z"
   },
   {
    "duration": 2454,
    "start_time": "2022-01-17T16:26:32.312Z"
   },
   {
    "duration": 6,
    "start_time": "2022-01-17T16:26:34.767Z"
   },
   {
    "duration": 33,
    "start_time": "2022-01-17T16:26:34.774Z"
   },
   {
    "duration": 25,
    "start_time": "2022-01-17T16:26:34.808Z"
   },
   {
    "duration": 29,
    "start_time": "2022-01-17T16:26:34.836Z"
   },
   {
    "duration": 12,
    "start_time": "2022-01-17T16:26:34.867Z"
   },
   {
    "duration": 26,
    "start_time": "2022-01-17T16:26:34.881Z"
   },
   {
    "duration": 48,
    "start_time": "2022-01-17T16:26:34.909Z"
   },
   {
    "duration": 29,
    "start_time": "2022-01-17T16:26:34.958Z"
   },
   {
    "duration": 10,
    "start_time": "2022-01-17T16:26:34.989Z"
   },
   {
    "duration": 815,
    "start_time": "2022-01-17T16:26:35.001Z"
   },
   {
    "duration": 25,
    "start_time": "2022-01-17T16:26:35.819Z"
   },
   {
    "duration": 8,
    "start_time": "2022-01-17T16:26:35.861Z"
   },
   {
    "duration": 23,
    "start_time": "2022-01-17T16:26:35.871Z"
   },
   {
    "duration": 13,
    "start_time": "2022-01-17T16:26:35.895Z"
   },
   {
    "duration": 29,
    "start_time": "2022-01-17T16:26:35.909Z"
   },
   {
    "duration": 14,
    "start_time": "2022-01-17T16:32:18.313Z"
   },
   {
    "duration": 17,
    "start_time": "2022-01-17T16:32:55.313Z"
   },
   {
    "duration": 15,
    "start_time": "2022-01-17T16:34:17.899Z"
   },
   {
    "duration": 6186,
    "start_time": "2022-01-17T16:36:48.951Z"
   },
   {
    "duration": 295,
    "start_time": "2022-01-17T16:40:45.699Z"
   },
   {
    "duration": 1104,
    "start_time": "2022-01-17T16:40:55.533Z"
   },
   {
    "duration": 939,
    "start_time": "2022-01-17T16:41:07.947Z"
   },
   {
    "duration": 951,
    "start_time": "2022-01-17T16:41:28.082Z"
   },
   {
    "duration": 975,
    "start_time": "2022-01-17T16:52:10.631Z"
   },
   {
    "duration": 1393,
    "start_time": "2022-01-17T16:52:20.856Z"
   },
   {
    "duration": 3,
    "start_time": "2022-01-17T16:54:11.065Z"
   },
   {
    "duration": 1362,
    "start_time": "2022-01-17T16:54:13.395Z"
   },
   {
    "duration": 1084,
    "start_time": "2022-01-17T16:54:29.156Z"
   },
   {
    "duration": 3531,
    "start_time": "2022-01-17T16:56:06.884Z"
   },
   {
    "duration": 3613,
    "start_time": "2022-01-17T16:56:16.315Z"
   },
   {
    "duration": 14,
    "start_time": "2022-01-17T16:56:50.492Z"
   },
   {
    "duration": 277,
    "start_time": "2022-01-17T17:09:57.476Z"
   },
   {
    "duration": 91,
    "start_time": "2022-01-17T17:11:08.125Z"
   },
   {
    "duration": 5,
    "start_time": "2022-01-17T17:11:13.333Z"
   },
   {
    "duration": 63,
    "start_time": "2022-01-17T17:11:19.780Z"
   },
   {
    "duration": 12,
    "start_time": "2022-01-17T17:11:19.845Z"
   },
   {
    "duration": 14,
    "start_time": "2022-01-17T17:11:19.859Z"
   },
   {
    "duration": 6,
    "start_time": "2022-01-17T17:11:19.875Z"
   },
   {
    "duration": 6,
    "start_time": "2022-01-17T17:11:19.883Z"
   },
   {
    "duration": 5,
    "start_time": "2022-01-17T17:11:19.891Z"
   },
   {
    "duration": 8,
    "start_time": "2022-01-17T17:11:19.897Z"
   },
   {
    "duration": 9,
    "start_time": "2022-01-17T17:11:19.908Z"
   },
   {
    "duration": 53,
    "start_time": "2022-01-17T17:11:19.918Z"
   },
   {
    "duration": 8,
    "start_time": "2022-01-17T17:11:19.973Z"
   },
   {
    "duration": 18,
    "start_time": "2022-01-17T17:11:19.983Z"
   },
   {
    "duration": 8,
    "start_time": "2022-01-17T17:11:20.002Z"
   },
   {
    "duration": 62,
    "start_time": "2022-01-17T17:11:20.012Z"
   },
   {
    "duration": 8,
    "start_time": "2022-01-17T17:11:20.076Z"
   },
   {
    "duration": 18,
    "start_time": "2022-01-17T17:11:20.085Z"
   },
   {
    "duration": 7,
    "start_time": "2022-01-17T17:11:20.105Z"
   },
   {
    "duration": 49,
    "start_time": "2022-01-17T17:11:20.113Z"
   },
   {
    "duration": 3,
    "start_time": "2022-01-17T17:11:20.164Z"
   },
   {
    "duration": 9,
    "start_time": "2022-01-17T17:11:20.169Z"
   },
   {
    "duration": 11,
    "start_time": "2022-01-17T17:11:20.180Z"
   },
   {
    "duration": 7,
    "start_time": "2022-01-17T17:11:20.192Z"
   },
   {
    "duration": 62,
    "start_time": "2022-01-17T17:11:20.201Z"
   },
   {
    "duration": 8,
    "start_time": "2022-01-17T17:11:20.267Z"
   },
   {
    "duration": 7,
    "start_time": "2022-01-17T17:11:20.277Z"
   },
   {
    "duration": 9,
    "start_time": "2022-01-17T17:11:20.285Z"
   },
   {
    "duration": 12,
    "start_time": "2022-01-17T17:11:20.295Z"
   },
   {
    "duration": 53,
    "start_time": "2022-01-17T17:11:20.308Z"
   },
   {
    "duration": 6,
    "start_time": "2022-01-17T17:11:20.363Z"
   },
   {
    "duration": 20,
    "start_time": "2022-01-17T17:11:20.370Z"
   },
   {
    "duration": 18,
    "start_time": "2022-01-17T17:11:20.392Z"
   },
   {
    "duration": 49,
    "start_time": "2022-01-17T17:11:20.412Z"
   },
   {
    "duration": 2555,
    "start_time": "2022-01-17T17:11:20.462Z"
   },
   {
    "duration": 6,
    "start_time": "2022-01-17T17:11:23.019Z"
   },
   {
    "duration": 8,
    "start_time": "2022-01-17T17:11:23.028Z"
   },
   {
    "duration": 24,
    "start_time": "2022-01-17T17:11:23.038Z"
   },
   {
    "duration": 14,
    "start_time": "2022-01-17T17:11:23.064Z"
   },
   {
    "duration": 9,
    "start_time": "2022-01-17T17:11:23.080Z"
   },
   {
    "duration": 19,
    "start_time": "2022-01-17T17:11:23.090Z"
   },
   {
    "duration": 63,
    "start_time": "2022-01-17T17:11:23.111Z"
   },
   {
    "duration": 48,
    "start_time": "2022-01-17T17:11:23.177Z"
   },
   {
    "duration": 16,
    "start_time": "2022-01-17T17:11:23.227Z"
   },
   {
    "duration": 711,
    "start_time": "2022-01-17T17:11:23.262Z"
   },
   {
    "duration": 41,
    "start_time": "2022-01-17T17:11:23.976Z"
   },
   {
    "duration": 11,
    "start_time": "2022-01-17T17:11:24.020Z"
   },
   {
    "duration": 37,
    "start_time": "2022-01-17T17:11:24.033Z"
   },
   {
    "duration": 6,
    "start_time": "2022-01-17T17:11:24.073Z"
   },
   {
    "duration": 9,
    "start_time": "2022-01-17T17:11:24.082Z"
   },
   {
    "duration": 24,
    "start_time": "2022-01-17T17:11:24.093Z"
   },
   {
    "duration": 3464,
    "start_time": "2022-01-17T17:11:24.120Z"
   },
   {
    "duration": 13,
    "start_time": "2022-01-17T17:11:27.585Z"
   },
   {
    "duration": 9,
    "start_time": "2022-01-17T17:20:02.919Z"
   },
   {
    "duration": 260,
    "start_time": "2022-01-17T17:21:53.960Z"
   },
   {
    "duration": 257,
    "start_time": "2022-01-17T17:23:14.076Z"
   },
   {
    "duration": 245,
    "start_time": "2022-01-17T17:41:11.455Z"
   },
   {
    "duration": 234,
    "start_time": "2022-01-17T17:42:14.680Z"
   },
   {
    "duration": 333,
    "start_time": "2022-01-17T17:43:01.714Z"
   },
   {
    "duration": 31,
    "start_time": "2022-01-17T17:43:12.417Z"
   },
   {
    "duration": 25,
    "start_time": "2022-01-17T17:46:11.531Z"
   },
   {
    "duration": 23,
    "start_time": "2022-01-17T17:47:54.128Z"
   },
   {
    "duration": 25,
    "start_time": "2022-01-17T17:47:57.470Z"
   },
   {
    "duration": 28,
    "start_time": "2022-01-17T17:49:00.270Z"
   },
   {
    "duration": 40,
    "start_time": "2022-01-17T17:50:15.248Z"
   },
   {
    "duration": 934,
    "start_time": "2022-01-18T16:00:02.146Z"
   },
   {
    "duration": 18,
    "start_time": "2022-01-18T16:00:03.083Z"
   },
   {
    "duration": 56,
    "start_time": "2022-01-18T16:00:03.105Z"
   },
   {
    "duration": 8,
    "start_time": "2022-01-18T16:00:03.164Z"
   },
   {
    "duration": 8,
    "start_time": "2022-01-18T16:00:03.174Z"
   },
   {
    "duration": 8,
    "start_time": "2022-01-18T16:00:03.184Z"
   },
   {
    "duration": 16,
    "start_time": "2022-01-18T16:00:03.194Z"
   },
   {
    "duration": 47,
    "start_time": "2022-01-18T16:00:03.214Z"
   },
   {
    "duration": 23,
    "start_time": "2022-01-18T16:00:03.264Z"
   },
   {
    "duration": 10,
    "start_time": "2022-01-18T16:00:03.289Z"
   },
   {
    "duration": 64,
    "start_time": "2022-01-18T16:00:03.301Z"
   },
   {
    "duration": 10,
    "start_time": "2022-01-18T16:00:03.367Z"
   },
   {
    "duration": 30,
    "start_time": "2022-01-18T16:00:03.379Z"
   },
   {
    "duration": 13,
    "start_time": "2022-01-18T16:00:03.411Z"
   },
   {
    "duration": 52,
    "start_time": "2022-01-18T16:00:03.426Z"
   },
   {
    "duration": 8,
    "start_time": "2022-01-18T16:00:03.481Z"
   },
   {
    "duration": 27,
    "start_time": "2022-01-18T16:00:03.491Z"
   },
   {
    "duration": 39,
    "start_time": "2022-01-18T16:00:03.520Z"
   },
   {
    "duration": 15,
    "start_time": "2022-01-18T16:00:03.562Z"
   },
   {
    "duration": 20,
    "start_time": "2022-01-18T16:00:03.579Z"
   },
   {
    "duration": 11,
    "start_time": "2022-01-18T16:00:03.601Z"
   },
   {
    "duration": 47,
    "start_time": "2022-01-18T16:00:03.659Z"
   },
   {
    "duration": 11,
    "start_time": "2022-01-18T16:00:03.712Z"
   },
   {
    "duration": 38,
    "start_time": "2022-01-18T16:00:03.726Z"
   },
   {
    "duration": 7,
    "start_time": "2022-01-18T16:00:03.767Z"
   },
   {
    "duration": 15,
    "start_time": "2022-01-18T16:00:03.777Z"
   },
   {
    "duration": 15,
    "start_time": "2022-01-18T16:00:03.795Z"
   },
   {
    "duration": 10,
    "start_time": "2022-01-18T16:00:03.860Z"
   },
   {
    "duration": 28,
    "start_time": "2022-01-18T16:00:03.873Z"
   },
   {
    "duration": 63,
    "start_time": "2022-01-18T16:00:03.904Z"
   },
   {
    "duration": 14,
    "start_time": "2022-01-18T16:00:03.969Z"
   },
   {
    "duration": 4516,
    "start_time": "2022-01-18T16:00:03.985Z"
   },
   {
    "duration": 8,
    "start_time": "2022-01-18T16:00:08.503Z"
   },
   {
    "duration": 9,
    "start_time": "2022-01-18T16:00:08.513Z"
   },
   {
    "duration": 36,
    "start_time": "2022-01-18T16:00:08.525Z"
   },
   {
    "duration": 18,
    "start_time": "2022-01-18T16:00:08.563Z"
   },
   {
    "duration": 11,
    "start_time": "2022-01-18T16:00:08.584Z"
   },
   {
    "duration": 26,
    "start_time": "2022-01-18T16:00:08.597Z"
   },
   {
    "duration": 38,
    "start_time": "2022-01-18T16:00:08.660Z"
   },
   {
    "duration": 63,
    "start_time": "2022-01-18T16:00:08.701Z"
   },
   {
    "duration": 16,
    "start_time": "2022-01-18T16:00:08.766Z"
   },
   {
    "duration": 10,
    "start_time": "2022-01-18T16:00:08.785Z"
   },
   {
    "duration": 996,
    "start_time": "2022-01-18T16:00:08.798Z"
   },
   {
    "duration": 34,
    "start_time": "2022-01-18T16:00:09.797Z"
   },
   {
    "duration": 31,
    "start_time": "2022-01-18T16:00:09.833Z"
   },
   {
    "duration": 11,
    "start_time": "2022-01-18T16:00:09.867Z"
   },
   {
    "duration": 6,
    "start_time": "2022-01-18T16:00:09.881Z"
   },
   {
    "duration": 6,
    "start_time": "2022-01-18T16:00:09.890Z"
   },
   {
    "duration": 22,
    "start_time": "2022-01-18T16:00:09.899Z"
   },
   {
    "duration": 4215,
    "start_time": "2022-01-18T16:00:09.923Z"
   },
   {
    "duration": 30,
    "start_time": "2022-01-18T16:00:14.141Z"
   },
   {
    "duration": 62,
    "start_time": "2022-01-18T16:00:14.173Z"
   },
   {
    "duration": 50,
    "start_time": "2022-01-18T16:00:14.237Z"
   },
   {
    "duration": 44,
    "start_time": "2022-01-18T16:00:14.290Z"
   },
   {
    "duration": 60,
    "start_time": "2022-01-18T16:00:14.336Z"
   },
   {
    "duration": 78,
    "start_time": "2022-01-18T16:00:14.398Z"
   },
   {
    "duration": 21,
    "start_time": "2022-01-18T16:00:24.211Z"
   },
   {
    "duration": 111,
    "start_time": "2022-01-18T16:00:33.226Z"
   },
   {
    "duration": 31,
    "start_time": "2022-01-18T16:00:33.340Z"
   },
   {
    "duration": 20,
    "start_time": "2022-01-18T16:00:33.375Z"
   },
   {
    "duration": 7,
    "start_time": "2022-01-18T16:00:33.399Z"
   },
   {
    "duration": 61,
    "start_time": "2022-01-18T16:00:33.409Z"
   },
   {
    "duration": 8,
    "start_time": "2022-01-18T16:00:33.472Z"
   },
   {
    "duration": 12,
    "start_time": "2022-01-18T16:00:33.483Z"
   },
   {
    "duration": 8,
    "start_time": "2022-01-18T16:00:33.498Z"
   },
   {
    "duration": 68,
    "start_time": "2022-01-18T16:00:33.509Z"
   },
   {
    "duration": 8,
    "start_time": "2022-01-18T16:00:33.579Z"
   },
   {
    "duration": 22,
    "start_time": "2022-01-18T16:00:33.589Z"
   },
   {
    "duration": 50,
    "start_time": "2022-01-18T16:00:33.613Z"
   },
   {
    "duration": 21,
    "start_time": "2022-01-18T16:00:33.665Z"
   },
   {
    "duration": 11,
    "start_time": "2022-01-18T16:00:33.688Z"
   },
   {
    "duration": 23,
    "start_time": "2022-01-18T16:00:33.702Z"
   },
   {
    "duration": 38,
    "start_time": "2022-01-18T16:00:33.728Z"
   },
   {
    "duration": 27,
    "start_time": "2022-01-18T16:00:33.769Z"
   },
   {
    "duration": 7,
    "start_time": "2022-01-18T16:00:33.799Z"
   },
   {
    "duration": 60,
    "start_time": "2022-01-18T16:00:33.809Z"
   },
   {
    "duration": 18,
    "start_time": "2022-01-18T16:00:33.871Z"
   },
   {
    "duration": 11,
    "start_time": "2022-01-18T16:00:33.892Z"
   },
   {
    "duration": 62,
    "start_time": "2022-01-18T16:00:33.905Z"
   },
   {
    "duration": 10,
    "start_time": "2022-01-18T16:00:33.972Z"
   },
   {
    "duration": 9,
    "start_time": "2022-01-18T16:00:33.985Z"
   },
   {
    "duration": 7,
    "start_time": "2022-01-18T16:00:33.996Z"
   },
   {
    "duration": 9,
    "start_time": "2022-01-18T16:00:34.005Z"
   },
   {
    "duration": 9,
    "start_time": "2022-01-18T16:00:34.017Z"
   },
   {
    "duration": 9,
    "start_time": "2022-01-18T16:00:34.029Z"
   },
   {
    "duration": 85,
    "start_time": "2022-01-18T16:00:34.041Z"
   },
   {
    "duration": 33,
    "start_time": "2022-01-18T16:00:34.129Z"
   },
   {
    "duration": 12,
    "start_time": "2022-01-18T16:00:34.164Z"
   },
   {
    "duration": 4826,
    "start_time": "2022-01-18T16:00:34.178Z"
   },
   {
    "duration": 9,
    "start_time": "2022-01-18T16:00:39.006Z"
   },
   {
    "duration": 10,
    "start_time": "2022-01-18T16:00:39.017Z"
   },
   {
    "duration": 35,
    "start_time": "2022-01-18T16:00:39.030Z"
   },
   {
    "duration": 18,
    "start_time": "2022-01-18T16:00:39.068Z"
   },
   {
    "duration": 12,
    "start_time": "2022-01-18T16:00:39.088Z"
   },
   {
    "duration": 61,
    "start_time": "2022-01-18T16:00:39.103Z"
   },
   {
    "duration": 35,
    "start_time": "2022-01-18T16:00:39.167Z"
   },
   {
    "duration": 60,
    "start_time": "2022-01-18T16:00:39.205Z"
   },
   {
    "duration": 14,
    "start_time": "2022-01-18T16:00:39.267Z"
   },
   {
    "duration": 14,
    "start_time": "2022-01-18T16:00:39.283Z"
   },
   {
    "duration": 989,
    "start_time": "2022-01-18T16:00:39.300Z"
   },
   {
    "duration": 36,
    "start_time": "2022-01-18T16:00:40.291Z"
   },
   {
    "duration": 32,
    "start_time": "2022-01-18T16:00:40.329Z"
   },
   {
    "duration": 11,
    "start_time": "2022-01-18T16:00:40.363Z"
   },
   {
    "duration": 6,
    "start_time": "2022-01-18T16:00:40.376Z"
   },
   {
    "duration": 8,
    "start_time": "2022-01-18T16:00:40.385Z"
   },
   {
    "duration": 67,
    "start_time": "2022-01-18T16:00:40.396Z"
   },
   {
    "duration": 3976,
    "start_time": "2022-01-18T16:00:40.466Z"
   },
   {
    "duration": 30,
    "start_time": "2022-01-18T16:00:44.445Z"
   },
   {
    "duration": 44,
    "start_time": "2022-01-18T16:00:44.478Z"
   },
   {
    "duration": 66,
    "start_time": "2022-01-18T16:00:44.524Z"
   },
   {
    "duration": 39,
    "start_time": "2022-01-18T16:00:44.592Z"
   },
   {
    "duration": 63,
    "start_time": "2022-01-18T16:00:44.633Z"
   },
   {
    "duration": 78,
    "start_time": "2022-01-18T16:00:44.698Z"
   },
   {
    "duration": 116,
    "start_time": "2022-01-18T16:24:13.697Z"
   },
   {
    "duration": 22,
    "start_time": "2022-01-18T16:28:04.996Z"
   },
   {
    "duration": 116,
    "start_time": "2022-01-18T16:28:16.756Z"
   },
   {
    "duration": 15,
    "start_time": "2022-01-18T16:28:16.874Z"
   },
   {
    "duration": 21,
    "start_time": "2022-01-18T16:28:16.892Z"
   },
   {
    "duration": 46,
    "start_time": "2022-01-18T16:28:16.915Z"
   },
   {
    "duration": 8,
    "start_time": "2022-01-18T16:28:16.963Z"
   },
   {
    "duration": 7,
    "start_time": "2022-01-18T16:28:16.974Z"
   },
   {
    "duration": 11,
    "start_time": "2022-01-18T16:28:16.984Z"
   },
   {
    "duration": 61,
    "start_time": "2022-01-18T16:28:17.000Z"
   },
   {
    "duration": 22,
    "start_time": "2022-01-18T16:28:17.064Z"
   },
   {
    "duration": 7,
    "start_time": "2022-01-18T16:28:17.088Z"
   },
   {
    "duration": 21,
    "start_time": "2022-01-18T16:28:17.098Z"
   },
   {
    "duration": 8,
    "start_time": "2022-01-18T16:28:17.160Z"
   },
   {
    "duration": 20,
    "start_time": "2022-01-18T16:28:17.171Z"
   },
   {
    "duration": 8,
    "start_time": "2022-01-18T16:28:17.193Z"
   },
   {
    "duration": 57,
    "start_time": "2022-01-18T16:28:17.204Z"
   },
   {
    "duration": 8,
    "start_time": "2022-01-18T16:28:17.264Z"
   },
   {
    "duration": 27,
    "start_time": "2022-01-18T16:28:17.275Z"
   },
   {
    "duration": 8,
    "start_time": "2022-01-18T16:28:17.305Z"
   },
   {
    "duration": 52,
    "start_time": "2022-01-18T16:28:17.316Z"
   },
   {
    "duration": 19,
    "start_time": "2022-01-18T16:28:17.370Z"
   },
   {
    "duration": 9,
    "start_time": "2022-01-18T16:28:17.392Z"
   },
   {
    "duration": 68,
    "start_time": "2022-01-18T16:28:17.403Z"
   },
   {
    "duration": 11,
    "start_time": "2022-01-18T16:28:17.476Z"
   },
   {
    "duration": 9,
    "start_time": "2022-01-18T16:28:17.490Z"
   },
   {
    "duration": 7,
    "start_time": "2022-01-18T16:28:17.502Z"
   },
   {
    "duration": 55,
    "start_time": "2022-01-18T16:28:17.511Z"
   },
   {
    "duration": 10,
    "start_time": "2022-01-18T16:28:17.568Z"
   },
   {
    "duration": 9,
    "start_time": "2022-01-18T16:28:17.580Z"
   },
   {
    "duration": 27,
    "start_time": "2022-01-18T16:28:17.591Z"
   },
   {
    "duration": 26,
    "start_time": "2022-01-18T16:28:17.659Z"
   },
   {
    "duration": 12,
    "start_time": "2022-01-18T16:28:17.687Z"
   },
   {
    "duration": 4879,
    "start_time": "2022-01-18T16:28:17.701Z"
   },
   {
    "duration": 8,
    "start_time": "2022-01-18T16:28:22.583Z"
   },
   {
    "duration": 19,
    "start_time": "2022-01-18T16:28:22.593Z"
   },
   {
    "duration": 14,
    "start_time": "2022-01-18T16:28:22.614Z"
   },
   {
    "duration": 38,
    "start_time": "2022-01-18T16:28:22.631Z"
   },
   {
    "duration": 11,
    "start_time": "2022-01-18T16:28:22.672Z"
   },
   {
    "duration": 24,
    "start_time": "2022-01-18T16:28:22.686Z"
   },
   {
    "duration": 69,
    "start_time": "2022-01-18T16:28:22.712Z"
   },
   {
    "duration": 41,
    "start_time": "2022-01-18T16:28:22.784Z"
   },
   {
    "duration": 40,
    "start_time": "2022-01-18T16:28:22.827Z"
   },
   {
    "duration": 17,
    "start_time": "2022-01-18T16:28:22.870Z"
   },
   {
    "duration": 1005,
    "start_time": "2022-01-18T16:28:22.889Z"
   },
   {
    "duration": 36,
    "start_time": "2022-01-18T16:28:23.898Z"
   },
   {
    "duration": 28,
    "start_time": "2022-01-18T16:28:23.936Z"
   },
   {
    "duration": 12,
    "start_time": "2022-01-18T16:28:23.966Z"
   },
   {
    "duration": 7,
    "start_time": "2022-01-18T16:28:23.980Z"
   },
   {
    "duration": 6,
    "start_time": "2022-01-18T16:28:23.990Z"
   },
   {
    "duration": 66,
    "start_time": "2022-01-18T16:28:23.999Z"
   },
   {
    "duration": 4016,
    "start_time": "2022-01-18T16:28:24.068Z"
   },
   {
    "duration": 17,
    "start_time": "2022-01-18T16:28:28.087Z"
   },
   {
    "duration": 58,
    "start_time": "2022-01-18T16:28:28.107Z"
   },
   {
    "duration": 37,
    "start_time": "2022-01-18T16:28:28.167Z"
   },
   {
    "duration": 62,
    "start_time": "2022-01-18T16:28:28.206Z"
   },
   {
    "duration": 37,
    "start_time": "2022-01-18T16:28:28.270Z"
   },
   {
    "duration": 80,
    "start_time": "2022-01-18T16:28:28.309Z"
   },
   {
    "duration": 9,
    "start_time": "2022-01-18T16:29:42.822Z"
   },
   {
    "duration": 122,
    "start_time": "2022-01-18T16:30:50.293Z"
   },
   {
    "duration": 35,
    "start_time": "2022-01-18T16:33:26.785Z"
   },
   {
    "duration": 129,
    "start_time": "2022-01-18T16:33:33.917Z"
   },
   {
    "duration": 18,
    "start_time": "2022-01-18T16:33:34.061Z"
   },
   {
    "duration": 22,
    "start_time": "2022-01-18T16:33:34.083Z"
   },
   {
    "duration": 57,
    "start_time": "2022-01-18T16:33:34.108Z"
   },
   {
    "duration": 10,
    "start_time": "2022-01-18T16:33:34.168Z"
   },
   {
    "duration": 7,
    "start_time": "2022-01-18T16:33:34.181Z"
   },
   {
    "duration": 12,
    "start_time": "2022-01-18T16:33:34.190Z"
   },
   {
    "duration": 7,
    "start_time": "2022-01-18T16:33:34.206Z"
   },
   {
    "duration": 22,
    "start_time": "2022-01-18T16:33:34.261Z"
   },
   {
    "duration": 7,
    "start_time": "2022-01-18T16:33:34.285Z"
   },
   {
    "duration": 22,
    "start_time": "2022-01-18T16:33:34.295Z"
   },
   {
    "duration": 45,
    "start_time": "2022-01-18T16:33:34.319Z"
   },
   {
    "duration": 24,
    "start_time": "2022-01-18T16:33:34.367Z"
   },
   {
    "duration": 8,
    "start_time": "2022-01-18T16:33:34.393Z"
   },
   {
    "duration": 62,
    "start_time": "2022-01-18T16:33:34.404Z"
   },
   {
    "duration": 7,
    "start_time": "2022-01-18T16:33:34.468Z"
   },
   {
    "duration": 25,
    "start_time": "2022-01-18T16:33:34.477Z"
   },
   {
    "duration": 6,
    "start_time": "2022-01-18T16:33:34.505Z"
   },
   {
    "duration": 56,
    "start_time": "2022-01-18T16:33:34.513Z"
   },
   {
    "duration": 28,
    "start_time": "2022-01-18T16:33:34.573Z"
   },
   {
    "duration": 9,
    "start_time": "2022-01-18T16:33:34.603Z"
   },
   {
    "duration": 63,
    "start_time": "2022-01-18T16:33:34.615Z"
   },
   {
    "duration": 10,
    "start_time": "2022-01-18T16:33:34.684Z"
   },
   {
    "duration": 10,
    "start_time": "2022-01-18T16:33:34.697Z"
   },
   {
    "duration": 6,
    "start_time": "2022-01-18T16:33:34.710Z"
   },
   {
    "duration": 48,
    "start_time": "2022-01-18T16:33:34.719Z"
   },
   {
    "duration": 10,
    "start_time": "2022-01-18T16:33:34.770Z"
   },
   {
    "duration": 7,
    "start_time": "2022-01-18T16:33:34.783Z"
   },
   {
    "duration": 72,
    "start_time": "2022-01-18T16:33:34.793Z"
   },
   {
    "duration": 30,
    "start_time": "2022-01-18T16:33:34.868Z"
   },
   {
    "duration": 16,
    "start_time": "2022-01-18T16:33:34.901Z"
   },
   {
    "duration": 5099,
    "start_time": "2022-01-18T16:33:34.920Z"
   },
   {
    "duration": 10,
    "start_time": "2022-01-18T16:33:40.022Z"
   },
   {
    "duration": 31,
    "start_time": "2022-01-18T16:33:40.035Z"
   },
   {
    "duration": 9,
    "start_time": "2022-01-18T16:33:40.069Z"
   },
   {
    "duration": 17,
    "start_time": "2022-01-18T16:33:40.081Z"
   },
   {
    "duration": 13,
    "start_time": "2022-01-18T16:33:40.101Z"
   },
   {
    "duration": 64,
    "start_time": "2022-01-18T16:33:40.117Z"
   },
   {
    "duration": 37,
    "start_time": "2022-01-18T16:33:40.183Z"
   },
   {
    "duration": 70,
    "start_time": "2022-01-18T16:33:40.223Z"
   },
   {
    "duration": 15,
    "start_time": "2022-01-18T16:33:40.296Z"
   },
   {
    "duration": 46,
    "start_time": "2022-01-18T16:33:40.314Z"
   },
   {
    "duration": 1064,
    "start_time": "2022-01-18T16:33:40.363Z"
   },
   {
    "duration": 46,
    "start_time": "2022-01-18T16:33:41.431Z"
   },
   {
    "duration": 10,
    "start_time": "2022-01-18T16:33:41.479Z"
   },
   {
    "duration": 12,
    "start_time": "2022-01-18T16:33:41.491Z"
   },
   {
    "duration": 6,
    "start_time": "2022-01-18T16:33:41.505Z"
   },
   {
    "duration": 7,
    "start_time": "2022-01-18T16:33:41.513Z"
   },
   {
    "duration": 66,
    "start_time": "2022-01-18T16:33:41.523Z"
   },
   {
    "duration": 4593,
    "start_time": "2022-01-18T16:33:41.592Z"
   },
   {
    "duration": 20,
    "start_time": "2022-01-18T16:33:46.188Z"
   },
   {
    "duration": 66,
    "start_time": "2022-01-18T16:33:46.210Z"
   },
   {
    "duration": 38,
    "start_time": "2022-01-18T16:33:46.278Z"
   },
   {
    "duration": 66,
    "start_time": "2022-01-18T16:33:46.319Z"
   },
   {
    "duration": 38,
    "start_time": "2022-01-18T16:33:46.388Z"
   },
   {
    "duration": 81,
    "start_time": "2022-01-18T16:33:46.428Z"
   },
   {
    "duration": 45,
    "start_time": "2022-01-18T16:34:28.477Z"
   },
   {
    "duration": 114,
    "start_time": "2022-01-18T16:34:34.783Z"
   },
   {
    "duration": 18,
    "start_time": "2022-01-18T16:34:34.901Z"
   },
   {
    "duration": 42,
    "start_time": "2022-01-18T16:34:34.923Z"
   },
   {
    "duration": 9,
    "start_time": "2022-01-18T16:34:34.968Z"
   },
   {
    "duration": 10,
    "start_time": "2022-01-18T16:34:34.980Z"
   },
   {
    "duration": 8,
    "start_time": "2022-01-18T16:34:34.992Z"
   },
   {
    "duration": 9,
    "start_time": "2022-01-18T16:34:35.002Z"
   },
   {
    "duration": 51,
    "start_time": "2022-01-18T16:34:35.013Z"
   },
   {
    "duration": 22,
    "start_time": "2022-01-18T16:34:35.068Z"
   },
   {
    "duration": 6,
    "start_time": "2022-01-18T16:34:35.093Z"
   },
   {
    "duration": 62,
    "start_time": "2022-01-18T16:34:35.102Z"
   },
   {
    "duration": 7,
    "start_time": "2022-01-18T16:34:35.166Z"
   },
   {
    "duration": 20,
    "start_time": "2022-01-18T16:34:35.176Z"
   },
   {
    "duration": 9,
    "start_time": "2022-01-18T16:34:35.198Z"
   },
   {
    "duration": 76,
    "start_time": "2022-01-18T16:34:35.209Z"
   },
   {
    "duration": 10,
    "start_time": "2022-01-18T16:34:35.288Z"
   },
   {
    "duration": 38,
    "start_time": "2022-01-18T16:34:35.300Z"
   },
   {
    "duration": 21,
    "start_time": "2022-01-18T16:34:35.340Z"
   },
   {
    "duration": 13,
    "start_time": "2022-01-18T16:34:35.364Z"
   },
   {
    "duration": 25,
    "start_time": "2022-01-18T16:34:35.380Z"
   },
   {
    "duration": 7,
    "start_time": "2022-01-18T16:34:35.408Z"
   },
   {
    "duration": 64,
    "start_time": "2022-01-18T16:34:35.418Z"
   },
   {
    "duration": 9,
    "start_time": "2022-01-18T16:34:35.484Z"
   },
   {
    "duration": 9,
    "start_time": "2022-01-18T16:34:35.496Z"
   },
   {
    "duration": 15,
    "start_time": "2022-01-18T16:34:35.507Z"
   },
   {
    "duration": 35,
    "start_time": "2022-01-18T16:34:35.525Z"
   },
   {
    "duration": 9,
    "start_time": "2022-01-18T16:34:35.566Z"
   },
   {
    "duration": 9,
    "start_time": "2022-01-18T16:34:35.578Z"
   },
   {
    "duration": 27,
    "start_time": "2022-01-18T16:34:35.589Z"
   },
   {
    "duration": 27,
    "start_time": "2022-01-18T16:34:35.660Z"
   },
   {
    "duration": 12,
    "start_time": "2022-01-18T16:34:35.689Z"
   },
   {
    "duration": 4629,
    "start_time": "2022-01-18T16:34:35.704Z"
   },
   {
    "duration": 8,
    "start_time": "2022-01-18T16:34:40.335Z"
   },
   {
    "duration": 7,
    "start_time": "2022-01-18T16:34:40.360Z"
   },
   {
    "duration": 9,
    "start_time": "2022-01-18T16:34:40.370Z"
   },
   {
    "duration": 17,
    "start_time": "2022-01-18T16:34:40.381Z"
   },
   {
    "duration": 11,
    "start_time": "2022-01-18T16:34:40.400Z"
   },
   {
    "duration": 43,
    "start_time": "2022-01-18T16:34:40.458Z"
   },
   {
    "duration": 59,
    "start_time": "2022-01-18T16:34:40.504Z"
   },
   {
    "duration": 43,
    "start_time": "2022-01-18T16:34:40.566Z"
   },
   {
    "duration": 12,
    "start_time": "2022-01-18T16:34:40.611Z"
   },
   {
    "duration": 39,
    "start_time": "2022-01-18T16:34:40.625Z"
   },
   {
    "duration": 1192,
    "start_time": "2022-01-18T16:34:40.666Z"
   },
   {
    "duration": 38,
    "start_time": "2022-01-18T16:34:41.861Z"
   },
   {
    "duration": 12,
    "start_time": "2022-01-18T16:34:41.902Z"
   },
   {
    "duration": 50,
    "start_time": "2022-01-18T16:34:41.917Z"
   },
   {
    "duration": 7,
    "start_time": "2022-01-18T16:34:41.972Z"
   },
   {
    "duration": 9,
    "start_time": "2022-01-18T16:34:41.982Z"
   },
   {
    "duration": 20,
    "start_time": "2022-01-18T16:34:41.994Z"
   },
   {
    "duration": 4657,
    "start_time": "2022-01-18T16:34:42.017Z"
   },
   {
    "duration": 17,
    "start_time": "2022-01-18T16:34:46.676Z"
   },
   {
    "duration": 41,
    "start_time": "2022-01-18T16:34:46.695Z"
   },
   {
    "duration": 36,
    "start_time": "2022-01-18T16:34:46.759Z"
   },
   {
    "duration": 36,
    "start_time": "2022-01-18T16:34:46.798Z"
   },
   {
    "duration": 35,
    "start_time": "2022-01-18T16:34:46.860Z"
   },
   {
    "duration": 78,
    "start_time": "2022-01-18T16:34:46.897Z"
   },
   {
    "duration": 128,
    "start_time": "2022-01-18T16:49:44.843Z"
   },
   {
    "duration": 121,
    "start_time": "2022-01-18T16:49:49.774Z"
   },
   {
    "duration": 8,
    "start_time": "2022-01-18T16:53:47.007Z"
   },
   {
    "duration": 121,
    "start_time": "2022-01-18T16:53:56.543Z"
   },
   {
    "duration": 17,
    "start_time": "2022-01-18T16:53:56.667Z"
   },
   {
    "duration": 21,
    "start_time": "2022-01-18T16:53:56.688Z"
   },
   {
    "duration": 8,
    "start_time": "2022-01-18T16:53:56.712Z"
   },
   {
    "duration": 42,
    "start_time": "2022-01-18T16:53:56.723Z"
   },
   {
    "duration": 7,
    "start_time": "2022-01-18T16:53:56.768Z"
   },
   {
    "duration": 17,
    "start_time": "2022-01-18T16:53:56.777Z"
   },
   {
    "duration": 7,
    "start_time": "2022-01-18T16:53:56.798Z"
   },
   {
    "duration": 68,
    "start_time": "2022-01-18T16:53:56.808Z"
   },
   {
    "duration": 8,
    "start_time": "2022-01-18T16:53:56.879Z"
   },
   {
    "duration": 21,
    "start_time": "2022-01-18T16:53:56.890Z"
   },
   {
    "duration": 51,
    "start_time": "2022-01-18T16:53:56.914Z"
   },
   {
    "duration": 24,
    "start_time": "2022-01-18T16:53:56.968Z"
   },
   {
    "duration": 13,
    "start_time": "2022-01-18T16:53:56.994Z"
   },
   {
    "duration": 67,
    "start_time": "2022-01-18T16:53:57.010Z"
   },
   {
    "duration": 11,
    "start_time": "2022-01-18T16:53:57.079Z"
   },
   {
    "duration": 29,
    "start_time": "2022-01-18T16:53:57.092Z"
   },
   {
    "duration": 36,
    "start_time": "2022-01-18T16:53:57.123Z"
   },
   {
    "duration": 14,
    "start_time": "2022-01-18T16:53:57.162Z"
   },
   {
    "duration": 23,
    "start_time": "2022-01-18T16:53:57.179Z"
   },
   {
    "duration": 11,
    "start_time": "2022-01-18T16:53:57.205Z"
   },
   {
    "duration": 70,
    "start_time": "2022-01-18T16:53:57.219Z"
   },
   {
    "duration": 9,
    "start_time": "2022-01-18T16:53:57.296Z"
   },
   {
    "duration": 65,
    "start_time": "2022-01-18T16:53:57.309Z"
   },
   {
    "duration": 25,
    "start_time": "2022-01-18T16:53:57.376Z"
   },
   {
    "duration": 12,
    "start_time": "2022-01-18T16:53:57.404Z"
   },
   {
    "duration": 4702,
    "start_time": "2022-01-18T16:53:57.418Z"
   },
   {
    "duration": 8,
    "start_time": "2022-01-18T16:54:02.123Z"
   },
   {
    "duration": 27,
    "start_time": "2022-01-18T16:54:02.134Z"
   },
   {
    "duration": 12,
    "start_time": "2022-01-18T16:54:02.163Z"
   },
   {
    "duration": 17,
    "start_time": "2022-01-18T16:54:02.178Z"
   },
   {
    "duration": 11,
    "start_time": "2022-01-18T16:54:02.198Z"
   },
   {
    "duration": 64,
    "start_time": "2022-01-18T16:54:02.211Z"
   },
   {
    "duration": 39,
    "start_time": "2022-01-18T16:54:02.278Z"
   },
   {
    "duration": 75,
    "start_time": "2022-01-18T16:54:02.319Z"
   },
   {
    "duration": 14,
    "start_time": "2022-01-18T16:54:02.397Z"
   },
   {
    "duration": 13,
    "start_time": "2022-01-18T16:54:02.413Z"
   },
   {
    "duration": 985,
    "start_time": "2022-01-18T16:54:02.460Z"
   },
   {
    "duration": 44,
    "start_time": "2022-01-18T16:54:03.448Z"
   },
   {
    "duration": 9,
    "start_time": "2022-01-18T16:54:03.494Z"
   },
   {
    "duration": 16,
    "start_time": "2022-01-18T16:54:03.505Z"
   },
   {
    "duration": 7,
    "start_time": "2022-01-18T16:54:03.523Z"
   },
   {
    "duration": 6,
    "start_time": "2022-01-18T16:54:03.560Z"
   },
   {
    "duration": 20,
    "start_time": "2022-01-18T16:54:03.569Z"
   },
   {
    "duration": 4208,
    "start_time": "2022-01-18T16:54:03.592Z"
   },
   {
    "duration": 17,
    "start_time": "2022-01-18T16:54:07.803Z"
   },
   {
    "duration": 63,
    "start_time": "2022-01-18T16:54:07.822Z"
   },
   {
    "duration": 38,
    "start_time": "2022-01-18T16:54:07.887Z"
   },
   {
    "duration": 60,
    "start_time": "2022-01-18T16:54:07.927Z"
   },
   {
    "duration": 36,
    "start_time": "2022-01-18T16:54:07.989Z"
   },
   {
    "duration": 79,
    "start_time": "2022-01-18T16:54:08.027Z"
   },
   {
    "duration": 8,
    "start_time": "2022-01-18T16:55:02.430Z"
   },
   {
    "duration": 122,
    "start_time": "2022-01-18T16:55:07.264Z"
   },
   {
    "duration": 18,
    "start_time": "2022-01-18T16:55:07.390Z"
   },
   {
    "duration": 60,
    "start_time": "2022-01-18T16:55:07.412Z"
   },
   {
    "duration": 7,
    "start_time": "2022-01-18T16:55:07.475Z"
   },
   {
    "duration": 8,
    "start_time": "2022-01-18T16:55:07.484Z"
   },
   {
    "duration": 8,
    "start_time": "2022-01-18T16:55:07.494Z"
   },
   {
    "duration": 9,
    "start_time": "2022-01-18T16:55:07.505Z"
   },
   {
    "duration": 8,
    "start_time": "2022-01-18T16:55:07.563Z"
   },
   {
    "duration": 21,
    "start_time": "2022-01-18T16:55:07.574Z"
   },
   {
    "duration": 9,
    "start_time": "2022-01-18T16:55:07.597Z"
   },
   {
    "duration": 64,
    "start_time": "2022-01-18T16:55:07.609Z"
   },
   {
    "duration": 10,
    "start_time": "2022-01-18T16:55:07.676Z"
   },
   {
    "duration": 21,
    "start_time": "2022-01-18T16:55:07.689Z"
   },
   {
    "duration": 48,
    "start_time": "2022-01-18T16:55:07.713Z"
   },
   {
    "duration": 21,
    "start_time": "2022-01-18T16:55:07.763Z"
   },
   {
    "duration": 6,
    "start_time": "2022-01-18T16:55:07.787Z"
   },
   {
    "duration": 24,
    "start_time": "2022-01-18T16:55:07.796Z"
   },
   {
    "duration": 41,
    "start_time": "2022-01-18T16:55:07.822Z"
   },
   {
    "duration": 15,
    "start_time": "2022-01-18T16:55:07.865Z"
   },
   {
    "duration": 20,
    "start_time": "2022-01-18T16:55:07.883Z"
   },
   {
    "duration": 11,
    "start_time": "2022-01-18T16:55:07.906Z"
   },
   {
    "duration": 71,
    "start_time": "2022-01-18T16:55:07.919Z"
   },
   {
    "duration": 10,
    "start_time": "2022-01-18T16:55:07.997Z"
   },
   {
    "duration": 63,
    "start_time": "2022-01-18T16:55:08.010Z"
   },
   {
    "duration": 27,
    "start_time": "2022-01-18T16:55:08.075Z"
   },
   {
    "duration": 13,
    "start_time": "2022-01-18T16:55:08.104Z"
   },
   {
    "duration": 4740,
    "start_time": "2022-01-18T16:55:08.119Z"
   },
   {
    "duration": 9,
    "start_time": "2022-01-18T16:55:12.862Z"
   },
   {
    "duration": 10,
    "start_time": "2022-01-18T16:55:12.874Z"
   },
   {
    "duration": 12,
    "start_time": "2022-01-18T16:55:12.887Z"
   },
   {
    "duration": 58,
    "start_time": "2022-01-18T16:55:12.902Z"
   },
   {
    "duration": 11,
    "start_time": "2022-01-18T16:55:12.963Z"
   },
   {
    "duration": 26,
    "start_time": "2022-01-18T16:55:12.976Z"
   },
   {
    "duration": 79,
    "start_time": "2022-01-18T16:55:13.004Z"
   },
   {
    "duration": 41,
    "start_time": "2022-01-18T16:55:13.085Z"
   },
   {
    "duration": 35,
    "start_time": "2022-01-18T16:55:13.128Z"
   },
   {
    "duration": 11,
    "start_time": "2022-01-18T16:55:13.165Z"
   },
   {
    "duration": 1038,
    "start_time": "2022-01-18T16:55:13.179Z"
   },
   {
    "duration": 48,
    "start_time": "2022-01-18T16:55:14.220Z"
   },
   {
    "duration": 9,
    "start_time": "2022-01-18T16:55:14.270Z"
   },
   {
    "duration": 11,
    "start_time": "2022-01-18T16:55:14.282Z"
   },
   {
    "duration": 6,
    "start_time": "2022-01-18T16:55:14.295Z"
   },
   {
    "duration": 8,
    "start_time": "2022-01-18T16:55:14.304Z"
   },
   {
    "duration": 61,
    "start_time": "2022-01-18T16:55:14.315Z"
   },
   {
    "duration": 4209,
    "start_time": "2022-01-18T16:55:14.378Z"
   },
   {
    "duration": 20,
    "start_time": "2022-01-18T16:55:18.590Z"
   },
   {
    "duration": 65,
    "start_time": "2022-01-18T16:55:18.612Z"
   },
   {
    "duration": 42,
    "start_time": "2022-01-18T16:55:18.680Z"
   },
   {
    "duration": 59,
    "start_time": "2022-01-18T16:55:18.724Z"
   },
   {
    "duration": 40,
    "start_time": "2022-01-18T16:55:18.786Z"
   },
   {
    "duration": 83,
    "start_time": "2022-01-18T16:55:18.829Z"
   },
   {
    "duration": 192,
    "start_time": "2022-01-18T16:58:57.357Z"
   },
   {
    "duration": 444,
    "start_time": "2022-01-18T16:59:54.062Z"
   },
   {
    "duration": 6,
    "start_time": "2022-01-18T17:00:43.480Z"
   },
   {
    "duration": 7,
    "start_time": "2022-01-18T17:01:00.515Z"
   },
   {
    "duration": 6,
    "start_time": "2022-01-18T17:01:12.702Z"
   },
   {
    "duration": 7,
    "start_time": "2022-01-18T17:01:13.718Z"
   },
   {
    "duration": 24,
    "start_time": "2022-01-18T17:05:37.638Z"
   },
   {
    "duration": 26,
    "start_time": "2022-01-18T17:05:46.942Z"
   },
   {
    "duration": 26,
    "start_time": "2022-01-18T17:10:14.257Z"
   },
   {
    "duration": 26,
    "start_time": "2022-01-18T17:10:29.130Z"
   },
   {
    "duration": 28,
    "start_time": "2022-01-18T17:10:44.333Z"
   },
   {
    "duration": 27,
    "start_time": "2022-01-18T17:11:04.105Z"
   },
   {
    "duration": 107,
    "start_time": "2022-01-18T17:11:11.420Z"
   },
   {
    "duration": 16,
    "start_time": "2022-01-18T17:11:11.530Z"
   },
   {
    "duration": 19,
    "start_time": "2022-01-18T17:11:11.561Z"
   },
   {
    "duration": 7,
    "start_time": "2022-01-18T17:11:11.582Z"
   },
   {
    "duration": 9,
    "start_time": "2022-01-18T17:11:11.591Z"
   },
   {
    "duration": 8,
    "start_time": "2022-01-18T17:11:11.602Z"
   },
   {
    "duration": 52,
    "start_time": "2022-01-18T17:11:11.612Z"
   },
   {
    "duration": 8,
    "start_time": "2022-01-18T17:11:11.668Z"
   },
   {
    "duration": 23,
    "start_time": "2022-01-18T17:11:11.679Z"
   },
   {
    "duration": 6,
    "start_time": "2022-01-18T17:11:11.705Z"
   },
   {
    "duration": 21,
    "start_time": "2022-01-18T17:11:11.760Z"
   },
   {
    "duration": 9,
    "start_time": "2022-01-18T17:11:11.783Z"
   },
   {
    "duration": 21,
    "start_time": "2022-01-18T17:11:11.795Z"
   },
   {
    "duration": 44,
    "start_time": "2022-01-18T17:11:11.819Z"
   },
   {
    "duration": 21,
    "start_time": "2022-01-18T17:11:11.866Z"
   },
   {
    "duration": 7,
    "start_time": "2022-01-18T17:11:11.889Z"
   },
   {
    "duration": 66,
    "start_time": "2022-01-18T17:11:11.898Z"
   },
   {
    "duration": 7,
    "start_time": "2022-01-18T17:11:11.966Z"
   },
   {
    "duration": 13,
    "start_time": "2022-01-18T17:11:11.976Z"
   },
   {
    "duration": 18,
    "start_time": "2022-01-18T17:11:11.991Z"
   },
   {
    "duration": 9,
    "start_time": "2022-01-18T17:11:12.011Z"
   },
   {
    "duration": 32,
    "start_time": "2022-01-18T17:11:12.059Z"
   },
   {
    "duration": 8,
    "start_time": "2022-01-18T17:11:12.096Z"
   },
   {
    "duration": 5,
    "start_time": "2022-01-18T17:11:12.107Z"
   },
   {
    "duration": 46,
    "start_time": "2022-01-18T17:11:12.115Z"
   },
   {
    "duration": 25,
    "start_time": "2022-01-18T17:11:12.163Z"
   },
   {
    "duration": 26,
    "start_time": "2022-01-18T17:11:12.190Z"
   },
   {
    "duration": 45,
    "start_time": "2022-01-18T17:11:12.218Z"
   },
   {
    "duration": 4710,
    "start_time": "2022-01-18T17:11:12.265Z"
   },
   {
    "duration": 8,
    "start_time": "2022-01-18T17:11:16.978Z"
   },
   {
    "duration": 18,
    "start_time": "2022-01-18T17:11:16.988Z"
   },
   {
    "duration": 17,
    "start_time": "2022-01-18T17:11:17.009Z"
   },
   {
    "duration": 38,
    "start_time": "2022-01-18T17:11:17.028Z"
   },
   {
    "duration": 11,
    "start_time": "2022-01-18T17:11:17.069Z"
   },
   {
    "duration": 25,
    "start_time": "2022-01-18T17:11:17.082Z"
   },
   {
    "duration": 68,
    "start_time": "2022-01-18T17:11:17.109Z"
   },
   {
    "duration": 38,
    "start_time": "2022-01-18T17:11:17.179Z"
   },
   {
    "duration": 13,
    "start_time": "2022-01-18T17:11:17.220Z"
   },
   {
    "duration": 11,
    "start_time": "2022-01-18T17:11:17.261Z"
   },
   {
    "duration": 962,
    "start_time": "2022-01-18T17:11:17.275Z"
   },
   {
    "duration": 42,
    "start_time": "2022-01-18T17:11:18.240Z"
   },
   {
    "duration": 9,
    "start_time": "2022-01-18T17:11:18.285Z"
   },
   {
    "duration": 11,
    "start_time": "2022-01-18T17:11:18.296Z"
   },
   {
    "duration": 7,
    "start_time": "2022-01-18T17:11:18.309Z"
   },
   {
    "duration": 43,
    "start_time": "2022-01-18T17:11:18.318Z"
   },
   {
    "duration": 21,
    "start_time": "2022-01-18T17:11:18.364Z"
   },
   {
    "duration": 4361,
    "start_time": "2022-01-18T17:11:18.387Z"
   },
   {
    "duration": 23,
    "start_time": "2022-01-18T17:11:22.751Z"
   },
   {
    "duration": 42,
    "start_time": "2022-01-18T17:11:22.776Z"
   },
   {
    "duration": 64,
    "start_time": "2022-01-18T17:11:22.820Z"
   },
   {
    "duration": 35,
    "start_time": "2022-01-18T17:11:22.887Z"
   },
   {
    "duration": 61,
    "start_time": "2022-01-18T17:11:22.925Z"
   },
   {
    "duration": 53,
    "start_time": "2022-01-18T17:11:22.988Z"
   },
   {
    "duration": 26,
    "start_time": "2022-01-18T17:11:51.293Z"
   },
   {
    "duration": 4406,
    "start_time": "2022-01-18T17:17:29.634Z"
   },
   {
    "duration": 9,
    "start_time": "2022-01-18T17:19:21.744Z"
   },
   {
    "duration": 12,
    "start_time": "2022-01-18T17:25:42.436Z"
   },
   {
    "duration": 34,
    "start_time": "2022-01-18T17:51:46.809Z"
   },
   {
    "duration": 117,
    "start_time": "2022-01-18T17:51:53.825Z"
   },
   {
    "duration": 20,
    "start_time": "2022-01-18T17:51:53.944Z"
   },
   {
    "duration": 21,
    "start_time": "2022-01-18T17:51:53.967Z"
   },
   {
    "duration": 8,
    "start_time": "2022-01-18T17:51:53.990Z"
   },
   {
    "duration": 11,
    "start_time": "2022-01-18T17:51:54.001Z"
   },
   {
    "duration": 51,
    "start_time": "2022-01-18T17:51:54.014Z"
   },
   {
    "duration": 9,
    "start_time": "2022-01-18T17:51:54.068Z"
   },
   {
    "duration": 7,
    "start_time": "2022-01-18T17:51:54.081Z"
   },
   {
    "duration": 21,
    "start_time": "2022-01-18T17:51:54.091Z"
   },
   {
    "duration": 8,
    "start_time": "2022-01-18T17:51:54.160Z"
   },
   {
    "duration": 23,
    "start_time": "2022-01-18T17:51:54.170Z"
   },
   {
    "duration": 8,
    "start_time": "2022-01-18T17:51:54.195Z"
   },
   {
    "duration": 70,
    "start_time": "2022-01-18T17:51:54.205Z"
   },
   {
    "duration": 9,
    "start_time": "2022-01-18T17:51:54.277Z"
   },
   {
    "duration": 23,
    "start_time": "2022-01-18T17:51:54.289Z"
   },
   {
    "duration": 8,
    "start_time": "2022-01-18T17:51:54.360Z"
   },
   {
    "duration": 25,
    "start_time": "2022-01-18T17:51:54.370Z"
   },
   {
    "duration": 7,
    "start_time": "2022-01-18T17:51:54.398Z"
   },
   {
    "duration": 19,
    "start_time": "2022-01-18T17:51:54.407Z"
   },
   {
    "duration": 20,
    "start_time": "2022-01-18T17:51:54.462Z"
   },
   {
    "duration": 10,
    "start_time": "2022-01-18T17:51:54.485Z"
   },
   {
    "duration": 63,
    "start_time": "2022-01-18T17:51:54.498Z"
   },
   {
    "duration": 9,
    "start_time": "2022-01-18T17:51:54.567Z"
   },
   {
    "duration": 9,
    "start_time": "2022-01-18T17:51:54.579Z"
   },
   {
    "duration": 6,
    "start_time": "2022-01-18T17:51:54.591Z"
   },
   {
    "duration": 64,
    "start_time": "2022-01-18T17:51:54.600Z"
   },
   {
    "duration": 25,
    "start_time": "2022-01-18T17:51:54.666Z"
   },
   {
    "duration": 10,
    "start_time": "2022-01-18T17:51:54.693Z"
   },
   {
    "duration": 4777,
    "start_time": "2022-01-18T17:51:54.705Z"
   },
   {
    "duration": 9,
    "start_time": "2022-01-18T17:51:59.485Z"
   },
   {
    "duration": 17,
    "start_time": "2022-01-18T17:51:59.496Z"
   },
   {
    "duration": 53,
    "start_time": "2022-01-18T17:51:59.515Z"
   },
   {
    "duration": 23,
    "start_time": "2022-01-18T17:51:59.571Z"
   },
   {
    "duration": 71,
    "start_time": "2022-01-18T17:51:59.597Z"
   },
   {
    "duration": 16,
    "start_time": "2022-01-18T17:51:59.671Z"
   },
   {
    "duration": 10,
    "start_time": "2022-01-18T17:51:59.690Z"
   },
   {
    "duration": 1099,
    "start_time": "2022-01-18T17:51:59.702Z"
   },
   {
    "duration": 35,
    "start_time": "2022-01-18T17:52:00.804Z"
   },
   {
    "duration": 11,
    "start_time": "2022-01-18T17:52:00.860Z"
   },
   {
    "duration": 18,
    "start_time": "2022-01-18T17:52:00.873Z"
   },
   {
    "duration": 7,
    "start_time": "2022-01-18T17:52:00.894Z"
   },
   {
    "duration": 16,
    "start_time": "2022-01-18T17:52:00.903Z"
   },
   {
    "duration": 50,
    "start_time": "2022-01-18T17:52:00.922Z"
   },
   {
    "duration": 3952,
    "start_time": "2022-01-18T17:52:00.975Z"
   },
   {
    "duration": 30,
    "start_time": "2022-01-18T17:52:04.929Z"
   },
   {
    "duration": 42,
    "start_time": "2022-01-18T17:52:04.962Z"
   },
   {
    "duration": 64,
    "start_time": "2022-01-18T17:52:05.007Z"
   },
   {
    "duration": 36,
    "start_time": "2022-01-18T17:52:05.074Z"
   },
   {
    "duration": 59,
    "start_time": "2022-01-18T17:52:05.112Z"
   },
   {
    "duration": 55,
    "start_time": "2022-01-18T17:52:05.174Z"
   },
   {
    "duration": 64,
    "start_time": "2022-01-18T17:52:59.259Z"
   },
   {
    "duration": 11,
    "start_time": "2022-01-18T18:08:54.363Z"
   },
   {
    "duration": 20,
    "start_time": "2022-01-18T18:33:12.928Z"
   },
   {
    "duration": 35,
    "start_time": "2022-01-18T18:33:25.096Z"
   },
   {
    "duration": 31,
    "start_time": "2022-01-18T18:33:28.416Z"
   },
   {
    "duration": 2040,
    "start_time": "2022-01-18T18:35:08.810Z"
   },
   {
    "duration": 12,
    "start_time": "2022-01-18T18:35:15.426Z"
   },
   {
    "duration": 14,
    "start_time": "2022-01-18T18:35:20.738Z"
   },
   {
    "duration": 10,
    "start_time": "2022-01-18T18:35:31.826Z"
   },
   {
    "duration": 11,
    "start_time": "2022-01-18T18:35:54.971Z"
   },
   {
    "duration": 119,
    "start_time": "2022-01-18T18:37:05.571Z"
   },
   {
    "duration": 116,
    "start_time": "2022-01-18T18:37:10.541Z"
   },
   {
    "duration": 6,
    "start_time": "2022-01-18T18:37:19.236Z"
   },
   {
    "duration": 56,
    "start_time": "2022-01-18T18:42:07.666Z"
   },
   {
    "duration": 113,
    "start_time": "2022-01-18T18:42:51.602Z"
   },
   {
    "duration": 43,
    "start_time": "2022-01-18T18:42:51.718Z"
   },
   {
    "duration": 20,
    "start_time": "2022-01-18T18:42:51.764Z"
   },
   {
    "duration": 7,
    "start_time": "2022-01-18T18:42:51.786Z"
   },
   {
    "duration": 7,
    "start_time": "2022-01-18T18:42:51.796Z"
   },
   {
    "duration": 55,
    "start_time": "2022-01-18T18:42:51.805Z"
   },
   {
    "duration": 8,
    "start_time": "2022-01-18T18:42:51.862Z"
   },
   {
    "duration": 8,
    "start_time": "2022-01-18T18:42:51.874Z"
   },
   {
    "duration": 22,
    "start_time": "2022-01-18T18:42:51.885Z"
   },
   {
    "duration": 48,
    "start_time": "2022-01-18T18:42:51.910Z"
   },
   {
    "duration": 22,
    "start_time": "2022-01-18T18:42:51.961Z"
   },
   {
    "duration": 7,
    "start_time": "2022-01-18T18:42:51.986Z"
   },
   {
    "duration": 21,
    "start_time": "2022-01-18T18:42:51.996Z"
   },
   {
    "duration": 42,
    "start_time": "2022-01-18T18:42:52.020Z"
   },
   {
    "duration": 22,
    "start_time": "2022-01-18T18:42:52.065Z"
   },
   {
    "duration": 7,
    "start_time": "2022-01-18T18:42:52.090Z"
   },
   {
    "duration": 63,
    "start_time": "2022-01-18T18:42:52.099Z"
   },
   {
    "duration": 5,
    "start_time": "2022-01-18T18:42:52.164Z"
   },
   {
    "duration": 13,
    "start_time": "2022-01-18T18:42:52.172Z"
   },
   {
    "duration": 19,
    "start_time": "2022-01-18T18:42:52.187Z"
   },
   {
    "duration": 9,
    "start_time": "2022-01-18T18:42:52.208Z"
   },
   {
    "duration": 33,
    "start_time": "2022-01-18T18:42:52.260Z"
   },
   {
    "duration": 8,
    "start_time": "2022-01-18T18:42:52.298Z"
   },
   {
    "duration": 6,
    "start_time": "2022-01-18T18:42:52.309Z"
   },
   {
    "duration": 43,
    "start_time": "2022-01-18T18:42:52.317Z"
   },
   {
    "duration": 27,
    "start_time": "2022-01-18T18:42:52.363Z"
   },
   {
    "duration": 27,
    "start_time": "2022-01-18T18:42:52.393Z"
   },
   {
    "duration": 45,
    "start_time": "2022-01-18T18:42:52.423Z"
   },
   {
    "duration": 4628,
    "start_time": "2022-01-18T18:42:52.471Z"
   },
   {
    "duration": 10,
    "start_time": "2022-01-18T18:42:57.101Z"
   },
   {
    "duration": 17,
    "start_time": "2022-01-18T18:42:57.114Z"
   },
   {
    "duration": 50,
    "start_time": "2022-01-18T18:42:57.133Z"
   },
   {
    "duration": 23,
    "start_time": "2022-01-18T18:42:57.185Z"
   },
   {
    "duration": 71,
    "start_time": "2022-01-18T18:42:57.210Z"
   },
   {
    "duration": 12,
    "start_time": "2022-01-18T18:42:57.284Z"
   },
   {
    "duration": 975,
    "start_time": "2022-01-18T18:42:57.299Z"
   },
   {
    "duration": 33,
    "start_time": "2022-01-18T18:42:58.278Z"
   },
   {
    "duration": 10,
    "start_time": "2022-01-18T18:42:58.314Z"
   },
   {
    "duration": 9,
    "start_time": "2022-01-18T18:42:58.358Z"
   },
   {
    "duration": 53,
    "start_time": "2022-01-18T18:42:58.370Z"
   },
   {
    "duration": 4026,
    "start_time": "2022-01-18T18:42:58.459Z"
   },
   {
    "duration": 17,
    "start_time": "2022-01-18T18:43:02.488Z"
   },
   {
    "duration": 62,
    "start_time": "2022-01-18T18:43:02.508Z"
   },
   {
    "duration": 34,
    "start_time": "2022-01-18T18:43:02.572Z"
   },
   {
    "duration": 57,
    "start_time": "2022-01-18T18:43:02.609Z"
   },
   {
    "duration": 36,
    "start_time": "2022-01-18T18:43:02.668Z"
   },
   {
    "duration": 81,
    "start_time": "2022-01-18T18:43:02.706Z"
   },
   {
    "duration": 4423,
    "start_time": "2022-01-18T18:52:10.558Z"
   },
   {
    "duration": 4696,
    "start_time": "2022-01-18T18:54:43.903Z"
   },
   {
    "duration": 4584,
    "start_time": "2022-01-18T18:54:56.831Z"
   },
   {
    "duration": 4080,
    "start_time": "2022-01-18T18:57:17.868Z"
   },
   {
    "duration": 4328,
    "start_time": "2022-01-18T18:59:04.006Z"
   },
   {
    "duration": 4547,
    "start_time": "2022-01-18T18:59:25.277Z"
   },
   {
    "duration": 4582,
    "start_time": "2022-01-18T18:59:39.614Z"
   },
   {
    "duration": 4057,
    "start_time": "2022-01-18T19:02:21.584Z"
   },
   {
    "duration": 134,
    "start_time": "2022-01-18T19:09:27.801Z"
   },
   {
    "duration": 69,
    "start_time": "2022-01-18T19:18:03.555Z"
   },
   {
    "duration": 395,
    "start_time": "2022-01-18T19:18:29.066Z"
   },
   {
    "duration": 371,
    "start_time": "2022-01-18T19:19:04.653Z"
   },
   {
    "duration": 389,
    "start_time": "2022-01-18T19:19:13.389Z"
   },
   {
    "duration": 45,
    "start_time": "2022-01-18T19:19:49.124Z"
   },
   {
    "duration": 429,
    "start_time": "2022-01-18T19:20:19.293Z"
   },
   {
    "duration": 126,
    "start_time": "2022-01-18T19:21:30.155Z"
   },
   {
    "duration": 16,
    "start_time": "2022-01-18T19:21:30.284Z"
   },
   {
    "duration": 58,
    "start_time": "2022-01-18T19:21:30.302Z"
   },
   {
    "duration": 8,
    "start_time": "2022-01-18T19:21:30.363Z"
   },
   {
    "duration": 10,
    "start_time": "2022-01-18T19:21:30.373Z"
   },
   {
    "duration": 8,
    "start_time": "2022-01-18T19:21:30.385Z"
   },
   {
    "duration": 18,
    "start_time": "2022-01-18T19:21:30.396Z"
   },
   {
    "duration": 43,
    "start_time": "2022-01-18T19:21:30.418Z"
   },
   {
    "duration": 23,
    "start_time": "2022-01-18T19:21:30.464Z"
   },
   {
    "duration": 7,
    "start_time": "2022-01-18T19:21:30.490Z"
   },
   {
    "duration": 24,
    "start_time": "2022-01-18T19:21:30.499Z"
   },
   {
    "duration": 9,
    "start_time": "2022-01-18T19:21:30.560Z"
   },
   {
    "duration": 22,
    "start_time": "2022-01-18T19:21:30.571Z"
   },
   {
    "duration": 9,
    "start_time": "2022-01-18T19:21:30.595Z"
   },
   {
    "duration": 60,
    "start_time": "2022-01-18T19:21:30.606Z"
   },
   {
    "duration": 10,
    "start_time": "2022-01-18T19:21:30.669Z"
   },
   {
    "duration": 40,
    "start_time": "2022-01-18T19:21:30.681Z"
   },
   {
    "duration": 6,
    "start_time": "2022-01-18T19:21:30.723Z"
   },
   {
    "duration": 31,
    "start_time": "2022-01-18T19:21:30.731Z"
   },
   {
    "duration": 21,
    "start_time": "2022-01-18T19:21:30.765Z"
   },
   {
    "duration": 26,
    "start_time": "2022-01-18T19:21:30.788Z"
   },
   {
    "duration": 52,
    "start_time": "2022-01-18T19:21:30.816Z"
   },
   {
    "duration": 9,
    "start_time": "2022-01-18T19:21:30.874Z"
   },
   {
    "duration": 6,
    "start_time": "2022-01-18T19:21:30.886Z"
   },
   {
    "duration": 7,
    "start_time": "2022-01-18T19:21:30.895Z"
   },
   {
    "duration": 69,
    "start_time": "2022-01-18T19:21:30.904Z"
   },
   {
    "duration": 33,
    "start_time": "2022-01-18T19:21:30.975Z"
   },
   {
    "duration": 15,
    "start_time": "2022-01-18T19:21:31.011Z"
   },
   {
    "duration": 4778,
    "start_time": "2022-01-18T19:21:31.061Z"
   },
   {
    "duration": 22,
    "start_time": "2022-01-18T19:21:35.842Z"
   },
   {
    "duration": 18,
    "start_time": "2022-01-18T19:21:35.867Z"
   },
   {
    "duration": 26,
    "start_time": "2022-01-18T19:21:35.888Z"
   },
   {
    "duration": 59,
    "start_time": "2022-01-18T19:21:35.916Z"
   },
   {
    "duration": 61,
    "start_time": "2022-01-18T19:21:35.978Z"
   },
   {
    "duration": 17,
    "start_time": "2022-01-18T19:21:36.058Z"
   },
   {
    "duration": 1030,
    "start_time": "2022-01-18T19:21:36.078Z"
   },
   {
    "duration": 51,
    "start_time": "2022-01-18T19:21:37.112Z"
   },
   {
    "duration": 11,
    "start_time": "2022-01-18T19:21:37.166Z"
   },
   {
    "duration": 10,
    "start_time": "2022-01-18T19:21:37.179Z"
   },
   {
    "duration": 80,
    "start_time": "2022-01-18T19:21:37.192Z"
   },
   {
    "duration": 4415,
    "start_time": "2022-01-18T19:21:37.275Z"
   },
   {
    "duration": 10503,
    "start_time": "2022-01-18T19:21:41.693Z"
   },
   {
    "duration": 1646,
    "start_time": "2022-01-18T19:21:50.553Z"
   },
   {
    "duration": 1640,
    "start_time": "2022-01-18T19:21:50.560Z"
   },
   {
    "duration": 1635,
    "start_time": "2022-01-18T19:21:50.567Z"
   },
   {
    "duration": 1632,
    "start_time": "2022-01-18T19:21:50.572Z"
   },
   {
    "duration": 1628,
    "start_time": "2022-01-18T19:21:50.577Z"
   },
   {
    "duration": 132,
    "start_time": "2022-01-18T19:22:28.569Z"
   },
   {
    "duration": 15,
    "start_time": "2022-01-18T19:22:28.704Z"
   },
   {
    "duration": 55,
    "start_time": "2022-01-18T19:22:28.722Z"
   },
   {
    "duration": 7,
    "start_time": "2022-01-18T19:22:28.780Z"
   },
   {
    "duration": 8,
    "start_time": "2022-01-18T19:22:28.789Z"
   },
   {
    "duration": 8,
    "start_time": "2022-01-18T19:22:28.799Z"
   },
   {
    "duration": 54,
    "start_time": "2022-01-18T19:22:28.809Z"
   },
   {
    "duration": 7,
    "start_time": "2022-01-18T19:22:28.868Z"
   },
   {
    "duration": 23,
    "start_time": "2022-01-18T19:22:28.878Z"
   },
   {
    "duration": 7,
    "start_time": "2022-01-18T19:22:28.903Z"
   },
   {
    "duration": 59,
    "start_time": "2022-01-18T19:22:28.913Z"
   },
   {
    "duration": 9,
    "start_time": "2022-01-18T19:22:28.974Z"
   },
   {
    "duration": 21,
    "start_time": "2022-01-18T19:22:28.985Z"
   },
   {
    "duration": 9,
    "start_time": "2022-01-18T19:22:29.009Z"
   },
   {
    "duration": 61,
    "start_time": "2022-01-18T19:22:29.022Z"
   },
   {
    "duration": 7,
    "start_time": "2022-01-18T19:22:29.086Z"
   },
   {
    "duration": 27,
    "start_time": "2022-01-18T19:22:29.096Z"
   },
   {
    "duration": 36,
    "start_time": "2022-01-18T19:22:29.126Z"
   },
   {
    "duration": 13,
    "start_time": "2022-01-18T19:22:29.164Z"
   },
   {
    "duration": 21,
    "start_time": "2022-01-18T19:22:29.179Z"
   },
   {
    "duration": 13,
    "start_time": "2022-01-18T19:22:29.202Z"
   },
   {
    "duration": 68,
    "start_time": "2022-01-18T19:22:29.218Z"
   },
   {
    "duration": 9,
    "start_time": "2022-01-18T19:22:29.291Z"
   },
   {
    "duration": 8,
    "start_time": "2022-01-18T19:22:29.303Z"
   },
   {
    "duration": 8,
    "start_time": "2022-01-18T19:22:29.313Z"
   },
   {
    "duration": 61,
    "start_time": "2022-01-18T19:22:29.324Z"
   },
   {
    "duration": 26,
    "start_time": "2022-01-18T19:22:29.388Z"
   },
   {
    "duration": 43,
    "start_time": "2022-01-18T19:22:29.417Z"
   },
   {
    "duration": 4686,
    "start_time": "2022-01-18T19:22:29.463Z"
   },
   {
    "duration": 13,
    "start_time": "2022-01-18T19:22:34.152Z"
   },
   {
    "duration": 19,
    "start_time": "2022-01-18T19:22:34.168Z"
   },
   {
    "duration": 27,
    "start_time": "2022-01-18T19:22:34.189Z"
   },
   {
    "duration": 23,
    "start_time": "2022-01-18T19:22:34.219Z"
   },
   {
    "duration": 52,
    "start_time": "2022-01-18T19:22:34.244Z"
   },
   {
    "duration": 10,
    "start_time": "2022-01-18T19:22:34.299Z"
   },
   {
    "duration": 1178,
    "start_time": "2022-01-18T19:22:34.311Z"
   },
   {
    "duration": 30,
    "start_time": "2022-01-18T19:22:35.492Z"
   },
   {
    "duration": 35,
    "start_time": "2022-01-18T19:22:35.525Z"
   },
   {
    "duration": 7,
    "start_time": "2022-01-18T19:22:35.563Z"
   },
   {
    "duration": 51,
    "start_time": "2022-01-18T19:22:35.573Z"
   },
   {
    "duration": 4012,
    "start_time": "2022-01-18T19:22:35.659Z"
   },
   {
    "duration": 17,
    "start_time": "2022-01-18T19:22:39.674Z"
   },
   {
    "duration": 71,
    "start_time": "2022-01-18T19:22:39.694Z"
   },
   {
    "duration": 36,
    "start_time": "2022-01-18T19:22:39.767Z"
   },
   {
    "duration": 54,
    "start_time": "2022-01-18T19:22:39.806Z"
   },
   {
    "duration": 38,
    "start_time": "2022-01-18T19:22:39.863Z"
   },
   {
    "duration": 79,
    "start_time": "2022-01-18T19:22:39.903Z"
   },
   {
    "duration": 335,
    "start_time": "2022-01-19T10:06:32.031Z"
   },
   {
    "duration": 742,
    "start_time": "2022-01-19T10:06:39.859Z"
   },
   {
    "duration": 10,
    "start_time": "2022-01-19T10:06:40.603Z"
   },
   {
    "duration": 98,
    "start_time": "2022-01-19T10:06:40.615Z"
   },
   {
    "duration": 22,
    "start_time": "2022-01-19T10:06:40.715Z"
   },
   {
    "duration": 59,
    "start_time": "2022-01-19T10:06:40.739Z"
   },
   {
    "duration": 17,
    "start_time": "2022-01-19T10:06:40.800Z"
   },
   {
    "duration": 25,
    "start_time": "2022-01-19T10:06:40.819Z"
   },
   {
    "duration": 54,
    "start_time": "2022-01-19T10:06:40.847Z"
   },
   {
    "duration": 86,
    "start_time": "2022-01-19T10:06:40.903Z"
   },
   {
    "duration": 24,
    "start_time": "2022-01-19T10:06:40.991Z"
   },
   {
    "duration": 46,
    "start_time": "2022-01-19T10:06:41.017Z"
   },
   {
    "duration": 24,
    "start_time": "2022-01-19T10:06:41.065Z"
   },
   {
    "duration": 77,
    "start_time": "2022-01-19T10:06:41.090Z"
   },
   {
    "duration": 14,
    "start_time": "2022-01-19T10:06:41.168Z"
   },
   {
    "duration": 44,
    "start_time": "2022-01-19T10:06:41.184Z"
   },
   {
    "duration": 25,
    "start_time": "2022-01-19T10:06:41.230Z"
   },
   {
    "duration": 35,
    "start_time": "2022-01-19T10:06:41.258Z"
   },
   {
    "duration": 35,
    "start_time": "2022-01-19T10:06:41.295Z"
   },
   {
    "duration": 46,
    "start_time": "2022-01-19T10:06:41.332Z"
   },
   {
    "duration": 30,
    "start_time": "2022-01-19T10:06:41.380Z"
   },
   {
    "duration": 33,
    "start_time": "2022-01-19T10:06:41.412Z"
   },
   {
    "duration": 47,
    "start_time": "2022-01-19T10:06:41.447Z"
   },
   {
    "duration": 20,
    "start_time": "2022-01-19T10:06:41.498Z"
   },
   {
    "duration": 32,
    "start_time": "2022-01-19T10:06:41.520Z"
   },
   {
    "duration": 55,
    "start_time": "2022-01-19T10:06:41.553Z"
   },
   {
    "duration": 46,
    "start_time": "2022-01-19T10:06:41.610Z"
   },
   {
    "duration": 27,
    "start_time": "2022-01-19T10:06:41.659Z"
   },
   {
    "duration": 34,
    "start_time": "2022-01-19T10:06:41.688Z"
   },
   {
    "duration": 2375,
    "start_time": "2022-01-19T10:06:41.725Z"
   },
   {
    "duration": 8,
    "start_time": "2022-01-19T10:06:44.102Z"
   },
   {
    "duration": 52,
    "start_time": "2022-01-19T10:06:44.112Z"
   },
   {
    "duration": 42,
    "start_time": "2022-01-19T10:06:44.167Z"
   },
   {
    "duration": 37,
    "start_time": "2022-01-19T10:06:44.211Z"
   },
   {
    "duration": 36,
    "start_time": "2022-01-19T10:06:44.251Z"
   },
   {
    "duration": 9,
    "start_time": "2022-01-19T10:06:44.289Z"
   },
   {
    "duration": 692,
    "start_time": "2022-01-19T10:06:44.300Z"
   },
   {
    "duration": 22,
    "start_time": "2022-01-19T10:06:44.994Z"
   },
   {
    "duration": 46,
    "start_time": "2022-01-19T10:06:45.019Z"
   },
   {
    "duration": 40,
    "start_time": "2022-01-19T10:06:45.067Z"
   },
   {
    "duration": 64,
    "start_time": "2022-01-19T10:06:45.109Z"
   },
   {
    "duration": 2990,
    "start_time": "2022-01-19T10:06:45.175Z"
   },
   {
    "duration": 10,
    "start_time": "2022-01-19T10:06:48.167Z"
   },
   {
    "duration": 105,
    "start_time": "2022-01-19T10:06:48.179Z"
   },
   {
    "duration": 22,
    "start_time": "2022-01-19T10:06:48.286Z"
   },
   {
    "duration": 58,
    "start_time": "2022-01-19T10:06:48.310Z"
   },
   {
    "duration": 81,
    "start_time": "2022-01-19T10:06:48.370Z"
   },
   {
    "duration": 85,
    "start_time": "2022-01-19T10:06:48.453Z"
   },
   {
    "duration": 23,
    "start_time": "2022-01-19T10:25:34.442Z"
   },
   {
    "duration": 289,
    "start_time": "2022-01-19T10:26:03.214Z"
   },
   {
    "duration": 256,
    "start_time": "2022-01-19T10:26:13.658Z"
   },
   {
    "duration": 23,
    "start_time": "2022-01-19T10:26:48.245Z"
   },
   {
    "duration": 28,
    "start_time": "2022-01-19T10:27:19.236Z"
   },
   {
    "duration": 256,
    "start_time": "2022-01-19T10:28:22.486Z"
   },
   {
    "duration": 271,
    "start_time": "2022-01-19T10:28:26.381Z"
   },
   {
    "duration": 26,
    "start_time": "2022-01-19T10:28:30.117Z"
   },
   {
    "duration": 74,
    "start_time": "2022-01-19T10:29:18.238Z"
   },
   {
    "duration": 275,
    "start_time": "2022-01-19T10:31:04.177Z"
   },
   {
    "duration": 30,
    "start_time": "2022-01-19T10:31:10.954Z"
   },
   {
    "duration": 30,
    "start_time": "2022-01-19T10:31:30.273Z"
   },
   {
    "duration": 275,
    "start_time": "2022-01-19T10:33:49.987Z"
   },
   {
    "duration": 29,
    "start_time": "2022-01-19T10:34:00.117Z"
   },
   {
    "duration": 43,
    "start_time": "2022-01-19T10:39:39.836Z"
   },
   {
    "duration": 274,
    "start_time": "2022-01-19T10:41:44.112Z"
   },
   {
    "duration": 87,
    "start_time": "2022-01-19T10:41:56.266Z"
   },
   {
    "duration": 17,
    "start_time": "2022-01-19T10:41:56.356Z"
   },
   {
    "duration": 20,
    "start_time": "2022-01-19T10:41:56.376Z"
   },
   {
    "duration": 7,
    "start_time": "2022-01-19T10:41:56.398Z"
   },
   {
    "duration": 7,
    "start_time": "2022-01-19T10:41:56.406Z"
   },
   {
    "duration": 6,
    "start_time": "2022-01-19T10:41:56.414Z"
   },
   {
    "duration": 10,
    "start_time": "2022-01-19T10:41:56.464Z"
   },
   {
    "duration": 9,
    "start_time": "2022-01-19T10:41:56.477Z"
   },
   {
    "duration": 17,
    "start_time": "2022-01-19T10:41:56.489Z"
   },
   {
    "duration": 5,
    "start_time": "2022-01-19T10:41:56.509Z"
   },
   {
    "duration": 54,
    "start_time": "2022-01-19T10:41:56.516Z"
   },
   {
    "duration": 13,
    "start_time": "2022-01-19T10:41:56.573Z"
   },
   {
    "duration": 15,
    "start_time": "2022-01-19T10:41:56.588Z"
   },
   {
    "duration": 7,
    "start_time": "2022-01-19T10:41:56.604Z"
   },
   {
    "duration": 19,
    "start_time": "2022-01-19T10:41:56.613Z"
   },
   {
    "duration": 8,
    "start_time": "2022-01-19T10:41:56.662Z"
   },
   {
    "duration": 31,
    "start_time": "2022-01-19T10:41:56.672Z"
   },
   {
    "duration": 11,
    "start_time": "2022-01-19T10:41:56.705Z"
   },
   {
    "duration": 13,
    "start_time": "2022-01-19T10:41:56.718Z"
   },
   {
    "duration": 28,
    "start_time": "2022-01-19T10:41:56.732Z"
   },
   {
    "duration": 10,
    "start_time": "2022-01-19T10:41:56.763Z"
   },
   {
    "duration": 29,
    "start_time": "2022-01-19T10:41:56.775Z"
   },
   {
    "duration": 7,
    "start_time": "2022-01-19T10:41:56.806Z"
   },
   {
    "duration": 5,
    "start_time": "2022-01-19T10:41:56.815Z"
   },
   {
    "duration": 39,
    "start_time": "2022-01-19T10:41:56.822Z"
   },
   {
    "duration": 31,
    "start_time": "2022-01-19T10:41:56.863Z"
   },
   {
    "duration": 28,
    "start_time": "2022-01-19T10:41:56.899Z"
   },
   {
    "duration": 41,
    "start_time": "2022-01-19T10:41:56.930Z"
   },
   {
    "duration": 4900,
    "start_time": "2022-01-19T10:41:56.973Z"
   },
   {
    "duration": 10,
    "start_time": "2022-01-19T10:42:01.875Z"
   },
   {
    "duration": 17,
    "start_time": "2022-01-19T10:42:01.887Z"
   },
   {
    "duration": 56,
    "start_time": "2022-01-19T10:42:01.907Z"
   },
   {
    "duration": 25,
    "start_time": "2022-01-19T10:42:01.966Z"
   },
   {
    "duration": 45,
    "start_time": "2022-01-19T10:42:01.994Z"
   },
   {
    "duration": 12,
    "start_time": "2022-01-19T10:42:02.062Z"
   },
   {
    "duration": 1064,
    "start_time": "2022-01-19T10:42:02.077Z"
   },
   {
    "duration": 32,
    "start_time": "2022-01-19T10:42:03.143Z"
   },
   {
    "duration": 55,
    "start_time": "2022-01-19T10:42:03.178Z"
   },
   {
    "duration": 63,
    "start_time": "2022-01-19T10:42:03.235Z"
   },
   {
    "duration": 55,
    "start_time": "2022-01-19T10:42:03.300Z"
   },
   {
    "duration": 3828,
    "start_time": "2022-01-19T10:42:03.357Z"
   },
   {
    "duration": 23,
    "start_time": "2022-01-19T10:42:07.187Z"
   },
   {
    "duration": 74,
    "start_time": "2022-01-19T10:42:07.212Z"
   },
   {
    "duration": 343,
    "start_time": "2022-01-19T10:42:07.288Z"
   },
   {
    "duration": 211,
    "start_time": "2022-01-19T10:42:07.423Z"
   },
   {
    "duration": 203,
    "start_time": "2022-01-19T10:42:07.433Z"
   },
   {
    "duration": 199,
    "start_time": "2022-01-19T10:42:07.438Z"
   },
   {
    "duration": 197,
    "start_time": "2022-01-19T10:42:07.442Z"
   },
   {
    "duration": 303,
    "start_time": "2022-01-19T10:42:25.511Z"
   },
   {
    "duration": 31,
    "start_time": "2022-01-19T10:43:10.184Z"
   },
   {
    "duration": 31,
    "start_time": "2022-01-19T10:44:49.072Z"
   },
   {
    "duration": 325,
    "start_time": "2022-01-19T11:22:12.244Z"
   },
   {
    "duration": 258,
    "start_time": "2022-01-19T11:25:19.513Z"
   },
   {
    "duration": 277,
    "start_time": "2022-01-19T11:25:53.470Z"
   },
   {
    "duration": 282,
    "start_time": "2022-01-19T11:26:08.629Z"
   },
   {
    "duration": 357,
    "start_time": "2022-01-19T11:29:15.508Z"
   },
   {
    "duration": 269,
    "start_time": "2022-01-19T11:30:11.668Z"
   },
   {
    "duration": 30,
    "start_time": "2022-01-19T11:30:15.532Z"
   },
   {
    "duration": 42,
    "start_time": "2022-01-19T11:31:42.453Z"
   },
   {
    "duration": 8471,
    "start_time": "2022-01-19T11:32:59.289Z"
   },
   {
    "duration": 87,
    "start_time": "2022-01-19T11:33:27.998Z"
   },
   {
    "duration": 11,
    "start_time": "2022-01-19T11:33:28.087Z"
   },
   {
    "duration": 33,
    "start_time": "2022-01-19T11:33:28.101Z"
   },
   {
    "duration": 26,
    "start_time": "2022-01-19T11:33:28.137Z"
   },
   {
    "duration": 18,
    "start_time": "2022-01-19T11:33:28.165Z"
   },
   {
    "duration": 7,
    "start_time": "2022-01-19T11:33:28.186Z"
   },
   {
    "duration": 8,
    "start_time": "2022-01-19T11:33:28.195Z"
   },
   {
    "duration": 6,
    "start_time": "2022-01-19T11:33:28.207Z"
   },
   {
    "duration": 54,
    "start_time": "2022-01-19T11:33:28.215Z"
   },
   {
    "duration": 17,
    "start_time": "2022-01-19T11:33:28.271Z"
   },
   {
    "duration": 15,
    "start_time": "2022-01-19T11:33:28.289Z"
   },
   {
    "duration": 5,
    "start_time": "2022-01-19T11:33:28.306Z"
   },
   {
    "duration": 14,
    "start_time": "2022-01-19T11:33:28.313Z"
   },
   {
    "duration": 43,
    "start_time": "2022-01-19T11:33:28.329Z"
   },
   {
    "duration": 19,
    "start_time": "2022-01-19T11:33:28.374Z"
   },
   {
    "duration": 5,
    "start_time": "2022-01-19T11:33:28.395Z"
   },
   {
    "duration": 22,
    "start_time": "2022-01-19T11:33:28.402Z"
   },
   {
    "duration": 6,
    "start_time": "2022-01-19T11:33:28.426Z"
   },
   {
    "duration": 34,
    "start_time": "2022-01-19T11:33:28.434Z"
   },
   {
    "duration": 20,
    "start_time": "2022-01-19T11:33:28.470Z"
   },
   {
    "duration": 18,
    "start_time": "2022-01-19T11:33:28.492Z"
   },
   {
    "duration": 24,
    "start_time": "2022-01-19T11:33:28.512Z"
   },
   {
    "duration": 8,
    "start_time": "2022-01-19T11:33:28.561Z"
   },
   {
    "duration": 5,
    "start_time": "2022-01-19T11:33:28.571Z"
   },
   {
    "duration": 5,
    "start_time": "2022-01-19T11:33:28.578Z"
   },
   {
    "duration": 21,
    "start_time": "2022-01-19T11:33:28.585Z"
   },
   {
    "duration": 18,
    "start_time": "2022-01-19T11:33:28.608Z"
   },
   {
    "duration": 8,
    "start_time": "2022-01-19T11:33:28.661Z"
   },
   {
    "duration": 2543,
    "start_time": "2022-01-19T11:33:28.671Z"
   },
   {
    "duration": 8,
    "start_time": "2022-01-19T11:33:31.216Z"
   },
   {
    "duration": 18,
    "start_time": "2022-01-19T11:33:31.233Z"
   },
   {
    "duration": 24,
    "start_time": "2022-01-19T11:33:31.253Z"
   },
   {
    "duration": 36,
    "start_time": "2022-01-19T11:33:31.278Z"
   },
   {
    "duration": 32,
    "start_time": "2022-01-19T11:33:31.316Z"
   },
   {
    "duration": 18,
    "start_time": "2022-01-19T11:33:31.350Z"
   },
   {
    "duration": 751,
    "start_time": "2022-01-19T11:33:31.370Z"
   },
   {
    "duration": 26,
    "start_time": "2022-01-19T11:33:32.123Z"
   },
   {
    "duration": 9,
    "start_time": "2022-01-19T11:33:32.160Z"
   },
   {
    "duration": 10,
    "start_time": "2022-01-19T11:33:32.170Z"
   },
   {
    "duration": 42,
    "start_time": "2022-01-19T11:33:32.182Z"
   },
   {
    "duration": 3519,
    "start_time": "2022-01-19T11:33:32.226Z"
   },
   {
    "duration": 21,
    "start_time": "2022-01-19T11:33:35.746Z"
   },
   {
    "duration": 40,
    "start_time": "2022-01-19T11:33:35.769Z"
   },
   {
    "duration": 30,
    "start_time": "2022-01-19T11:33:35.811Z"
   },
   {
    "duration": 7508,
    "start_time": "2022-01-19T11:33:35.861Z"
   },
   {
    "duration": 303,
    "start_time": "2022-01-19T11:33:43.068Z"
   },
   {
    "duration": 298,
    "start_time": "2022-01-19T11:33:43.074Z"
   },
   {
    "duration": 292,
    "start_time": "2022-01-19T11:33:43.081Z"
   },
   {
    "duration": 6468,
    "start_time": "2022-01-19T11:33:53.966Z"
   },
   {
    "duration": 252,
    "start_time": "2022-01-19T11:34:07.610Z"
   },
   {
    "duration": 84,
    "start_time": "2022-01-19T11:34:32.880Z"
   },
   {
    "duration": 258,
    "start_time": "2022-01-19T11:34:46.281Z"
   },
   {
    "duration": 246,
    "start_time": "2022-01-19T11:35:11.121Z"
   },
   {
    "duration": 81,
    "start_time": "2022-01-19T11:35:44.661Z"
   },
   {
    "duration": 24,
    "start_time": "2022-01-19T11:35:44.744Z"
   },
   {
    "duration": 39,
    "start_time": "2022-01-19T11:35:44.770Z"
   },
   {
    "duration": 27,
    "start_time": "2022-01-19T11:35:44.811Z"
   },
   {
    "duration": 14,
    "start_time": "2022-01-19T11:35:44.839Z"
   },
   {
    "duration": 23,
    "start_time": "2022-01-19T11:35:44.854Z"
   },
   {
    "duration": 35,
    "start_time": "2022-01-19T11:35:44.879Z"
   },
   {
    "duration": 26,
    "start_time": "2022-01-19T11:35:44.917Z"
   },
   {
    "duration": 32,
    "start_time": "2022-01-19T11:35:44.945Z"
   },
   {
    "duration": 21,
    "start_time": "2022-01-19T11:35:44.978Z"
   },
   {
    "duration": 39,
    "start_time": "2022-01-19T11:35:45.001Z"
   },
   {
    "duration": 32,
    "start_time": "2022-01-19T11:35:45.042Z"
   },
   {
    "duration": 34,
    "start_time": "2022-01-19T11:35:45.075Z"
   },
   {
    "duration": 34,
    "start_time": "2022-01-19T11:35:45.111Z"
   },
   {
    "duration": 46,
    "start_time": "2022-01-19T11:35:45.146Z"
   },
   {
    "duration": 21,
    "start_time": "2022-01-19T11:35:45.194Z"
   },
   {
    "duration": 29,
    "start_time": "2022-01-19T11:35:45.217Z"
   },
   {
    "duration": 34,
    "start_time": "2022-01-19T11:35:45.248Z"
   },
   {
    "duration": 38,
    "start_time": "2022-01-19T11:35:45.284Z"
   },
   {
    "duration": 18,
    "start_time": "2022-01-19T11:35:45.323Z"
   },
   {
    "duration": 32,
    "start_time": "2022-01-19T11:35:45.342Z"
   },
   {
    "duration": 78,
    "start_time": "2022-01-19T11:35:45.375Z"
   },
   {
    "duration": 30,
    "start_time": "2022-01-19T11:35:45.456Z"
   },
   {
    "duration": 25,
    "start_time": "2022-01-19T11:35:45.487Z"
   },
   {
    "duration": 37,
    "start_time": "2022-01-19T11:35:45.514Z"
   },
   {
    "duration": 27,
    "start_time": "2022-01-19T11:35:45.552Z"
   },
   {
    "duration": 34,
    "start_time": "2022-01-19T11:35:45.581Z"
   },
   {
    "duration": 22,
    "start_time": "2022-01-19T11:35:45.617Z"
   },
   {
    "duration": 2419,
    "start_time": "2022-01-19T11:35:45.641Z"
   },
   {
    "duration": 8,
    "start_time": "2022-01-19T11:35:48.063Z"
   },
   {
    "duration": 12,
    "start_time": "2022-01-19T11:35:48.073Z"
   },
   {
    "duration": 17,
    "start_time": "2022-01-19T11:35:48.086Z"
   },
   {
    "duration": 15,
    "start_time": "2022-01-19T11:35:48.105Z"
   },
   {
    "duration": 64,
    "start_time": "2022-01-19T11:35:48.122Z"
   },
   {
    "duration": 7,
    "start_time": "2022-01-19T11:35:48.188Z"
   },
   {
    "duration": 670,
    "start_time": "2022-01-19T11:35:48.196Z"
   },
   {
    "duration": 18,
    "start_time": "2022-01-19T11:35:48.868Z"
   },
   {
    "duration": 24,
    "start_time": "2022-01-19T11:35:48.888Z"
   },
   {
    "duration": 30,
    "start_time": "2022-01-19T11:35:48.914Z"
   },
   {
    "duration": 54,
    "start_time": "2022-01-19T11:35:48.946Z"
   },
   {
    "duration": 3173,
    "start_time": "2022-01-19T11:35:49.001Z"
   },
   {
    "duration": 15,
    "start_time": "2022-01-19T11:35:52.177Z"
   },
   {
    "duration": 79,
    "start_time": "2022-01-19T11:35:52.194Z"
   },
   {
    "duration": 32,
    "start_time": "2022-01-19T11:35:52.275Z"
   },
   {
    "duration": 327,
    "start_time": "2022-01-19T11:35:52.309Z"
   },
   {
    "duration": 278,
    "start_time": "2022-01-19T11:35:52.361Z"
   },
   {
    "duration": 271,
    "start_time": "2022-01-19T11:35:52.369Z"
   },
   {
    "duration": 265,
    "start_time": "2022-01-19T11:35:52.377Z"
   },
   {
    "duration": 82,
    "start_time": "2022-01-19T11:36:08.450Z"
   },
   {
    "duration": 31,
    "start_time": "2022-01-19T11:36:12.914Z"
   },
   {
    "duration": 271,
    "start_time": "2022-01-19T11:46:46.981Z"
   },
   {
    "duration": 264,
    "start_time": "2022-01-19T11:48:59.067Z"
   },
   {
    "duration": 297,
    "start_time": "2022-01-19T11:50:14.214Z"
   },
   {
    "duration": 38,
    "start_time": "2022-01-19T11:52:14.188Z"
   },
   {
    "duration": 395,
    "start_time": "2022-01-19T11:52:34.878Z"
   },
   {
    "duration": 27,
    "start_time": "2022-01-19T11:53:06.877Z"
   },
   {
    "duration": 260,
    "start_time": "2022-01-19T11:53:25.910Z"
   },
   {
    "duration": 1095,
    "start_time": "2022-01-19T11:56:11.480Z"
   },
   {
    "duration": 3618,
    "start_time": "2022-01-19T11:56:18.320Z"
   },
   {
    "duration": 1153,
    "start_time": "2022-01-19T11:57:10.721Z"
   },
   {
    "duration": 3433,
    "start_time": "2022-01-19T11:57:26.186Z"
   },
   {
    "duration": 79,
    "start_time": "2022-01-19T11:57:54.716Z"
   },
   {
    "duration": 10,
    "start_time": "2022-01-19T11:57:54.798Z"
   },
   {
    "duration": 28,
    "start_time": "2022-01-19T11:57:54.811Z"
   },
   {
    "duration": 27,
    "start_time": "2022-01-19T11:57:54.841Z"
   },
   {
    "duration": 25,
    "start_time": "2022-01-19T11:57:54.870Z"
   },
   {
    "duration": 27,
    "start_time": "2022-01-19T11:57:54.897Z"
   },
   {
    "duration": 23,
    "start_time": "2022-01-19T11:57:54.925Z"
   },
   {
    "duration": 19,
    "start_time": "2022-01-19T11:57:54.951Z"
   },
   {
    "duration": 35,
    "start_time": "2022-01-19T11:57:54.973Z"
   },
   {
    "duration": 19,
    "start_time": "2022-01-19T11:57:55.010Z"
   },
   {
    "duration": 38,
    "start_time": "2022-01-19T11:57:55.031Z"
   },
   {
    "duration": 16,
    "start_time": "2022-01-19T11:57:55.071Z"
   },
   {
    "duration": 42,
    "start_time": "2022-01-19T11:57:55.089Z"
   },
   {
    "duration": 19,
    "start_time": "2022-01-19T11:57:55.133Z"
   },
   {
    "duration": 36,
    "start_time": "2022-01-19T11:57:55.154Z"
   },
   {
    "duration": 29,
    "start_time": "2022-01-19T11:57:55.192Z"
   },
   {
    "duration": 33,
    "start_time": "2022-01-19T11:57:55.223Z"
   },
   {
    "duration": 17,
    "start_time": "2022-01-19T11:57:55.258Z"
   },
   {
    "duration": 32,
    "start_time": "2022-01-19T11:57:55.276Z"
   },
   {
    "duration": 34,
    "start_time": "2022-01-19T11:57:55.310Z"
   },
   {
    "duration": 38,
    "start_time": "2022-01-19T11:57:55.346Z"
   },
   {
    "duration": 39,
    "start_time": "2022-01-19T11:57:55.386Z"
   },
   {
    "duration": 26,
    "start_time": "2022-01-19T11:57:55.429Z"
   },
   {
    "duration": 32,
    "start_time": "2022-01-19T11:57:55.458Z"
   },
   {
    "duration": 8,
    "start_time": "2022-01-19T11:57:55.492Z"
   },
   {
    "duration": 18,
    "start_time": "2022-01-19T11:57:55.501Z"
   },
   {
    "duration": 18,
    "start_time": "2022-01-19T11:57:55.520Z"
   },
   {
    "duration": 6,
    "start_time": "2022-01-19T11:57:55.540Z"
   },
   {
    "duration": 2576,
    "start_time": "2022-01-19T11:57:55.548Z"
   },
   {
    "duration": 7,
    "start_time": "2022-01-19T11:57:58.125Z"
   },
   {
    "duration": 42,
    "start_time": "2022-01-19T11:57:58.134Z"
   },
   {
    "duration": 47,
    "start_time": "2022-01-19T11:57:58.178Z"
   },
   {
    "duration": 30,
    "start_time": "2022-01-19T11:57:58.227Z"
   },
   {
    "duration": 31,
    "start_time": "2022-01-19T11:57:58.259Z"
   },
   {
    "duration": 7,
    "start_time": "2022-01-19T11:57:58.292Z"
   },
   {
    "duration": 768,
    "start_time": "2022-01-19T11:57:58.301Z"
   },
   {
    "duration": 22,
    "start_time": "2022-01-19T11:57:59.071Z"
   },
   {
    "duration": 15,
    "start_time": "2022-01-19T11:57:59.094Z"
   },
   {
    "duration": 15,
    "start_time": "2022-01-19T11:57:59.110Z"
   },
   {
    "duration": 48,
    "start_time": "2022-01-19T11:57:59.127Z"
   },
   {
    "duration": 3199,
    "start_time": "2022-01-19T11:57:59.177Z"
   },
   {
    "duration": 13,
    "start_time": "2022-01-19T11:58:02.378Z"
   },
   {
    "duration": 98,
    "start_time": "2022-01-19T11:58:02.393Z"
   },
   {
    "duration": 29,
    "start_time": "2022-01-19T11:58:02.493Z"
   },
   {
    "duration": 40,
    "start_time": "2022-01-19T11:58:02.524Z"
   },
   {
    "duration": 41,
    "start_time": "2022-01-19T11:58:02.566Z"
   },
   {
    "duration": 29,
    "start_time": "2022-01-19T11:58:02.609Z"
   },
   {
    "duration": 55,
    "start_time": "2022-01-19T11:58:02.639Z"
   },
   {
    "duration": 32,
    "start_time": "2022-01-19T11:59:34.164Z"
   },
   {
    "duration": 22,
    "start_time": "2022-01-19T11:59:44.852Z"
   },
   {
    "duration": 3100,
    "start_time": "2022-01-19T12:00:58.288Z"
   },
   {
    "duration": 2857,
    "start_time": "2022-01-19T12:01:26.283Z"
   },
   {
    "duration": 12,
    "start_time": "2022-01-19T12:05:35.308Z"
   },
   {
    "duration": 1685,
    "start_time": "2022-01-19T12:05:56.668Z"
   },
   {
    "duration": 86,
    "start_time": "2022-01-19T12:06:06.396Z"
   },
   {
    "duration": 11,
    "start_time": "2022-01-19T12:06:06.484Z"
   },
   {
    "duration": 35,
    "start_time": "2022-01-19T12:06:06.497Z"
   },
   {
    "duration": 17,
    "start_time": "2022-01-19T12:06:06.534Z"
   },
   {
    "duration": 5,
    "start_time": "2022-01-19T12:06:06.561Z"
   },
   {
    "duration": 22,
    "start_time": "2022-01-19T12:06:06.568Z"
   },
   {
    "duration": 18,
    "start_time": "2022-01-19T12:06:06.591Z"
   },
   {
    "duration": 31,
    "start_time": "2022-01-19T12:06:06.612Z"
   },
   {
    "duration": 42,
    "start_time": "2022-01-19T12:06:06.645Z"
   },
   {
    "duration": 15,
    "start_time": "2022-01-19T12:06:06.689Z"
   },
   {
    "duration": 42,
    "start_time": "2022-01-19T12:06:06.706Z"
   },
   {
    "duration": 11,
    "start_time": "2022-01-19T12:06:06.750Z"
   },
   {
    "duration": 40,
    "start_time": "2022-01-19T12:06:06.763Z"
   },
   {
    "duration": 34,
    "start_time": "2022-01-19T12:06:06.805Z"
   },
   {
    "duration": 49,
    "start_time": "2022-01-19T12:06:06.841Z"
   },
   {
    "duration": 15,
    "start_time": "2022-01-19T12:06:06.892Z"
   },
   {
    "duration": 39,
    "start_time": "2022-01-19T12:06:06.909Z"
   },
   {
    "duration": 18,
    "start_time": "2022-01-19T12:06:06.950Z"
   },
   {
    "duration": 25,
    "start_time": "2022-01-19T12:06:06.970Z"
   },
   {
    "duration": 24,
    "start_time": "2022-01-19T12:06:06.997Z"
   },
   {
    "duration": 19,
    "start_time": "2022-01-19T12:06:07.023Z"
   },
   {
    "duration": 29,
    "start_time": "2022-01-19T12:06:07.044Z"
   },
   {
    "duration": 34,
    "start_time": "2022-01-19T12:06:07.077Z"
   },
   {
    "duration": 24,
    "start_time": "2022-01-19T12:06:07.113Z"
   },
   {
    "duration": 31,
    "start_time": "2022-01-19T12:06:07.139Z"
   },
   {
    "duration": 39,
    "start_time": "2022-01-19T12:06:07.172Z"
   },
   {
    "duration": 37,
    "start_time": "2022-01-19T12:06:07.213Z"
   },
   {
    "duration": 27,
    "start_time": "2022-01-19T12:06:07.251Z"
   },
   {
    "duration": 2369,
    "start_time": "2022-01-19T12:06:07.279Z"
   },
   {
    "duration": 15,
    "start_time": "2022-01-19T12:06:09.650Z"
   },
   {
    "duration": 16,
    "start_time": "2022-01-19T12:06:09.667Z"
   },
   {
    "duration": 37,
    "start_time": "2022-01-19T12:06:09.685Z"
   },
   {
    "duration": 32,
    "start_time": "2022-01-19T12:06:09.724Z"
   },
   {
    "duration": 43,
    "start_time": "2022-01-19T12:06:09.758Z"
   },
   {
    "duration": 26,
    "start_time": "2022-01-19T12:06:09.802Z"
   },
   {
    "duration": 718,
    "start_time": "2022-01-19T12:06:09.830Z"
   },
   {
    "duration": 26,
    "start_time": "2022-01-19T12:06:10.550Z"
   },
   {
    "duration": 8,
    "start_time": "2022-01-19T12:06:10.577Z"
   },
   {
    "duration": 7,
    "start_time": "2022-01-19T12:06:10.586Z"
   },
   {
    "duration": 33,
    "start_time": "2022-01-19T12:06:10.594Z"
   },
   {
    "duration": 2920,
    "start_time": "2022-01-19T12:06:10.629Z"
   },
   {
    "duration": 21,
    "start_time": "2022-01-19T12:06:13.550Z"
   },
   {
    "duration": 40,
    "start_time": "2022-01-19T12:06:13.572Z"
   },
   {
    "duration": 52,
    "start_time": "2022-01-19T12:06:13.614Z"
   },
   {
    "duration": 31,
    "start_time": "2022-01-19T12:06:13.667Z"
   },
   {
    "duration": 23,
    "start_time": "2022-01-19T12:06:13.700Z"
   },
   {
    "duration": 44,
    "start_time": "2022-01-19T12:06:13.724Z"
   },
   {
    "duration": 34,
    "start_time": "2022-01-19T12:06:13.769Z"
   },
   {
    "duration": 3058,
    "start_time": "2022-01-19T12:07:01.689Z"
   },
   {
    "duration": 21,
    "start_time": "2022-01-19T12:07:04.749Z"
   },
   {
    "duration": 91,
    "start_time": "2022-01-19T12:07:04.772Z"
   },
   {
    "duration": 37,
    "start_time": "2022-01-19T12:07:04.865Z"
   },
   {
    "duration": 46,
    "start_time": "2022-01-19T12:07:04.904Z"
   },
   {
    "duration": 53,
    "start_time": "2022-01-19T12:07:04.952Z"
   },
   {
    "duration": 41,
    "start_time": "2022-01-19T12:07:05.007Z"
   },
   {
    "duration": 45,
    "start_time": "2022-01-19T12:07:05.051Z"
   },
   {
    "duration": 1200,
    "start_time": "2022-01-19T12:07:35.824Z"
   },
   {
    "duration": 3081,
    "start_time": "2022-01-19T12:07:40.024Z"
   },
   {
    "duration": 14,
    "start_time": "2022-01-19T12:07:44.742Z"
   },
   {
    "duration": 3105,
    "start_time": "2022-01-19T12:08:07.883Z"
   },
   {
    "duration": 1204,
    "start_time": "2022-01-19T12:08:12.086Z"
   },
   {
    "duration": 13,
    "start_time": "2022-01-19T12:08:21.920Z"
   },
   {
    "duration": 271,
    "start_time": "2022-01-19T12:10:33.243Z"
   },
   {
    "duration": 86,
    "start_time": "2022-01-19T12:10:37.594Z"
   },
   {
    "duration": 12,
    "start_time": "2022-01-19T12:10:37.682Z"
   },
   {
    "duration": 33,
    "start_time": "2022-01-19T12:10:37.696Z"
   },
   {
    "duration": 16,
    "start_time": "2022-01-19T12:10:37.731Z"
   },
   {
    "duration": 20,
    "start_time": "2022-01-19T12:10:37.761Z"
   },
   {
    "duration": 30,
    "start_time": "2022-01-19T12:10:37.782Z"
   },
   {
    "duration": 27,
    "start_time": "2022-01-19T12:10:37.814Z"
   },
   {
    "duration": 27,
    "start_time": "2022-01-19T12:10:37.844Z"
   },
   {
    "duration": 28,
    "start_time": "2022-01-19T12:10:37.873Z"
   },
   {
    "duration": 31,
    "start_time": "2022-01-19T12:10:37.903Z"
   },
   {
    "duration": 27,
    "start_time": "2022-01-19T12:10:37.936Z"
   },
   {
    "duration": 10,
    "start_time": "2022-01-19T12:10:37.965Z"
   },
   {
    "duration": 31,
    "start_time": "2022-01-19T12:10:37.977Z"
   },
   {
    "duration": 28,
    "start_time": "2022-01-19T12:10:38.010Z"
   },
   {
    "duration": 34,
    "start_time": "2022-01-19T12:10:38.040Z"
   },
   {
    "duration": 41,
    "start_time": "2022-01-19T12:10:38.076Z"
   },
   {
    "duration": 39,
    "start_time": "2022-01-19T12:10:38.118Z"
   },
   {
    "duration": 39,
    "start_time": "2022-01-19T12:10:38.159Z"
   },
   {
    "duration": 30,
    "start_time": "2022-01-19T12:10:38.200Z"
   },
   {
    "duration": 74,
    "start_time": "2022-01-19T12:10:38.232Z"
   },
   {
    "duration": 37,
    "start_time": "2022-01-19T12:10:38.308Z"
   },
   {
    "duration": 45,
    "start_time": "2022-01-19T12:10:38.347Z"
   },
   {
    "duration": 38,
    "start_time": "2022-01-19T12:10:38.395Z"
   },
   {
    "duration": 27,
    "start_time": "2022-01-19T12:10:38.435Z"
   },
   {
    "duration": 27,
    "start_time": "2022-01-19T12:10:38.463Z"
   },
   {
    "duration": 50,
    "start_time": "2022-01-19T12:10:38.492Z"
   },
   {
    "duration": 38,
    "start_time": "2022-01-19T12:10:38.543Z"
   },
   {
    "duration": 68,
    "start_time": "2022-01-19T12:10:38.583Z"
   },
   {
    "duration": 2511,
    "start_time": "2022-01-19T12:10:38.652Z"
   },
   {
    "duration": 6,
    "start_time": "2022-01-19T12:10:41.165Z"
   },
   {
    "duration": 45,
    "start_time": "2022-01-19T12:10:41.173Z"
   },
   {
    "duration": 30,
    "start_time": "2022-01-19T12:10:41.220Z"
   },
   {
    "duration": 29,
    "start_time": "2022-01-19T12:10:41.251Z"
   },
   {
    "duration": 54,
    "start_time": "2022-01-19T12:10:41.282Z"
   },
   {
    "duration": 10,
    "start_time": "2022-01-19T12:10:41.338Z"
   },
   {
    "duration": 726,
    "start_time": "2022-01-19T12:10:41.349Z"
   },
   {
    "duration": 21,
    "start_time": "2022-01-19T12:10:42.077Z"
   },
   {
    "duration": 20,
    "start_time": "2022-01-19T12:10:42.100Z"
   },
   {
    "duration": 27,
    "start_time": "2022-01-19T12:10:42.122Z"
   },
   {
    "duration": 50,
    "start_time": "2022-01-19T12:10:42.151Z"
   },
   {
    "duration": 3001,
    "start_time": "2022-01-19T12:10:42.202Z"
   },
   {
    "duration": 13,
    "start_time": "2022-01-19T12:10:45.205Z"
   },
   {
    "duration": 55,
    "start_time": "2022-01-19T12:10:45.219Z"
   },
   {
    "duration": 32,
    "start_time": "2022-01-19T12:10:45.276Z"
   },
   {
    "duration": 30,
    "start_time": "2022-01-19T12:10:45.310Z"
   },
   {
    "duration": 282,
    "start_time": "2022-01-19T12:10:45.342Z"
   },
   {
    "duration": 373,
    "start_time": "2022-01-19T12:10:45.253Z"
   },
   {
    "duration": 365,
    "start_time": "2022-01-19T12:10:45.262Z"
   },
   {
    "duration": 89,
    "start_time": "2022-01-19T12:11:00.224Z"
   },
   {
    "duration": 12,
    "start_time": "2022-01-19T12:11:00.315Z"
   },
   {
    "duration": 41,
    "start_time": "2022-01-19T12:11:00.329Z"
   },
   {
    "duration": 24,
    "start_time": "2022-01-19T12:11:00.372Z"
   },
   {
    "duration": 56,
    "start_time": "2022-01-19T12:11:00.398Z"
   },
   {
    "duration": 39,
    "start_time": "2022-01-19T12:11:00.456Z"
   },
   {
    "duration": 52,
    "start_time": "2022-01-19T12:11:00.497Z"
   },
   {
    "duration": 52,
    "start_time": "2022-01-19T12:11:00.552Z"
   },
   {
    "duration": 55,
    "start_time": "2022-01-19T12:11:00.606Z"
   },
   {
    "duration": 42,
    "start_time": "2022-01-19T12:11:00.663Z"
   },
   {
    "duration": 54,
    "start_time": "2022-01-19T12:11:00.706Z"
   },
   {
    "duration": 50,
    "start_time": "2022-01-19T12:11:00.761Z"
   },
   {
    "duration": 72,
    "start_time": "2022-01-19T12:11:00.813Z"
   },
   {
    "duration": 43,
    "start_time": "2022-01-19T12:11:00.887Z"
   },
   {
    "duration": 39,
    "start_time": "2022-01-19T12:11:00.932Z"
   },
   {
    "duration": 47,
    "start_time": "2022-01-19T12:11:00.973Z"
   },
   {
    "duration": 66,
    "start_time": "2022-01-19T12:11:01.022Z"
   },
   {
    "duration": 61,
    "start_time": "2022-01-19T12:11:01.089Z"
   },
   {
    "duration": 54,
    "start_time": "2022-01-19T12:11:01.153Z"
   },
   {
    "duration": 83,
    "start_time": "2022-01-19T12:11:01.209Z"
   },
   {
    "duration": 57,
    "start_time": "2022-01-19T12:11:01.294Z"
   },
   {
    "duration": 160,
    "start_time": "2022-01-19T12:11:01.352Z"
   },
   {
    "duration": 74,
    "start_time": "2022-01-19T12:11:01.516Z"
   },
   {
    "duration": 49,
    "start_time": "2022-01-19T12:11:01.593Z"
   },
   {
    "duration": 67,
    "start_time": "2022-01-19T12:11:01.644Z"
   },
   {
    "duration": 67,
    "start_time": "2022-01-19T12:11:01.713Z"
   },
   {
    "duration": 45,
    "start_time": "2022-01-19T12:11:01.782Z"
   },
   {
    "duration": 50,
    "start_time": "2022-01-19T12:11:01.829Z"
   },
   {
    "duration": 2718,
    "start_time": "2022-01-19T12:11:01.881Z"
   },
   {
    "duration": 6,
    "start_time": "2022-01-19T12:11:04.601Z"
   },
   {
    "duration": 44,
    "start_time": "2022-01-19T12:11:04.609Z"
   },
   {
    "duration": 51,
    "start_time": "2022-01-19T12:11:04.654Z"
   },
   {
    "duration": 22,
    "start_time": "2022-01-19T12:11:04.707Z"
   },
   {
    "duration": 30,
    "start_time": "2022-01-19T12:11:04.731Z"
   },
   {
    "duration": 8,
    "start_time": "2022-01-19T12:11:04.763Z"
   },
   {
    "duration": 758,
    "start_time": "2022-01-19T12:11:04.773Z"
   },
   {
    "duration": 35,
    "start_time": "2022-01-19T12:11:05.533Z"
   },
   {
    "duration": 13,
    "start_time": "2022-01-19T12:11:05.570Z"
   },
   {
    "duration": 9,
    "start_time": "2022-01-19T12:11:05.584Z"
   },
   {
    "duration": 34,
    "start_time": "2022-01-19T12:11:05.594Z"
   },
   {
    "duration": 3048,
    "start_time": "2022-01-19T12:11:05.630Z"
   },
   {
    "duration": 13,
    "start_time": "2022-01-19T12:11:08.679Z"
   },
   {
    "duration": 92,
    "start_time": "2022-01-19T12:11:08.693Z"
   },
   {
    "duration": 71,
    "start_time": "2022-01-19T12:11:08.787Z"
   },
   {
    "duration": 90,
    "start_time": "2022-01-19T12:11:08.859Z"
   },
   {
    "duration": 373,
    "start_time": "2022-01-19T12:11:08.951Z"
   },
   {
    "duration": 301,
    "start_time": "2022-01-19T12:11:09.025Z"
   },
   {
    "duration": 291,
    "start_time": "2022-01-19T12:11:09.036Z"
   },
   {
    "duration": 7424,
    "start_time": "2022-01-19T12:11:36.840Z"
   },
   {
    "duration": 284,
    "start_time": "2022-01-19T12:12:25.741Z"
   },
   {
    "duration": 31,
    "start_time": "2022-01-19T12:12:42.723Z"
   },
   {
    "duration": 30,
    "start_time": "2022-01-19T14:38:08.611Z"
   },
   {
    "duration": 101,
    "start_time": "2022-01-19T14:38:22.623Z"
   },
   {
    "duration": 13,
    "start_time": "2022-01-19T14:38:22.726Z"
   },
   {
    "duration": 26,
    "start_time": "2022-01-19T14:38:22.761Z"
   },
   {
    "duration": 17,
    "start_time": "2022-01-19T14:38:22.789Z"
   },
   {
    "duration": 36,
    "start_time": "2022-01-19T14:38:22.808Z"
   },
   {
    "duration": 24,
    "start_time": "2022-01-19T14:38:22.846Z"
   },
   {
    "duration": 26,
    "start_time": "2022-01-19T14:38:22.872Z"
   },
   {
    "duration": 33,
    "start_time": "2022-01-19T14:38:22.900Z"
   },
   {
    "duration": 20,
    "start_time": "2022-01-19T14:38:22.937Z"
   },
   {
    "duration": 25,
    "start_time": "2022-01-19T14:38:22.960Z"
   },
   {
    "duration": 40,
    "start_time": "2022-01-19T14:38:22.986Z"
   },
   {
    "duration": 24,
    "start_time": "2022-01-19T14:38:23.027Z"
   },
   {
    "duration": 55,
    "start_time": "2022-01-19T14:38:23.052Z"
   },
   {
    "duration": 34,
    "start_time": "2022-01-19T14:38:23.109Z"
   },
   {
    "duration": 45,
    "start_time": "2022-01-19T14:38:23.146Z"
   },
   {
    "duration": 25,
    "start_time": "2022-01-19T14:38:23.192Z"
   },
   {
    "duration": 28,
    "start_time": "2022-01-19T14:38:23.218Z"
   },
   {
    "duration": 11,
    "start_time": "2022-01-19T14:38:23.248Z"
   },
   {
    "duration": 47,
    "start_time": "2022-01-19T14:38:23.263Z"
   },
   {
    "duration": 35,
    "start_time": "2022-01-19T14:38:23.312Z"
   },
   {
    "duration": 30,
    "start_time": "2022-01-19T14:38:23.349Z"
   },
   {
    "duration": 47,
    "start_time": "2022-01-19T14:38:23.381Z"
   },
   {
    "duration": 18,
    "start_time": "2022-01-19T14:38:23.430Z"
   },
   {
    "duration": 27,
    "start_time": "2022-01-19T14:38:23.450Z"
   },
   {
    "duration": 37,
    "start_time": "2022-01-19T14:38:23.479Z"
   },
   {
    "duration": 37,
    "start_time": "2022-01-19T14:38:23.518Z"
   },
   {
    "duration": 42,
    "start_time": "2022-01-19T14:38:23.559Z"
   },
   {
    "duration": 34,
    "start_time": "2022-01-19T14:38:23.605Z"
   },
   {
    "duration": 2550,
    "start_time": "2022-01-19T14:38:23.641Z"
   },
   {
    "duration": 7,
    "start_time": "2022-01-19T14:38:26.192Z"
   },
   {
    "duration": 77,
    "start_time": "2022-01-19T14:38:26.201Z"
   },
   {
    "duration": 87,
    "start_time": "2022-01-19T14:38:26.280Z"
   },
   {
    "duration": 58,
    "start_time": "2022-01-19T14:38:26.371Z"
   },
   {
    "duration": 63,
    "start_time": "2022-01-19T14:38:26.431Z"
   },
   {
    "duration": 26,
    "start_time": "2022-01-19T14:38:26.496Z"
   },
   {
    "duration": 820,
    "start_time": "2022-01-19T14:38:26.524Z"
   },
   {
    "duration": 42,
    "start_time": "2022-01-19T14:38:27.346Z"
   },
   {
    "duration": 26,
    "start_time": "2022-01-19T14:38:27.390Z"
   },
   {
    "duration": 75,
    "start_time": "2022-01-19T14:38:27.418Z"
   },
   {
    "duration": 97,
    "start_time": "2022-01-19T14:38:27.494Z"
   },
   {
    "duration": 3312,
    "start_time": "2022-01-19T14:38:27.593Z"
   },
   {
    "duration": 11,
    "start_time": "2022-01-19T14:38:30.907Z"
   },
   {
    "duration": 92,
    "start_time": "2022-01-19T14:38:30.920Z"
   },
   {
    "duration": 296,
    "start_time": "2022-01-19T14:38:31.014Z"
   },
   {
    "duration": 488,
    "start_time": "2022-01-19T14:38:30.824Z"
   },
   {
    "duration": 484,
    "start_time": "2022-01-19T14:38:30.829Z"
   },
   {
    "duration": 262,
    "start_time": "2022-01-19T14:38:47.070Z"
   },
   {
    "duration": 96,
    "start_time": "2022-01-19T14:38:59.141Z"
   },
   {
    "duration": 11,
    "start_time": "2022-01-19T14:38:59.239Z"
   },
   {
    "duration": 21,
    "start_time": "2022-01-19T14:38:59.262Z"
   },
   {
    "duration": 23,
    "start_time": "2022-01-19T14:38:59.285Z"
   },
   {
    "duration": 15,
    "start_time": "2022-01-19T14:38:59.310Z"
   },
   {
    "duration": 14,
    "start_time": "2022-01-19T14:38:59.327Z"
   },
   {
    "duration": 29,
    "start_time": "2022-01-19T14:38:59.342Z"
   },
   {
    "duration": 16,
    "start_time": "2022-01-19T14:38:59.374Z"
   },
   {
    "duration": 28,
    "start_time": "2022-01-19T14:38:59.392Z"
   },
   {
    "duration": 14,
    "start_time": "2022-01-19T14:38:59.422Z"
   },
   {
    "duration": 48,
    "start_time": "2022-01-19T14:38:59.438Z"
   },
   {
    "duration": 10,
    "start_time": "2022-01-19T14:38:59.488Z"
   },
   {
    "duration": 37,
    "start_time": "2022-01-19T14:38:59.500Z"
   },
   {
    "duration": 35,
    "start_time": "2022-01-19T14:38:59.539Z"
   },
   {
    "duration": 34,
    "start_time": "2022-01-19T14:38:59.576Z"
   },
   {
    "duration": 16,
    "start_time": "2022-01-19T14:38:59.612Z"
   },
   {
    "duration": 36,
    "start_time": "2022-01-19T14:38:59.630Z"
   },
   {
    "duration": 36,
    "start_time": "2022-01-19T14:38:59.668Z"
   },
   {
    "duration": 27,
    "start_time": "2022-01-19T14:38:59.707Z"
   },
   {
    "duration": 39,
    "start_time": "2022-01-19T14:38:59.736Z"
   },
   {
    "duration": 16,
    "start_time": "2022-01-19T14:38:59.777Z"
   },
   {
    "duration": 36,
    "start_time": "2022-01-19T14:38:59.794Z"
   },
   {
    "duration": 7,
    "start_time": "2022-01-19T14:38:59.834Z"
   },
   {
    "duration": 48,
    "start_time": "2022-01-19T14:38:59.843Z"
   },
   {
    "duration": 22,
    "start_time": "2022-01-19T14:38:59.893Z"
   },
   {
    "duration": 40,
    "start_time": "2022-01-19T14:38:59.917Z"
   },
   {
    "duration": 34,
    "start_time": "2022-01-19T14:38:59.959Z"
   },
   {
    "duration": 31,
    "start_time": "2022-01-19T14:38:59.995Z"
   },
   {
    "duration": 2745,
    "start_time": "2022-01-19T14:39:00.028Z"
   },
   {
    "duration": 10,
    "start_time": "2022-01-19T14:39:02.775Z"
   },
   {
    "duration": 14,
    "start_time": "2022-01-19T14:39:02.787Z"
   },
   {
    "duration": 19,
    "start_time": "2022-01-19T14:39:02.804Z"
   },
   {
    "duration": 53,
    "start_time": "2022-01-19T14:39:02.825Z"
   },
   {
    "duration": 30,
    "start_time": "2022-01-19T14:39:02.880Z"
   },
   {
    "duration": 8,
    "start_time": "2022-01-19T14:39:02.912Z"
   },
   {
    "duration": 758,
    "start_time": "2022-01-19T14:39:02.922Z"
   },
   {
    "duration": 20,
    "start_time": "2022-01-19T14:39:03.682Z"
   },
   {
    "duration": 9,
    "start_time": "2022-01-19T14:39:03.705Z"
   },
   {
    "duration": 9,
    "start_time": "2022-01-19T14:39:03.716Z"
   },
   {
    "duration": 62,
    "start_time": "2022-01-19T14:39:03.727Z"
   },
   {
    "duration": 3347,
    "start_time": "2022-01-19T14:39:03.791Z"
   },
   {
    "duration": 26,
    "start_time": "2022-01-19T14:39:07.140Z"
   },
   {
    "duration": 80,
    "start_time": "2022-01-19T14:39:07.170Z"
   },
   {
    "duration": 46,
    "start_time": "2022-01-19T14:39:07.253Z"
   },
   {
    "duration": 50,
    "start_time": "2022-01-19T14:39:07.301Z"
   },
   {
    "duration": 53,
    "start_time": "2022-01-19T14:39:07.353Z"
   },
   {
    "duration": 96,
    "start_time": "2022-01-19T15:14:59.043Z"
   },
   {
    "duration": 95,
    "start_time": "2022-01-19T15:23:42.248Z"
   },
   {
    "duration": 34,
    "start_time": "2022-01-19T15:23:42.345Z"
   },
   {
    "duration": 17,
    "start_time": "2022-01-19T15:23:42.382Z"
   },
   {
    "duration": 14,
    "start_time": "2022-01-19T15:23:42.402Z"
   },
   {
    "duration": 10,
    "start_time": "2022-01-19T15:23:42.417Z"
   },
   {
    "duration": 6,
    "start_time": "2022-01-19T15:23:42.428Z"
   },
   {
    "duration": 13,
    "start_time": "2022-01-19T15:23:42.460Z"
   },
   {
    "duration": 6,
    "start_time": "2022-01-19T15:23:42.479Z"
   },
   {
    "duration": 16,
    "start_time": "2022-01-19T15:23:42.487Z"
   },
   {
    "duration": 6,
    "start_time": "2022-01-19T15:23:42.505Z"
   },
   {
    "duration": 16,
    "start_time": "2022-01-19T15:23:42.512Z"
   },
   {
    "duration": 37,
    "start_time": "2022-01-19T15:23:42.529Z"
   },
   {
    "duration": 20,
    "start_time": "2022-01-19T15:23:42.568Z"
   },
   {
    "duration": 27,
    "start_time": "2022-01-19T15:23:42.589Z"
   },
   {
    "duration": 36,
    "start_time": "2022-01-19T15:23:42.617Z"
   },
   {
    "duration": 23,
    "start_time": "2022-01-19T15:23:42.655Z"
   },
   {
    "duration": 125,
    "start_time": "2022-01-19T15:23:42.680Z"
   },
   {
    "duration": 97,
    "start_time": "2022-01-19T15:23:42.806Z"
   },
   {
    "duration": 22,
    "start_time": "2022-01-19T15:23:42.905Z"
   },
   {
    "duration": 14,
    "start_time": "2022-01-19T15:23:42.929Z"
   },
   {
    "duration": 23,
    "start_time": "2022-01-19T15:23:42.945Z"
   },
   {
    "duration": 49,
    "start_time": "2022-01-19T15:23:42.970Z"
   },
   {
    "duration": 6,
    "start_time": "2022-01-19T15:23:43.023Z"
   },
   {
    "duration": 4,
    "start_time": "2022-01-19T15:23:43.031Z"
   },
   {
    "duration": 12,
    "start_time": "2022-01-19T15:23:43.037Z"
   },
   {
    "duration": 29,
    "start_time": "2022-01-19T15:23:43.050Z"
   },
   {
    "duration": 21,
    "start_time": "2022-01-19T15:23:43.081Z"
   },
   {
    "duration": 7,
    "start_time": "2022-01-19T15:23:43.104Z"
   },
   {
    "duration": 2601,
    "start_time": "2022-01-19T15:23:43.113Z"
   },
   {
    "duration": 9,
    "start_time": "2022-01-19T15:23:45.716Z"
   },
   {
    "duration": 34,
    "start_time": "2022-01-19T15:23:45.727Z"
   },
   {
    "duration": 25,
    "start_time": "2022-01-19T15:23:45.763Z"
   },
   {
    "duration": 15,
    "start_time": "2022-01-19T15:23:45.790Z"
   },
   {
    "duration": 26,
    "start_time": "2022-01-19T15:23:45.807Z"
   },
   {
    "duration": 42,
    "start_time": "2022-01-19T15:23:45.835Z"
   },
   {
    "duration": 713,
    "start_time": "2022-01-19T15:23:45.879Z"
   },
   {
    "duration": 21,
    "start_time": "2022-01-19T15:23:46.595Z"
   },
   {
    "duration": 9,
    "start_time": "2022-01-19T15:23:46.618Z"
   },
   {
    "duration": 7,
    "start_time": "2022-01-19T15:23:46.629Z"
   },
   {
    "duration": 60,
    "start_time": "2022-01-19T15:23:46.638Z"
   },
   {
    "duration": 3141,
    "start_time": "2022-01-19T15:23:46.701Z"
   },
   {
    "duration": 28,
    "start_time": "2022-01-19T15:23:49.844Z"
   },
   {
    "duration": 35,
    "start_time": "2022-01-19T15:23:49.873Z"
   },
   {
    "duration": 30,
    "start_time": "2022-01-19T15:23:49.910Z"
   },
   {
    "duration": 52,
    "start_time": "2022-01-19T15:23:49.942Z"
   },
   {
    "duration": 32,
    "start_time": "2022-01-19T15:23:49.996Z"
   },
   {
    "duration": 864,
    "start_time": "2022-01-23T12:24:55.332Z"
   },
   {
    "duration": 18,
    "start_time": "2022-01-23T12:24:56.200Z"
   },
   {
    "duration": 22,
    "start_time": "2022-01-23T12:24:56.221Z"
   },
   {
    "duration": 9,
    "start_time": "2022-01-23T12:24:56.266Z"
   },
   {
    "duration": 9,
    "start_time": "2022-01-23T12:24:56.278Z"
   },
   {
    "duration": 9,
    "start_time": "2022-01-23T12:24:56.289Z"
   },
   {
    "duration": 13,
    "start_time": "2022-01-23T12:24:56.300Z"
   },
   {
    "duration": 8,
    "start_time": "2022-01-23T12:24:56.315Z"
   },
   {
    "duration": 21,
    "start_time": "2022-01-23T12:24:56.369Z"
   },
   {
    "duration": 7,
    "start_time": "2022-01-23T12:24:56.394Z"
   },
   {
    "duration": 21,
    "start_time": "2022-01-23T12:24:56.404Z"
   },
   {
    "duration": 46,
    "start_time": "2022-01-23T12:24:56.427Z"
   },
   {
    "duration": 21,
    "start_time": "2022-01-23T12:24:56.476Z"
   },
   {
    "duration": 10,
    "start_time": "2022-01-23T12:24:56.500Z"
   },
   {
    "duration": 64,
    "start_time": "2022-01-23T12:24:56.512Z"
   },
   {
    "duration": 9,
    "start_time": "2022-01-23T12:24:56.579Z"
   },
   {
    "duration": 38,
    "start_time": "2022-01-23T12:24:56.591Z"
   },
   {
    "duration": 38,
    "start_time": "2022-01-23T12:24:56.631Z"
   },
   {
    "duration": 22,
    "start_time": "2022-01-23T12:24:56.671Z"
   },
   {
    "duration": 18,
    "start_time": "2022-01-23T12:24:56.695Z"
   },
   {
    "duration": 12,
    "start_time": "2022-01-23T12:24:56.715Z"
   },
   {
    "duration": 64,
    "start_time": "2022-01-23T12:24:56.729Z"
   },
   {
    "duration": 12,
    "start_time": "2022-01-23T12:24:56.796Z"
   },
   {
    "duration": 7,
    "start_time": "2022-01-23T12:24:56.810Z"
   },
   {
    "duration": 7,
    "start_time": "2022-01-23T12:24:56.820Z"
   },
   {
    "duration": 57,
    "start_time": "2022-01-23T12:24:56.830Z"
   },
   {
    "duration": 26,
    "start_time": "2022-01-23T12:24:56.893Z"
   },
   {
    "duration": 46,
    "start_time": "2022-01-23T12:24:56.924Z"
   },
   {
    "duration": 4875,
    "start_time": "2022-01-23T12:24:56.974Z"
   },
   {
    "duration": 19,
    "start_time": "2022-01-23T12:25:01.852Z"
   },
   {
    "duration": 22,
    "start_time": "2022-01-23T12:25:01.874Z"
   },
   {
    "duration": 25,
    "start_time": "2022-01-23T12:25:01.898Z"
   },
   {
    "duration": 52,
    "start_time": "2022-01-23T12:25:01.925Z"
   },
   {
    "duration": 41,
    "start_time": "2022-01-23T12:25:01.980Z"
   },
   {
    "duration": 10,
    "start_time": "2022-01-23T12:25:02.023Z"
   },
   {
    "duration": 945,
    "start_time": "2022-01-23T12:25:02.036Z"
   },
   {
    "duration": 32,
    "start_time": "2022-01-23T12:25:02.984Z"
   },
   {
    "duration": 10,
    "start_time": "2022-01-23T12:25:03.019Z"
   },
   {
    "duration": 35,
    "start_time": "2022-01-23T12:25:03.032Z"
   },
   {
    "duration": 50,
    "start_time": "2022-01-23T12:25:03.069Z"
   },
   {
    "duration": 4616,
    "start_time": "2022-01-23T12:25:03.122Z"
   },
   {
    "duration": 30,
    "start_time": "2022-01-23T12:25:07.741Z"
   },
   {
    "duration": 76,
    "start_time": "2022-01-23T12:25:07.774Z"
   },
   {
    "duration": 48,
    "start_time": "2022-01-23T12:25:07.853Z"
   },
   {
    "duration": 62,
    "start_time": "2022-01-23T12:25:07.904Z"
   },
   {
    "duration": 46,
    "start_time": "2022-01-23T12:25:07.969Z"
   },
   {
    "duration": 953,
    "start_time": "2022-01-23T16:36:58.155Z"
   },
   {
    "duration": 17,
    "start_time": "2022-01-23T16:36:59.111Z"
   },
   {
    "duration": 41,
    "start_time": "2022-01-23T16:36:59.132Z"
   },
   {
    "duration": 14,
    "start_time": "2022-01-23T16:36:59.177Z"
   },
   {
    "duration": 8,
    "start_time": "2022-01-23T16:36:59.193Z"
   },
   {
    "duration": 8,
    "start_time": "2022-01-23T16:36:59.203Z"
   },
   {
    "duration": 8,
    "start_time": "2022-01-23T16:36:59.214Z"
   },
   {
    "duration": 45,
    "start_time": "2022-01-23T16:36:59.227Z"
   },
   {
    "duration": 42,
    "start_time": "2022-01-23T16:36:59.275Z"
   },
   {
    "duration": 10,
    "start_time": "2022-01-23T16:36:59.320Z"
   },
   {
    "duration": 66,
    "start_time": "2022-01-23T16:36:59.332Z"
   },
   {
    "duration": 9,
    "start_time": "2022-01-23T16:36:59.401Z"
   },
   {
    "duration": 54,
    "start_time": "2022-01-23T16:36:59.413Z"
   },
   {
    "duration": 13,
    "start_time": "2022-01-23T16:36:59.470Z"
   },
   {
    "duration": 26,
    "start_time": "2022-01-23T16:36:59.485Z"
   },
   {
    "duration": 10,
    "start_time": "2022-01-23T16:36:59.513Z"
   },
   {
    "duration": 64,
    "start_time": "2022-01-23T16:36:59.525Z"
   },
   {
    "duration": 5,
    "start_time": "2022-01-23T16:36:59.591Z"
   },
   {
    "duration": 13,
    "start_time": "2022-01-23T16:36:59.600Z"
   },
   {
    "duration": 52,
    "start_time": "2022-01-23T16:36:59.615Z"
   },
   {
    "duration": 12,
    "start_time": "2022-01-23T16:36:59.669Z"
   },
   {
    "duration": 37,
    "start_time": "2022-01-23T16:36:59.684Z"
   },
   {
    "duration": 42,
    "start_time": "2022-01-23T16:36:59.730Z"
   },
   {
    "duration": 18,
    "start_time": "2022-01-23T16:36:59.775Z"
   },
   {
    "duration": 6,
    "start_time": "2022-01-23T16:36:59.796Z"
   },
   {
    "duration": 63,
    "start_time": "2022-01-23T16:36:59.806Z"
   },
   {
    "duration": 27,
    "start_time": "2022-01-23T16:36:59.872Z"
   },
   {
    "duration": 10,
    "start_time": "2022-01-23T16:36:59.902Z"
   },
   {
    "duration": 4968,
    "start_time": "2022-01-23T16:36:59.915Z"
   },
   {
    "duration": 10,
    "start_time": "2022-01-23T16:37:04.886Z"
   },
   {
    "duration": 41,
    "start_time": "2022-01-23T16:37:04.899Z"
   },
   {
    "duration": 28,
    "start_time": "2022-01-23T16:37:04.943Z"
   },
   {
    "duration": 21,
    "start_time": "2022-01-23T16:37:04.974Z"
   },
   {
    "duration": 70,
    "start_time": "2022-01-23T16:37:04.997Z"
   },
   {
    "duration": 12,
    "start_time": "2022-01-23T16:37:05.069Z"
   },
   {
    "duration": 980,
    "start_time": "2022-01-23T16:37:05.083Z"
   },
   {
    "duration": 32,
    "start_time": "2022-01-23T16:37:06.066Z"
   },
   {
    "duration": 13,
    "start_time": "2022-01-23T16:37:06.101Z"
   },
   {
    "duration": 11,
    "start_time": "2022-01-23T16:37:06.116Z"
   },
   {
    "duration": 79,
    "start_time": "2022-01-23T16:37:06.130Z"
   },
   {
    "duration": 4583,
    "start_time": "2022-01-23T16:37:06.212Z"
   },
   {
    "duration": 19,
    "start_time": "2022-01-23T16:37:10.798Z"
   },
   {
    "duration": 84,
    "start_time": "2022-01-23T16:37:10.820Z"
   },
   {
    "duration": 58,
    "start_time": "2022-01-23T16:37:10.908Z"
   },
   {
    "duration": 47,
    "start_time": "2022-01-23T16:37:10.969Z"
   },
   {
    "duration": 70,
    "start_time": "2022-01-23T16:37:11.019Z"
   }
  ],
  "kernelspec": {
   "display_name": "Python 3",
   "language": "python",
   "name": "python3"
  },
  "language_info": {
   "codemirror_mode": {
    "name": "ipython",
    "version": 3
   },
   "file_extension": ".py",
   "mimetype": "text/x-python",
   "name": "python",
   "nbconvert_exporter": "python",
   "pygments_lexer": "ipython3",
   "version": "3.8.8"
  },
  "toc": {
   "base_numbering": 1,
   "nav_menu": {},
   "number_sections": true,
   "sideBar": true,
   "skip_h1_title": true,
   "title_cell": "Table of Contents",
   "title_sidebar": "Contents",
   "toc_cell": false,
   "toc_position": {},
   "toc_section_display": true,
   "toc_window_display": false
  }
 },
 "nbformat": 4,
 "nbformat_minor": 2
}
