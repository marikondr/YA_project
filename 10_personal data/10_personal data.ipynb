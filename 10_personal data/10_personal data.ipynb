{
 "cells": [
  {
   "cell_type": "markdown",
   "metadata": {
    "toc": true
   },
   "source": [
    "<h1>Содержание<span class=\"tocSkip\"></span></h1>\n",
    "<div class=\"toc\"><ul class=\"toc-item\"><li><span><a href=\"#Загрузка-данных\" data-toc-modified-id=\"Загрузка-данных-1\"><span class=\"toc-item-num\">1&nbsp;&nbsp;</span>Загрузка данных</a></span></li><li><span><a href=\"#Умножение-матриц\" data-toc-modified-id=\"Умножение-матриц-2\"><span class=\"toc-item-num\">2&nbsp;&nbsp;</span>Умножение матриц</a></span></li><li><span><a href=\"#Алгоритм-преобразования\" data-toc-modified-id=\"Алгоритм-преобразования-3\"><span class=\"toc-item-num\">3&nbsp;&nbsp;</span>Алгоритм преобразования</a></span></li><li><span><a href=\"#Проверка-алгоритма\" data-toc-modified-id=\"Проверка-алгоритма-4\"><span class=\"toc-item-num\">4&nbsp;&nbsp;</span>Проверка алгоритма</a></span></li><li><span><a href=\"#Чек-лист-проверки\" data-toc-modified-id=\"Чек-лист-проверки-5\"><span class=\"toc-item-num\">5&nbsp;&nbsp;</span>Чек-лист проверки</a></span></li></ul></div>"
   ]
  },
  {
   "cell_type": "markdown",
   "metadata": {},
   "source": [
    "# Защита персональных данных клиентов"
   ]
  },
  {
   "cell_type": "markdown",
   "metadata": {},
   "source": [
    "Вам нужно защитить данные клиентов страховой компании «Хоть потоп». Разработайте такой метод преобразования данных, чтобы по ним было сложно восстановить персональную информацию. Обоснуйте корректность его работы.\n",
    "\n",
    "Нужно защитить данные, чтобы при преобразовании качество моделей машинного обучения не ухудшилось. Подбирать наилучшую модель не требуется."
   ]
  },
  {
   "cell_type": "markdown",
   "metadata": {},
   "source": [
    "# Описание данных\n",
    "<br>\n",
    "Набор данных находится в файле /datasets/insurance.csv. Скачать датасет.\n",
    "<br>\n",
    "Признаки: пол, возраст и зарплата застрахованного, количество членов его семьи.\n",
    "<br>\n",
    "Целевой признак: количество страховых выплат клиенту за последние 5 лет."
   ]
  },
  {
   "cell_type": "markdown",
   "metadata": {},
   "source": [
    "## Загрузка данных"
   ]
  },
  {
   "cell_type": "markdown",
   "metadata": {},
   "source": [
    "Импорт необходимых библиотек"
   ]
  },
  {
   "cell_type": "code",
   "execution_count": 1,
   "metadata": {},
   "outputs": [],
   "source": [
    "import numpy as np\n",
    "\n",
    "import pandas as pd\n",
    "\n",
    "from sklearn.linear_model import LinearRegression\n",
    "from sklearn.metrics import r2_score, mean_squared_error\n",
    "from sklearn.preprocessing import StandardScaler\n",
    "\n",
    "import warnings\n",
    "warnings.filterwarnings('ignore')"
   ]
  },
  {
   "cell_type": "markdown",
   "metadata": {},
   "source": [
    "Загрузка данных и вывод на экран."
   ]
  },
  {
   "cell_type": "code",
   "execution_count": 2,
   "metadata": {},
   "outputs": [
    {
     "data": {
      "text/html": [
       "<div>\n",
       "<style scoped>\n",
       "    .dataframe tbody tr th:only-of-type {\n",
       "        vertical-align: middle;\n",
       "    }\n",
       "\n",
       "    .dataframe tbody tr th {\n",
       "        vertical-align: top;\n",
       "    }\n",
       "\n",
       "    .dataframe thead th {\n",
       "        text-align: right;\n",
       "    }\n",
       "</style>\n",
       "<table border=\"1\" class=\"dataframe\">\n",
       "  <thead>\n",
       "    <tr style=\"text-align: right;\">\n",
       "      <th></th>\n",
       "      <th>Пол</th>\n",
       "      <th>Возраст</th>\n",
       "      <th>Зарплата</th>\n",
       "      <th>Члены семьи</th>\n",
       "      <th>Страховые выплаты</th>\n",
       "    </tr>\n",
       "  </thead>\n",
       "  <tbody>\n",
       "    <tr>\n",
       "      <th>0</th>\n",
       "      <td>1</td>\n",
       "      <td>41.0</td>\n",
       "      <td>49600.0</td>\n",
       "      <td>1</td>\n",
       "      <td>0</td>\n",
       "    </tr>\n",
       "    <tr>\n",
       "      <th>1</th>\n",
       "      <td>0</td>\n",
       "      <td>46.0</td>\n",
       "      <td>38000.0</td>\n",
       "      <td>1</td>\n",
       "      <td>1</td>\n",
       "    </tr>\n",
       "    <tr>\n",
       "      <th>2</th>\n",
       "      <td>0</td>\n",
       "      <td>29.0</td>\n",
       "      <td>21000.0</td>\n",
       "      <td>0</td>\n",
       "      <td>0</td>\n",
       "    </tr>\n",
       "    <tr>\n",
       "      <th>3</th>\n",
       "      <td>0</td>\n",
       "      <td>21.0</td>\n",
       "      <td>41700.0</td>\n",
       "      <td>2</td>\n",
       "      <td>0</td>\n",
       "    </tr>\n",
       "    <tr>\n",
       "      <th>4</th>\n",
       "      <td>1</td>\n",
       "      <td>28.0</td>\n",
       "      <td>26100.0</td>\n",
       "      <td>0</td>\n",
       "      <td>0</td>\n",
       "    </tr>\n",
       "  </tbody>\n",
       "</table>\n",
       "</div>"
      ],
      "text/plain": [
       "   Пол  Возраст  Зарплата  Члены семьи  Страховые выплаты\n",
       "0    1     41.0   49600.0            1                  0\n",
       "1    0     46.0   38000.0            1                  1\n",
       "2    0     29.0   21000.0            0                  0\n",
       "3    0     21.0   41700.0            2                  0\n",
       "4    1     28.0   26100.0            0                  0"
      ]
     },
     "metadata": {},
     "output_type": "display_data"
    },
    {
     "name": "stdout",
     "output_type": "stream",
     "text": [
      "<class 'pandas.core.frame.DataFrame'>\n",
      "RangeIndex: 5000 entries, 0 to 4999\n",
      "Data columns (total 5 columns):\n",
      " #   Column             Non-Null Count  Dtype  \n",
      "---  ------             --------------  -----  \n",
      " 0   Пол                5000 non-null   int64  \n",
      " 1   Возраст            5000 non-null   float64\n",
      " 2   Зарплата           5000 non-null   float64\n",
      " 3   Члены семьи        5000 non-null   int64  \n",
      " 4   Страховые выплаты  5000 non-null   int64  \n",
      "dtypes: float64(2), int64(3)\n",
      "memory usage: 195.4 KB\n"
     ]
    },
    {
     "data": {
      "text/plain": [
       "None"
      ]
     },
     "metadata": {},
     "output_type": "display_data"
    }
   ],
   "source": [
    "try:  \n",
    "    data = pd.read_csv('C:/projects/3/insurance.csv')\n",
    "except OSError as e:\n",
    "    data = pd.read_csv('/datasets/insurance.csv')\n",
    "display(data.head())\n",
    "display(data.info())"
   ]
  },
  {
   "cell_type": "markdown",
   "metadata": {},
   "source": [
    "Проверка на наличие NaN и артефактов."
   ]
  },
  {
   "cell_type": "code",
   "execution_count": 3,
   "metadata": {},
   "outputs": [],
   "source": [
    "def data_info(data):\n",
    "    for column in data.columns:\n",
    "        print('Значения столбца', column)\n",
    "        print(data[column].sort_values().unique())\n",
    "        print('Количество NaN:', data[column].isna().sum())"
   ]
  },
  {
   "cell_type": "code",
   "execution_count": 4,
   "metadata": {},
   "outputs": [
    {
     "name": "stdout",
     "output_type": "stream",
     "text": [
      "Значения столбца Пол\n",
      "[0 1]\n",
      "Количество NaN: 0\n",
      "Значения столбца Возраст\n",
      "[18. 19. 20. 21. 22. 23. 24. 25. 26. 27. 28. 29. 30. 31. 32. 33. 34. 35.\n",
      " 36. 37. 38. 39. 40. 41. 42. 43. 44. 45. 46. 47. 48. 49. 50. 51. 52. 53.\n",
      " 54. 55. 56. 57. 58. 59. 60. 61. 62. 65.]\n",
      "Количество NaN: 0\n",
      "Значения столбца Зарплата\n",
      "[ 5300.  6000.  7400.  8900.  9800. 10000. 10600. 10800. 11000. 11200.\n",
      " 11300. 12200. 12900. 13000. 13200. 13300. 13400. 13500. 13800. 13900.\n",
      " 14100. 14300. 14400. 14500. 14600. 14700. 15000. 15100. 15200. 15600.\n",
      " 15700. 15900. 16000. 16200. 16300. 16400. 16500. 16600. 16700. 17000.\n",
      " 17100. 17300. 17400. 17500. 17600. 17700. 17800. 17900. 18100. 18200.\n",
      " 18300. 18400. 18600. 18700. 18800. 18900. 19000. 19100. 19200. 19300.\n",
      " 19400. 19600. 19700. 19900. 20000. 20100. 20200. 20300. 20400. 20500.\n",
      " 20600. 20700. 20800. 20900. 21000. 21100. 21200. 21300. 21400. 21500.\n",
      " 21600. 21700. 21800. 21900. 22000. 22100. 22200. 22300. 22500. 22600.\n",
      " 22700. 22800. 22900. 23000. 23100. 23200. 23300. 23400. 23500. 23600.\n",
      " 23700. 23800. 23900. 24000. 24100. 24200. 24300. 24400. 24500. 24600.\n",
      " 24700. 24800. 24900. 25000. 25100. 25200. 25300. 25400. 25500. 25600.\n",
      " 25700. 25800. 25900. 26000. 26100. 26200. 26300. 26400. 26500. 26600.\n",
      " 26700. 26800. 26900. 27000. 27100. 27200. 27300. 27400. 27500. 27600.\n",
      " 27700. 27800. 27900. 28000. 28100. 28200. 28300. 28400. 28500. 28600.\n",
      " 28700. 28800. 28900. 29000. 29100. 29200. 29300. 29400. 29500. 29600.\n",
      " 29700. 29800. 29900. 30000. 30100. 30200. 30300. 30400. 30500. 30600.\n",
      " 30700. 30800. 30900. 31000. 31100. 31200. 31300. 31400. 31500. 31600.\n",
      " 31700. 31800. 31900. 32000. 32100. 32200. 32300. 32400. 32500. 32600.\n",
      " 32700. 32800. 32900. 33000. 33100. 33200. 33300. 33400. 33500. 33600.\n",
      " 33700. 33800. 33900. 34000. 34100. 34200. 34300. 34400. 34500. 34600.\n",
      " 34700. 34800. 34900. 35000. 35100. 35200. 35300. 35400. 35500. 35600.\n",
      " 35700. 35800. 35900. 36000. 36100. 36200. 36300. 36400. 36500. 36600.\n",
      " 36700. 36800. 36900. 37000. 37100. 37200. 37300. 37400. 37500. 37600.\n",
      " 37700. 37800. 37900. 38000. 38100. 38200. 38300. 38400. 38500. 38600.\n",
      " 38700. 38800. 38900. 39000. 39100. 39200. 39300. 39400. 39500. 39600.\n",
      " 39700. 39800. 39900. 40000. 40100. 40200. 40300. 40400. 40500. 40600.\n",
      " 40700. 40800. 40900. 41000. 41100. 41200. 41300. 41400. 41500. 41600.\n",
      " 41700. 41800. 41900. 42000. 42100. 42200. 42300. 42400. 42500. 42600.\n",
      " 42700. 42800. 42900. 43000. 43100. 43200. 43300. 43400. 43500. 43600.\n",
      " 43700. 43800. 43900. 44000. 44100. 44200. 44300. 44400. 44500. 44600.\n",
      " 44700. 44800. 44900. 45000. 45100. 45200. 45300. 45400. 45500. 45600.\n",
      " 45700. 45800. 45900. 46000. 46100. 46200. 46300. 46400. 46500. 46600.\n",
      " 46700. 46800. 46900. 47000. 47100. 47200. 47300. 47400. 47500. 47600.\n",
      " 47700. 47800. 47900. 48000. 48100. 48200. 48300. 48400. 48500. 48600.\n",
      " 48700. 48800. 48900. 49000. 49100. 49200. 49300. 49400. 49500. 49600.\n",
      " 49700. 49800. 49900. 50000. 50100. 50200. 50300. 50400. 50500. 50600.\n",
      " 50700. 50800. 50900. 51000. 51100. 51200. 51300. 51400. 51500. 51600.\n",
      " 51700. 51800. 51900. 52000. 52100. 52200. 52300. 52400. 52500. 52600.\n",
      " 52700. 52800. 52900. 53000. 53100. 53200. 53300. 53400. 53500. 53600.\n",
      " 53700. 53800. 53900. 54000. 54100. 54200. 54300. 54400. 54500. 54600.\n",
      " 54700. 54800. 54900. 55000. 55100. 55200. 55300. 55400. 55500. 55600.\n",
      " 55700. 55800. 55900. 56000. 56100. 56200. 56300. 56400. 56500. 56600.\n",
      " 56700. 56800. 56900. 57000. 57100. 57200. 57300. 57400. 57500. 57600.\n",
      " 57700. 57800. 57900. 58000. 58100. 58200. 58300. 58400. 58500. 58600.\n",
      " 58700. 58800. 58900. 59000. 59100. 59200. 59300. 59500. 59600. 59700.\n",
      " 59800. 59900. 60000. 60100. 60200. 60300. 60400. 60500. 60600. 60700.\n",
      " 60900. 61000. 61200. 61300. 61400. 61500. 61700. 61800. 61900. 62000.\n",
      " 62100. 62200. 62300. 62400. 62500. 62600. 62700. 62800. 63100. 63200.\n",
      " 63300. 63400. 63500. 63600. 63700. 63800. 64000. 64100. 64400. 64800.\n",
      " 64900. 65100. 65200. 65300. 65900. 66100. 66300. 67100. 67200. 67700.\n",
      " 68000. 68400. 68500. 68900. 69200. 69400. 70000. 70500. 70600. 71400.\n",
      " 71600. 74800. 75200. 79000.]\n",
      "Количество NaN: 0\n",
      "Значения столбца Члены семьи\n",
      "[0 1 2 3 4 5 6]\n",
      "Количество NaN: 0\n",
      "Значения столбца Страховые выплаты\n",
      "[0 1 2 3 4 5]\n",
      "Количество NaN: 0\n"
     ]
    }
   ],
   "source": [
    "data_info(data)"
   ]
  },
  {
   "cell_type": "markdown",
   "metadata": {},
   "source": [
    "**Вывод**\n",
    "<br>\n",
    "NaN и артефакты в столбцах отсутствуют.\n",
    "<br>\n",
    "Необходимо привести названия столбцов к змеиному регистру и заменить на латиницу.\n",
    "<br>\n",
    "Столбец \"Возраст\" и \"Зарплата\" привести тип данных к int.\n"
   ]
  },
  {
   "cell_type": "code",
   "execution_count": 5,
   "metadata": {},
   "outputs": [
    {
     "data": {
      "text/html": [
       "<div>\n",
       "<style scoped>\n",
       "    .dataframe tbody tr th:only-of-type {\n",
       "        vertical-align: middle;\n",
       "    }\n",
       "\n",
       "    .dataframe tbody tr th {\n",
       "        vertical-align: top;\n",
       "    }\n",
       "\n",
       "    .dataframe thead th {\n",
       "        text-align: right;\n",
       "    }\n",
       "</style>\n",
       "<table border=\"1\" class=\"dataframe\">\n",
       "  <thead>\n",
       "    <tr style=\"text-align: right;\">\n",
       "      <th></th>\n",
       "      <th>gender</th>\n",
       "      <th>age</th>\n",
       "      <th>salary</th>\n",
       "      <th>family_member</th>\n",
       "      <th>payments</th>\n",
       "    </tr>\n",
       "  </thead>\n",
       "  <tbody>\n",
       "    <tr>\n",
       "      <th>0</th>\n",
       "      <td>1</td>\n",
       "      <td>41</td>\n",
       "      <td>49600</td>\n",
       "      <td>1</td>\n",
       "      <td>0</td>\n",
       "    </tr>\n",
       "    <tr>\n",
       "      <th>1</th>\n",
       "      <td>0</td>\n",
       "      <td>46</td>\n",
       "      <td>38000</td>\n",
       "      <td>1</td>\n",
       "      <td>1</td>\n",
       "    </tr>\n",
       "    <tr>\n",
       "      <th>2</th>\n",
       "      <td>0</td>\n",
       "      <td>29</td>\n",
       "      <td>21000</td>\n",
       "      <td>0</td>\n",
       "      <td>0</td>\n",
       "    </tr>\n",
       "    <tr>\n",
       "      <th>3</th>\n",
       "      <td>0</td>\n",
       "      <td>21</td>\n",
       "      <td>41700</td>\n",
       "      <td>2</td>\n",
       "      <td>0</td>\n",
       "    </tr>\n",
       "    <tr>\n",
       "      <th>4</th>\n",
       "      <td>1</td>\n",
       "      <td>28</td>\n",
       "      <td>26100</td>\n",
       "      <td>0</td>\n",
       "      <td>0</td>\n",
       "    </tr>\n",
       "  </tbody>\n",
       "</table>\n",
       "</div>"
      ],
      "text/plain": [
       "   gender  age  salary  family_member  payments\n",
       "0       1   41   49600              1         0\n",
       "1       0   46   38000              1         1\n",
       "2       0   29   21000              0         0\n",
       "3       0   21   41700              2         0\n",
       "4       1   28   26100              0         0"
      ]
     },
     "metadata": {},
     "output_type": "display_data"
    },
    {
     "name": "stdout",
     "output_type": "stream",
     "text": [
      "<class 'pandas.core.frame.DataFrame'>\n",
      "Int64Index: 4847 entries, 0 to 4999\n",
      "Data columns (total 5 columns):\n",
      " #   Column         Non-Null Count  Dtype\n",
      "---  ------         --------------  -----\n",
      " 0   gender         4847 non-null   int64\n",
      " 1   age            4847 non-null   int64\n",
      " 2   salary         4847 non-null   int64\n",
      " 3   family_member  4847 non-null   int64\n",
      " 4   payments       4847 non-null   int64\n",
      "dtypes: int64(5)\n",
      "memory usage: 227.2 KB\n"
     ]
    },
    {
     "data": {
      "text/plain": [
       "None"
      ]
     },
     "metadata": {},
     "output_type": "display_data"
    }
   ],
   "source": [
    "#переименование столбцов\n",
    "data.rename(columns={'Пол': 'gender', 'Возраст': 'age',\n",
    "                   'Зарплата': 'salary',\n",
    "                   'Члены семьи': 'family_member',\n",
    "                   'Страховые выплаты': 'payments'\n",
    "                  }, inplace=True)\n",
    "\n",
    "#замена типа данных\n",
    "data['age'] = data['age'].astype(int)\n",
    "data['salary'] = data['salary'].astype(int)\n",
    "\n",
    "#избавление от дубликатов\n",
    "data= data.drop_duplicates()\n",
    "\n",
    "display(data.head())\n",
    "display(data.info())"
   ]
  },
  {
   "cell_type": "markdown",
   "metadata": {},
   "source": [
    "**Вывод**\n",
    "<br>\n",
    "Данные были загружены, изучены и подготовлены к решению поставленной задачи."
   ]
  },
  {
   "cell_type": "markdown",
   "metadata": {},
   "source": [
    "## Умножение матриц"
   ]
  },
  {
   "cell_type": "markdown",
   "metadata": {},
   "source": [
    "Обозначения:\n",
    "\n",
    "- $X$ — матрица признаков (нулевой столбец состоит из единиц)\n",
    "\n",
    "- $y$ — вектор целевого признака\n",
    "\n",
    "- $P$ — матрица, на которую умножаются признаки\n",
    "\n",
    "- $w$ — вектор весов линейной регрессии (нулевой элемент равен сдвигу)"
   ]
  },
  {
   "cell_type": "markdown",
   "metadata": {},
   "source": [
    "\n",
    "\n",
    "Предсказания:\n",
    "\n",
    "$$\n",
    "a = X*w\n",
    "$$\n",
    "\n",
    "Задача обучения:\n",
    "\n",
    "$$\n",
    "w = \\arg\\min_w *MSE(Xw, y)\n",
    "$$\n",
    "\n",
    "Формула обучения:\n",
    "\n",
    "$$\n",
    "w = (X^TX)^{-1}X^Ty\n",
    "$$\n",
    "\n",
    "\n",
    "Пусть $X1$ - это матрица $X$, умноженная на обратимую матрицу $P$:\n",
    "\n",
    "$$\n",
    "X1 = XP\n",
    "$$\n",
    "\n",
    "Подставим $X1$ в формулу обучения ($w1$):\n",
    "\n",
    "$$\n",
    "w1 = ((XP)^T(XP))^{-1}(XP)^Ty\n",
    "$$\n",
    "\n",
    "Проведем преобразования:\n",
    "\n",
    "$$\n",
    "w1 = (P^TX^TXP)^{-1}*(P^TX^T)*y\n",
    "$$\n",
    "\n",
    "$$\n",
    "w1 = (P^T(X^TX)P)^{-1}*(P^TX^T)*y\n",
    "$$\n",
    "\n",
    "$$\n",
    "w1 = P^{-1}(X^TX)^{-1}*(P^T)^{-1}*(P^TX^T)*y\n",
    "$$\n",
    "\n",
    "$$\n",
    "w1 = P^{-1}*(X^TX)^{-1}*E(X^T)*y = P^{-1}(X^TX)^{-1}*(X^T)*y\n",
    "$$\n",
    "\n",
    "$$\n",
    "w1 = P^{-1}(X^TX)^{-1}(X^T)*y = (P^{-1})*w\n",
    "$$\n",
    "\n",
    "$$\n",
    "a = X*w\n",
    "$$\n",
    "\n",
    "$$\n",
    "a1 = X1*w1 = XPP^{-1}*w\n",
    "$$\n",
    "\n",
    "$$\n",
    "a1 = XPP^{-1}w = XEw = Xw = a\n",
    "$$"
   ]
  },
  {
   "cell_type": "markdown",
   "metadata": {},
   "source": [
    "После преобразований видно, что умножение признаков на обратимую матрицу не влияет на качество линейной регрессии.\n",
    "<br>\n",
    "Определим как связаны параметры линейной регрессии в исходной задаче и после преобразования.\n",
    "<br>\n",
    "Из вычислений выше можно вывести следующее:\n",
    "\n",
    "$$\n",
    "w1 = P^{-1}(X^TX)^{-1}(X^T)y = (P^{-1})*w\n",
    "$$\n",
    "\n",
    "Из этого следует, что параметры линейной регрессии в исходной задаче и в преобразованной связаны следующим образом:\n",
    "\n",
    "$$\n",
    "w1 =(P)^{-1}*w\n",
    "$$"
   ]
  },
  {
   "cell_type": "markdown",
   "metadata": {},
   "source": [
    "**Вывод**\n",
    "<br>\n",
    "\n",
    "При умножении признаков на обратимую матрицу - качество линейной регрессии не изменяется.\n",
    "<br>\n",
    "\n",
    "Параметры линейной регрессии в исходной задаче и в преобразованной изменятся следующим образом: Для новых признаков поменяются веса. Необходимо будет переобучить модель на новых признаках.\n"
   ]
  },
  {
   "cell_type": "markdown",
   "metadata": {},
   "source": [
    "## Алгоритм преобразования"
   ]
  },
  {
   "cell_type": "markdown",
   "metadata": {},
   "source": [
    "**Алгоритм**\n",
    "\n",
    "Для защиты персональных данных клиентов умножим матрицу состояющую из признаков на обратимую матрицу.\n",
    "\n",
    "Т.к. обратная матрица может быть только квадратной, то должна быть квадратной с размером, равным количеству признаков, а именно - 4."
   ]
  },
  {
   "cell_type": "markdown",
   "metadata": {},
   "source": [
    "**Обоснование**\n",
    "\n",
    "Сравним разность предсказаний по текущим значениям признаков и по умноженным на обратимую матрицу."
   ]
  },
  {
   "cell_type": "code",
   "execution_count": 6,
   "metadata": {},
   "outputs": [],
   "source": [
    "#рандомная матрица 4х4\n",
    "random_mat = np.random.randint(100,size = (4, 4))\n",
    "\n",
    "#выделим тренировочную и валидационную выборку\n",
    "target = data['payments']\n",
    "features = data.drop('payments',axis=1)\n",
    "\n",
    "#проведем масштабирование с помощью StandardScaler()\n",
    "scaler = StandardScaler()\n",
    "scaler.fit(features)\n",
    "\n",
    "#сохраним масштабированные признаки в переменную\n",
    "scaled = scaler.transform(features)"
   ]
  },
  {
   "cell_type": "markdown",
   "metadata": {},
   "source": [
    "Рассчитаем веса $w$ для исходных признаков (масштабированных) по стандартной формуле $w = (X^T X)^{-1} X^T y$."
   ]
  },
  {
   "cell_type": "code",
   "execution_count": 7,
   "metadata": {},
   "outputs": [],
   "source": [
    "w = np.linalg.inv(scaled.T.dot(scaled)).dot(scaled.T).dot(target)"
   ]
  },
  {
   "cell_type": "markdown",
   "metadata": {},
   "source": [
    "Рассчитаем вектор предсказаний по исходным признакам по формуле  𝑎=𝑋𝑤 ."
   ]
  },
  {
   "cell_type": "code",
   "execution_count": 8,
   "metadata": {},
   "outputs": [],
   "source": [
    "a = scaled @ w"
   ]
  },
  {
   "cell_type": "markdown",
   "metadata": {},
   "source": [
    "Проведем преобразование признаков."
   ]
  },
  {
   "cell_type": "code",
   "execution_count": 9,
   "metadata": {},
   "outputs": [],
   "source": [
    "scaled_new = scaled @ random_mat"
   ]
  },
  {
   "cell_type": "markdown",
   "metadata": {},
   "source": [
    "Расчитаем веса $𝑤1$ для преобразованных признаков по стандартной формуле $𝑤=(𝑋𝑇𝑋)−1𝑋𝑇𝑦$."
   ]
  },
  {
   "cell_type": "code",
   "execution_count": 10,
   "metadata": {},
   "outputs": [],
   "source": [
    "w1 = np.linalg.inv(scaled_new.T.dot(scaled_new)).dot(scaled_new.T).dot(target)"
   ]
  },
  {
   "cell_type": "markdown",
   "metadata": {},
   "source": [
    "Расчитаем вектор предсказаний по преобразованным признакам по формуле  𝑎=𝑋𝑤 ."
   ]
  },
  {
   "cell_type": "code",
   "execution_count": 11,
   "metadata": {},
   "outputs": [],
   "source": [
    "a1 = scaled_new @ w1"
   ]
  },
  {
   "cell_type": "markdown",
   "metadata": {},
   "source": [
    "Вычислим разницу."
   ]
  },
  {
   "cell_type": "code",
   "execution_count": 12,
   "metadata": {},
   "outputs": [
    {
     "data": {
      "text/plain": [
       "-3.8712956451636416e-14"
      ]
     },
     "metadata": {},
     "output_type": "display_data"
    }
   ],
   "source": [
    "diff = a - a1\n",
    "display(diff.sum())"
   ]
  },
  {
   "cell_type": "markdown",
   "metadata": {},
   "source": [
    "**Вывод**\n",
    "<br>\n",
    "\n",
    "Небольшая сумма расхождений говорит о том, что ею можно принебречь , это значит, что 𝑎 = 𝑎1. Также не приводит к ухудшению качества модели - умножение признаков на обратную матрицу.\n"
   ]
  },
  {
   "cell_type": "markdown",
   "metadata": {},
   "source": [
    "## Проверка алгоритма"
   ]
  },
  {
   "cell_type": "markdown",
   "metadata": {},
   "source": [
    "Сравним две модели линейной регрессии - с текущими значениями признаков и с признаками, умноженными на обратную матрицу."
   ]
  },
  {
   "cell_type": "code",
   "execution_count": 13,
   "metadata": {},
   "outputs": [
    {
     "name": "stdout",
     "output_type": "stream",
     "text": [
      "MSE Score: 0.1252726382276536\n",
      "R2_Score на исходных данных:  0.4302010046633359\n"
     ]
    }
   ],
   "source": [
    "model = LinearRegression(normalize = True)\n",
    "model.fit(features, target)\n",
    "predictions = model.predict(features)\n",
    "mse = mean_squared_error(target, predictions)\n",
    "print('MSE Score:', mse)\n",
    "print('R2_Score на исходных данных: ',r2_score(target, predictions))"
   ]
  },
  {
   "cell_type": "code",
   "execution_count": 14,
   "metadata": {},
   "outputs": [
    {
     "name": "stdout",
     "output_type": "stream",
     "text": [
      "MSE Score: 0.1252726382276536\n",
      "R2_Score для преобразованных  признаков:  0.4302010046633359\n"
     ]
    }
   ],
   "source": [
    "features_mat = scaled @ random_mat\n",
    "model.fit(features_mat, target)\n",
    "predictions_mat = model.predict(features_mat)\n",
    "mse = mean_squared_error(target, predictions)\n",
    "print('MSE Score:', mse)\n",
    "print('R2_Score для преобразованных  признаков: ',r2_score(target, predictions_mat))"
   ]
  },
  {
   "cell_type": "markdown",
   "metadata": {},
   "source": [
    "**Вывод**\n",
    "<br>\n",
    "Параметры MSE Score и R2_Score  оказались одинаковыми для двух моделей линейной, поэтому можно сказать, что предложенный алгоритм может защитить данные пользователей и при этом не ухудшить качество модели машинного обучения."
   ]
  },
  {
   "cell_type": "markdown",
   "metadata": {},
   "source": [
    "# Общий вывод\n",
    "\n",
    "<br>\n",
    "\n",
    "В данном проекте было сделано следующее:\n",
    "\n",
    "- Данные загружены, изучены и подготовлены к работе\n",
    "- Было проверено утверждение \"Изменится ли качество линейной регрессии, если умножить признаки на обратимую матрицу?\"\n",
    "- Был создан алгоритм для преобразования данных, благодаря которому будет сложно восстановить персональную информацию о клиентах."
   ]
  }
 ],
 "metadata": {
  "ExecuteTimeLog": [
   {
    "duration": 133,
    "start_time": "2022-05-09T07:11:26.176Z"
   },
   {
    "duration": 1561,
    "start_time": "2022-05-09T07:11:55.100Z"
   },
   {
    "duration": 102,
    "start_time": "2022-05-09T07:12:37.085Z"
   },
   {
    "duration": 5,
    "start_time": "2022-05-09T08:08:20.161Z"
   },
   {
    "duration": 83,
    "start_time": "2022-05-09T08:09:43.039Z"
   },
   {
    "duration": 145,
    "start_time": "2022-05-09T08:09:48.405Z"
   },
   {
    "duration": 20,
    "start_time": "2022-05-09T08:09:55.958Z"
   },
   {
    "duration": 31,
    "start_time": "2022-05-09T08:24:36.914Z"
   },
   {
    "duration": 15,
    "start_time": "2022-05-09T09:29:23.694Z"
   },
   {
    "duration": 5,
    "start_time": "2022-05-09T09:40:32.009Z"
   },
   {
    "duration": 9,
    "start_time": "2022-05-09T09:40:57.140Z"
   },
   {
    "duration": 4,
    "start_time": "2022-05-09T09:41:17.188Z"
   },
   {
    "duration": 118,
    "start_time": "2022-05-09T09:41:33.068Z"
   },
   {
    "duration": 5,
    "start_time": "2022-05-09T09:41:46.773Z"
   },
   {
    "duration": 5,
    "start_time": "2022-05-09T09:42:15.998Z"
   },
   {
    "duration": 5,
    "start_time": "2022-05-09T09:42:43.416Z"
   },
   {
    "duration": 1517,
    "start_time": "2022-05-09T09:43:18.197Z"
   },
   {
    "duration": 315,
    "start_time": "2022-05-09T09:43:19.717Z"
   },
   {
    "duration": 5,
    "start_time": "2022-05-09T09:43:20.034Z"
   },
   {
    "duration": 25,
    "start_time": "2022-05-09T09:43:20.042Z"
   },
   {
    "duration": 39,
    "start_time": "2022-05-09T09:43:20.069Z"
   },
   {
    "duration": 10,
    "start_time": "2022-05-09T09:43:20.111Z"
   },
   {
    "duration": 6,
    "start_time": "2022-05-09T09:43:20.124Z"
   },
   {
    "duration": 51,
    "start_time": "2022-05-09T09:43:20.133Z"
   },
   {
    "duration": 103,
    "start_time": "2022-05-09T09:43:20.187Z"
   },
   {
    "duration": 5,
    "start_time": "2022-05-09T09:43:20.383Z"
   },
   {
    "duration": 97,
    "start_time": "2022-05-09T09:43:20.390Z"
   },
   {
    "duration": 94,
    "start_time": "2022-05-09T09:43:20.491Z"
   },
   {
    "duration": 15,
    "start_time": "2022-05-09T10:13:19.075Z"
   },
   {
    "duration": 14,
    "start_time": "2022-05-09T10:13:58.459Z"
   },
   {
    "duration": 1593,
    "start_time": "2022-05-10T09:21:59.207Z"
   },
   {
    "duration": 150,
    "start_time": "2022-05-10T09:22:00.803Z"
   },
   {
    "duration": 5,
    "start_time": "2022-05-10T09:22:00.955Z"
   },
   {
    "duration": 27,
    "start_time": "2022-05-10T09:22:00.962Z"
   },
   {
    "duration": 28,
    "start_time": "2022-05-10T09:22:00.991Z"
   },
   {
    "duration": 37,
    "start_time": "2022-05-10T09:22:01.022Z"
   },
   {
    "duration": 7,
    "start_time": "2022-05-10T09:22:01.061Z"
   },
   {
    "duration": 9,
    "start_time": "2022-05-10T09:22:01.072Z"
   },
   {
    "duration": 98,
    "start_time": "2022-05-10T09:22:01.161Z"
   },
   {
    "duration": 12,
    "start_time": "2022-05-10T09:22:01.264Z"
   },
   {
    "duration": 74,
    "start_time": "2022-05-10T09:22:01.278Z"
   },
   {
    "duration": 97,
    "start_time": "2022-05-10T09:22:01.356Z"
   },
   {
    "duration": 29,
    "start_time": "2022-05-10T09:22:01.456Z"
   },
   {
    "duration": 102,
    "start_time": "2022-05-10T09:22:01.554Z"
   },
   {
    "duration": 1717,
    "start_time": "2022-05-10T09:24:51.406Z"
   },
   {
    "duration": 104,
    "start_time": "2022-05-10T09:24:53.125Z"
   },
   {
    "duration": 5,
    "start_time": "2022-05-10T09:24:53.232Z"
   },
   {
    "duration": 36,
    "start_time": "2022-05-10T09:24:53.241Z"
   },
   {
    "duration": 29,
    "start_time": "2022-05-10T09:24:53.279Z"
   },
   {
    "duration": 11,
    "start_time": "2022-05-10T09:24:53.311Z"
   },
   {
    "duration": 29,
    "start_time": "2022-05-10T09:24:53.324Z"
   },
   {
    "duration": 99,
    "start_time": "2022-05-10T09:24:53.356Z"
   },
   {
    "duration": 93,
    "start_time": "2022-05-10T09:24:53.459Z"
   },
   {
    "duration": 7,
    "start_time": "2022-05-10T09:24:53.556Z"
   },
   {
    "duration": 89,
    "start_time": "2022-05-10T09:24:53.565Z"
   },
   {
    "duration": 103,
    "start_time": "2022-05-10T09:24:53.656Z"
   },
   {
    "duration": 197,
    "start_time": "2022-05-10T09:24:53.762Z"
   },
   {
    "duration": 103,
    "start_time": "2022-05-10T09:24:53.962Z"
   }
  ],
  "kernelspec": {
   "display_name": "Python 3",
   "language": "python",
   "name": "python3"
  },
  "language_info": {
   "codemirror_mode": {
    "name": "ipython",
    "version": 3
   },
   "file_extension": ".py",
   "mimetype": "text/x-python",
   "name": "python",
   "nbconvert_exporter": "python",
   "pygments_lexer": "ipython3",
   "version": "3.8.8"
  },
  "toc": {
   "base_numbering": 1,
   "nav_menu": {},
   "number_sections": true,
   "sideBar": true,
   "skip_h1_title": true,
   "title_cell": "Содержание",
   "title_sidebar": "Contents",
   "toc_cell": true,
   "toc_position": {},
   "toc_section_display": true,
   "toc_window_display": true
  }
 },
 "nbformat": 4,
 "nbformat_minor": 2
}
