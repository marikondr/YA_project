{
 "cells": [
  {
   "cell_type": "markdown",
   "metadata": {},
   "source": [
    "# Определение стоимости автомобилей"
   ]
  },
  {
   "cell_type": "markdown",
   "metadata": {},
   "source": [
    "Сервис по продаже автомобилей с пробегом «Не бит, не крашен» разрабатывает приложение для привлечения новых клиентов. В нём можно быстро узнать рыночную стоимость своего автомобиля. В вашем распоряжении исторические данные: технические характеристики, комплектации и цены автомобилей. Вам нужно построить модель для определения стоимости. \n",
    "\n",
    "Заказчику важны:\n",
    "\n",
    "- качество предсказания;\n",
    "- скорость предсказания;\n",
    "- время обучения."
   ]
  },
  {
   "cell_type": "markdown",
   "metadata": {},
   "source": [
    "## Подготовка данных"
   ]
  },
  {
   "cell_type": "markdown",
   "metadata": {},
   "source": [
    "**Загрузка данных**"
   ]
  },
  {
   "cell_type": "markdown",
   "metadata": {},
   "source": [
    "Установка catboost и lightgbm"
   ]
  },
  {
   "cell_type": "code",
   "execution_count": 1,
   "metadata": {},
   "outputs": [],
   "source": [
    "pip install catboost"
   ]
  },
  {
   "cell_type": "code",
   "execution_count": 2,
   "metadata": {},
   "outputs": [],
   "source": [
    "pip install lightgbm"
   ]
  },
  {
   "cell_type": "markdown",
   "metadata": {},
   "source": [
    "Импорт необходимых библиотек"
   ]
  },
  {
   "cell_type": "code",
   "execution_count": 3,
   "metadata": {},
   "outputs": [],
   "source": [
    "import pandas as pd\n",
    "\n",
    "import numpy as np\n",
    "\n",
    "import math\n",
    "import matplotlib.pyplot as plt\n",
    "\n",
    "from sklearn.linear_model import LinearRegression\n",
    "from sklearn.linear_model import Ridge\n",
    "\n",
    "from sklearn.model_selection import train_test_split\n",
    "from sklearn.model_selection import cross_val_score\n",
    "from sklearn.model_selection import GridSearchCV\n",
    "from sklearn.model_selection import RepeatedKFold\n",
    "\n",
    "from sklearn.metrics import mean_squared_error\n",
    "\n",
    "from sklearn.preprocessing import OrdinalEncoder\n",
    "from sklearn.preprocessing import StandardScaler\n",
    "\n",
    "from sklearn.pipeline import Pipeline\n",
    "\n",
    "\n",
    "from catboost import CatBoostRegressor\n",
    "\n",
    "from lightgbm import LGBMRegressor\n",
    "\n",
    "\n",
    "import warnings\n",
    "warnings.filterwarnings('ignore')"
   ]
  },
  {
   "cell_type": "markdown",
   "metadata": {},
   "source": [
    "Загрузка данных и вывод на экран."
   ]
  },
  {
   "cell_type": "code",
   "execution_count": 4,
   "metadata": {},
   "outputs": [
    {
     "data": {},
     "metadata": {},
     "output_type": "display_data"
    },
    {
     "data": {},
     "metadata": {},
     "output_type": "display_data"
    }
   ],
   "source": [
    "try:  \n",
    "    data = pd.read_csv('C:/projects/autos.csv')\n",
    "except OSError as e:\n",
    "    data = pd.read_csv('/datasets/autos.csv')\n",
    "display(data.head())\n",
    "display(data.info())"
   ]
  },
  {
   "cell_type": "markdown",
   "metadata": {},
   "source": [
    "**Признаки**:\n",
    "    \n",
    "- DateCrawled — дата скачивания анкеты из базы\n",
    "- VehicleType — тип автомобильного кузова\n",
    "- RegistrationYear — год регистрации автомобиля\n",
    "- Gearbox — тип коробки передач\n",
    "- Power — мощность (л. с.)\n",
    "- Model — модель автомобиля\n",
    "- Kilometer — пробег (км)\n",
    "- RegistrationMonth — месяц регистрации автомобиля\n",
    "- FuelType — тип топлива\n",
    "- Brand — марка автомобиля\n",
    "- NotRepaired — была машина в ремонте или нет\n",
    "- DateCreated — дата создания анкеты\n",
    "- NumberOfPictures — количество фотографий автомобиля\n",
    "- PostalCode — почтовый индекс владельца анкеты (пользователя)\n",
    "- LastSeen — дата последней активности пользователя\n",
    "\n",
    "<br>\n",
    "\n",
    "**Целевой признак**\n",
    "\n",
    "- Price — цена (евро)"
   ]
  },
  {
   "cell_type": "markdown",
   "metadata": {},
   "source": [
    "**Проверка на наличие NaN и артефактов**"
   ]
  },
  {
   "cell_type": "code",
   "execution_count": 5,
   "metadata": {},
   "outputs": [],
   "source": [
    "def data_info(data):\n",
    "    for column in data.columns:\n",
    "        print('Значения столбца', column)\n",
    "        print(data[column].sort_values().unique())\n",
    "        print('Количество NaN:', data[column].isna().sum())"
   ]
  },
  {
   "cell_type": "code",
   "execution_count": 6,
   "metadata": {
    "scrolled": true
   },
   "outputs": [],
   "source": [
    "data_info(data)"
   ]
  },
  {
   "cell_type": "markdown",
   "metadata": {},
   "source": [
    "**Вывод**\n",
    "<br>\n",
    "Названия столбцов таблицы необходимо привести к змеиному регистру.\n",
    "Столбцы с датами привести к типу данным datetype.\n",
    "<br>\n",
    "\n",
    "В столбцах присутсвуют NaN:\n",
    "- VehicleType        316879 non-null  object — тип автомобильного кузова\n",
    "- Gearbox            334536 non-null  object — тип коробки передач\n",
    "-  Model              334664 non-null  object  — модель автомобиля\n",
    "- FuelType           321474 non-null  object — тип топлива\n",
    "- NotRepaired        283215 non-null  object — была машина в ремонте или нет\n",
    "<br>\n",
    "\n",
    "В столбце Price — цена (евро) присутсвуют 0.\n",
    "<br>\n",
    "\n",
    "Столбец RegistrationYear — год регистрации автомобиля - иммет аномальные значения \n",
    "В столбце и Power — мощность (л. с.) присутсвуют 0 и аномально высокие значения.\n",
    "Столбец NumberOfPictures содержит одни 0, считаю можно его удалить.\n"
   ]
  },
  {
   "cell_type": "markdown",
   "metadata": {},
   "source": [
    "### Предобработка данных"
   ]
  },
  {
   "cell_type": "markdown",
   "metadata": {},
   "source": [
    "Удаление столбца NumberOfPictures"
   ]
  },
  {
   "cell_type": "code",
   "execution_count": 7,
   "metadata": {},
   "outputs": [
    {
     "data": {},
     "execution_count": 7,
     "metadata": {},
     "output_type": "execute_result"
    }
   ],
   "source": [
    "data = data.drop(columns=['NumberOfPictures'])\n",
    "data.head(1)"
   ]
  },
  {
   "cell_type": "markdown",
   "metadata": {},
   "source": [
    "Переименование столбцов"
   ]
  },
  {
   "cell_type": "code",
   "execution_count": 8,
   "metadata": {},
   "outputs": [
    {
     "data": {},
     "execution_count": 8,
     "metadata": {},
     "output_type": "execute_result"
    }
   ],
   "source": [
    "data.columns = data.columns.str.lower()\n",
    "data.head(1)"
   ]
  },
  {
   "cell_type": "code",
   "execution_count": 9,
   "metadata": {},
   "outputs": [
    {
     "data": {},
     "execution_count": 9,
     "metadata": {},
     "output_type": "execute_result"
    }
   ],
   "source": [
    "data.rename(columns={'datecrawled': 'date_crawled', 'vehicletype': 'vehicle_type',\n",
    "                   'registrationyear': 'registration_year',\n",
    "                   'registrationmonth': 'registration_month',\n",
    "                   'fueltype': 'fuel_type', 'notrepaired' :'not_repaired', \n",
    "                   'datecreated': 'date_created', 'postalcode' : 'postal_code',\n",
    "                   'lastseen' : 'last_seen'\n",
    "                  }, inplace=True)\n",
    "data.head(1)"
   ]
  },
  {
   "cell_type": "markdown",
   "metadata": {},
   "source": [
    "Замена типа данных дата "
   ]
  },
  {
   "cell_type": "code",
   "execution_count": 10,
   "metadata": {},
   "outputs": [
    {
     "data": {},
     "execution_count": 10,
     "metadata": {},
     "output_type": "execute_result"
    }
   ],
   "source": [
    "data['date_crawled'] = pd.to_datetime(data.date_crawled)\n",
    "data['date_created'] = pd.to_datetime(data.date_created)\n",
    "data['last_seen'] = pd.to_datetime(data.last_seen)\n",
    "data.head(1)"
   ]
  },
  {
   "cell_type": "code",
   "execution_count": 11,
   "metadata": {},
   "outputs": [],
   "source": [
    "data.info()"
   ]
  },
  {
   "cell_type": "markdown",
   "metadata": {},
   "source": [
    "Проверка кол-ва нулей в столбце `price`"
   ]
  },
  {
   "cell_type": "code",
   "execution_count": 12,
   "metadata": {},
   "outputs": [
    {
     "data": {},
     "execution_count": 12,
     "metadata": {},
     "output_type": "execute_result"
    },
    {
     "data": {
      "image/png": "[encoded data removed]"
     },
     "metadata": {
      "needs_background": "light"
     },
     "output_type": "display_data"
    }
   ],
   "source": [
    "data['price'].hist(bins = 100, figsize=(10,5), range = (0, 100))"
   ]
  },
  {
   "cell_type": "markdown",
   "metadata": {},
   "source": [
    "Как видно из графика очень много зачений с 0, также считаю, что цена менее 50 евро не явля-ся адекватной, поэтому произведу замену цены менее 50 евро на среднюю цену сформированную по Бренду, Модели и году."
   ]
  },
  {
   "cell_type": "code",
   "execution_count": 13,
   "metadata": {},
   "outputs": [],
   "source": [
    "def price(row):\n",
    "    if row[1] < 50:\n",
    "        row[1] = np.nan\n",
    "    return row"
   ]
  },
  {
   "cell_type": "code",
   "execution_count": 14,
   "metadata": {},
   "outputs": [],
   "source": [
    "data = data.apply(price, axis=1)"
   ]
  },
  {
   "cell_type": "code",
   "execution_count": 15,
   "metadata": {},
   "outputs": [
    {
     "data": {},
     "execution_count": 15,
     "metadata": {},
     "output_type": "execute_result"
    }
   ],
   "source": [
    "data[\"price\"] = data[\"price\"].fillna(data.groupby(['brand', 'model', 'registration_year'])[\"price\"].transform('mean'))\n",
    "data[\"price\"].isna().sum()"
   ]
  },
  {
   "cell_type": "markdown",
   "metadata": {},
   "source": [
    "Проверка столбца `RegistrationYear`"
   ]
  },
  {
   "cell_type": "code",
   "execution_count": 16,
   "metadata": {},
   "outputs": [
    {
     "data": {
      "image/png": "[encoded data removed]"
     },
     "metadata": {
      "needs_background": "light"
     },
     "output_type": "display_data"
    },
    {
     "data": {
      "image/png": "[encoded data removed]"
     },
     "metadata": {
      "needs_background": "light"
     },
     "output_type": "display_data"
    },
    {
     "data": {
      "image/png": "[encoded data removed]"
     },
     "metadata": {
      "needs_background": "light"
     },
     "output_type": "display_data"
    }
   ],
   "source": [
    "def chart(min, max):\n",
    "    plt.figure(figsize=(10,5))\n",
    "    data['registration_year'].plot(kind=\"hist\", range=(min, max));\n",
    "    plt.xlabel(\"Год\");\n",
    "    plt.ylabel(\"Количество\");\n",
    "\n",
    "chart(1000, 1959)\n",
    "chart(1960, 2020)\n",
    "chart(2021, 9999)"
   ]
  },
  {
   "cell_type": "code",
   "execution_count": 17,
   "metadata": {},
   "outputs": [],
   "source": [
    "def year(row):\n",
    "    if row[3] < 1960:\n",
    "        row[3] = 1960\n",
    "    elif row[3] > 2019:\n",
    "        row[3] = 2019\n",
    "    return row"
   ]
  },
  {
   "cell_type": "code",
   "execution_count": 18,
   "metadata": {},
   "outputs": [],
   "source": [
    "data = data.apply(year, axis=1)"
   ]
  },
  {
   "cell_type": "code",
   "execution_count": 19,
   "metadata": {},
   "outputs": [
    {
     "data": {},
     "execution_count": 19,
     "metadata": {},
     "output_type": "execute_result"
    }
   ],
   "source": [
    "data[\"model\"] = data[\"model\"].fillna(data.groupby(['brand', 'registration_year'])[\"model\"].transform('first'))\n",
    "data[\"model\"].isna().sum()"
   ]
  },
  {
   "cell_type": "markdown",
   "metadata": {},
   "source": [
    "Проверка столбца `vehicle_type`"
   ]
  },
  {
   "cell_type": "code",
   "execution_count": 20,
   "metadata": {},
   "outputs": [
    {
     "data": {},
     "execution_count": 20,
     "metadata": {},
     "output_type": "execute_result"
    }
   ],
   "source": [
    "data[\"vehicle_type\"] = data[\"vehicle_type\"].fillna(data.groupby(['brand', 'model'])[\"vehicle_type\"].transform('first'))\n",
    "data[\"vehicle_type\"].isna().sum()"
   ]
  },
  {
   "cell_type": "markdown",
   "metadata": {},
   "source": [
    "Проверка столбца `price`"
   ]
  },
  {
   "cell_type": "code",
   "execution_count": 21,
   "metadata": {},
   "outputs": [
    {
     "data": {
      "image/png": "[encoded data removed]"
     },
     "metadata": {
      "needs_background": "light"
     },
     "output_type": "display_data"
    }
   ],
   "source": [
    "plt.figure(figsize=(10,5))\n",
    "data['price'].plot(kind=\"hist\");\n",
    "plt.xlabel(\"Цена\");\n",
    "plt.ylabel(\"Количество\");"
   ]
  },
  {
   "cell_type": "code",
   "execution_count": 22,
   "metadata": {},
   "outputs": [
    {
     "data": {
      "image/png": "[encoded data removed]"
     },
     "metadata": {
      "needs_background": "light"
     },
     "output_type": "display_data"
    }
   ],
   "source": [
    "data['price'].hist(bins=100, range = (0, 100), figsize = (10,5));"
   ]
  },
  {
   "cell_type": "code",
   "execution_count": 23,
   "metadata": {},
   "outputs": [],
   "source": [
    "def price(row):\n",
    "    if row[1] < 50:\n",
    "        row[1] = np.nan\n",
    "    return row"
   ]
  },
  {
   "cell_type": "code",
   "execution_count": 24,
   "metadata": {},
   "outputs": [],
   "source": [
    "data = data.apply(price, axis=1)"
   ]
  },
  {
   "cell_type": "code",
   "execution_count": 25,
   "metadata": {},
   "outputs": [
    {
     "data": {},
     "execution_count": 25,
     "metadata": {},
     "output_type": "execute_result"
    }
   ],
   "source": [
    "data[\"price\"] = data[\"price\"].fillna(data.groupby(['brand', 'model', 'registration_year'])[\"price\"].transform('mean'))\n",
    "data[\"price\"].isna().sum()"
   ]
  },
  {
   "cell_type": "markdown",
   "metadata": {},
   "source": [
    "Проверка столбца `gearbox`"
   ]
  },
  {
   "cell_type": "code",
   "execution_count": 26,
   "metadata": {},
   "outputs": [
    {
     "data": {},
     "execution_count": 26,
     "metadata": {},
     "output_type": "execute_result"
    }
   ],
   "source": [
    "data[\"gearbox\"] = data[\"gearbox\"].fillna(data.groupby(['brand', 'model'])[\"gearbox\"].transform('first'))\n",
    "data[\"gearbox\"].replace('auto', 1, inplace=True)\n",
    "data[\"gearbox\"].replace('manual', 0, inplace=True)\n",
    "data[\"gearbox\"].isna().sum()"
   ]
  },
  {
   "cell_type": "code",
   "execution_count": 27,
   "metadata": {},
   "outputs": [
    {
     "data": {
      "image/png": "[encoded data removed]"
     },
     "metadata": {
      "needs_background": "light"
     },
     "output_type": "display_data"
    },
    {
     "data": {
      "image/png": "[encoded data removed]"
     },
     "metadata": {
      "needs_background": "light"
     },
     "output_type": "display_data"
    },
    {
     "data": {
      "image/png": "[encoded data removed]"
     },
     "metadata": {
      "needs_background": "light"
     },
     "output_type": "display_data"
    },
    {
     "data": {
      "image/png": "[encoded data removed]"
     },
     "metadata": {
      "needs_background": "light"
     },
     "output_type": "display_data"
    }
   ],
   "source": [
    "def power(min, max):\n",
    "    plt.figure(figsize=(10,5))\n",
    "    data['power'].plot(kind=\"hist\", range=(min, max));\n",
    "    plt.xlabel(\"Мощность\");\n",
    "    plt.ylabel(\"Количество\");\n",
    "\n",
    "power(0, 50)\n",
    "power(51, 500)\n",
    "power(500, 2000)\n",
    "power(2001, 20000)"
   ]
  },
  {
   "cell_type": "markdown",
   "metadata": {},
   "source": [
    "Найдем машины с высокой мощностью."
   ]
  },
  {
   "cell_type": "code",
   "execution_count": 28,
   "metadata": {
    "scrolled": true
   },
   "outputs": [
    {
     "data": {},
     "execution_count": 28,
     "metadata": {},
     "output_type": "execute_result"
    }
   ],
   "source": [
    "top_power = data.query('1600 <= power <= 30000')\n",
    "top_power.head()"
   ]
  },
  {
   "cell_type": "markdown",
   "metadata": {},
   "source": [
    "Явная ошибка в данных."
   ]
  },
  {
   "cell_type": "markdown",
   "metadata": {},
   "source": [
    "Как видно из графика мощности после 40 л.с наблюдается скачок."
   ]
  },
  {
   "cell_type": "code",
   "execution_count": 29,
   "metadata": {},
   "outputs": [],
   "source": [
    "def power(row):\n",
    "    if row[5] < 40:\n",
    "        row[5] = np.nan\n",
    "    elif row[5] > 1600:\n",
    "        row[5] = np.nan\n",
    "    return row"
   ]
  },
  {
   "cell_type": "code",
   "execution_count": 30,
   "metadata": {
    "scrolled": true
   },
   "outputs": [
    {
     "data": {},
     "execution_count": 30,
     "metadata": {},
     "output_type": "execute_result"
    }
   ],
   "source": [
    "data = data.apply(power, axis=1)\n",
    "data.head()"
   ]
  },
  {
   "cell_type": "markdown",
   "metadata": {},
   "source": [
    "В столбце `power` произведем возможную замену пропусков по бренду и модели автомобиля."
   ]
  },
  {
   "cell_type": "code",
   "execution_count": 31,
   "metadata": {},
   "outputs": [
    {
     "data": {},
     "execution_count": 31,
     "metadata": {},
     "output_type": "execute_result"
    }
   ],
   "source": [
    "data[\"power\"] = data[\"power\"].fillna(data.groupby(['brand', 'model'])[\"power\"].transform('mean'))\n",
    "data[\"power\"].isna().sum()"
   ]
  },
  {
   "cell_type": "markdown",
   "metadata": {},
   "source": [
    "В столбце `fuel_type` произведем возможную замену пропусков по бренду и модели автомобиля."
   ]
  },
  {
   "cell_type": "code",
   "execution_count": 32,
   "metadata": {},
   "outputs": [
    {
     "data": {},
     "execution_count": 32,
     "metadata": {},
     "output_type": "execute_result"
    }
   ],
   "source": [
    "data[\"fuel_type\"] = data[\"fuel_type\"].fillna(data.groupby(['brand', 'model'])[\"fuel_type\"].transform('first'))\n",
    "data[\"fuel_type\"].isna().sum()"
   ]
  },
  {
   "cell_type": "markdown",
   "metadata": {},
   "source": [
    "В столбце `not_repaired` произведем возможную замену пропусков на 0, т.к. скорее всего пропуски говорят о том, что авто не находилось в ремонте."
   ]
  },
  {
   "cell_type": "code",
   "execution_count": 33,
   "metadata": {},
   "outputs": [
    {
     "data": {},
     "execution_count": 33,
     "metadata": {},
     "output_type": "execute_result"
    }
   ],
   "source": [
    "data[\"not_repaired\"] = data[\"not_repaired\"].fillna(0)\n",
    "data[\"not_repaired\"].isna().sum()"
   ]
  },
  {
   "cell_type": "markdown",
   "metadata": {},
   "source": [
    "Для авто находившихся в ремонте установим значение 1, для остальных 0."
   ]
  },
  {
   "cell_type": "code",
   "execution_count": 34,
   "metadata": {},
   "outputs": [],
   "source": [
    "data[\"not_repaired\"].replace('no', 0, inplace=True)\n",
    "data[\"not_repaired\"].replace('yes', 1, inplace=True)"
   ]
  },
  {
   "cell_type": "markdown",
   "metadata": {},
   "source": [
    "Удаление дубликатов"
   ]
  },
  {
   "cell_type": "code",
   "execution_count": 35,
   "metadata": {},
   "outputs": [],
   "source": [
    "data = data.dropna()\n",
    "data = data.drop_duplicates()\n",
    "data.info()"
   ]
  },
  {
   "cell_type": "markdown",
   "metadata": {},
   "source": [
    "Для обучения моделей не понадобятся столбцы `date_crawled` , `date_created`, `last_seen` ."
   ]
  },
  {
   "cell_type": "code",
   "execution_count": 36,
   "metadata": {},
   "outputs": [
    {
     "data": {},
     "execution_count": 36,
     "metadata": {},
     "output_type": "execute_result"
    }
   ],
   "source": [
    "data = data.drop(columns=['date_crawled', 'date_created', 'last_seen'])\n",
    "data.head()"
   ]
  },
  {
   "cell_type": "markdown",
   "metadata": {},
   "source": [
    "Отбросим ненужные 0 после  запятой, заменим тип данных float на int в столбцах `price`, `gearbox`, `power`."
   ]
  },
  {
   "cell_type": "code",
   "execution_count": 37,
   "metadata": {},
   "outputs": [],
   "source": [
    "data = data.astype({\"price\": \"int64\"})\n",
    "data = data.astype({\"gearbox\": \"int64\"})\n",
    "data = data.astype({\"power\": \"int64\"})\n",
    "data.info()"
   ]
  },
  {
   "cell_type": "code",
   "execution_count": 39,
   "metadata": {},
   "outputs": [
    {
     "data": {},
     "execution_count": 39,
     "metadata": {},
     "output_type": "execute_result"
    }
   ],
   "source": [
    "data = data.drop(columns=['registration_month'])\n",
    "data.head()"
   ]
  },
  {
   "cell_type": "markdown",
   "metadata": {},
   "source": [
    "### Вывод\n",
    "<br>\n",
    " \n",
    "Данные подготовлены, предобработка завершена."
   ]
  },
  {
   "cell_type": "markdown",
   "metadata": {},
   "source": [
    "## Обучение моделей"
   ]
  },
  {
   "cell_type": "markdown",
   "metadata": {},
   "source": [
    "Изучим 4 модели:\n",
    "- Линейную регрессию\n",
    "- Ridge\n",
    "- И модели градиентного бустинга : CatBoost, LightGBM"
   ]
  },
  {
   "cell_type": "markdown",
   "metadata": {},
   "source": [
    "**Создание выборок**"
   ]
  },
  {
   "cell_type": "markdown",
   "metadata": {},
   "source": [
    "Замена типа данных на `category`."
   ]
  },
  {
   "cell_type": "code",
   "execution_count": 40,
   "metadata": {},
   "outputs": [],
   "source": [
    "data_c = data.astype({\"vehicle_type\": \"category\"})\n",
    "data_c = data_c.astype({\"model\": \"category\"})\n",
    "data_c = data_c.astype({\"fuel_type\": \"category\"})\n",
    "data_c = data_c.astype({\"brand\": \"category\"})\n",
    "data_c.info()"
   ]
  },
  {
   "cell_type": "markdown",
   "metadata": {},
   "source": [
    "Отделение целевого признака."
   ]
  },
  {
   "cell_type": "code",
   "execution_count": 41,
   "metadata": {},
   "outputs": [],
   "source": [
    "target_с = data_c['price']"
   ]
  },
  {
   "cell_type": "code",
   "execution_count": 42,
   "metadata": {},
   "outputs": [],
   "source": [
    "features_с = data_c.drop('price', axis=1)"
   ]
  },
  {
   "cell_type": "markdown",
   "metadata": {},
   "source": [
    "Создание тестовой и обучающей выборки"
   ]
  },
  {
   "cell_type": "code",
   "execution_count": 43,
   "metadata": {},
   "outputs": [],
   "source": [
    "features_с_train, features_с_test, target_с_train, target_с_test = train_test_split(\n",
    "    features_с, target_с, test_size=0.25, random_state=12345)\n",
    "\n",
    "\n",
    "print('Размер обучающей выборки', features_с_train.shape[0])\n",
    "print('Размер тестовой выборки', target_с_test.shape[0])"
   ]
  },
  {
   "cell_type": "markdown",
   "metadata": {},
   "source": [
    "Для некотегориальных моделей применим метод прямого OHE кодирования."
   ]
  },
  {
   "cell_type": "code",
   "execution_count": 44,
   "metadata": {},
   "outputs": [
    {
     "data": {},
     "metadata": {},
     "output_type": "display_data"
    }
   ],
   "source": [
    "target = data_c['price']\n",
    "features = data_c.drop('price', axis=1)\n",
    "\n",
    "data_ohe = pd.get_dummies(features, drop_first=True)\n",
    "display(data_ohe.info())\n"
   ]
  },
  {
   "cell_type": "markdown",
   "metadata": {},
   "source": [
    "Создание тестовой и обучающей выборки"
   ]
  },
  {
   "cell_type": "code",
   "execution_count": 45,
   "metadata": {},
   "outputs": [],
   "source": [
    "features_train, features_test, target_train, target_test = train_test_split(\n",
    "    data_ohe,target, test_size=0.25, random_state=12345)\n",
    "\n",
    "print('Размер обучающей выборки', features_train.shape[0])\n",
    "print('Размер тестовой выборки', target_test.shape[0])"
   ]
  },
  {
   "cell_type": "markdown",
   "metadata": {},
   "source": [
    "### Линейная регрессия"
   ]
  },
  {
   "cell_type": "code",
   "execution_count": 59,
   "metadata": {},
   "outputs": [],
   "source": [
    "%%time\n",
    "\n",
    "model_LR = LinearRegression()\n",
    "scaller = StandardScaler()\n",
    "pipeline = Pipeline([(\"standard_scaller\", scaller),(\"linear_regression\", model_LR)])\n",
    "result_LR = (cross_val_score(pipeline,\n",
    "                                features_train, \n",
    "                                target_train,\n",
    "                                cv=5, \n",
    "                                scoring='neg_mean_squared_error').mean() * -1) ** 0.5\n",
    "print('RMSE =', result_LR)"
   ]
  },
  {
   "cell_type": "markdown",
   "metadata": {},
   "source": [
    "### Ridge"
   ]
  },
  {
   "cell_type": "code",
   "execution_count": 153,
   "metadata": {},
   "outputs": [],
   "source": [
    "%%time\n",
    "\n",
    "model_r = Ridge()\n",
    "params = [{'solver':['auto', 'svd', 'cholesky', 'lsqr','sparse_cg']}]\n",
    "\n",
    "result = GridSearchCV(model_r, params, scoring='neg_mean_squared_error', cv=5)\n",
    "result.fit(features_train, target_train)\n",
    "print(\"Best parametrs:\", clf.best_params_)\n",
    "print()\n",
    "means = result.cv_results_['mean_test_score']\n",
    "stds = result.cv_results_['std_test_score']\n",
    "for mean, std, params in zip(means, stds, result.cv_results_['params']):\n",
    "    print(\"%0.6f for %r\"% ((mean*-1)** 0.5, params))\n",
    "print()\n"
   ]
  },
  {
   "cell_type": "code",
   "execution_count": 154,
   "metadata": {},
   "outputs": [
    {
     "data": {},
     "execution_count": 154,
     "metadata": {},
     "output_type": "execute_result"
    }
   ],
   "source": [
    "result_R = (max(means)*-1) ** 0.5\n",
    "result_R"
   ]
  },
  {
   "cell_type": "markdown",
   "metadata": {},
   "source": [
    "### CatBoostRegressor"
   ]
  },
  {
   "cell_type": "markdown",
   "metadata": {},
   "source": [
    "Обучим модель двумя способами.\n",
    "<br>\n",
    "1. На данных, закодированных по методу One-hot-encoding.\n",
    "2. На оригинальных данных с указанием категорий."
   ]
  },
  {
   "cell_type": "markdown",
   "metadata": {},
   "source": [
    "Обучение модели на дданых которые были закодированы методом One-hot-encoding."
   ]
  },
  {
   "cell_type": "code",
   "execution_count": 156,
   "metadata": {},
   "outputs": [],
   "source": [
    "%%time\n",
    "\n",
    "model = CatBoostRegressor() \n",
    "hyperparams = [{'learning_rate':[0.1, 0.3, 0.5, 0.8],\n",
    "                'random_state':[12345],\n",
    "                'verbose':[False]}]\n",
    "\n",
    "result = GridSearchCV(model, hyperparams, scoring='neg_mean_squared_error')\n",
    "result.fit(features_train, target_train)\n",
    "print(\"Best parameters set:\", result.best_params_)\n",
    "print(\"Parametrs:\")\n",
    "print()\n",
    "means = result.cv_results_['mean_test_score']\n",
    "stds = result.cv_results_['std_test_score']\n",
    "for mean, std, params in zip(means, stds, result.cv_results_['params']):\n",
    "    print(\"%0.6f for %r\"% ((mean*-1)** 0.5, params))\n",
    "print()\n"
   ]
  },
  {
   "cell_type": "markdown",
   "metadata": {},
   "source": [
    "Обучение модели на первостепенных данных и с указанием категорий."
   ]
  },
  {
   "cell_type": "code",
   "execution_count": 160,
   "metadata": {},
   "outputs": [],
   "source": [
    "%%time\n",
    "\n",
    "model = CatBoostRegressor(learning_rate=0.3,\n",
    "                              iterations = 200,\n",
    "                              random_state=12345, \n",
    "                              verbose=False, \n",
    "                              cat_features=['vehicle_type','fuel_type','brand','model']) \n",
    "result = (cross_val_score(model,\n",
    "                                features_с_train, \n",
    "                                target_с_train, \n",
    "                                cv=5, \n",
    "                                scoring='neg_mean_squared_error').mean() * -1) ** 0.5\n",
    "print('RMSE ', result)"
   ]
  },
  {
   "cell_type": "code",
   "execution_count": 161,
   "metadata": {},
   "outputs": [
    {
     "data": {},
     "execution_count": 161,
     "metadata": {},
     "output_type": "execute_result"
    }
   ],
   "source": [
    "result_CBR_2 = (max(means)*-1) ** 0.5\n",
    "result_CBR_2"
   ]
  },
  {
   "cell_type": "markdown",
   "metadata": {},
   "source": [
    "### LGBMRegressor"
   ]
  },
  {
   "cell_type": "code",
   "execution_count": 162,
   "metadata": {},
   "outputs": [],
   "source": [
    "%%time\n",
    "\n",
    "model = LGBMRegressor(categorical_feature=['vehicle_type','fuel_type','brand','model']) \n",
    "params = [{'num_leaves':[20, 100 ,200 ,300], \n",
    "                'learning_rate':[0.1, 0.3, 0.5, 0.8],\n",
    "                'random_state':[12345]}]\n",
    "\n",
    "result = GridSearchCV(model, params, scoring='neg_mean_squared_error')\n",
    "result.fit(features_с_train, target_с_train)\n",
    "print('Best parameters :' , \"%0.6f for %r\"% ((mean*-1)** 0.5, result.best_params_))"
   ]
  },
  {
   "cell_type": "code",
   "execution_count": 163,
   "metadata": {},
   "outputs": [
    {
     "data": {},
     "execution_count": 163,
     "metadata": {},
     "output_type": "execute_result"
    }
   ],
   "source": [
    "result_LGBMR = (max(means)*-1) ** 0.5\n",
    "result_LGBMR"
   ]
  },
  {
   "cell_type": "markdown",
   "metadata": {},
   "source": [
    "### Вывод\n",
    "<br>\n",
    "Были изучены 4 модели : Линейная регрессия, Регрессия Ridge, CatBoostRegressor, LGBMRegressor. Для каждой модели выбраны лучшие гиперпараметры и время их выполнения."
   ]
  },
  {
   "cell_type": "markdown",
   "metadata": {},
   "source": [
    "## Анализ моделей"
   ]
  },
  {
   "cell_type": "markdown",
   "metadata": {},
   "source": [
    "Обучение модели с лучшими подобранными гиперапарметрами."
   ]
  },
  {
   "cell_type": "markdown",
   "metadata": {},
   "source": [
    "### Линейная регрессия"
   ]
  },
  {
   "cell_type": "code",
   "execution_count": 61,
   "metadata": {},
   "outputs": [
    {
     "name": "stdout",
     "output_type": "stream",
     "text": [
      "CPU times: user 18.4 s, sys: 9.16 s, total: 27.5 s\n",
      "Wall time: 27.5 s\n"
     ]
    },
    {
     "data": {
      "text/plain": [
       "LinearRegression()"
      ]
     },
     "execution_count": 61,
     "metadata": {},
     "output_type": "execute_result"
    }
   ],
   "source": [
    "%%time\n",
    "\n",
    "model = LinearRegression()\n",
    "model.fit(features_train, target_train)"
   ]
  },
  {
   "cell_type": "code",
   "execution_count": 47,
   "metadata": {},
   "outputs": [
    {
     "data": {},
     "execution_count": 47,
     "metadata": {},
     "output_type": "execute_result"
    }
   ],
   "source": [
    "%%time\n",
    "target_predict = model.predict(features_test)\n",
    "final_RMSE_LR = mean_squared_error(target_test, target_predict) ** 0.5\n",
    "final_RMSE_LR"
   ]
  },
  {
   "cell_type": "markdown",
   "metadata": {},
   "source": [
    "### Ridge"
   ]
  },
  {
   "cell_type": "code",
   "execution_count": 48,
   "metadata": {},
   "outputs": [
    {
     "data": {},
     "execution_count": 48,
     "metadata": {},
     "output_type": "execute_result"
    }
   ],
   "source": [
    "%%time\n",
    "\n",
    "model = Ridge(solver='svd')\n",
    "model.fit(features_train, target_train)"
   ]
  },
  {
   "cell_type": "code",
   "execution_count": 49,
   "metadata": {},
   "outputs": [
    {
     "data": {},
     "execution_count": 49,
     "metadata": {},
     "output_type": "execute_result"
    }
   ],
   "source": [
    "%%time\n",
    "target_predict = model.predict(features_test)\n",
    "final_RMSE_R = mean_squared_error(target_test, target_predict) ** 0.5\n",
    "final_RMSE_R"
   ]
  },
  {
   "cell_type": "markdown",
   "metadata": {},
   "source": [
    "### CatBoostRegressor"
   ]
  },
  {
   "cell_type": "code",
   "execution_count": 50,
   "metadata": {},
   "outputs": [
    {
     "data": {},
     "execution_count": 50,
     "metadata": {},
     "output_type": "execute_result"
    }
   ],
   "source": [
    "%%time\n",
    "\n",
    "model = CatBoostRegressor(learning_rate=0.3, \n",
    "                          random_state=12345, \n",
    "                          verbose=False) \n",
    "model.fit(features_train, target_train)\n",
    "\n"
   ]
  },
  {
   "cell_type": "code",
   "execution_count": 51,
   "metadata": {},
   "outputs": [
    {
     "data": {},
     "execution_count": 51,
     "metadata": {},
     "output_type": "execute_result"
    }
   ],
   "source": [
    "%%time\n",
    "\n",
    "target_predict = model.predict(features_test)\n",
    "final_RMSE_CBR_ordinal = mean_squared_error(target_test, target_predict) ** 0.5\n",
    "final_RMSE_CBR_ordinal"
   ]
  },
  {
   "cell_type": "code",
   "execution_count": 52,
   "metadata": {},
   "outputs": [
    {
     "data": {},
     "execution_count": 52,
     "metadata": {},
     "output_type": "execute_result"
    }
   ],
   "source": [
    "%%time\n",
    "\n",
    "model = CatBoostRegressor(learning_rate=0.3, \n",
    "                          iterations = 200, \n",
    "                          random_state=12345, \n",
    "                          verbose=False,\n",
    "                          cat_features=['vehicle_type','fuel_type','brand','model']) \n",
    "model.fit(features_с_train, target_с_train)\n"
   ]
  },
  {
   "cell_type": "code",
   "execution_count": 53,
   "metadata": {},
   "outputs": [
    {
     "data": {},
     "execution_count": 53,
     "metadata": {},
     "output_type": "execute_result"
    }
   ],
   "source": [
    "%%time\n",
    "\n",
    "target_predict = model.predict(features_с_test)\n",
    "final_RMSE_CBR_original = mean_squared_error(target_с_test, target_predict) ** 0.5\n",
    "final_RMSE_CBR_original"
   ]
  },
  {
   "cell_type": "markdown",
   "metadata": {},
   "source": [
    "### LGBMRegressor"
   ]
  },
  {
   "cell_type": "code",
   "execution_count": 54,
   "metadata": {},
   "outputs": [
    {
     "data": {},
     "execution_count": 54,
     "metadata": {},
     "output_type": "execute_result"
    }
   ],
   "source": [
    "%%time\n",
    "\n",
    "model = LGBMRegressor(learning_rate=0.1, \n",
    "                      num_leaves=300, \n",
    "                      random_state=12345)\n",
    "model.fit(features_с_train, target_с_train)"
   ]
  },
  {
   "cell_type": "code",
   "execution_count": 55,
   "metadata": {},
   "outputs": [
    {
     "data": {},
     "execution_count": 55,
     "metadata": {},
     "output_type": "execute_result"
    }
   ],
   "source": [
    "%%time\n",
    "\n",
    "target_predict = model.predict(features_с_test)\n",
    "final_RMSE_LGBMR = mean_squared_error(target_с_test, target_predict) ** 0.5\n",
    "final_RMSE_LGBMR\n"
   ]
  },
  {
   "cell_type": "markdown",
   "metadata": {},
   "source": [
    "### Сравнение моделей"
   ]
  },
  {
   "cell_type": "code",
   "execution_count": 56,
   "metadata": {
    "scrolled": true
   },
   "outputs": [
    {
     "data": {},
     "metadata": {},
     "output_type": "display_data"
    }
   ],
   "source": [
    "final_table= {'Model': ['LinearRegression', 'Ridge', 'CatBoostRegressor One-hot-encoding', 'CatBoostRegressor', 'LGBMRegressor'],\n",
    "              'RMSE': [2845.076, 2844.835, 1606.264, 1678.364, 1566.876],\n",
    "             'Training time, second': [10.7, 11.6, 39.3, 41 , 3.9],\n",
    "             'Prediction time, ms' : [316, 293, 237, 157, 813 ,]} \n",
    " \n",
    "final_table_data = pd.DataFrame(final_table) \n",
    "  \n",
    "display(final_table_data.sort_values(by='RMSE',ascending=True)) "
   ]
  },
  {
   "cell_type": "markdown",
   "metadata": {},
   "source": [
    "### Вывод\n",
    "<br>\n",
    "\n",
    "Произведен анализ на тестовой выборке , лучшая модель  LGBMRegressor c временем обучения 3.9 сек и временем предсказания 813 мс , у которой RMSE=1566.876, худшая LinearRegression  с показателем RMSE=2845.076, однако  не самым меделенным временем обучения 10,7 сек. Дольше всего обучалась модель CatBoostRegressor 41 с.\n"
   ]
  },
  {
   "cell_type": "markdown",
   "metadata": {},
   "source": [
    "# Итоговый вывод\n",
    "<br>\n",
    "\n",
    "В ходе работы было выполнено следующее:\n",
    "\n",
    "- Были загружены данные, произведена предобработка данных.\n",
    "- Было обучено 4 модели Линейная регрессия, Ridge, CatBoostRegressor и LGBMRegressor.\n",
    "- С точки зрения точности предсказания лидером явл-ся LGBMRegressor. Следом за ним идет CatBoostRegressor One-hot-encoding, затем CatBoostRegressor, Ridge, LinearRegression.\n",
    "- С точки времени обучения лидрует LGBMRegressor 3,9 сек . Дольше всего CatBoostRegressor 41 сек.\n",
    "- Оптимальной считаю модель LGBMRegressor."
   ]
  }
 ],
 "metadata": {
  "ExecuteTimeLog": [
   {
    "duration": 1159,
    "start_time": "2022-05-23T18:35:49.064Z"
   },
   {
    "duration": 3,
    "start_time": "2022-05-23T19:12:23.625Z"
   },
   {
    "duration": 1205,
    "start_time": "2022-05-24T17:04:31.737Z"
   },
   {
    "duration": 56,
    "start_time": "2022-05-25T17:06:42.719Z"
   },
   {
    "duration": 857,
    "start_time": "2022-05-25T17:06:45.619Z"
   },
   {
    "duration": 2807,
    "start_time": "2022-05-25T17:06:48.350Z"
   },
   {
    "duration": 985,
    "start_time": "2022-05-25T17:07:05.178Z"
   },
   {
    "duration": 3,
    "start_time": "2022-05-25T18:12:26.878Z"
   },
   {
    "duration": 3525,
    "start_time": "2022-05-25T18:12:40.489Z"
   },
   {
    "duration": 60,
    "start_time": "2022-05-25T19:14:43.203Z"
   },
   {
    "duration": 21,
    "start_time": "2022-05-25T19:19:13.793Z"
   },
   {
    "duration": 15,
    "start_time": "2022-05-25T19:19:30.890Z"
   },
   {
    "duration": 11,
    "start_time": "2022-05-25T19:19:38.179Z"
   },
   {
    "duration": 12,
    "start_time": "2022-05-25T19:19:44.462Z"
   },
   {
    "duration": 23,
    "start_time": "2022-05-25T19:23:26.093Z"
   },
   {
    "duration": 12,
    "start_time": "2022-05-25T19:23:33.210Z"
   },
   {
    "duration": 12,
    "start_time": "2022-05-25T19:23:44.413Z"
   },
   {
    "duration": 13,
    "start_time": "2022-05-25T19:24:01.447Z"
   },
   {
    "duration": 16,
    "start_time": "2022-05-25T19:24:15.246Z"
   },
   {
    "duration": 724,
    "start_time": "2022-05-25T19:24:24.869Z"
   },
   {
    "duration": 960,
    "start_time": "2022-05-25T19:24:25.595Z"
   },
   {
    "duration": 4,
    "start_time": "2022-05-25T19:24:26.557Z"
   },
   {
    "duration": 3784,
    "start_time": "2022-05-25T19:24:26.562Z"
   },
   {
    "duration": 74,
    "start_time": "2022-05-25T19:24:30.348Z"
   },
   {
    "duration": 12,
    "start_time": "2022-05-25T19:24:30.424Z"
   },
   {
    "duration": 22,
    "start_time": "2022-05-25T19:24:30.438Z"
   },
   {
    "duration": 544,
    "start_time": "2022-05-25T19:28:05.663Z"
   },
   {
    "duration": 14,
    "start_time": "2022-05-25T19:28:24.207Z"
   },
   {
    "duration": 135,
    "start_time": "2022-05-25T19:28:41.367Z"
   },
   {
    "duration": 12,
    "start_time": "2022-05-25T19:34:02.871Z"
   },
   {
    "duration": 113,
    "start_time": "2022-05-25T19:34:37.584Z"
   },
   {
    "duration": 125,
    "start_time": "2022-05-25T19:34:42.815Z"
   },
   {
    "duration": 23,
    "start_time": "2022-05-25T19:36:14.522Z"
   },
   {
    "duration": 189,
    "start_time": "2022-05-25T19:38:54.608Z"
   },
   {
    "duration": 94,
    "start_time": "2022-05-25T19:39:02.005Z"
   },
   {
    "duration": 585,
    "start_time": "2022-05-25T19:41:36.624Z"
   },
   {
    "duration": 716,
    "start_time": "2022-05-25T19:41:48.635Z"
   },
   {
    "duration": 1109,
    "start_time": "2022-05-25T19:41:49.353Z"
   },
   {
    "duration": 3,
    "start_time": "2022-05-25T19:41:50.464Z"
   },
   {
    "duration": 4029,
    "start_time": "2022-05-25T19:41:50.469Z"
   },
   {
    "duration": 197,
    "start_time": "2022-05-25T19:41:54.500Z"
   },
   {
    "duration": 66,
    "start_time": "2022-05-25T19:41:54.698Z"
   },
   {
    "duration": 30,
    "start_time": "2022-05-25T19:41:54.766Z"
   },
   {
    "duration": 16,
    "start_time": "2022-05-25T19:41:54.798Z"
   },
   {
    "duration": 294,
    "start_time": "2022-05-25T19:41:54.816Z"
   },
   {
    "duration": 96,
    "start_time": "2022-05-25T19:41:55.112Z"
   },
   {
    "duration": 108,
    "start_time": "2022-05-25T19:42:29.980Z"
   },
   {
    "duration": 291,
    "start_time": "2022-05-25T19:42:34.536Z"
   },
   {
    "duration": 1496,
    "start_time": "2022-05-25T19:42:41.433Z"
   },
   {
    "duration": 404,
    "start_time": "2022-05-25T19:42:49.561Z"
   },
   {
    "duration": 438,
    "start_time": "2022-05-25T19:42:55.227Z"
   },
   {
    "duration": 21,
    "start_time": "2022-05-25T19:43:13.016Z"
   },
   {
    "duration": 44,
    "start_time": "2022-05-25T19:45:11.851Z"
   },
   {
    "duration": 350,
    "start_time": "2022-05-25T19:45:19.195Z"
   },
   {
    "duration": 432,
    "start_time": "2022-05-25T19:46:15.061Z"
   },
   {
    "duration": 35,
    "start_time": "2022-05-25T19:46:26.244Z"
   },
   {
    "duration": 465,
    "start_time": "2022-05-25T19:46:34.043Z"
   },
   {
    "duration": 504,
    "start_time": "2022-05-25T19:46:46.557Z"
   },
   {
    "duration": 265,
    "start_time": "2022-05-25T19:47:03.822Z"
   },
   {
    "duration": 10,
    "start_time": "2022-05-25T19:47:06.830Z"
   },
   {
    "duration": 10,
    "start_time": "2022-05-25T19:47:33.565Z"
   },
   {
    "duration": 9,
    "start_time": "2022-05-25T19:47:39.422Z"
   },
   {
    "duration": 9,
    "start_time": "2022-05-25T19:47:42.454Z"
   },
   {
    "duration": 10,
    "start_time": "2022-05-25T19:47:45.038Z"
   },
   {
    "duration": 10,
    "start_time": "2022-05-25T19:47:47.757Z"
   },
   {
    "duration": 10,
    "start_time": "2022-05-25T19:47:54.587Z"
   },
   {
    "duration": 299,
    "start_time": "2022-05-25T19:49:42.064Z"
   },
   {
    "duration": 249,
    "start_time": "2022-05-25T19:49:53.561Z"
   },
   {
    "duration": 765,
    "start_time": "2022-05-26T16:46:39.420Z"
   },
   {
    "duration": 2831,
    "start_time": "2022-05-26T16:46:40.186Z"
   },
   {
    "duration": 4,
    "start_time": "2022-05-26T16:46:43.018Z"
   },
   {
    "duration": 3246,
    "start_time": "2022-05-26T16:46:43.024Z"
   },
   {
    "duration": 59,
    "start_time": "2022-05-26T16:46:46.271Z"
   },
   {
    "duration": 13,
    "start_time": "2022-05-26T16:46:46.331Z"
   },
   {
    "duration": 15,
    "start_time": "2022-05-26T16:46:46.345Z"
   },
   {
    "duration": 242,
    "start_time": "2022-05-26T16:46:46.375Z"
   },
   {
    "duration": 94,
    "start_time": "2022-05-26T16:46:46.619Z"
   },
   {
    "duration": 242,
    "start_time": "2022-05-26T16:46:46.715Z"
   },
   {
    "duration": 2,
    "start_time": "2022-05-26T17:37:36.215Z"
   },
   {
    "duration": 3169,
    "start_time": "2022-05-26T17:40:21.398Z"
   },
   {
    "duration": 660,
    "start_time": "2022-05-26T17:40:58.658Z"
   },
   {
    "duration": 855,
    "start_time": "2022-05-26T17:40:59.320Z"
   },
   {
    "duration": 3,
    "start_time": "2022-05-26T17:41:00.176Z"
   },
   {
    "duration": 3393,
    "start_time": "2022-05-26T17:41:00.181Z"
   },
   {
    "duration": 56,
    "start_time": "2022-05-26T17:41:03.576Z"
   },
   {
    "duration": 10,
    "start_time": "2022-05-26T17:41:03.634Z"
   },
   {
    "duration": 32,
    "start_time": "2022-05-26T17:41:03.646Z"
   },
   {
    "duration": 270,
    "start_time": "2022-05-26T17:41:03.679Z"
   },
   {
    "duration": 83,
    "start_time": "2022-05-26T17:41:03.950Z"
   },
   {
    "duration": 233,
    "start_time": "2022-05-26T17:41:04.035Z"
   },
   {
    "duration": 5,
    "start_time": "2022-05-26T17:41:04.270Z"
   },
   {
    "duration": 3090,
    "start_time": "2022-05-26T17:41:04.277Z"
   },
   {
    "duration": 583,
    "start_time": "2022-05-26T17:41:25.327Z"
   },
   {
    "duration": 873,
    "start_time": "2022-05-26T17:41:25.912Z"
   },
   {
    "duration": 4,
    "start_time": "2022-05-26T17:41:26.786Z"
   },
   {
    "duration": 3117,
    "start_time": "2022-05-26T17:41:26.792Z"
   },
   {
    "duration": 57,
    "start_time": "2022-05-26T17:41:29.910Z"
   },
   {
    "duration": 10,
    "start_time": "2022-05-26T17:41:29.975Z"
   },
   {
    "duration": 14,
    "start_time": "2022-05-26T17:41:29.987Z"
   },
   {
    "duration": 253,
    "start_time": "2022-05-26T17:41:30.003Z"
   },
   {
    "duration": 89,
    "start_time": "2022-05-26T17:41:30.257Z"
   },
   {
    "duration": 254,
    "start_time": "2022-05-26T17:41:30.348Z"
   },
   {
    "duration": 3,
    "start_time": "2022-05-26T17:41:30.604Z"
   },
   {
    "duration": 3104,
    "start_time": "2022-05-26T17:41:30.608Z"
   },
   {
    "duration": 3,
    "start_time": "2022-05-26T18:46:01.773Z"
   },
   {
    "duration": 19029,
    "start_time": "2022-05-26T18:46:03.440Z"
   },
   {
    "duration": 218,
    "start_time": "2022-05-26T18:46:46.778Z"
   },
   {
    "duration": 251,
    "start_time": "2022-05-26T18:46:53.767Z"
   },
   {
    "duration": 682,
    "start_time": "2022-05-26T18:47:10.322Z"
   },
   {
    "duration": 888,
    "start_time": "2022-05-26T18:47:11.006Z"
   },
   {
    "duration": 4,
    "start_time": "2022-05-26T18:47:11.895Z"
   },
   {
    "duration": 3943,
    "start_time": "2022-05-26T18:47:11.901Z"
   },
   {
    "duration": 60,
    "start_time": "2022-05-26T18:47:15.845Z"
   },
   {
    "duration": 23,
    "start_time": "2022-05-26T18:47:15.907Z"
   },
   {
    "duration": 15,
    "start_time": "2022-05-26T18:47:15.933Z"
   },
   {
    "duration": 256,
    "start_time": "2022-05-26T18:47:15.950Z"
   },
   {
    "duration": 93,
    "start_time": "2022-05-26T18:47:16.208Z"
   },
   {
    "duration": 256,
    "start_time": "2022-05-26T18:47:16.303Z"
   },
   {
    "duration": 3,
    "start_time": "2022-05-26T18:47:16.561Z"
   },
   {
    "duration": 19743,
    "start_time": "2022-05-26T18:47:16.565Z"
   },
   {
    "duration": 91,
    "start_time": "2022-05-26T18:47:36.310Z"
   },
   {
    "duration": 709,
    "start_time": "2022-05-26T18:49:07.435Z"
   },
   {
    "duration": 938,
    "start_time": "2022-05-26T18:49:08.146Z"
   },
   {
    "duration": 3,
    "start_time": "2022-05-26T18:49:09.086Z"
   },
   {
    "duration": 3604,
    "start_time": "2022-05-26T18:49:09.092Z"
   },
   {
    "duration": 63,
    "start_time": "2022-05-26T18:49:12.698Z"
   },
   {
    "duration": 21,
    "start_time": "2022-05-26T18:49:12.776Z"
   },
   {
    "duration": 38,
    "start_time": "2022-05-26T18:49:12.801Z"
   },
   {
    "duration": 389,
    "start_time": "2022-05-26T18:49:12.841Z"
   },
   {
    "duration": 84,
    "start_time": "2022-05-26T18:49:13.231Z"
   },
   {
    "duration": 295,
    "start_time": "2022-05-26T18:49:13.317Z"
   },
   {
    "duration": 3,
    "start_time": "2022-05-26T18:49:13.614Z"
   },
   {
    "duration": 691,
    "start_time": "2022-05-26T18:49:34.165Z"
   },
   {
    "duration": 884,
    "start_time": "2022-05-26T18:49:34.858Z"
   },
   {
    "duration": 4,
    "start_time": "2022-05-26T18:49:35.743Z"
   },
   {
    "duration": 3609,
    "start_time": "2022-05-26T18:49:35.748Z"
   },
   {
    "duration": 60,
    "start_time": "2022-05-26T18:49:39.359Z"
   },
   {
    "duration": 12,
    "start_time": "2022-05-26T18:49:39.421Z"
   },
   {
    "duration": 14,
    "start_time": "2022-05-26T18:49:39.435Z"
   },
   {
    "duration": 279,
    "start_time": "2022-05-26T18:49:39.474Z"
   },
   {
    "duration": 86,
    "start_time": "2022-05-26T18:49:39.754Z"
   },
   {
    "duration": 312,
    "start_time": "2022-05-26T18:49:39.842Z"
   },
   {
    "duration": 4,
    "start_time": "2022-05-26T18:49:40.155Z"
   },
   {
    "duration": 20865,
    "start_time": "2022-05-26T18:49:40.160Z"
   },
   {
    "duration": 85,
    "start_time": "2022-05-26T18:50:01.027Z"
   },
   {
    "duration": 10,
    "start_time": "2022-05-26T18:57:44.862Z"
   },
   {
    "duration": 8,
    "start_time": "2022-05-26T18:57:48.345Z"
   },
   {
    "duration": 63,
    "start_time": "2022-05-26T18:57:53.969Z"
   },
   {
    "duration": 3,
    "start_time": "2022-05-26T18:58:25.788Z"
   },
   {
    "duration": 73,
    "start_time": "2022-05-26T18:58:27.531Z"
   },
   {
    "duration": 20342,
    "start_time": "2022-05-26T18:58:29.644Z"
   },
   {
    "duration": 61,
    "start_time": "2022-05-26T18:58:49.989Z"
   },
   {
    "duration": 725,
    "start_time": "2022-05-26T18:58:51.652Z"
   },
   {
    "duration": 1023,
    "start_time": "2022-05-26T18:58:52.379Z"
   },
   {
    "duration": 4,
    "start_time": "2022-05-26T18:58:53.403Z"
   },
   {
    "duration": 3720,
    "start_time": "2022-05-26T18:58:53.408Z"
   },
   {
    "duration": 87,
    "start_time": "2022-05-26T18:58:57.130Z"
   },
   {
    "duration": 15,
    "start_time": "2022-05-26T18:58:57.218Z"
   },
   {
    "duration": 18,
    "start_time": "2022-05-26T18:58:57.234Z"
   },
   {
    "duration": 264,
    "start_time": "2022-05-26T18:58:57.253Z"
   },
   {
    "duration": 143,
    "start_time": "2022-05-26T18:58:57.518Z"
   },
   {
    "duration": 267,
    "start_time": "2022-05-26T18:58:57.676Z"
   },
   {
    "duration": 3,
    "start_time": "2022-05-26T18:58:57.945Z"
   },
   {
    "duration": 21023,
    "start_time": "2022-05-26T18:58:57.949Z"
   },
   {
    "duration": 64,
    "start_time": "2022-05-26T18:59:18.974Z"
   },
   {
    "duration": 662,
    "start_time": "2022-05-26T19:00:16.614Z"
   },
   {
    "duration": 977,
    "start_time": "2022-05-26T19:00:17.280Z"
   },
   {
    "duration": 4,
    "start_time": "2022-05-26T19:00:18.258Z"
   },
   {
    "duration": 3925,
    "start_time": "2022-05-26T19:00:18.263Z"
   },
   {
    "duration": 73,
    "start_time": "2022-05-26T19:00:22.194Z"
   },
   {
    "duration": 26,
    "start_time": "2022-05-26T19:00:22.271Z"
   },
   {
    "duration": 23,
    "start_time": "2022-05-26T19:00:22.299Z"
   },
   {
    "duration": 315,
    "start_time": "2022-05-26T19:00:22.324Z"
   },
   {
    "duration": 115,
    "start_time": "2022-05-26T19:00:22.641Z"
   },
   {
    "duration": 340,
    "start_time": "2022-05-26T19:00:22.759Z"
   },
   {
    "duration": 3,
    "start_time": "2022-05-26T19:00:23.103Z"
   },
   {
    "duration": 21326,
    "start_time": "2022-05-26T19:00:23.108Z"
   },
   {
    "duration": 84,
    "start_time": "2022-05-26T19:00:44.436Z"
   },
   {
    "duration": 37,
    "start_time": "2022-05-26T19:54:29.018Z"
   },
   {
    "duration": 79,
    "start_time": "2022-05-26T19:58:06.404Z"
   },
   {
    "duration": 14,
    "start_time": "2022-05-26T19:58:20.397Z"
   },
   {
    "duration": 538,
    "start_time": "2022-05-26T19:58:34.486Z"
   },
   {
    "duration": 801,
    "start_time": "2022-05-26T20:01:06.953Z"
   },
   {
    "duration": 486,
    "start_time": "2022-05-26T20:01:12.025Z"
   },
   {
    "duration": 60,
    "start_time": "2022-05-27T15:17:29.537Z"
   },
   {
    "duration": 877,
    "start_time": "2022-05-27T15:17:35.881Z"
   },
   {
    "duration": 3034,
    "start_time": "2022-05-27T15:17:36.760Z"
   },
   {
    "duration": 3,
    "start_time": "2022-05-27T15:17:39.796Z"
   },
   {
    "duration": 3749,
    "start_time": "2022-05-27T15:17:39.801Z"
   },
   {
    "duration": 68,
    "start_time": "2022-05-27T15:17:43.552Z"
   },
   {
    "duration": 15,
    "start_time": "2022-05-27T15:17:43.622Z"
   },
   {
    "duration": 24,
    "start_time": "2022-05-27T15:17:43.639Z"
   },
   {
    "duration": 258,
    "start_time": "2022-05-27T15:17:43.665Z"
   },
   {
    "duration": 86,
    "start_time": "2022-05-27T15:17:43.925Z"
   },
   {
    "duration": 254,
    "start_time": "2022-05-27T15:17:44.014Z"
   },
   {
    "duration": 3,
    "start_time": "2022-05-27T15:17:44.270Z"
   },
   {
    "duration": 20116,
    "start_time": "2022-05-27T15:17:44.275Z"
   },
   {
    "duration": 80,
    "start_time": "2022-05-27T15:18:04.394Z"
   },
   {
    "duration": 562,
    "start_time": "2022-05-27T15:18:04.475Z"
   },
   {
    "duration": 497,
    "start_time": "2022-05-27T15:18:52.128Z"
   },
   {
    "duration": 4,
    "start_time": "2022-05-27T15:25:45.607Z"
   },
   {
    "duration": 20287,
    "start_time": "2022-05-27T15:30:08.677Z"
   },
   {
    "duration": 79,
    "start_time": "2022-05-27T16:48:46.275Z"
   },
   {
    "duration": 76,
    "start_time": "2022-05-27T16:48:53.334Z"
   },
   {
    "duration": 115,
    "start_time": "2022-05-27T16:51:39.085Z"
   },
   {
    "duration": 12,
    "start_time": "2022-05-27T17:09:44.919Z"
   },
   {
    "duration": 178,
    "start_time": "2022-05-27T17:09:54.516Z"
   },
   {
    "duration": 272,
    "start_time": "2022-05-27T17:10:30.281Z"
   },
   {
    "duration": 226,
    "start_time": "2022-05-27T17:10:38.854Z"
   },
   {
    "duration": 3,
    "start_time": "2022-05-27T17:35:08.495Z"
   },
   {
    "duration": 20770,
    "start_time": "2022-05-27T17:36:15.090Z"
   },
   {
    "duration": 82,
    "start_time": "2022-05-27T17:37:48.596Z"
   },
   {
    "duration": 205,
    "start_time": "2022-05-27T17:38:55.853Z"
   },
   {
    "duration": 9,
    "start_time": "2022-05-27T17:45:06.782Z"
   },
   {
    "duration": 766,
    "start_time": "2022-05-27T17:45:29.489Z"
   },
   {
    "duration": 688,
    "start_time": "2022-05-27T17:45:35.886Z"
   },
   {
    "duration": 9,
    "start_time": "2022-05-27T17:46:08.105Z"
   },
   {
    "duration": 313,
    "start_time": "2022-05-27T17:46:12.290Z"
   },
   {
    "duration": 22,
    "start_time": "2022-05-27T17:46:17.695Z"
   },
   {
    "duration": 18,
    "start_time": "2022-05-27T17:46:54.019Z"
   },
   {
    "duration": 24,
    "start_time": "2022-05-27T17:48:08.179Z"
   },
   {
    "duration": 3,
    "start_time": "2022-05-27T17:48:33.421Z"
   },
   {
    "duration": 8,
    "start_time": "2022-05-27T17:48:49.933Z"
   },
   {
    "duration": 23516,
    "start_time": "2022-05-27T17:48:55.408Z"
   },
   {
    "duration": 20675,
    "start_time": "2022-05-27T19:03:57.105Z"
   },
   {
    "duration": 72,
    "start_time": "2022-05-27T19:04:54.673Z"
   },
   {
    "duration": 122,
    "start_time": "2022-05-27T19:05:48.196Z"
   },
   {
    "duration": 42,
    "start_time": "2022-05-27T19:08:01.014Z"
   },
   {
    "duration": 77,
    "start_time": "2022-05-27T19:08:19.791Z"
   },
   {
    "duration": 482,
    "start_time": "2022-05-27T19:08:46.092Z"
   },
   {
    "duration": 25,
    "start_time": "2022-05-27T19:09:29.792Z"
   },
   {
    "duration": 16,
    "start_time": "2022-05-27T19:09:35.221Z"
   },
   {
    "duration": 13,
    "start_time": "2022-05-27T19:09:57.893Z"
   },
   {
    "duration": 15,
    "start_time": "2022-05-27T19:10:44.297Z"
   },
   {
    "duration": 742,
    "start_time": "2022-05-27T19:10:52.576Z"
   },
   {
    "duration": 960,
    "start_time": "2022-05-27T19:10:53.320Z"
   },
   {
    "duration": 13,
    "start_time": "2022-05-27T19:10:54.283Z"
   },
   {
    "duration": 3908,
    "start_time": "2022-05-27T19:10:54.298Z"
   },
   {
    "duration": 69,
    "start_time": "2022-05-27T19:10:58.208Z"
   },
   {
    "duration": 26,
    "start_time": "2022-05-27T19:10:58.279Z"
   },
   {
    "duration": 28,
    "start_time": "2022-05-27T19:10:58.307Z"
   },
   {
    "duration": 279,
    "start_time": "2022-05-27T19:10:58.337Z"
   },
   {
    "duration": 88,
    "start_time": "2022-05-27T19:10:58.618Z"
   },
   {
    "duration": 275,
    "start_time": "2022-05-27T19:10:58.708Z"
   },
   {
    "duration": 9,
    "start_time": "2022-05-27T19:10:58.985Z"
   },
   {
    "duration": 22225,
    "start_time": "2022-05-27T19:10:58.996Z"
   },
   {
    "duration": 89,
    "start_time": "2022-05-27T19:11:21.223Z"
   },
   {
    "duration": 556,
    "start_time": "2022-05-27T19:11:21.316Z"
   },
   {
    "duration": 3,
    "start_time": "2022-05-27T19:11:21.874Z"
   },
   {
    "duration": 22268,
    "start_time": "2022-05-27T19:11:21.879Z"
   },
   {
    "duration": 107,
    "start_time": "2022-05-27T19:11:44.149Z"
   },
   {
    "duration": 101,
    "start_time": "2022-05-27T19:11:44.258Z"
   },
   {
    "duration": 199,
    "start_time": "2022-05-27T19:11:44.360Z"
   },
   {
    "duration": 245,
    "start_time": "2022-05-27T19:11:44.561Z"
   },
   {
    "duration": 4,
    "start_time": "2022-05-27T19:11:44.808Z"
   },
   {
    "duration": 20498,
    "start_time": "2022-05-27T19:11:44.813Z"
   },
   {
    "duration": 69,
    "start_time": "2022-05-27T19:12:05.313Z"
   },
   {
    "duration": 35,
    "start_time": "2022-05-27T19:12:05.384Z"
   },
   {
    "duration": 0,
    "start_time": "2022-05-27T19:12:05.421Z"
   },
   {
    "duration": 0,
    "start_time": "2022-05-27T19:12:05.422Z"
   },
   {
    "duration": 0,
    "start_time": "2022-05-27T19:12:05.424Z"
   },
   {
    "duration": 0,
    "start_time": "2022-05-27T19:12:05.426Z"
   },
   {
    "duration": 0,
    "start_time": "2022-05-27T19:12:05.427Z"
   },
   {
    "duration": 0,
    "start_time": "2022-05-27T19:12:05.428Z"
   },
   {
    "duration": 0,
    "start_time": "2022-05-27T19:12:05.429Z"
   },
   {
    "duration": 0,
    "start_time": "2022-05-27T19:12:05.431Z"
   },
   {
    "duration": 0,
    "start_time": "2022-05-27T19:12:05.432Z"
   },
   {
    "duration": 0,
    "start_time": "2022-05-27T19:12:05.434Z"
   },
   {
    "duration": 0,
    "start_time": "2022-05-27T19:12:05.435Z"
   },
   {
    "duration": 175,
    "start_time": "2022-05-27T19:12:24.638Z"
   },
   {
    "duration": 674,
    "start_time": "2022-05-27T19:12:25.765Z"
   },
   {
    "duration": 667,
    "start_time": "2022-05-27T19:12:28.000Z"
   },
   {
    "duration": 185,
    "start_time": "2022-05-27T19:12:31.095Z"
   },
   {
    "duration": 3,
    "start_time": "2022-05-27T19:12:32.928Z"
   },
   {
    "duration": 22019,
    "start_time": "2022-05-27T19:12:33.993Z"
   },
   {
    "duration": 59,
    "start_time": "2022-05-27T19:12:56.014Z"
   },
   {
    "duration": 112,
    "start_time": "2022-05-27T19:12:56.075Z"
   },
   {
    "duration": 43,
    "start_time": "2022-05-27T19:12:56.189Z"
   },
   {
    "duration": 95,
    "start_time": "2022-05-27T19:12:56.233Z"
   },
   {
    "duration": 421,
    "start_time": "2022-05-27T19:12:56.330Z"
   },
   {
    "duration": 34,
    "start_time": "2022-05-27T19:12:56.752Z"
   },
   {
    "duration": 57,
    "start_time": "2022-05-28T11:29:02.525Z"
   },
   {
    "duration": 834,
    "start_time": "2022-05-28T11:29:10.275Z"
   },
   {
    "duration": 2913,
    "start_time": "2022-05-28T11:29:11.112Z"
   },
   {
    "duration": 3,
    "start_time": "2022-05-28T11:29:14.026Z"
   },
   {
    "duration": 3521,
    "start_time": "2022-05-28T11:29:14.031Z"
   },
   {
    "duration": 58,
    "start_time": "2022-05-28T11:29:17.554Z"
   },
   {
    "duration": 29,
    "start_time": "2022-05-28T11:29:17.614Z"
   },
   {
    "duration": 13,
    "start_time": "2022-05-28T11:29:17.645Z"
   },
   {
    "duration": 256,
    "start_time": "2022-05-28T11:29:17.660Z"
   },
   {
    "duration": 91,
    "start_time": "2022-05-28T11:29:17.917Z"
   },
   {
    "duration": 265,
    "start_time": "2022-05-28T11:29:18.011Z"
   },
   {
    "duration": 3,
    "start_time": "2022-05-28T11:29:18.278Z"
   },
   {
    "duration": 19932,
    "start_time": "2022-05-28T11:29:18.282Z"
   },
   {
    "duration": 73,
    "start_time": "2022-05-28T11:29:38.216Z"
   },
   {
    "duration": 520,
    "start_time": "2022-05-28T11:29:38.291Z"
   },
   {
    "duration": 3,
    "start_time": "2022-05-28T11:29:38.812Z"
   },
   {
    "duration": 20304,
    "start_time": "2022-05-28T11:29:38.817Z"
   },
   {
    "duration": 88,
    "start_time": "2022-05-28T11:29:59.123Z"
   },
   {
    "duration": 110,
    "start_time": "2022-05-28T11:29:59.213Z"
   },
   {
    "duration": 198,
    "start_time": "2022-05-28T11:29:59.324Z"
   },
   {
    "duration": 239,
    "start_time": "2022-05-28T11:29:59.523Z"
   },
   {
    "duration": 2,
    "start_time": "2022-05-28T11:29:59.764Z"
   },
   {
    "duration": 18561,
    "start_time": "2022-05-28T11:29:59.768Z"
   },
   {
    "duration": 72,
    "start_time": "2022-05-28T11:30:18.330Z"
   },
   {
    "duration": 181,
    "start_time": "2022-05-28T11:30:18.403Z"
   },
   {
    "duration": 704,
    "start_time": "2022-05-28T11:30:18.585Z"
   },
   {
    "duration": 179,
    "start_time": "2022-05-28T11:30:19.290Z"
   },
   {
    "duration": 4,
    "start_time": "2022-05-28T11:30:19.470Z"
   },
   {
    "duration": 20270,
    "start_time": "2022-05-28T11:30:19.477Z"
   },
   {
    "duration": 63,
    "start_time": "2022-05-28T11:30:39.749Z"
   },
   {
    "duration": 140,
    "start_time": "2022-05-28T11:30:39.814Z"
   },
   {
    "duration": 36,
    "start_time": "2022-05-28T11:30:39.956Z"
   },
   {
    "duration": 97,
    "start_time": "2022-05-28T11:30:39.994Z"
   },
   {
    "duration": 391,
    "start_time": "2022-05-28T11:30:40.093Z"
   },
   {
    "duration": 29,
    "start_time": "2022-05-28T11:30:40.486Z"
   },
   {
    "duration": 700,
    "start_time": "2022-05-28T11:34:39.389Z"
   },
   {
    "duration": 945,
    "start_time": "2022-05-28T11:34:40.091Z"
   },
   {
    "duration": 3,
    "start_time": "2022-05-28T11:34:41.038Z"
   },
   {
    "duration": 3531,
    "start_time": "2022-05-28T11:34:41.044Z"
   },
   {
    "duration": 58,
    "start_time": "2022-05-28T11:34:44.576Z"
   },
   {
    "duration": 15,
    "start_time": "2022-05-28T11:34:44.641Z"
   },
   {
    "duration": 15,
    "start_time": "2022-05-28T11:34:44.657Z"
   },
   {
    "duration": 262,
    "start_time": "2022-05-28T11:34:44.674Z"
   },
   {
    "duration": 85,
    "start_time": "2022-05-28T11:34:44.941Z"
   },
   {
    "duration": 249,
    "start_time": "2022-05-28T11:34:45.043Z"
   },
   {
    "duration": 3,
    "start_time": "2022-05-28T11:34:45.293Z"
   },
   {
    "duration": 19104,
    "start_time": "2022-05-28T11:34:45.298Z"
   },
   {
    "duration": 80,
    "start_time": "2022-05-28T11:35:04.404Z"
   },
   {
    "duration": 516,
    "start_time": "2022-05-28T11:35:04.486Z"
   },
   {
    "duration": 3,
    "start_time": "2022-05-28T11:35:05.003Z"
   },
   {
    "duration": 20978,
    "start_time": "2022-05-28T11:35:05.008Z"
   },
   {
    "duration": 86,
    "start_time": "2022-05-28T11:35:25.988Z"
   },
   {
    "duration": 102,
    "start_time": "2022-05-28T11:35:26.076Z"
   },
   {
    "duration": 196,
    "start_time": "2022-05-28T11:35:26.180Z"
   },
   {
    "duration": 236,
    "start_time": "2022-05-28T11:35:26.378Z"
   },
   {
    "duration": 4,
    "start_time": "2022-05-28T11:35:26.616Z"
   },
   {
    "duration": 18531,
    "start_time": "2022-05-28T11:35:26.622Z"
   },
   {
    "duration": 68,
    "start_time": "2022-05-28T11:35:45.155Z"
   },
   {
    "duration": 162,
    "start_time": "2022-05-28T11:35:45.225Z"
   },
   {
    "duration": 668,
    "start_time": "2022-05-28T11:35:45.389Z"
   },
   {
    "duration": 62,
    "start_time": "2022-05-28T11:35:46.059Z"
   },
   {
    "duration": 3,
    "start_time": "2022-05-28T11:35:46.122Z"
   },
   {
    "duration": 20891,
    "start_time": "2022-05-28T11:35:46.142Z"
   },
   {
    "duration": 64,
    "start_time": "2022-05-28T11:36:07.034Z"
   },
   {
    "duration": 111,
    "start_time": "2022-05-28T11:36:07.100Z"
   },
   {
    "duration": 41,
    "start_time": "2022-05-28T11:36:07.212Z"
   },
   {
    "duration": 86,
    "start_time": "2022-05-28T11:36:07.255Z"
   },
   {
    "duration": 401,
    "start_time": "2022-05-28T11:36:07.343Z"
   },
   {
    "duration": 79,
    "start_time": "2022-05-28T11:36:07.746Z"
   },
   {
    "duration": 0,
    "start_time": "2022-05-28T11:36:07.826Z"
   },
   {
    "duration": 5,
    "start_time": "2022-05-28T11:36:25.291Z"
   },
   {
    "duration": 26,
    "start_time": "2022-05-28T11:37:29.525Z"
   },
   {
    "duration": 744,
    "start_time": "2022-05-28T12:59:36.248Z"
   },
   {
    "duration": 993,
    "start_time": "2022-05-28T12:59:36.995Z"
   },
   {
    "duration": 4,
    "start_time": "2022-05-28T12:59:37.990Z"
   },
   {
    "duration": 3620,
    "start_time": "2022-05-28T12:59:37.996Z"
   },
   {
    "duration": 74,
    "start_time": "2022-05-28T12:59:41.617Z"
   },
   {
    "duration": 12,
    "start_time": "2022-05-28T12:59:41.692Z"
   },
   {
    "duration": 14,
    "start_time": "2022-05-28T12:59:41.707Z"
   },
   {
    "duration": 277,
    "start_time": "2022-05-28T12:59:41.742Z"
   },
   {
    "duration": 87,
    "start_time": "2022-05-28T12:59:42.020Z"
   },
   {
    "duration": 279,
    "start_time": "2022-05-28T12:59:42.110Z"
   },
   {
    "duration": 4,
    "start_time": "2022-05-28T12:59:42.391Z"
   },
   {
    "duration": 21618,
    "start_time": "2022-05-28T12:59:42.396Z"
   },
   {
    "duration": 77,
    "start_time": "2022-05-28T13:00:04.016Z"
   },
   {
    "duration": 567,
    "start_time": "2022-05-28T13:00:04.095Z"
   },
   {
    "duration": 6,
    "start_time": "2022-05-28T13:00:04.664Z"
   },
   {
    "duration": 21592,
    "start_time": "2022-05-28T13:00:04.672Z"
   },
   {
    "duration": 87,
    "start_time": "2022-05-28T13:00:26.266Z"
   },
   {
    "duration": 105,
    "start_time": "2022-05-28T13:00:26.354Z"
   },
   {
    "duration": 202,
    "start_time": "2022-05-28T13:00:26.460Z"
   },
   {
    "duration": 275,
    "start_time": "2022-05-28T13:00:26.663Z"
   },
   {
    "duration": 7,
    "start_time": "2022-05-28T13:00:26.942Z"
   },
   {
    "duration": 19469,
    "start_time": "2022-05-28T13:00:26.951Z"
   },
   {
    "duration": 70,
    "start_time": "2022-05-28T13:00:46.422Z"
   },
   {
    "duration": 169,
    "start_time": "2022-05-28T13:00:46.494Z"
   },
   {
    "duration": 770,
    "start_time": "2022-05-28T13:00:46.664Z"
   },
   {
    "duration": 66,
    "start_time": "2022-05-28T13:00:47.441Z"
   },
   {
    "duration": 3,
    "start_time": "2022-05-28T13:00:47.509Z"
   },
   {
    "duration": 21069,
    "start_time": "2022-05-28T13:00:47.515Z"
   },
   {
    "duration": 71,
    "start_time": "2022-05-28T13:01:08.585Z"
   },
   {
    "duration": 106,
    "start_time": "2022-05-28T13:01:08.658Z"
   },
   {
    "duration": 37,
    "start_time": "2022-05-28T13:01:08.766Z"
   },
   {
    "duration": 98,
    "start_time": "2022-05-28T13:01:08.805Z"
   },
   {
    "duration": 399,
    "start_time": "2022-05-28T13:01:08.905Z"
   },
   {
    "duration": 25,
    "start_time": "2022-05-28T13:01:09.306Z"
   },
   {
    "duration": 704,
    "start_time": "2022-05-28T13:02:28.654Z"
   },
   {
    "duration": 988,
    "start_time": "2022-05-28T13:02:29.360Z"
   },
   {
    "duration": 4,
    "start_time": "2022-05-28T13:02:30.349Z"
   },
   {
    "duration": 3708,
    "start_time": "2022-05-28T13:02:30.354Z"
   },
   {
    "duration": 63,
    "start_time": "2022-05-28T13:02:34.065Z"
   },
   {
    "duration": 23,
    "start_time": "2022-05-28T13:02:34.129Z"
   },
   {
    "duration": 17,
    "start_time": "2022-05-28T13:02:34.154Z"
   },
   {
    "duration": 277,
    "start_time": "2022-05-28T13:02:34.173Z"
   },
   {
    "duration": 91,
    "start_time": "2022-05-28T13:02:34.452Z"
   },
   {
    "duration": 258,
    "start_time": "2022-05-28T13:02:34.546Z"
   },
   {
    "duration": 3,
    "start_time": "2022-05-28T13:02:34.805Z"
   },
   {
    "duration": 19578,
    "start_time": "2022-05-28T13:02:34.809Z"
   },
   {
    "duration": 72,
    "start_time": "2022-05-28T13:02:54.389Z"
   },
   {
    "duration": 503,
    "start_time": "2022-05-28T13:02:54.462Z"
   },
   {
    "duration": 2,
    "start_time": "2022-05-28T13:02:54.967Z"
   },
   {
    "duration": 20795,
    "start_time": "2022-05-28T13:02:54.971Z"
   },
   {
    "duration": 90,
    "start_time": "2022-05-28T13:03:15.769Z"
   },
   {
    "duration": 110,
    "start_time": "2022-05-28T13:03:15.861Z"
   },
   {
    "duration": 200,
    "start_time": "2022-05-28T13:03:15.973Z"
   },
   {
    "duration": 240,
    "start_time": "2022-05-28T13:03:16.175Z"
   },
   {
    "duration": 3,
    "start_time": "2022-05-28T13:03:16.417Z"
   },
   {
    "duration": 19291,
    "start_time": "2022-05-28T13:03:16.422Z"
   },
   {
    "duration": 76,
    "start_time": "2022-05-28T13:03:35.715Z"
   },
   {
    "duration": 172,
    "start_time": "2022-05-28T13:03:35.793Z"
   },
   {
    "duration": 706,
    "start_time": "2022-05-28T13:03:35.967Z"
   },
   {
    "duration": 91,
    "start_time": "2022-05-28T13:03:36.675Z"
   },
   {
    "duration": 3,
    "start_time": "2022-05-28T13:03:36.768Z"
   },
   {
    "duration": 20760,
    "start_time": "2022-05-28T13:03:36.776Z"
   },
   {
    "duration": 61,
    "start_time": "2022-05-28T13:03:57.540Z"
   },
   {
    "duration": 114,
    "start_time": "2022-05-28T13:03:57.603Z"
   },
   {
    "duration": 48,
    "start_time": "2022-05-28T13:03:57.720Z"
   },
   {
    "duration": 100,
    "start_time": "2022-05-28T13:03:57.770Z"
   },
   {
    "duration": 408,
    "start_time": "2022-05-28T13:03:57.872Z"
   },
   {
    "duration": 25,
    "start_time": "2022-05-28T13:03:58.282Z"
   },
   {
    "duration": 769,
    "start_time": "2022-05-28T14:35:01.806Z"
   },
   {
    "duration": 3,
    "start_time": "2022-05-28T14:35:02.577Z"
   },
   {
    "duration": 1351,
    "start_time": "2022-05-28T14:37:36.066Z"
   },
   {
    "duration": 748,
    "start_time": "2022-05-28T14:50:49.140Z"
   },
   {
    "duration": 497,
    "start_time": "2022-05-28T14:50:49.890Z"
   },
   {
    "duration": 3,
    "start_time": "2022-05-28T14:50:50.391Z"
   },
   {
    "duration": 1037,
    "start_time": "2022-05-28T14:50:50.395Z"
   },
   {
    "duration": 3,
    "start_time": "2022-05-28T14:50:51.441Z"
   },
   {
    "duration": 3892,
    "start_time": "2022-05-28T14:50:51.446Z"
   },
   {
    "duration": 61,
    "start_time": "2022-05-28T14:50:55.341Z"
   },
   {
    "duration": 20,
    "start_time": "2022-05-28T14:50:55.404Z"
   },
   {
    "duration": 28,
    "start_time": "2022-05-28T14:50:55.426Z"
   },
   {
    "duration": 253,
    "start_time": "2022-05-28T14:50:55.456Z"
   },
   {
    "duration": 87,
    "start_time": "2022-05-28T14:50:55.710Z"
   },
   {
    "duration": 327,
    "start_time": "2022-05-28T14:50:55.799Z"
   },
   {
    "duration": 13,
    "start_time": "2022-05-28T14:50:56.128Z"
   },
   {
    "duration": 21729,
    "start_time": "2022-05-28T14:50:56.144Z"
   },
   {
    "duration": 72,
    "start_time": "2022-05-28T14:51:17.875Z"
   },
   {
    "duration": 523,
    "start_time": "2022-05-28T14:51:17.948Z"
   },
   {
    "duration": 3,
    "start_time": "2022-05-28T14:51:18.473Z"
   },
   {
    "duration": 20700,
    "start_time": "2022-05-28T14:51:18.478Z"
   },
   {
    "duration": 87,
    "start_time": "2022-05-28T14:51:39.180Z"
   },
   {
    "duration": 108,
    "start_time": "2022-05-28T14:51:39.269Z"
   },
   {
    "duration": 205,
    "start_time": "2022-05-28T14:51:39.378Z"
   },
   {
    "duration": 242,
    "start_time": "2022-05-28T14:51:39.585Z"
   },
   {
    "duration": 3,
    "start_time": "2022-05-28T14:51:39.829Z"
   },
   {
    "duration": 19807,
    "start_time": "2022-05-28T14:51:39.841Z"
   },
   {
    "duration": 72,
    "start_time": "2022-05-28T14:51:59.650Z"
   },
   {
    "duration": 196,
    "start_time": "2022-05-28T14:51:59.724Z"
   },
   {
    "duration": 743,
    "start_time": "2022-05-28T14:51:59.922Z"
   },
   {
    "duration": 92,
    "start_time": "2022-05-28T14:52:00.666Z"
   },
   {
    "duration": 4,
    "start_time": "2022-05-28T14:52:00.760Z"
   },
   {
    "duration": 21884,
    "start_time": "2022-05-28T14:52:00.765Z"
   },
   {
    "duration": 60,
    "start_time": "2022-05-28T14:52:22.650Z"
   },
   {
    "duration": 113,
    "start_time": "2022-05-28T14:52:22.711Z"
   },
   {
    "duration": 43,
    "start_time": "2022-05-28T14:52:22.825Z"
   },
   {
    "duration": 93,
    "start_time": "2022-05-28T14:52:22.870Z"
   },
   {
    "duration": 443,
    "start_time": "2022-05-28T14:52:22.965Z"
   },
   {
    "duration": 32,
    "start_time": "2022-05-28T14:52:23.410Z"
   },
   {
    "duration": 0,
    "start_time": "2022-05-28T14:52:24.822Z"
   },
   {
    "duration": 0,
    "start_time": "2022-05-28T14:52:24.824Z"
   },
   {
    "duration": 10,
    "start_time": "2022-05-28T16:16:14.649Z"
   },
   {
    "duration": 2,
    "start_time": "2022-05-28T16:17:06.668Z"
   },
   {
    "duration": 14,
    "start_time": "2022-05-28T16:17:10.207Z"
   },
   {
    "duration": 1324,
    "start_time": "2022-05-28T16:17:26.776Z"
   },
   {
    "duration": 11,
    "start_time": "2022-05-28T16:17:34.223Z"
   },
   {
    "duration": 722,
    "start_time": "2022-05-28T16:17:42.839Z"
   },
   {
    "duration": 479,
    "start_time": "2022-05-28T16:17:43.563Z"
   },
   {
    "duration": 3,
    "start_time": "2022-05-28T16:17:44.044Z"
   },
   {
    "duration": 1036,
    "start_time": "2022-05-28T16:17:44.049Z"
   },
   {
    "duration": 4,
    "start_time": "2022-05-28T16:17:45.087Z"
   },
   {
    "duration": 3975,
    "start_time": "2022-05-28T16:17:45.092Z"
   },
   {
    "duration": 75,
    "start_time": "2022-05-28T16:17:49.069Z"
   },
   {
    "duration": 12,
    "start_time": "2022-05-28T16:17:49.146Z"
   },
   {
    "duration": 14,
    "start_time": "2022-05-28T16:17:49.160Z"
   },
   {
    "duration": 284,
    "start_time": "2022-05-28T16:17:49.177Z"
   },
   {
    "duration": 93,
    "start_time": "2022-05-28T16:17:49.463Z"
   },
   {
    "duration": 358,
    "start_time": "2022-05-28T16:17:49.558Z"
   },
   {
    "duration": 3,
    "start_time": "2022-05-28T16:17:49.918Z"
   },
   {
    "duration": 20946,
    "start_time": "2022-05-28T16:17:49.924Z"
   },
   {
    "duration": 78,
    "start_time": "2022-05-28T16:18:10.874Z"
   },
   {
    "duration": 543,
    "start_time": "2022-05-28T16:18:10.954Z"
   },
   {
    "duration": 4,
    "start_time": "2022-05-28T16:18:11.499Z"
   },
   {
    "duration": 20677,
    "start_time": "2022-05-28T16:18:11.505Z"
   },
   {
    "duration": 88,
    "start_time": "2022-05-28T16:18:32.185Z"
   },
   {
    "duration": 107,
    "start_time": "2022-05-28T16:18:32.275Z"
   },
   {
    "duration": 201,
    "start_time": "2022-05-28T16:18:32.384Z"
   },
   {
    "duration": 245,
    "start_time": "2022-05-28T16:18:32.587Z"
   },
   {
    "duration": 9,
    "start_time": "2022-05-28T16:18:32.833Z"
   },
   {
    "duration": 20054,
    "start_time": "2022-05-28T16:18:32.843Z"
   },
   {
    "duration": 71,
    "start_time": "2022-05-28T16:18:52.899Z"
   },
   {
    "duration": 178,
    "start_time": "2022-05-28T16:18:52.972Z"
   },
   {
    "duration": 744,
    "start_time": "2022-05-28T16:18:53.152Z"
   },
   {
    "duration": 79,
    "start_time": "2022-05-28T16:18:53.901Z"
   },
   {
    "duration": 3,
    "start_time": "2022-05-28T16:18:53.982Z"
   },
   {
    "duration": 21170,
    "start_time": "2022-05-28T16:18:53.987Z"
   },
   {
    "duration": 60,
    "start_time": "2022-05-28T16:19:15.159Z"
   },
   {
    "duration": 112,
    "start_time": "2022-05-28T16:19:15.221Z"
   },
   {
    "duration": 36,
    "start_time": "2022-05-28T16:19:15.335Z"
   },
   {
    "duration": 94,
    "start_time": "2022-05-28T16:19:15.373Z"
   },
   {
    "duration": 416,
    "start_time": "2022-05-28T16:19:15.469Z"
   },
   {
    "duration": 26,
    "start_time": "2022-05-28T16:19:15.887Z"
   },
   {
    "duration": 128,
    "start_time": "2022-05-28T16:19:15.914Z"
   },
   {
    "duration": 0,
    "start_time": "2022-05-28T16:19:16.044Z"
   },
   {
    "duration": 0,
    "start_time": "2022-05-28T16:19:16.046Z"
   },
   {
    "duration": 1053,
    "start_time": "2022-05-28T16:21:22.835Z"
   },
   {
    "duration": 531,
    "start_time": "2022-05-28T16:29:52.674Z"
   },
   {
    "duration": 43,
    "start_time": "2022-05-28T16:34:03.171Z"
   },
   {
    "duration": 3,
    "start_time": "2022-05-28T16:38:25.680Z"
   },
   {
    "duration": 99948,
    "start_time": "2022-05-28T16:38:34.100Z"
   },
   {
    "duration": 104,
    "start_time": "2022-05-28T17:18:45.064Z"
   },
   {
    "duration": 3,
    "start_time": "2022-05-28T17:19:12.981Z"
   },
   {
    "duration": 41,
    "start_time": "2022-05-28T17:19:16.962Z"
   },
   {
    "duration": 95,
    "start_time": "2022-05-28T17:20:26.975Z"
   },
   {
    "duration": 46,
    "start_time": "2022-05-28T17:23:34.162Z"
   },
   {
    "duration": 4,
    "start_time": "2022-05-28T17:23:38.415Z"
   },
   {
    "duration": 105987,
    "start_time": "2022-05-28T17:23:42.057Z"
   },
   {
    "duration": 50,
    "start_time": "2022-05-28T17:31:57.655Z"
   },
   {
    "duration": 3,
    "start_time": "2022-05-28T17:34:52.997Z"
   },
   {
    "duration": 319,
    "start_time": "2022-05-28T17:35:16.097Z"
   },
   {
    "duration": 3,
    "start_time": "2022-05-28T17:35:50.207Z"
   },
   {
    "duration": 91,
    "start_time": "2022-05-28T17:45:34.212Z"
   },
   {
    "duration": 773,
    "start_time": "2022-05-28T17:45:46.405Z"
   },
   {
    "duration": 665,
    "start_time": "2022-05-28T17:46:58.001Z"
   },
   {
    "duration": 471,
    "start_time": "2022-05-28T17:46:58.668Z"
   },
   {
    "duration": 4,
    "start_time": "2022-05-28T17:46:59.140Z"
   },
   {
    "duration": 5,
    "start_time": "2022-05-28T17:46:59.146Z"
   },
   {
    "duration": 2942,
    "start_time": "2022-05-28T17:46:59.153Z"
   },
   {
    "duration": 4,
    "start_time": "2022-05-28T17:47:02.096Z"
   },
   {
    "duration": 3457,
    "start_time": "2022-05-28T17:47:02.101Z"
   },
   {
    "duration": 56,
    "start_time": "2022-05-28T17:47:05.560Z"
   },
   {
    "duration": 11,
    "start_time": "2022-05-28T17:47:05.618Z"
   },
   {
    "duration": 12,
    "start_time": "2022-05-28T17:47:05.643Z"
   },
   {
    "duration": 256,
    "start_time": "2022-05-28T17:47:05.657Z"
   },
   {
    "duration": 84,
    "start_time": "2022-05-28T17:47:05.914Z"
   },
   {
    "duration": 324,
    "start_time": "2022-05-28T17:47:05.999Z"
   },
   {
    "duration": 3,
    "start_time": "2022-05-28T17:47:06.325Z"
   },
   {
    "duration": 20248,
    "start_time": "2022-05-28T17:47:06.329Z"
   },
   {
    "duration": 70,
    "start_time": "2022-05-28T17:47:26.579Z"
   },
   {
    "duration": 585,
    "start_time": "2022-05-28T17:47:26.650Z"
   },
   {
    "duration": 6,
    "start_time": "2022-05-28T17:47:27.236Z"
   },
   {
    "duration": 20789,
    "start_time": "2022-05-28T17:47:27.243Z"
   },
   {
    "duration": 84,
    "start_time": "2022-05-28T17:47:48.034Z"
   },
   {
    "duration": 108,
    "start_time": "2022-05-28T17:47:48.120Z"
   },
   {
    "duration": 196,
    "start_time": "2022-05-28T17:47:48.230Z"
   },
   {
    "duration": 254,
    "start_time": "2022-05-28T17:47:48.427Z"
   },
   {
    "duration": 3,
    "start_time": "2022-05-28T17:47:48.683Z"
   },
   {
    "duration": 19665,
    "start_time": "2022-05-28T17:47:48.688Z"
   },
   {
    "duration": 64,
    "start_time": "2022-05-28T17:48:08.355Z"
   },
   {
    "duration": 179,
    "start_time": "2022-05-28T17:48:08.420Z"
   },
   {
    "duration": 676,
    "start_time": "2022-05-28T17:48:08.602Z"
   },
   {
    "duration": 65,
    "start_time": "2022-05-28T17:48:09.280Z"
   },
   {
    "duration": 3,
    "start_time": "2022-05-28T17:48:09.347Z"
   },
   {
    "duration": 20489,
    "start_time": "2022-05-28T17:48:09.352Z"
   },
   {
    "duration": 70,
    "start_time": "2022-05-28T17:48:29.843Z"
   },
   {
    "duration": 130,
    "start_time": "2022-05-28T17:48:29.916Z"
   },
   {
    "duration": 36,
    "start_time": "2022-05-28T17:48:30.048Z"
   },
   {
    "duration": 100,
    "start_time": "2022-05-28T17:48:30.086Z"
   },
   {
    "duration": 422,
    "start_time": "2022-05-28T17:48:30.188Z"
   },
   {
    "duration": 31,
    "start_time": "2022-05-28T17:48:30.612Z"
   },
   {
    "duration": 871,
    "start_time": "2022-05-28T17:48:30.645Z"
   },
   {
    "duration": 534,
    "start_time": "2022-05-28T17:48:31.518Z"
   },
   {
    "duration": 97186,
    "start_time": "2022-05-28T17:48:32.054Z"
   },
   {
    "duration": 102407,
    "start_time": "2022-05-28T17:50:09.243Z"
   },
   {
    "duration": 126,
    "start_time": "2022-05-28T19:35:40.473Z"
   },
   {
    "duration": 989,
    "start_time": "2022-05-28T19:35:47.469Z"
   },
   {
    "duration": 47,
    "start_time": "2022-05-28T19:35:52.086Z"
   },
   {
    "duration": 10,
    "start_time": "2022-05-28T19:36:02.160Z"
   },
   {
    "duration": 749,
    "start_time": "2022-05-28T19:36:09.105Z"
   },
   {
    "duration": 520,
    "start_time": "2022-05-28T19:36:09.856Z"
   },
   {
    "duration": 4,
    "start_time": "2022-05-28T19:36:10.378Z"
   },
   {
    "duration": 6,
    "start_time": "2022-05-28T19:36:10.384Z"
   },
   {
    "duration": 3069,
    "start_time": "2022-05-28T19:36:10.391Z"
   },
   {
    "duration": 3,
    "start_time": "2022-05-28T19:36:13.462Z"
   },
   {
    "duration": 3824,
    "start_time": "2022-05-28T19:36:13.467Z"
   },
   {
    "duration": 73,
    "start_time": "2022-05-28T19:36:17.293Z"
   },
   {
    "duration": 16,
    "start_time": "2022-05-28T19:36:17.368Z"
   },
   {
    "duration": 14,
    "start_time": "2022-05-28T19:36:17.387Z"
   },
   {
    "duration": 273,
    "start_time": "2022-05-28T19:36:17.402Z"
   },
   {
    "duration": 91,
    "start_time": "2022-05-28T19:36:17.677Z"
   },
   {
    "duration": 347,
    "start_time": "2022-05-28T19:36:17.770Z"
   },
   {
    "duration": 3,
    "start_time": "2022-05-28T19:36:18.119Z"
   },
   {
    "duration": 22247,
    "start_time": "2022-05-28T19:36:18.124Z"
   },
   {
    "duration": 80,
    "start_time": "2022-05-28T19:36:40.373Z"
   },
   {
    "duration": 573,
    "start_time": "2022-05-28T19:36:40.454Z"
   },
   {
    "duration": 3,
    "start_time": "2022-05-28T19:36:41.029Z"
   },
   {
    "duration": 23296,
    "start_time": "2022-05-28T19:36:41.034Z"
   },
   {
    "duration": 92,
    "start_time": "2022-05-28T19:37:04.332Z"
   },
   {
    "duration": 130,
    "start_time": "2022-05-28T19:37:04.426Z"
   },
   {
    "duration": 228,
    "start_time": "2022-05-28T19:37:04.557Z"
   },
   {
    "duration": 279,
    "start_time": "2022-05-28T19:37:04.787Z"
   },
   {
    "duration": 3,
    "start_time": "2022-05-28T19:37:05.067Z"
   },
   {
    "duration": 22826,
    "start_time": "2022-05-28T19:37:05.072Z"
   },
   {
    "duration": 86,
    "start_time": "2022-05-28T19:37:27.899Z"
   },
   {
    "duration": 219,
    "start_time": "2022-05-28T19:37:27.987Z"
   },
   {
    "duration": 760,
    "start_time": "2022-05-28T19:37:28.209Z"
   },
   {
    "duration": 72,
    "start_time": "2022-05-28T19:37:28.971Z"
   },
   {
    "duration": 4,
    "start_time": "2022-05-28T19:37:29.045Z"
   },
   {
    "duration": 23586,
    "start_time": "2022-05-28T19:37:29.051Z"
   },
   {
    "duration": 80,
    "start_time": "2022-05-28T19:37:52.639Z"
   },
   {
    "duration": 121,
    "start_time": "2022-05-28T19:37:52.721Z"
   },
   {
    "duration": 35,
    "start_time": "2022-05-28T19:37:52.844Z"
   },
   {
    "duration": 115,
    "start_time": "2022-05-28T19:37:52.881Z"
   },
   {
    "duration": 418,
    "start_time": "2022-05-28T19:37:52.998Z"
   },
   {
    "duration": 33,
    "start_time": "2022-05-28T19:37:53.418Z"
   },
   {
    "duration": 1035,
    "start_time": "2022-05-28T19:37:53.453Z"
   },
   {
    "duration": 545,
    "start_time": "2022-05-28T19:37:54.490Z"
   },
   {
    "duration": 207008,
    "start_time": "2022-05-28T19:37:55.037Z"
   },
   {
    "duration": 210901,
    "start_time": "2022-05-28T19:41:22.047Z"
   },
   {
    "duration": 133,
    "start_time": "2022-05-28T20:02:43.744Z"
   },
   {
    "duration": 876,
    "start_time": "2022-05-28T20:02:53.166Z"
   },
   {
    "duration": 569,
    "start_time": "2022-05-28T20:02:54.045Z"
   },
   {
    "duration": 4,
    "start_time": "2022-05-28T20:02:54.616Z"
   },
   {
    "duration": 11,
    "start_time": "2022-05-28T20:02:54.622Z"
   },
   {
    "duration": 3460,
    "start_time": "2022-05-28T20:02:54.641Z"
   },
   {
    "duration": 4,
    "start_time": "2022-05-28T20:02:58.103Z"
   },
   {
    "duration": 4775,
    "start_time": "2022-05-28T20:02:58.109Z"
   },
   {
    "duration": 78,
    "start_time": "2022-05-28T20:03:02.886Z"
   },
   {
    "duration": 19,
    "start_time": "2022-05-28T20:03:02.965Z"
   },
   {
    "duration": 18,
    "start_time": "2022-05-28T20:03:02.987Z"
   },
   {
    "duration": 328,
    "start_time": "2022-05-28T20:03:03.008Z"
   },
   {
    "duration": 125,
    "start_time": "2022-05-28T20:03:03.338Z"
   },
   {
    "duration": 412,
    "start_time": "2022-05-28T20:03:03.465Z"
   },
   {
    "duration": 4,
    "start_time": "2022-05-28T20:03:03.879Z"
   },
   {
    "duration": 26678,
    "start_time": "2022-05-28T20:03:03.885Z"
   },
   {
    "duration": 76,
    "start_time": "2022-05-28T20:03:30.566Z"
   },
   {
    "duration": 633,
    "start_time": "2022-05-28T20:03:30.644Z"
   },
   {
    "duration": 6,
    "start_time": "2022-05-28T20:03:31.279Z"
   },
   {
    "duration": 25860,
    "start_time": "2022-05-28T20:03:31.287Z"
   },
   {
    "duration": 131,
    "start_time": "2022-05-28T20:03:57.149Z"
   },
   {
    "duration": 184,
    "start_time": "2022-05-28T20:03:57.282Z"
   },
   {
    "duration": 257,
    "start_time": "2022-05-28T20:03:57.469Z"
   },
   {
    "duration": 294,
    "start_time": "2022-05-28T20:03:57.728Z"
   },
   {
    "duration": 4,
    "start_time": "2022-05-28T20:03:58.024Z"
   },
   {
    "duration": 25062,
    "start_time": "2022-05-28T20:03:58.030Z"
   },
   {
    "duration": 91,
    "start_time": "2022-05-28T20:04:23.094Z"
   },
   {
    "duration": 199,
    "start_time": "2022-05-28T20:04:23.186Z"
   },
   {
    "duration": 890,
    "start_time": "2022-05-28T20:04:23.388Z"
   },
   {
    "duration": 84,
    "start_time": "2022-05-28T20:04:24.281Z"
   },
   {
    "duration": 4,
    "start_time": "2022-05-28T20:04:24.367Z"
   },
   {
    "duration": 27313,
    "start_time": "2022-05-28T20:04:24.373Z"
   },
   {
    "duration": 81,
    "start_time": "2022-05-28T20:04:51.688Z"
   },
   {
    "duration": 136,
    "start_time": "2022-05-28T20:04:51.772Z"
   },
   {
    "duration": 42,
    "start_time": "2022-05-28T20:04:51.910Z"
   },
   {
    "duration": 110,
    "start_time": "2022-05-28T20:04:51.954Z"
   },
   {
    "duration": 473,
    "start_time": "2022-05-28T20:04:52.067Z"
   },
   {
    "duration": 27,
    "start_time": "2022-05-28T20:04:52.543Z"
   },
   {
    "duration": 1128,
    "start_time": "2022-05-28T20:04:52.572Z"
   },
   {
    "duration": 546,
    "start_time": "2022-05-28T20:04:53.702Z"
   },
   {
    "duration": 210699,
    "start_time": "2022-05-28T20:04:54.250Z"
   },
   {
    "duration": 148596,
    "start_time": "2022-05-28T20:08:24.952Z"
   },
   {
    "duration": 91,
    "start_time": "2022-05-28T20:17:27.871Z"
   },
   {
    "duration": 691,
    "start_time": "2022-05-28T20:17:50.475Z"
   },
   {
    "duration": 496,
    "start_time": "2022-05-28T20:17:51.169Z"
   },
   {
    "duration": 5,
    "start_time": "2022-05-28T20:17:51.666Z"
   },
   {
    "duration": 6,
    "start_time": "2022-05-28T20:17:51.673Z"
   },
   {
    "duration": 2967,
    "start_time": "2022-05-28T20:17:51.681Z"
   },
   {
    "duration": 4,
    "start_time": "2022-05-28T20:17:54.650Z"
   },
   {
    "duration": 3979,
    "start_time": "2022-05-28T20:17:54.656Z"
   },
   {
    "duration": 65,
    "start_time": "2022-05-28T20:17:58.640Z"
   },
   {
    "duration": 16,
    "start_time": "2022-05-28T20:17:58.707Z"
   },
   {
    "duration": 14,
    "start_time": "2022-05-28T20:17:58.741Z"
   },
   {
    "duration": 274,
    "start_time": "2022-05-28T20:17:58.757Z"
   },
   {
    "duration": 92,
    "start_time": "2022-05-28T20:17:59.033Z"
   },
   {
    "duration": 339,
    "start_time": "2022-05-28T20:17:59.127Z"
   },
   {
    "duration": 3,
    "start_time": "2022-05-28T20:17:59.468Z"
   },
   {
    "duration": 21947,
    "start_time": "2022-05-28T20:17:59.472Z"
   },
   {
    "duration": 74,
    "start_time": "2022-05-28T20:18:21.422Z"
   },
   {
    "duration": 543,
    "start_time": "2022-05-28T20:18:21.498Z"
   },
   {
    "duration": 3,
    "start_time": "2022-05-28T20:18:22.043Z"
   },
   {
    "duration": 21547,
    "start_time": "2022-05-28T20:18:22.047Z"
   },
   {
    "duration": 98,
    "start_time": "2022-05-28T20:18:43.596Z"
   },
   {
    "duration": 112,
    "start_time": "2022-05-28T20:18:43.696Z"
   },
   {
    "duration": 207,
    "start_time": "2022-05-28T20:18:43.809Z"
   },
   {
    "duration": 255,
    "start_time": "2022-05-28T20:18:44.018Z"
   },
   {
    "duration": 2,
    "start_time": "2022-05-28T20:18:44.275Z"
   },
   {
    "duration": 20278,
    "start_time": "2022-05-28T20:18:44.279Z"
   },
   {
    "duration": 68,
    "start_time": "2022-05-28T20:19:04.559Z"
   },
   {
    "duration": 178,
    "start_time": "2022-05-28T20:19:04.629Z"
   },
   {
    "duration": 713,
    "start_time": "2022-05-28T20:19:04.810Z"
   },
   {
    "duration": 70,
    "start_time": "2022-05-28T20:19:05.524Z"
   },
   {
    "duration": 3,
    "start_time": "2022-05-28T20:19:05.596Z"
   },
   {
    "duration": 21919,
    "start_time": "2022-05-28T20:19:05.600Z"
   },
   {
    "duration": 74,
    "start_time": "2022-05-28T20:19:27.521Z"
   },
   {
    "duration": 109,
    "start_time": "2022-05-28T20:19:27.597Z"
   },
   {
    "duration": 46,
    "start_time": "2022-05-28T20:19:27.707Z"
   },
   {
    "duration": 86,
    "start_time": "2022-05-28T20:19:27.755Z"
   },
   {
    "duration": 468,
    "start_time": "2022-05-28T20:19:27.843Z"
   },
   {
    "duration": 36,
    "start_time": "2022-05-28T20:19:28.313Z"
   },
   {
    "duration": 1083,
    "start_time": "2022-05-28T20:19:28.353Z"
   },
   {
    "duration": 578,
    "start_time": "2022-05-28T20:19:29.438Z"
   },
   {
    "duration": 5,
    "start_time": "2022-05-28T20:19:30.018Z"
   },
   {
    "duration": 74,
    "start_time": "2022-05-28T20:27:28.001Z"
   },
   {
    "duration": 787,
    "start_time": "2022-05-28T20:29:24.662Z"
   },
   {
    "duration": 461,
    "start_time": "2022-05-28T20:29:25.457Z"
   },
   {
    "duration": 4,
    "start_time": "2022-05-28T20:29:25.920Z"
   },
   {
    "duration": 4,
    "start_time": "2022-05-28T20:29:25.926Z"
   },
   {
    "duration": 3657,
    "start_time": "2022-05-28T20:29:25.932Z"
   },
   {
    "duration": 4,
    "start_time": "2022-05-28T20:29:29.590Z"
   },
   {
    "duration": 4617,
    "start_time": "2022-05-28T20:29:29.596Z"
   },
   {
    "duration": 71,
    "start_time": "2022-05-28T20:29:34.215Z"
   },
   {
    "duration": 13,
    "start_time": "2022-05-28T20:29:34.288Z"
   },
   {
    "duration": 13,
    "start_time": "2022-05-28T20:29:34.304Z"
   },
   {
    "duration": 319,
    "start_time": "2022-05-28T20:29:34.318Z"
   },
   {
    "duration": 118,
    "start_time": "2022-05-28T20:29:34.640Z"
   },
   {
    "duration": 348,
    "start_time": "2022-05-28T20:29:34.760Z"
   },
   {
    "duration": 3,
    "start_time": "2022-05-28T20:29:35.109Z"
   },
   {
    "duration": 23834,
    "start_time": "2022-05-28T20:29:35.114Z"
   },
   {
    "duration": 83,
    "start_time": "2022-05-28T20:29:58.954Z"
   },
   {
    "duration": 580,
    "start_time": "2022-05-28T20:29:59.041Z"
   },
   {
    "duration": 3,
    "start_time": "2022-05-28T20:29:59.623Z"
   },
   {
    "duration": 23461,
    "start_time": "2022-05-28T20:29:59.628Z"
   },
   {
    "duration": 110,
    "start_time": "2022-05-28T20:30:23.091Z"
   },
   {
    "duration": 129,
    "start_time": "2022-05-28T20:30:23.203Z"
   },
   {
    "duration": 232,
    "start_time": "2022-05-28T20:30:23.334Z"
   },
   {
    "duration": 280,
    "start_time": "2022-05-28T20:30:23.571Z"
   },
   {
    "duration": 9,
    "start_time": "2022-05-28T20:30:23.853Z"
   },
   {
    "duration": 22466,
    "start_time": "2022-05-28T20:30:23.866Z"
   },
   {
    "duration": 86,
    "start_time": "2022-05-28T20:30:46.334Z"
   },
   {
    "duration": 243,
    "start_time": "2022-05-28T20:30:46.422Z"
   },
   {
    "duration": 901,
    "start_time": "2022-05-28T20:30:46.676Z"
   },
   {
    "duration": 77,
    "start_time": "2022-05-28T20:30:47.582Z"
   },
   {
    "duration": 11,
    "start_time": "2022-05-28T20:30:47.664Z"
   },
   {
    "duration": 24697,
    "start_time": "2022-05-28T20:30:47.677Z"
   },
   {
    "duration": 85,
    "start_time": "2022-05-28T20:31:12.380Z"
   },
   {
    "duration": 120,
    "start_time": "2022-05-28T20:31:12.471Z"
   },
   {
    "duration": 44,
    "start_time": "2022-05-28T20:31:12.593Z"
   },
   {
    "duration": 106,
    "start_time": "2022-05-28T20:31:12.638Z"
   },
   {
    "duration": 460,
    "start_time": "2022-05-28T20:31:12.760Z"
   },
   {
    "duration": 50,
    "start_time": "2022-05-28T20:31:13.222Z"
   },
   {
    "duration": 1041,
    "start_time": "2022-05-28T20:31:13.274Z"
   },
   {
    "duration": 571,
    "start_time": "2022-05-28T20:31:14.317Z"
   },
   {
    "duration": 391,
    "start_time": "2022-05-28T20:31:14.890Z"
   },
   {
    "duration": 55,
    "start_time": "2022-05-28T20:41:52.309Z"
   },
   {
    "duration": 43,
    "start_time": "2022-05-28T20:42:01.138Z"
   },
   {
    "duration": 736,
    "start_time": "2022-05-28T20:52:32.683Z"
   },
   {
    "duration": 470,
    "start_time": "2022-05-28T20:52:33.421Z"
   },
   {
    "duration": 3,
    "start_time": "2022-05-28T20:52:33.893Z"
   },
   {
    "duration": 16,
    "start_time": "2022-05-28T20:52:33.898Z"
   },
   {
    "duration": 3225,
    "start_time": "2022-05-28T20:52:33.916Z"
   },
   {
    "duration": 16,
    "start_time": "2022-05-28T20:52:37.143Z"
   },
   {
    "duration": 3985,
    "start_time": "2022-05-28T20:52:37.162Z"
   },
   {
    "duration": 60,
    "start_time": "2022-05-28T20:52:41.150Z"
   },
   {
    "duration": 18,
    "start_time": "2022-05-28T20:52:41.212Z"
   },
   {
    "duration": 25,
    "start_time": "2022-05-28T20:52:41.232Z"
   },
   {
    "duration": 258,
    "start_time": "2022-05-28T20:52:41.259Z"
   },
   {
    "duration": 104,
    "start_time": "2022-05-28T20:52:41.519Z"
   },
   {
    "duration": 383,
    "start_time": "2022-05-28T20:52:41.624Z"
   },
   {
    "duration": 3,
    "start_time": "2022-05-28T20:52:42.010Z"
   },
   {
    "duration": 21672,
    "start_time": "2022-05-28T20:52:42.014Z"
   },
   {
    "duration": 80,
    "start_time": "2022-05-28T20:53:03.687Z"
   },
   {
    "duration": 525,
    "start_time": "2022-05-28T20:53:03.768Z"
   },
   {
    "duration": 3,
    "start_time": "2022-05-28T20:53:04.294Z"
   },
   {
    "duration": 22371,
    "start_time": "2022-05-28T20:53:04.299Z"
   },
   {
    "duration": 92,
    "start_time": "2022-05-28T20:53:26.672Z"
   },
   {
    "duration": 130,
    "start_time": "2022-05-28T20:53:26.766Z"
   },
   {
    "duration": 231,
    "start_time": "2022-05-28T20:53:26.898Z"
   },
   {
    "duration": 281,
    "start_time": "2022-05-28T20:53:27.136Z"
   },
   {
    "duration": 3,
    "start_time": "2022-05-28T20:53:27.418Z"
   },
   {
    "duration": 21135,
    "start_time": "2022-05-28T20:53:27.423Z"
   },
   {
    "duration": 71,
    "start_time": "2022-05-28T20:53:48.560Z"
   },
   {
    "duration": 190,
    "start_time": "2022-05-28T20:53:48.632Z"
   },
   {
    "duration": 713,
    "start_time": "2022-05-28T20:53:48.823Z"
   },
   {
    "duration": 63,
    "start_time": "2022-05-28T20:53:49.541Z"
   },
   {
    "duration": 3,
    "start_time": "2022-05-28T20:53:49.606Z"
   },
   {
    "duration": 23363,
    "start_time": "2022-05-28T20:53:49.611Z"
   },
   {
    "duration": 83,
    "start_time": "2022-05-28T20:54:12.977Z"
   },
   {
    "duration": 119,
    "start_time": "2022-05-28T20:54:13.061Z"
   },
   {
    "duration": 35,
    "start_time": "2022-05-28T20:54:13.181Z"
   },
   {
    "duration": 109,
    "start_time": "2022-05-28T20:54:13.218Z"
   },
   {
    "duration": 395,
    "start_time": "2022-05-28T20:54:13.329Z"
   },
   {
    "duration": 37,
    "start_time": "2022-05-28T20:54:13.726Z"
   },
   {
    "duration": 855,
    "start_time": "2022-05-28T20:54:13.765Z"
   },
   {
    "duration": 533,
    "start_time": "2022-05-28T20:54:14.622Z"
   },
   {
    "duration": 156,
    "start_time": "2022-05-28T20:54:15.157Z"
   },
   {
    "duration": 21,
    "start_time": "2022-05-28T20:55:05.154Z"
   },
   {
    "duration": 864347,
    "start_time": "2022-05-28T20:55:08.905Z"
   },
   {
    "duration": 41,
    "start_time": "2022-05-28T21:10:46.901Z"
   },
   {
    "duration": 4,
    "start_time": "2022-05-31T00:32:45.584Z"
   },
   {
    "duration": 908,
    "start_time": "2022-05-31T00:32:46.046Z"
   },
   {
    "duration": 3,
    "start_time": "2022-05-31T00:32:46.956Z"
   },
   {
    "duration": 3465,
    "start_time": "2022-05-31T00:32:46.961Z"
   },
   {
    "duration": 46,
    "start_time": "2022-05-31T00:32:50.429Z"
   },
   {
    "duration": 11,
    "start_time": "2022-05-31T00:32:50.476Z"
   },
   {
    "duration": 16,
    "start_time": "2022-05-31T00:32:50.488Z"
   },
   {
    "duration": 258,
    "start_time": "2022-05-31T00:32:50.506Z"
   },
   {
    "duration": 86,
    "start_time": "2022-05-31T00:32:50.766Z"
   },
   {
    "duration": 244,
    "start_time": "2022-05-31T00:32:53.106Z"
   },
   {
    "duration": 3,
    "start_time": "2022-05-31T00:32:54.950Z"
   },
   {
    "duration": 19208,
    "start_time": "2022-05-31T00:32:55.313Z"
   },
   {
    "duration": 63,
    "start_time": "2022-05-31T00:33:14.523Z"
   },
   {
    "duration": 462,
    "start_time": "2022-05-31T00:33:16.403Z"
   },
   {
    "duration": 3,
    "start_time": "2022-05-31T00:33:18.456Z"
   },
   {
    "duration": 19868,
    "start_time": "2022-05-31T00:33:18.637Z"
   },
   {
    "duration": 85,
    "start_time": "2022-05-31T00:33:38.508Z"
   },
   {
    "duration": 95,
    "start_time": "2022-05-31T00:33:41.228Z"
   },
   {
    "duration": 177,
    "start_time": "2022-05-31T00:33:43.202Z"
   },
   {
    "duration": 198,
    "start_time": "2022-05-31T00:33:44.403Z"
   },
   {
    "duration": 3,
    "start_time": "2022-05-31T00:33:46.166Z"
   },
   {
    "duration": 19605,
    "start_time": "2022-05-31T00:33:47.577Z"
   },
   {
    "duration": 59,
    "start_time": "2022-05-31T00:34:08.292Z"
   },
   {
    "duration": 148,
    "start_time": "2022-05-31T00:34:10.242Z"
   },
   {
    "duration": 601,
    "start_time": "2022-05-31T00:34:10.782Z"
   },
   {
    "duration": 2460,
    "start_time": "2022-05-31T04:49:08.748Z"
   },
   {
    "duration": 2121,
    "start_time": "2022-05-31T04:49:11.211Z"
   },
   {
    "duration": 1369,
    "start_time": "2022-05-31T04:49:13.334Z"
   },
   {
    "duration": 1175,
    "start_time": "2022-05-31T04:49:14.706Z"
   },
   {
    "duration": 3,
    "start_time": "2022-05-31T04:49:15.883Z"
   },
   {
    "duration": 3294,
    "start_time": "2022-05-31T04:49:15.888Z"
   },
   {
    "duration": 63,
    "start_time": "2022-05-31T04:49:19.184Z"
   },
   {
    "duration": 37,
    "start_time": "2022-05-31T04:49:19.249Z"
   },
   {
    "duration": 40,
    "start_time": "2022-05-31T04:49:19.288Z"
   },
   {
    "duration": 251,
    "start_time": "2022-05-31T04:49:19.331Z"
   },
   {
    "duration": 86,
    "start_time": "2022-05-31T04:49:19.583Z"
   },
   {
    "duration": 254,
    "start_time": "2022-05-31T04:49:19.671Z"
   },
   {
    "duration": 3,
    "start_time": "2022-05-31T04:49:19.926Z"
   },
   {
    "duration": 19529,
    "start_time": "2022-05-31T04:49:19.931Z"
   },
   {
    "duration": 66,
    "start_time": "2022-05-31T04:49:39.462Z"
   },
   {
    "duration": 494,
    "start_time": "2022-05-31T04:49:39.530Z"
   },
   {
    "duration": 3,
    "start_time": "2022-05-31T04:49:40.026Z"
   },
   {
    "duration": 19322,
    "start_time": "2022-05-31T04:49:40.030Z"
   },
   {
    "duration": 78,
    "start_time": "2022-05-31T04:49:59.353Z"
   },
   {
    "duration": 105,
    "start_time": "2022-05-31T04:49:59.432Z"
   },
   {
    "duration": 197,
    "start_time": "2022-05-31T04:49:59.543Z"
   },
   {
    "duration": 244,
    "start_time": "2022-05-31T04:49:59.743Z"
   },
   {
    "duration": 3,
    "start_time": "2022-05-31T04:49:59.989Z"
   },
   {
    "duration": 20214,
    "start_time": "2022-05-31T04:49:59.993Z"
   },
   {
    "duration": 68,
    "start_time": "2022-05-31T04:50:20.208Z"
   },
   {
    "duration": 172,
    "start_time": "2022-05-31T04:50:20.278Z"
   },
   {
    "duration": 671,
    "start_time": "2022-05-31T04:50:20.451Z"
   },
   {
    "duration": 78,
    "start_time": "2022-05-31T04:50:21.125Z"
   },
   {
    "duration": 3,
    "start_time": "2022-05-31T04:50:21.205Z"
   },
   {
    "duration": 19904,
    "start_time": "2022-05-31T04:50:21.210Z"
   },
   {
    "duration": 63,
    "start_time": "2022-05-31T04:50:41.116Z"
   },
   {
    "duration": 100,
    "start_time": "2022-05-31T04:50:41.181Z"
   },
   {
    "duration": 36,
    "start_time": "2022-05-31T04:50:41.283Z"
   },
   {
    "duration": 84,
    "start_time": "2022-05-31T04:50:41.321Z"
   },
   {
    "duration": 374,
    "start_time": "2022-05-31T04:50:41.407Z"
   },
   {
    "duration": 25,
    "start_time": "2022-05-31T04:50:41.782Z"
   },
   {
    "duration": 152,
    "start_time": "2022-05-31T04:54:33.188Z"
   },
   {
    "duration": 47,
    "start_time": "2022-05-31T04:55:14.997Z"
   },
   {
    "duration": 6,
    "start_time": "2022-05-31T04:55:20.390Z"
   },
   {
    "duration": 5,
    "start_time": "2022-05-31T04:55:28.316Z"
   },
   {
    "duration": 34,
    "start_time": "2022-05-31T04:55:38.597Z"
   },
   {
    "duration": 519,
    "start_time": "2022-05-31T04:55:42.406Z"
   },
   {
    "duration": 328,
    "start_time": "2022-05-31T04:56:18.190Z"
   },
   {
    "duration": 9,
    "start_time": "2022-05-31T04:56:34.919Z"
   },
   {
    "duration": 3,
    "start_time": "2022-05-31T04:57:12.214Z"
   },
   {
    "duration": 5,
    "start_time": "2022-05-31T04:57:17.535Z"
   },
   {
    "duration": 6,
    "start_time": "2022-05-31T04:57:24.111Z"
   },
   {
    "duration": 163,
    "start_time": "2022-05-31T04:58:28.740Z"
   },
   {
    "duration": 20,
    "start_time": "2022-05-31T06:09:35.228Z"
   },
   {
    "duration": 53,
    "start_time": "2022-05-31T06:30:08.350Z"
   },
   {
    "duration": 171,
    "start_time": "2022-05-31T06:30:25.640Z"
   },
   {
    "duration": 2,
    "start_time": "2022-05-31T06:30:28.039Z"
   },
   {
    "duration": 7,
    "start_time": "2022-05-31T06:30:29.655Z"
   },
   {
    "duration": 49,
    "start_time": "2022-05-31T06:30:31.815Z"
   },
   {
    "duration": 716,
    "start_time": "2022-05-31T06:30:33.542Z"
   },
   {
    "duration": 435,
    "start_time": "2022-05-31T06:30:36.343Z"
   },
   {
    "duration": 39,
    "start_time": "2022-05-31T06:30:39.072Z"
   },
   {
    "duration": 108727,
    "start_time": "2022-05-31T06:30:52.322Z"
   },
   {
    "duration": 128798,
    "start_time": "2022-05-31T07:28:34.449Z"
   },
   {
    "duration": 40,
    "start_time": "2022-05-31T07:56:30.371Z"
   },
   {
    "duration": 9,
    "start_time": "2022-05-31T07:56:44.577Z"
   },
   {
    "duration": 11,
    "start_time": "2022-05-31T07:57:43.028Z"
   },
   {
    "duration": 27511,
    "start_time": "2022-05-31T15:09:59.158Z"
   }
  ],
  "kernelspec": {
   "display_name": "Python 3",
   "language": "python",
   "name": "python3"
  },
  "language_info": {
   "codemirror_mode": {
    "name": "ipython",
    "version": 3
   },
   "file_extension": ".py",
   "mimetype": "text/x-python",
   "name": "python",
   "nbconvert_exporter": "python",
   "pygments_lexer": "ipython3",
   "version": "3.8.8"
  },
  "toc": {
   "base_numbering": 1,
   "nav_menu": {},
   "number_sections": true,
   "sideBar": true,
   "skip_h1_title": true,
   "title_cell": "Table of Contents",
   "title_sidebar": "Contents",
   "toc_cell": false,
   "toc_position": {
    "height": "calc(100% - 180px)",
    "left": "10px",
    "top": "150px",
    "width": "366.391px"
   },
   "toc_section_display": true,
   "toc_window_display": true
  }
 },
 "nbformat": 4,
 "nbformat_minor": 2
}
