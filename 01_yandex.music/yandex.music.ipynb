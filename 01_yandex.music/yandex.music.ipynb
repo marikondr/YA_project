{
 "cells": [
  {
   "cell_type": "markdown",
   "metadata": {
    "id": "E0vqbgi9ay0H"
   },
   "source": [
    "# Яндекс.Музыка"
   ]
  },
  {
   "cell_type": "markdown",
   "metadata": {
    "id": "VUC88oWjTJw2"
   },
   "source": [
    "Сравнение Москвы и Петербурга окружено мифами. Например:\n",
    " * Москва — мегаполис, подчинённый жёсткому ритму рабочей недели;\n",
    " * Петербург — культурная столица, со своими вкусами.\n",
    "\n",
    "На данных Яндекс.Музыки вы сравните поведение пользователей двух столиц.\n",
    "\n",
    "**Цель исследования** — проверьте три гипотезы:\n",
    "1. Активность пользователей зависит от дня недели. Причём в Москве и Петербурге это проявляется по-разному.\n",
    "2. В понедельник утром в Москве преобладают одни жанры, а в Петербурге — другие. Так же и вечером пятницы преобладают разные жанры — в зависимости от города. \n",
    "3. Москва и Петербург предпочитают разные жанры музыки. В Москве чаще слушают поп-музыку, в Петербурге — русский рэп.\n",
    "\n",
    "**Ход исследования**\n",
    "\n",
    "Данные о поведении пользователей вы получите из файла `yandex_music_project.csv`. О качестве данных ничего не известно. Поэтому перед проверкой гипотез понадобится обзор данных. \n",
    "\n",
    "Вы проверите данные на ошибки и оцените их влияние на исследование. Затем, на этапе предобработки вы поищете возможность исправить самые критичные ошибки данных.\n",
    " \n",
    "Таким образом, исследование пройдёт в три этапа:\n",
    " 1. Обзор данных.\n",
    " 2. Предобработка данных.\n",
    " 3. Проверка гипотез.\n",
    "\n"
   ]
  },
  {
   "cell_type": "markdown",
   "metadata": {
    "id": "Ml1hmfXC_Zcs"
   },
   "source": [
    "## Обзор данных\n",
    "\n",
    "Составьте первое представление о данных Яндекс.Музыки.\n",
    "\n",
    "\n"
   ]
  },
  {
   "cell_type": "markdown",
   "metadata": {
    "id": "57eAOGIz_Zcs"
   },
   "source": [
    "Основной инструмент аналитика — `pandas`. Импортируйте эту библиотеку."
   ]
  },
  {
   "cell_type": "code",
   "execution_count": null,
   "metadata": {
    "id": "AXN7PHPN_Zcs"
   },
   "outputs": [],
   "source": [
    "import pandas as pd"
   ]
  },
  {
   "cell_type": "markdown",
   "metadata": {
    "id": "SG23P8tt_Zcs"
   },
   "source": [
    "Прочитайте файл `yandex_music_project.csv` из папки `/datasets` и сохраните его в переменной `df`:"
   ]
  },
  {
   "cell_type": "code",
   "execution_count": null,
   "metadata": {
    "id": "fFVu7vqh_Zct"
   },
   "outputs": [],
   "source": [
    "df=pd.read_csv('/datasets/yandex_music_project.csv') # чтение файла с данными и сохранение в df"
   ]
  },
  {
   "cell_type": "markdown",
   "metadata": {
    "id": "rDoOMd3uTqnZ"
   },
   "source": [
    "Выведите на экран первые десять строк таблицы:"
   ]
  },
  {
   "cell_type": "code",
   "execution_count": null,
   "metadata": {
    "id": "oWTVX3gW_Zct"
   },
   "outputs": [],
   "source": [
    "df.head(10) # получение первых 10 строк таблицы df"
   ]
  },
  {
   "cell_type": "markdown",
   "metadata": {
    "id": "EO73Kwic_Zct"
   },
   "source": [
    "Одной командой получить общую информацию о таблице:"
   ]
  },
  {
   "cell_type": "code",
   "execution_count": null,
   "metadata": {
    "id": "DSf2kIb-_Zct"
   },
   "outputs": [],
   "source": [
    "df.info() # получение общей информации о данных в таблице df"
   ]
  },
  {
   "cell_type": "markdown",
   "metadata": {
    "id": "TaQ2Iwbr_Zct"
   },
   "source": [
    "Итак, в таблице семь столбцов. Тип данных во всех столбцах — `object`.\n",
    "\n",
    "Согласно документации к данным:\n",
    "* `userID` — идентификатор пользователя;\n",
    "* `Track` — название трека;  \n",
    "* `artist` — имя исполнителя;\n",
    "* `genre` — название жанра;\n",
    "* `City` — город пользователя;\n",
    "* `time` — время начала прослушивания;\n",
    "* `Day` — день недели.\n",
    "\n",
    "В названиях колонок видны три нарушения стиля:\n",
    "1. Строчные буквы сочетаются с прописными.\n",
    "2. Встречаются пробелы.\n",
    "3. Не использован \"змеиный_регистр\"\n",
    "\n",
    "\n",
    "\n",
    "Количество значений в столбцах различается. Значит, в данных есть пропущенные значения.\n"
   ]
  },
  {
   "cell_type": "markdown",
   "metadata": {
    "id": "MCB6-dXG_Zct"
   },
   "source": [
    "**Выводы**\n",
    "\n",
    "В каждой строке таблицы — данные о прослушанном треке. Часть колонок описывает саму композицию: название, исполнителя и жанр. Остальные данные рассказывают о пользователе: из какого он города, когда он слушал музыку. \n",
    "\n",
    "Предварительно можно утверждать, что, данных достаточно для проверки гипотез. Но встречаются пропуски в данных, а в названиях колонок — расхождения с хорошим стилем.\n",
    "\n",
    "Чтобы двигаться дальше, нужно устранить проблемы в данных."
   ]
  },
  {
   "cell_type": "markdown",
   "metadata": {
    "id": "SjYF6Ub9_Zct"
   },
   "source": [
    "## Предобработка данных\n",
    "Исправьте стиль в заголовках столбцов, исключите пропуски. Затем проверьте данные на дубликаты."
   ]
  },
  {
   "cell_type": "markdown",
   "metadata": {
    "id": "dIaKXr29_Zct"
   },
   "source": [
    "### Стиль заголовков\n",
    "Выведите на экран названия столбцов:"
   ]
  },
  {
   "cell_type": "code",
   "execution_count": null,
   "metadata": {
    "id": "oKOTdF_Q_Zct"
   },
   "outputs": [],
   "source": [
    "df.columns # перечень названий столбцов таблицы df"
   ]
  },
  {
   "cell_type": "markdown",
   "metadata": {
    "id": "zj5534cv_Zct"
   },
   "source": [
    "Приведите названия в соответствие с хорошим стилем:\n",
    "* несколько слов в названии запишите в «змеином_регистре»,\n",
    "* все символы сделайте строчными,\n",
    "* устраните пробелы.\n",
    "\n",
    "Для этого переименуйте колонки так:\n",
    "* `'  userID'` → `'user_id'`;\n",
    "* `'Track'` → `'track'`;\n",
    "* `'  City  '` → `'city'`;\n",
    "* `'Day'` → `'day'`."
   ]
  },
  {
   "cell_type": "code",
   "execution_count": null,
   "metadata": {
    "id": "ISlFqs5y_Zct"
   },
   "outputs": [],
   "source": [
    "df=df.rename(columns={'  userID': 'user_id', 'Track': 'track', '  City  ': 'city', 'Day': 'day'}) # переименование столбцов"
   ]
  },
  {
   "cell_type": "markdown",
   "metadata": {
    "id": "1dqbh00J_Zct"
   },
   "source": [
    "Проверьте результат. Для этого ещё раз выведите на экран названия столбцов:"
   ]
  },
  {
   "cell_type": "code",
   "execution_count": null,
   "metadata": {
    "id": "d4NOAmTW_Zct"
   },
   "outputs": [],
   "source": [
    "df.columns # проверка результатов - перечень названий столбцов"
   ]
  },
  {
   "cell_type": "markdown",
   "metadata": {
    "id": "5ISfbcfY_Zct"
   },
   "source": [
    "### Пропуски значений\n",
    "Сначала посчитайте, сколько в таблице пропущенных значений. Для этого достаточно двух методов `pandas`:"
   ]
  },
  {
   "cell_type": "code",
   "execution_count": null,
   "metadata": {
    "id": "RskX29qr_Zct"
   },
   "outputs": [],
   "source": [
    "df.isna().sum() # подсчёт пропусков"
   ]
  },
  {
   "cell_type": "markdown",
   "metadata": {
    "id": "qubhgnlO_Zct"
   },
   "source": [
    "Не все пропущенные значения влияют на исследование. Так в `track` и `artist` пропуски не важны для вашей работы. Достаточно заменить их явными обозначениями.\n",
    "\n",
    "Но пропуски в `genre` могут помешать сравнению музыкальных вкусов в Москве и Санкт-Петербурге. На практике было бы правильно установить причину пропусков и восстановить данные. Такой возможности нет в учебном проекте. Придётся:\n",
    "* заполнить и эти пропуски явными обозначениями,\n",
    "* оценить, насколько они повредят расчётам. "
   ]
  },
  {
   "cell_type": "markdown",
   "metadata": {
    "id": "fSv2laPA_Zct"
   },
   "source": [
    "Замените пропущенные значения в столбцах `track`, `artist` и `genre` на строку `'unknown'`. Для этого создайте список `columns_to_replace`, переберите его элементы циклом `for` и для каждого столбца выполните замену пропущенных значений:"
   ]
  },
  {
   "cell_type": "code",
   "execution_count": null,
   "metadata": {
    "id": "KplB5qWs_Zct"
   },
   "outputs": [],
   "source": [
    "columns_to_replace=['track', 'artist', 'genre'] \n",
    "for columns in columns_to_replace:\n",
    "    df[columns]=df[columns].fillna('unknown') # перебор названий столбцов в цикле и замена пропущенных значений на 'unknown'"
   ]
  },
  {
   "cell_type": "markdown",
   "metadata": {
    "id": "Ilsm-MZo_Zct"
   },
   "source": [
    "Убедитесь, что в таблице не осталось пропусков. Для этого ещё раз посчитайте пропущенные значения."
   ]
  },
  {
   "cell_type": "code",
   "execution_count": null,
   "metadata": {
    "id": "Tq4nYRX4_Zct"
   },
   "outputs": [],
   "source": [
    "df.isna().sum() # подсчёт пропусков"
   ]
  },
  {
   "cell_type": "markdown",
   "metadata": {
    "id": "BWKRtBJ3_Zct"
   },
   "source": [
    "### Дубликаты\n",
    "Посчитайте явные дубликаты в таблице одной командой:"
   ]
  },
  {
   "cell_type": "code",
   "execution_count": null,
   "metadata": {
    "id": "36eES_S0_Zct"
   },
   "outputs": [],
   "source": [
    "df.duplicated().sum() # подсчёт явных дубликатов"
   ]
  },
  {
   "cell_type": "markdown",
   "metadata": {
    "id": "Ot25h6XR_Zct"
   },
   "source": [
    "Вызовите специальный метод `pandas`, чтобы удалить явные дубликаты:"
   ]
  },
  {
   "cell_type": "code",
   "execution_count": null,
   "metadata": {
    "id": "exFHq6tt_Zct"
   },
   "outputs": [],
   "source": [
    "df= df.drop_duplicates().reset_index(drop=True) # удаление явных дубликатов (с удалением старых индексов и формированием новых)"
   ]
  },
  {
   "cell_type": "markdown",
   "metadata": {
    "id": "Im2YwBEG_Zct"
   },
   "source": [
    "Ещё раз посчитайте явные дубликаты в таблице — убедитесь, что полностью от них избавились:"
   ]
  },
  {
   "cell_type": "code",
   "execution_count": null,
   "metadata": {
    "id": "-8PuNWQ0_Zct"
   },
   "outputs": [],
   "source": [
    "df.duplicated().sum() # проверка на отсутствие дубликатов"
   ]
  },
  {
   "cell_type": "markdown",
   "metadata": {
    "id": "QlFBsxAr_Zct"
   },
   "source": [
    "Теперь избавьтесь от неявных дубликатов в колонке `genre`. Например, название одного и того же жанра может быть записано немного по-разному. Такие ошибки тоже повлияют на результат исследования."
   ]
  },
  {
   "cell_type": "markdown",
   "metadata": {
    "id": "eSjWwsOh_Zct"
   },
   "source": [
    "Выведите на экран список уникальных названий жанров, отсортированный в алфавитном порядке. Для этого:\n",
    "* извлеките нужный столбец датафрейма, \n",
    "* примените к нему метод сортировки,\n",
    "* для отсортированного столбца вызовите метод, который вернёт уникальные значения из столбца."
   ]
  },
  {
   "cell_type": "code",
   "execution_count": null,
   "metadata": {
    "id": "JIUcqzZN_Zct"
   },
   "outputs": [],
   "source": [
    "column_genre=df['genre']\n",
    "column_genre.sort_values()\n",
    "sorted(column_genre.unique()) # Просмотр уникальных названий жанров"
   ]
  },
  {
   "cell_type": "markdown",
   "metadata": {
    "id": "qej-Qmuo_Zct"
   },
   "source": [
    "Просмотрите список и найдите неявные дубликаты названия `hiphop`. Это могут быть названия с ошибками или альтернативные названия того же жанра.\n",
    "\n",
    "Вы увидите следующие неявные дубликаты:\n",
    "* *hip*,\n",
    "* *hop*,\n",
    "* *hip-hop*.\n",
    "\n",
    "Чтобы очистить от них таблицу, напишите функцию `replace_wrong_genres()` с двумя параметрами: \n",
    "* `wrong_genres` — список дубликатов,\n",
    "* `correct_genre` — строка с правильным значением.\n",
    "\n",
    "Функция должна исправить колонку `genre` в таблице `df`: заменить каждое значение из списка `wrong_genres` на значение из `correct_genre`."
   ]
  },
  {
   "cell_type": "code",
   "execution_count": null,
   "metadata": {
    "id": "ErNDkmns_Zct"
   },
   "outputs": [],
   "source": [
    "def replace_wrong_genres(wrong_genres, correct_genre):\n",
    "    df['genre']= df['genre'].replace(wrong_genres,correct_genre)\n",
    "    # Функция для замены неявных дубликатов"
   ]
  },
  {
   "cell_type": "markdown",
   "metadata": {
    "id": "aDoBJxbA_Zct"
   },
   "source": [
    "Вызовите `replace_wrong_genres()` и передайте ей такие аргументы, чтобы она устранила неявные дубликаты: вместо `hip`, `hop` и `hip-hop` в таблице должно быть значение `hiphop`:"
   ]
  },
  {
   "cell_type": "code",
   "execution_count": null,
   "metadata": {
    "id": "YN5i2hpmSo09"
   },
   "outputs": [],
   "source": [
    "replace_wrong_genres(('hip','hop', 'hip-hop'),'hiphop') # Устранение неявных дубликатов"
   ]
  },
  {
   "cell_type": "markdown",
   "metadata": {
    "id": "zQKF16_RG15m"
   },
   "source": [
    "Проверьте, что заменили неправильные названия:\n",
    "\n",
    "*   hip\n",
    "*   hop\n",
    "*   hip-hop\n",
    "\n",
    "Выведите отсортированный список уникальных значений столбца `genre`:"
   ]
  },
  {
   "cell_type": "code",
   "execution_count": null,
   "metadata": {
    "id": "wvixALnFG15m"
   },
   "outputs": [],
   "source": [
    "sorted(column_genre.unique()) # Проверка на неявные дубликаты"
   ]
  },
  {
   "cell_type": "markdown",
   "metadata": {
    "id": "jz6a9-7HQUDd"
   },
   "source": [
    "**Выводы**\n",
    "\n",
    "Предобработка обнаружила три проблемы в данных:\n",
    "\n",
    "- нарушения в стиле заголовков,\n",
    "- пропущенные значения,\n",
    "- дубликаты — явные и неявные.\n",
    "\n",
    "Вы исправили заголовки, чтобы упростить работу с таблицей. Без дубликатов исследование станет более точным.\n",
    "\n",
    "Пропущенные значения вы заменили на `'unknown'`. Ещё предстоит увидеть, не повредят ли исследованию пропуски в колонке `genre`.\n",
    "\n",
    "Теперь можно перейти к проверке гипотез. "
   ]
  },
  {
   "cell_type": "markdown",
   "metadata": {
    "id": "WttZHXH0SqKk"
   },
   "source": [
    "## Проверка гипотез"
   ]
  },
  {
   "cell_type": "markdown",
   "metadata": {
    "id": "Im936VVi_Zcu"
   },
   "source": [
    "### Сравнение поведения пользователей двух столиц"
   ]
  },
  {
   "cell_type": "markdown",
   "metadata": {
    "id": "nwt_MuaL_Zcu"
   },
   "source": [
    "Первая гипотеза утверждает, что пользователи по-разному слушают музыку в Москве и Санкт-Петербурге. Проверьте это предположение по данным о трёх днях недели — понедельнике, среде и пятнице. Для этого:\n",
    "\n",
    "* Разделите пользователей Москвы и Санкт-Петербурга\n",
    "* Сравните, сколько треков послушала каждая группа пользователей в понедельник, среду и пятницу.\n"
   ]
  },
  {
   "cell_type": "markdown",
   "metadata": {
    "id": "8Dw_YMmT_Zcu"
   },
   "source": [
    "Для тренировки сначала выполните каждый из расчётов по отдельности. \n",
    "\n",
    "Оцените активность пользователей в каждом городе. Сгруппируйте данные по городу и посчитайте прослушивания в каждой группе.\n",
    "\n"
   ]
  },
  {
   "cell_type": "code",
   "execution_count": null,
   "metadata": {
    "id": "0_Qs96oh_Zcu"
   },
   "outputs": [],
   "source": [
    "df.groupby('city')['track'].count()  # Подсчёт прослушиваний в каждом городе"
   ]
  },
  {
   "cell_type": "markdown",
   "metadata": {
    "id": "dzli3w8o_Zcu"
   },
   "source": [
    "В Москве прослушиваний больше, чем в Петербурге. Из этого не следует, что московские пользователи чаще слушают музыку. Просто самих пользователей в Москве больше.\n",
    "\n",
    "Теперь сгруппируйте данные по дню недели и подсчитайте прослушивания в понедельник, среду и пятницу. Учтите, что в данных есть информация только о прослушиваниях только за эти дни.\n"
   ]
  },
  {
   "cell_type": "code",
   "execution_count": null,
   "metadata": {
    "id": "uZMKjiJz_Zcu"
   },
   "outputs": [],
   "source": [
    "df.groupby('day')['track'].count() # Подсчёт прослушиваний в каждый из трёх дней"
   ]
  },
  {
   "cell_type": "markdown",
   "metadata": {
    "id": "cC2tNrlL_Zcu"
   },
   "source": [
    "В среднем пользователи из двух городов менее активны по средам. Но картина может измениться, если рассмотреть каждый город в отдельности."
   ]
  },
  {
   "cell_type": "markdown",
   "metadata": {
    "id": "POzs8bGa_Zcu"
   },
   "source": [
    "Вы видели, как работает группировка по городу и по дням недели. Теперь напишите функцию, которая объединит два эти расчёта.\n",
    "\n",
    "Создайте функцию `number_tracks()`, которая посчитает прослушивания для заданного дня и города. Ей понадобятся два параметра:\n",
    "* день недели,\n",
    "* название города.\n",
    "\n",
    "В функции сохраните в переменную строки исходной таблицы, у которых значение:\n",
    "  * в колонке `day` равно параметру `day`,\n",
    "  * в колонке `city` равно параметру `city`.\n",
    "\n",
    "Для этого примените последовательную фильтрацию с логической индексацией.\n",
    "\n",
    "Затем посчитайте значения в столбце `user_id` получившейся таблицы. Результат сохраните в новую переменную. Верните эту переменную из функции."
   ]
  },
  {
   "cell_type": "code",
   "execution_count": null,
   "metadata": {
    "id": "Nz3GdQB1_Zcu"
   },
   "outputs": [],
   "source": [
    "def number_tracks(day,city):\n",
    "    # <создание функции number_tracks()> # Объявляется функция с двумя параметрами: day, city.\n",
    "    track_list = df[df['day']== day]  # В переменной track_list сохраняются те строки таблицы df, для которых  # значение в столбце 'day' равно параметру day и одновременно значение\n",
    "    track_list = track_list[track_list['city']== city]  # в столбце 'city' равно параметру city (используйте последовательную фильтрацию # с помощью логической индексации).\n",
    "    track_list_count = track_list['user_id'].count()  # В переменной track_list_count сохраняется число значений столбца 'user_id', # рассчитанное методом count() для таблицы track_list.\n",
    "    return track_list_count  # Функция возвращает число - значение track_list_count.\n",
    "\n",
    "# Функция для подсчёта прослушиваний для конкретного города и дня.\n",
    "# С помощью последовательной фильтрации с логической индексацией она \n",
    "# сначала получит из исходной таблицы строки с нужным днём,\n",
    "# затем из результата отфильтрует строки с нужным городом,\n",
    "# методом count() посчитает количество значений в колонке user_id. \n",
    "# Это количество функция вернёт в качестве результата"
   ]
  },
  {
   "cell_type": "markdown",
   "metadata": {
    "id": "ytf7xFrFJQ2r"
   },
   "source": [
    "Вызовите `number_tracks()` шесть раз, меняя значение параметров — так, чтобы получить данные для каждого города в каждый из трёх дней."
   ]
  },
  {
   "cell_type": "code",
   "execution_count": null,
   "metadata": {
    "id": "rJcRATNQ_Zcu"
   },
   "outputs": [],
   "source": [
    "number_tracks('Monday', 'Moscow') # количество прослушиваний в Москве по понедельникам"
   ]
  },
  {
   "cell_type": "code",
   "execution_count": null,
   "metadata": {
    "id": "hq_ncZ5T_Zcu"
   },
   "outputs": [],
   "source": [
    "number_tracks('Monday', 'Saint-Petersburg') # количество прослушиваний в Санкт-Петербурге по понедельникам"
   ]
  },
  {
   "cell_type": "code",
   "execution_count": null,
   "metadata": {
    "id": "_NTy2VPU_Zcu"
   },
   "outputs": [],
   "source": [
    "number_tracks('Wednesday', 'Moscow') # количество прослушиваний в Москве по средам"
   ]
  },
  {
   "cell_type": "code",
   "execution_count": null,
   "metadata": {
    "id": "j2y3TAwo_Zcu"
   },
   "outputs": [],
   "source": [
    "number_tracks('Wednesday', 'Saint-Petersburg') # количество прослушиваний в Санкт-Петербурге по средам"
   ]
  },
  {
   "cell_type": "code",
   "execution_count": null,
   "metadata": {
    "id": "vYDw5u_K_Zcu"
   },
   "outputs": [],
   "source": [
    "number_tracks('Friday', 'Moscow') # количество прослушиваний в Москве по пятницам"
   ]
  },
  {
   "cell_type": "code",
   "execution_count": null,
   "metadata": {
    "id": "8_yzFtW3_Zcu"
   },
   "outputs": [],
   "source": [
    "number_tracks('Friday', 'Saint-Petersburg') # количество прослушиваний в Санкт-Петербурге по пятницам"
   ]
  },
  {
   "cell_type": "markdown",
   "metadata": {
    "id": "7QXffbO-_Zcu"
   },
   "source": [
    "Создайте c помощью конструктора `pd.DataFrame` таблицу, где\n",
    "* названия колонок — `['city', 'monday', 'wednesday', 'friday']`;\n",
    "* данные — результаты, которые вы получили с помощью `number_tracks`."
   ]
  },
  {
   "cell_type": "code",
   "execution_count": null,
   "metadata": {
    "id": "APAcLpOr_Zcu"
   },
   "outputs": [],
   "source": [
    "data=[['Moscow',15740,11056, 15945], ['Saint-Petersburg',5614, 7003,5895 ]]\n",
    "pd.DataFrame(data = data, columns = ['city', 'monday', 'wednesday', 'friday']) # Таблица с результатами"
   ]
  },
  {
   "cell_type": "markdown",
   "metadata": {
    "id": "-EgPIHYu_Zcu"
   },
   "source": [
    "**Выводы**\n",
    "\n",
    "Данные показывают разницу поведения пользователей:\n",
    "\n",
    "- В Москве пик прослушиваний приходится на понедельник и пятницу, а в среду заметен спад.\n",
    "- В Петербурге, наоборот, больше слушают музыку по средам. Активность в понедельник и пятницу здесь почти в равной мере уступает среде.\n",
    "\n",
    "Значит, данные говорят в пользу первой гипотезы."
   ]
  },
  {
   "cell_type": "markdown",
   "metadata": {
    "id": "atZAxtq4_Zcu"
   },
   "source": [
    "### Музыка в начале и в конце недели"
   ]
  },
  {
   "cell_type": "markdown",
   "metadata": {
    "id": "eXrQqXFH_Zcu"
   },
   "source": [
    "Согласно второй гипотезе, утром в понедельник в Москве преобладают одни жанры, а в Петербурге — другие. Так же и вечером пятницы преобладают разные жанры — в зависимости от города."
   ]
  },
  {
   "cell_type": "markdown",
   "metadata": {
    "id": "S8UcW6Hw_Zcu"
   },
   "source": [
    "Сохраните таблицы с данными в две переменные:\n",
    "* по Москве — в `moscow_general`;\n",
    "* по Санкт-Петербургу — в `spb_general`."
   ]
  },
  {
   "cell_type": "code",
   "execution_count": null,
   "metadata": {
    "id": "qeaFfM_P_Zcu"
   },
   "outputs": [],
   "source": [
    "moscow_general = df[df['city']=='Moscow'] # получение таблицы moscow_general из тех строк таблицы df, \n",
    "# для которых значение в столбце 'city' равно 'Moscow'\n"
   ]
  },
  {
   "cell_type": "code",
   "execution_count": null,
   "metadata": {
    "id": "ORaVRKto_Zcu"
   },
   "outputs": [],
   "source": [
    "spb_general = df[df['city']=='Saint-Petersburg']# получение таблицы spb_general из тех строк таблицы df,\n",
    "# для которых значение в столбце 'city' равно 'Saint-Petersburg'\n"
   ]
  },
  {
   "cell_type": "markdown",
   "metadata": {
    "id": "MEJV-CX2_Zcu"
   },
   "source": [
    "Создайте функцию `genre_weekday()` с четырьмя параметрами:\n",
    "* таблица (датафрейм) с данными,\n",
    "* день недели,\n",
    "* начальная временная метка в формате 'hh:mm', \n",
    "* последняя временная метка в формате 'hh:mm'.\n",
    "\n",
    "Функция должна вернуть информацию о топ-10 жанров тех треков, которые прослушивали в указанный день, в промежутке между двумя отметками времени."
   ]
  },
  {
   "cell_type": "code",
   "execution_count": null,
   "metadata": {
    "id": "laJT9BYl_Zcu"
   },
   "outputs": [],
   "source": [
    "def genre_weekday(table, day, time1, time2): # Объявление функции genre_weekday() с параметрами table, day, time1, time2,\n",
    "    genre_df = table[table['day'] == day]\n",
    "    genre_df = genre_df[genre_df['time'] > time1]\n",
    "    genre_df = genre_df[genre_df['time'] < time2]\n",
    "    genre_df_count = genre_df.groupby('genre')['time'].count()\n",
    "    genre_df_sorted =  genre_df_count.sort_values(ascending=False)\n",
    "    return genre_df_sorted[:10]\n",
    "# которая возвращает информацию о самых популярных жанрах в указанный день в\n",
    "# заданное время:\n",
    "# 1) в переменную genre_df сохраняются те строки переданного датафрейма table, для\n",
    "#    которых одновременно:\n",
    "#    - значение в столбце day равно значению аргумента day\n",
    "#    - значение в столбце time больше значения аргумента time1\n",
    "#    - значение в столбце time меньше значения аргумента time2\n",
    "#    Используйте последовательную фильтрацию с помощью логической индексации.\n",
    "# 2) сгруппировать датафрейм genre_df по столбцу genre, взять один из его\n",
    "#    столбцов и посчитать методом count() количество записей для каждого из\n",
    "#    присутствующих жанров, получившийся Series записать в переменную\n",
    "#    genre_df_count\n",
    "# 3) отсортировать genre_df_count по убыванию встречаемости и сохранить\n",
    "#    в переменную genre_df_sorted\n",
    "# 4) вернуть Series из 10 первых значений genre_df_sorted, это будут топ-10\n",
    "#    популярных жанров (в указанный день, в заданное время)"
   ]
  },
  {
   "cell_type": "markdown",
   "metadata": {
    "id": "la2s2_PF_Zcu"
   },
   "source": [
    "Cравните результаты функции `genre_weekday()` для Москвы и Санкт-Петербурга в понедельник утром (с 7:00 до 11:00) и в пятницу вечером (с 17:00 до 23:00):"
   ]
  },
  {
   "cell_type": "code",
   "execution_count": null,
   "metadata": {
    "id": "yz7itPUQ_Zcu"
   },
   "outputs": [],
   "source": [
    "genre_weekday(moscow_general, 'Monday', '07:00', '11:00') # вызов функции для утра понедельника в Москве (вместо df — таблица moscow_general)\n",
    "# объекты, хранящие время, являются строками и сравниваются как строки\n",
    "# пример вызова: genre_weekday(moscow_general, 'Monday', '07:00', '11:00')"
   ]
  },
  {
   "cell_type": "code",
   "execution_count": null,
   "metadata": {
    "id": "kwUcHPdy_Zcu"
   },
   "outputs": [],
   "source": [
    "genre_weekday (spb_general, 'Monday', '07:00', '11:00') # вызов функции для утра понедельника в Петербурге (вместо df — таблица spb_general)"
   ]
  },
  {
   "cell_type": "code",
   "execution_count": null,
   "metadata": {
    "id": "EzXVRE1o_Zcu"
   },
   "outputs": [],
   "source": [
    "genre_weekday (moscow_general, 'Friday', '17:00', '23:00')# вызов функции для вечера пятницы в Москве"
   ]
  },
  {
   "cell_type": "code",
   "execution_count": null,
   "metadata": {
    "id": "JZaEKu5v_Zcu"
   },
   "outputs": [],
   "source": [
    "genre_weekday (spb_general, 'Friday', '17:00', '23:00')# вызов функции для вечера пятницы в Петербурге"
   ]
  },
  {
   "cell_type": "markdown",
   "metadata": {
    "id": "wrCe4MNX_Zcu"
   },
   "source": [
    "**Выводы**\n",
    "\n",
    "Если сравнить топ-10 жанров в понедельник утром, можно сделать такие выводы:\n",
    "\n",
    "1. В Москве и Петербурге слушают похожую музыку. Единственное отличие — в московский рейтинг вошёл жанр “world”, а в петербургский — джаз и классика.\n",
    "\n",
    "2. В Москве пропущенных значений оказалось так много, что значение `'unknown'` заняло десятое место среди самых популярных жанров. Значит, пропущенные значения занимают существенную долю в данных и угрожают достоверности исследования.\n",
    "\n",
    "Вечер пятницы не меняет эту картину. Некоторые жанры поднимаются немного выше, другие спускаются, но в целом топ-10 остаётся тем же самым.\n",
    "\n",
    "Таким образом, вторая гипотеза подтвердилась лишь частично:\n",
    "* Пользователи слушают похожую музыку в начале недели и в конце.\n",
    "* Разница между Москвой и Петербургом не слишком выражена. В Москве чаще слушают русскую популярную музыку, в Петербурге — джаз.\n",
    "\n",
    "Однако пропуски в данных ставят под сомнение этот результат. В Москве их так много, что рейтинг топ-10 мог бы выглядеть иначе, если бы не утерянные  данные о жанрах."
   ]
  },
  {
   "cell_type": "markdown",
   "metadata": {
    "id": "JolODAqr_Zcu"
   },
   "source": [
    "### Жанровые предпочтения в Москве и Петербурге\n",
    "\n",
    "Гипотеза: Петербург — столица рэпа, музыку этого жанра там слушают чаще, чем в Москве.  А Москва — город контрастов, в котором, тем не менее, преобладает поп-музыка."
   ]
  },
  {
   "cell_type": "markdown",
   "metadata": {
    "id": "DlegSvaT_Zcu"
   },
   "source": [
    "Сгруппируйте таблицу `moscow_general` по жанру и посчитайте прослушивания треков каждого жанра методом `count()`. Затем отсортируйте результат в порядке убывания и сохраните его в таблице `moscow_genres`."
   ]
  },
  {
   "cell_type": "code",
   "execution_count": null,
   "metadata": {
    "id": "r19lIPke_Zcu"
   },
   "outputs": [],
   "source": [
    "moscow_genres = moscow_general.groupby('genre')['genre'].count().sort_values(ascending = False)  # одной строкой: группировка таблицы moscow_general по столбцу 'genre', \n",
    "# подсчёт числа значений 'genre' в этой группировке методом count(), \n",
    "# сортировка получившегося Series в порядке убывания и сохранение в moscow_genres"
   ]
  },
  {
   "cell_type": "markdown",
   "metadata": {
    "id": "6kMuomxTiIr8"
   },
   "source": [
    "Выведите на экран первые десять строк `moscow_genres`:"
   ]
  },
  {
   "cell_type": "code",
   "execution_count": null,
   "metadata": {
    "id": "WhCSooF8_Zcv"
   },
   "outputs": [],
   "source": [
    "moscow_genres.head(10) # просмотр первых 10 строк moscow_genres"
   ]
  },
  {
   "cell_type": "markdown",
   "metadata": {
    "id": "cnPG2vnN_Zcv"
   },
   "source": [
    "Теперь повторите то же и для Петербурга.\n",
    "\n",
    "Сгруппируйте таблицу `spb_general` по жанру. Посчитайте прослушивания треков каждого жанра. Результат отсортируйте в порядке убывания и сохраните в таблице `spb_genres`:\n"
   ]
  },
  {
   "cell_type": "code",
   "execution_count": null,
   "metadata": {
    "id": "gluLIpE7_Zcv"
   },
   "outputs": [],
   "source": [
    "spb_genres = spb_general.groupby('genre')['genre'].count().sort_values(ascending = False) # одной строкой: группировка таблицы spb_general по столбцу 'genre', \n",
    "# подсчёт числа значений 'genre' в этой группировке методом count(), \n",
    "# сортировка получившегося Series в порядке убывания и сохранение в spb_genres"
   ]
  },
  {
   "cell_type": "markdown",
   "metadata": {
    "id": "5Doha_ODgyQ8"
   },
   "source": [
    "Выведите на экран первые десять строк `spb_genres`:"
   ]
  },
  {
   "cell_type": "code",
   "execution_count": null,
   "metadata": {
    "id": "uaGJHjVU_Zcv"
   },
   "outputs": [],
   "source": [
    "spb_genres.head(10) # просмотр первых 10 строк spb_genres"
   ]
  },
  {
   "cell_type": "markdown",
   "metadata": {
    "id": "RY51YJYu_Zcv"
   },
   "source": [
    "**Выводы**"
   ]
  },
  {
   "cell_type": "markdown",
   "metadata": {
    "id": "nVhnJEm__Zcv"
   },
   "source": [
    "Гипотеза частично подтвердилась:\n",
    "* Поп-музыка — самый популярный жанр в Москве, как и предполагала гипотеза. Более того, в топ-10 жанров встречается близкий жанр — русская популярная музыка.\n",
    "* Вопреки ожиданиям, рэп одинаково популярен в Москве и Петербурге. \n"
   ]
  },
  {
   "cell_type": "markdown",
   "metadata": {
    "id": "ykKQ0N65_Zcv"
   },
   "source": [
    "## Итоги исследования"
   ]
  },
  {
   "cell_type": "markdown",
   "metadata": {
    "id": "tjUwbHb3_Zcv"
   },
   "source": [
    "Вы проверили три гипотезы и установили:\n",
    "\n",
    "1. День недели по-разному влияет на активность пользователей в Москве и Петербурге. \n",
    "\n",
    "Первая гипотеза полностью подтвердилась.\n",
    "\n",
    "2. Музыкальные предпочтения не сильно меняются в течение недели — будь то Москва или Петербург. Небольшие различия заметны в начале недели, по понедельникам:\n",
    "* в Москве слушают музыку жанра “world”,\n",
    "* в Петербурге — джаз и классику.\n",
    "\n",
    "Таким образом, вторая гипотеза подтвердилась лишь отчасти. Этот результат мог оказаться иным, если бы не пропуски в данных.\n",
    "\n",
    "3. Во вкусах пользователей Москвы и Петербурга больше общего чем различий. Вопреки ожиданиям, предпочтения жанров в Петербурге напоминают московские.\n",
    "\n",
    "Третья гипотеза не подтвердилась. Если различия в предпочтениях и существуют, на основной массе пользователей они незаметны.\n",
    "\n",
    "**На практике исследования содержат проверки статистических гипотез.**\n",
    "Из данных одного сервиса не всегда можно сделать вывод о всех жителях города.\n",

   ]
  }
 ],
 "metadata": {
  "ExecuteTimeLog": [
   {
    "duration": 734,
    "start_time": "2021-12-28T08:10:41.937Z"
   },
   {
    "duration": 186,
    "start_time": "2021-12-28T08:14:50.671Z"
   },
   {
    "duration": 26,
    "start_time": "2021-12-28T08:15:14.559Z"
   },
   {
    "duration": 32,
    "start_time": "2021-12-28T08:16:18.880Z"
   },
   {
    "duration": 5,
    "start_time": "2021-12-28T08:53:53.953Z"
   },
   {
    "duration": 23,
    "start_time": "2021-12-28T08:58:44.461Z"
   },
   {
    "duration": 5,
    "start_time": "2021-12-28T08:59:04.890Z"
   },
   {
    "duration": 28,
    "start_time": "2021-12-28T14:41:21.673Z"
   },
   {
    "duration": 360,
    "start_time": "2021-12-28T14:52:15.566Z"
   },
   {
    "duration": 511,
    "start_time": "2021-12-28T14:52:45.279Z"
   },
   {
    "duration": 7245,
    "start_time": "2021-12-28T14:52:49.433Z"
   },
   {
    "duration": 22,
    "start_time": "2021-12-28T14:54:01.396Z"
   },
   {
    "duration": 31,
    "start_time": "2021-12-28T14:55:04.244Z"
   },
   {
    "duration": 93,
    "start_time": "2021-12-28T14:57:40.239Z"
   },
   {
    "duration": 90,
    "start_time": "2021-12-28T14:58:34.210Z"
   },
   {
    "duration": 75,
    "start_time": "2021-12-28T14:59:30.330Z"
   },
   {
    "duration": 271,
    "start_time": "2021-12-28T15:03:04.407Z"
   },
   {
    "duration": 10,
    "start_time": "2021-12-28T15:03:12.533Z"
   },
   {
    "duration": 363,
    "start_time": "2021-12-28T15:07:07.607Z"
   },
   {
    "duration": 97,
    "start_time": "2021-12-28T15:07:27.043Z"
   },
   {
    "duration": 378,
    "start_time": "2021-12-28T15:09:13.165Z"
   },
   {
    "duration": 302,
    "start_time": "2021-12-28T15:09:28.637Z"
   },
   {
    "duration": 76,
    "start_time": "2021-12-28T15:09:34.165Z"
   },
   {
    "duration": 297,
    "start_time": "2021-12-28T15:09:59.193Z"
   },
   {
    "duration": 339,
    "start_time": "2021-12-28T15:10:04.494Z"
   },
   {
    "duration": 83,
    "start_time": "2021-12-28T15:10:10.519Z"
   },
   {
    "duration": 72,
    "start_time": "2021-12-28T15:10:59.061Z"
   },
   {
    "duration": 67,
    "start_time": "2021-12-28T15:11:10.335Z"
   },
   {
    "duration": 75,
    "start_time": "2021-12-28T15:11:14.519Z"
   },
   {
    "duration": 68,
    "start_time": "2021-12-28T15:11:26.967Z"
   },
   {
    "duration": 61,
    "start_time": "2021-12-28T15:11:50.280Z"
   },
   {
    "duration": 56,
    "start_time": "2021-12-28T15:12:00.792Z"
   },
   {
    "duration": 54,
    "start_time": "2021-12-28T15:13:23.074Z"
   },
   {
    "duration": 55,
    "start_time": "2021-12-28T15:13:46.625Z"
   },
   {
    "duration": 53,
    "start_time": "2021-12-28T15:14:49.931Z"
   },
   {
    "duration": 61,
    "start_time": "2021-12-28T15:15:11.987Z"
   },
   {
    "duration": 302,
    "start_time": "2021-12-28T15:16:43.965Z"
   },
   {
    "duration": 325,
    "start_time": "2021-12-28T15:16:50.922Z"
   },
   {
    "duration": 96,
    "start_time": "2021-12-28T15:17:00.303Z"
   },
   {
    "duration": 54,
    "start_time": "2021-12-28T15:20:02.337Z"
   },
   {
    "duration": 64,
    "start_time": "2021-12-28T15:21:19.810Z"
   },
   {
    "duration": 4,
    "start_time": "2021-12-28T15:31:56.528Z"
   },
   {
    "duration": 4,
    "start_time": "2021-12-28T15:33:56.984Z"
   },
   {
    "duration": 14,
    "start_time": "2021-12-28T15:35:23.906Z"
   },
   {
    "duration": 15,
    "start_time": "2021-12-28T15:35:53.602Z"
   },
   {
    "duration": 6,
    "start_time": "2021-12-28T15:45:52.607Z"
   },
   {
    "duration": 40,
    "start_time": "2021-12-28T15:47:18.040Z"
   },
   {
    "duration": 16,
    "start_time": "2021-12-28T15:48:45.315Z"
   },
   {
    "duration": 41,
    "start_time": "2021-12-28T15:48:54.481Z"
   },
   {
    "duration": 16,
    "start_time": "2021-12-28T15:49:04.906Z"
   },
   {
    "duration": 15,
    "start_time": "2021-12-28T15:50:46.925Z"
   },
   {
    "duration": 5,
    "start_time": "2021-12-28T16:04:02.541Z"
   },
   {
    "duration": 4106,
    "start_time": "2021-12-28T16:05:34.910Z"
   },
   {
    "duration": 5,
    "start_time": "2021-12-28T16:06:08.244Z"
   },
   {
    "duration": 4271,
    "start_time": "2021-12-28T16:06:11.262Z"
   },
   {
    "duration": 3919,
    "start_time": "2021-12-28T16:06:16.645Z"
   },
   {
    "duration": 5,
    "start_time": "2021-12-28T16:06:51.568Z"
   },
   {
    "duration": 14,
    "start_time": "2021-12-28T16:06:54.101Z"
   },
   {
    "duration": 14,
    "start_time": "2021-12-28T16:07:28.717Z"
   },
   {
    "duration": 5,
    "start_time": "2021-12-28T16:08:30.863Z"
   },
   {
    "duration": 30,
    "start_time": "2021-12-28T16:08:34.414Z"
   },
   {
    "duration": 24,
    "start_time": "2021-12-28T16:08:36.126Z"
   },
   {
    "duration": 4,
    "start_time": "2021-12-28T16:09:21.305Z"
   },
   {
    "duration": 591,
    "start_time": "2021-12-28T16:09:23.576Z"
   },
   {
    "duration": 4,
    "start_time": "2021-12-28T16:12:22.422Z"
   },
   {
    "duration": 4178,
    "start_time": "2021-12-28T16:12:25.484Z"
   },
   {
    "duration": 5,
    "start_time": "2021-12-28T16:13:39.212Z"
   },
   {
    "duration": 610,
    "start_time": "2021-12-28T16:13:41.820Z"
   },
   {
    "duration": 5,
    "start_time": "2021-12-28T16:14:07.760Z"
   },
   {
    "duration": 4260,
    "start_time": "2021-12-28T16:14:09.565Z"
   },
   {
    "duration": 4,
    "start_time": "2021-12-28T16:14:25.897Z"
   },
   {
    "duration": 27,
    "start_time": "2021-12-28T16:14:35.142Z"
   },
   {
    "duration": 4,
    "start_time": "2021-12-28T16:16:59.135Z"
   },
   {
    "duration": 5067,
    "start_time": "2021-12-28T16:17:01.650Z"
   },
   {
    "duration": 4,
    "start_time": "2021-12-28T16:17:25.690Z"
   },
   {
    "duration": 6,
    "start_time": "2021-12-28T16:18:18.146Z"
   },
   {
    "duration": 3813,
    "start_time": "2021-12-28T16:18:21.579Z"
   },
   {
    "duration": 6,
    "start_time": "2021-12-28T16:18:32.858Z"
   },
   {
    "duration": 4007,
    "start_time": "2021-12-28T16:18:35.475Z"
   },
   {
    "duration": 5,
    "start_time": "2021-12-28T16:19:09.484Z"
   },
   {
    "duration": 8175,
    "start_time": "2021-12-28T16:19:11.699Z"
   },
   {
    "duration": 5,
    "start_time": "2021-12-28T16:19:31.116Z"
   },
   {
    "duration": 5,
    "start_time": "2021-12-28T16:20:25.261Z"
   },
   {
    "duration": 22,
    "start_time": "2021-12-28T16:20:26.494Z"
   },
   {
    "duration": 19,
    "start_time": "2021-12-28T16:20:28.766Z"
   },
   {
    "duration": 18,
    "start_time": "2021-12-28T16:20:51.861Z"
   },
   {
    "duration": 26,
    "start_time": "2021-12-28T16:21:00.853Z"
   },
   {
    "duration": 21,
    "start_time": "2021-12-28T16:21:16.805Z"
   },
   {
    "duration": 19,
    "start_time": "2021-12-28T16:21:27.477Z"
   },
   {
    "duration": 295,
    "start_time": "2021-12-28T16:24:22.937Z"
   },
   {
    "duration": 275,
    "start_time": "2021-12-28T16:24:26.361Z"
   },
   {
    "duration": 1018,
    "start_time": "2021-12-28T16:24:47.778Z"
   },
   {
    "duration": 372,
    "start_time": "2021-12-28T16:25:01.435Z"
   },
   {
    "duration": 328,
    "start_time": "2021-12-28T16:25:44.650Z"
   },
   {
    "duration": 300,
    "start_time": "2021-12-28T16:26:12.892Z"
   },
   {
    "duration": 318,
    "start_time": "2021-12-28T16:26:43.868Z"
   },
   {
    "duration": 312,
    "start_time": "2021-12-28T16:26:57.725Z"
   },
   {
    "duration": 280,
    "start_time": "2021-12-28T16:31:53.076Z"
   },
   {
    "duration": 300,
    "start_time": "2021-12-28T16:34:14.554Z"
   },
   {
    "duration": 14,
    "start_time": "2021-12-28T19:14:08.483Z"
   },
   {
    "duration": 14,
    "start_time": "2021-12-28T19:16:06.591Z"
   },
   {
    "duration": 16,
    "start_time": "2021-12-28T19:16:24.178Z"
   },
   {
    "duration": 6,
    "start_time": "2021-12-28T19:28:45.170Z"
   },
   {
    "duration": 28,
    "start_time": "2021-12-28T19:31:38.608Z"
   },
   {
    "duration": 31,
    "start_time": "2021-12-28T19:31:48.387Z"
   },
   {
    "duration": 20,
    "start_time": "2021-12-28T19:31:58.924Z"
   },
   {
    "duration": 5,
    "start_time": "2021-12-28T19:32:30.804Z"
   },
   {
    "duration": 29,
    "start_time": "2021-12-28T19:32:33.582Z"
   },
   {
    "duration": 7,
    "start_time": "2021-12-28T19:32:36.837Z"
   },
   {
    "duration": 7,
    "start_time": "2021-12-28T19:32:55.669Z"
   },
   {
    "duration": 1120,
    "start_time": "2021-12-28T19:32:58.110Z"
   },
   {
    "duration": 6,
    "start_time": "2021-12-28T19:33:25.487Z"
   },
   {
    "duration": 29,
    "start_time": "2021-12-28T19:33:32.239Z"
   },
   {
    "duration": 6,
    "start_time": "2021-12-28T19:34:30.544Z"
   },
   {
    "duration": 47,
    "start_time": "2021-12-28T19:34:33.067Z"
   },
   {
    "duration": 6,
    "start_time": "2021-12-28T19:35:23.376Z"
   },
   {
    "duration": 625,
    "start_time": "2021-12-28T19:35:25.737Z"
   },
   {
    "duration": 6,
    "start_time": "2021-12-28T19:35:56.752Z"
   },
   {
    "duration": 614,
    "start_time": "2021-12-28T19:35:59.712Z"
   },
   {
    "duration": 6,
    "start_time": "2021-12-28T19:36:05.393Z"
   },
   {
    "duration": 32,
    "start_time": "2021-12-28T19:36:07.656Z"
   },
   {
    "duration": 24,
    "start_time": "2021-12-28T19:36:10.208Z"
   },
   {
    "duration": 28,
    "start_time": "2021-12-28T19:36:54.241Z"
   },
   {
    "duration": 21,
    "start_time": "2021-12-28T19:36:56.662Z"
   },
   {
    "duration": 7,
    "start_time": "2021-12-28T19:37:23.170Z"
   },
   {
    "duration": 31,
    "start_time": "2021-12-28T19:37:26.037Z"
   },
   {
    "duration": 5,
    "start_time": "2021-12-28T19:38:36.268Z"
   },
   {
    "duration": 723,
    "start_time": "2021-12-28T19:38:39.411Z"
   },
   {
    "duration": 6,
    "start_time": "2021-12-28T19:38:45.527Z"
   },
   {
    "duration": 570,
    "start_time": "2021-12-28T19:38:49.619Z"
   },
   {
    "duration": 5,
    "start_time": "2021-12-28T19:39:19.092Z"
   },
   {
    "duration": 579,
    "start_time": "2021-12-28T19:39:21.485Z"
   },
   {
    "duration": 6,
    "start_time": "2021-12-28T19:39:31.172Z"
   },
   {
    "duration": 6,
    "start_time": "2021-12-28T19:42:16.177Z"
   },
   {
    "duration": 592,
    "start_time": "2021-12-28T19:42:18.154Z"
   },
   {
    "duration": 6,
    "start_time": "2021-12-28T19:42:29.063Z"
   },
   {
    "duration": 583,
    "start_time": "2021-12-28T19:42:31.927Z"
   },
   {
    "duration": 6,
    "start_time": "2021-12-28T19:45:08.131Z"
   },
   {
    "duration": 756,
    "start_time": "2021-12-28T19:45:10.363Z"
   },
   {
    "duration": 7,
    "start_time": "2021-12-28T19:46:37.125Z"
   },
   {
    "duration": 29,
    "start_time": "2021-12-28T19:46:39.806Z"
   },
   {
    "duration": 6,
    "start_time": "2021-12-28T19:47:35.805Z"
   },
   {
    "duration": 24,
    "start_time": "2021-12-28T19:47:37.757Z"
   },
   {
    "duration": 24,
    "start_time": "2021-12-28T19:47:42.934Z"
   },
   {
    "duration": 26,
    "start_time": "2021-12-28T19:48:52.717Z"
   },
   {
    "duration": 6,
    "start_time": "2021-12-28T19:48:55.694Z"
   },
   {
    "duration": 598,
    "start_time": "2021-12-28T19:48:57.877Z"
   },
   {
    "duration": 6,
    "start_time": "2021-12-28T19:49:15.548Z"
   },
   {
    "duration": 34,
    "start_time": "2021-12-28T19:49:18.335Z"
   },
   {
    "duration": 5,
    "start_time": "2021-12-28T19:49:56.903Z"
   },
   {
    "duration": 24,
    "start_time": "2021-12-28T19:49:59.428Z"
   },
   {
    "duration": 30,
    "start_time": "2021-12-28T19:50:02.839Z"
   },
   {
    "duration": 7,
    "start_time": "2021-12-28T19:50:19.825Z"
   },
   {
    "duration": 32,
    "start_time": "2021-12-28T19:51:09.745Z"
   },
   {
    "duration": 15,
    "start_time": "2021-12-28T19:51:18.322Z"
   },
   {
    "duration": 29,
    "start_time": "2021-12-28T19:51:20.956Z"
   },
   {
    "duration": 16,
    "start_time": "2021-12-28T19:54:12.756Z"
   },
   {
    "duration": 19,
    "start_time": "2021-12-28T19:54:17.092Z"
   },
   {
    "duration": 23,
    "start_time": "2021-12-28T19:54:25.508Z"
   },
   {
    "duration": 15,
    "start_time": "2021-12-28T19:54:38.293Z"
   },
   {
    "duration": 5,
    "start_time": "2021-12-28T19:55:07.694Z"
   },
   {
    "duration": 38,
    "start_time": "2021-12-28T19:55:10.424Z"
   },
   {
    "duration": 34,
    "start_time": "2021-12-28T19:55:49.093Z"
   },
   {
    "duration": 6,
    "start_time": "2021-12-28T19:56:05.479Z"
   },
   {
    "duration": 38,
    "start_time": "2021-12-28T19:56:07.888Z"
   },
   {
    "duration": 30,
    "start_time": "2021-12-28T19:56:11.839Z"
   },
   {
    "duration": 29,
    "start_time": "2021-12-28T19:56:14.687Z"
   },
   {
    "duration": 27,
    "start_time": "2021-12-28T19:56:17.303Z"
   },
   {
    "duration": 5,
    "start_time": "2021-12-28T19:58:00.066Z"
   },
   {
    "duration": 618,
    "start_time": "2021-12-28T19:58:02.489Z"
   },
   {
    "duration": 5,
    "start_time": "2021-12-28T19:58:08.921Z"
   },
   {
    "duration": 33,
    "start_time": "2021-12-28T19:58:11.300Z"
   },
   {
    "duration": 6,
    "start_time": "2021-12-28T20:03:23.689Z"
   },
   {
    "duration": 603,
    "start_time": "2021-12-28T20:03:26.183Z"
   },
   {
    "duration": 8,
    "start_time": "2021-12-28T20:05:06.746Z"
   },
   {
    "duration": 24,
    "start_time": "2021-12-28T20:05:08.632Z"
   },
   {
    "duration": 18,
    "start_time": "2021-12-28T20:05:21.777Z"
   },
   {
    "duration": 23,
    "start_time": "2021-12-28T20:05:24.130Z"
   },
   {
    "duration": 18,
    "start_time": "2021-12-28T20:05:26.497Z"
   },
   {
    "duration": 5,
    "start_time": "2021-12-28T20:07:12.915Z"
   },
   {
    "duration": 23,
    "start_time": "2021-12-28T20:07:16.026Z"
   },
   {
    "duration": 25,
    "start_time": "2021-12-28T20:07:19.829Z"
   },
   {
    "duration": 7,
    "start_time": "2021-12-28T20:07:24.339Z"
   },
   {
    "duration": 24,
    "start_time": "2021-12-28T20:07:26.784Z"
   },
   {
    "duration": 17,
    "start_time": "2021-12-28T20:07:34.659Z"
   },
   {
    "duration": 6,
    "start_time": "2021-12-28T20:07:40.427Z"
   },
   {
    "duration": 22,
    "start_time": "2021-12-28T20:07:51.412Z"
   },
   {
    "duration": 17,
    "start_time": "2021-12-28T20:07:54.020Z"
   },
   {
    "duration": 16,
    "start_time": "2021-12-28T20:11:02.483Z"
   },
   {
    "duration": 7,
    "start_time": "2021-12-28T20:11:16.983Z"
   },
   {
    "duration": 9,
    "start_time": "2021-12-28T20:12:18.202Z"
   },
   {
    "duration": 7,
    "start_time": "2021-12-28T20:12:30.842Z"
   },
   {
    "duration": 790,
    "start_time": "2021-12-29T18:32:33.436Z"
   },
   {
    "duration": 188,
    "start_time": "2021-12-29T18:32:34.230Z"
   },
   {
    "duration": 34,
    "start_time": "2021-12-29T18:32:34.421Z"
   },
   {
    "duration": 32,
    "start_time": "2021-12-29T18:32:34.457Z"
   },
   {
    "duration": 32,
    "start_time": "2021-12-29T18:32:34.491Z"
   },
   {
    "duration": 28,
    "start_time": "2021-12-29T18:32:34.525Z"
   },
   {
    "duration": 8,
    "start_time": "2021-12-29T18:32:34.556Z"
   },
   {
    "duration": 59,
    "start_time": "2021-12-29T18:32:34.570Z"
   },
   {
    "duration": 26,
    "start_time": "2021-12-29T18:32:34.632Z"
   },
   {
    "duration": 59,
    "start_time": "2021-12-29T18:32:34.660Z"
   },
   {
    "duration": 94,
    "start_time": "2021-12-29T18:32:34.725Z"
   },
   {
    "duration": 121,
    "start_time": "2021-12-29T18:32:34.821Z"
   },
   {
    "duration": 92,
    "start_time": "2021-12-29T18:32:34.944Z"
   },
   {
    "duration": 61,
    "start_time": "2021-12-29T18:32:35.038Z"
   },
   {
    "duration": 6,
    "start_time": "2021-12-29T18:32:35.119Z"
   },
   {
    "duration": 25,
    "start_time": "2021-12-29T18:32:35.127Z"
   },
   {
    "duration": 15,
    "start_time": "2021-12-29T18:32:35.154Z"
   },
   {
    "duration": 16,
    "start_time": "2021-12-29T18:32:35.171Z"
   },
   {
    "duration": 21,
    "start_time": "2021-12-29T18:32:35.218Z"
   },
   {
    "duration": 4,
    "start_time": "2021-12-29T18:32:35.242Z"
   },
   {
    "duration": 44,
    "start_time": "2021-12-29T18:32:35.249Z"
   },
   {
    "duration": 35,
    "start_time": "2021-12-29T18:32:35.296Z"
   },
   {
    "duration": 26,
    "start_time": "2021-12-29T18:32:35.338Z"
   },
   {
    "duration": 55,
    "start_time": "2021-12-29T18:32:35.367Z"
   },
   {
    "duration": 30,
    "start_time": "2021-12-29T18:32:35.424Z"
   },
   {
    "duration": 21,
    "start_time": "2021-12-29T18:32:35.456Z"
   },
   {
    "duration": 44,
    "start_time": "2021-12-29T18:32:35.479Z"
   },
   {
    "duration": 18,
    "start_time": "2021-12-29T18:32:35.527Z"
   },
   {
    "duration": 12,
    "start_time": "2021-12-29T18:32:35.547Z"
   },
   {
    "duration": 5,
    "start_time": "2021-12-29T18:32:35.562Z"
   },
   {
    "duration": 65,
    "start_time": "2021-12-29T18:32:35.570Z"
   },
   {
    "duration": 17,
    "start_time": "2021-12-29T18:32:35.637Z"
   },
   {
    "duration": 21,
    "start_time": "2021-12-29T18:32:35.656Z"
   },
   {
    "duration": 52,
    "start_time": "2021-12-29T18:32:35.680Z"
   },
   {
    "duration": 10,
    "start_time": "2021-12-29T18:32:35.735Z"
   },
   {
    "duration": 6,
    "start_time": "2021-12-29T18:32:35.747Z"
   },
   {
    "duration": 12,
    "start_time": "2021-12-29T18:32:35.755Z"
   },
   {
    "duration": 6,
    "start_time": "2021-12-29T18:32:35.769Z"
   },
   {
    "duration": 423,
    "start_time": "2021-12-29T20:56:14.266Z"
   },
   {
    "duration": 766,
    "start_time": "2021-12-29T20:56:31.593Z"
   },
   {
    "duration": 183,
    "start_time": "2021-12-29T20:56:33.712Z"
   },
   {
    "duration": 26,
    "start_time": "2021-12-29T20:56:35.722Z"
   },
   {
    "duration": 33,
    "start_time": "2021-12-29T20:56:39.574Z"
   },
   {
    "duration": 5,
    "start_time": "2021-12-29T20:56:43.817Z"
   },
   {
    "duration": 503,
    "start_time": "2021-12-29T20:59:04.260Z"
   },
   {
    "duration": 5,
    "start_time": "2021-12-29T21:00:20.292Z"
   },
   {
    "duration": 27,
    "start_time": "2021-12-29T21:00:23.045Z"
   },
   {
    "duration": 6,
    "start_time": "2021-12-29T21:00:46.989Z"
   },
   {
    "duration": 33,
    "start_time": "2021-12-29T21:00:49.669Z"
   },
   {
    "duration": 33,
    "start_time": "2021-12-29T21:00:52.676Z"
   },
   {
    "duration": 29,
    "start_time": "2021-12-29T21:00:57.219Z"
   },
   {
    "duration": 84,
    "start_time": "2021-12-29T21:01:04.540Z"
   },
   {
    "duration": 96,
    "start_time": "2021-12-29T21:01:10.228Z"
   },
   {
    "duration": 76,
    "start_time": "2021-12-29T21:01:12.100Z"
   },
   {
    "duration": 70,
    "start_time": "2021-12-29T21:02:04.089Z"
   },
   {
    "duration": 3,
    "start_time": "2021-12-29T21:02:13.742Z"
   },
   {
    "duration": 126,
    "start_time": "2021-12-29T21:02:33.014Z"
   },
   {
    "duration": 145,
    "start_time": "2021-12-29T21:03:16.049Z"
   },
   {
    "duration": 10,
    "start_time": "2021-12-29T21:04:12.113Z"
   },
   {
    "duration": 14,
    "start_time": "2021-12-29T21:04:14.327Z"
   },
   {
    "duration": 24,
    "start_time": "2021-12-29T21:04:22.712Z"
   },
   {
    "duration": 21,
    "start_time": "2021-12-29T21:04:25.448Z"
   },
   {
    "duration": 5,
    "start_time": "2021-12-29T21:04:28.185Z"
   },
   {
    "duration": 22,
    "start_time": "2021-12-29T21:04:30.831Z"
   },
   {
    "duration": 19,
    "start_time": "2021-12-29T21:04:33.306Z"
   },
   {
    "duration": 19,
    "start_time": "2021-12-29T21:04:35.353Z"
   },
   {
    "duration": 19,
    "start_time": "2021-12-29T21:04:37.359Z"
   },
   {
    "duration": 21,
    "start_time": "2021-12-29T21:04:39.391Z"
   },
   {
    "duration": 20,
    "start_time": "2021-12-29T21:04:41.161Z"
   },
   {
    "duration": 12,
    "start_time": "2021-12-29T21:04:45.922Z"
   },
   {
    "duration": 15,
    "start_time": "2021-12-29T21:04:55.092Z"
   },
   {
    "duration": 12,
    "start_time": "2021-12-29T21:04:56.795Z"
   },
   {
    "duration": 6,
    "start_time": "2021-12-29T21:04:58.800Z"
   },
   {
    "duration": 35,
    "start_time": "2021-12-29T21:05:21.146Z"
   },
   {
    "duration": 18,
    "start_time": "2021-12-29T21:05:23.560Z"
   },
   {
    "duration": 21,
    "start_time": "2021-12-29T21:05:27.275Z"
   },
   {
    "duration": 18,
    "start_time": "2021-12-29T21:05:32.208Z"
   },
   {
    "duration": 26,
    "start_time": "2021-12-29T21:06:17.345Z"
   },
   {
    "duration": 18,
    "start_time": "2021-12-29T21:06:19.562Z"
   },
   {
    "duration": 12,
    "start_time": "2021-12-29T21:06:41.971Z"
   },
   {
    "duration": 6,
    "start_time": "2021-12-29T21:06:44.146Z"
   },
   {
    "duration": 9,
    "start_time": "2021-12-29T21:06:46.417Z"
   },
   {
    "duration": 7,
    "start_time": "2021-12-29T21:06:48.842Z"
   },
   {
    "duration": 578,
    "start_time": "2021-12-30T05:56:55.410Z"
   },
   {
    "duration": 133,
    "start_time": "2021-12-30T05:56:55.991Z"
   },
   {
    "duration": 16,
    "start_time": "2021-12-30T05:56:56.127Z"
   },
   {
    "duration": 31,
    "start_time": "2021-12-30T05:56:56.145Z"
   },
   {
    "duration": 14,
    "start_time": "2021-12-30T05:56:56.178Z"
   },
   {
    "duration": 32,
    "start_time": "2021-12-30T05:56:56.194Z"
   },
   {
    "duration": 4,
    "start_time": "2021-12-30T05:56:56.228Z"
   },
   {
    "duration": 31,
    "start_time": "2021-12-30T05:56:56.233Z"
   },
   {
    "duration": 16,
    "start_time": "2021-12-30T05:56:56.267Z"
   },
   {
    "duration": 22,
    "start_time": "2021-12-30T05:56:56.291Z"
   },
   {
    "duration": 59,
    "start_time": "2021-12-30T05:56:56.315Z"
   },
   {
    "duration": 76,
    "start_time": "2021-12-30T05:56:56.375Z"
   },
   {
    "duration": 67,
    "start_time": "2021-12-30T05:56:56.453Z"
   },
   {
    "duration": 44,
    "start_time": "2021-12-30T05:56:56.522Z"
   },
   {
    "duration": 3,
    "start_time": "2021-12-30T05:56:56.568Z"
   },
   {
    "duration": 11,
    "start_time": "2021-12-30T05:56:56.592Z"
   },
   {
    "duration": 11,
    "start_time": "2021-12-30T05:56:56.605Z"
   },
   {
    "duration": 11,
    "start_time": "2021-12-30T05:56:56.617Z"
   },
   {
    "duration": 11,
    "start_time": "2021-12-30T05:56:56.630Z"
   },
   {
    "duration": 3,
    "start_time": "2021-12-30T05:56:56.642Z"
   },
   {
    "duration": 44,
    "start_time": "2021-12-30T05:56:56.647Z"
   },
   {
    "duration": 14,
    "start_time": "2021-12-30T05:56:56.693Z"
   },
   {
    "duration": 14,
    "start_time": "2021-12-30T05:56:56.709Z"
   },
   {
    "duration": 12,
    "start_time": "2021-12-30T05:56:56.724Z"
   },
   {
    "duration": 15,
    "start_time": "2021-12-30T05:56:56.737Z"
   },
   {
    "duration": 44,
    "start_time": "2021-12-30T05:56:56.754Z"
   },
   {
    "duration": 8,
    "start_time": "2021-12-30T05:56:56.801Z"
   },
   {
    "duration": 14,
    "start_time": "2021-12-30T05:56:56.811Z"
   },
   {
    "duration": 9,
    "start_time": "2021-12-30T05:56:56.826Z"
   },
   {
    "duration": 3,
    "start_time": "2021-12-30T05:56:56.837Z"
   },
   {
    "duration": 25,
    "start_time": "2021-12-30T05:56:56.842Z"
   },
   {
    "duration": 33,
    "start_time": "2021-12-30T05:56:56.868Z"
   },
   {
    "duration": 16,
    "start_time": "2021-12-30T05:56:56.902Z"
   },
   {
    "duration": 12,
    "start_time": "2021-12-30T05:56:56.920Z"
   },
   {
    "duration": 7,
    "start_time": "2021-12-30T05:56:56.933Z"
   },
   {
    "duration": 4,
    "start_time": "2021-12-30T05:56:56.942Z"
   },
   {
    "duration": 43,
    "start_time": "2021-12-30T05:56:56.948Z"
   },
   {
    "duration": 4,
    "start_time": "2021-12-30T05:56:56.993Z"
   }
  ],
  "colab": {
   "collapsed_sections": [
    "E0vqbgi9ay0H",
    "VUC88oWjTJw2"
   ],
   "name": "yandex_music_project_2021.2.ipynb",
   "provenance": []
  },
  "kernelspec": {
   "display_name": "Python 3",
   "language": "python",
   "name": "python3"
  },
  "language_info": {
   "codemirror_mode": {
    "name": "ipython",
    "version": 3
   },
   "file_extension": ".py",
   "mimetype": "text/x-python",
   "name": "python",
   "nbconvert_exporter": "python",
   "pygments_lexer": "ipython3",
   "version": "3.8.8"
  },
  "toc": {
   "base_numbering": 1,
   "nav_menu": {},
   "number_sections": false,
   "sideBar": true,
   "skip_h1_title": false,
   "title_cell": "Table of Contents",
   "title_sidebar": "Contents",
   "toc_cell": false,
   "toc_position": {
    "height": "calc(100% - 180px)",
    "left": "10px",
    "top": "150px",
    "width": "331.391px"
   },
   "toc_section_display": true,
   "toc_window_display": true
  }
 },
 "nbformat": 4,
 "nbformat_minor": 1
}
