{
 "cells": [
  {
   "cell_type": "markdown",
   "metadata": {
    "id": "E0vqbgi9ay0H"
   },
   "source": [
    "# Яндекс.Музыка"
   ]
  },
  {
   "cell_type": "markdown",
   "metadata": {
    "id": "VUC88oWjTJw2"
   },
   "source": [
    "Сравнение Москвы и Петербурга окружено мифами. Например:\n",
    " * Москва — мегаполис, подчинённый жёсткому ритму рабочей недели;\n",
    " * Петербург — культурная столица, со своими вкусами.\n",
    "\n",
    "На данных Яндекс.Музыки сравнить поведение пользователей двух столиц.\n",
    "\n",
    "**Цель исследования** — проверить три гипотезы:\n",
    "1. Активность пользователей зависит от дня недели. Причём в Москве и Петербурге это проявляется по-разному.\n",
    "2. В понедельник утром в Москве преобладают одни жанры, а в Петербурге — другие. Так же и вечером пятницы преобладают разные жанры — в зависимости от города. \n",
    "3. Москва и Петербург предпочитают разные жанры музыки. В Москве чаще слушают поп-музыку, в Петербурге — русский рэп."
   ]
  },
  {
   "cell_type": "markdown",
   "metadata": {
    "id": "Ml1hmfXC_Zcs"
   },
   "source": [
    "## Обзор данных"
   ]
  },
  {
   "cell_type": "markdown",
   "metadata": {
    "id": "57eAOGIz_Zcs"
   },
   "source": [
    "Импорт необходимых библиотек."
   ]
  },
  {
   "cell_type": "code",
   "execution_count": 3,
   "metadata": {
    "id": "AXN7PHPN_Zcs"
   },
   "outputs": [],
   "source": [
    "import pandas as pd"
   ]
  },
  {
   "cell_type": "code",
   "execution_count": 4,
   "metadata": {
    "id": "fFVu7vqh_Zct"
   },
   "outputs": [],
   "source": [
    "df=pd.read_csv('/datasets/yandex_music_project.csv') # чтение файла с данными и сохранение в df"
   ]
  },
  {
   "cell_type": "code",
   "execution_count": 5,
   "metadata": {
    "id": "oWTVX3gW_Zct"
   },
   "outputs": [
    {
     "data": {
      "text/html": [
       "<div>\n",
       "<style scoped>\n",
       "    .dataframe tbody tr th:only-of-type {\n",
       "        vertical-align: middle;\n",
       "    }\n",
       "\n",
       "    .dataframe tbody tr th {\n",
       "        vertical-align: top;\n",
       "    }\n",
       "\n",
       "    .dataframe thead th {\n",
       "        text-align: right;\n",
       "    }\n",
       "</style>\n",
       "<table border=\"1\" class=\"dataframe\">\n",
       "  <thead>\n",
       "    <tr style=\"text-align: right;\">\n",
       "      <th></th>\n",
       "      <th>userID</th>\n",
       "      <th>Track</th>\n",
       "      <th>artist</th>\n",
       "      <th>genre</th>\n",
       "      <th>City</th>\n",
       "      <th>time</th>\n",
       "      <th>Day</th>\n",
       "    </tr>\n",
       "  </thead>\n",
       "  <tbody>\n",
       "    <tr>\n",
       "      <th>0</th>\n",
       "      <td>FFB692EC</td>\n",
       "      <td>Kamigata To Boots</td>\n",
       "      <td>The Mass Missile</td>\n",
       "      <td>rock</td>\n",
       "      <td>Saint-Petersburg</td>\n",
       "      <td>20:28:33</td>\n",
       "      <td>Wednesday</td>\n",
       "    </tr>\n",
       "    <tr>\n",
       "      <th>1</th>\n",
       "      <td>55204538</td>\n",
       "      <td>Delayed Because of Accident</td>\n",
       "      <td>Andreas Rönnberg</td>\n",
       "      <td>rock</td>\n",
       "      <td>Moscow</td>\n",
       "      <td>14:07:09</td>\n",
       "      <td>Friday</td>\n",
       "    </tr>\n",
       "    <tr>\n",
       "      <th>2</th>\n",
       "      <td>20EC38</td>\n",
       "      <td>Funiculì funiculà</td>\n",
       "      <td>Mario Lanza</td>\n",
       "      <td>pop</td>\n",
       "      <td>Saint-Petersburg</td>\n",
       "      <td>20:58:07</td>\n",
       "      <td>Wednesday</td>\n",
       "    </tr>\n",
       "    <tr>\n",
       "      <th>3</th>\n",
       "      <td>A3DD03C9</td>\n",
       "      <td>Dragons in the Sunset</td>\n",
       "      <td>Fire + Ice</td>\n",
       "      <td>folk</td>\n",
       "      <td>Saint-Petersburg</td>\n",
       "      <td>08:37:09</td>\n",
       "      <td>Monday</td>\n",
       "    </tr>\n",
       "    <tr>\n",
       "      <th>4</th>\n",
       "      <td>E2DC1FAE</td>\n",
       "      <td>Soul People</td>\n",
       "      <td>Space Echo</td>\n",
       "      <td>dance</td>\n",
       "      <td>Moscow</td>\n",
       "      <td>08:34:34</td>\n",
       "      <td>Monday</td>\n",
       "    </tr>\n",
       "    <tr>\n",
       "      <th>5</th>\n",
       "      <td>842029A1</td>\n",
       "      <td>Преданная</td>\n",
       "      <td>IMPERVTOR</td>\n",
       "      <td>rusrap</td>\n",
       "      <td>Saint-Petersburg</td>\n",
       "      <td>13:09:41</td>\n",
       "      <td>Friday</td>\n",
       "    </tr>\n",
       "    <tr>\n",
       "      <th>6</th>\n",
       "      <td>4CB90AA5</td>\n",
       "      <td>True</td>\n",
       "      <td>Roman Messer</td>\n",
       "      <td>dance</td>\n",
       "      <td>Moscow</td>\n",
       "      <td>13:00:07</td>\n",
       "      <td>Wednesday</td>\n",
       "    </tr>\n",
       "    <tr>\n",
       "      <th>7</th>\n",
       "      <td>F03E1C1F</td>\n",
       "      <td>Feeling This Way</td>\n",
       "      <td>Polina Griffith</td>\n",
       "      <td>dance</td>\n",
       "      <td>Moscow</td>\n",
       "      <td>20:47:49</td>\n",
       "      <td>Wednesday</td>\n",
       "    </tr>\n",
       "    <tr>\n",
       "      <th>8</th>\n",
       "      <td>8FA1D3BE</td>\n",
       "      <td>И вновь продолжается бой</td>\n",
       "      <td>NaN</td>\n",
       "      <td>ruspop</td>\n",
       "      <td>Moscow</td>\n",
       "      <td>09:17:40</td>\n",
       "      <td>Friday</td>\n",
       "    </tr>\n",
       "    <tr>\n",
       "      <th>9</th>\n",
       "      <td>E772D5C0</td>\n",
       "      <td>Pessimist</td>\n",
       "      <td>NaN</td>\n",
       "      <td>dance</td>\n",
       "      <td>Saint-Petersburg</td>\n",
       "      <td>21:20:49</td>\n",
       "      <td>Wednesday</td>\n",
       "    </tr>\n",
       "  </tbody>\n",
       "</table>\n",
       "</div>"
      ],
      "text/plain": [
       "     userID                        Track            artist   genre  \\\n",
       "0  FFB692EC            Kamigata To Boots  The Mass Missile    rock   \n",
       "1  55204538  Delayed Because of Accident  Andreas Rönnberg    rock   \n",
       "2    20EC38            Funiculì funiculà       Mario Lanza     pop   \n",
       "3  A3DD03C9        Dragons in the Sunset        Fire + Ice    folk   \n",
       "4  E2DC1FAE                  Soul People        Space Echo   dance   \n",
       "5  842029A1                    Преданная         IMPERVTOR  rusrap   \n",
       "6  4CB90AA5                         True      Roman Messer   dance   \n",
       "7  F03E1C1F             Feeling This Way   Polina Griffith   dance   \n",
       "8  8FA1D3BE     И вновь продолжается бой               NaN  ruspop   \n",
       "9  E772D5C0                    Pessimist               NaN   dance   \n",
       "\n",
       "             City        time        Day  \n",
       "0  Saint-Petersburg  20:28:33  Wednesday  \n",
       "1            Moscow  14:07:09     Friday  \n",
       "2  Saint-Petersburg  20:58:07  Wednesday  \n",
       "3  Saint-Petersburg  08:37:09     Monday  \n",
       "4            Moscow  08:34:34     Monday  \n",
       "5  Saint-Petersburg  13:09:41     Friday  \n",
       "6            Moscow  13:00:07  Wednesday  \n",
       "7            Moscow  20:47:49  Wednesday  \n",
       "8            Moscow  09:17:40     Friday  \n",
       "9  Saint-Petersburg  21:20:49  Wednesday  "
      ]
     },
     "execution_count": 5,
     "metadata": {},
     "output_type": "execute_result"
    }
   ],
   "source": [
    "df.head(10) # получение первых 10 строк таблицы df"
   ]
  },
  {
   "cell_type": "code",
   "execution_count": 6,
   "metadata": {
    "id": "DSf2kIb-_Zct"
   },
   "outputs": [
    {
     "name": "stdout",
     "output_type": "stream",
     "text": [
      "<class 'pandas.core.frame.DataFrame'>\n",
      "RangeIndex: 65079 entries, 0 to 65078\n",
      "Data columns (total 7 columns):\n",
      " #   Column    Non-Null Count  Dtype \n",
      "---  ------    --------------  ----- \n",
      " 0     userID  65079 non-null  object\n",
      " 1   Track     63848 non-null  object\n",
      " 2   artist    57876 non-null  object\n",
      " 3   genre     63881 non-null  object\n",
      " 4     City    65079 non-null  object\n",
      " 5   time      65079 non-null  object\n",
      " 6   Day       65079 non-null  object\n",
      "dtypes: object(7)\n",
      "memory usage: 3.5+ MB\n"
     ]
    }
   ],
   "source": [
    "df.info() # получение общей информации о данных в таблице df"
   ]
  },
  {
   "cell_type": "markdown",
   "metadata": {
    "id": "TaQ2Iwbr_Zct"
   },
   "source": [
    "Итак, в таблице семь столбцов. Тип данных во всех столбцах — `object`.\n",
    "\n",
    "Согласно документации к данным:\n",
    "* `userID` — идентификатор пользователя;\n",
    "* `Track` — название трека;  \n",
    "* `artist` — имя исполнителя;\n",
    "* `genre` — название жанра;\n",
    "* `City` — город пользователя;\n",
    "* `time` — время начала прослушивания;\n",
    "* `Day` — день недели.\n",
    "\n",
    "В названиях колонок видны три нарушения стиля:\n",
    "1. Строчные буквы сочетаются с прописными.\n",
    "2. Встречаются пробелы.\n",
    "3. Не использован \"змеиный_регистр\"\n",
    "\n",
    "\n",
    "\n",
    "Количество значений в столбцах различается. Значит, в данных есть пропущенные значения.\n"
   ]
  },
  {
   "cell_type": "markdown",
   "metadata": {
    "id": "MCB6-dXG_Zct"
   },
   "source": [
    "**Выводы**\n",
    "\n",
    "В каждой строке таблицы — данные о прослушанном треке. Часть колонок описывает саму композицию: название, исполнителя и жанр. Остальные данные рассказывают о пользователе: из какого он города, когда он слушал музыку. \n",
    "\n",
    "Предварительно можно утверждать, что, данных достаточно для проверки гипотез. Но встречаются пропуски в данных, а в названиях колонок — расхождения с хорошим стилем.\n",
    "\n",
    "Чтобы двигаться дальше, нужно устранить проблемы в данных."
   ]
  },
  {
   "cell_type": "markdown",
   "metadata": {
    "id": "SjYF6Ub9_Zct"
   },
   "source": [
    "## Предобработка данных\n"
   ]
  },
  {
   "cell_type": "markdown",
   "metadata": {
    "id": "dIaKXr29_Zct"
   },
   "source": [
    "### Стиль заголовков\n"
   ]
  },
  {
   "cell_type": "code",
   "execution_count": 7,
   "metadata": {
    "id": "oKOTdF_Q_Zct"
   },
   "outputs": [
    {
     "data": {
      "text/plain": [
       "Index(['  userID', 'Track', 'artist', 'genre', '  City  ', 'time', 'Day'], dtype='object')"
      ]
     },
     "execution_count": 7,
     "metadata": {},
     "output_type": "execute_result"
    }
   ],
   "source": [
    "df.columns # перечень названий столбцов таблицы df"
   ]
  },
  {
   "cell_type": "code",
   "execution_count": 8,
   "metadata": {
    "id": "ISlFqs5y_Zct"
   },
   "outputs": [],
   "source": [
    "df=df.rename(columns={'  userID': 'user_id', 'Track': 'track', '  City  ': 'city', 'Day': 'day'}) # переименование столбцов"
   ]
  },
  {
   "cell_type": "code",
   "execution_count": 9,
   "metadata": {
    "id": "d4NOAmTW_Zct"
   },
   "outputs": [
    {
     "data": {
      "text/plain": [
       "Index(['user_id', 'track', 'artist', 'genre', 'city', 'time', 'day'], dtype='object')"
      ]
     },
     "execution_count": 9,
     "metadata": {},
     "output_type": "execute_result"
    }
   ],
   "source": [
    "df.columns # проверка результатов - перечень названий столбцов"
   ]
  },
  {
   "cell_type": "markdown",
   "metadata": {
    "id": "5ISfbcfY_Zct"
   },
   "source": [
    "### Пропуски значений"
   ]
  },
  {
   "cell_type": "code",
   "execution_count": 10,
   "metadata": {
    "id": "RskX29qr_Zct"
   },
   "outputs": [
    {
     "data": {
      "text/plain": [
       "user_id       0\n",
       "track      1231\n",
       "artist     7203\n",
       "genre      1198\n",
       "city          0\n",
       "time          0\n",
       "day           0\n",
       "dtype: int64"
      ]
     },
     "execution_count": 10,
     "metadata": {},
     "output_type": "execute_result"
    }
   ],
   "source": [
    "df.isna().sum() # подсчёт пропусков"
   ]
  },
  {
   "cell_type": "markdown",
   "metadata": {
    "id": "qubhgnlO_Zct"
   },
   "source": [
    "Не все пропущенные значения влияют на исследование. Так в `track` и `artist` пропуски не важны для нашей работы. Достаточно заменить их явными обозначениями.\n",
    "\n",
    "Но пропуски в `genre` могут помешать сравнению музыкальных вкусов в Москве и Санкт-Петербурге. На практике было бы правильно установить причину пропусков и восстановить данные. Такой возможности нет в учебном проекте. Придётся:\n",
    "* заполнить и эти пропуски явными обозначениями,\n",
    "* оценить, насколько они повредят расчётам. "
   ]
  },
  {
   "cell_type": "code",
   "execution_count": 11,
   "metadata": {
    "id": "KplB5qWs_Zct"
   },
   "outputs": [],
   "source": [
    "columns_to_replace=['track', 'artist', 'genre'] \n",
    "for columns in columns_to_replace:\n",
    "    df[columns]=df[columns].fillna('unknown') # перебор названий столбцов в цикле и замена пропущенных значений на 'unknown'"
   ]
  },
  {
   "cell_type": "code",
   "execution_count": 12,
   "metadata": {
    "id": "Tq4nYRX4_Zct"
   },
   "outputs": [
    {
     "data": {
      "text/plain": [
       "user_id    0\n",
       "track      0\n",
       "artist     0\n",
       "genre      0\n",
       "city       0\n",
       "time       0\n",
       "day        0\n",
       "dtype: int64"
      ]
     },
     "execution_count": 12,
     "metadata": {},
     "output_type": "execute_result"
    }
   ],
   "source": [
    "df.isna().sum() # подсчёт пропусков"
   ]
  },
  {
   "cell_type": "markdown",
   "metadata": {
    "id": "BWKRtBJ3_Zct"
   },
   "source": [
    "### Дубликаты"
   ]
  },
  {
   "cell_type": "code",
   "execution_count": 13,
   "metadata": {
    "id": "36eES_S0_Zct"
   },
   "outputs": [
    {
     "data": {
      "text/plain": [
       "3826"
      ]
     },
     "execution_count": 13,
     "metadata": {},
     "output_type": "execute_result"
    }
   ],
   "source": [
    "df.duplicated().sum() # подсчёт явных дубликатов"
   ]
  },
  {
   "cell_type": "code",
   "execution_count": 14,
   "metadata": {
    "id": "exFHq6tt_Zct"
   },
   "outputs": [],
   "source": [
    "df= df.drop_duplicates().reset_index(drop=True) # удаление явных дубликатов (с удалением старых индексов и формированием новых)"
   ]
  },
  {
   "cell_type": "code",
   "execution_count": 15,
   "metadata": {
    "id": "-8PuNWQ0_Zct"
   },
   "outputs": [
    {
     "data": {
      "text/plain": [
       "0"
      ]
     },
     "execution_count": 15,
     "metadata": {},
     "output_type": "execute_result"
    }
   ],
   "source": [
    "df.duplicated().sum() # проверка на отсутствие дубликатов"
   ]
  },
  {
   "cell_type": "code",
   "execution_count": 16,
   "metadata": {
    "id": "JIUcqzZN_Zct"
   },
   "outputs": [
    {
     "data": {
      "text/plain": [
       "['acid',\n",
       " 'acoustic',\n",
       " 'action',\n",
       " 'adult',\n",
       " 'africa',\n",
       " 'afrikaans',\n",
       " 'alternative',\n",
       " 'alternativepunk',\n",
       " 'ambient',\n",
       " 'americana',\n",
       " 'animated',\n",
       " 'anime',\n",
       " 'arabesk',\n",
       " 'arabic',\n",
       " 'arena',\n",
       " 'argentinetango',\n",
       " 'art',\n",
       " 'audiobook',\n",
       " 'author',\n",
       " 'avantgarde',\n",
       " 'axé',\n",
       " 'baile',\n",
       " 'balkan',\n",
       " 'beats',\n",
       " 'bigroom',\n",
       " 'black',\n",
       " 'bluegrass',\n",
       " 'blues',\n",
       " 'bollywood',\n",
       " 'bossa',\n",
       " 'brazilian',\n",
       " 'breakbeat',\n",
       " 'breaks',\n",
       " 'broadway',\n",
       " 'cantautori',\n",
       " 'cantopop',\n",
       " 'canzone',\n",
       " 'caribbean',\n",
       " 'caucasian',\n",
       " 'celtic',\n",
       " 'chamber',\n",
       " 'chanson',\n",
       " 'children',\n",
       " 'chill',\n",
       " 'chinese',\n",
       " 'choral',\n",
       " 'christian',\n",
       " 'christmas',\n",
       " 'classical',\n",
       " 'classicmetal',\n",
       " 'club',\n",
       " 'colombian',\n",
       " 'comedy',\n",
       " 'conjazz',\n",
       " 'contemporary',\n",
       " 'country',\n",
       " 'cuban',\n",
       " 'dance',\n",
       " 'dancehall',\n",
       " 'dancepop',\n",
       " 'dark',\n",
       " 'death',\n",
       " 'deep',\n",
       " 'deutschrock',\n",
       " 'deutschspr',\n",
       " 'dirty',\n",
       " 'disco',\n",
       " 'dnb',\n",
       " 'documentary',\n",
       " 'downbeat',\n",
       " 'downtempo',\n",
       " 'drum',\n",
       " 'dub',\n",
       " 'dubstep',\n",
       " 'eastern',\n",
       " 'easy',\n",
       " 'electronic',\n",
       " 'electropop',\n",
       " 'emo',\n",
       " 'entehno',\n",
       " 'epicmetal',\n",
       " 'estrada',\n",
       " 'ethnic',\n",
       " 'eurofolk',\n",
       " 'european',\n",
       " 'experimental',\n",
       " 'extrememetal',\n",
       " 'fado',\n",
       " 'fairytail',\n",
       " 'film',\n",
       " 'fitness',\n",
       " 'flamenco',\n",
       " 'folk',\n",
       " 'folklore',\n",
       " 'folkmetal',\n",
       " 'folkrock',\n",
       " 'folktronica',\n",
       " 'forró',\n",
       " 'frankreich',\n",
       " 'französisch',\n",
       " 'french',\n",
       " 'funk',\n",
       " 'future',\n",
       " 'gangsta',\n",
       " 'garage',\n",
       " 'german',\n",
       " 'ghazal',\n",
       " 'gitarre',\n",
       " 'glitch',\n",
       " 'gospel',\n",
       " 'gothic',\n",
       " 'grime',\n",
       " 'grunge',\n",
       " 'gypsy',\n",
       " 'handsup',\n",
       " \"hard'n'heavy\",\n",
       " 'hardcore',\n",
       " 'hardstyle',\n",
       " 'hardtechno',\n",
       " 'hip',\n",
       " 'hip-hop',\n",
       " 'hiphop',\n",
       " 'historisch',\n",
       " 'holiday',\n",
       " 'hop',\n",
       " 'horror',\n",
       " 'house',\n",
       " 'hymn',\n",
       " 'idm',\n",
       " 'independent',\n",
       " 'indian',\n",
       " 'indie',\n",
       " 'indipop',\n",
       " 'industrial',\n",
       " 'inspirational',\n",
       " 'instrumental',\n",
       " 'international',\n",
       " 'irish',\n",
       " 'jam',\n",
       " 'japanese',\n",
       " 'jazz',\n",
       " 'jewish',\n",
       " 'jpop',\n",
       " 'jungle',\n",
       " 'k-pop',\n",
       " 'karadeniz',\n",
       " 'karaoke',\n",
       " 'kayokyoku',\n",
       " 'korean',\n",
       " 'laiko',\n",
       " 'latin',\n",
       " 'latino',\n",
       " 'leftfield',\n",
       " 'local',\n",
       " 'lounge',\n",
       " 'loungeelectronic',\n",
       " 'lovers',\n",
       " 'malaysian',\n",
       " 'mandopop',\n",
       " 'marschmusik',\n",
       " 'meditative',\n",
       " 'mediterranean',\n",
       " 'melodic',\n",
       " 'metal',\n",
       " 'metalcore',\n",
       " 'mexican',\n",
       " 'middle',\n",
       " 'minimal',\n",
       " 'miscellaneous',\n",
       " 'modern',\n",
       " 'mood',\n",
       " 'mpb',\n",
       " 'muslim',\n",
       " 'native',\n",
       " 'neoklassik',\n",
       " 'neue',\n",
       " 'new',\n",
       " 'newage',\n",
       " 'newwave',\n",
       " 'nu',\n",
       " 'nujazz',\n",
       " 'numetal',\n",
       " 'oceania',\n",
       " 'old',\n",
       " 'opera',\n",
       " 'orchestral',\n",
       " 'other',\n",
       " 'piano',\n",
       " 'podcasts',\n",
       " 'pop',\n",
       " 'popdance',\n",
       " 'popelectronic',\n",
       " 'popeurodance',\n",
       " 'poprussian',\n",
       " 'post',\n",
       " 'posthardcore',\n",
       " 'postrock',\n",
       " 'power',\n",
       " 'progmetal',\n",
       " 'progressive',\n",
       " 'psychedelic',\n",
       " 'punjabi',\n",
       " 'punk',\n",
       " 'quebecois',\n",
       " 'ragga',\n",
       " 'ram',\n",
       " 'rancheras',\n",
       " 'rap',\n",
       " 'rave',\n",
       " 'reggae',\n",
       " 'reggaeton',\n",
       " 'regional',\n",
       " 'relax',\n",
       " 'religious',\n",
       " 'retro',\n",
       " 'rhythm',\n",
       " 'rnb',\n",
       " 'rnr',\n",
       " 'rock',\n",
       " 'rockabilly',\n",
       " 'rockalternative',\n",
       " 'rockindie',\n",
       " 'rockother',\n",
       " 'romance',\n",
       " 'roots',\n",
       " 'ruspop',\n",
       " 'rusrap',\n",
       " 'rusrock',\n",
       " 'russian',\n",
       " 'salsa',\n",
       " 'samba',\n",
       " 'scenic',\n",
       " 'schlager',\n",
       " 'self',\n",
       " 'sertanejo',\n",
       " 'shanson',\n",
       " 'shoegazing',\n",
       " 'showtunes',\n",
       " 'singer',\n",
       " 'ska',\n",
       " 'skarock',\n",
       " 'slow',\n",
       " 'smooth',\n",
       " 'soft',\n",
       " 'soul',\n",
       " 'soulful',\n",
       " 'sound',\n",
       " 'soundtrack',\n",
       " 'southern',\n",
       " 'specialty',\n",
       " 'speech',\n",
       " 'spiritual',\n",
       " 'sport',\n",
       " 'stonerrock',\n",
       " 'surf',\n",
       " 'swing',\n",
       " 'synthpop',\n",
       " 'synthrock',\n",
       " 'sängerportrait',\n",
       " 'tango',\n",
       " 'tanzorchester',\n",
       " 'taraftar',\n",
       " 'tatar',\n",
       " 'tech',\n",
       " 'techno',\n",
       " 'teen',\n",
       " 'thrash',\n",
       " 'top',\n",
       " 'traditional',\n",
       " 'tradjazz',\n",
       " 'trance',\n",
       " 'tribal',\n",
       " 'trip',\n",
       " 'triphop',\n",
       " 'tropical',\n",
       " 'türk',\n",
       " 'türkçe',\n",
       " 'ukrrock',\n",
       " 'unknown',\n",
       " 'urban',\n",
       " 'uzbek',\n",
       " 'variété',\n",
       " 'vi',\n",
       " 'videogame',\n",
       " 'vocal',\n",
       " 'western',\n",
       " 'world',\n",
       " 'worldbeat',\n",
       " 'ïîï',\n",
       " 'электроника']"
      ]
     },
     "execution_count": 16,
     "metadata": {},
     "output_type": "execute_result"
    }
   ],
   "source": [
    "column_genre=df['genre']\n",
    "column_genre.sort_values()\n",
    "sorted(column_genre.unique()) # Просмотр уникальных названий жанров"
   ]
  },
  {
   "cell_type": "code",
   "execution_count": 17,
   "metadata": {
    "id": "ErNDkmns_Zct"
   },
   "outputs": [],
   "source": [
    "def replace_wrong_genres(wrong_genres, correct_genre):\n",
    "    df['genre']= df['genre'].replace(wrong_genres,correct_genre)\n",
    "    # Функция для замены неявных дубликатов"
   ]
  },
  {
   "cell_type": "code",
   "execution_count": 18,
   "metadata": {
    "id": "YN5i2hpmSo09"
   },
   "outputs": [],
   "source": [
    "replace_wrong_genres(('hip','hop', 'hip-hop'),'hiphop') # Устранение неявных дубликатов"
   ]
  },
  {
   "cell_type": "code",
   "execution_count": 19,
   "metadata": {
    "id": "wvixALnFG15m"
   },
   "outputs": [
    {
     "data": {
      "text/plain": [
       "['acid',\n",
       " 'acoustic',\n",
       " 'action',\n",
       " 'adult',\n",
       " 'africa',\n",
       " 'afrikaans',\n",
       " 'alternative',\n",
       " 'alternativepunk',\n",
       " 'ambient',\n",
       " 'americana',\n",
       " 'animated',\n",
       " 'anime',\n",
       " 'arabesk',\n",
       " 'arabic',\n",
       " 'arena',\n",
       " 'argentinetango',\n",
       " 'art',\n",
       " 'audiobook',\n",
       " 'author',\n",
       " 'avantgarde',\n",
       " 'axé',\n",
       " 'baile',\n",
       " 'balkan',\n",
       " 'beats',\n",
       " 'bigroom',\n",
       " 'black',\n",
       " 'bluegrass',\n",
       " 'blues',\n",
       " 'bollywood',\n",
       " 'bossa',\n",
       " 'brazilian',\n",
       " 'breakbeat',\n",
       " 'breaks',\n",
       " 'broadway',\n",
       " 'cantautori',\n",
       " 'cantopop',\n",
       " 'canzone',\n",
       " 'caribbean',\n",
       " 'caucasian',\n",
       " 'celtic',\n",
       " 'chamber',\n",
       " 'chanson',\n",
       " 'children',\n",
       " 'chill',\n",
       " 'chinese',\n",
       " 'choral',\n",
       " 'christian',\n",
       " 'christmas',\n",
       " 'classical',\n",
       " 'classicmetal',\n",
       " 'club',\n",
       " 'colombian',\n",
       " 'comedy',\n",
       " 'conjazz',\n",
       " 'contemporary',\n",
       " 'country',\n",
       " 'cuban',\n",
       " 'dance',\n",
       " 'dancehall',\n",
       " 'dancepop',\n",
       " 'dark',\n",
       " 'death',\n",
       " 'deep',\n",
       " 'deutschrock',\n",
       " 'deutschspr',\n",
       " 'dirty',\n",
       " 'disco',\n",
       " 'dnb',\n",
       " 'documentary',\n",
       " 'downbeat',\n",
       " 'downtempo',\n",
       " 'drum',\n",
       " 'dub',\n",
       " 'dubstep',\n",
       " 'eastern',\n",
       " 'easy',\n",
       " 'electronic',\n",
       " 'electropop',\n",
       " 'emo',\n",
       " 'entehno',\n",
       " 'epicmetal',\n",
       " 'estrada',\n",
       " 'ethnic',\n",
       " 'eurofolk',\n",
       " 'european',\n",
       " 'experimental',\n",
       " 'extrememetal',\n",
       " 'fado',\n",
       " 'fairytail',\n",
       " 'film',\n",
       " 'fitness',\n",
       " 'flamenco',\n",
       " 'folk',\n",
       " 'folklore',\n",
       " 'folkmetal',\n",
       " 'folkrock',\n",
       " 'folktronica',\n",
       " 'forró',\n",
       " 'frankreich',\n",
       " 'französisch',\n",
       " 'french',\n",
       " 'funk',\n",
       " 'future',\n",
       " 'gangsta',\n",
       " 'garage',\n",
       " 'german',\n",
       " 'ghazal',\n",
       " 'gitarre',\n",
       " 'glitch',\n",
       " 'gospel',\n",
       " 'gothic',\n",
       " 'grime',\n",
       " 'grunge',\n",
       " 'gypsy',\n",
       " 'handsup',\n",
       " \"hard'n'heavy\",\n",
       " 'hardcore',\n",
       " 'hardstyle',\n",
       " 'hardtechno',\n",
       " 'hiphop',\n",
       " 'historisch',\n",
       " 'holiday',\n",
       " 'horror',\n",
       " 'house',\n",
       " 'hymn',\n",
       " 'idm',\n",
       " 'independent',\n",
       " 'indian',\n",
       " 'indie',\n",
       " 'indipop',\n",
       " 'industrial',\n",
       " 'inspirational',\n",
       " 'instrumental',\n",
       " 'international',\n",
       " 'irish',\n",
       " 'jam',\n",
       " 'japanese',\n",
       " 'jazz',\n",
       " 'jewish',\n",
       " 'jpop',\n",
       " 'jungle',\n",
       " 'k-pop',\n",
       " 'karadeniz',\n",
       " 'karaoke',\n",
       " 'kayokyoku',\n",
       " 'korean',\n",
       " 'laiko',\n",
       " 'latin',\n",
       " 'latino',\n",
       " 'leftfield',\n",
       " 'local',\n",
       " 'lounge',\n",
       " 'loungeelectronic',\n",
       " 'lovers',\n",
       " 'malaysian',\n",
       " 'mandopop',\n",
       " 'marschmusik',\n",
       " 'meditative',\n",
       " 'mediterranean',\n",
       " 'melodic',\n",
       " 'metal',\n",
       " 'metalcore',\n",
       " 'mexican',\n",
       " 'middle',\n",
       " 'minimal',\n",
       " 'miscellaneous',\n",
       " 'modern',\n",
       " 'mood',\n",
       " 'mpb',\n",
       " 'muslim',\n",
       " 'native',\n",
       " 'neoklassik',\n",
       " 'neue',\n",
       " 'new',\n",
       " 'newage',\n",
       " 'newwave',\n",
       " 'nu',\n",
       " 'nujazz',\n",
       " 'numetal',\n",
       " 'oceania',\n",
       " 'old',\n",
       " 'opera',\n",
       " 'orchestral',\n",
       " 'other',\n",
       " 'piano',\n",
       " 'podcasts',\n",
       " 'pop',\n",
       " 'popdance',\n",
       " 'popelectronic',\n",
       " 'popeurodance',\n",
       " 'poprussian',\n",
       " 'post',\n",
       " 'posthardcore',\n",
       " 'postrock',\n",
       " 'power',\n",
       " 'progmetal',\n",
       " 'progressive',\n",
       " 'psychedelic',\n",
       " 'punjabi',\n",
       " 'punk',\n",
       " 'quebecois',\n",
       " 'ragga',\n",
       " 'ram',\n",
       " 'rancheras',\n",
       " 'rap',\n",
       " 'rave',\n",
       " 'reggae',\n",
       " 'reggaeton',\n",
       " 'regional',\n",
       " 'relax',\n",
       " 'religious',\n",
       " 'retro',\n",
       " 'rhythm',\n",
       " 'rnb',\n",
       " 'rnr',\n",
       " 'rock',\n",
       " 'rockabilly',\n",
       " 'rockalternative',\n",
       " 'rockindie',\n",
       " 'rockother',\n",
       " 'romance',\n",
       " 'roots',\n",
       " 'ruspop',\n",
       " 'rusrap',\n",
       " 'rusrock',\n",
       " 'russian',\n",
       " 'salsa',\n",
       " 'samba',\n",
       " 'scenic',\n",
       " 'schlager',\n",
       " 'self',\n",
       " 'sertanejo',\n",
       " 'shanson',\n",
       " 'shoegazing',\n",
       " 'showtunes',\n",
       " 'singer',\n",
       " 'ska',\n",
       " 'skarock',\n",
       " 'slow',\n",
       " 'smooth',\n",
       " 'soft',\n",
       " 'soul',\n",
       " 'soulful',\n",
       " 'sound',\n",
       " 'soundtrack',\n",
       " 'southern',\n",
       " 'specialty',\n",
       " 'speech',\n",
       " 'spiritual',\n",
       " 'sport',\n",
       " 'stonerrock',\n",
       " 'surf',\n",
       " 'swing',\n",
       " 'synthpop',\n",
       " 'synthrock',\n",
       " 'sängerportrait',\n",
       " 'tango',\n",
       " 'tanzorchester',\n",
       " 'taraftar',\n",
       " 'tatar',\n",
       " 'tech',\n",
       " 'techno',\n",
       " 'teen',\n",
       " 'thrash',\n",
       " 'top',\n",
       " 'traditional',\n",
       " 'tradjazz',\n",
       " 'trance',\n",
       " 'tribal',\n",
       " 'trip',\n",
       " 'triphop',\n",
       " 'tropical',\n",
       " 'türk',\n",
       " 'türkçe',\n",
       " 'ukrrock',\n",
       " 'unknown',\n",
       " 'urban',\n",
       " 'uzbek',\n",
       " 'variété',\n",
       " 'vi',\n",
       " 'videogame',\n",
       " 'vocal',\n",
       " 'western',\n",
       " 'world',\n",
       " 'worldbeat',\n",
       " 'ïîï',\n",
       " 'электроника']"
      ]
     },
     "execution_count": 19,
     "metadata": {},
     "output_type": "execute_result"
    }
   ],
   "source": [
    "sorted(column_genre.unique()) # Проверка на неявные дубликаты"
   ]
  },
  {
   "cell_type": "markdown",
   "metadata": {
    "id": "jz6a9-7HQUDd"
   },
   "source": [
    "**Выводы**\n",
    "\n",
    "Предобработка обнаружила три проблемы в данных:\n",
    "\n",
    "- нарушения в стиле заголовков,\n",
    "- пропущенные значения,\n",
    "- дубликаты — явные и неявные.\n",
    "\n",
    "Исправлены заголовки, чтобы упростить работу с таблицей. Без дубликатов исследование станет более точным.\n",
    "\n",
    "Пропущенные значения Заменены на `'unknown'`. Ещё предстоит увидеть, не повредят ли исследованию пропуски в колонке `genre`.\n",
    "\n",
    "Теперь можно перейти к проверке гипотез. "
   ]
  },
  {
   "cell_type": "markdown",
   "metadata": {
    "id": "WttZHXH0SqKk"
   },
   "source": [
    "## Проверка гипотез"
   ]
  },
  {
   "cell_type": "markdown",
   "metadata": {
    "id": "Im936VVi_Zcu"
   },
   "source": [
    "### Сравнение поведения пользователей двух столиц"
   ]
  },
  {
   "cell_type": "markdown",
   "metadata": {
    "id": "nwt_MuaL_Zcu"
   },
   "source": [
    "Первая гипотеза утверждает, что пользователи по-разному слушают музыку в Москве и Санкт-Петербурге. Проверка этого предположения по данным о трёх днях недели — понедельнике, среде и пятнице. Для этого:\n",
    "\n",
    "* Разделить пользователей Москвы и Санкт-Петербурга\n",
    "* Сравнить, сколько треков послушала каждая группа пользователей в понедельник, среду и пятницу.\n"
   ]
  },
  {
   "cell_type": "code",
   "execution_count": 20,
   "metadata": {
    "id": "0_Qs96oh_Zcu"
   },
   "outputs": [
    {
     "data": {
      "text/plain": [
       "city\n",
       "Moscow              42741\n",
       "Saint-Petersburg    18512\n",
       "Name: track, dtype: int64"
      ]
     },
     "execution_count": 20,
     "metadata": {},
     "output_type": "execute_result"
    }
   ],
   "source": [
    "df.groupby('city')['track'].count()  # Подсчёт прослушиваний в каждом городе"
   ]
  },
  {
   "cell_type": "markdown",
   "metadata": {
    "id": "dzli3w8o_Zcu"
   },
   "source": [
    "В Москве прослушиваний больше, чем в Петербурге. Из этого не следует, что московские пользователи чаще слушают музыку. Просто самих пользователей в Москве больше."
   ]
  },
  {
   "cell_type": "code",
   "execution_count": 21,
   "metadata": {
    "id": "uZMKjiJz_Zcu"
   },
   "outputs": [
    {
     "data": {
      "text/plain": [
       "day\n",
       "Friday       21840\n",
       "Monday       21354\n",
       "Wednesday    18059\n",
       "Name: track, dtype: int64"
      ]
     },
     "execution_count": 21,
     "metadata": {},
     "output_type": "execute_result"
    }
   ],
   "source": [
    "df.groupby('day')['track'].count() # Подсчёт прослушиваний в каждый из трёх дней"
   ]
  },
  {
   "cell_type": "markdown",
   "metadata": {
    "id": "cC2tNrlL_Zcu"
   },
   "source": [
    "В среднем пользователи из двух городов менее активны по средам. Но картина может измениться, если рассмотреть каждый город в отдельности."
   ]
  },
  {
   "cell_type": "code",
   "execution_count": 22,
   "metadata": {
    "id": "Nz3GdQB1_Zcu"
   },
   "outputs": [],
   "source": [
    "def number_tracks(day,city):\n",
    "    # <создание функции number_tracks()> # Объявляется функция с двумя параметрами: day, city.\n",
    "    track_list = df[df['day']== day]  # В переменной track_list сохраняются те строки таблицы df, для которых  # значение в столбце 'day' равно параметру day и одновременно значение\n",
    "    track_list = track_list[track_list['city']== city]  # в столбце 'city' равно параметру city (используйте последовательную фильтрацию # с помощью логической индексации).\n",
    "    track_list_count = track_list['user_id'].count()  # В переменной track_list_count сохраняется число значений столбца 'user_id', # рассчитанное методом count() для таблицы track_list.\n",
    "    return track_list_count  # Функция возвращает число - значение track_list_count.\n",
    "\n",
    "# Функция для подсчёта прослушиваний для конкретного города и дня.\n",
    "# С помощью последовательной фильтрации с логической индексацией она \n",
    "# сначала получит из исходной таблицы строки с нужным днём,\n",
    "# затем из результата отфильтрует строки с нужным городом,\n",
    "# методом count() посчитает количество значений в колонке user_id. \n",
    "# Это количество функция вернёт в качестве результата"
   ]
  },
  {
   "cell_type": "code",
   "execution_count": 23,
   "metadata": {
    "id": "rJcRATNQ_Zcu"
   },
   "outputs": [
    {
     "data": {
      "text/plain": [
       "15740"
      ]
     },
     "execution_count": 23,
     "metadata": {},
     "output_type": "execute_result"
    }
   ],
   "source": [
    "number_tracks('Monday', 'Moscow') # количество прослушиваний в Москве по понедельникам"
   ]
  },
  {
   "cell_type": "code",
   "execution_count": 24,
   "metadata": {
    "id": "hq_ncZ5T_Zcu"
   },
   "outputs": [
    {
     "data": {
      "text/plain": [
       "5614"
      ]
     },
     "execution_count": 24,
     "metadata": {},
     "output_type": "execute_result"
    }
   ],
   "source": [
    "number_tracks('Monday', 'Saint-Petersburg') # количество прослушиваний в Санкт-Петербурге по понедельникам"
   ]
  },
  {
   "cell_type": "code",
   "execution_count": 25,
   "metadata": {
    "id": "_NTy2VPU_Zcu"
   },
   "outputs": [
    {
     "data": {
      "text/plain": [
       "11056"
      ]
     },
     "execution_count": 25,
     "metadata": {},
     "output_type": "execute_result"
    }
   ],
   "source": [
    "number_tracks('Wednesday', 'Moscow') # количество прослушиваний в Москве по средам"
   ]
  },
  {
   "cell_type": "code",
   "execution_count": 26,
   "metadata": {
    "id": "j2y3TAwo_Zcu"
   },
   "outputs": [
    {
     "data": {
      "text/plain": [
       "7003"
      ]
     },
     "execution_count": 26,
     "metadata": {},
     "output_type": "execute_result"
    }
   ],
   "source": [
    "number_tracks('Wednesday', 'Saint-Petersburg') # количество прослушиваний в Санкт-Петербурге по средам"
   ]
  },
  {
   "cell_type": "code",
   "execution_count": 27,
   "metadata": {
    "id": "vYDw5u_K_Zcu"
   },
   "outputs": [
    {
     "data": {
      "text/plain": [
       "15945"
      ]
     },
     "execution_count": 27,
     "metadata": {},
     "output_type": "execute_result"
    }
   ],
   "source": [
    "number_tracks('Friday', 'Moscow') # количество прослушиваний в Москве по пятницам"
   ]
  },
  {
   "cell_type": "code",
   "execution_count": 28,
   "metadata": {
    "id": "8_yzFtW3_Zcu"
   },
   "outputs": [
    {
     "data": {
      "text/plain": [
       "5895"
      ]
     },
     "execution_count": 28,
     "metadata": {},
     "output_type": "execute_result"
    }
   ],
   "source": [
    "number_tracks('Friday', 'Saint-Petersburg') # количество прослушиваний в Санкт-Петербурге по пятницам"
   ]
  },
  {
   "cell_type": "code",
   "execution_count": 29,
   "metadata": {
    "id": "APAcLpOr_Zcu"
   },
   "outputs": [
    {
     "data": {
      "text/html": [
       "<div>\n",
       "<style scoped>\n",
       "    .dataframe tbody tr th:only-of-type {\n",
       "        vertical-align: middle;\n",
       "    }\n",
       "\n",
       "    .dataframe tbody tr th {\n",
       "        vertical-align: top;\n",
       "    }\n",
       "\n",
       "    .dataframe thead th {\n",
       "        text-align: right;\n",
       "    }\n",
       "</style>\n",
       "<table border=\"1\" class=\"dataframe\">\n",
       "  <thead>\n",
       "    <tr style=\"text-align: right;\">\n",
       "      <th></th>\n",
       "      <th>city</th>\n",
       "      <th>monday</th>\n",
       "      <th>wednesday</th>\n",
       "      <th>friday</th>\n",
       "    </tr>\n",
       "  </thead>\n",
       "  <tbody>\n",
       "    <tr>\n",
       "      <th>0</th>\n",
       "      <td>Moscow</td>\n",
       "      <td>15740</td>\n",
       "      <td>11056</td>\n",
       "      <td>15945</td>\n",
       "    </tr>\n",
       "    <tr>\n",
       "      <th>1</th>\n",
       "      <td>Saint-Petersburg</td>\n",
       "      <td>5614</td>\n",
       "      <td>7003</td>\n",
       "      <td>5895</td>\n",
       "    </tr>\n",
       "  </tbody>\n",
       "</table>\n",
       "</div>"
      ],
      "text/plain": [
       "               city  monday  wednesday  friday\n",
       "0            Moscow   15740      11056   15945\n",
       "1  Saint-Petersburg    5614       7003    5895"
      ]
     },
     "execution_count": 29,
     "metadata": {},
     "output_type": "execute_result"
    }
   ],
   "source": [
    "data=[['Moscow',15740,11056, 15945], ['Saint-Petersburg',5614, 7003,5895 ]]\n",
    "pd.DataFrame(data = data, columns = ['city', 'monday', 'wednesday', 'friday']) # Таблица с результатами"
   ]
  },
  {
   "cell_type": "markdown",
   "metadata": {
    "id": "-EgPIHYu_Zcu"
   },
   "source": [
    "**Выводы**\n",
    "\n",
    "Данные показывают разницу поведения пользователей:\n",
    "\n",
    "- В Москве пик прослушиваний приходится на понедельник и пятницу, а в среду заметен спад.\n",
    "- В Петербурге, наоборот, больше слушают музыку по средам. Активность в понедельник и пятницу здесь почти в равной мере уступает среде.\n",
    "\n",
    "Значит, данные говорят в пользу первой гипотезы."
   ]
  },
  {
   "cell_type": "markdown",
   "metadata": {
    "id": "atZAxtq4_Zcu"
   },
   "source": [
    "### Музыка в начале и в конце недели"
   ]
  },
  {
   "cell_type": "markdown",
   "metadata": {
    "id": "eXrQqXFH_Zcu"
   },
   "source": [
    "Согласно второй гипотезе, утром в понедельник в Москве преобладают одни жанры, а в Петербурге — другие. Так же и вечером пятницы преобладают разные жанры — в зависимости от города."
   ]
  },
  {
   "cell_type": "code",
   "execution_count": 30,
   "metadata": {
    "id": "qeaFfM_P_Zcu"
   },
   "outputs": [],
   "source": [
    "moscow_general = df[df['city']=='Moscow'] # получение таблицы moscow_general из тех строк таблицы df, \n",
    "# для которых значение в столбце 'city' равно 'Moscow'\n"
   ]
  },
  {
   "cell_type": "code",
   "execution_count": 31,
   "metadata": {
    "id": "ORaVRKto_Zcu"
   },
   "outputs": [],
   "source": [
    "spb_general = df[df['city']=='Saint-Petersburg']# получение таблицы spb_general из тех строк таблицы df,\n",
    "# для которых значение в столбце 'city' равно 'Saint-Petersburg'\n"
   ]
  },
  {
   "cell_type": "code",
   "execution_count": 32,
   "metadata": {
    "id": "laJT9BYl_Zcu"
   },
   "outputs": [],
   "source": [
    "def genre_weekday(table, day, time1, time2): # Объявление функции genre_weekday() с параметрами table, day, time1, time2,\n",
    "    genre_df = table[table['day'] == day]\n",
    "    genre_df = genre_df[genre_df['time'] > time1]\n",
    "    genre_df = genre_df[genre_df['time'] < time2]\n",
    "    genre_df_count = genre_df.groupby('genre')['time'].count()\n",
    "    genre_df_sorted =  genre_df_count.sort_values(ascending=False)\n",
    "    return genre_df_sorted[:10]"
   ]
  },
  {
   "cell_type": "code",
   "execution_count": 33,
   "metadata": {
    "id": "yz7itPUQ_Zcu"
   },
   "outputs": [
    {
     "data": {
      "text/plain": [
       "genre\n",
       "pop            781\n",
       "dance          549\n",
       "electronic     480\n",
       "rock           474\n",
       "hiphop         286\n",
       "ruspop         186\n",
       "world          181\n",
       "rusrap         175\n",
       "alternative    164\n",
       "unknown        161\n",
       "Name: time, dtype: int64"
      ]
     },
     "execution_count": 33,
     "metadata": {},
     "output_type": "execute_result"
    }
   ],
   "source": [
    "genre_weekday(moscow_general, 'Monday', '07:00', '11:00') # вызов функции для утра понедельника в Москве (вместо df — таблица moscow_general)\n",
    "# объекты, хранящие время, являются строками и сравниваются как строки"
   ]
  },
  {
   "cell_type": "code",
   "execution_count": 34,
   "metadata": {
    "id": "kwUcHPdy_Zcu"
   },
   "outputs": [
    {
     "data": {
      "text/plain": [
       "genre\n",
       "pop            218\n",
       "dance          182\n",
       "rock           162\n",
       "electronic     147\n",
       "hiphop          80\n",
       "ruspop          64\n",
       "alternative     58\n",
       "rusrap          55\n",
       "jazz            44\n",
       "classical       40\n",
       "Name: time, dtype: int64"
      ]
     },
     "execution_count": 34,
     "metadata": {},
     "output_type": "execute_result"
    }
   ],
   "source": [
    "genre_weekday (spb_general, 'Monday', '07:00', '11:00') # вызов функции для утра понедельника в Петербурге (вместо df — таблица spb_general)"
   ]
  },
  {
   "cell_type": "code",
   "execution_count": 35,
   "metadata": {
    "id": "EzXVRE1o_Zcu"
   },
   "outputs": [
    {
     "data": {
      "text/plain": [
       "genre\n",
       "pop            713\n",
       "rock           517\n",
       "dance          495\n",
       "electronic     482\n",
       "hiphop         273\n",
       "world          208\n",
       "ruspop         170\n",
       "alternative    163\n",
       "classical      163\n",
       "rusrap         142\n",
       "Name: time, dtype: int64"
      ]
     },
     "execution_count": 35,
     "metadata": {},
     "output_type": "execute_result"
    }
   ],
   "source": [
    "genre_weekday (moscow_general, 'Friday', '17:00', '23:00')# вызов функции для вечера пятницы в Москве"
   ]
  },
  {
   "cell_type": "code",
   "execution_count": 36,
   "metadata": {
    "id": "JZaEKu5v_Zcu"
   },
   "outputs": [
    {
     "data": {
      "text/plain": [
       "genre\n",
       "pop            256\n",
       "electronic     216\n",
       "rock           216\n",
       "dance          210\n",
       "hiphop          97\n",
       "alternative     63\n",
       "jazz            61\n",
       "classical       60\n",
       "rusrap          59\n",
       "world           54\n",
       "Name: time, dtype: int64"
      ]
     },
     "execution_count": 36,
     "metadata": {},
     "output_type": "execute_result"
    }
   ],
   "source": [
    "genre_weekday (spb_general, 'Friday', '17:00', '23:00')# вызов функции для вечера пятницы в Петербурге"
   ]
  },
  {
   "cell_type": "markdown",
   "metadata": {
    "id": "wrCe4MNX_Zcu"
   },
   "source": [
    "**Выводы**\n",
    "\n",
    "Если сравнить топ-10 жанров в понедельник утром, можно сделать такие выводы:\n",
    "\n",
    "1. В Москве и Петербурге слушают похожую музыку. Единственное отличие — в московский рейтинг вошёл жанр “world”, а в петербургский — джаз и классика.\n",
    "\n",
    "2. В Москве пропущенных значений оказалось так много, что значение `'unknown'` заняло десятое место среди самых популярных жанров. Значит, пропущенные значения занимают существенную долю в данных и угрожают достоверности исследования.\n",
    "\n",
    "Вечер пятницы не меняет эту картину. Некоторые жанры поднимаются немного выше, другие спускаются, но в целом топ-10 остаётся тем же самым.\n",
    "\n",
    "Таким образом, вторая гипотеза подтвердилась лишь частично:\n",
    "* Пользователи слушают похожую музыку в начале недели и в конце.\n",
    "* Разница между Москвой и Петербургом не слишком выражена. В Москве чаще слушают русскую популярную музыку, в Петербурге — джаз.\n",
    "\n",
    "Однако пропуски в данных ставят под сомнение этот результат. В Москве их так много, что рейтинг топ-10 мог бы выглядеть иначе, если бы не утерянные  данные о жанрах."
   ]
  },
  {
   "cell_type": "markdown",
   "metadata": {
    "id": "JolODAqr_Zcu"
   },
   "source": [
    "### Жанровые предпочтения в Москве и Петербурге\n",
    "\n",
    "Гипотеза: Петербург — столица рэпа, музыку этого жанра там слушают чаще, чем в Москве.  А Москва — город контрастов, в котором, тем не менее, преобладает поп-музыка."
   ]
  },
  {
   "cell_type": "code",
   "execution_count": 37,
   "metadata": {
    "id": "r19lIPke_Zcu"
   },
   "outputs": [],
   "source": [
    "moscow_genres = moscow_general.groupby('genre')['genre'].count().sort_values(ascending = False)  # одной строкой: группировка таблицы moscow_general по столбцу 'genre', \n",
    "# подсчёт числа значений 'genre' в этой группировке методом count(), \n",
    "# сортировка получившегося Series в порядке убывания и сохранение в moscow_genres"
   ]
  },
  {
   "cell_type": "code",
   "execution_count": 38,
   "metadata": {
    "id": "WhCSooF8_Zcv",
    "scrolled": true
   },
   "outputs": [
    {
     "data": {
      "text/plain": [
       "genre\n",
       "pop            5892\n",
       "dance          4435\n",
       "rock           3965\n",
       "electronic     3786\n",
       "hiphop         2096\n",
       "classical      1616\n",
       "world          1432\n",
       "alternative    1379\n",
       "ruspop         1372\n",
       "rusrap         1161\n",
       "Name: genre, dtype: int64"
      ]
     },
     "execution_count": 38,
     "metadata": {},
     "output_type": "execute_result"
    }
   ],
   "source": [
    "moscow_genres.head(10) # просмотр первых 10 строк moscow_genres"
   ]
  },
  {
   "cell_type": "code",
   "execution_count": 39,
   "metadata": {
    "id": "gluLIpE7_Zcv"
   },
   "outputs": [],
   "source": [
    "spb_genres = spb_general.groupby('genre')['genre'].count().sort_values(ascending = False) # одной строкой: группировка таблицы spb_general по столбцу 'genre', \n",
    "# подсчёт числа значений 'genre' в этой группировке методом count(), \n",
    "# сортировка получившегося Series в порядке убывания и сохранение в spb_genres"
   ]
  },
  {
   "cell_type": "code",
   "execution_count": 40,
   "metadata": {
    "id": "uaGJHjVU_Zcv"
   },
   "outputs": [
    {
     "data": {
      "text/plain": [
       "genre\n",
       "pop            2431\n",
       "dance          1932\n",
       "rock           1879\n",
       "electronic     1736\n",
       "hiphop          960\n",
       "alternative     649\n",
       "classical       646\n",
       "rusrap          564\n",
       "ruspop          538\n",
       "world           515\n",
       "Name: genre, dtype: int64"
      ]
     },
     "execution_count": 40,
     "metadata": {},
     "output_type": "execute_result"
    }
   ],
   "source": [
    "spb_genres.head(10) # просмотр первых 10 строк spb_genres"
   ]
  },
  {
   "cell_type": "markdown",
   "metadata": {
    "id": "RY51YJYu_Zcv"
   },
   "source": [
    "**Выводы**"
   ]
  },
  {
   "cell_type": "markdown",
   "metadata": {
    "id": "nVhnJEm__Zcv"
   },
   "source": [
    "Гипотеза частично подтвердилась:\n",
    "* Поп-музыка — самый популярный жанр в Москве, как и предполагала гипотеза. Более того, в топ-10 жанров встречается близкий жанр — русская популярная музыка.\n",
    "* Вопреки ожиданиям, рэп одинаково популярен в Москве и Петербурге. \n"
   ]
  },
  {
   "cell_type": "markdown",
   "metadata": {
    "id": "ykKQ0N65_Zcv"
   },
   "source": [
    "## Итоги исследования"
   ]
  },
  {
   "cell_type": "markdown",
   "metadata": {
    "id": "tjUwbHb3_Zcv"
   },
   "source": [
    "Проверено три гипотезы и установлено:\n",
    "\n",
    "1. День недели по-разному влияет на активность пользователей в Москве и Петербурге. \n",
    "\n",
    "Первая гипотеза полностью подтвердилась.\n",
    "\n",
    "2. Музыкальные предпочтения не сильно меняются в течение недели — будь то Москва или Петербург. Небольшие различия заметны в начале недели, по понедельникам:\n",
    "* в Москве слушают музыку жанра “world”,\n",
    "* в Петербурге — джаз и классику.\n",
    "\n",
    "Таким образом, вторая гипотеза подтвердилась лишь отчасти. Этот результат мог оказаться иным, если бы не пропуски в данных.\n",
    "\n",
    "3. Во вкусах пользователей Москвы и Петербурга больше общего чем различий. Вопреки ожиданиям, предпочтения жанров в Петербурге напоминают московские.\n",
    "\n",
    "Третья гипотеза не подтвердилась. Если различия в предпочтениях и существуют, на основной массе пользователей они незаметны."
   ]
  }
 ],
 "metadata": {
  "ExecuteTimeLog": [
   {
    "duration": 734,
    "start_time": "2021-12-28T08:10:41.937Z"
   },
   {
    "duration": 186,
    "start_time": "2021-12-28T08:14:50.671Z"
   },
   {
    "duration": 26,
    "start_time": "2021-12-28T08:15:14.559Z"
   },
   {
    "duration": 32,
    "start_time": "2021-12-28T08:16:18.880Z"
   },
   {
    "duration": 5,
    "start_time": "2021-12-28T08:53:53.953Z"
   },
   {
    "duration": 23,
    "start_time": "2021-12-28T08:58:44.461Z"
   },
   {
    "duration": 5,
    "start_time": "2021-12-28T08:59:04.890Z"
   },
   {
    "duration": 28,
    "start_time": "2021-12-28T14:41:21.673Z"
   },
   {
    "duration": 360,
    "start_time": "2021-12-28T14:52:15.566Z"
   },
   {
    "duration": 511,
    "start_time": "2021-12-28T14:52:45.279Z"
   },
   {
    "duration": 7245,
    "start_time": "2021-12-28T14:52:49.433Z"
   },
   {
    "duration": 22,
    "start_time": "2021-12-28T14:54:01.396Z"
   },
   {
    "duration": 31,
    "start_time": "2021-12-28T14:55:04.244Z"
   },
   {
    "duration": 93,
    "start_time": "2021-12-28T14:57:40.239Z"
   },
   {
    "duration": 90,
    "start_time": "2021-12-28T14:58:34.210Z"
   },
   {
    "duration": 75,
    "start_time": "2021-12-28T14:59:30.330Z"
   },
   {
    "duration": 271,
    "start_time": "2021-12-28T15:03:04.407Z"
   },
   {
    "duration": 10,
    "start_time": "2021-12-28T15:03:12.533Z"
   },
   {
    "duration": 363,
    "start_time": "2021-12-28T15:07:07.607Z"
   },
   {
    "duration": 97,
    "start_time": "2021-12-28T15:07:27.043Z"
   },
   {
    "duration": 378,
    "start_time": "2021-12-28T15:09:13.165Z"
   },
   {
    "duration": 302,
    "start_time": "2021-12-28T15:09:28.637Z"
   },
   {
    "duration": 76,
    "start_time": "2021-12-28T15:09:34.165Z"
   },
   {
    "duration": 297,
    "start_time": "2021-12-28T15:09:59.193Z"
   },
   {
    "duration": 339,
    "start_time": "2021-12-28T15:10:04.494Z"
   },
   {
    "duration": 83,
    "start_time": "2021-12-28T15:10:10.519Z"
   },
   {
    "duration": 72,
    "start_time": "2021-12-28T15:10:59.061Z"
   },
   {
    "duration": 67,
    "start_time": "2021-12-28T15:11:10.335Z"
   },
   {
    "duration": 75,
    "start_time": "2021-12-28T15:11:14.519Z"
   },
   {
    "duration": 68,
    "start_time": "2021-12-28T15:11:26.967Z"
   },
   {
    "duration": 61,
    "start_time": "2021-12-28T15:11:50.280Z"
   },
   {
    "duration": 56,
    "start_time": "2021-12-28T15:12:00.792Z"
   },
   {
    "duration": 54,
    "start_time": "2021-12-28T15:13:23.074Z"
   },
   {
    "duration": 55,
    "start_time": "2021-12-28T15:13:46.625Z"
   },
   {
    "duration": 53,
    "start_time": "2021-12-28T15:14:49.931Z"
   },
   {
    "duration": 61,
    "start_time": "2021-12-28T15:15:11.987Z"
   },
   {
    "duration": 302,
    "start_time": "2021-12-28T15:16:43.965Z"
   },
   {
    "duration": 325,
    "start_time": "2021-12-28T15:16:50.922Z"
   },
   {
    "duration": 96,
    "start_time": "2021-12-28T15:17:00.303Z"
   },
   {
    "duration": 54,
    "start_time": "2021-12-28T15:20:02.337Z"
   },
   {
    "duration": 64,
    "start_time": "2021-12-28T15:21:19.810Z"
   },
   {
    "duration": 4,
    "start_time": "2021-12-28T15:31:56.528Z"
   },
   {
    "duration": 4,
    "start_time": "2021-12-28T15:33:56.984Z"
   },
   {
    "duration": 14,
    "start_time": "2021-12-28T15:35:23.906Z"
   },
   {
    "duration": 15,
    "start_time": "2021-12-28T15:35:53.602Z"
   },
   {
    "duration": 6,
    "start_time": "2021-12-28T15:45:52.607Z"
   },
   {
    "duration": 40,
    "start_time": "2021-12-28T15:47:18.040Z"
   },
   {
    "duration": 16,
    "start_time": "2021-12-28T15:48:45.315Z"
   },
   {
    "duration": 41,
    "start_time": "2021-12-28T15:48:54.481Z"
   },
   {
    "duration": 16,
    "start_time": "2021-12-28T15:49:04.906Z"
   },
   {
    "duration": 15,
    "start_time": "2021-12-28T15:50:46.925Z"
   },
   {
    "duration": 5,
    "start_time": "2021-12-28T16:04:02.541Z"
   },
   {
    "duration": 4106,
    "start_time": "2021-12-28T16:05:34.910Z"
   },
   {
    "duration": 5,
    "start_time": "2021-12-28T16:06:08.244Z"
   },
   {
    "duration": 4271,
    "start_time": "2021-12-28T16:06:11.262Z"
   },
   {
    "duration": 3919,
    "start_time": "2021-12-28T16:06:16.645Z"
   },
   {
    "duration": 5,
    "start_time": "2021-12-28T16:06:51.568Z"
   },
   {
    "duration": 14,
    "start_time": "2021-12-28T16:06:54.101Z"
   },
   {
    "duration": 14,
    "start_time": "2021-12-28T16:07:28.717Z"
   },
   {
    "duration": 5,
    "start_time": "2021-12-28T16:08:30.863Z"
   },
   {
    "duration": 30,
    "start_time": "2021-12-28T16:08:34.414Z"
   },
   {
    "duration": 24,
    "start_time": "2021-12-28T16:08:36.126Z"
   },
   {
    "duration": 4,
    "start_time": "2021-12-28T16:09:21.305Z"
   },
   {
    "duration": 591,
    "start_time": "2021-12-28T16:09:23.576Z"
   },
   {
    "duration": 4,
    "start_time": "2021-12-28T16:12:22.422Z"
   },
   {
    "duration": 4178,
    "start_time": "2021-12-28T16:12:25.484Z"
   },
   {
    "duration": 5,
    "start_time": "2021-12-28T16:13:39.212Z"
   },
   {
    "duration": 610,
    "start_time": "2021-12-28T16:13:41.820Z"
   },
   {
    "duration": 5,
    "start_time": "2021-12-28T16:14:07.760Z"
   },
   {
    "duration": 4260,
    "start_time": "2021-12-28T16:14:09.565Z"
   },
   {
    "duration": 4,
    "start_time": "2021-12-28T16:14:25.897Z"
   },
   {
    "duration": 27,
    "start_time": "2021-12-28T16:14:35.142Z"
   },
   {
    "duration": 4,
    "start_time": "2021-12-28T16:16:59.135Z"
   },
   {
    "duration": 5067,
    "start_time": "2021-12-28T16:17:01.650Z"
   },
   {
    "duration": 4,
    "start_time": "2021-12-28T16:17:25.690Z"
   },
   {
    "duration": 6,
    "start_time": "2021-12-28T16:18:18.146Z"
   },
   {
    "duration": 3813,
    "start_time": "2021-12-28T16:18:21.579Z"
   },
   {
    "duration": 6,
    "start_time": "2021-12-28T16:18:32.858Z"
   },
   {
    "duration": 4007,
    "start_time": "2021-12-28T16:18:35.475Z"
   },
   {
    "duration": 5,
    "start_time": "2021-12-28T16:19:09.484Z"
   },
   {
    "duration": 8175,
    "start_time": "2021-12-28T16:19:11.699Z"
   },
   {
    "duration": 5,
    "start_time": "2021-12-28T16:19:31.116Z"
   },
   {
    "duration": 5,
    "start_time": "2021-12-28T16:20:25.261Z"
   },
   {
    "duration": 22,
    "start_time": "2021-12-28T16:20:26.494Z"
   },
   {
    "duration": 19,
    "start_time": "2021-12-28T16:20:28.766Z"
   },
   {
    "duration": 18,
    "start_time": "2021-12-28T16:20:51.861Z"
   },
   {
    "duration": 26,
    "start_time": "2021-12-28T16:21:00.853Z"
   },
   {
    "duration": 21,
    "start_time": "2021-12-28T16:21:16.805Z"
   },
   {
    "duration": 19,
    "start_time": "2021-12-28T16:21:27.477Z"
   },
   {
    "duration": 295,
    "start_time": "2021-12-28T16:24:22.937Z"
   },
   {
    "duration": 275,
    "start_time": "2021-12-28T16:24:26.361Z"
   },
   {
    "duration": 1018,
    "start_time": "2021-12-28T16:24:47.778Z"
   },
   {
    "duration": 372,
    "start_time": "2021-12-28T16:25:01.435Z"
   },
   {
    "duration": 328,
    "start_time": "2021-12-28T16:25:44.650Z"
   },
   {
    "duration": 300,
    "start_time": "2021-12-28T16:26:12.892Z"
   },
   {
    "duration": 318,
    "start_time": "2021-12-28T16:26:43.868Z"
   },
   {
    "duration": 312,
    "start_time": "2021-12-28T16:26:57.725Z"
   },
   {
    "duration": 280,
    "start_time": "2021-12-28T16:31:53.076Z"
   },
   {
    "duration": 300,
    "start_time": "2021-12-28T16:34:14.554Z"
   },
   {
    "duration": 14,
    "start_time": "2021-12-28T19:14:08.483Z"
   },
   {
    "duration": 14,
    "start_time": "2021-12-28T19:16:06.591Z"
   },
   {
    "duration": 16,
    "start_time": "2021-12-28T19:16:24.178Z"
   },
   {
    "duration": 6,
    "start_time": "2021-12-28T19:28:45.170Z"
   },
   {
    "duration": 28,
    "start_time": "2021-12-28T19:31:38.608Z"
   },
   {
    "duration": 31,
    "start_time": "2021-12-28T19:31:48.387Z"
   },
   {
    "duration": 20,
    "start_time": "2021-12-28T19:31:58.924Z"
   },
   {
    "duration": 5,
    "start_time": "2021-12-28T19:32:30.804Z"
   },
   {
    "duration": 29,
    "start_time": "2021-12-28T19:32:33.582Z"
   },
   {
    "duration": 7,
    "start_time": "2021-12-28T19:32:36.837Z"
   },
   {
    "duration": 7,
    "start_time": "2021-12-28T19:32:55.669Z"
   },
   {
    "duration": 1120,
    "start_time": "2021-12-28T19:32:58.110Z"
   },
   {
    "duration": 6,
    "start_time": "2021-12-28T19:33:25.487Z"
   },
   {
    "duration": 29,
    "start_time": "2021-12-28T19:33:32.239Z"
   },
   {
    "duration": 6,
    "start_time": "2021-12-28T19:34:30.544Z"
   },
   {
    "duration": 47,
    "start_time": "2021-12-28T19:34:33.067Z"
   },
   {
    "duration": 6,
    "start_time": "2021-12-28T19:35:23.376Z"
   },
   {
    "duration": 625,
    "start_time": "2021-12-28T19:35:25.737Z"
   },
   {
    "duration": 6,
    "start_time": "2021-12-28T19:35:56.752Z"
   },
   {
    "duration": 614,
    "start_time": "2021-12-28T19:35:59.712Z"
   },
   {
    "duration": 6,
    "start_time": "2021-12-28T19:36:05.393Z"
   },
   {
    "duration": 32,
    "start_time": "2021-12-28T19:36:07.656Z"
   },
   {
    "duration": 24,
    "start_time": "2021-12-28T19:36:10.208Z"
   },
   {
    "duration": 28,
    "start_time": "2021-12-28T19:36:54.241Z"
   },
   {
    "duration": 21,
    "start_time": "2021-12-28T19:36:56.662Z"
   },
   {
    "duration": 7,
    "start_time": "2021-12-28T19:37:23.170Z"
   },
   {
    "duration": 31,
    "start_time": "2021-12-28T19:37:26.037Z"
   },
   {
    "duration": 5,
    "start_time": "2021-12-28T19:38:36.268Z"
   },
   {
    "duration": 723,
    "start_time": "2021-12-28T19:38:39.411Z"
   },
   {
    "duration": 6,
    "start_time": "2021-12-28T19:38:45.527Z"
   },
   {
    "duration": 570,
    "start_time": "2021-12-28T19:38:49.619Z"
   },
   {
    "duration": 5,
    "start_time": "2021-12-28T19:39:19.092Z"
   },
   {
    "duration": 579,
    "start_time": "2021-12-28T19:39:21.485Z"
   },
   {
    "duration": 6,
    "start_time": "2021-12-28T19:39:31.172Z"
   },
   {
    "duration": 6,
    "start_time": "2021-12-28T19:42:16.177Z"
   },
   {
    "duration": 592,
    "start_time": "2021-12-28T19:42:18.154Z"
   },
   {
    "duration": 6,
    "start_time": "2021-12-28T19:42:29.063Z"
   },
   {
    "duration": 583,
    "start_time": "2021-12-28T19:42:31.927Z"
   },
   {
    "duration": 6,
    "start_time": "2021-12-28T19:45:08.131Z"
   },
   {
    "duration": 756,
    "start_time": "2021-12-28T19:45:10.363Z"
   },
   {
    "duration": 7,
    "start_time": "2021-12-28T19:46:37.125Z"
   },
   {
    "duration": 29,
    "start_time": "2021-12-28T19:46:39.806Z"
   },
   {
    "duration": 6,
    "start_time": "2021-12-28T19:47:35.805Z"
   },
   {
    "duration": 24,
    "start_time": "2021-12-28T19:47:37.757Z"
   },
   {
    "duration": 24,
    "start_time": "2021-12-28T19:47:42.934Z"
   },
   {
    "duration": 26,
    "start_time": "2021-12-28T19:48:52.717Z"
   },
   {
    "duration": 6,
    "start_time": "2021-12-28T19:48:55.694Z"
   },
   {
    "duration": 598,
    "start_time": "2021-12-28T19:48:57.877Z"
   },
   {
    "duration": 6,
    "start_time": "2021-12-28T19:49:15.548Z"
   },
   {
    "duration": 34,
    "start_time": "2021-12-28T19:49:18.335Z"
   },
   {
    "duration": 5,
    "start_time": "2021-12-28T19:49:56.903Z"
   },
   {
    "duration": 24,
    "start_time": "2021-12-28T19:49:59.428Z"
   },
   {
    "duration": 30,
    "start_time": "2021-12-28T19:50:02.839Z"
   },
   {
    "duration": 7,
    "start_time": "2021-12-28T19:50:19.825Z"
   },
   {
    "duration": 32,
    "start_time": "2021-12-28T19:51:09.745Z"
   },
   {
    "duration": 15,
    "start_time": "2021-12-28T19:51:18.322Z"
   },
   {
    "duration": 29,
    "start_time": "2021-12-28T19:51:20.956Z"
   },
   {
    "duration": 16,
    "start_time": "2021-12-28T19:54:12.756Z"
   },
   {
    "duration": 19,
    "start_time": "2021-12-28T19:54:17.092Z"
   },
   {
    "duration": 23,
    "start_time": "2021-12-28T19:54:25.508Z"
   },
   {
    "duration": 15,
    "start_time": "2021-12-28T19:54:38.293Z"
   },
   {
    "duration": 5,
    "start_time": "2021-12-28T19:55:07.694Z"
   },
   {
    "duration": 38,
    "start_time": "2021-12-28T19:55:10.424Z"
   },
   {
    "duration": 34,
    "start_time": "2021-12-28T19:55:49.093Z"
   },
   {
    "duration": 6,
    "start_time": "2021-12-28T19:56:05.479Z"
   },
   {
    "duration": 38,
    "start_time": "2021-12-28T19:56:07.888Z"
   },
   {
    "duration": 30,
    "start_time": "2021-12-28T19:56:11.839Z"
   },
   {
    "duration": 29,
    "start_time": "2021-12-28T19:56:14.687Z"
   },
   {
    "duration": 27,
    "start_time": "2021-12-28T19:56:17.303Z"
   },
   {
    "duration": 5,
    "start_time": "2021-12-28T19:58:00.066Z"
   },
   {
    "duration": 618,
    "start_time": "2021-12-28T19:58:02.489Z"
   },
   {
    "duration": 5,
    "start_time": "2021-12-28T19:58:08.921Z"
   },
   {
    "duration": 33,
    "start_time": "2021-12-28T19:58:11.300Z"
   },
   {
    "duration": 6,
    "start_time": "2021-12-28T20:03:23.689Z"
   },
   {
    "duration": 603,
    "start_time": "2021-12-28T20:03:26.183Z"
   },
   {
    "duration": 8,
    "start_time": "2021-12-28T20:05:06.746Z"
   },
   {
    "duration": 24,
    "start_time": "2021-12-28T20:05:08.632Z"
   },
   {
    "duration": 18,
    "start_time": "2021-12-28T20:05:21.777Z"
   },
   {
    "duration": 23,
    "start_time": "2021-12-28T20:05:24.130Z"
   },
   {
    "duration": 18,
    "start_time": "2021-12-28T20:05:26.497Z"
   },
   {
    "duration": 5,
    "start_time": "2021-12-28T20:07:12.915Z"
   },
   {
    "duration": 23,
    "start_time": "2021-12-28T20:07:16.026Z"
   },
   {
    "duration": 25,
    "start_time": "2021-12-28T20:07:19.829Z"
   },
   {
    "duration": 7,
    "start_time": "2021-12-28T20:07:24.339Z"
   },
   {
    "duration": 24,
    "start_time": "2021-12-28T20:07:26.784Z"
   },
   {
    "duration": 17,
    "start_time": "2021-12-28T20:07:34.659Z"
   },
   {
    "duration": 6,
    "start_time": "2021-12-28T20:07:40.427Z"
   },
   {
    "duration": 22,
    "start_time": "2021-12-28T20:07:51.412Z"
   },
   {
    "duration": 17,
    "start_time": "2021-12-28T20:07:54.020Z"
   },
   {
    "duration": 16,
    "start_time": "2021-12-28T20:11:02.483Z"
   },
   {
    "duration": 7,
    "start_time": "2021-12-28T20:11:16.983Z"
   },
   {
    "duration": 9,
    "start_time": "2021-12-28T20:12:18.202Z"
   },
   {
    "duration": 7,
    "start_time": "2021-12-28T20:12:30.842Z"
   },
   {
    "duration": 790,
    "start_time": "2021-12-29T18:32:33.436Z"
   },
   {
    "duration": 188,
    "start_time": "2021-12-29T18:32:34.230Z"
   },
   {
    "duration": 34,
    "start_time": "2021-12-29T18:32:34.421Z"
   },
   {
    "duration": 32,
    "start_time": "2021-12-29T18:32:34.457Z"
   },
   {
    "duration": 32,
    "start_time": "2021-12-29T18:32:34.491Z"
   },
   {
    "duration": 28,
    "start_time": "2021-12-29T18:32:34.525Z"
   },
   {
    "duration": 8,
    "start_time": "2021-12-29T18:32:34.556Z"
   },
   {
    "duration": 59,
    "start_time": "2021-12-29T18:32:34.570Z"
   },
   {
    "duration": 26,
    "start_time": "2021-12-29T18:32:34.632Z"
   },
   {
    "duration": 59,
    "start_time": "2021-12-29T18:32:34.660Z"
   },
   {
    "duration": 94,
    "start_time": "2021-12-29T18:32:34.725Z"
   },
   {
    "duration": 121,
    "start_time": "2021-12-29T18:32:34.821Z"
   },
   {
    "duration": 92,
    "start_time": "2021-12-29T18:32:34.944Z"
   },
   {
    "duration": 61,
    "start_time": "2021-12-29T18:32:35.038Z"
   },
   {
    "duration": 6,
    "start_time": "2021-12-29T18:32:35.119Z"
   },
   {
    "duration": 25,
    "start_time": "2021-12-29T18:32:35.127Z"
   },
   {
    "duration": 15,
    "start_time": "2021-12-29T18:32:35.154Z"
   },
   {
    "duration": 16,
    "start_time": "2021-12-29T18:32:35.171Z"
   },
   {
    "duration": 21,
    "start_time": "2021-12-29T18:32:35.218Z"
   },
   {
    "duration": 4,
    "start_time": "2021-12-29T18:32:35.242Z"
   },
   {
    "duration": 44,
    "start_time": "2021-12-29T18:32:35.249Z"
   },
   {
    "duration": 35,
    "start_time": "2021-12-29T18:32:35.296Z"
   },
   {
    "duration": 26,
    "start_time": "2021-12-29T18:32:35.338Z"
   },
   {
    "duration": 55,
    "start_time": "2021-12-29T18:32:35.367Z"
   },
   {
    "duration": 30,
    "start_time": "2021-12-29T18:32:35.424Z"
   },
   {
    "duration": 21,
    "start_time": "2021-12-29T18:32:35.456Z"
   },
   {
    "duration": 44,
    "start_time": "2021-12-29T18:32:35.479Z"
   },
   {
    "duration": 18,
    "start_time": "2021-12-29T18:32:35.527Z"
   },
   {
    "duration": 12,
    "start_time": "2021-12-29T18:32:35.547Z"
   },
   {
    "duration": 5,
    "start_time": "2021-12-29T18:32:35.562Z"
   },
   {
    "duration": 65,
    "start_time": "2021-12-29T18:32:35.570Z"
   },
   {
    "duration": 17,
    "start_time": "2021-12-29T18:32:35.637Z"
   },
   {
    "duration": 21,
    "start_time": "2021-12-29T18:32:35.656Z"
   },
   {
    "duration": 52,
    "start_time": "2021-12-29T18:32:35.680Z"
   },
   {
    "duration": 10,
    "start_time": "2021-12-29T18:32:35.735Z"
   },
   {
    "duration": 6,
    "start_time": "2021-12-29T18:32:35.747Z"
   },
   {
    "duration": 12,
    "start_time": "2021-12-29T18:32:35.755Z"
   },
   {
    "duration": 6,
    "start_time": "2021-12-29T18:32:35.769Z"
   },
   {
    "duration": 423,
    "start_time": "2021-12-29T20:56:14.266Z"
   },
   {
    "duration": 766,
    "start_time": "2021-12-29T20:56:31.593Z"
   },
   {
    "duration": 183,
    "start_time": "2021-12-29T20:56:33.712Z"
   },
   {
    "duration": 26,
    "start_time": "2021-12-29T20:56:35.722Z"
   },
   {
    "duration": 33,
    "start_time": "2021-12-29T20:56:39.574Z"
   },
   {
    "duration": 5,
    "start_time": "2021-12-29T20:56:43.817Z"
   },
   {
    "duration": 503,
    "start_time": "2021-12-29T20:59:04.260Z"
   },
   {
    "duration": 5,
    "start_time": "2021-12-29T21:00:20.292Z"
   },
   {
    "duration": 27,
    "start_time": "2021-12-29T21:00:23.045Z"
   },
   {
    "duration": 6,
    "start_time": "2021-12-29T21:00:46.989Z"
   },
   {
    "duration": 33,
    "start_time": "2021-12-29T21:00:49.669Z"
   },
   {
    "duration": 33,
    "start_time": "2021-12-29T21:00:52.676Z"
   },
   {
    "duration": 29,
    "start_time": "2021-12-29T21:00:57.219Z"
   },
   {
    "duration": 84,
    "start_time": "2021-12-29T21:01:04.540Z"
   },
   {
    "duration": 96,
    "start_time": "2021-12-29T21:01:10.228Z"
   },
   {
    "duration": 76,
    "start_time": "2021-12-29T21:01:12.100Z"
   },
   {
    "duration": 70,
    "start_time": "2021-12-29T21:02:04.089Z"
   },
   {
    "duration": 3,
    "start_time": "2021-12-29T21:02:13.742Z"
   },
   {
    "duration": 126,
    "start_time": "2021-12-29T21:02:33.014Z"
   },
   {
    "duration": 145,
    "start_time": "2021-12-29T21:03:16.049Z"
   },
   {
    "duration": 10,
    "start_time": "2021-12-29T21:04:12.113Z"
   },
   {
    "duration": 14,
    "start_time": "2021-12-29T21:04:14.327Z"
   },
   {
    "duration": 24,
    "start_time": "2021-12-29T21:04:22.712Z"
   },
   {
    "duration": 21,
    "start_time": "2021-12-29T21:04:25.448Z"
   },
   {
    "duration": 5,
    "start_time": "2021-12-29T21:04:28.185Z"
   },
   {
    "duration": 22,
    "start_time": "2021-12-29T21:04:30.831Z"
   },
   {
    "duration": 19,
    "start_time": "2021-12-29T21:04:33.306Z"
   },
   {
    "duration": 19,
    "start_time": "2021-12-29T21:04:35.353Z"
   },
   {
    "duration": 19,
    "start_time": "2021-12-29T21:04:37.359Z"
   },
   {
    "duration": 21,
    "start_time": "2021-12-29T21:04:39.391Z"
   },
   {
    "duration": 20,
    "start_time": "2021-12-29T21:04:41.161Z"
   },
   {
    "duration": 12,
    "start_time": "2021-12-29T21:04:45.922Z"
   },
   {
    "duration": 15,
    "start_time": "2021-12-29T21:04:55.092Z"
   },
   {
    "duration": 12,
    "start_time": "2021-12-29T21:04:56.795Z"
   },
   {
    "duration": 6,
    "start_time": "2021-12-29T21:04:58.800Z"
   },
   {
    "duration": 35,
    "start_time": "2021-12-29T21:05:21.146Z"
   },
   {
    "duration": 18,
    "start_time": "2021-12-29T21:05:23.560Z"
   },
   {
    "duration": 21,
    "start_time": "2021-12-29T21:05:27.275Z"
   },
   {
    "duration": 18,
    "start_time": "2021-12-29T21:05:32.208Z"
   },
   {
    "duration": 26,
    "start_time": "2021-12-29T21:06:17.345Z"
   },
   {
    "duration": 18,
    "start_time": "2021-12-29T21:06:19.562Z"
   },
   {
    "duration": 12,
    "start_time": "2021-12-29T21:06:41.971Z"
   },
   {
    "duration": 6,
    "start_time": "2021-12-29T21:06:44.146Z"
   },
   {
    "duration": 9,
    "start_time": "2021-12-29T21:06:46.417Z"
   },
   {
    "duration": 7,
    "start_time": "2021-12-29T21:06:48.842Z"
   },
   {
    "duration": 578,
    "start_time": "2021-12-30T05:56:55.410Z"
   },
   {
    "duration": 133,
    "start_time": "2021-12-30T05:56:55.991Z"
   },
   {
    "duration": 16,
    "start_time": "2021-12-30T05:56:56.127Z"
   },
   {
    "duration": 31,
    "start_time": "2021-12-30T05:56:56.145Z"
   },
   {
    "duration": 14,
    "start_time": "2021-12-30T05:56:56.178Z"
   },
   {
    "duration": 32,
    "start_time": "2021-12-30T05:56:56.194Z"
   },
   {
    "duration": 4,
    "start_time": "2021-12-30T05:56:56.228Z"
   },
   {
    "duration": 31,
    "start_time": "2021-12-30T05:56:56.233Z"
   },
   {
    "duration": 16,
    "start_time": "2021-12-30T05:56:56.267Z"
   },
   {
    "duration": 22,
    "start_time": "2021-12-30T05:56:56.291Z"
   },
   {
    "duration": 59,
    "start_time": "2021-12-30T05:56:56.315Z"
   },
   {
    "duration": 76,
    "start_time": "2021-12-30T05:56:56.375Z"
   },
   {
    "duration": 67,
    "start_time": "2021-12-30T05:56:56.453Z"
   },
   {
    "duration": 44,
    "start_time": "2021-12-30T05:56:56.522Z"
   },
   {
    "duration": 3,
    "start_time": "2021-12-30T05:56:56.568Z"
   },
   {
    "duration": 11,
    "start_time": "2021-12-30T05:56:56.592Z"
   },
   {
    "duration": 11,
    "start_time": "2021-12-30T05:56:56.605Z"
   },
   {
    "duration": 11,
    "start_time": "2021-12-30T05:56:56.617Z"
   },
   {
    "duration": 11,
    "start_time": "2021-12-30T05:56:56.630Z"
   },
   {
    "duration": 3,
    "start_time": "2021-12-30T05:56:56.642Z"
   },
   {
    "duration": 44,
    "start_time": "2021-12-30T05:56:56.647Z"
   },
   {
    "duration": 14,
    "start_time": "2021-12-30T05:56:56.693Z"
   },
   {
    "duration": 14,
    "start_time": "2021-12-30T05:56:56.709Z"
   },
   {
    "duration": 12,
    "start_time": "2021-12-30T05:56:56.724Z"
   },
   {
    "duration": 15,
    "start_time": "2021-12-30T05:56:56.737Z"
   },
   {
    "duration": 44,
    "start_time": "2021-12-30T05:56:56.754Z"
   },
   {
    "duration": 8,
    "start_time": "2021-12-30T05:56:56.801Z"
   },
   {
    "duration": 14,
    "start_time": "2021-12-30T05:56:56.811Z"
   },
   {
    "duration": 9,
    "start_time": "2021-12-30T05:56:56.826Z"
   },
   {
    "duration": 3,
    "start_time": "2021-12-30T05:56:56.837Z"
   },
   {
    "duration": 25,
    "start_time": "2021-12-30T05:56:56.842Z"
   },
   {
    "duration": 33,
    "start_time": "2021-12-30T05:56:56.868Z"
   },
   {
    "duration": 16,
    "start_time": "2021-12-30T05:56:56.902Z"
   },
   {
    "duration": 12,
    "start_time": "2021-12-30T05:56:56.920Z"
   },
   {
    "duration": 7,
    "start_time": "2021-12-30T05:56:56.933Z"
   },
   {
    "duration": 4,
    "start_time": "2021-12-30T05:56:56.942Z"
   },
   {
    "duration": 43,
    "start_time": "2021-12-30T05:56:56.948Z"
   },
   {
    "duration": 4,
    "start_time": "2021-12-30T05:56:56.993Z"
   },
   {
    "duration": 370,
    "start_time": "2023-11-28T20:14:07.760Z"
   },
   {
    "duration": 458,
    "start_time": "2023-11-28T20:14:10.330Z"
   },
   {
    "duration": 3,
    "start_time": "2023-11-28T20:14:21.844Z"
   },
   {
    "duration": 184,
    "start_time": "2023-11-28T20:14:21.848Z"
   },
   {
    "duration": 15,
    "start_time": "2023-11-28T20:14:22.034Z"
   },
   {
    "duration": 35,
    "start_time": "2023-11-28T20:14:22.051Z"
   },
   {
    "duration": 4,
    "start_time": "2023-11-28T20:14:22.088Z"
   },
   {
    "duration": 10,
    "start_time": "2023-11-28T20:14:22.094Z"
   },
   {
    "duration": 29,
    "start_time": "2023-11-28T20:14:22.105Z"
   },
   {
    "duration": 30,
    "start_time": "2023-11-28T20:14:22.136Z"
   },
   {
    "duration": 21,
    "start_time": "2023-11-28T20:14:22.168Z"
   },
   {
    "duration": 41,
    "start_time": "2023-11-28T20:14:22.190Z"
   },
   {
    "duration": 63,
    "start_time": "2023-11-28T20:14:22.233Z"
   },
   {
    "duration": 86,
    "start_time": "2023-11-28T20:14:22.297Z"
   },
   {
    "duration": 61,
    "start_time": "2023-11-28T20:14:22.385Z"
   },
   {
    "duration": 42,
    "start_time": "2023-11-28T20:14:22.448Z"
   },
   {
    "duration": 3,
    "start_time": "2023-11-28T20:14:22.492Z"
   },
   {
    "duration": 23,
    "start_time": "2023-11-28T20:14:22.496Z"
   },
   {
    "duration": 17,
    "start_time": "2023-11-28T20:14:22.520Z"
   },
   {
    "duration": 32,
    "start_time": "2023-11-28T20:14:22.539Z"
   },
   {
    "duration": 17,
    "start_time": "2023-11-28T20:14:22.572Z"
   },
   {
    "duration": 30,
    "start_time": "2023-11-28T20:14:22.591Z"
   },
   {
    "duration": 36,
    "start_time": "2023-11-28T20:14:22.623Z"
   },
   {
    "duration": 17,
    "start_time": "2023-11-28T20:14:22.660Z"
   },
   {
    "duration": 13,
    "start_time": "2023-11-28T20:14:22.679Z"
   },
   {
    "duration": 14,
    "start_time": "2023-11-28T20:14:22.694Z"
   },
   {
    "duration": 72,
    "start_time": "2023-11-28T20:14:22.710Z"
   },
   {
    "duration": 123,
    "start_time": "2023-11-28T20:14:22.784Z"
   },
   {
    "duration": 69,
    "start_time": "2023-11-28T20:14:22.909Z"
   },
   {
    "duration": 19,
    "start_time": "2023-11-28T20:14:22.980Z"
   },
   {
    "duration": 58,
    "start_time": "2023-11-28T20:14:23.002Z"
   },
   {
    "duration": 4,
    "start_time": "2023-11-28T20:14:23.061Z"
   },
   {
    "duration": 35,
    "start_time": "2023-11-28T20:14:23.067Z"
   },
   {
    "duration": 28,
    "start_time": "2023-11-28T20:14:23.104Z"
   },
   {
    "duration": 17,
    "start_time": "2023-11-28T20:14:23.133Z"
   },
   {
    "duration": 14,
    "start_time": "2023-11-28T20:14:23.152Z"
   },
   {
    "duration": 19,
    "start_time": "2023-11-28T20:14:23.168Z"
   },
   {
    "duration": 71,
    "start_time": "2023-11-28T20:14:23.188Z"
   },
   {
    "duration": 7,
    "start_time": "2023-11-28T20:14:23.261Z"
   },
   {
    "duration": 8,
    "start_time": "2023-11-28T20:14:23.269Z"
   }
  ],
  "colab": {
   "collapsed_sections": [
    "E0vqbgi9ay0H",
    "VUC88oWjTJw2"
   ],
   "name": "yandex_music_project_2021.2.ipynb",
   "provenance": []
  },
  "kernelspec": {
   "display_name": "Python 3",
   "language": "python",
   "name": "python3"
  },
  "language_info": {
   "codemirror_mode": {
    "name": "ipython",
    "version": 3
   },
   "file_extension": ".py",
   "mimetype": "text/x-python",
   "name": "python",
   "nbconvert_exporter": "python",
   "pygments_lexer": "ipython3",
   "version": "3.8.8"
  },
  "toc": {
   "base_numbering": 1,
   "nav_menu": {},
   "number_sections": false,
   "sideBar": true,
   "skip_h1_title": false,
   "title_cell": "Table of Contents",
   "title_sidebar": "Contents",
   "toc_cell": false,
   "toc_position": {
    "height": "calc(100% - 180px)",
    "left": "10px",
    "top": "150px",
    "width": "331.391px"
   },
   "toc_section_display": true,
   "toc_window_display": true
  }
 },
 "nbformat": 4,
 "nbformat_minor": 1
}
